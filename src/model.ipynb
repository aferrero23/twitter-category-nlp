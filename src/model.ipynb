{
  "nbformat": 4,
  "nbformat_minor": 0,
  "metadata": {
    "colab": {
      "name": "model.ipynb",
      "provenance": [],
      "toc_visible": true,
      "include_colab_link": true
    },
    "kernelspec": {
      "name": "python3",
      "display_name": "Python 3"
    },
    "language_info": {
      "name": "python"
    }
  },
  "cells": [
    {
      "cell_type": "markdown",
      "metadata": {
        "id": "view-in-github",
        "colab_type": "text"
      },
      "source": [
        "<a href=\"https://colab.research.google.com/github/alexferrero23/twitter-category-nlp/blob/develop/src/model.ipynb\" target=\"_parent\"><img src=\"https://colab.research.google.com/assets/colab-badge.svg\" alt=\"Open In Colab\"/></a>"
      ]
    },
    {
      "cell_type": "markdown",
      "source": [
        "# Best model search"
      ],
      "metadata": {
        "id": "LLIk3mSXaI1i"
      }
    },
    {
      "cell_type": "code",
      "execution_count": 1,
      "metadata": {
        "id": "RpzwykLeRpDT"
      },
      "outputs": [],
      "source": [
        "import pandas as pd\n",
        "import numpy as np\n",
        "import matplotlib.pyplot as plt\n",
        "from datetime import datetime\n",
        "import seaborn as sns\n",
        "import glob\n",
        "import re\n",
        "import io"
      ]
    },
    {
      "cell_type": "markdown",
      "source": [
        "## Import your file\n",
        "\n",
        "In order to start working, we have to import the file obtained from the notebook 'EDA.ipynb' in the same repository."
      ],
      "metadata": {
        "id": "BmAwlB2KR_bm"
      }
    },
    {
      "cell_type": "code",
      "source": [
        "from google.colab import files\n",
        "uploaded = files.upload()"
      ],
      "metadata": {
        "colab": {
          "resources": {
            "http://localhost:8080/nbextensions/google.colab/files.js": {
              "data": "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",
              "ok": true,
              "headers": [
                [
                  "content-type",
                  "application/javascript"
                ]
              ],
              "status": 200,
              "status_text": ""
            }
          },
          "base_uri": "https://localhost:8080/",
          "height": 73
        },
        "id": "WZAKjRKfbYo2",
        "outputId": "06579bd4-3ad3-4c3b-d859-5267bfb0dbcb"
      },
      "execution_count": 2,
      "outputs": [
        {
          "output_type": "display_data",
          "data": {
            "text/plain": [
              "<IPython.core.display.HTML object>"
            ],
            "text/html": [
              "\n",
              "     <input type=\"file\" id=\"files-420e21b7-60ca-4791-9056-d2cf2c01bd10\" name=\"files[]\" multiple disabled\n",
              "        style=\"border:none\" />\n",
              "     <output id=\"result-420e21b7-60ca-4791-9056-d2cf2c01bd10\">\n",
              "      Upload widget is only available when the cell has been executed in the\n",
              "      current browser session. Please rerun this cell to enable.\n",
              "      </output>\n",
              "      <script src=\"/nbextensions/google.colab/files.js\"></script> "
            ]
          },
          "metadata": {}
        },
        {
          "output_type": "stream",
          "name": "stdout",
          "text": [
            "Saving working_df (1).orc to working_df (1).orc\n"
          ]
        }
      ]
    },
    {
      "cell_type": "code",
      "source": [
        "import pyarrow.orc \n",
        "\n",
        "df_original = pd.read_orc('working_df (1).orc')"
      ],
      "metadata": {
        "id": "_0bI_Qs-bNiJ"
      },
      "execution_count": 3,
      "outputs": []
    },
    {
      "cell_type": "code",
      "source": [
        "df_original.head(5)"
      ],
      "metadata": {
        "colab": {
          "base_uri": "https://localhost:8080/",
          "height": 337
        },
        "id": "oCMGzUw0XRgV",
        "outputId": "d60924cf-bfe4-48a4-e6cd-3626dbbfa8a4"
      },
      "execution_count": 4,
      "outputs": [
        {
          "output_type": "execute_result",
          "data": {
            "text/plain": [
              "   username          created_at  \\\n",
              "0  RepAdams 2022-04-30 14:42:28   \n",
              "1  RepAdams 2022-04-29 16:40:17   \n",
              "2  RepAdams 2022-04-29 01:52:24   \n",
              "3  RepAdams 2022-04-25 15:38:45   \n",
              "4  RepAdams 2022-04-22 19:57:41   \n",
              "\n",
              "                                                text lang label  \\\n",
              "0  Today my thoughts are with the entire UNC Char...   en     D   \n",
              "1  Welcome to the next President of DavidsonColle...   en     D   \n",
              "2  This WorkersMemorialDay, we remember countless...   en     D   \n",
              "3  It’s a perfect date to celebrate the 40th Anni...   en     D   \n",
              "4  Happy National Volunteer Week!  Volunteers mak...   en     D   \n",
              "\n",
              "   retweet_count  favorite_count  length  \n",
              "0            3.0            17.0     263  \n",
              "1            1.0             0.0      62  \n",
              "2            2.0             3.0     262  \n",
              "3            3.0            29.0     163  \n",
              "4            2.0             6.0     182  "
            ],
            "text/html": [
              "\n",
              "  <div id=\"df-59206dc3-8ff1-4014-8e52-f6ee8b11fc3f\">\n",
              "    <div class=\"colab-df-container\">\n",
              "      <div>\n",
              "<style scoped>\n",
              "    .dataframe tbody tr th:only-of-type {\n",
              "        vertical-align: middle;\n",
              "    }\n",
              "\n",
              "    .dataframe tbody tr th {\n",
              "        vertical-align: top;\n",
              "    }\n",
              "\n",
              "    .dataframe thead th {\n",
              "        text-align: right;\n",
              "    }\n",
              "</style>\n",
              "<table border=\"1\" class=\"dataframe\">\n",
              "  <thead>\n",
              "    <tr style=\"text-align: right;\">\n",
              "      <th></th>\n",
              "      <th>username</th>\n",
              "      <th>created_at</th>\n",
              "      <th>text</th>\n",
              "      <th>lang</th>\n",
              "      <th>label</th>\n",
              "      <th>retweet_count</th>\n",
              "      <th>favorite_count</th>\n",
              "      <th>length</th>\n",
              "    </tr>\n",
              "  </thead>\n",
              "  <tbody>\n",
              "    <tr>\n",
              "      <th>0</th>\n",
              "      <td>RepAdams</td>\n",
              "      <td>2022-04-30 14:42:28</td>\n",
              "      <td>Today my thoughts are with the entire UNC Char...</td>\n",
              "      <td>en</td>\n",
              "      <td>D</td>\n",
              "      <td>3.0</td>\n",
              "      <td>17.0</td>\n",
              "      <td>263</td>\n",
              "    </tr>\n",
              "    <tr>\n",
              "      <th>1</th>\n",
              "      <td>RepAdams</td>\n",
              "      <td>2022-04-29 16:40:17</td>\n",
              "      <td>Welcome to the next President of DavidsonColle...</td>\n",
              "      <td>en</td>\n",
              "      <td>D</td>\n",
              "      <td>1.0</td>\n",
              "      <td>0.0</td>\n",
              "      <td>62</td>\n",
              "    </tr>\n",
              "    <tr>\n",
              "      <th>2</th>\n",
              "      <td>RepAdams</td>\n",
              "      <td>2022-04-29 01:52:24</td>\n",
              "      <td>This WorkersMemorialDay, we remember countless...</td>\n",
              "      <td>en</td>\n",
              "      <td>D</td>\n",
              "      <td>2.0</td>\n",
              "      <td>3.0</td>\n",
              "      <td>262</td>\n",
              "    </tr>\n",
              "    <tr>\n",
              "      <th>3</th>\n",
              "      <td>RepAdams</td>\n",
              "      <td>2022-04-25 15:38:45</td>\n",
              "      <td>It’s a perfect date to celebrate the 40th Anni...</td>\n",
              "      <td>en</td>\n",
              "      <td>D</td>\n",
              "      <td>3.0</td>\n",
              "      <td>29.0</td>\n",
              "      <td>163</td>\n",
              "    </tr>\n",
              "    <tr>\n",
              "      <th>4</th>\n",
              "      <td>RepAdams</td>\n",
              "      <td>2022-04-22 19:57:41</td>\n",
              "      <td>Happy National Volunteer Week!  Volunteers mak...</td>\n",
              "      <td>en</td>\n",
              "      <td>D</td>\n",
              "      <td>2.0</td>\n",
              "      <td>6.0</td>\n",
              "      <td>182</td>\n",
              "    </tr>\n",
              "  </tbody>\n",
              "</table>\n",
              "</div>\n",
              "      <button class=\"colab-df-convert\" onclick=\"convertToInteractive('df-59206dc3-8ff1-4014-8e52-f6ee8b11fc3f')\"\n",
              "              title=\"Convert this dataframe to an interactive table.\"\n",
              "              style=\"display:none;\">\n",
              "        \n",
              "  <svg xmlns=\"http://www.w3.org/2000/svg\" height=\"24px\"viewBox=\"0 0 24 24\"\n",
              "       width=\"24px\">\n",
              "    <path d=\"M0 0h24v24H0V0z\" fill=\"none\"/>\n",
              "    <path d=\"M18.56 5.44l.94 2.06.94-2.06 2.06-.94-2.06-.94-.94-2.06-.94 2.06-2.06.94zm-11 1L8.5 8.5l.94-2.06 2.06-.94-2.06-.94L8.5 2.5l-.94 2.06-2.06.94zm10 10l.94 2.06.94-2.06 2.06-.94-2.06-.94-.94-2.06-.94 2.06-2.06.94z\"/><path d=\"M17.41 7.96l-1.37-1.37c-.4-.4-.92-.59-1.43-.59-.52 0-1.04.2-1.43.59L10.3 9.45l-7.72 7.72c-.78.78-.78 2.05 0 2.83L4 21.41c.39.39.9.59 1.41.59.51 0 1.02-.2 1.41-.59l7.78-7.78 2.81-2.81c.8-.78.8-2.07 0-2.86zM5.41 20L4 18.59l7.72-7.72 1.47 1.35L5.41 20z\"/>\n",
              "  </svg>\n",
              "      </button>\n",
              "      \n",
              "  <style>\n",
              "    .colab-df-container {\n",
              "      display:flex;\n",
              "      flex-wrap:wrap;\n",
              "      gap: 12px;\n",
              "    }\n",
              "\n",
              "    .colab-df-convert {\n",
              "      background-color: #E8F0FE;\n",
              "      border: none;\n",
              "      border-radius: 50%;\n",
              "      cursor: pointer;\n",
              "      display: none;\n",
              "      fill: #1967D2;\n",
              "      height: 32px;\n",
              "      padding: 0 0 0 0;\n",
              "      width: 32px;\n",
              "    }\n",
              "\n",
              "    .colab-df-convert:hover {\n",
              "      background-color: #E2EBFA;\n",
              "      box-shadow: 0px 1px 2px rgba(60, 64, 67, 0.3), 0px 1px 3px 1px rgba(60, 64, 67, 0.15);\n",
              "      fill: #174EA6;\n",
              "    }\n",
              "\n",
              "    [theme=dark] .colab-df-convert {\n",
              "      background-color: #3B4455;\n",
              "      fill: #D2E3FC;\n",
              "    }\n",
              "\n",
              "    [theme=dark] .colab-df-convert:hover {\n",
              "      background-color: #434B5C;\n",
              "      box-shadow: 0px 1px 3px 1px rgba(0, 0, 0, 0.15);\n",
              "      filter: drop-shadow(0px 1px 2px rgba(0, 0, 0, 0.3));\n",
              "      fill: #FFFFFF;\n",
              "    }\n",
              "  </style>\n",
              "\n",
              "      <script>\n",
              "        const buttonEl =\n",
              "          document.querySelector('#df-59206dc3-8ff1-4014-8e52-f6ee8b11fc3f button.colab-df-convert');\n",
              "        buttonEl.style.display =\n",
              "          google.colab.kernel.accessAllowed ? 'block' : 'none';\n",
              "\n",
              "        async function convertToInteractive(key) {\n",
              "          const element = document.querySelector('#df-59206dc3-8ff1-4014-8e52-f6ee8b11fc3f');\n",
              "          const dataTable =\n",
              "            await google.colab.kernel.invokeFunction('convertToInteractive',\n",
              "                                                     [key], {});\n",
              "          if (!dataTable) return;\n",
              "\n",
              "          const docLinkHtml = 'Like what you see? Visit the ' +\n",
              "            '<a target=\"_blank\" href=https://colab.research.google.com/notebooks/data_table.ipynb>data table notebook</a>'\n",
              "            + ' to learn more about interactive tables.';\n",
              "          element.innerHTML = '';\n",
              "          dataTable['output_type'] = 'display_data';\n",
              "          await google.colab.output.renderOutput(dataTable, element);\n",
              "          const docLink = document.createElement('div');\n",
              "          docLink.innerHTML = docLinkHtml;\n",
              "          element.appendChild(docLink);\n",
              "        }\n",
              "      </script>\n",
              "    </div>\n",
              "  </div>\n",
              "  "
            ]
          },
          "metadata": {},
          "execution_count": 4
        }
      ]
    },
    {
      "cell_type": "markdown",
      "source": [
        "We are going to use a subset of the dataframe for two reasons: First, models take too much time to fit (unless you are using a huge and expensive machine, which is not my case) and secondly, it seems that more data doesn't lead to better results. At the end of this notebook there will be a more accurate explanation of this.\n",
        "\n"
      ],
      "metadata": {
        "id": "aW_quoJxEREX"
      }
    },
    {
      "cell_type": "code",
      "source": [
        "from sklearn.utils import shuffle\n",
        "df_d = shuffle(df_original[df_original['label']=='D'])[:10000]\n",
        "df_r = shuffle(df_original[df_original['label']=='R'])[:10000]\n",
        "df = df_d.append(df_r, ignore_index=True)"
      ],
      "metadata": {
        "id": "gFAUeQcj-siW"
      },
      "execution_count": 5,
      "outputs": []
    },
    {
      "cell_type": "markdown",
      "source": [
        "## Model preprocesing\n",
        "\n",
        "Before we start trying out models, we need to make some transformation in the data.\n",
        "First, let's create a column with a list of words from tweets.\n",
        "Library nltk contains two methods really usefull for this step:\n",
        "\n",
        " - stopwords returns a dictionary with useless words for our model.\n",
        " - TweetTokenizer allows us to convert the stream of words into small  tokens"
      ],
      "metadata": {
        "id": "5SD8V5uOA1xs"
      }
    },
    {
      "cell_type": "code",
      "source": [
        "import nltk\n",
        "from nltk.tokenize import TweetTokenizer\n",
        "from nltk.corpus import stopwords\n",
        "nltk.download('stopwords')\n",
        "stop=list(stopwords.words('english'))\n",
        "import string\n",
        "stop.extend(('&amp;', '-', '…', '’', '“', '—', '”', 'amp'))\n",
        "\n",
        "def create_corpus_column(tweet):\n",
        "    tokenizer = TweetTokenizer(preserve_case=False, strip_handles=True,\n",
        "                               reduce_len=True)\n",
        "    cleaned_corpus = []\n",
        "    corpus = tokenizer.tokenize(tweet)\n",
        "    for word in corpus:\n",
        "        if (word not in stop) and (word not in string.punctuation):\n",
        "             cleaned_corpus.append(word)\n",
        "    return cleaned_corpus"
      ],
      "metadata": {
        "colab": {
          "base_uri": "https://localhost:8080/"
        },
        "id": "3SJ3CNBiUqYm",
        "outputId": "4c40ffe2-0b1d-45c9-ae56-3a7cd7ee931f"
      },
      "execution_count": 6,
      "outputs": [
        {
          "output_type": "stream",
          "name": "stdout",
          "text": [
            "[nltk_data] Downloading package stopwords to /root/nltk_data...\n",
            "[nltk_data]   Unzipping corpora/stopwords.zip.\n"
          ]
        }
      ]
    },
    {
      "cell_type": "code",
      "source": [
        "df['text_corpus'] = df['text'].apply(create_corpus_column)"
      ],
      "metadata": {
        "id": "9nnJsvYxXZmA"
      },
      "execution_count": 7,
      "outputs": []
    },
    {
      "cell_type": "code",
      "source": [
        "df.head(5)"
      ],
      "metadata": {
        "colab": {
          "base_uri": "https://localhost:8080/",
          "height": 563
        },
        "id": "m9gLcaXoZN21",
        "outputId": "e5becc28-2f74-456e-d9a5-b419b294443d"
      },
      "execution_count": 8,
      "outputs": [
        {
          "output_type": "execute_result",
          "data": {
            "text/plain": [
              "          username          created_at  \\\n",
              "0   SenJeffMerkley 2022-01-16 22:13:00   \n",
              "1  RepDianaDeGette 2020-08-25 15:28:10   \n",
              "2         timkaine 2017-09-06 22:24:19   \n",
              "3         timkaine 2020-12-15 00:00:22   \n",
              "4   JoshGottheimer 2019-08-09 14:36:27   \n",
              "\n",
              "                                                text lang label  \\\n",
              "0  Honored to meet with OfficialMLK3 and ArndreaK...   en     D   \n",
              "1  Methane is 80x more potent than CO2 &amp; a le...   en     D   \n",
              "2  Praying for everyone in the path of Hurricane ...   en     D   \n",
              "3  While not perfect, this compromise delivers fa...   en     D   \n",
              "4  Safety and security in our places of worship a...   en     D   \n",
              "\n",
              "   retweet_count  favorite_count  length  \\\n",
              "0           75.0           293.0     278   \n",
              "1           16.0            27.0     285   \n",
              "2          533.0          2698.0     139   \n",
              "3           31.0           223.0     278   \n",
              "4            1.0             3.0     134   \n",
              "\n",
              "                                         text_corpus  \n",
              "0  [honored, meet, officialmlk, 3, arndreaking, w...  \n",
              "1  [methane, 80x, potent, co2, leading, cause, gl...  \n",
              "2  [praying, everyone, path, hurricane, irma, ple...  \n",
              "3  [perfect, compromise, delivers, far, overdue, ...  \n",
              "4  [safety, security, places, worship, bedrock, a...  "
            ],
            "text/html": [
              "\n",
              "  <div id=\"df-63a49d16-d04c-439f-a3d6-199342f0de7d\">\n",
              "    <div class=\"colab-df-container\">\n",
              "      <div>\n",
              "<style scoped>\n",
              "    .dataframe tbody tr th:only-of-type {\n",
              "        vertical-align: middle;\n",
              "    }\n",
              "\n",
              "    .dataframe tbody tr th {\n",
              "        vertical-align: top;\n",
              "    }\n",
              "\n",
              "    .dataframe thead th {\n",
              "        text-align: right;\n",
              "    }\n",
              "</style>\n",
              "<table border=\"1\" class=\"dataframe\">\n",
              "  <thead>\n",
              "    <tr style=\"text-align: right;\">\n",
              "      <th></th>\n",
              "      <th>username</th>\n",
              "      <th>created_at</th>\n",
              "      <th>text</th>\n",
              "      <th>lang</th>\n",
              "      <th>label</th>\n",
              "      <th>retweet_count</th>\n",
              "      <th>favorite_count</th>\n",
              "      <th>length</th>\n",
              "      <th>text_corpus</th>\n",
              "    </tr>\n",
              "  </thead>\n",
              "  <tbody>\n",
              "    <tr>\n",
              "      <th>0</th>\n",
              "      <td>SenJeffMerkley</td>\n",
              "      <td>2022-01-16 22:13:00</td>\n",
              "      <td>Honored to meet with OfficialMLK3 and ArndreaK...</td>\n",
              "      <td>en</td>\n",
              "      <td>D</td>\n",
              "      <td>75.0</td>\n",
              "      <td>293.0</td>\n",
              "      <td>278</td>\n",
              "      <td>[honored, meet, officialmlk, 3, arndreaking, w...</td>\n",
              "    </tr>\n",
              "    <tr>\n",
              "      <th>1</th>\n",
              "      <td>RepDianaDeGette</td>\n",
              "      <td>2020-08-25 15:28:10</td>\n",
              "      <td>Methane is 80x more potent than CO2 &amp;amp; a le...</td>\n",
              "      <td>en</td>\n",
              "      <td>D</td>\n",
              "      <td>16.0</td>\n",
              "      <td>27.0</td>\n",
              "      <td>285</td>\n",
              "      <td>[methane, 80x, potent, co2, leading, cause, gl...</td>\n",
              "    </tr>\n",
              "    <tr>\n",
              "      <th>2</th>\n",
              "      <td>timkaine</td>\n",
              "      <td>2017-09-06 22:24:19</td>\n",
              "      <td>Praying for everyone in the path of Hurricane ...</td>\n",
              "      <td>en</td>\n",
              "      <td>D</td>\n",
              "      <td>533.0</td>\n",
              "      <td>2698.0</td>\n",
              "      <td>139</td>\n",
              "      <td>[praying, everyone, path, hurricane, irma, ple...</td>\n",
              "    </tr>\n",
              "    <tr>\n",
              "      <th>3</th>\n",
              "      <td>timkaine</td>\n",
              "      <td>2020-12-15 00:00:22</td>\n",
              "      <td>While not perfect, this compromise delivers fa...</td>\n",
              "      <td>en</td>\n",
              "      <td>D</td>\n",
              "      <td>31.0</td>\n",
              "      <td>223.0</td>\n",
              "      <td>278</td>\n",
              "      <td>[perfect, compromise, delivers, far, overdue, ...</td>\n",
              "    </tr>\n",
              "    <tr>\n",
              "      <th>4</th>\n",
              "      <td>JoshGottheimer</td>\n",
              "      <td>2019-08-09 14:36:27</td>\n",
              "      <td>Safety and security in our places of worship a...</td>\n",
              "      <td>en</td>\n",
              "      <td>D</td>\n",
              "      <td>1.0</td>\n",
              "      <td>3.0</td>\n",
              "      <td>134</td>\n",
              "      <td>[safety, security, places, worship, bedrock, a...</td>\n",
              "    </tr>\n",
              "  </tbody>\n",
              "</table>\n",
              "</div>\n",
              "      <button class=\"colab-df-convert\" onclick=\"convertToInteractive('df-63a49d16-d04c-439f-a3d6-199342f0de7d')\"\n",
              "              title=\"Convert this dataframe to an interactive table.\"\n",
              "              style=\"display:none;\">\n",
              "        \n",
              "  <svg xmlns=\"http://www.w3.org/2000/svg\" height=\"24px\"viewBox=\"0 0 24 24\"\n",
              "       width=\"24px\">\n",
              "    <path d=\"M0 0h24v24H0V0z\" fill=\"none\"/>\n",
              "    <path d=\"M18.56 5.44l.94 2.06.94-2.06 2.06-.94-2.06-.94-.94-2.06-.94 2.06-2.06.94zm-11 1L8.5 8.5l.94-2.06 2.06-.94-2.06-.94L8.5 2.5l-.94 2.06-2.06.94zm10 10l.94 2.06.94-2.06 2.06-.94-2.06-.94-.94-2.06-.94 2.06-2.06.94z\"/><path d=\"M17.41 7.96l-1.37-1.37c-.4-.4-.92-.59-1.43-.59-.52 0-1.04.2-1.43.59L10.3 9.45l-7.72 7.72c-.78.78-.78 2.05 0 2.83L4 21.41c.39.39.9.59 1.41.59.51 0 1.02-.2 1.41-.59l7.78-7.78 2.81-2.81c.8-.78.8-2.07 0-2.86zM5.41 20L4 18.59l7.72-7.72 1.47 1.35L5.41 20z\"/>\n",
              "  </svg>\n",
              "      </button>\n",
              "      \n",
              "  <style>\n",
              "    .colab-df-container {\n",
              "      display:flex;\n",
              "      flex-wrap:wrap;\n",
              "      gap: 12px;\n",
              "    }\n",
              "\n",
              "    .colab-df-convert {\n",
              "      background-color: #E8F0FE;\n",
              "      border: none;\n",
              "      border-radius: 50%;\n",
              "      cursor: pointer;\n",
              "      display: none;\n",
              "      fill: #1967D2;\n",
              "      height: 32px;\n",
              "      padding: 0 0 0 0;\n",
              "      width: 32px;\n",
              "    }\n",
              "\n",
              "    .colab-df-convert:hover {\n",
              "      background-color: #E2EBFA;\n",
              "      box-shadow: 0px 1px 2px rgba(60, 64, 67, 0.3), 0px 1px 3px 1px rgba(60, 64, 67, 0.15);\n",
              "      fill: #174EA6;\n",
              "    }\n",
              "\n",
              "    [theme=dark] .colab-df-convert {\n",
              "      background-color: #3B4455;\n",
              "      fill: #D2E3FC;\n",
              "    }\n",
              "\n",
              "    [theme=dark] .colab-df-convert:hover {\n",
              "      background-color: #434B5C;\n",
              "      box-shadow: 0px 1px 3px 1px rgba(0, 0, 0, 0.15);\n",
              "      filter: drop-shadow(0px 1px 2px rgba(0, 0, 0, 0.3));\n",
              "      fill: #FFFFFF;\n",
              "    }\n",
              "  </style>\n",
              "\n",
              "      <script>\n",
              "        const buttonEl =\n",
              "          document.querySelector('#df-63a49d16-d04c-439f-a3d6-199342f0de7d button.colab-df-convert');\n",
              "        buttonEl.style.display =\n",
              "          google.colab.kernel.accessAllowed ? 'block' : 'none';\n",
              "\n",
              "        async function convertToInteractive(key) {\n",
              "          const element = document.querySelector('#df-63a49d16-d04c-439f-a3d6-199342f0de7d');\n",
              "          const dataTable =\n",
              "            await google.colab.kernel.invokeFunction('convertToInteractive',\n",
              "                                                     [key], {});\n",
              "          if (!dataTable) return;\n",
              "\n",
              "          const docLinkHtml = 'Like what you see? Visit the ' +\n",
              "            '<a target=\"_blank\" href=https://colab.research.google.com/notebooks/data_table.ipynb>data table notebook</a>'\n",
              "            + ' to learn more about interactive tables.';\n",
              "          element.innerHTML = '';\n",
              "          dataTable['output_type'] = 'display_data';\n",
              "          await google.colab.output.renderOutput(dataTable, element);\n",
              "          const docLink = document.createElement('div');\n",
              "          docLink.innerHTML = docLinkHtml;\n",
              "          element.appendChild(docLink);\n",
              "        }\n",
              "      </script>\n",
              "    </div>\n",
              "  </div>\n",
              "  "
            ]
          },
          "metadata": {},
          "execution_count": 8
        }
      ]
    },
    {
      "cell_type": "markdown",
      "source": [
        "### Cosine similarity\n",
        "\n",
        "A very good exercise we can do now is check correlation between the two groups. As we are analyzing tweets from the same topic, it's evident that this correlation is going to be really big. Firstly, we unnest the column text_corpus.\n",
        "\n",
        "\n"
      ],
      "metadata": {
        "id": "n4F7p76ABFzY"
      }
    },
    {
      "cell_type": "code",
      "source": [
        "df_tidy = df.explode(column='text_corpus')\n",
        "df_tidy = df_tidy.drop(columns='text')\n",
        "df_tidy.head(3)"
      ],
      "metadata": {
        "colab": {
          "base_uri": "https://localhost:8080/",
          "height": 143
        },
        "id": "2gJomwcMRszd",
        "outputId": "27cf5b1a-cf88-4748-a2d5-222abbec6a27"
      },
      "execution_count": 9,
      "outputs": [
        {
          "output_type": "execute_result",
          "data": {
            "text/plain": [
              "         username          created_at lang label  retweet_count  \\\n",
              "0  SenJeffMerkley 2022-01-16 22:13:00   en     D           75.0   \n",
              "0  SenJeffMerkley 2022-01-16 22:13:00   en     D           75.0   \n",
              "0  SenJeffMerkley 2022-01-16 22:13:00   en     D           75.0   \n",
              "\n",
              "   favorite_count  length  text_corpus  \n",
              "0           293.0     278      honored  \n",
              "0           293.0     278         meet  \n",
              "0           293.0     278  officialmlk  "
            ],
            "text/html": [
              "\n",
              "  <div id=\"df-9c92ccca-dc26-4ea6-b6c9-af4895325545\">\n",
              "    <div class=\"colab-df-container\">\n",
              "      <div>\n",
              "<style scoped>\n",
              "    .dataframe tbody tr th:only-of-type {\n",
              "        vertical-align: middle;\n",
              "    }\n",
              "\n",
              "    .dataframe tbody tr th {\n",
              "        vertical-align: top;\n",
              "    }\n",
              "\n",
              "    .dataframe thead th {\n",
              "        text-align: right;\n",
              "    }\n",
              "</style>\n",
              "<table border=\"1\" class=\"dataframe\">\n",
              "  <thead>\n",
              "    <tr style=\"text-align: right;\">\n",
              "      <th></th>\n",
              "      <th>username</th>\n",
              "      <th>created_at</th>\n",
              "      <th>lang</th>\n",
              "      <th>label</th>\n",
              "      <th>retweet_count</th>\n",
              "      <th>favorite_count</th>\n",
              "      <th>length</th>\n",
              "      <th>text_corpus</th>\n",
              "    </tr>\n",
              "  </thead>\n",
              "  <tbody>\n",
              "    <tr>\n",
              "      <th>0</th>\n",
              "      <td>SenJeffMerkley</td>\n",
              "      <td>2022-01-16 22:13:00</td>\n",
              "      <td>en</td>\n",
              "      <td>D</td>\n",
              "      <td>75.0</td>\n",
              "      <td>293.0</td>\n",
              "      <td>278</td>\n",
              "      <td>honored</td>\n",
              "    </tr>\n",
              "    <tr>\n",
              "      <th>0</th>\n",
              "      <td>SenJeffMerkley</td>\n",
              "      <td>2022-01-16 22:13:00</td>\n",
              "      <td>en</td>\n",
              "      <td>D</td>\n",
              "      <td>75.0</td>\n",
              "      <td>293.0</td>\n",
              "      <td>278</td>\n",
              "      <td>meet</td>\n",
              "    </tr>\n",
              "    <tr>\n",
              "      <th>0</th>\n",
              "      <td>SenJeffMerkley</td>\n",
              "      <td>2022-01-16 22:13:00</td>\n",
              "      <td>en</td>\n",
              "      <td>D</td>\n",
              "      <td>75.0</td>\n",
              "      <td>293.0</td>\n",
              "      <td>278</td>\n",
              "      <td>officialmlk</td>\n",
              "    </tr>\n",
              "  </tbody>\n",
              "</table>\n",
              "</div>\n",
              "      <button class=\"colab-df-convert\" onclick=\"convertToInteractive('df-9c92ccca-dc26-4ea6-b6c9-af4895325545')\"\n",
              "              title=\"Convert this dataframe to an interactive table.\"\n",
              "              style=\"display:none;\">\n",
              "        \n",
              "  <svg xmlns=\"http://www.w3.org/2000/svg\" height=\"24px\"viewBox=\"0 0 24 24\"\n",
              "       width=\"24px\">\n",
              "    <path d=\"M0 0h24v24H0V0z\" fill=\"none\"/>\n",
              "    <path d=\"M18.56 5.44l.94 2.06.94-2.06 2.06-.94-2.06-.94-.94-2.06-.94 2.06-2.06.94zm-11 1L8.5 8.5l.94-2.06 2.06-.94-2.06-.94L8.5 2.5l-.94 2.06-2.06.94zm10 10l.94 2.06.94-2.06 2.06-.94-2.06-.94-.94-2.06-.94 2.06-2.06.94z\"/><path d=\"M17.41 7.96l-1.37-1.37c-.4-.4-.92-.59-1.43-.59-.52 0-1.04.2-1.43.59L10.3 9.45l-7.72 7.72c-.78.78-.78 2.05 0 2.83L4 21.41c.39.39.9.59 1.41.59.51 0 1.02-.2 1.41-.59l7.78-7.78 2.81-2.81c.8-.78.8-2.07 0-2.86zM5.41 20L4 18.59l7.72-7.72 1.47 1.35L5.41 20z\"/>\n",
              "  </svg>\n",
              "      </button>\n",
              "      \n",
              "  <style>\n",
              "    .colab-df-container {\n",
              "      display:flex;\n",
              "      flex-wrap:wrap;\n",
              "      gap: 12px;\n",
              "    }\n",
              "\n",
              "    .colab-df-convert {\n",
              "      background-color: #E8F0FE;\n",
              "      border: none;\n",
              "      border-radius: 50%;\n",
              "      cursor: pointer;\n",
              "      display: none;\n",
              "      fill: #1967D2;\n",
              "      height: 32px;\n",
              "      padding: 0 0 0 0;\n",
              "      width: 32px;\n",
              "    }\n",
              "\n",
              "    .colab-df-convert:hover {\n",
              "      background-color: #E2EBFA;\n",
              "      box-shadow: 0px 1px 2px rgba(60, 64, 67, 0.3), 0px 1px 3px 1px rgba(60, 64, 67, 0.15);\n",
              "      fill: #174EA6;\n",
              "    }\n",
              "\n",
              "    [theme=dark] .colab-df-convert {\n",
              "      background-color: #3B4455;\n",
              "      fill: #D2E3FC;\n",
              "    }\n",
              "\n",
              "    [theme=dark] .colab-df-convert:hover {\n",
              "      background-color: #434B5C;\n",
              "      box-shadow: 0px 1px 3px 1px rgba(0, 0, 0, 0.15);\n",
              "      filter: drop-shadow(0px 1px 2px rgba(0, 0, 0, 0.3));\n",
              "      fill: #FFFFFF;\n",
              "    }\n",
              "  </style>\n",
              "\n",
              "      <script>\n",
              "        const buttonEl =\n",
              "          document.querySelector('#df-9c92ccca-dc26-4ea6-b6c9-af4895325545 button.colab-df-convert');\n",
              "        buttonEl.style.display =\n",
              "          google.colab.kernel.accessAllowed ? 'block' : 'none';\n",
              "\n",
              "        async function convertToInteractive(key) {\n",
              "          const element = document.querySelector('#df-9c92ccca-dc26-4ea6-b6c9-af4895325545');\n",
              "          const dataTable =\n",
              "            await google.colab.kernel.invokeFunction('convertToInteractive',\n",
              "                                                     [key], {});\n",
              "          if (!dataTable) return;\n",
              "\n",
              "          const docLinkHtml = 'Like what you see? Visit the ' +\n",
              "            '<a target=\"_blank\" href=https://colab.research.google.com/notebooks/data_table.ipynb>data table notebook</a>'\n",
              "            + ' to learn more about interactive tables.';\n",
              "          element.innerHTML = '';\n",
              "          dataTable['output_type'] = 'display_data';\n",
              "          await google.colab.output.renderOutput(dataTable, element);\n",
              "          const docLink = document.createElement('div');\n",
              "          docLink.innerHTML = docLinkHtml;\n",
              "          element.appendChild(docLink);\n",
              "        }\n",
              "      </script>\n",
              "    </div>\n",
              "  </div>\n",
              "  "
            ]
          },
          "metadata": {},
          "execution_count": 9
        }
      ]
    },
    {
      "cell_type": "code",
      "source": [
        "# Data pivot by label\n",
        "df_pivot = df_tidy.groupby([\"label\",\"text_corpus\"])[\"text_corpus\"] \\\n",
        "                .agg([\"count\"]).reset_index() \\\n",
        "                .pivot(index = \"text_corpus\" , columns=\"label\", values= \"count\")\n",
        "df_pivot.columns.name = None\n",
        "df_pivot.head(3)"
      ],
      "metadata": {
        "id": "r9JMMoH9Rs1f",
        "colab": {
          "base_uri": "https://localhost:8080/",
          "height": 175
        },
        "outputId": "0e72657a-dfde-4589-d86c-204d8d60840f"
      },
      "execution_count": 10,
      "outputs": [
        {
          "output_type": "execute_result",
          "data": {
            "text/plain": [
              "                  D    R\n",
              "text_corpus             \n",
              "(202) 224-3121  1.0  NaN\n",
              "(202) 225-3772  NaN  1.0\n",
              "(202) 225-5516  1.0  NaN"
            ],
            "text/html": [
              "\n",
              "  <div id=\"df-5a3f8ecf-e86f-4dec-a6c6-bad4e76e1075\">\n",
              "    <div class=\"colab-df-container\">\n",
              "      <div>\n",
              "<style scoped>\n",
              "    .dataframe tbody tr th:only-of-type {\n",
              "        vertical-align: middle;\n",
              "    }\n",
              "\n",
              "    .dataframe tbody tr th {\n",
              "        vertical-align: top;\n",
              "    }\n",
              "\n",
              "    .dataframe thead th {\n",
              "        text-align: right;\n",
              "    }\n",
              "</style>\n",
              "<table border=\"1\" class=\"dataframe\">\n",
              "  <thead>\n",
              "    <tr style=\"text-align: right;\">\n",
              "      <th></th>\n",
              "      <th>D</th>\n",
              "      <th>R</th>\n",
              "    </tr>\n",
              "    <tr>\n",
              "      <th>text_corpus</th>\n",
              "      <th></th>\n",
              "      <th></th>\n",
              "    </tr>\n",
              "  </thead>\n",
              "  <tbody>\n",
              "    <tr>\n",
              "      <th>(202) 224-3121</th>\n",
              "      <td>1.0</td>\n",
              "      <td>NaN</td>\n",
              "    </tr>\n",
              "    <tr>\n",
              "      <th>(202) 225-3772</th>\n",
              "      <td>NaN</td>\n",
              "      <td>1.0</td>\n",
              "    </tr>\n",
              "    <tr>\n",
              "      <th>(202) 225-5516</th>\n",
              "      <td>1.0</td>\n",
              "      <td>NaN</td>\n",
              "    </tr>\n",
              "  </tbody>\n",
              "</table>\n",
              "</div>\n",
              "      <button class=\"colab-df-convert\" onclick=\"convertToInteractive('df-5a3f8ecf-e86f-4dec-a6c6-bad4e76e1075')\"\n",
              "              title=\"Convert this dataframe to an interactive table.\"\n",
              "              style=\"display:none;\">\n",
              "        \n",
              "  <svg xmlns=\"http://www.w3.org/2000/svg\" height=\"24px\"viewBox=\"0 0 24 24\"\n",
              "       width=\"24px\">\n",
              "    <path d=\"M0 0h24v24H0V0z\" fill=\"none\"/>\n",
              "    <path d=\"M18.56 5.44l.94 2.06.94-2.06 2.06-.94-2.06-.94-.94-2.06-.94 2.06-2.06.94zm-11 1L8.5 8.5l.94-2.06 2.06-.94-2.06-.94L8.5 2.5l-.94 2.06-2.06.94zm10 10l.94 2.06.94-2.06 2.06-.94-2.06-.94-.94-2.06-.94 2.06-2.06.94z\"/><path d=\"M17.41 7.96l-1.37-1.37c-.4-.4-.92-.59-1.43-.59-.52 0-1.04.2-1.43.59L10.3 9.45l-7.72 7.72c-.78.78-.78 2.05 0 2.83L4 21.41c.39.39.9.59 1.41.59.51 0 1.02-.2 1.41-.59l7.78-7.78 2.81-2.81c.8-.78.8-2.07 0-2.86zM5.41 20L4 18.59l7.72-7.72 1.47 1.35L5.41 20z\"/>\n",
              "  </svg>\n",
              "      </button>\n",
              "      \n",
              "  <style>\n",
              "    .colab-df-container {\n",
              "      display:flex;\n",
              "      flex-wrap:wrap;\n",
              "      gap: 12px;\n",
              "    }\n",
              "\n",
              "    .colab-df-convert {\n",
              "      background-color: #E8F0FE;\n",
              "      border: none;\n",
              "      border-radius: 50%;\n",
              "      cursor: pointer;\n",
              "      display: none;\n",
              "      fill: #1967D2;\n",
              "      height: 32px;\n",
              "      padding: 0 0 0 0;\n",
              "      width: 32px;\n",
              "    }\n",
              "\n",
              "    .colab-df-convert:hover {\n",
              "      background-color: #E2EBFA;\n",
              "      box-shadow: 0px 1px 2px rgba(60, 64, 67, 0.3), 0px 1px 3px 1px rgba(60, 64, 67, 0.15);\n",
              "      fill: #174EA6;\n",
              "    }\n",
              "\n",
              "    [theme=dark] .colab-df-convert {\n",
              "      background-color: #3B4455;\n",
              "      fill: #D2E3FC;\n",
              "    }\n",
              "\n",
              "    [theme=dark] .colab-df-convert:hover {\n",
              "      background-color: #434B5C;\n",
              "      box-shadow: 0px 1px 3px 1px rgba(0, 0, 0, 0.15);\n",
              "      filter: drop-shadow(0px 1px 2px rgba(0, 0, 0, 0.3));\n",
              "      fill: #FFFFFF;\n",
              "    }\n",
              "  </style>\n",
              "\n",
              "      <script>\n",
              "        const buttonEl =\n",
              "          document.querySelector('#df-5a3f8ecf-e86f-4dec-a6c6-bad4e76e1075 button.colab-df-convert');\n",
              "        buttonEl.style.display =\n",
              "          google.colab.kernel.accessAllowed ? 'block' : 'none';\n",
              "\n",
              "        async function convertToInteractive(key) {\n",
              "          const element = document.querySelector('#df-5a3f8ecf-e86f-4dec-a6c6-bad4e76e1075');\n",
              "          const dataTable =\n",
              "            await google.colab.kernel.invokeFunction('convertToInteractive',\n",
              "                                                     [key], {});\n",
              "          if (!dataTable) return;\n",
              "\n",
              "          const docLinkHtml = 'Like what you see? Visit the ' +\n",
              "            '<a target=\"_blank\" href=https://colab.research.google.com/notebooks/data_table.ipynb>data table notebook</a>'\n",
              "            + ' to learn more about interactive tables.';\n",
              "          element.innerHTML = '';\n",
              "          dataTable['output_type'] = 'display_data';\n",
              "          await google.colab.output.renderOutput(dataTable, element);\n",
              "          const docLink = document.createElement('div');\n",
              "          docLink.innerHTML = docLinkHtml;\n",
              "          element.appendChild(docLink);\n",
              "        }\n",
              "      </script>\n",
              "    </div>\n",
              "  </div>\n",
              "  "
            ]
          },
          "metadata": {},
          "execution_count": 10
        }
      ]
    },
    {
      "cell_type": "markdown",
      "source": [
        "Most used similarity measure when working with text is 1 - cosine distance.\n"
      ],
      "metadata": {
        "id": "oUPdEgDzdptF"
      }
    },
    {
      "cell_type": "code",
      "source": [
        "from scipy.spatial.distance import cosine\n",
        "\n",
        "def consine_similarity(a,b):\n",
        "    distancia = cosine(a,b)\n",
        "    return 1-distancia\n",
        "\n",
        "df_pivot.corr(method=consine_similarity)"
      ],
      "metadata": {
        "colab": {
          "base_uri": "https://localhost:8080/",
          "height": 112
        },
        "id": "7pnKtkM6Rs3T",
        "outputId": "7c091e49-8240-4dd3-981f-4036b45c8bc1"
      },
      "execution_count": 11,
      "outputs": [
        {
          "output_type": "execute_result",
          "data": {
            "text/plain": [
              "          D         R\n",
              "D  1.000000  0.907236\n",
              "R  0.907236  1.000000"
            ],
            "text/html": [
              "\n",
              "  <div id=\"df-f1b93e33-63d4-44ab-97d9-111d3b450218\">\n",
              "    <div class=\"colab-df-container\">\n",
              "      <div>\n",
              "<style scoped>\n",
              "    .dataframe tbody tr th:only-of-type {\n",
              "        vertical-align: middle;\n",
              "    }\n",
              "\n",
              "    .dataframe tbody tr th {\n",
              "        vertical-align: top;\n",
              "    }\n",
              "\n",
              "    .dataframe thead th {\n",
              "        text-align: right;\n",
              "    }\n",
              "</style>\n",
              "<table border=\"1\" class=\"dataframe\">\n",
              "  <thead>\n",
              "    <tr style=\"text-align: right;\">\n",
              "      <th></th>\n",
              "      <th>D</th>\n",
              "      <th>R</th>\n",
              "    </tr>\n",
              "  </thead>\n",
              "  <tbody>\n",
              "    <tr>\n",
              "      <th>D</th>\n",
              "      <td>1.000000</td>\n",
              "      <td>0.907236</td>\n",
              "    </tr>\n",
              "    <tr>\n",
              "      <th>R</th>\n",
              "      <td>0.907236</td>\n",
              "      <td>1.000000</td>\n",
              "    </tr>\n",
              "  </tbody>\n",
              "</table>\n",
              "</div>\n",
              "      <button class=\"colab-df-convert\" onclick=\"convertToInteractive('df-f1b93e33-63d4-44ab-97d9-111d3b450218')\"\n",
              "              title=\"Convert this dataframe to an interactive table.\"\n",
              "              style=\"display:none;\">\n",
              "        \n",
              "  <svg xmlns=\"http://www.w3.org/2000/svg\" height=\"24px\"viewBox=\"0 0 24 24\"\n",
              "       width=\"24px\">\n",
              "    <path d=\"M0 0h24v24H0V0z\" fill=\"none\"/>\n",
              "    <path d=\"M18.56 5.44l.94 2.06.94-2.06 2.06-.94-2.06-.94-.94-2.06-.94 2.06-2.06.94zm-11 1L8.5 8.5l.94-2.06 2.06-.94-2.06-.94L8.5 2.5l-.94 2.06-2.06.94zm10 10l.94 2.06.94-2.06 2.06-.94-2.06-.94-.94-2.06-.94 2.06-2.06.94z\"/><path d=\"M17.41 7.96l-1.37-1.37c-.4-.4-.92-.59-1.43-.59-.52 0-1.04.2-1.43.59L10.3 9.45l-7.72 7.72c-.78.78-.78 2.05 0 2.83L4 21.41c.39.39.9.59 1.41.59.51 0 1.02-.2 1.41-.59l7.78-7.78 2.81-2.81c.8-.78.8-2.07 0-2.86zM5.41 20L4 18.59l7.72-7.72 1.47 1.35L5.41 20z\"/>\n",
              "  </svg>\n",
              "      </button>\n",
              "      \n",
              "  <style>\n",
              "    .colab-df-container {\n",
              "      display:flex;\n",
              "      flex-wrap:wrap;\n",
              "      gap: 12px;\n",
              "    }\n",
              "\n",
              "    .colab-df-convert {\n",
              "      background-color: #E8F0FE;\n",
              "      border: none;\n",
              "      border-radius: 50%;\n",
              "      cursor: pointer;\n",
              "      display: none;\n",
              "      fill: #1967D2;\n",
              "      height: 32px;\n",
              "      padding: 0 0 0 0;\n",
              "      width: 32px;\n",
              "    }\n",
              "\n",
              "    .colab-df-convert:hover {\n",
              "      background-color: #E2EBFA;\n",
              "      box-shadow: 0px 1px 2px rgba(60, 64, 67, 0.3), 0px 1px 3px 1px rgba(60, 64, 67, 0.15);\n",
              "      fill: #174EA6;\n",
              "    }\n",
              "\n",
              "    [theme=dark] .colab-df-convert {\n",
              "      background-color: #3B4455;\n",
              "      fill: #D2E3FC;\n",
              "    }\n",
              "\n",
              "    [theme=dark] .colab-df-convert:hover {\n",
              "      background-color: #434B5C;\n",
              "      box-shadow: 0px 1px 3px 1px rgba(0, 0, 0, 0.15);\n",
              "      filter: drop-shadow(0px 1px 2px rgba(0, 0, 0, 0.3));\n",
              "      fill: #FFFFFF;\n",
              "    }\n",
              "  </style>\n",
              "\n",
              "      <script>\n",
              "        const buttonEl =\n",
              "          document.querySelector('#df-f1b93e33-63d4-44ab-97d9-111d3b450218 button.colab-df-convert');\n",
              "        buttonEl.style.display =\n",
              "          google.colab.kernel.accessAllowed ? 'block' : 'none';\n",
              "\n",
              "        async function convertToInteractive(key) {\n",
              "          const element = document.querySelector('#df-f1b93e33-63d4-44ab-97d9-111d3b450218');\n",
              "          const dataTable =\n",
              "            await google.colab.kernel.invokeFunction('convertToInteractive',\n",
              "                                                     [key], {});\n",
              "          if (!dataTable) return;\n",
              "\n",
              "          const docLinkHtml = 'Like what you see? Visit the ' +\n",
              "            '<a target=\"_blank\" href=https://colab.research.google.com/notebooks/data_table.ipynb>data table notebook</a>'\n",
              "            + ' to learn more about interactive tables.';\n",
              "          element.innerHTML = '';\n",
              "          dataTable['output_type'] = 'display_data';\n",
              "          await google.colab.output.renderOutput(dataTable, element);\n",
              "          const docLink = document.createElement('div');\n",
              "          docLink.innerHTML = docLinkHtml;\n",
              "          element.appendChild(docLink);\n",
              "        }\n",
              "      </script>\n",
              "    </div>\n",
              "  </div>\n",
              "  "
            ]
          },
          "metadata": {},
          "execution_count": 11
        }
      ]
    },
    {
      "cell_type": "markdown",
      "source": [
        "Results are as we expected. This is actually really bad news, if there is a big correlation between both groups, its gonna be really difficult to say whether a tweet tends to be republican or democrat\n"
      ],
      "metadata": {
        "id": "EMpdMeeOeExF"
      }
    },
    {
      "cell_type": "markdown",
      "source": [
        "### Feature extraction\n",
        "\n",
        "For the feature extraction, I'm gonna use Tf-idf (Term frequency – Inverse document frequency). The goal is weighing words by how frequent they are in our dataset, discounting words that are too frequent, as they just add to the noise.\n",
        "- Term Frequency: This summarizes how often a given word appears within a document.\n",
        "- Inverse Document Frequency: This downscales words that appear a lot across documents.\n",
        "\n",
        "For model purposes, lets change label from letters to numbers: R -> 0 and D -> 1:\n"
      ],
      "metadata": {
        "id": "b650w9FHh1nI"
      }
    },
    {
      "cell_type": "code",
      "source": [
        "df['label_number'] = df['label'].apply(lambda x: 0 if x == 'R' else 1)"
      ],
      "metadata": {
        "id": "bqwWwpJNxef3"
      },
      "execution_count": 12,
      "outputs": []
    },
    {
      "cell_type": "markdown",
      "source": [
        "Let's do a train-test split making sure that the proportion in both sets is equivalent."
      ],
      "metadata": {
        "id": "Bk9-a7s8fLxh"
      }
    },
    {
      "cell_type": "code",
      "source": [
        "from sklearn.model_selection import train_test_split\n",
        "\n",
        "datos_X = df.text\n",
        "datos_y = df.label_number\n",
        "\n",
        "X_train, X_test, y_train, y_test = train_test_split(\n",
        "    datos_X,\n",
        "    datos_y,\n",
        "    test_size = 0.2,\n",
        "    random_state = 123\n",
        "    \n",
        ")"
      ],
      "metadata": {
        "id": "QyZ94d3ERs9z"
      },
      "execution_count": 13,
      "outputs": []
    },
    {
      "cell_type": "code",
      "source": [
        "value, counts = np.unique(y_train, return_counts=True)\n",
        "print(dict(zip(value, 100 * counts / sum(counts))))\n",
        "value, counts = np.unique(y_test, return_counts=True)\n",
        "print(dict(zip(value, 100 * counts / sum(counts))))"
      ],
      "metadata": {
        "colab": {
          "base_uri": "https://localhost:8080/"
        },
        "id": "c4X0hW65RtAR",
        "outputId": "8c832243-fa2d-4d11-9a53-a3078c81f74f"
      },
      "execution_count": 14,
      "outputs": [
        {
          "output_type": "stream",
          "name": "stdout",
          "text": [
            "{0: 49.90625, 1: 50.09375}\n",
            "{0: 50.375, 1: 49.625}\n"
          ]
        }
      ]
    },
    {
      "cell_type": "markdown",
      "source": [
        "Now, we are going to create the matrix of TF-IDF features:"
      ],
      "metadata": {
        "id": "b_arynxNfXJF"
      }
    },
    {
      "cell_type": "code",
      "source": [
        "#Tf-idf matrix\n",
        "from sklearn.feature_extraction.text import TfidfVectorizer\n",
        "\n",
        "def tokenize(tweet):\n",
        "    tokenizer = TweetTokenizer(preserve_case=False, strip_handles=True,\n",
        "                               reduce_len=True)\n",
        "    corpus = tokenizer.tokenize(tweet)\n",
        "    return corpus\n",
        "\n",
        "vectorizer  = TfidfVectorizer(\n",
        "                        tokenizer  = tokenize,\n",
        "                        min_df     = 5 #might change\n",
        "                    )\n",
        "vectorizer.fit(X_train)"
      ],
      "metadata": {
        "colab": {
          "base_uri": "https://localhost:8080/"
        },
        "id": "5hk9SpOQjgz3",
        "outputId": "d5b6131c-ad12-49fe-b57d-f93d9de8cdc8"
      },
      "execution_count": 15,
      "outputs": [
        {
          "output_type": "stream",
          "name": "stderr",
          "text": [
            "/usr/local/lib/python3.7/dist-packages/sklearn/feature_extraction/text.py:517: UserWarning: The parameter 'token_pattern' will not be used since 'tokenizer' is not None'\n",
            "  \"The parameter 'token_pattern' will not be used\"\n"
          ]
        },
        {
          "output_type": "execute_result",
          "data": {
            "text/plain": [
              "TfidfVectorizer(min_df=5, tokenizer=<function tokenize at 0x7fdf3c1d0f80>)"
            ]
          },
          "metadata": {},
          "execution_count": 15
        }
      ]
    },
    {
      "cell_type": "code",
      "source": [
        "vectorizer.vocabulary_"
      ],
      "metadata": {
        "id": "Nt6QH-4UgAjG",
        "outputId": "d0e53bde-c548-4def-bd2a-72232971f9f1",
        "colab": {
          "base_uri": "https://localhost:8080/"
        }
      },
      "execution_count": 16,
      "outputs": [
        {
          "output_type": "execute_result",
          "data": {
            "text/plain": [
              "{'happy': 2762,\n",
              " 'birthday': 858,\n",
              " 'to': 5920,\n",
              " 'the': 5845,\n",
              " 'incredible': 3104,\n",
              " 'mrs': 3886,\n",
              " '.': 15,\n",
              " 'carter': 1056,\n",
              " ',': 11,\n",
              " 'a': 265,\n",
              " 'former': 2473,\n",
              " 'first': 2399,\n",
              " 'lady': 3402,\n",
              " 'plains': 4407,\n",
              " 'ga': 2552,\n",
              " 'native': 3933,\n",
              " '&': 4,\n",
              " 'pioneer': 4394,\n",
              " 'for': 2457,\n",
              " 'mental': 3740,\n",
              " 'health': 2808,\n",
              " 'human': 2976,\n",
              " 'rights': 5048,\n",
              " 'wotus': 6539,\n",
              " 'mo': 3824,\n",
              " 'roundtable': 5097,\n",
              " 'is': 3239,\n",
              " 'happening': 2758,\n",
              " 'now': 4043,\n",
              " '!': 0,\n",
              " 'thx': 5900,\n",
              " 'invite': 3221,\n",
              " 'may': 3695,\n",
              " '10th': 51,\n",
              " 'want': 6350,\n",
              " 'learn': 3447,\n",
              " 'more': 3857,\n",
              " 'about': 278,\n",
              " '?': 260,\n",
              " 'visit': 6308,\n",
              " 'you': 6580,\n",
              " 'better': 825,\n",
              " 'believe': 803,\n",
              " 'can': 1009,\n",
              " 'afford': 395,\n",
              " 'pay': 4309,\n",
              " 'all': 459,\n",
              " 'of': 4088,\n",
              " 'its': 3256,\n",
              " 'workers': 6522,\n",
              " 'at': 654,\n",
              " 'least': 3451,\n",
              " '$': 2,\n",
              " '15': 71,\n",
              " 'an': 513,\n",
              " 'hour': 2946,\n",
              " \"i'm\": 3001,\n",
              " 'live': 3537,\n",
              " 'with': 6490,\n",
              " 'who': 6448,\n",
              " 'are': 599,\n",
              " 'today': 5921,\n",
              " 'dignity': 1800,\n",
              " 'on': 4118,\n",
              " 'job': 3286,\n",
              " 'congratulations': 1384,\n",
              " '-': 12,\n",
              " 'grader': 2655,\n",
              " 'area': 600,\n",
              " 'hs': 2970,\n",
              " 'winning': 6480,\n",
              " 'place': 4402,\n",
              " 'in': 3077,\n",
              " '15th': 73,\n",
              " 'district': 1856,\n",
              " 'congressional': 1386,\n",
              " 'art': 624,\n",
              " 'contest': 1430,\n",
              " 'independent': 3107,\n",
              " 'panel': 4249,\n",
              " 'selected': 5247,\n",
              " 'her': 2839,\n",
              " 'drawing': 1913,\n",
              " '\"': 1,\n",
              " 'self': 5249,\n",
              " 'top': 5939,\n",
              " 'prize': 4572,\n",
              " 'out': 4188,\n",
              " '68': 209,\n",
              " 'every': 2159,\n",
              " 'person': 4359,\n",
              " 'should': 5362,\n",
              " 'have': 2788,\n",
              " 'access': 302,\n",
              " 'ballot': 735,\n",
              " 'box': 912,\n",
              " ';': 257,\n",
              " 'it': 3253,\n",
              " '’': 6604,\n",
              " 's': 5122,\n",
              " 'our': 4185,\n",
              " 'democracy': 1704,\n",
              " 'critical': 1540,\n",
              " 'legislation': 3467,\n",
              " \"shouldn't\": 5365,\n",
              " 'be': 771,\n",
              " 'by': 984,\n",
              " 'filibuster': 2369,\n",
              " 'senate': 5258,\n",
              " 'must': 3910,\n",
              " 'recognize': 4790,\n",
              " 'urgency': 6184,\n",
              " 'this': 5873,\n",
              " 'moment': 3835,\n",
              " 'and': 515,\n",
              " 'pass': 4281,\n",
              " 'john': 3292,\n",
              " 'r': 4712,\n",
              " 'lewis': 3487,\n",
              " 'voting': 6326,\n",
              " 'advancement': 375,\n",
              " 'act': 326,\n",
              " 'heartbroken': 2818,\n",
              " 'sudden': 5673,\n",
              " 'passing': 4286,\n",
              " 'sheriff': 5343,\n",
              " 'glenn': 2611,\n",
              " 'smith': 5438,\n",
              " 'he': 2798,\n",
              " 'dedicated': 1655,\n",
              " 'his': 2879,\n",
              " 'life': 3502,\n",
              " 'serving': 5309,\n",
              " 'community': 1320,\n",
              " 'co': 1248,\n",
              " 'please': 4425,\n",
              " 'join': 3296,\n",
              " 'me': 3704,\n",
              " 'praying': 4495,\n",
              " 'family': 2291,\n",
              " 'friends': 2516,\n",
              " \"we're\": 6393,\n",
              " 'couple': 1501,\n",
              " 'hours': 2947,\n",
              " 'away': 707,\n",
              " 'from': 2518,\n",
              " 'next': 3996,\n",
              " 'teletown': 5799,\n",
              " 'hall': 2738,\n",
              " 'listen': 3531,\n",
              " 'website': 6409,\n",
              " 'check': 1142,\n",
              " 'here': 2840,\n",
              " ':': 256,\n",
              " 'i': 2998,\n",
              " 'vp': 6329,\n",
              " 'pence': 4329,\n",
              " 'that': 5843,\n",
              " 'current': 1571,\n",
              " 'formula': 2475,\n",
              " 'being': 800,\n",
              " 'used': 6202,\n",
              " 'hhs': 2851,\n",
              " 'distribute': 1852,\n",
              " 'cares': 1044,\n",
              " 'funding': 2539,\n",
              " 'does': 1871,\n",
              " 'not': 4038,\n",
              " 'factor': 2264,\n",
              " 'rural': 5112,\n",
              " 'medicaid': 3719,\n",
              " 'patients': 4297,\n",
              " 'leaves': 3453,\n",
              " 'healthcare': 2809,\n",
              " 'providers': 4658,\n",
              " 'across': 325,\n",
              " 'west': 6431,\n",
              " 'virginia': 6297,\n",
              " 'without': 6496,\n",
              " 'resources': 4975,\n",
              " 'they': 5862,\n",
              " 'need': 3962,\n",
              " '100th': 46,\n",
              " '–': 6601,\n",
              " 'm': 3606,\n",
              " 'sure': 5699,\n",
              " 'one': 4121,\n",
              " 'very': 6259,\n",
              " 'different': 1795,\n",
              " 'than': 5835,\n",
              " 'last': 3418,\n",
              " '99': 249,\n",
              " 'but': 980,\n",
              " 'hope': 2923,\n",
              " 'get': 2591,\n",
              " 'virtually': 6302,\n",
              " 'celebrate': 1081,\n",
              " 'too': 5935,\n",
              " 'been': 788,\n",
              " 'asking': 637,\n",
              " 'why': 6455,\n",
              " 'china': 1162,\n",
              " \"america's\": 496,\n",
              " 'my': 3912,\n",
              " 'recent': 4782,\n",
              " 'op-ed': 4129,\n",
              " 'exact': 2170,\n",
              " 'topic': 5940,\n",
              " 'facebook': 2255,\n",
              " 'new': 3988,\n",
              " 'ads': 370,\n",
              " 'policy': 4442,\n",
              " 'allows': 471,\n",
              " 'politicians': 4445,\n",
              " 'run': 5109,\n",
              " 'false': 2286,\n",
              " 'platform': 4417,\n",
              " 'don': 1882,\n",
              " 't': 5735,\n",
              " 'think': 5869,\n",
              " 'right': 5045,\n",
              " 'night': 4002,\n",
              " 'sent': 5287,\n",
              " 'letter': 3481,\n",
              " 'mark': 3659,\n",
              " 'calling': 1001,\n",
              " 'reverse': 5020,\n",
              " 'decision': 1645,\n",
              " 'time': 5909,\n",
              " 'us': 6189,\n",
              " 'take': 5742,\n",
              " 'lead': 3439,\n",
              " 'solve': 5465,\n",
              " 'semiconductor': 5255,\n",
              " 'chip': 1165,\n",
              " 'shortage': 5357,\n",
              " 'havoc': 2792,\n",
              " 'auto': 693,\n",
              " 'industry': 3115,\n",
              " 'ramping': 4731,\n",
              " 'up': 6165,\n",
              " 'production': 4591,\n",
              " 'chips': 1166,\n",
              " 'america': 495,\n",
              " 'latest': 3422,\n",
              " '👇': 6654,\n",
              " 'fact': 2263,\n",
              " 'opposite': 4155,\n",
              " 'day': 1614,\n",
              " 'ayotte': 711,\n",
              " 'ad': 342,\n",
              " 'falsely': 2287,\n",
              " 'claims': 1203,\n",
              " 'real': 4762,\n",
              " 'washington': 6370,\n",
              " 'record': 4799,\n",
              " 'bill': 844,\n",
              " 'expedite': 2208,\n",
              " 'airport': 440,\n",
              " 'infrastructure': 3129,\n",
              " 'projects': 4610,\n",
              " 'passes': 4285,\n",
              " 'u': 6087,\n",
              " 'house': 2948,\n",
              " 'incentivizing': 3084,\n",
              " 'early': 1948,\n",
              " 'completion': 1341,\n",
              " 'will': 6467,\n",
              " 'help': 2833,\n",
              " 'ensure': 2084,\n",
              " 'airports': 441,\n",
              " 'tools': 5938,\n",
              " 'necessary': 3958,\n",
              " 'avoid': 701,\n",
              " 'delayed': 1685,\n",
              " 'service': 5305,\n",
              " 'improvement': 3073,\n",
              " 'completed': 1338,\n",
              " 'faster': 2311,\n",
              " '(': 6,\n",
              " '1/3': 37,\n",
              " ')': 7,\n",
              " 'leading': 3444,\n",
              " 'subcommittee': 5653,\n",
              " 'examine': 2172,\n",
              " 'how': 2962,\n",
              " 'fema': 2346,\n",
              " 'preparing': 4512,\n",
              " 'disasters': 1818,\n",
              " 'contracting': 1436,\n",
              " 'process': 4584,\n",
              " 'minnesota': 3787,\n",
              " 'veterans': 6263,\n",
              " 'thank': 5836,\n",
              " 'your': 6585,\n",
              " 'sacrifice': 5126,\n",
              " 'we': 6391,\n",
              " 'grateful': 2672,\n",
              " 'visited': 6309,\n",
              " 'mn': 3820,\n",
              " 'home': 2902,\n",
              " 'hear': 2812,\n",
              " 'work': 6519,\n",
              " 'provide': 4655,\n",
              " 'care': 1038,\n",
              " 'because': 781,\n",
              " 'most': 3865,\n",
              " 'solemn': 5460,\n",
              " 'duties': 1938,\n",
              " 'folks': 2449,\n",
              " 'serve': 5302,\n",
              " 'armed': 612,\n",
              " 'forces': 2460,\n",
              " 'what': 6435,\n",
              " 'great': 2676,\n",
              " 'idea': 3015,\n",
              " 'responders': 4979,\n",
              " 'continued': 1432,\n",
              " 'show': 5366,\n",
              " 'throughout': 5895,\n",
              " 'pandemic': 4247,\n",
              " 'wonderful': 6513,\n",
              " 'see': 5233,\n",
              " 'came': 1003,\n",
              " 'together': 5924,\n",
              " 'support': 5690,\n",
              " 'them': 5853,\n",
              " 'president': 4526,\n",
              " 'trump': 6044,\n",
              " 'leader': 3440,\n",
              " 'mcconnell': 3701,\n",
              " 'offered': 4091,\n",
              " 'americans': 504,\n",
              " 'weak': 6395,\n",
              " 'proposals': 4628,\n",
              " 'fail': 2268,\n",
              " 'deliver': 1692,\n",
              " 'justiceinpolicing': 3329,\n",
              " 'window': 6476,\n",
              " 'change': 1123,\n",
              " 'cnnnewsroom': 1245,\n",
              " 'fiscal': 2404,\n",
              " 'crisis': 1539,\n",
              " 'republican': 4944,\n",
              " 'obstruction': 4076,\n",
              " 'toward': 5956,\n",
              " 'catastrophe': 1064,\n",
              " 'raising': 4727,\n",
              " 'debt': 1637,\n",
              " 'limit': 3516,\n",
              " 'democrats': 1707,\n",
              " 'eliminate': 2006,\n",
              " 'raise': 4723,\n",
              " 'ceiling': 1080,\n",
              " '“': 6605,\n",
              " 'eyes': 2250,\n",
              " 'world': 6528,\n",
              " 'upon': 6178,\n",
              " 'hopes': 2926,\n",
              " 'prayers': 4494,\n",
              " 'people': 4338,\n",
              " 'everywhere': 2165,\n",
              " 'march': 3648,\n",
              " '”': 6606,\n",
              " 'anniversary': 526,\n",
              " 'dday': 1620,\n",
              " 'remember': 4872,\n",
              " 'those': 5877,\n",
              " 'sacrificed': 5127,\n",
              " 'everything': 2163,\n",
              " 'changed': 1124,\n",
              " 'course': 1505,\n",
              " 'history': 2886,\n",
              " 'forever': 2467,\n",
              " '🇺': 6640,\n",
              " '🇸': 6639,\n",
              " 'honored': 2916,\n",
              " 'leadership': 3443,\n",
              " 'team': 5781,\n",
              " 'communications': 1316,\n",
              " 'so': 5442,\n",
              " 'case': 1057,\n",
              " 'directly': 1809,\n",
              " 'american': 499,\n",
              " 'staying': 5577,\n",
              " 'united': 6142,\n",
              " 'confident': 1369,\n",
              " 'follow': 2450,\n",
              " 'through': 5894,\n",
              " 'commitment': 1308,\n",
              " 'yesterday': 6573,\n",
              " 'was': 6367,\n",
              " 'historic': 2883,\n",
              " 'as': 631,\n",
              " 'told': 5926,\n",
              " 'lawrence': 3433,\n",
              " 'kamalaharris': 3338,\n",
              " 'going': 2623,\n",
              " 'candidate': 1018,\n",
              " 'importantly': 3065,\n",
              " 'vice': 6271,\n",
              " 'joebiden': 3291,\n",
              " 'bringing': 943,\n",
              " 'compassion': 1326,\n",
              " 'back': 718,\n",
              " 'white': 6446,\n",
              " '2day': 140,\n",
              " 'approved': 590,\n",
              " '4': 165,\n",
              " 'bills': 848,\n",
              " 'crack': 1517,\n",
              " 'down': 1904,\n",
              " 'drug': 1932,\n",
              " 'company': 1324,\n",
              " 'abusive': 291,\n",
              " 'behavior': 796,\n",
              " 'keep': 3345,\n",
              " 'prices': 4548,\n",
              " 'high': 2857,\n",
              " 'sponsor': 5518,\n",
              " '/': 18,\n",
              " 'cosponsor': 1475,\n",
              " 'these': 5861,\n",
              " 'bipartisan': 853,\n",
              " 'improve': 3071,\n",
              " 'just': 3327,\n",
              " 'like': 3514,\n",
              " 'comprehensive': 1348,\n",
              " 'rx': 5120,\n",
              " 'w': 6334,\n",
              " 'takes': 5745,\n",
              " 'center': 1090,\n",
              " 'stage': 5543,\n",
              " 'parade': 4251,\n",
              " 'breakfast': 926,\n",
              " 'enjoying': 2076,\n",
              " 'big': 837,\n",
              " 'game': 2561,\n",
              " 'congrats': 1381,\n",
              " 'am': 487,\n",
              " 'guest': 2713,\n",
              " 'speaker': 5497,\n",
              " 'freshman': 2512,\n",
              " 'working': 6524,\n",
              " 'group': 2699,\n",
              " 'addiction': 348,\n",
              " 'tomorrow': 5930,\n",
              " 'sharing': 5336,\n",
              " 'shame': 5326,\n",
              " 'stigma': 5592,\n",
              " 'chronic': 1179,\n",
              " 'disease': 1831,\n",
              " 'minimum': 3785,\n",
              " 'wage': 6337,\n",
              " 'extend': 2238,\n",
              " 'child': 1156,\n",
              " 'tax': 5766,\n",
              " 'credit': 1529,\n",
              " 'no': 4011,\n",
              " 'has': 2781,\n",
              " 'poverty': 4479,\n",
              " 'potus': 4477,\n",
              " 'past': 4291,\n",
              " 'raisethewage': 4726,\n",
              " 'childtaxcredit': 1161,\n",
              " 'make': 3627,\n",
              " 'affordable': 397,\n",
              " 'sotu': 5478,\n",
              " 'senkamalaharris': 5280,\n",
              " 'standing': 5553,\n",
              " 'dreamers': 1915,\n",
              " '2': 88,\n",
              " 'brave': 919,\n",
              " 'declared': 1651,\n",
              " 'texas': 5833,\n",
              " 'free': 2506,\n",
              " 'sovereign': 5490,\n",
              " 'republic': 4943,\n",
              " 'nearly': 3955,\n",
              " 'two': 6074,\n",
              " 'centuries': 1094,\n",
              " 'later': 3421,\n",
              " 'texans': 5832,\n",
              " 'still': 5593,\n",
              " 'proud': 4649,\n",
              " 'call': 999,\n",
              " 'state': 5563,\n",
              " 'seeking': 5237,\n",
              " 'freedom': 2507,\n",
              " 'liberty': 3494,\n",
              " 'icymi': 3011,\n",
              " 'week': 6412,\n",
              " 'joined': 3297,\n",
              " 'project': 4608,\n",
              " 'expand': 2200,\n",
              " 'broadband': 947,\n",
              " 'residents': 4965,\n",
              " 'reliable': 4857,\n",
              " 'high-speed': 2859,\n",
              " 'essential': 2127,\n",
              " 'excellent': 2177,\n",
              " 'cover': 1509,\n",
              " 'video': 6276,\n",
              " 'page': 4243,\n",
              " 'had': 2733,\n",
              " 'conversation': 1450,\n",
              " 'city': 1195,\n",
              " 'manager': 3634,\n",
              " 'afternoon': 407,\n",
              " 'small': 5430,\n",
              " 'business': 977,\n",
              " 'elected': 1995,\n",
              " 'officials': 4100,\n",
              " 'town': 5958,\n",
              " 'delaware': 1683,\n",
              " 'tour': 5950,\n",
              " 'hill': 2872,\n",
              " 'congress': 1385,\n",
              " 'cosponsored': 1476,\n",
              " 'craft': 1518,\n",
              " 'modernization': 3830,\n",
              " 'lower': 3593,\n",
              " 'rates': 4742,\n",
              " 'ny19': 4058,\n",
              " '🧵': 6684,\n",
              " 'near': 3954,\n",
              " 'memorial': 3734,\n",
              " 'arlington': 611,\n",
              " 'national': 3925,\n",
              " 'cemetery': 1086,\n",
              " 'fallen': 2283,\n",
              " 'navy': 3945,\n",
              " 'seal': 5211,\n",
              " 'lost': 3579,\n",
              " 'afghanistan': 399,\n",
              " 'parents': 4255,\n",
              " 'were': 6428,\n",
              " 'leaders': 3442,\n",
              " 'ca': 986,\n",
              " 'important': 3064,\n",
              " 'tx': 6075,\n",
              " 'businesses': 978,\n",
              " 'sbagov': 5174,\n",
              " 'offering': 4092,\n",
              " 'assistance': 646,\n",
              " 'non-profits': 4022,\n",
              " 'impacted': 3049,\n",
              " 'lots': 3581,\n",
              " 'covid': 1514,\n",
              " 'info': 3125,\n",
              " 'announced': 528,\n",
              " 'including': 3092,\n",
              " 'vaccines': 6234,\n",
              " 'expansion': 2204,\n",
              " 'vaccine': 6233,\n",
              " 'eligibility': 2004,\n",
              " 'action': 329,\n",
              " 'rescue': 4959,\n",
              " 'plan': 4408,\n",
              " 'vaccination': 6231,\n",
              " 'site': 5410,\n",
              " 'florida': 2436,\n",
              " 'unemployment': 6124,\n",
              " 'continues': 1433,\n",
              " 'drop': 1926,\n",
              " 'haven': 2789,\n",
              " 'seen': 5241,\n",
              " 'over': 4206,\n",
              " '10': 41,\n",
              " 'years': 6570,\n",
              " 'reducing': 4812,\n",
              " 'regulations': 4841,\n",
              " 'cutting': 1579,\n",
              " 'taxes': 5771,\n",
              " 'welcomed': 6419,\n",
              " 'boom': 895,\n",
              " 'creators': 1528,\n",
              " 'investing': 3215,\n",
              " 'nationalparkweek': 3928,\n",
              " 'pleased': 4426,\n",
              " \"nation's\": 3924,\n",
              " 'natural': 3936,\n",
              " 'north': 4033,\n",
              " 'park': 4258,\n",
              " \"what's\": 6436,\n",
              " 'favorite': 2318,\n",
              " 'officer': 4095,\n",
              " 'defended': 1666,\n",
              " 'capitol': 1030,\n",
              " 'inside': 3152,\n",
              " 'deserving': 1741,\n",
              " 'such': 5672,\n",
              " 'honor': 2913,\n",
              " 'three': 5890,\n",
              " 'heroes': 2844,\n",
              " 'chamber': 1115,\n",
              " 'helped': 2834,\n",
              " 'masks': 3677,\n",
              " 'led': 3455,\n",
              " 'clear': 1216,\n",
              " 'path': 4294,\n",
              " 'safety': 5138,\n",
              " 'wish': 6487,\n",
              " 'knew': 3378,\n",
              " 'their': 5851,\n",
              " 'names': 3918,\n",
              " 'could': 1483,\n",
              " \"president's\": 4527,\n",
              " 'withdrawal': 6492,\n",
              " 'leads': 3445,\n",
              " 'fight': 2360,\n",
              " 'against': 410,\n",
              " '19': 80,\n",
              " 'extraordinary': 2245,\n",
              " 'again': 409,\n",
              " 'others': 4182,\n",
              " 'refuses': 4827,\n",
              " 'responsibility': 4985,\n",
              " 'only': 4126,\n",
              " 'coordinated': 1460,\n",
              " 'global': 2612,\n",
              " 'response': 4982,\n",
              " 'defeat': 1663,\n",
              " 'virus': 6303,\n",
              " 'hawaii': 2794,\n",
              " 'way': 6386,\n",
              " 'transitioning': 6000,\n",
              " 'sustainable': 5714,\n",
              " 'energy': 2059,\n",
              " 'future': 2546,\n",
              " 'opening': 4134,\n",
              " 'solar': 5455,\n",
              " 'partnership': 4276,\n",
              " 'between': 828,\n",
              " 'military': 3774,\n",
              " 'helping': 2836,\n",
              " 'hi': 2853,\n",
              " 'achieve': 317,\n",
              " 'renewable': 4888,\n",
              " 'goals': 2619,\n",
              " 'while': 6443,\n",
              " 'improving': 3076,\n",
              " 'security': 5231,\n",
              " 'leadermcconnell': 3441,\n",
              " 'talks': 5753,\n",
              " 'economy': 1966,\n",
              " 'impeachment': 3055,\n",
              " 'inquiry': 3149,\n",
              " 'nancy': 3919,\n",
              " 'pelosi': 4326,\n",
              " 'chairman': 1110,\n",
              " 'adam': 344,\n",
              " 'schiff': 5188,\n",
              " 'behind': 798,\n",
              " 'closed': 1232,\n",
              " 'doors': 1895,\n",
              " 'left': 3457,\n",
              " 'dark': 1604,\n",
              " \"don't\": 1883,\n",
              " 'let': 3477,\n",
              " 'language': 3412,\n",
              " 'union': 6136,\n",
              " 'address': 352,\n",
              " 'facts': 2266,\n",
              " 'joe': 3290,\n",
              " 'biden': 832,\n",
              " 'never': 3985,\n",
              " 'acted': 327,\n",
              " 'best': 823,\n",
              " \"isn't\": 3245,\n",
              " \"he's\": 2800,\n",
              " \"biden's\": 833,\n",
              " 'agenda': 415,\n",
              " '✅': 6623,\n",
              " 'middle': 3760,\n",
              " 'class': 1206,\n",
              " 'cut': 1577,\n",
              " 'climate': 1223,\n",
              " 'buildbackbetteract': 964,\n",
              " 'fully': 2533,\n",
              " 'cuts': 1578,\n",
              " 'rich': 5036,\n",
              " 'corporations': 1470,\n",
              " 'rest': 4988,\n",
              " 'politics': 4446,\n",
              " 'since': 5402,\n",
              " 'reagan': 4761,\n",
              " 'due': 1936,\n",
              " 'devastating': 1769,\n",
              " 'aftermath': 406,\n",
              " '9/11': 241,\n",
              " 'professional': 4595,\n",
              " 'football': 2456,\n",
              " 'pat': 4293,\n",
              " 'decided': 1644,\n",
              " 'quit': 4710,\n",
              " 'instead': 3163,\n",
              " 'defend': 1665,\n",
              " 'country': 1495,\n",
              " 'otd': 4180,\n",
              " 'hero': 2843,\n",
              " 'born': 904,\n",
              " 'arizona': 606,\n",
              " 'forget': 2468,\n",
              " 'nation': 3923,\n",
              " 'excited': 2182,\n",
              " 'sign': 5385,\n",
              " 'always': 485,\n",
              " 'love': 3586,\n",
              " 'seeing': 5234,\n",
              " 'beautiful': 778,\n",
              " 'beloved': 809,\n",
              " '🌎': 6642,\n",
              " 'looking': 3567,\n",
              " 'forward': 2482,\n",
              " 'hearing': 2814,\n",
              " 'rebuild': 4774,\n",
              " 'tonight': 5932,\n",
              " 'optimistic': 4159,\n",
              " 'accomplish': 306,\n",
              " 'when': 6438,\n",
              " 'put': 4690,\n",
              " 'aside': 634,\n",
              " 'focus': 2445,\n",
              " 'lives': 3540,\n",
              " \"it's\": 3254,\n",
              " 'truly': 6043,\n",
              " 'lucky': 3598,\n",
              " 'once': 4119,\n",
              " 'realdonaldtrump': 4763,\n",
              " 'proved': 4652,\n",
              " 'things': 5868,\n",
              " 'himself': 2876,\n",
              " 'money': 3840,\n",
              " 'so-called': 5443,\n",
              " 'certainly': 1100,\n",
              " 'or': 4162,\n",
              " 'him': 2875,\n",
              " 'would': 6540,\n",
              " 'difficult': 1796,\n",
              " 'hurricane': 2987,\n",
              " 'devastation': 1770,\n",
              " 'lake': 3405,\n",
              " 'charles': 1136,\n",
              " 'spent': 5511,\n",
              " 'making': 3629,\n",
              " 'certain': 1099,\n",
              " 'whitehouse': 6447,\n",
              " 'staff': 5540,\n",
              " 'understand': 6115,\n",
              " 'witnessed': 6498,\n",
              " 'also': 480,\n",
              " 'experienced': 2213,\n",
              " 'other': 4181,\n",
              " 'morning': 3859,\n",
              " 'east': 1957,\n",
              " 'rotary': 5093,\n",
              " 'discussing': 1828,\n",
              " 'transportation': 6004,\n",
              " 'flood': 2432,\n",
              " 'insurance': 3170,\n",
              " 'frustration': 2523,\n",
              " 'federal': 2331,\n",
              " 'winter': 6482,\n",
              " '️': 6633,\n",
              " 'comment': 1300,\n",
              " 'below': 810,\n",
              " 'activity': 336,\n",
              " 'news': 3993,\n",
              " 'tuesday': 6057,\n",
              " 'seanhannity': 5212,\n",
              " 'radio': 4718,\n",
              " 'around': 616,\n",
              " '4:30': 179,\n",
              " 'pm': 4431,\n",
              " '—': 6602,\n",
              " 'tune': 6059,\n",
              " 'coalition': 1256,\n",
              " 'lawmakers': 3432,\n",
              " 'sending': 5273,\n",
              " 'message': 3747,\n",
              " 'hold': 2892,\n",
              " 'iran': 3230,\n",
              " 'accountable': 313,\n",
              " 'restrictions': 4998,\n",
              " 'nuclear': 4046,\n",
              " 'program': 4601,\n",
              " 'terrorism': 5821,\n",
              " 'yemen': 6571,\n",
              " 'syria': 5730,\n",
              " '1/2': 36,\n",
              " 'psa': 4664,\n",
              " 'users': 6204,\n",
              " 'scam': 5179,\n",
              " 'seeks': 5238,\n",
              " 'enacting': 2037,\n",
              " 'common-sense': 1313,\n",
              " 'gun': 2721,\n",
              " 'control': 1444,\n",
              " 'priority': 4564,\n",
              " 'democratic': 1706,\n",
              " 'large': 3413,\n",
              " 'majority': 3626,\n",
              " 'universal': 6146,\n",
              " 'background': 721,\n",
              " 'weapons': 6403,\n",
              " 'hands': 2750,\n",
              " 'save': 5163,\n",
              " 'social': 5447,\n",
              " 'media': 3717,\n",
              " 'brought': 955,\n",
              " 'come': 1288,\n",
              " 'serious': 5298,\n",
              " 'consequences': 1402,\n",
              " 'energycommerce': 2060,\n",
              " 'discuss': 1825,\n",
              " 'law': 3429,\n",
              " 'enforcement': 2063,\n",
              " 'prevent': 4538,\n",
              " 'distribution': 1855,\n",
              " 'fentanyl': 2348,\n",
              " 'drugs': 1933,\n",
              " 'online': 4125,\n",
              " 'mexican': 3750,\n",
              " 'cartels': 1055,\n",
              " 'roughly': 5094,\n",
              " '14': 70,\n",
              " 'million': 3778,\n",
              " 'per': 4341,\n",
              " 'radical': 4717,\n",
              " 'open': 4130,\n",
              " 'border': 901,\n",
              " 'policies': 4440,\n",
              " 'colleagues': 1266,\n",
              " 'delegation': 1688,\n",
              " 'designate': 1743,\n",
              " 'foreign': 2464,\n",
              " 'terrorist': 5822,\n",
              " 'organizations': 4172,\n",
              " '⬇': 6632,\n",
              " 'said': 5139,\n",
              " 'tell': 5800,\n",
              " 'means': 3709,\n",
              " 'protecting': 4637,\n",
              " 'full': 2531,\n",
              " 'range': 4734,\n",
              " 'women': 6507,\n",
              " 'states': 5570,\n",
              " 'speaking': 5500,\n",
              " 'floor': 2435,\n",
              " 'package': 4239,\n",
              " 'soon': 5474,\n",
              " 'possible': 4469,\n",
              " 'watch': 6378,\n",
              " 'region': 4832,\n",
              " 'young': 6584,\n",
              " 'earning': 1951,\n",
              " 'degrees': 1680,\n",
              " 'entering': 2090,\n",
              " 'workforce': 6523,\n",
              " 'many': 3644,\n",
              " 'doing': 1876,\n",
              " 'overwhelming': 4221,\n",
              " 'well': 6422,\n",
              " 'issue': 3249,\n",
              " 'college': 1272,\n",
              " 'affordability': 396,\n",
              " 'year': 6566,\n",
              " 'after': 405,\n",
              " 'arrived': 622,\n",
              " 've': 6250,\n",
              " 'built': 968,\n",
              " 'momentum': 3837,\n",
              " 'economic': 1963,\n",
              " 'recovery': 4806,\n",
              " 'provides': 4659,\n",
              " 'major': 3625,\n",
              " 'vehicle': 6252,\n",
              " 'maintain': 3622,\n",
              " 'look': 3565,\n",
              " 'signing': 5392,\n",
              " 'into': 3199,\n",
              " 'tweets': 6071,\n",
              " 'wrong': 6552,\n",
              " 'criticized': 1542,\n",
              " 'far-left': 2299,\n",
              " 'disagree': 1814,\n",
              " 'direction': 1808,\n",
              " 'which': 6442,\n",
              " 'spot': 5521,\n",
              " 'pushing': 4689,\n",
              " 'labor': 3398,\n",
              " 'push': 4686,\n",
              " 'fewer': 2354,\n",
              " 'worker': 6521,\n",
              " 'visas': 6305,\n",
              " 'results': 5003,\n",
              " 'jobs': 3288,\n",
              " 'wages': 6339,\n",
              " 'shown': 5370,\n",
              " 'fundamental': 2536,\n",
              " 'problem': 4579,\n",
              " 'employment': 2027,\n",
              " 'medicare': 3721,\n",
              " 'thehill': 5850,\n",
              " 'problems': 4580,\n",
              " 'biden-harris': 834,\n",
              " 'read': 4755,\n",
              " 'opportunity': 4150,\n",
              " 'era': 2119,\n",
              " 'growth': 2707,\n",
              " 'benefits': 817,\n",
              " 'everybody': 2160,\n",
              " 'buildbackbetter': 963,\n",
              " 'if': 3021,\n",
              " 'already': 478,\n",
              " 'voted': 6322,\n",
              " 'isn': 3244,\n",
              " 'done': 1890,\n",
              " 'georgia': 2587,\n",
              " 'voter': 6323,\n",
              " 'polls': 4450,\n",
              " 'calls': 1002,\n",
              " 'knock': 3379,\n",
              " 'hr': 2965,\n",
              " 'va': 6226,\n",
              " 'approps': 586,\n",
              " 'crucial': 1548,\n",
              " 'continue': 1431,\n",
              " 'ever': 2158,\n",
              " 'line': 3523,\n",
              " 'explains': 2223,\n",
              " 'much': 3896,\n",
              " 'works': 6526,\n",
              " 'got': 2638,\n",
              " 'wars': 6366,\n",
              " 'feed': 2335,\n",
              " 'poor': 4453,\n",
              " 'richest': 5038,\n",
              " 'earth': 1952,\n",
              " 'inequality': 3117,\n",
              " 'cannot': 1022,\n",
              " 'article': 625,\n",
              " 'deeply': 1661,\n",
              " 'opposed': 4152,\n",
              " \"trump's\": 6045,\n",
              " 'proposal': 4627,\n",
              " 'deny': 1718,\n",
              " 'green': 2683,\n",
              " 'cards': 1037,\n",
              " 'immigrants': 3044,\n",
              " 'legally': 3463,\n",
              " 'use': 6201,\n",
              " 'public': 4667,\n",
              " 'harm': 2773,\n",
              " 'immigrant': 3043,\n",
              " 'families': 2288,\n",
              " 'prioritizing': 4563,\n",
              " 'wealthy': 6401,\n",
              " 'scare': 5182,\n",
              " 'programs': 4603,\n",
              " 'children': 1159,\n",
              " 'thrive': 5892,\n",
              " 'finished': 2389,\n",
              " 'dropping': 1928,\n",
              " 'off': 4089,\n",
              " 'another': 533,\n",
              " 'round': 5095,\n",
              " 'supplies': 5688,\n",
              " 'local': 3549,\n",
              " 'churches': 1183,\n",
              " 'providing': 4660,\n",
              " 'relief': 4860,\n",
              " 'tornado': 5942,\n",
              " 'victims': 6273,\n",
              " 'thankful': 5838,\n",
              " 'efforts': 1985,\n",
              " 'touch': 5946,\n",
              " 'northwest': 4037,\n",
              " 'arkansas': 610,\n",
              " 'continuing': 1434,\n",
              " 'monitor': 3841,\n",
              " 'storm': 5609,\n",
              " 'office': 4094,\n",
              " 'remains': 4869,\n",
              " 'committed': 1309,\n",
              " 'ways': 6388,\n",
              " 'assist': 645,\n",
              " 'april': 591,\n",
              " 'report': 4925,\n",
              " 'worst': 6537,\n",
              " 'miss': 3800,\n",
              " '23': 120,\n",
              " '...': 17,\n",
              " 'even': 2153,\n",
              " 'under': 6109,\n",
              " 'obama': 4069,\n",
              " 'wasn': 6372,\n",
              " 'bad': 727,\n",
              " 'statement': 5568,\n",
              " ...}"
            ]
          },
          "metadata": {},
          "execution_count": 16
        }
      ]
    },
    {
      "cell_type": "code",
      "source": [
        "tfidf_train = vectorizer.transform(X_train)\n",
        "tfidf_test  = vectorizer.transform(X_test)"
      ],
      "metadata": {
        "id": "yCK7LFHNnSJW"
      },
      "execution_count": 17,
      "outputs": []
    },
    {
      "cell_type": "code",
      "source": [
        "print(f\"Number of tokens created: {len(vectorizer.get_feature_names_out())}\");"
      ],
      "metadata": {
        "id": "PfWUY7NznSP1",
        "colab": {
          "base_uri": "https://localhost:8080/"
        },
        "outputId": "6a6bb909-6a57-4eca-b610-ae7a213d3fd8"
      },
      "execution_count": 18,
      "outputs": [
        {
          "output_type": "stream",
          "name": "stdout",
          "text": [
            "Number of tokens created: 6685\n"
          ]
        }
      ]
    },
    {
      "cell_type": "markdown",
      "source": [
        "The next function is used to visualize the embeddings in 2 dimensions. ALthough we are losing a lot of information with a dimensionality reduction, it's very useful to see the separation between groups.\n",
        "\n",
        "\n",
        "\n"
      ],
      "metadata": {
        "id": "a9nNoqXRB3sg"
      }
    },
    {
      "cell_type": "code",
      "source": [
        "from sklearn.decomposition import TruncatedSVD\n",
        "from matplotlib.colors import ListedColormap\n",
        "import matplotlib.patches as mpatches\n",
        "\n",
        "\n",
        "def plot_LSA(test_data, test_labels, plot=True):\n",
        "        lsa = TruncatedSVD(n_components=2)\n",
        "        lsa.fit(test_data)\n",
        "        lsa_scores = lsa.transform(test_data)\n",
        "        color_mapper = {label:idx for idx,label in enumerate(set(test_labels))}\n",
        "        color_column = [color_mapper[label] for label in test_labels]\n",
        "        colors = ['orange','blue']\n",
        "        if plot:\n",
        "            plt.scatter(lsa_scores[:,0], lsa_scores[:,1], s=2, alpha=.8, c=test_labels, cmap=ListedColormap(colors))\n",
        "            red_patch = mpatches.Patch(color='orange', label='Republicans')\n",
        "            green_patch = mpatches.Patch(color='blue', label='Democrats')\n",
        "            plt.legend(handles=[red_patch, green_patch], prop={'size': 20})"
      ],
      "metadata": {
        "id": "Wf1kXGLZv87Z"
      },
      "execution_count": 19,
      "outputs": []
    },
    {
      "cell_type": "code",
      "source": [
        "fig = plt.figure(figsize=(16, 16))          \n",
        "plot_LSA(tfidf_train, y_train)\n",
        "plt.show()"
      ],
      "metadata": {
        "colab": {
          "base_uri": "https://localhost:8080/",
          "height": 847
        },
        "id": "aBOtyMQAv5Ks",
        "outputId": "167eeb64-f9d7-49e3-92de-bfd98db800c9"
      },
      "execution_count": 20,
      "outputs": [
        {
          "output_type": "display_data",
          "data": {
            "text/plain": [
              "<Figure size 1152x1152 with 1 Axes>"
            ],
            "image/png": "[encoded data removed]"
          },
          "metadata": {
            "needs_background": "light"
          }
        }
      ]
    },
    {
      "cell_type": "markdown",
      "source": [
        "As we could expect, they are not very separated.\n",
        "\n",
        "\n"
      ],
      "metadata": {
        "id": "zlRjeXTj0UMa"
      }
    },
    {
      "cell_type": "markdown",
      "source": [
        "## Model selection"
      ],
      "metadata": {
        "id": "sOhPQz3v9mBf"
      }
    },
    {
      "cell_type": "markdown",
      "source": [
        "### Logistic regression\n",
        "\n",
        "First model to be tested is the logistic regression.\n",
        "Let's execute one first logistic regression with some 'random' hyperparameters and then do a grid search.\n",
        "\n",
        "Hyperparameters used for this first try are:\n",
        " - C=30\n",
        " - solver='newton-cg' (good for multiclass problems, although this is a binary classification it can work well)\n",
        " - multi_class='multinomial'\n",
        " - n_jobs=-1 (use all processors)\n"
      ],
      "metadata": {
        "id": "JU6PL0as9y7n"
      }
    },
    {
      "cell_type": "code",
      "source": [
        "%%time\n",
        "\n",
        "from sklearn.linear_model import LogisticRegression\n",
        "\n",
        "log_reg = LogisticRegression(C=30.0, solver='newton-cg', \n",
        "                         multi_class='multinomial', n_jobs=-1)\n",
        "log_reg.fit(tfidf_train, y_train)\n",
        "\n",
        "y_hat = log_reg.predict(tfidf_test)"
      ],
      "metadata": {
        "id": "cEERfe9tTjhb",
        "colab": {
          "base_uri": "https://localhost:8080/"
        },
        "outputId": "47318fd8-6be4-44fb-dfe5-573855c4616b"
      },
      "execution_count": 21,
      "outputs": [
        {
          "output_type": "stream",
          "name": "stdout",
          "text": [
            "CPU times: user 42.6 ms, sys: 84.1 ms, total: 127 ms\n",
            "Wall time: 2.68 s\n"
          ]
        }
      ]
    },
    {
      "cell_type": "markdown",
      "source": [
        "Function to compute accuracy, precision, recall and f1 metrics"
      ],
      "metadata": {
        "id": "aBC4joDwDhLt"
      }
    },
    {
      "cell_type": "code",
      "source": [
        "from sklearn.metrics import accuracy_score, f1_score, precision_score, recall_score\n",
        "\n",
        "def get_metrics(y_test, y_hat): \n",
        "    # true positives + true negatives/ total\n",
        "    accuracy = accuracy_score(y_test, y_hat)\n",
        "\n",
        "    # true positives / (true positives+false positives)\n",
        "    precision = precision_score(y_test, y_hat, pos_label=None,\n",
        "                                    average='weighted')             \n",
        "    # true positives / (true positives + false negatives)\n",
        "    recall = recall_score(y_test, y_hat, pos_label=None,\n",
        "                              average='weighted')\n",
        "    # harmonic mean of precision and recall\n",
        "    f1 = f1_score(y_test, y_hat, pos_label=None, average='weighted')\n",
        "    \n",
        "\n",
        "    print(f'accuracy = {accuracy}, precision = {precision}, recall = {recall}, f1 = {f1}')"
      ],
      "metadata": {
        "id": "uAghuOBo3NNf"
      },
      "execution_count": 22,
      "outputs": []
    },
    {
      "cell_type": "markdown",
      "source": [
        "#### Logistic regression metrics"
      ],
      "metadata": {
        "id": "UY0nCWIQAOcZ"
      }
    },
    {
      "cell_type": "code",
      "source": [
        "get_metrics(y_test, y_hat)"
      ],
      "metadata": {
        "colab": {
          "base_uri": "https://localhost:8080/"
        },
        "id": "jLIOwprxWNMT",
        "outputId": "edf6a810-c520-4a9c-e218-8a31678bf2f2"
      },
      "execution_count": 23,
      "outputs": [
        {
          "output_type": "stream",
          "name": "stdout",
          "text": [
            "accuracy = 0.71475, precision = 0.7147490568524304, recall = 0.71475, f1 = 0.7147333995245162\n"
          ]
        }
      ]
    },
    {
      "cell_type": "markdown",
      "source": [
        "In order to believe the value of the accuracy, per definition, it has to be bigger than the proportion of 1 in label_number in the dataset"
      ],
      "metadata": {
        "id": "grGWP88tAWih"
      }
    },
    {
      "cell_type": "code",
      "source": [
        "prop_1s = len(df[df['label_number']==1])/len(df)\n",
        "print(f'Proportion of 1\\'s in label_number in the dataset: {prop_1s}')"
      ],
      "metadata": {
        "id": "4g9idjMwswP2",
        "outputId": "e97cd73b-0006-4273-beb0-b823c8e7cb31",
        "colab": {
          "base_uri": "https://localhost:8080/"
        }
      },
      "execution_count": 24,
      "outputs": [
        {
          "output_type": "stream",
          "name": "stdout",
          "text": [
            "Proportion of 1's in label_number in the dataset: 0.5\n"
          ]
        }
      ]
    },
    {
      "cell_type": "markdown",
      "source": [
        "Function to calculate and plot the confusion matrix"
      ],
      "metadata": {
        "id": "kdLOi-fGDnAe"
      }
    },
    {
      "cell_type": "code",
      "source": [
        "from sklearn.metrics import confusion_matrix\n",
        "\n",
        "def create_confusion_matrix(y_test, y_hat):\n",
        "  \n",
        "  conf_matrix = confusion_matrix(y_test, y_hat)\n",
        "  plt.figure(figsize = (7,5))\n",
        "  sns.heatmap(conf_matrix, annot=True, fmt='g');\n"
      ],
      "metadata": {
        "id": "BQX3DMm1Tjlq"
      },
      "execution_count": 25,
      "outputs": []
    },
    {
      "cell_type": "markdown",
      "source": [
        "#### Logistic regression's confusion matrix"
      ],
      "metadata": {
        "id": "HP-mOlHnAdVo"
      }
    },
    {
      "cell_type": "code",
      "source": [
        "create_confusion_matrix(y_test, y_hat)"
      ],
      "metadata": {
        "id": "ay0x3lHDsHrm",
        "colab": {
          "base_uri": "https://localhost:8080/",
          "height": 320
        },
        "outputId": "9ac86234-68a8-4838-9ff1-5d2b2e753890"
      },
      "execution_count": 26,
      "outputs": [
        {
          "output_type": "display_data",
          "data": {
            "text/plain": [
              "<Figure size 504x360 with 2 Axes>"
            ],
            "image/png": "[encoded data removed]"
          },
          "metadata": {
            "needs_background": "light"
          }
        }
      ]
    },
    {
      "cell_type": "markdown",
      "source": [
        "Function to calculate the ROC Curve and area under the ROC Curve"
      ],
      "metadata": {
        "id": "zsT40r2UDrWo"
      }
    },
    {
      "cell_type": "code",
      "source": [
        "from sklearn.metrics import roc_auc_score, roc_curve\n",
        "\n",
        "def create_roc_curve(model, y_test, y_train):\n",
        "\n",
        "  fig = plt.figure(figsize=(10, 10))          \n",
        "\n",
        "  fpr, tpr, thresholds = roc_curve(y_test, model.predict_proba(tfidf_test)[:, 1])\n",
        "  plt.plot(fpr, tpr, label=\"Test\");\n",
        "\n",
        "  fpr, tpr, thresholds = roc_curve(y_train, model.predict_proba(tfidf_train)[:, 1])\n",
        "  plt.plot(fpr, tpr, label=\"Train\");\n",
        "\n",
        "  plt.legend(loc=\"lower right\", prop={'size': 20});\n",
        "\n",
        "  print(f'ROC AUC SCORE: {roc_auc_score(y_test, model.predict_proba(tfidf_test)[:, 1])}')\n"
      ],
      "metadata": {
        "id": "XUcEVhtx7Ve6"
      },
      "execution_count": 27,
      "outputs": []
    },
    {
      "cell_type": "markdown",
      "source": [
        "#### Logistic regression's Roc curve"
      ],
      "metadata": {
        "id": "ZLn7RP2MAocP"
      }
    },
    {
      "cell_type": "code",
      "source": [
        "create_roc_curve(log_reg, y_test, y_train)"
      ],
      "metadata": {
        "id": "j7tKgRhosLQE",
        "colab": {
          "base_uri": "https://localhost:8080/",
          "height": 609
        },
        "outputId": "e9fd2ce1-22be-4748-a14c-c9ae9c250c6b"
      },
      "execution_count": 28,
      "outputs": [
        {
          "output_type": "stream",
          "name": "stdout",
          "text": [
            "ROC AUC SCORE: 0.7964247988949379\n"
          ]
        },
        {
          "output_type": "display_data",
          "data": {
            "text/plain": [
              "<Figure size 720x720 with 1 Axes>"
            ],
            "image/png": "[encoded data removed]"
          },
          "metadata": {
            "needs_background": "light"
          }
        }
      ]
    },
    {
      "cell_type": "markdown",
      "source": [
        "These are really good results for a first try, but we don't know if they are the best. In order to discover that, I'm going to attemp a grid search for the logistic regression."
      ],
      "metadata": {
        "id": "ePzzBsOZ5xoX"
      }
    },
    {
      "cell_type": "markdown",
      "source": [
        "### Logistic regression's grid search\n",
        "\n",
        "In the param grid, we are adding both types of penalty, some different values for C, all solvers and a max_iter."
      ],
      "metadata": {
        "id": "ssGS4Ms6BdCg"
      }
    },
    {
      "cell_type": "code",
      "source": [
        "param_grid = [{'penalty' : ['l1', 'l2'],\n",
        "    'C' : [1e-5, 1e-4, 1e-3, 1e-2, 1e-1, 1, 10, 100],\n",
        "    'solver' : ['liblinear'],\n",
        "    'max_iter' : [1000]},\n",
        "    {'penalty' : ['l2'],\n",
        "    'C' : [1e-5, 1e-4, 1e-3, 1e-2, 1e-1, 1, 10, 100],\n",
        "    'solver' : ['newton-cg', 'lbfgs'],\n",
        "    'max_iter' : [1000]}]\n"
      ],
      "metadata": {
        "id": "DJvul8pz6Ms8"
      },
      "execution_count": 29,
      "outputs": []
    },
    {
      "cell_type": "code",
      "source": [
        "from sklearn.model_selection import GridSearchCV\n",
        "\n",
        "grid = GridSearchCV(estimator = LogisticRegression(), param_grid = param_grid, verbose=True, n_jobs=-1)"
      ],
      "metadata": {
        "id": "fpxd_F5x6MvJ"
      },
      "execution_count": 30,
      "outputs": []
    },
    {
      "cell_type": "code",
      "source": [
        "%%time\n",
        "\n",
        "best_clf = grid.fit(tfidf_train, y_train)"
      ],
      "metadata": {
        "colab": {
          "base_uri": "https://localhost:8080/"
        },
        "id": "FbBr3IfD6Mx7",
        "outputId": "a876770e-1b1a-4bd5-9c5e-74579c8ae439"
      },
      "execution_count": 31,
      "outputs": [
        {
          "output_type": "stream",
          "name": "stdout",
          "text": [
            "Fitting 5 folds for each of 32 candidates, totalling 160 fits\n",
            "CPU times: user 1.45 s, sys: 93.4 ms, total: 1.54 s\n",
            "Wall time: 34.3 s\n"
          ]
        }
      ]
    },
    {
      "cell_type": "code",
      "source": [
        "print('Best Score: %s' % best_clf.best_score_)\n",
        "print('Best Hyperparameters: %s' % best_clf.best_params_)"
      ],
      "metadata": {
        "colab": {
          "base_uri": "https://localhost:8080/"
        },
        "id": "jY2gqPPvLbrV",
        "outputId": "bffc2b72-83d9-4e92-a2c4-fa6750d10403"
      },
      "execution_count": 32,
      "outputs": [
        {
          "output_type": "stream",
          "name": "stdout",
          "text": [
            "Best Score: 0.7427499999999999\n",
            "Best Hyperparameters: {'C': 10, 'max_iter': 1000, 'penalty': 'l2', 'solver': 'newton-cg'}\n"
          ]
        }
      ]
    },
    {
      "cell_type": "code",
      "source": [
        "best_model = best_clf.best_estimator_\n",
        "y_hat = best_model.predict(tfidf_test)"
      ],
      "metadata": {
        "id": "GoTteYHZLbt3"
      },
      "execution_count": 33,
      "outputs": []
    },
    {
      "cell_type": "markdown",
      "source": [
        "#### Logistic regression's grid search metrics"
      ],
      "metadata": {
        "id": "OlUwcss5DjVU"
      }
    },
    {
      "cell_type": "code",
      "source": [
        "get_metrics(y_test, y_hat)"
      ],
      "metadata": {
        "colab": {
          "base_uri": "https://localhost:8080/"
        },
        "id": "P5e-afWNLbv6",
        "outputId": "b148fc94-ee0f-4423-f8d2-63ababd65d5d"
      },
      "execution_count": 34,
      "outputs": [
        {
          "output_type": "stream",
          "name": "stdout",
          "text": [
            "accuracy = 0.7345, precision = 0.7345, recall = 0.7345, f1 = 0.7345\n"
          ]
        }
      ]
    },
    {
      "cell_type": "markdown",
      "source": [
        "#### Logistic regression's grid search confusion matrix"
      ],
      "metadata": {
        "id": "rsqxmr0yDmj2"
      }
    },
    {
      "cell_type": "code",
      "source": [
        "create_confusion_matrix(y_test, y_hat)"
      ],
      "metadata": {
        "colab": {
          "base_uri": "https://localhost:8080/",
          "height": 320
        },
        "id": "hbmihNhdLbyr",
        "outputId": "b5e46250-2ec1-4e53-8f3e-bf5407892f1b"
      },
      "execution_count": 35,
      "outputs": [
        {
          "output_type": "display_data",
          "data": {
            "text/plain": [
              "<Figure size 504x360 with 2 Axes>"
            ],
            "image/png": "[encoded data removed]"
          },
          "metadata": {
            "needs_background": "light"
          }
        }
      ]
    },
    {
      "cell_type": "markdown",
      "source": [
        "#### Logistic regression's grid search ROC curve"
      ],
      "metadata": {
        "id": "oaAU4bjaDpmc"
      }
    },
    {
      "cell_type": "code",
      "source": [
        "create_roc_curve(best_model, y_test, y_train)"
      ],
      "metadata": {
        "colab": {
          "base_uri": "https://localhost:8080/",
          "height": 609
        },
        "id": "Xa7UoxzdLb2Y",
        "outputId": "46a5abff-9450-4ce8-9d13-7efaeca555ca"
      },
      "execution_count": 36,
      "outputs": [
        {
          "output_type": "stream",
          "name": "stdout",
          "text": [
            "ROC AUC SCORE: 0.8190635723259433\n"
          ]
        },
        {
          "output_type": "display_data",
          "data": {
            "text/plain": [
              "<Figure size 720x720 with 1 Axes>"
            ],
            "image/png": "[encoded data removed]"
          },
          "metadata": {
            "needs_background": "light"
          }
        }
      ]
    },
    {
      "cell_type": "markdown",
      "source": [
        "What can we conclude from the logistic regression?\n",
        "\n",
        " - First of all, we get a slightly better result doing the grid search and obtaining the best hyperparameters for the model. \n",
        "\n",
        " - Secondly, in the confusion matrix we can see that the number of false positives and false negatives doesn't vary a lot, which is good.\n",
        "\n",
        " - However, in the Roc curve we might say that there is some overfitting with the training set."
      ],
      "metadata": {
        "id": "xPzAIonmhy-s"
      }
    },
    {
      "cell_type": "markdown",
      "source": [
        "### Random forest\n",
        "\n",
        "With the random forest, let's do a grid search directly. We are gonna use hyperparameters:\n",
        " - max_depth to control the maximum depth of the tree\n",
        " - max_features auto and sqrt to control the number of features when looking for the best split\n",
        " - n_estimators to pin the number of trees in the forest."
      ],
      "metadata": {
        "id": "2IMTS7N1EsNQ"
      }
    },
    {
      "cell_type": "code",
      "source": [
        "from sklearn.ensemble import RandomForestClassifier"
      ],
      "metadata": {
        "id": "X0ngEJj7-rwt"
      },
      "execution_count": 37,
      "outputs": []
    },
    {
      "cell_type": "code",
      "source": [
        "param_grid = {'max_depth': [None, 1,3,5,10],\n",
        " 'max_features': ['auto', 'sqrt'],\n",
        " 'n_estimators': [100]}"
      ],
      "metadata": {
        "id": "7ul1ty81v8oq"
      },
      "execution_count": 38,
      "outputs": []
    },
    {
      "cell_type": "code",
      "source": [
        "grid = GridSearchCV(estimator = RandomForestClassifier(oob_score=True), param_grid = param_grid, verbose=True, n_jobs=-1)"
      ],
      "metadata": {
        "id": "RN8gy5Znv8qv"
      },
      "execution_count": 39,
      "outputs": []
    },
    {
      "cell_type": "code",
      "source": [
        "%%time\n",
        "best_rf_clf = grid.fit(tfidf_train, y_train)"
      ],
      "metadata": {
        "colab": {
          "base_uri": "https://localhost:8080/"
        },
        "id": "1_OtcSfzv87o",
        "outputId": "efc20a04-1323-44c8-a609-2a1ae9aced32"
      },
      "execution_count": 40,
      "outputs": [
        {
          "output_type": "stream",
          "name": "stdout",
          "text": [
            "Fitting 5 folds for each of 10 candidates, totalling 50 fits\n",
            "CPU times: user 23.7 s, sys: 242 ms, total: 23.9 s\n",
            "Wall time: 3min 11s\n"
          ]
        }
      ]
    },
    {
      "cell_type": "code",
      "source": [
        "print('Best Score: %s' % best_rf_clf.best_score_)\n",
        "print('Best Hyperparameters: %s' % best_rf_clf.best_params_)"
      ],
      "metadata": {
        "colab": {
          "base_uri": "https://localhost:8080/"
        },
        "id": "CVFO6d0WxQ_e",
        "outputId": "613c0fa6-50d6-46eb-c70a-60d1e37452fa"
      },
      "execution_count": 41,
      "outputs": [
        {
          "output_type": "stream",
          "name": "stdout",
          "text": [
            "Best Score: 0.692875\n",
            "Best Hyperparameters: {'bootstrap': True, 'max_depth': None, 'max_features': 'sqrt', 'n_estimators': 100}\n"
          ]
        }
      ]
    },
    {
      "cell_type": "code",
      "source": [
        "best_rf = best_rf_clf.best_estimator_\n",
        "y_hat = best_rf.predict(tfidf_test)"
      ],
      "metadata": {
        "id": "FbApfWt5xSWO"
      },
      "execution_count": 42,
      "outputs": []
    },
    {
      "cell_type": "markdown",
      "source": [
        "#### Random forest's grid search metrics"
      ],
      "metadata": {
        "id": "tvsrLrKNEmH3"
      }
    },
    {
      "cell_type": "code",
      "source": [
        "get_metrics(y_test, y_hat)"
      ],
      "metadata": {
        "colab": {
          "base_uri": "https://localhost:8080/"
        },
        "id": "cWiWtw5hvDQ6",
        "outputId": "312ec1e6-b808-4b5a-e72b-1437ca5d4bc6"
      },
      "execution_count": 43,
      "outputs": [
        {
          "output_type": "stream",
          "name": "stdout",
          "text": [
            "accuracy = 0.69275, precision = 0.692773353536991, recall = 0.69275, f1 = 0.692702382093326\n"
          ]
        }
      ]
    },
    {
      "cell_type": "markdown",
      "source": [
        "#### Random forest's grid confusion matrix"
      ],
      "metadata": {
        "id": "vVe-NoEgEsqI"
      }
    },
    {
      "cell_type": "code",
      "source": [
        "create_confusion_matrix(y_test, y_hat)"
      ],
      "metadata": {
        "colab": {
          "base_uri": "https://localhost:8080/",
          "height": 320
        },
        "id": "wdKRopnMvDTX",
        "outputId": "2342b2a6-f830-4d26-d645-0c7b7582e886"
      },
      "execution_count": 44,
      "outputs": [
        {
          "output_type": "display_data",
          "data": {
            "text/plain": [
              "<Figure size 504x360 with 2 Axes>"
            ],
            "image/png": "[encoded data removed]"
          },
          "metadata": {
            "needs_background": "light"
          }
        }
      ]
    },
    {
      "cell_type": "markdown",
      "source": [
        "#### Random forest's grid search ROC curve"
      ],
      "metadata": {
        "id": "maIsOwW0Eve_"
      }
    },
    {
      "cell_type": "code",
      "source": [
        "create_roc_curve(best_rf, y_test, y_train)"
      ],
      "metadata": {
        "colab": {
          "base_uri": "https://localhost:8080/",
          "height": 609
        },
        "id": "-y8J-XPDvDVJ",
        "outputId": "a4bcf82e-a382-43e8-9d64-7742f7ce25c6"
      },
      "execution_count": 45,
      "outputs": [
        {
          "output_type": "stream",
          "name": "stdout",
          "text": [
            "ROC AUC SCORE: 0.7647215155852517\n"
          ]
        },
        {
          "output_type": "display_data",
          "data": {
            "text/plain": [
              "<Figure size 720x720 with 1 Axes>"
            ],
            "image/png": "[encoded data removed]"
          },
          "metadata": {
            "needs_background": "light"
          }
        }
      ]
    },
    {
      "cell_type": "markdown",
      "source": [
        "Although we get a slightly worst accuracy than in the logistic regression, random forest are a lot slower and show even more overfitting in the training set than the logistic regression. The logistic regression is the best model so far. But we can try some more."
      ],
      "metadata": {
        "id": "i-yxuGo-3iaK"
      }
    },
    {
      "cell_type": "markdown",
      "source": [
        "### XGBoost\n",
        "\n",
        "As I'm not that familiar with XGBoost models, let's do the same as in the logistic regression: do a first model with 'random' hyperparameters and then a grid search"
      ],
      "metadata": {
        "id": "-DyUO6B2jrGD"
      }
    },
    {
      "cell_type": "code",
      "source": [
        "import xgboost as xgb\n",
        "\n",
        "xgb_model = xgb.XGBClassifier(\n",
        "        learning_rate=0.1,\n",
        "        max_depth=7,\n",
        "        n_estimators=80,\n",
        "        use_label_encoder=False\n",
        "        )"
      ],
      "metadata": {
        "id": "FclXgyjURPOI"
      },
      "execution_count": 46,
      "outputs": []
    },
    {
      "cell_type": "code",
      "source": [
        "%%time\n",
        "\n",
        "xgb_model.fit(tfidf_train, y_train)"
      ],
      "metadata": {
        "id": "Et7wKRnGRPQS",
        "outputId": "97108159-3af3-4c64-9b58-d2912900c99b",
        "colab": {
          "base_uri": "https://localhost:8080/"
        }
      },
      "execution_count": 47,
      "outputs": [
        {
          "output_type": "stream",
          "name": "stdout",
          "text": [
            "CPU times: user 10.9 s, sys: 47.5 ms, total: 10.9 s\n",
            "Wall time: 11 s\n"
          ]
        },
        {
          "output_type": "execute_result",
          "data": {
            "text/plain": [
              "XGBClassifier(max_depth=7, n_estimators=80, use_label_encoder=False)"
            ]
          },
          "metadata": {},
          "execution_count": 47
        }
      ]
    },
    {
      "cell_type": "code",
      "source": [
        "y_hat = xgb_model.predict(tfidf_test)"
      ],
      "metadata": {
        "id": "6ME1fEuZRPSS"
      },
      "execution_count": 48,
      "outputs": []
    },
    {
      "cell_type": "markdown",
      "source": [
        "#### XGBoost's metrics"
      ],
      "metadata": {
        "id": "ZtagCh4jHGQs"
      }
    },
    {
      "cell_type": "code",
      "source": [
        "get_metrics(y_test, y_hat)"
      ],
      "metadata": {
        "id": "AmavbyhzRPUm",
        "outputId": "ab5435e8-ac74-42ad-88cd-4d0e6ee65402",
        "colab": {
          "base_uri": "https://localhost:8080/"
        }
      },
      "execution_count": 49,
      "outputs": [
        {
          "output_type": "stream",
          "name": "stdout",
          "text": [
            "accuracy = 0.6845, precision = 0.685340804332578, recall = 0.6845, f1 = 0.6839794985269579\n"
          ]
        }
      ]
    },
    {
      "cell_type": "markdown",
      "source": [
        "#### XGBoost's confusion matrix"
      ],
      "metadata": {
        "id": "ecEFZFFUHMMJ"
      }
    },
    {
      "cell_type": "code",
      "source": [
        "create_confusion_matrix(y_test, y_hat)"
      ],
      "metadata": {
        "id": "I-bpY0xqRPWj",
        "outputId": "9b25d17b-9658-4c26-9d5b-1b16e5758b37",
        "colab": {
          "base_uri": "https://localhost:8080/",
          "height": 320
        }
      },
      "execution_count": 50,
      "outputs": [
        {
          "output_type": "display_data",
          "data": {
            "text/plain": [
              "<Figure size 504x360 with 2 Axes>"
            ],
            "image/png": "[encoded data removed]"
          },
          "metadata": {
            "needs_background": "light"
          }
        }
      ]
    },
    {
      "cell_type": "markdown",
      "source": [
        "#### XGBoost's ROC curve"
      ],
      "metadata": {
        "id": "tHb7-GraHV_J"
      }
    },
    {
      "cell_type": "code",
      "source": [
        "create_roc_curve(xgb_model, y_test, y_train)"
      ],
      "metadata": {
        "id": "pFjDj254lUdE",
        "outputId": "b9881db1-4453-4787-a953-207566bbac11",
        "colab": {
          "base_uri": "https://localhost:8080/",
          "height": 609
        }
      },
      "execution_count": 51,
      "outputs": [
        {
          "output_type": "stream",
          "name": "stdout",
          "text": [
            "ROC AUC SCORE: 0.759713983911595\n"
          ]
        },
        {
          "output_type": "display_data",
          "data": {
            "text/plain": [
              "<Figure size 720x720 with 1 Axes>"
            ],
            "image/png": "[encoded data removed]"
          },
          "metadata": {
            "needs_background": "light"
          }
        }
      ]
    },
    {
      "cell_type": "markdown",
      "source": [
        "### XGBoost's grid search\n",
        "\n",
        "Hyperparameters used in the grid are:\n",
        " - max_depth to control the depth of the trees\n",
        " - n_estimators to control the number of trees\n",
        " - learning_rate to control how fast the model learns\n",
        " - booster is pinned to gbtree\n"
      ],
      "metadata": {
        "id": "Q_gBYpUNffKJ"
      }
    },
    {
      "cell_type": "code",
      "source": [
        "param_grid = {\n",
        "    'max_depth': [1, 3, 5, 10],\n",
        "    'n_estimators': [10, 20, 40, 80],\n",
        "    'learning_rate': [0.01, 0.05, 0.1],\n",
        "    'booster' : ['gbtree']\n",
        "    }"
      ],
      "metadata": {
        "id": "aXwwxB5ATOKj"
      },
      "execution_count": 52,
      "outputs": []
    },
    {
      "cell_type": "code",
      "source": [
        "grid_search_xgb = GridSearchCV(\n",
        "    estimator=xgb.XGBClassifier(objective= 'binary:logistic',nthread=4,seed=42),\n",
        "    param_grid=param_grid,\n",
        "    n_jobs = -1,\n",
        "    verbose=True\n",
        ")"
      ],
      "metadata": {
        "id": "8UO9lVUZTOMr"
      },
      "execution_count": 53,
      "outputs": []
    },
    {
      "cell_type": "code",
      "source": [
        "%%time\n",
        "\n",
        "best_xgb_clf = grid_search_xgb.fit(tfidf_train, y_train)"
      ],
      "metadata": {
        "id": "95tNhLyDSBEq",
        "outputId": "715241f5-9244-43b3-dfee-9f462c2a69d7",
        "colab": {
          "base_uri": "https://localhost:8080/"
        }
      },
      "execution_count": 54,
      "outputs": [
        {
          "output_type": "stream",
          "name": "stdout",
          "text": [
            "Fitting 5 folds for each of 48 candidates, totalling 240 fits\n",
            "CPU times: user 33.7 s, sys: 769 ms, total: 34.5 s\n",
            "Wall time: 12min 28s\n"
          ]
        }
      ]
    },
    {
      "cell_type": "code",
      "source": [
        "print('Best Score: %s' % best_xgb_clf.best_score_)\n",
        "print('Best Hyperparameters: %s' % best_xgb_clf.best_params_)"
      ],
      "metadata": {
        "colab": {
          "base_uri": "https://localhost:8080/"
        },
        "id": "dWs2nJv_5fiV",
        "outputId": "c110a7ff-2743-43ba-c0b1-b59a12126e1e"
      },
      "execution_count": 55,
      "outputs": [
        {
          "output_type": "stream",
          "name": "stdout",
          "text": [
            "Best Score: 0.6885625\n",
            "Best Hyperparameters: {'booster': 'gbtree', 'learning_rate': 0.1, 'max_depth': 10, 'n_estimators': 80}\n"
          ]
        }
      ]
    },
    {
      "cell_type": "code",
      "source": [
        "best_xgb = best_xgb_clf.best_estimator_\n",
        "y_hat = best_xgb.predict(tfidf_test)"
      ],
      "metadata": {
        "id": "PVS5UpX65fkZ"
      },
      "execution_count": 56,
      "outputs": []
    },
    {
      "cell_type": "markdown",
      "source": [
        "#### XGBoost's grid search metrics"
      ],
      "metadata": {
        "id": "hHwKufmLI62P"
      }
    },
    {
      "cell_type": "code",
      "source": [
        "get_metrics(y_test, y_hat)"
      ],
      "metadata": {
        "colab": {
          "base_uri": "https://localhost:8080/"
        },
        "id": "pfWH9KEl5fmc",
        "outputId": "ed407489-d659-49b0-d9e3-3277383682eb"
      },
      "execution_count": 57,
      "outputs": [
        {
          "output_type": "stream",
          "name": "stdout",
          "text": [
            "accuracy = 0.6885, precision = 0.6889071655778062, recall = 0.6885, f1 = 0.6882190136798139\n"
          ]
        }
      ]
    },
    {
      "cell_type": "markdown",
      "source": [
        "#### XGBoost's grid search confusion matrix"
      ],
      "metadata": {
        "id": "Co6v67OSJBYO"
      }
    },
    {
      "cell_type": "code",
      "source": [
        "create_confusion_matrix(y_test, y_hat)"
      ],
      "metadata": {
        "colab": {
          "base_uri": "https://localhost:8080/",
          "height": 320
        },
        "id": "mG7bMUgw5foU",
        "outputId": "8bfdba2f-b8f5-424c-9ff9-0d7cc43bbb07"
      },
      "execution_count": 58,
      "outputs": [
        {
          "output_type": "display_data",
          "data": {
            "text/plain": [
              "<Figure size 504x360 with 2 Axes>"
            ],
            "image/png": "[encoded data removed]"
          },
          "metadata": {
            "needs_background": "light"
          }
        }
      ]
    },
    {
      "cell_type": "markdown",
      "source": [
        "#### XGBoost's grid ROC curve"
      ],
      "metadata": {
        "id": "UNJaktI8JETv"
      }
    },
    {
      "cell_type": "code",
      "source": [
        "create_roc_curve(best_xgb, y_test, y_train)"
      ],
      "metadata": {
        "colab": {
          "base_uri": "https://localhost:8080/",
          "height": 609
        },
        "id": "q_Q3j0UB5fqJ",
        "outputId": "9ced2b6b-5c08-4cde-c84b-4e1d8e5f5852"
      },
      "execution_count": 59,
      "outputs": [
        {
          "output_type": "stream",
          "name": "stdout",
          "text": [
            "ROC AUC SCORE: 0.7672826596496052\n"
          ]
        },
        {
          "output_type": "display_data",
          "data": {
            "text/plain": [
              "<Figure size 720x720 with 1 Axes>"
            ],
            "image/png": "[encoded data removed]"
          },
          "metadata": {
            "needs_background": "light"
          }
        }
      ]
    },
    {
      "cell_type": "markdown",
      "source": [
        "This model gets an accuracy slighltly lower than logistic regression's, and it's also slower. However, it is the model which shows less overfitting in the training set so far. My conclussion is that we stick with the logistic regression."
      ],
      "metadata": {
        "id": "C0dlWfCdAf0X"
      }
    },
    {
      "cell_type": "markdown",
      "source": [
        "### BERT "
      ],
      "metadata": {
        "id": "N2l2UvmQ4-4g"
      }
    },
    {
      "cell_type": "code",
      "source": [
        "!pip install -q -U tensorflow-text"
      ],
      "metadata": {
        "colab": {
          "base_uri": "https://localhost:8080/"
        },
        "id": "GBo9CZpdebZY",
        "outputId": "545cc654-6eab-4551-cde9-36272b97dcc8"
      },
      "execution_count": 60,
      "outputs": [
        {
          "output_type": "stream",
          "name": "stdout",
          "text": [
            "\u001b[K     |████████████████████████████████| 4.6 MB 5.0 MB/s \n",
            "\u001b[K     |████████████████████████████████| 511.7 MB 6.8 kB/s \n",
            "\u001b[K     |████████████████████████████████| 5.8 MB 20.6 MB/s \n",
            "\u001b[K     |████████████████████████████████| 1.6 MB 36.0 MB/s \n",
            "\u001b[K     |████████████████████████████████| 438 kB 40.6 MB/s \n",
            "\u001b[?25h"
          ]
        }
      ]
    },
    {
      "cell_type": "code",
      "source": [
        "!pip install -q tf-models-official"
      ],
      "metadata": {
        "id": "dkl6z6TTOLe3",
        "colab": {
          "base_uri": "https://localhost:8080/"
        },
        "outputId": "859d80d9-bc39-4915-f87c-a58b00156591"
      },
      "execution_count": 61,
      "outputs": [
        {
          "output_type": "stream",
          "name": "stdout",
          "text": [
            "\u001b[K     |████████████████████████████████| 2.1 MB 5.3 MB/s \n",
            "\u001b[K     |████████████████████████████████| 92 kB 8.6 MB/s \n",
            "\u001b[K     |████████████████████████████████| 636 kB 49.7 MB/s \n",
            "\u001b[K     |████████████████████████████████| 43 kB 1.6 MB/s \n",
            "\u001b[K     |████████████████████████████████| 48.3 MB 151 kB/s \n",
            "\u001b[K     |████████████████████████████████| 237 kB 37.6 MB/s \n",
            "\u001b[K     |████████████████████████████████| 1.2 MB 39.6 MB/s \n",
            "\u001b[K     |████████████████████████████████| 1.1 MB 48.0 MB/s \n",
            "\u001b[K     |████████████████████████████████| 99 kB 7.7 MB/s \n",
            "\u001b[K     |████████████████████████████████| 352 kB 34.7 MB/s \n",
            "\u001b[?25h  Building wheel for py-cpuinfo (setup.py) ... \u001b[?25l\u001b[?25hdone\n",
            "  Building wheel for seqeval (setup.py) ... \u001b[?25l\u001b[?25hdone\n"
          ]
        }
      ]
    },
    {
      "cell_type": "code",
      "source": [
        "df_shuffled = shuffle(df)"
      ],
      "metadata": {
        "id": "v7ZCD5ieDceG"
      },
      "execution_count": 62,
      "outputs": []
    },
    {
      "cell_type": "code",
      "source": [
        "len(df_shuffled)"
      ],
      "metadata": {
        "colab": {
          "base_uri": "https://localhost:8080/"
        },
        "id": "2oHB89wKBfP6",
        "outputId": "d752311f-bcdd-4211-89af-718cb3e4afff"
      },
      "execution_count": 63,
      "outputs": [
        {
          "output_type": "execute_result",
          "data": {
            "text/plain": [
              "20000"
            ]
          },
          "metadata": {},
          "execution_count": 63
        }
      ]
    },
    {
      "cell_type": "code",
      "source": [
        "df_train = df_shuffled[:15999].reset_index()[['text','label_number']]\n",
        "df_val = df_shuffled[16000:].reset_index()[['text','label_number']]"
      ],
      "metadata": {
        "id": "ompl_qtAebeE"
      },
      "execution_count": 64,
      "outputs": []
    },
    {
      "cell_type": "code",
      "source": [
        "import os\n",
        "import shutil\n",
        "\n",
        "import tensorflow as tf\n",
        "import tensorflow_hub as hub\n",
        "import tensorflow_text as text\n",
        "from official.nlp import optimization  # to create AdamW optimizer\n",
        "\n",
        "import matplotlib.pyplot as plt\n",
        "\n",
        "tf.get_logger().setLevel('ERROR')"
      ],
      "metadata": {
        "id": "6J0hobbh7G3w"
      },
      "execution_count": 65,
      "outputs": []
    },
    {
      "cell_type": "code",
      "source": [
        "from tensorflow.keras.preprocessing.text import Tokenizer\n",
        "\n",
        "train_text = df_train['text'].to_numpy()\n",
        "\n",
        "tok = Tokenizer(oov_token='<unk>')\n",
        "tok.fit_on_texts(train_text)\n",
        "tok.word_index['<pad>'] = 0\n",
        "tok.index_word[0] = '<pad>'\n",
        "\n",
        "train_seqs = tok.texts_to_sequences(train_text)\n",
        "train_seqs = tf.keras.preprocessing.sequence.pad_sequences(train_seqs, padding='post')\n",
        "\n",
        "train_labels = df_train['label_number'].to_numpy().flatten()\n",
        "\n",
        "val_text = df_val['text'].to_numpy()\n",
        "val_seqs = tok.texts_to_sequences(val_text)\n",
        "val_seqs = tf.keras.preprocessing.sequence.pad_sequences(val_seqs, padding='post')\n",
        "\n",
        "val_labels = df_val['label_number'].to_numpy().flatten()"
      ],
      "metadata": {
        "id": "7WNlCOvhBvx4"
      },
      "execution_count": 66,
      "outputs": []
    },
    {
      "cell_type": "code",
      "source": [
        "train_ds = tf.data.Dataset.from_tensor_slices((train_seqs, train_labels))\n",
        "val_ds = tf.data.Dataset.from_tensor_slices((val_seqs, val_labels))"
      ],
      "metadata": {
        "id": "r4hrdR2-7G7O"
      },
      "execution_count": 67,
      "outputs": []
    },
    {
      "cell_type": "code",
      "source": [
        "BATCH_SIZE = 32\n",
        "train_ds_batch = train_ds.batch(BATCH_SIZE)\n",
        "val_ds_batch = val_ds.batch(BATCH_SIZE)"
      ],
      "metadata": {
        "id": "ZyHqFZpz7G-L"
      },
      "execution_count": 68,
      "outputs": []
    },
    {
      "cell_type": "code",
      "source": [
        "AUTOTUNE = tf.data.AUTOTUNE\n",
        "\n",
        "train_ds_batch = train_ds_batch.cache().prefetch(buffer_size=AUTOTUNE)\n",
        "val_ds_batch = val_ds_batch.cache().prefetch(buffer_size=AUTOTUNE)"
      ],
      "metadata": {
        "id": "xX7Anqel7HBB"
      },
      "execution_count": 69,
      "outputs": []
    },
    {
      "cell_type": "code",
      "source": [
        "from tensorflow import keras\n",
        "from tensorflow.keras import layers\n",
        "\n",
        "vocab_size =len(tok.word_index) + 1\n",
        "embedding_dim = 256\n",
        "\n",
        "model = keras.Sequential([\n",
        "    layers.Embedding(vocab_size, embedding_dim),\n",
        "    layers.GlobalAveragePooling1D(),\n",
        "    layers.Dense(1, activation='sigmoid') # also tried activation='softmax'\n",
        "])\n",
        "\n",
        "model.compile(optimizer='adam',\n",
        "              loss='binary_crossentropy', # binary_crossentropy\n",
        "              metrics=['accuracy'])\n",
        "\n",
        "history = model.fit(\n",
        "    train_ds_batch,\n",
        "    epochs=3,\n",
        "    validation_data=val_ds_batch, validation_steps=1, steps_per_epoch = tf.data.experimental.cardinality(train_ds).numpy()\n",
        ")"
      ],
      "metadata": {
        "colab": {
          "base_uri": "https://localhost:8080/"
        },
        "id": "eg68gNWS7HCx",
        "outputId": "489baa6c-c5ed-4f59-d8dd-4cc2aab763c9"
      },
      "execution_count": 70,
      "outputs": [
        {
          "output_type": "stream",
          "name": "stdout",
          "text": [
            "Epoch 1/3\n",
            "15999/15999 [==============================] - 74s 5ms/step - loss: 0.6367 - accuracy: 0.6382 - val_loss: 0.5652 - val_accuracy: 0.7500\n"
          ]
        }
      ]
    },
    {
      "cell_type": "markdown",
      "source": [
        "So at first glance, BERT model is the one with worst results. \n"
      ],
      "metadata": {
        "id": "40bQoRhtFUKf"
      }
    },
    {
      "cell_type": "markdown",
      "source": [
        "## Feature importance\n",
        "\n",
        "Now, let's see the feature importance of the logistic regression. In other words, let's see which words are more useful for the model to make the classification:"
      ],
      "metadata": {
        "id": "JxA6E5JAJSwi"
      }
    },
    {
      "cell_type": "code",
      "source": [
        "important_tokens = pd.DataFrame(\n",
        "    data=best_model.coef_[0],\n",
        "    index=vectorizer.get_feature_names(),\n",
        "    columns=['Score']\n",
        ").sort_values(by='Score' ,ascending=False)"
      ],
      "metadata": {
        "colab": {
          "base_uri": "https://localhost:8080/"
        },
        "id": "2gXCzV9AaRSu",
        "outputId": "baa80582-654a-4752-d44c-c575bace6cd5"
      },
      "execution_count": 71,
      "outputs": [
        {
          "output_type": "stream",
          "name": "stderr",
          "text": [
            "/usr/local/lib/python3.7/dist-packages/sklearn/utils/deprecation.py:87: FutureWarning: Function get_feature_names is deprecated; get_feature_names is deprecated in 1.0 and will be removed in 1.2. Please use get_feature_names_out instead.\n",
            "  warnings.warn(msg, category=FutureWarning)\n"
          ]
        }
      ]
    },
    {
      "cell_type": "code",
      "source": [
        "sns.barplot(x=important_tokens[:20]['Score'], y=important_tokens[:20].index).set_title('Feature importance');"
      ],
      "metadata": {
        "colab": {
          "base_uri": "https://localhost:8080/",
          "height": 295
        },
        "id": "yNv-9j4faRYi",
        "outputId": "c75f1e83-c0c7-4754-9c43-edec40199775"
      },
      "execution_count": 72,
      "outputs": [
        {
          "output_type": "display_data",
          "data": {
            "text/plain": [
              "<Figure size 432x288 with 1 Axes>"
            ],
            "image/png": "[encoded data removed]"
          },
          "metadata": {
            "needs_background": "light"
          }
        }
      ]
    },
    {
      "cell_type": "markdown",
      "source": [
        "## Using subsets of the dataframe: Why more isn't better\n",
        "\n",
        "There are many ways to work with huge quantities of data: use a huge ad expensive machine, build a batch ETL to process everything at night or have patience of a saint, for example. I don't own a huge machine (neither want to invest all my savings on one in the cloud), didn't have time to build an ETL like that and didn't, don't and will never have a lot of patience. So I decided to invest some time in studying if more data in the model leads to better results.\n",
        "\n",
        "For that purpose, I created a function with pieces of code from above to perform logistic regressions on different sets of data:"
      ],
      "metadata": {
        "id": "9l3VV02IePTU"
      }
    },
    {
      "cell_type": "code",
      "source": [
        "def steps_for_lg(df_original, vectorizer, sample_size):\n",
        "\n",
        "  print(f'Executing sample_size = {sample_size}')\n",
        "\n",
        "  df_d = shuffle(df_original[df_original['label']=='D'])[:sample_size]\n",
        "  df_r = shuffle(df_original[df_original['label']=='R'])[:sample_size]\n",
        "  df = df_d.append(df_r, ignore_index=True)\n",
        "\n",
        "  df['text_corpus'] = df['text'].apply(create_corpus_column)\n",
        "\n",
        "  df['label_number'] = df['label'].apply(lambda x: 0 if x == 'R' else 1)\n",
        "\n",
        "  datos_X = df.text\n",
        "  datos_y = df.label_number\n",
        "\n",
        "  X_train, X_test, y_train, y_test = train_test_split(\n",
        "      datos_X,\n",
        "      datos_y,\n",
        "      test_size = 0.2,\n",
        "      random_state = 123\n",
        "  )\n",
        "\n",
        "  vectorizer.fit(X_train)\n",
        "\n",
        "  tfidf_train = vectorizer.transform(X_train)\n",
        "  tfidf_test  = vectorizer.transform(X_test)\n",
        "\n",
        "  log_reg = LogisticRegression(C=10.0, solver='newton-cg', max_iter=1000)\n",
        "  log_reg.fit(tfidf_train, y_train)\n",
        "\n",
        "  y_hat = log_reg.predict(tfidf_test)\n",
        "\n",
        "  accuracy = accuracy_score(y_test, y_hat)\n",
        "\n",
        "  return accuracy"
      ],
      "metadata": {
        "id": "Pdh9yb2FhY5H"
      },
      "execution_count": 73,
      "outputs": []
    },
    {
      "cell_type": "code",
      "source": [
        "sample_size_list = [100, 1000, 2500, 5000, 7500, 10000, 20000, 50000, 75000, 100000, 125000, 150000, 175000, 200000]\n",
        "df_compute_results = pd.DataFrame(columns=['sample_size', 'accuracy', 'time'])"
      ],
      "metadata": {
        "id": "tTzZeiWchZDG"
      },
      "execution_count": 74,
      "outputs": []
    },
    {
      "cell_type": "code",
      "source": [
        "import time\n",
        "\n",
        "for sample_size in sample_size_list:\n",
        "  start_time = time.time()\n",
        "  accuracy = steps_for_lg(df_original, vectorizer, sample_size)\n",
        "  finish_time = time.time() - start_time\n",
        "\n",
        "  df_compute_results = df_compute_results.append({'sample_size': sample_size, 'accuracy': accuracy, 'time': finish_time}, ignore_index = True)"
      ],
      "metadata": {
        "colab": {
          "base_uri": "https://localhost:8080/"
        },
        "id": "r-sOokRlmOcx",
        "outputId": "bcd594a2-34c3-45c9-c93e-ef7114899f68"
      },
      "execution_count": 75,
      "outputs": [
        {
          "output_type": "stream",
          "name": "stdout",
          "text": [
            "Executing sample_size = 100\n"
          ]
        },
        {
          "output_type": "stream",
          "name": "stderr",
          "text": [
            "/usr/local/lib/python3.7/dist-packages/sklearn/feature_extraction/text.py:517: UserWarning: The parameter 'token_pattern' will not be used since 'tokenizer' is not None'\n",
            "  \"The parameter 'token_pattern' will not be used\"\n"
          ]
        },
        {
          "output_type": "stream",
          "name": "stdout",
          "text": [
            "Executing sample_size = 1000\n"
          ]
        },
        {
          "output_type": "stream",
          "name": "stderr",
          "text": [
            "/usr/local/lib/python3.7/dist-packages/sklearn/feature_extraction/text.py:517: UserWarning: The parameter 'token_pattern' will not be used since 'tokenizer' is not None'\n",
            "  \"The parameter 'token_pattern' will not be used\"\n"
          ]
        },
        {
          "output_type": "stream",
          "name": "stdout",
          "text": [
            "Executing sample_size = 2500\n"
          ]
        },
        {
          "output_type": "stream",
          "name": "stderr",
          "text": [
            "/usr/local/lib/python3.7/dist-packages/sklearn/feature_extraction/text.py:517: UserWarning: The parameter 'token_pattern' will not be used since 'tokenizer' is not None'\n",
            "  \"The parameter 'token_pattern' will not be used\"\n"
          ]
        },
        {
          "output_type": "stream",
          "name": "stdout",
          "text": [
            "Executing sample_size = 5000\n"
          ]
        },
        {
          "output_type": "stream",
          "name": "stderr",
          "text": [
            "/usr/local/lib/python3.7/dist-packages/sklearn/feature_extraction/text.py:517: UserWarning: The parameter 'token_pattern' will not be used since 'tokenizer' is not None'\n",
            "  \"The parameter 'token_pattern' will not be used\"\n"
          ]
        },
        {
          "output_type": "stream",
          "name": "stdout",
          "text": [
            "Executing sample_size = 7500\n"
          ]
        },
        {
          "output_type": "stream",
          "name": "stderr",
          "text": [
            "/usr/local/lib/python3.7/dist-packages/sklearn/feature_extraction/text.py:517: UserWarning: The parameter 'token_pattern' will not be used since 'tokenizer' is not None'\n",
            "  \"The parameter 'token_pattern' will not be used\"\n"
          ]
        },
        {
          "output_type": "stream",
          "name": "stdout",
          "text": [
            "Executing sample_size = 10000\n"
          ]
        },
        {
          "output_type": "stream",
          "name": "stderr",
          "text": [
            "/usr/local/lib/python3.7/dist-packages/sklearn/feature_extraction/text.py:517: UserWarning: The parameter 'token_pattern' will not be used since 'tokenizer' is not None'\n",
            "  \"The parameter 'token_pattern' will not be used\"\n"
          ]
        },
        {
          "output_type": "stream",
          "name": "stdout",
          "text": [
            "Executing sample_size = 20000\n"
          ]
        },
        {
          "output_type": "stream",
          "name": "stderr",
          "text": [
            "/usr/local/lib/python3.7/dist-packages/sklearn/feature_extraction/text.py:517: UserWarning: The parameter 'token_pattern' will not be used since 'tokenizer' is not None'\n",
            "  \"The parameter 'token_pattern' will not be used\"\n"
          ]
        },
        {
          "output_type": "stream",
          "name": "stdout",
          "text": [
            "Executing sample_size = 50000\n"
          ]
        },
        {
          "output_type": "stream",
          "name": "stderr",
          "text": [
            "/usr/local/lib/python3.7/dist-packages/sklearn/feature_extraction/text.py:517: UserWarning: The parameter 'token_pattern' will not be used since 'tokenizer' is not None'\n",
            "  \"The parameter 'token_pattern' will not be used\"\n"
          ]
        },
        {
          "output_type": "stream",
          "name": "stdout",
          "text": [
            "Executing sample_size = 75000\n"
          ]
        },
        {
          "output_type": "stream",
          "name": "stderr",
          "text": [
            "/usr/local/lib/python3.7/dist-packages/sklearn/feature_extraction/text.py:517: UserWarning: The parameter 'token_pattern' will not be used since 'tokenizer' is not None'\n",
            "  \"The parameter 'token_pattern' will not be used\"\n"
          ]
        },
        {
          "output_type": "stream",
          "name": "stdout",
          "text": [
            "Executing sample_size = 100000\n"
          ]
        },
        {
          "output_type": "stream",
          "name": "stderr",
          "text": [
            "/usr/local/lib/python3.7/dist-packages/sklearn/feature_extraction/text.py:517: UserWarning: The parameter 'token_pattern' will not be used since 'tokenizer' is not None'\n",
            "  \"The parameter 'token_pattern' will not be used\"\n"
          ]
        },
        {
          "output_type": "stream",
          "name": "stdout",
          "text": [
            "Executing sample_size = 125000\n"
          ]
        },
        {
          "output_type": "stream",
          "name": "stderr",
          "text": [
            "/usr/local/lib/python3.7/dist-packages/sklearn/feature_extraction/text.py:517: UserWarning: The parameter 'token_pattern' will not be used since 'tokenizer' is not None'\n",
            "  \"The parameter 'token_pattern' will not be used\"\n"
          ]
        },
        {
          "output_type": "stream",
          "name": "stdout",
          "text": [
            "Executing sample_size = 150000\n"
          ]
        },
        {
          "output_type": "stream",
          "name": "stderr",
          "text": [
            "/usr/local/lib/python3.7/dist-packages/sklearn/feature_extraction/text.py:517: UserWarning: The parameter 'token_pattern' will not be used since 'tokenizer' is not None'\n",
            "  \"The parameter 'token_pattern' will not be used\"\n"
          ]
        },
        {
          "output_type": "stream",
          "name": "stdout",
          "text": [
            "Executing sample_size = 175000\n"
          ]
        },
        {
          "output_type": "stream",
          "name": "stderr",
          "text": [
            "/usr/local/lib/python3.7/dist-packages/sklearn/feature_extraction/text.py:517: UserWarning: The parameter 'token_pattern' will not be used since 'tokenizer' is not None'\n",
            "  \"The parameter 'token_pattern' will not be used\"\n"
          ]
        },
        {
          "output_type": "stream",
          "name": "stdout",
          "text": [
            "Executing sample_size = 200000\n"
          ]
        },
        {
          "output_type": "stream",
          "name": "stderr",
          "text": [
            "/usr/local/lib/python3.7/dist-packages/sklearn/feature_extraction/text.py:517: UserWarning: The parameter 'token_pattern' will not be used since 'tokenizer' is not None'\n",
            "  \"The parameter 'token_pattern' will not be used\"\n"
          ]
        }
      ]
    },
    {
      "cell_type": "code",
      "source": [
        "fig,(ax1,ax2)=plt.subplots(1,2,figsize=(18,5))\n",
        "ax1.plot(df_compute_results['sample_size'], df_compute_results['accuracy'], color='blue', label='accuracy')\n",
        "ax1.set_title('Accuracy')\n",
        "ax2.plot(df_compute_results['sample_size'], df_compute_results['time'], color='orange', label='time')\n",
        "ax2.set_title('Time')\n",
        "plt.show()"
      ],
      "metadata": {
        "id": "1eGfQbptmOpf",
        "outputId": "f1ad8099-4a9b-4044-8e90-0442287e9241",
        "colab": {
          "base_uri": "https://localhost:8080/",
          "height": 356
        }
      },
      "execution_count": 76,
      "outputs": [
        {
          "output_type": "display_data",
          "data": {
            "text/plain": [
              "<Figure size 1296x360 with 2 Axes>"
            ],
            "image/png": "[encoded data removed]"
          },
          "metadata": {
            "needs_background": "light"
          }
        }
      ]
    },
    {
      "cell_type": "markdown",
      "source": [
        "We can see that there is point where the accuracy starts to increase very slowly, so you can decide wether the investment of time or money is worth or not."
      ],
      "metadata": {
        "id": "XqOb4m2kM5nZ"
      }
    }
  ]
}