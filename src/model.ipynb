{
  "nbformat": 4,
  "nbformat_minor": 0,
  "metadata": {
    "colab": {
      "name": "model.ipynb",
      "provenance": [],
      "toc_visible": true,
      "include_colab_link": true
    },
    "kernelspec": {
      "name": "python3",
      "display_name": "Python 3"
    },
    "language_info": {
      "name": "python"
    }
  },
  "cells": [
    {
      "cell_type": "markdown",
      "metadata": {
        "id": "view-in-github",
        "colab_type": "text"
      },
      "source": [
        "<a href=\"https://colab.research.google.com/github/alexferrero23/twitter-category-nlp/blob/develop/src/model.ipynb\" target=\"_parent\"><img src=\"https://colab.research.google.com/assets/colab-badge.svg\" alt=\"Open In Colab\"/></a>"
      ]
    },
    {
      "cell_type": "markdown",
      "source": [
        "# Best model search"
      ],
      "metadata": {
        "id": "LLIk3mSXaI1i"
      }
    },
    {
      "cell_type": "code",
      "execution_count": 1,
      "metadata": {
        "id": "RpzwykLeRpDT"
      },
      "outputs": [],
      "source": [
        "import pandas as pd\n",
        "import numpy as np\n",
        "import matplotlib.pyplot as plt\n",
        "from datetime import datetime\n",
        "import seaborn as sns\n",
        "import glob\n",
        "import re\n",
        "import io"
      ]
    },
    {
      "cell_type": "markdown",
      "source": [
        "## Import your file\n",
        "\n",
        "In order to start working, we have to import the file obtained from the notebook 'EDA.ipynb' in the same repository."
      ],
      "metadata": {
        "id": "BmAwlB2KR_bm"
      }
    },
    {
      "cell_type": "code",
      "source": [
        "from google.colab import files\n",
        "uploaded = files.upload()"
      ],
      "metadata": {
        "colab": {
          "resources": {
            "http://localhost:8080/nbextensions/google.colab/files.js": {
              "data": "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",
              "ok": true,
              "headers": [
                [
                  "content-type",
                  "application/javascript"
                ]
              ],
              "status": 200,
              "status_text": ""
            }
          },
          "base_uri": "https://localhost:8080/",
          "height": 73
        },
        "id": "WZAKjRKfbYo2",
        "outputId": "29dc2bcc-d8d4-4b6a-9138-98579c397b95"
      },
      "execution_count": 2,
      "outputs": [
        {
          "output_type": "display_data",
          "data": {
            "text/plain": [
              "<IPython.core.display.HTML object>"
            ],
            "text/html": [
              "\n",
              "     <input type=\"file\" id=\"files-6d27824e-6f2a-4712-a0bd-fb4ca0aa6aa9\" name=\"files[]\" multiple disabled\n",
              "        style=\"border:none\" />\n",
              "     <output id=\"result-6d27824e-6f2a-4712-a0bd-fb4ca0aa6aa9\">\n",
              "      Upload widget is only available when the cell has been executed in the\n",
              "      current browser session. Please rerun this cell to enable.\n",
              "      </output>\n",
              "      <script src=\"/nbextensions/google.colab/files.js\"></script> "
            ]
          },
          "metadata": {}
        },
        {
          "output_type": "stream",
          "name": "stdout",
          "text": [
            "Saving working_df (1).orc to working_df (1).orc\n"
          ]
        }
      ]
    },
    {
      "cell_type": "code",
      "source": [
        "import pyarrow.orc \n",
        "\n",
        "df_original = pd.read_orc('working_df (1).orc')"
      ],
      "metadata": {
        "id": "_0bI_Qs-bNiJ"
      },
      "execution_count": 3,
      "outputs": []
    },
    {
      "cell_type": "code",
      "source": [
        "df_original.head(5)"
      ],
      "metadata": {
        "colab": {
          "base_uri": "https://localhost:8080/",
          "height": 337
        },
        "id": "oCMGzUw0XRgV",
        "outputId": "1be8a7ab-c106-4a18-be98-9060f771147a"
      },
      "execution_count": 4,
      "outputs": [
        {
          "output_type": "execute_result",
          "data": {
            "text/plain": [
              "   username          created_at  \\\n",
              "0  RepAdams 2022-04-30 14:42:28   \n",
              "1  RepAdams 2022-04-29 16:40:17   \n",
              "2  RepAdams 2022-04-29 01:52:24   \n",
              "3  RepAdams 2022-04-25 15:38:45   \n",
              "4  RepAdams 2022-04-22 19:57:41   \n",
              "\n",
              "                                                text lang label  \\\n",
              "0  Today my thoughts are with the entire UNC Char...   en     D   \n",
              "1  Welcome to the next President of DavidsonColle...   en     D   \n",
              "2  This WorkersMemorialDay, we remember countless...   en     D   \n",
              "3  It’s a perfect date to celebrate the 40th Anni...   en     D   \n",
              "4  Happy National Volunteer Week!  Volunteers mak...   en     D   \n",
              "\n",
              "   retweet_count  favorite_count  length  \n",
              "0            3.0            17.0     263  \n",
              "1            1.0             0.0      62  \n",
              "2            2.0             3.0     262  \n",
              "3            3.0            29.0     163  \n",
              "4            2.0             6.0     182  "
            ],
            "text/html": [
              "\n",
              "  <div id=\"df-b6ed769a-4b3c-4f36-98d4-7fb3dc897fbc\">\n",
              "    <div class=\"colab-df-container\">\n",
              "      <div>\n",
              "<style scoped>\n",
              "    .dataframe tbody tr th:only-of-type {\n",
              "        vertical-align: middle;\n",
              "    }\n",
              "\n",
              "    .dataframe tbody tr th {\n",
              "        vertical-align: top;\n",
              "    }\n",
              "\n",
              "    .dataframe thead th {\n",
              "        text-align: right;\n",
              "    }\n",
              "</style>\n",
              "<table border=\"1\" class=\"dataframe\">\n",
              "  <thead>\n",
              "    <tr style=\"text-align: right;\">\n",
              "      <th></th>\n",
              "      <th>username</th>\n",
              "      <th>created_at</th>\n",
              "      <th>text</th>\n",
              "      <th>lang</th>\n",
              "      <th>label</th>\n",
              "      <th>retweet_count</th>\n",
              "      <th>favorite_count</th>\n",
              "      <th>length</th>\n",
              "    </tr>\n",
              "  </thead>\n",
              "  <tbody>\n",
              "    <tr>\n",
              "      <th>0</th>\n",
              "      <td>RepAdams</td>\n",
              "      <td>2022-04-30 14:42:28</td>\n",
              "      <td>Today my thoughts are with the entire UNC Char...</td>\n",
              "      <td>en</td>\n",
              "      <td>D</td>\n",
              "      <td>3.0</td>\n",
              "      <td>17.0</td>\n",
              "      <td>263</td>\n",
              "    </tr>\n",
              "    <tr>\n",
              "      <th>1</th>\n",
              "      <td>RepAdams</td>\n",
              "      <td>2022-04-29 16:40:17</td>\n",
              "      <td>Welcome to the next President of DavidsonColle...</td>\n",
              "      <td>en</td>\n",
              "      <td>D</td>\n",
              "      <td>1.0</td>\n",
              "      <td>0.0</td>\n",
              "      <td>62</td>\n",
              "    </tr>\n",
              "    <tr>\n",
              "      <th>2</th>\n",
              "      <td>RepAdams</td>\n",
              "      <td>2022-04-29 01:52:24</td>\n",
              "      <td>This WorkersMemorialDay, we remember countless...</td>\n",
              "      <td>en</td>\n",
              "      <td>D</td>\n",
              "      <td>2.0</td>\n",
              "      <td>3.0</td>\n",
              "      <td>262</td>\n",
              "    </tr>\n",
              "    <tr>\n",
              "      <th>3</th>\n",
              "      <td>RepAdams</td>\n",
              "      <td>2022-04-25 15:38:45</td>\n",
              "      <td>It’s a perfect date to celebrate the 40th Anni...</td>\n",
              "      <td>en</td>\n",
              "      <td>D</td>\n",
              "      <td>3.0</td>\n",
              "      <td>29.0</td>\n",
              "      <td>163</td>\n",
              "    </tr>\n",
              "    <tr>\n",
              "      <th>4</th>\n",
              "      <td>RepAdams</td>\n",
              "      <td>2022-04-22 19:57:41</td>\n",
              "      <td>Happy National Volunteer Week!  Volunteers mak...</td>\n",
              "      <td>en</td>\n",
              "      <td>D</td>\n",
              "      <td>2.0</td>\n",
              "      <td>6.0</td>\n",
              "      <td>182</td>\n",
              "    </tr>\n",
              "  </tbody>\n",
              "</table>\n",
              "</div>\n",
              "      <button class=\"colab-df-convert\" onclick=\"convertToInteractive('df-b6ed769a-4b3c-4f36-98d4-7fb3dc897fbc')\"\n",
              "              title=\"Convert this dataframe to an interactive table.\"\n",
              "              style=\"display:none;\">\n",
              "        \n",
              "  <svg xmlns=\"http://www.w3.org/2000/svg\" height=\"24px\"viewBox=\"0 0 24 24\"\n",
              "       width=\"24px\">\n",
              "    <path d=\"M0 0h24v24H0V0z\" fill=\"none\"/>\n",
              "    <path d=\"M18.56 5.44l.94 2.06.94-2.06 2.06-.94-2.06-.94-.94-2.06-.94 2.06-2.06.94zm-11 1L8.5 8.5l.94-2.06 2.06-.94-2.06-.94L8.5 2.5l-.94 2.06-2.06.94zm10 10l.94 2.06.94-2.06 2.06-.94-2.06-.94-.94-2.06-.94 2.06-2.06.94z\"/><path d=\"M17.41 7.96l-1.37-1.37c-.4-.4-.92-.59-1.43-.59-.52 0-1.04.2-1.43.59L10.3 9.45l-7.72 7.72c-.78.78-.78 2.05 0 2.83L4 21.41c.39.39.9.59 1.41.59.51 0 1.02-.2 1.41-.59l7.78-7.78 2.81-2.81c.8-.78.8-2.07 0-2.86zM5.41 20L4 18.59l7.72-7.72 1.47 1.35L5.41 20z\"/>\n",
              "  </svg>\n",
              "      </button>\n",
              "      \n",
              "  <style>\n",
              "    .colab-df-container {\n",
              "      display:flex;\n",
              "      flex-wrap:wrap;\n",
              "      gap: 12px;\n",
              "    }\n",
              "\n",
              "    .colab-df-convert {\n",
              "      background-color: #E8F0FE;\n",
              "      border: none;\n",
              "      border-radius: 50%;\n",
              "      cursor: pointer;\n",
              "      display: none;\n",
              "      fill: #1967D2;\n",
              "      height: 32px;\n",
              "      padding: 0 0 0 0;\n",
              "      width: 32px;\n",
              "    }\n",
              "\n",
              "    .colab-df-convert:hover {\n",
              "      background-color: #E2EBFA;\n",
              "      box-shadow: 0px 1px 2px rgba(60, 64, 67, 0.3), 0px 1px 3px 1px rgba(60, 64, 67, 0.15);\n",
              "      fill: #174EA6;\n",
              "    }\n",
              "\n",
              "    [theme=dark] .colab-df-convert {\n",
              "      background-color: #3B4455;\n",
              "      fill: #D2E3FC;\n",
              "    }\n",
              "\n",
              "    [theme=dark] .colab-df-convert:hover {\n",
              "      background-color: #434B5C;\n",
              "      box-shadow: 0px 1px 3px 1px rgba(0, 0, 0, 0.15);\n",
              "      filter: drop-shadow(0px 1px 2px rgba(0, 0, 0, 0.3));\n",
              "      fill: #FFFFFF;\n",
              "    }\n",
              "  </style>\n",
              "\n",
              "      <script>\n",
              "        const buttonEl =\n",
              "          document.querySelector('#df-b6ed769a-4b3c-4f36-98d4-7fb3dc897fbc button.colab-df-convert');\n",
              "        buttonEl.style.display =\n",
              "          google.colab.kernel.accessAllowed ? 'block' : 'none';\n",
              "\n",
              "        async function convertToInteractive(key) {\n",
              "          const element = document.querySelector('#df-b6ed769a-4b3c-4f36-98d4-7fb3dc897fbc');\n",
              "          const dataTable =\n",
              "            await google.colab.kernel.invokeFunction('convertToInteractive',\n",
              "                                                     [key], {});\n",
              "          if (!dataTable) return;\n",
              "\n",
              "          const docLinkHtml = 'Like what you see? Visit the ' +\n",
              "            '<a target=\"_blank\" href=https://colab.research.google.com/notebooks/data_table.ipynb>data table notebook</a>'\n",
              "            + ' to learn more about interactive tables.';\n",
              "          element.innerHTML = '';\n",
              "          dataTable['output_type'] = 'display_data';\n",
              "          await google.colab.output.renderOutput(dataTable, element);\n",
              "          const docLink = document.createElement('div');\n",
              "          docLink.innerHTML = docLinkHtml;\n",
              "          element.appendChild(docLink);\n",
              "        }\n",
              "      </script>\n",
              "    </div>\n",
              "  </div>\n",
              "  "
            ]
          },
          "metadata": {},
          "execution_count": 4
        }
      ]
    },
    {
      "cell_type": "markdown",
      "source": [
        "We are going to use a subset of the dataframe for two reasons: First, models take too much time to fit (unless you are using a huge and expensive machine, which is not my case) and secondly, it seems that more data doesn't lead to better results. At the end of this notebook there will be a more accurate explanation of this.\n",
        "\n"
      ],
      "metadata": {
        "id": "aW_quoJxEREX"
      }
    },
    {
      "cell_type": "code",
      "source": [
        "from sklearn.utils import shuffle\n",
        "df_d = shuffle(df_original[df_original['label']=='D'])[:10000]\n",
        "df_r = shuffle(df_original[df_original['label']=='R'])[:10000]\n",
        "df = df_d.append(df_r, ignore_index=True)"
      ],
      "metadata": {
        "id": "gFAUeQcj-siW"
      },
      "execution_count": 5,
      "outputs": []
    },
    {
      "cell_type": "markdown",
      "source": [
        "## Model preprocesing\n",
        "\n",
        "Before we start trying out models, we need to make some transformation in the data.\n",
        "First, let's create a column with a list of words from tweets.\n",
        "Library nltk contains two methods really usefull for this step:\n",
        "\n",
        " - stopwords returns a dictionary with useless words for our model.\n",
        " - TweetTokenizer allows us to convert the stream of words into small  tokens"
      ],
      "metadata": {
        "id": "5SD8V5uOA1xs"
      }
    },
    {
      "cell_type": "code",
      "source": [
        "import nltk\n",
        "from nltk.tokenize import TweetTokenizer\n",
        "from nltk.corpus import stopwords\n",
        "nltk.download('stopwords')\n",
        "stop=list(stopwords.words('english'))\n",
        "import string\n",
        "stop.extend(('&amp;', '-', '…', '’', '“', '—', '”', 'amp'))\n",
        "\n",
        "def create_corpus_column(tweet):\n",
        "    tokenizer = TweetTokenizer(preserve_case=False, strip_handles=True,\n",
        "                               reduce_len=True)\n",
        "    cleaned_corpus = []\n",
        "    corpus = tokenizer.tokenize(tweet)\n",
        "    for word in corpus:\n",
        "        if (word not in stop) and (word not in string.punctuation):\n",
        "             cleaned_corpus.append(word)\n",
        "    return cleaned_corpus"
      ],
      "metadata": {
        "colab": {
          "base_uri": "https://localhost:8080/"
        },
        "id": "3SJ3CNBiUqYm",
        "outputId": "ee4e6427-b6ba-49c4-d882-4427d1171f78"
      },
      "execution_count": 6,
      "outputs": [
        {
          "output_type": "stream",
          "name": "stdout",
          "text": [
            "[nltk_data] Downloading package stopwords to /root/nltk_data...\n",
            "[nltk_data]   Unzipping corpora/stopwords.zip.\n"
          ]
        }
      ]
    },
    {
      "cell_type": "code",
      "source": [
        "df['text_corpus'] = df['text'].apply(create_corpus_column)"
      ],
      "metadata": {
        "id": "9nnJsvYxXZmA"
      },
      "execution_count": 7,
      "outputs": []
    },
    {
      "cell_type": "code",
      "source": [
        "df.head(5)"
      ],
      "metadata": {
        "colab": {
          "base_uri": "https://localhost:8080/",
          "height": 510
        },
        "id": "m9gLcaXoZN21",
        "outputId": "5db76f62-0016-4171-99ac-9f87ca8d5d66"
      },
      "execution_count": 8,
      "outputs": [
        {
          "output_type": "execute_result",
          "data": {
            "text/plain": [
              "        username          created_at  \\\n",
              "0    EspaillatNY 2014-09-09 22:29:42   \n",
              "1    BradSherman 2020-10-15 01:10:01   \n",
              "2   RepDWStweets 2019-09-12 14:11:33   \n",
              "3    RepCardenas 2021-02-16 13:42:53   \n",
              "4  RepAngieCraig 2019-07-12 20:58:50   \n",
              "\n",
              "                                                text lang label  \\\n",
              "0  What's at stake in this year's election? DREAM...   en     D   \n",
              "1  Trump's approach to international health coope...   en     D   \n",
              "2  Republicans hid a provision in the GOP TaxScam...   en     D   \n",
              "3  Beginning yesterday and running through May 15...   en     D   \n",
              "4  Congratulations to South Saint Paul’s Fleming ...   en     D   \n",
              "\n",
              "   retweet_count  favorite_count  length  \\\n",
              "0            4.0             2.0     123   \n",
              "1           14.0            40.0     261   \n",
              "2           28.0            60.0     238   \n",
              "3            2.0             5.0      91   \n",
              "4            6.0            21.0     252   \n",
              "\n",
              "                                         text_corpus  \n",
              "0  [what's, stake, year's, election, dreamaact, i...  \n",
              "1  [trump's, approach, international, health, coo...  \n",
              "2  [republicans, hid, provision, gop, taxscam, cl...  \n",
              "3  [beginning, yesterday, running, may, 15, biden...  \n",
              "4  [congratulations, south, saint, paul, fleming,...  "
            ],
            "text/html": [
              "\n",
              "  <div id=\"df-6352901f-295f-4b54-a6a2-b0bdc58f1796\">\n",
              "    <div class=\"colab-df-container\">\n",
              "      <div>\n",
              "<style scoped>\n",
              "    .dataframe tbody tr th:only-of-type {\n",
              "        vertical-align: middle;\n",
              "    }\n",
              "\n",
              "    .dataframe tbody tr th {\n",
              "        vertical-align: top;\n",
              "    }\n",
              "\n",
              "    .dataframe thead th {\n",
              "        text-align: right;\n",
              "    }\n",
              "</style>\n",
              "<table border=\"1\" class=\"dataframe\">\n",
              "  <thead>\n",
              "    <tr style=\"text-align: right;\">\n",
              "      <th></th>\n",
              "      <th>username</th>\n",
              "      <th>created_at</th>\n",
              "      <th>text</th>\n",
              "      <th>lang</th>\n",
              "      <th>label</th>\n",
              "      <th>retweet_count</th>\n",
              "      <th>favorite_count</th>\n",
              "      <th>length</th>\n",
              "      <th>text_corpus</th>\n",
              "    </tr>\n",
              "  </thead>\n",
              "  <tbody>\n",
              "    <tr>\n",
              "      <th>0</th>\n",
              "      <td>EspaillatNY</td>\n",
              "      <td>2014-09-09 22:29:42</td>\n",
              "      <td>What's at stake in this year's election? DREAM...</td>\n",
              "      <td>en</td>\n",
              "      <td>D</td>\n",
              "      <td>4.0</td>\n",
              "      <td>2.0</td>\n",
              "      <td>123</td>\n",
              "      <td>[what's, stake, year's, election, dreamaact, i...</td>\n",
              "    </tr>\n",
              "    <tr>\n",
              "      <th>1</th>\n",
              "      <td>BradSherman</td>\n",
              "      <td>2020-10-15 01:10:01</td>\n",
              "      <td>Trump's approach to international health coope...</td>\n",
              "      <td>en</td>\n",
              "      <td>D</td>\n",
              "      <td>14.0</td>\n",
              "      <td>40.0</td>\n",
              "      <td>261</td>\n",
              "      <td>[trump's, approach, international, health, coo...</td>\n",
              "    </tr>\n",
              "    <tr>\n",
              "      <th>2</th>\n",
              "      <td>RepDWStweets</td>\n",
              "      <td>2019-09-12 14:11:33</td>\n",
              "      <td>Republicans hid a provision in the GOP TaxScam...</td>\n",
              "      <td>en</td>\n",
              "      <td>D</td>\n",
              "      <td>28.0</td>\n",
              "      <td>60.0</td>\n",
              "      <td>238</td>\n",
              "      <td>[republicans, hid, provision, gop, taxscam, cl...</td>\n",
              "    </tr>\n",
              "    <tr>\n",
              "      <th>3</th>\n",
              "      <td>RepCardenas</td>\n",
              "      <td>2021-02-16 13:42:53</td>\n",
              "      <td>Beginning yesterday and running through May 15...</td>\n",
              "      <td>en</td>\n",
              "      <td>D</td>\n",
              "      <td>2.0</td>\n",
              "      <td>5.0</td>\n",
              "      <td>91</td>\n",
              "      <td>[beginning, yesterday, running, may, 15, biden...</td>\n",
              "    </tr>\n",
              "    <tr>\n",
              "      <th>4</th>\n",
              "      <td>RepAngieCraig</td>\n",
              "      <td>2019-07-12 20:58:50</td>\n",
              "      <td>Congratulations to South Saint Paul’s Fleming ...</td>\n",
              "      <td>en</td>\n",
              "      <td>D</td>\n",
              "      <td>6.0</td>\n",
              "      <td>21.0</td>\n",
              "      <td>252</td>\n",
              "      <td>[congratulations, south, saint, paul, fleming,...</td>\n",
              "    </tr>\n",
              "  </tbody>\n",
              "</table>\n",
              "</div>\n",
              "      <button class=\"colab-df-convert\" onclick=\"convertToInteractive('df-6352901f-295f-4b54-a6a2-b0bdc58f1796')\"\n",
              "              title=\"Convert this dataframe to an interactive table.\"\n",
              "              style=\"display:none;\">\n",
              "        \n",
              "  <svg xmlns=\"http://www.w3.org/2000/svg\" height=\"24px\"viewBox=\"0 0 24 24\"\n",
              "       width=\"24px\">\n",
              "    <path d=\"M0 0h24v24H0V0z\" fill=\"none\"/>\n",
              "    <path d=\"M18.56 5.44l.94 2.06.94-2.06 2.06-.94-2.06-.94-.94-2.06-.94 2.06-2.06.94zm-11 1L8.5 8.5l.94-2.06 2.06-.94-2.06-.94L8.5 2.5l-.94 2.06-2.06.94zm10 10l.94 2.06.94-2.06 2.06-.94-2.06-.94-.94-2.06-.94 2.06-2.06.94z\"/><path d=\"M17.41 7.96l-1.37-1.37c-.4-.4-.92-.59-1.43-.59-.52 0-1.04.2-1.43.59L10.3 9.45l-7.72 7.72c-.78.78-.78 2.05 0 2.83L4 21.41c.39.39.9.59 1.41.59.51 0 1.02-.2 1.41-.59l7.78-7.78 2.81-2.81c.8-.78.8-2.07 0-2.86zM5.41 20L4 18.59l7.72-7.72 1.47 1.35L5.41 20z\"/>\n",
              "  </svg>\n",
              "      </button>\n",
              "      \n",
              "  <style>\n",
              "    .colab-df-container {\n",
              "      display:flex;\n",
              "      flex-wrap:wrap;\n",
              "      gap: 12px;\n",
              "    }\n",
              "\n",
              "    .colab-df-convert {\n",
              "      background-color: #E8F0FE;\n",
              "      border: none;\n",
              "      border-radius: 50%;\n",
              "      cursor: pointer;\n",
              "      display: none;\n",
              "      fill: #1967D2;\n",
              "      height: 32px;\n",
              "      padding: 0 0 0 0;\n",
              "      width: 32px;\n",
              "    }\n",
              "\n",
              "    .colab-df-convert:hover {\n",
              "      background-color: #E2EBFA;\n",
              "      box-shadow: 0px 1px 2px rgba(60, 64, 67, 0.3), 0px 1px 3px 1px rgba(60, 64, 67, 0.15);\n",
              "      fill: #174EA6;\n",
              "    }\n",
              "\n",
              "    [theme=dark] .colab-df-convert {\n",
              "      background-color: #3B4455;\n",
              "      fill: #D2E3FC;\n",
              "    }\n",
              "\n",
              "    [theme=dark] .colab-df-convert:hover {\n",
              "      background-color: #434B5C;\n",
              "      box-shadow: 0px 1px 3px 1px rgba(0, 0, 0, 0.15);\n",
              "      filter: drop-shadow(0px 1px 2px rgba(0, 0, 0, 0.3));\n",
              "      fill: #FFFFFF;\n",
              "    }\n",
              "  </style>\n",
              "\n",
              "      <script>\n",
              "        const buttonEl =\n",
              "          document.querySelector('#df-6352901f-295f-4b54-a6a2-b0bdc58f1796 button.colab-df-convert');\n",
              "        buttonEl.style.display =\n",
              "          google.colab.kernel.accessAllowed ? 'block' : 'none';\n",
              "\n",
              "        async function convertToInteractive(key) {\n",
              "          const element = document.querySelector('#df-6352901f-295f-4b54-a6a2-b0bdc58f1796');\n",
              "          const dataTable =\n",
              "            await google.colab.kernel.invokeFunction('convertToInteractive',\n",
              "                                                     [key], {});\n",
              "          if (!dataTable) return;\n",
              "\n",
              "          const docLinkHtml = 'Like what you see? Visit the ' +\n",
              "            '<a target=\"_blank\" href=https://colab.research.google.com/notebooks/data_table.ipynb>data table notebook</a>'\n",
              "            + ' to learn more about interactive tables.';\n",
              "          element.innerHTML = '';\n",
              "          dataTable['output_type'] = 'display_data';\n",
              "          await google.colab.output.renderOutput(dataTable, element);\n",
              "          const docLink = document.createElement('div');\n",
              "          docLink.innerHTML = docLinkHtml;\n",
              "          element.appendChild(docLink);\n",
              "        }\n",
              "      </script>\n",
              "    </div>\n",
              "  </div>\n",
              "  "
            ]
          },
          "metadata": {},
          "execution_count": 8
        }
      ]
    },
    {
      "cell_type": "markdown",
      "source": [
        "### Cosine similarity\n",
        "\n",
        "A very good exercise we can do now is check correlation between the two groups. As we are analyzing tweets from the same topic, it's evident that this correlation is going to be really big. Firstly, we unnest the column text_corpus.\n",
        "\n",
        "\n"
      ],
      "metadata": {
        "id": "n4F7p76ABFzY"
      }
    },
    {
      "cell_type": "code",
      "source": [
        "df_tidy = df.explode(column='text_corpus')\n",
        "df_tidy = df_tidy.drop(columns='text')\n",
        "df_tidy.head(3)"
      ],
      "metadata": {
        "colab": {
          "base_uri": "https://localhost:8080/",
          "height": 143
        },
        "id": "2gJomwcMRszd",
        "outputId": "42de9773-d581-49aa-a6f1-d41e7cd2a91a"
      },
      "execution_count": 9,
      "outputs": [
        {
          "output_type": "execute_result",
          "data": {
            "text/plain": [
              "      username          created_at lang label  retweet_count  favorite_count  \\\n",
              "0  EspaillatNY 2014-09-09 22:29:42   en     D            4.0             2.0   \n",
              "0  EspaillatNY 2014-09-09 22:29:42   en     D            4.0             2.0   \n",
              "0  EspaillatNY 2014-09-09 22:29:42   en     D            4.0             2.0   \n",
              "\n",
              "   length text_corpus  \n",
              "0     123      what's  \n",
              "0     123       stake  \n",
              "0     123      year's  "
            ],
            "text/html": [
              "\n",
              "  <div id=\"df-87a8e068-9431-4129-b712-32c88ab10ff3\">\n",
              "    <div class=\"colab-df-container\">\n",
              "      <div>\n",
              "<style scoped>\n",
              "    .dataframe tbody tr th:only-of-type {\n",
              "        vertical-align: middle;\n",
              "    }\n",
              "\n",
              "    .dataframe tbody tr th {\n",
              "        vertical-align: top;\n",
              "    }\n",
              "\n",
              "    .dataframe thead th {\n",
              "        text-align: right;\n",
              "    }\n",
              "</style>\n",
              "<table border=\"1\" class=\"dataframe\">\n",
              "  <thead>\n",
              "    <tr style=\"text-align: right;\">\n",
              "      <th></th>\n",
              "      <th>username</th>\n",
              "      <th>created_at</th>\n",
              "      <th>lang</th>\n",
              "      <th>label</th>\n",
              "      <th>retweet_count</th>\n",
              "      <th>favorite_count</th>\n",
              "      <th>length</th>\n",
              "      <th>text_corpus</th>\n",
              "    </tr>\n",
              "  </thead>\n",
              "  <tbody>\n",
              "    <tr>\n",
              "      <th>0</th>\n",
              "      <td>EspaillatNY</td>\n",
              "      <td>2014-09-09 22:29:42</td>\n",
              "      <td>en</td>\n",
              "      <td>D</td>\n",
              "      <td>4.0</td>\n",
              "      <td>2.0</td>\n",
              "      <td>123</td>\n",
              "      <td>what's</td>\n",
              "    </tr>\n",
              "    <tr>\n",
              "      <th>0</th>\n",
              "      <td>EspaillatNY</td>\n",
              "      <td>2014-09-09 22:29:42</td>\n",
              "      <td>en</td>\n",
              "      <td>D</td>\n",
              "      <td>4.0</td>\n",
              "      <td>2.0</td>\n",
              "      <td>123</td>\n",
              "      <td>stake</td>\n",
              "    </tr>\n",
              "    <tr>\n",
              "      <th>0</th>\n",
              "      <td>EspaillatNY</td>\n",
              "      <td>2014-09-09 22:29:42</td>\n",
              "      <td>en</td>\n",
              "      <td>D</td>\n",
              "      <td>4.0</td>\n",
              "      <td>2.0</td>\n",
              "      <td>123</td>\n",
              "      <td>year's</td>\n",
              "    </tr>\n",
              "  </tbody>\n",
              "</table>\n",
              "</div>\n",
              "      <button class=\"colab-df-convert\" onclick=\"convertToInteractive('df-87a8e068-9431-4129-b712-32c88ab10ff3')\"\n",
              "              title=\"Convert this dataframe to an interactive table.\"\n",
              "              style=\"display:none;\">\n",
              "        \n",
              "  <svg xmlns=\"http://www.w3.org/2000/svg\" height=\"24px\"viewBox=\"0 0 24 24\"\n",
              "       width=\"24px\">\n",
              "    <path d=\"M0 0h24v24H0V0z\" fill=\"none\"/>\n",
              "    <path d=\"M18.56 5.44l.94 2.06.94-2.06 2.06-.94-2.06-.94-.94-2.06-.94 2.06-2.06.94zm-11 1L8.5 8.5l.94-2.06 2.06-.94-2.06-.94L8.5 2.5l-.94 2.06-2.06.94zm10 10l.94 2.06.94-2.06 2.06-.94-2.06-.94-.94-2.06-.94 2.06-2.06.94z\"/><path d=\"M17.41 7.96l-1.37-1.37c-.4-.4-.92-.59-1.43-.59-.52 0-1.04.2-1.43.59L10.3 9.45l-7.72 7.72c-.78.78-.78 2.05 0 2.83L4 21.41c.39.39.9.59 1.41.59.51 0 1.02-.2 1.41-.59l7.78-7.78 2.81-2.81c.8-.78.8-2.07 0-2.86zM5.41 20L4 18.59l7.72-7.72 1.47 1.35L5.41 20z\"/>\n",
              "  </svg>\n",
              "      </button>\n",
              "      \n",
              "  <style>\n",
              "    .colab-df-container {\n",
              "      display:flex;\n",
              "      flex-wrap:wrap;\n",
              "      gap: 12px;\n",
              "    }\n",
              "\n",
              "    .colab-df-convert {\n",
              "      background-color: #E8F0FE;\n",
              "      border: none;\n",
              "      border-radius: 50%;\n",
              "      cursor: pointer;\n",
              "      display: none;\n",
              "      fill: #1967D2;\n",
              "      height: 32px;\n",
              "      padding: 0 0 0 0;\n",
              "      width: 32px;\n",
              "    }\n",
              "\n",
              "    .colab-df-convert:hover {\n",
              "      background-color: #E2EBFA;\n",
              "      box-shadow: 0px 1px 2px rgba(60, 64, 67, 0.3), 0px 1px 3px 1px rgba(60, 64, 67, 0.15);\n",
              "      fill: #174EA6;\n",
              "    }\n",
              "\n",
              "    [theme=dark] .colab-df-convert {\n",
              "      background-color: #3B4455;\n",
              "      fill: #D2E3FC;\n",
              "    }\n",
              "\n",
              "    [theme=dark] .colab-df-convert:hover {\n",
              "      background-color: #434B5C;\n",
              "      box-shadow: 0px 1px 3px 1px rgba(0, 0, 0, 0.15);\n",
              "      filter: drop-shadow(0px 1px 2px rgba(0, 0, 0, 0.3));\n",
              "      fill: #FFFFFF;\n",
              "    }\n",
              "  </style>\n",
              "\n",
              "      <script>\n",
              "        const buttonEl =\n",
              "          document.querySelector('#df-87a8e068-9431-4129-b712-32c88ab10ff3 button.colab-df-convert');\n",
              "        buttonEl.style.display =\n",
              "          google.colab.kernel.accessAllowed ? 'block' : 'none';\n",
              "\n",
              "        async function convertToInteractive(key) {\n",
              "          const element = document.querySelector('#df-87a8e068-9431-4129-b712-32c88ab10ff3');\n",
              "          const dataTable =\n",
              "            await google.colab.kernel.invokeFunction('convertToInteractive',\n",
              "                                                     [key], {});\n",
              "          if (!dataTable) return;\n",
              "\n",
              "          const docLinkHtml = 'Like what you see? Visit the ' +\n",
              "            '<a target=\"_blank\" href=https://colab.research.google.com/notebooks/data_table.ipynb>data table notebook</a>'\n",
              "            + ' to learn more about interactive tables.';\n",
              "          element.innerHTML = '';\n",
              "          dataTable['output_type'] = 'display_data';\n",
              "          await google.colab.output.renderOutput(dataTable, element);\n",
              "          const docLink = document.createElement('div');\n",
              "          docLink.innerHTML = docLinkHtml;\n",
              "          element.appendChild(docLink);\n",
              "        }\n",
              "      </script>\n",
              "    </div>\n",
              "  </div>\n",
              "  "
            ]
          },
          "metadata": {},
          "execution_count": 9
        }
      ]
    },
    {
      "cell_type": "code",
      "source": [
        "# Data pivot by label\n",
        "df_pivot = df_tidy.groupby([\"label\",\"text_corpus\"])[\"text_corpus\"] \\\n",
        "                .agg([\"count\"]).reset_index() \\\n",
        "                .pivot(index = \"text_corpus\" , columns=\"label\", values= \"count\")\n",
        "df_pivot.columns.name = None\n",
        "df_pivot.head(3)"
      ],
      "metadata": {
        "id": "r9JMMoH9Rs1f",
        "colab": {
          "base_uri": "https://localhost:8080/",
          "height": 175
        },
        "outputId": "b948fb76-3a52-46e4-8286-8acc8846a486"
      },
      "execution_count": 10,
      "outputs": [
        {
          "output_type": "execute_result",
          "data": {
            "text/plain": [
              "                 D    R\n",
              "text_corpus            \n",
              "(202) 225-2165 NaN  1.0\n",
              "(202) 225-3772 NaN  1.0\n",
              "(202)225-2211  NaN  1.0"
            ],
            "text/html": [
              "\n",
              "  <div id=\"df-37042a9a-a4aa-4ab4-8f96-50d7c7ed7c24\">\n",
              "    <div class=\"colab-df-container\">\n",
              "      <div>\n",
              "<style scoped>\n",
              "    .dataframe tbody tr th:only-of-type {\n",
              "        vertical-align: middle;\n",
              "    }\n",
              "\n",
              "    .dataframe tbody tr th {\n",
              "        vertical-align: top;\n",
              "    }\n",
              "\n",
              "    .dataframe thead th {\n",
              "        text-align: right;\n",
              "    }\n",
              "</style>\n",
              "<table border=\"1\" class=\"dataframe\">\n",
              "  <thead>\n",
              "    <tr style=\"text-align: right;\">\n",
              "      <th></th>\n",
              "      <th>D</th>\n",
              "      <th>R</th>\n",
              "    </tr>\n",
              "    <tr>\n",
              "      <th>text_corpus</th>\n",
              "      <th></th>\n",
              "      <th></th>\n",
              "    </tr>\n",
              "  </thead>\n",
              "  <tbody>\n",
              "    <tr>\n",
              "      <th>(202) 225-2165</th>\n",
              "      <td>NaN</td>\n",
              "      <td>1.0</td>\n",
              "    </tr>\n",
              "    <tr>\n",
              "      <th>(202) 225-3772</th>\n",
              "      <td>NaN</td>\n",
              "      <td>1.0</td>\n",
              "    </tr>\n",
              "    <tr>\n",
              "      <th>(202)225-2211</th>\n",
              "      <td>NaN</td>\n",
              "      <td>1.0</td>\n",
              "    </tr>\n",
              "  </tbody>\n",
              "</table>\n",
              "</div>\n",
              "      <button class=\"colab-df-convert\" onclick=\"convertToInteractive('df-37042a9a-a4aa-4ab4-8f96-50d7c7ed7c24')\"\n",
              "              title=\"Convert this dataframe to an interactive table.\"\n",
              "              style=\"display:none;\">\n",
              "        \n",
              "  <svg xmlns=\"http://www.w3.org/2000/svg\" height=\"24px\"viewBox=\"0 0 24 24\"\n",
              "       width=\"24px\">\n",
              "    <path d=\"M0 0h24v24H0V0z\" fill=\"none\"/>\n",
              "    <path d=\"M18.56 5.44l.94 2.06.94-2.06 2.06-.94-2.06-.94-.94-2.06-.94 2.06-2.06.94zm-11 1L8.5 8.5l.94-2.06 2.06-.94-2.06-.94L8.5 2.5l-.94 2.06-2.06.94zm10 10l.94 2.06.94-2.06 2.06-.94-2.06-.94-.94-2.06-.94 2.06-2.06.94z\"/><path d=\"M17.41 7.96l-1.37-1.37c-.4-.4-.92-.59-1.43-.59-.52 0-1.04.2-1.43.59L10.3 9.45l-7.72 7.72c-.78.78-.78 2.05 0 2.83L4 21.41c.39.39.9.59 1.41.59.51 0 1.02-.2 1.41-.59l7.78-7.78 2.81-2.81c.8-.78.8-2.07 0-2.86zM5.41 20L4 18.59l7.72-7.72 1.47 1.35L5.41 20z\"/>\n",
              "  </svg>\n",
              "      </button>\n",
              "      \n",
              "  <style>\n",
              "    .colab-df-container {\n",
              "      display:flex;\n",
              "      flex-wrap:wrap;\n",
              "      gap: 12px;\n",
              "    }\n",
              "\n",
              "    .colab-df-convert {\n",
              "      background-color: #E8F0FE;\n",
              "      border: none;\n",
              "      border-radius: 50%;\n",
              "      cursor: pointer;\n",
              "      display: none;\n",
              "      fill: #1967D2;\n",
              "      height: 32px;\n",
              "      padding: 0 0 0 0;\n",
              "      width: 32px;\n",
              "    }\n",
              "\n",
              "    .colab-df-convert:hover {\n",
              "      background-color: #E2EBFA;\n",
              "      box-shadow: 0px 1px 2px rgba(60, 64, 67, 0.3), 0px 1px 3px 1px rgba(60, 64, 67, 0.15);\n",
              "      fill: #174EA6;\n",
              "    }\n",
              "\n",
              "    [theme=dark] .colab-df-convert {\n",
              "      background-color: #3B4455;\n",
              "      fill: #D2E3FC;\n",
              "    }\n",
              "\n",
              "    [theme=dark] .colab-df-convert:hover {\n",
              "      background-color: #434B5C;\n",
              "      box-shadow: 0px 1px 3px 1px rgba(0, 0, 0, 0.15);\n",
              "      filter: drop-shadow(0px 1px 2px rgba(0, 0, 0, 0.3));\n",
              "      fill: #FFFFFF;\n",
              "    }\n",
              "  </style>\n",
              "\n",
              "      <script>\n",
              "        const buttonEl =\n",
              "          document.querySelector('#df-37042a9a-a4aa-4ab4-8f96-50d7c7ed7c24 button.colab-df-convert');\n",
              "        buttonEl.style.display =\n",
              "          google.colab.kernel.accessAllowed ? 'block' : 'none';\n",
              "\n",
              "        async function convertToInteractive(key) {\n",
              "          const element = document.querySelector('#df-37042a9a-a4aa-4ab4-8f96-50d7c7ed7c24');\n",
              "          const dataTable =\n",
              "            await google.colab.kernel.invokeFunction('convertToInteractive',\n",
              "                                                     [key], {});\n",
              "          if (!dataTable) return;\n",
              "\n",
              "          const docLinkHtml = 'Like what you see? Visit the ' +\n",
              "            '<a target=\"_blank\" href=https://colab.research.google.com/notebooks/data_table.ipynb>data table notebook</a>'\n",
              "            + ' to learn more about interactive tables.';\n",
              "          element.innerHTML = '';\n",
              "          dataTable['output_type'] = 'display_data';\n",
              "          await google.colab.output.renderOutput(dataTable, element);\n",
              "          const docLink = document.createElement('div');\n",
              "          docLink.innerHTML = docLinkHtml;\n",
              "          element.appendChild(docLink);\n",
              "        }\n",
              "      </script>\n",
              "    </div>\n",
              "  </div>\n",
              "  "
            ]
          },
          "metadata": {},
          "execution_count": 10
        }
      ]
    },
    {
      "cell_type": "markdown",
      "source": [
        "Most used similarity measure when working with text is 1 - cosine distance.\n"
      ],
      "metadata": {
        "id": "oUPdEgDzdptF"
      }
    },
    {
      "cell_type": "code",
      "source": [
        "from scipy.spatial.distance import cosine\n",
        "\n",
        "def consine_similarity(a,b):\n",
        "    distancia = cosine(a,b)\n",
        "    return 1-distancia\n",
        "\n",
        "df_pivot.corr(method=consine_similarity)"
      ],
      "metadata": {
        "colab": {
          "base_uri": "https://localhost:8080/",
          "height": 112
        },
        "id": "7pnKtkM6Rs3T",
        "outputId": "26a98bd0-4da2-46cd-aa02-e1e2a2b9d512"
      },
      "execution_count": 11,
      "outputs": [
        {
          "output_type": "execute_result",
          "data": {
            "text/plain": [
              "          D         R\n",
              "D  1.000000  0.911583\n",
              "R  0.911583  1.000000"
            ],
            "text/html": [
              "\n",
              "  <div id=\"df-1e302f2a-b72b-4c9f-b521-b2364e7781e0\">\n",
              "    <div class=\"colab-df-container\">\n",
              "      <div>\n",
              "<style scoped>\n",
              "    .dataframe tbody tr th:only-of-type {\n",
              "        vertical-align: middle;\n",
              "    }\n",
              "\n",
              "    .dataframe tbody tr th {\n",
              "        vertical-align: top;\n",
              "    }\n",
              "\n",
              "    .dataframe thead th {\n",
              "        text-align: right;\n",
              "    }\n",
              "</style>\n",
              "<table border=\"1\" class=\"dataframe\">\n",
              "  <thead>\n",
              "    <tr style=\"text-align: right;\">\n",
              "      <th></th>\n",
              "      <th>D</th>\n",
              "      <th>R</th>\n",
              "    </tr>\n",
              "  </thead>\n",
              "  <tbody>\n",
              "    <tr>\n",
              "      <th>D</th>\n",
              "      <td>1.000000</td>\n",
              "      <td>0.911583</td>\n",
              "    </tr>\n",
              "    <tr>\n",
              "      <th>R</th>\n",
              "      <td>0.911583</td>\n",
              "      <td>1.000000</td>\n",
              "    </tr>\n",
              "  </tbody>\n",
              "</table>\n",
              "</div>\n",
              "      <button class=\"colab-df-convert\" onclick=\"convertToInteractive('df-1e302f2a-b72b-4c9f-b521-b2364e7781e0')\"\n",
              "              title=\"Convert this dataframe to an interactive table.\"\n",
              "              style=\"display:none;\">\n",
              "        \n",
              "  <svg xmlns=\"http://www.w3.org/2000/svg\" height=\"24px\"viewBox=\"0 0 24 24\"\n",
              "       width=\"24px\">\n",
              "    <path d=\"M0 0h24v24H0V0z\" fill=\"none\"/>\n",
              "    <path d=\"M18.56 5.44l.94 2.06.94-2.06 2.06-.94-2.06-.94-.94-2.06-.94 2.06-2.06.94zm-11 1L8.5 8.5l.94-2.06 2.06-.94-2.06-.94L8.5 2.5l-.94 2.06-2.06.94zm10 10l.94 2.06.94-2.06 2.06-.94-2.06-.94-.94-2.06-.94 2.06-2.06.94z\"/><path d=\"M17.41 7.96l-1.37-1.37c-.4-.4-.92-.59-1.43-.59-.52 0-1.04.2-1.43.59L10.3 9.45l-7.72 7.72c-.78.78-.78 2.05 0 2.83L4 21.41c.39.39.9.59 1.41.59.51 0 1.02-.2 1.41-.59l7.78-7.78 2.81-2.81c.8-.78.8-2.07 0-2.86zM5.41 20L4 18.59l7.72-7.72 1.47 1.35L5.41 20z\"/>\n",
              "  </svg>\n",
              "      </button>\n",
              "      \n",
              "  <style>\n",
              "    .colab-df-container {\n",
              "      display:flex;\n",
              "      flex-wrap:wrap;\n",
              "      gap: 12px;\n",
              "    }\n",
              "\n",
              "    .colab-df-convert {\n",
              "      background-color: #E8F0FE;\n",
              "      border: none;\n",
              "      border-radius: 50%;\n",
              "      cursor: pointer;\n",
              "      display: none;\n",
              "      fill: #1967D2;\n",
              "      height: 32px;\n",
              "      padding: 0 0 0 0;\n",
              "      width: 32px;\n",
              "    }\n",
              "\n",
              "    .colab-df-convert:hover {\n",
              "      background-color: #E2EBFA;\n",
              "      box-shadow: 0px 1px 2px rgba(60, 64, 67, 0.3), 0px 1px 3px 1px rgba(60, 64, 67, 0.15);\n",
              "      fill: #174EA6;\n",
              "    }\n",
              "\n",
              "    [theme=dark] .colab-df-convert {\n",
              "      background-color: #3B4455;\n",
              "      fill: #D2E3FC;\n",
              "    }\n",
              "\n",
              "    [theme=dark] .colab-df-convert:hover {\n",
              "      background-color: #434B5C;\n",
              "      box-shadow: 0px 1px 3px 1px rgba(0, 0, 0, 0.15);\n",
              "      filter: drop-shadow(0px 1px 2px rgba(0, 0, 0, 0.3));\n",
              "      fill: #FFFFFF;\n",
              "    }\n",
              "  </style>\n",
              "\n",
              "      <script>\n",
              "        const buttonEl =\n",
              "          document.querySelector('#df-1e302f2a-b72b-4c9f-b521-b2364e7781e0 button.colab-df-convert');\n",
              "        buttonEl.style.display =\n",
              "          google.colab.kernel.accessAllowed ? 'block' : 'none';\n",
              "\n",
              "        async function convertToInteractive(key) {\n",
              "          const element = document.querySelector('#df-1e302f2a-b72b-4c9f-b521-b2364e7781e0');\n",
              "          const dataTable =\n",
              "            await google.colab.kernel.invokeFunction('convertToInteractive',\n",
              "                                                     [key], {});\n",
              "          if (!dataTable) return;\n",
              "\n",
              "          const docLinkHtml = 'Like what you see? Visit the ' +\n",
              "            '<a target=\"_blank\" href=https://colab.research.google.com/notebooks/data_table.ipynb>data table notebook</a>'\n",
              "            + ' to learn more about interactive tables.';\n",
              "          element.innerHTML = '';\n",
              "          dataTable['output_type'] = 'display_data';\n",
              "          await google.colab.output.renderOutput(dataTable, element);\n",
              "          const docLink = document.createElement('div');\n",
              "          docLink.innerHTML = docLinkHtml;\n",
              "          element.appendChild(docLink);\n",
              "        }\n",
              "      </script>\n",
              "    </div>\n",
              "  </div>\n",
              "  "
            ]
          },
          "metadata": {},
          "execution_count": 11
        }
      ]
    },
    {
      "cell_type": "markdown",
      "source": [
        "Results are as we expected. This is actually really bad news, if there is a big correlation between both groups, its gonna be really difficult to say whether a tweet tends to be republican or democrat\n"
      ],
      "metadata": {
        "id": "EMpdMeeOeExF"
      }
    },
    {
      "cell_type": "markdown",
      "source": [
        "### Feature extraction\n",
        "\n",
        "For the feature extraction, I'm gonna use Tf-idf (Term frequency – Inverse document frequency). The goal is weighing words by how frequent they are in our dataset, discounting words that are too frequent, as they just add to the noise.\n",
        "- Term Frequency: This summarizes how often a given word appears within a document.\n",
        "- Inverse Document Frequency: This downscales words that appear a lot across documents.\n",
        "\n",
        "For model purposes, lets change label from letters to numbers: R -> 0 and D -> 1:\n"
      ],
      "metadata": {
        "id": "b650w9FHh1nI"
      }
    },
    {
      "cell_type": "code",
      "source": [
        "df['label_number'] = df['label'].apply(lambda x: 0 if x == 'R' else 1)"
      ],
      "metadata": {
        "id": "bqwWwpJNxef3"
      },
      "execution_count": 12,
      "outputs": []
    },
    {
      "cell_type": "markdown",
      "source": [
        "Let's do a train-test split making sure that the proportion in both sets is equivalent."
      ],
      "metadata": {
        "id": "Bk9-a7s8fLxh"
      }
    },
    {
      "cell_type": "code",
      "source": [
        "from sklearn.model_selection import train_test_split\n",
        "\n",
        "datos_X = df.text\n",
        "datos_y = df.label_number\n",
        "\n",
        "X_train, X_test, y_train, y_test = train_test_split(\n",
        "    datos_X,\n",
        "    datos_y,\n",
        "    test_size = 0.2,\n",
        "    random_state = 123\n",
        "    \n",
        ")"
      ],
      "metadata": {
        "id": "QyZ94d3ERs9z"
      },
      "execution_count": 13,
      "outputs": []
    },
    {
      "cell_type": "code",
      "source": [
        "value, counts = np.unique(y_train, return_counts=True)\n",
        "print(dict(zip(value, 100 * counts / sum(counts))))\n",
        "value, counts = np.unique(y_test, return_counts=True)\n",
        "print(dict(zip(value, 100 * counts / sum(counts))))"
      ],
      "metadata": {
        "colab": {
          "base_uri": "https://localhost:8080/"
        },
        "id": "c4X0hW65RtAR",
        "outputId": "87f78c73-a772-466f-d32c-dc45ca3e5836"
      },
      "execution_count": 14,
      "outputs": [
        {
          "output_type": "stream",
          "name": "stdout",
          "text": [
            "{0: 49.90625, 1: 50.09375}\n",
            "{0: 50.375, 1: 49.625}\n"
          ]
        }
      ]
    },
    {
      "cell_type": "markdown",
      "source": [
        "Now, we are going to create the matrix of TF-IDF features:"
      ],
      "metadata": {
        "id": "b_arynxNfXJF"
      }
    },
    {
      "cell_type": "code",
      "source": [
        "#Tf-idf matrix\n",
        "from sklearn.feature_extraction.text import TfidfVectorizer\n",
        "\n",
        "def tokenize(tweet):\n",
        "    tokenizer = TweetTokenizer(preserve_case=False, strip_handles=True,\n",
        "                               reduce_len=True)\n",
        "    corpus = tokenizer.tokenize(tweet)\n",
        "    return corpus\n",
        "\n",
        "vectorizer  = TfidfVectorizer(\n",
        "                        tokenizer  = tokenize,\n",
        "                        min_df     = 5 #might change\n",
        "                    )\n",
        "vectorizer.fit(X_train)"
      ],
      "metadata": {
        "colab": {
          "base_uri": "https://localhost:8080/"
        },
        "id": "5hk9SpOQjgz3",
        "outputId": "6c132c8a-3b92-4f23-e5d5-0360947740fa"
      },
      "execution_count": 15,
      "outputs": [
        {
          "output_type": "stream",
          "name": "stderr",
          "text": [
            "/usr/local/lib/python3.7/dist-packages/sklearn/feature_extraction/text.py:517: UserWarning: The parameter 'token_pattern' will not be used since 'tokenizer' is not None'\n",
            "  \"The parameter 'token_pattern' will not be used\"\n"
          ]
        },
        {
          "output_type": "execute_result",
          "data": {
            "text/plain": [
              "TfidfVectorizer(min_df=5, tokenizer=<function tokenize at 0x7fdc24da7950>)"
            ]
          },
          "metadata": {},
          "execution_count": 15
        }
      ]
    },
    {
      "cell_type": "code",
      "source": [
        "vectorizer.vocabulary_"
      ],
      "metadata": {
        "id": "Nt6QH-4UgAjG",
        "outputId": "6d23adf5-a051-4864-dcd2-9eaec3ee2e0b",
        "colab": {
          "base_uri": "https://localhost:8080/"
        }
      },
      "execution_count": 16,
      "outputs": [
        {
          "output_type": "execute_result",
          "data": {
            "text/plain": [
              "{'extremely': 2230,\n",
              " 'disappointed': 1819,\n",
              " 'waysmeanscmte': 6359,\n",
              " 'missed': 3771,\n",
              " 'the': 5813,\n",
              " 'opportunity': 4123,\n",
              " 'to': 5893,\n",
              " 'correct': 1460,\n",
              " ',': 11,\n",
              " 'partisan': 4241,\n",
              " 'cap': 1013,\n",
              " 'on': 4090,\n",
              " 'salt': 5108,\n",
              " 'deduction': 1654,\n",
              " '.': 15,\n",
              " 'this': 5839,\n",
              " 'could': 1475,\n",
              " 'impact': 3019,\n",
              " 'thousands': 5850,\n",
              " 'of': 4054,\n",
              " 'hardworking': 2735,\n",
              " 'nj': 3971,\n",
              " 'families': 2267,\n",
              " 'i': 2968,\n",
              " 'expect': 2192,\n",
              " 'final': 2347,\n",
              " 'house': 2914,\n",
              " 'bill': 828,\n",
              " 'will': 6441,\n",
              " 'include': 3055,\n",
              " 'a': 247,\n",
              " 'full': 2499,\n",
              " 'repeal': 4869,\n",
              " 'otherwise': 4158,\n",
              " \"it'll\": 3227,\n",
              " 'be': 754,\n",
              " 'hard': 2726,\n",
              " 'support': 5660,\n",
              " 'it': 3226,\n",
              " 'as': 611,\n",
              " 'former': 2442,\n",
              " 'mayor': 3659,\n",
              " 'know': 3348,\n",
              " 'firsthand': 2373,\n",
              " 'how': 2931,\n",
              " 'mayors': 3661,\n",
              " 'are': 582,\n",
              " 'frontlines': 2490,\n",
              " 'effective': 1985,\n",
              " 'governance': 2609,\n",
              " 'connected': 1381,\n",
              " 'with': 6463,\n",
              " 'tx12': 6051,\n",
              " '—': 6580,\n",
              " 'virtually': 6277,\n",
              " 'year': 6545,\n",
              " 'discuss': 1831,\n",
              " 'local': 3515,\n",
              " 'issues': 3224,\n",
              " '&': 4,\n",
              " 'can': 1000,\n",
              " 'best': 805,\n",
              " 'use': 6185,\n",
              " 'my': 3871,\n",
              " 'role': 5033,\n",
              " 'in': 3045,\n",
              " 'washington': 6340,\n",
              " 'help': 2798,\n",
              " 'during': 1945,\n",
              " \"yesterday's\": 6551,\n",
              " 'annual': 517,\n",
              " 'roundtable': 5051,\n",
              " '⬇': 6610,\n",
              " '️': 6611,\n",
              " 'patriotism': 4272,\n",
              " 'means': 3672,\n",
              " 'an': 500,\n",
              " 'honest': 2877,\n",
              " 'our': 4160,\n",
              " 'past': 4261,\n",
              " 'we': 6361,\n",
              " 'stronger': 5611,\n",
              " 'when': 6412,\n",
              " 'have': 2753,\n",
              " 'diverse': 1868,\n",
              " 'inclusive': 3060,\n",
              " 'military': 3740,\n",
              " 'that': 5811,\n",
              " 'looks': 3531,\n",
              " 'like': 3485,\n",
              " 'rest': 4950,\n",
              " 'for': 2425,\n",
              " 'gen': 2542,\n",
              " 'statement': 5537,\n",
              " 'truth': 6025,\n",
              " 'at': 638,\n",
              " 'today': 5895,\n",
              " 'is': 3209,\n",
              " 'leadership': 3412,\n",
              " 'walter': 6321,\n",
              " 'was': 6338,\n",
              " 'true': 6017,\n",
              " 'public': 4622,\n",
              " 'servant': 5270,\n",
              " 'and': 504,\n",
              " 'friend': 2482,\n",
              " 'mentor': 3702,\n",
              " 'he': 2762,\n",
              " 'set': 5281,\n",
              " 'high': 2824,\n",
              " 'bar': 732,\n",
              " 'himself': 2843,\n",
              " 'kept': 3322,\n",
              " 'passing': 4256,\n",
              " 'raising': 4680,\n",
              " 'mn': 3788,\n",
              " 'ag': 401,\n",
              " 'senator': 5237,\n",
              " 'vice': 6256,\n",
              " 'president': 4484,\n",
              " 'ambassador': 481,\n",
              " 'presidential': 4487,\n",
              " 'candidate': 1009,\n",
              " 'kind': 3340,\n",
              " 'end': 2045,\n",
              " 'read': 4710,\n",
              " 'official': 4065,\n",
              " 'syria': 5702,\n",
              " 'here': 2806,\n",
              " 'remain': 4830,\n",
              " 'opposed': 4125,\n",
              " 'using': 6190,\n",
              " 'make': 3590,\n",
              " 'diplomatic': 1804,\n",
              " 'point': 4393,\n",
              " 'out': 4163,\n",
              " 'become': 766,\n",
              " 'less': 3445,\n",
              " 'courage': 1494,\n",
              " 'whistleblower': 6421,\n",
              " 'than': 5802,\n",
              " 'silent': 5371,\n",
              " 'so': 5414,\n",
              " 'many': 3609,\n",
              " 'other': 4156,\n",
              " 'senior': 5250,\n",
              " 'officials': 4067,\n",
              " 'time': 5880,\n",
              " 'them': 5820,\n",
              " 'gop': 2598,\n",
              " 'colleagues': 1262,\n",
              " 'start': 5528,\n",
              " 'thinking': 5836,\n",
              " 'about': 265,\n",
              " 'their': 5818,\n",
              " 'entries': 2098,\n",
              " 'history': 2853,\n",
              " 'books': 876,\n",
              " 'if': 2993,\n",
              " 'you': 6558,\n",
              " \"haven't\": 2755,\n",
              " 'visited': 6283,\n",
              " 'museum': 3866,\n",
              " 'should': 5339,\n",
              " '!': 0,\n",
              " 'had': 2694,\n",
              " 'great': 2643,\n",
              " 'supporting': 5664,\n",
              " 'wright': 6528,\n",
              " 'brothers': 936,\n",
              " 'memorial': 3694,\n",
              " 'banquet': 729,\n",
              " 'admitted': 358,\n",
              " 'order': 4137,\n",
              " 'keep': 3314,\n",
              " 'office': 4061,\n",
              " '’': 6582,\n",
              " 's': 5080,\n",
              " 'willing': 6444,\n",
              " ':': 238,\n",
              " '-': 12,\n",
              " 'delay': 1680,\n",
              " 'checks': 1147,\n",
              " 'workers': 6495,\n",
              " 'vulnerable': 6302,\n",
              " 'seniors': 5251,\n",
              " 'vital': 6287,\n",
              " 'medicines': 3687,\n",
              " 'sick': 5356,\n",
              " 'delivery': 1694,\n",
              " 'mail-in': 3579,\n",
              " 'ballots': 719,\n",
              " 'must': 3870,\n",
              " 'fight': 2334,\n",
              " 'usps': 6196,\n",
              " 'democracy': 1701,\n",
              " 'effort': 1991,\n",
              " 'stand': 5519,\n",
              " 'working': 6497,\n",
              " 'men': 3698,\n",
              " 'women': 6477,\n",
              " 'improved': 3041,\n",
              " 'protections': 4592,\n",
              " 'such': 5640,\n",
              " 'health': 2774,\n",
              " 'care': 1031,\n",
              " 'll': 3511,\n",
              " 'bringing': 927,\n",
              " '–': 6579,\n",
              " 'security': 5206,\n",
              " 'officer': 4062,\n",
              " 'airport': 431,\n",
              " 'member': 3692,\n",
              " 'guest': 2679,\n",
              " 'state': 5533,\n",
              " 'union': 6111,\n",
              " 'address': 338,\n",
              " 'sotu': 5449,\n",
              " 'march': 3612,\n",
              " 'st': 5507,\n",
              " 'patrick': 4269,\n",
              " 'day': 1612,\n",
              " 'parade': 4223,\n",
              " 'see': 5207,\n",
              " 'seccardona': 5190,\n",
              " 'person': 4323,\n",
              " 'among': 497,\n",
              " 'his': 2846,\n",
              " 'family': 2269,\n",
              " 'inspiring': 3136,\n",
              " 'model': 3794,\n",
              " 'remembering': 4838,\n",
              " 'roots': 5042,\n",
              " 'making': 3592,\n",
              " 'government': 2611,\n",
              " 'smaller': 5409,\n",
              " 'more': 3825,\n",
              " 'efficient': 1989,\n",
              " 'always': 473,\n",
              " 'priority': 4520,\n",
              " 'appreciate': 559,\n",
              " 'being': 784,\n",
              " 'able': 260,\n",
              " 'work': 6492,\n",
              " 'across': 309,\n",
              " 'aisle': 433,\n",
              " 'legislation': 3435,\n",
              " 'cuts': 1571,\n",
              " 'red': 4769,\n",
              " 'tape': 5728,\n",
              " 'helps': 2803,\n",
              " 'streamline': 5594,\n",
              " 'services': 5277,\n",
              " 'move': 3843,\n",
              " 'governing': 2610,\n",
              " 'been': 772,\n",
              " 'quite': 4664,\n",
              " 'while': 6418,\n",
              " 'wear': 6374,\n",
              " 'mask': 3639,\n",
              " 'pass': 4251,\n",
              " 'm': 3567,\n",
              " 'proud': 4603,\n",
              " 'join': 3264,\n",
              " 'introducing': 3176,\n",
              " 'tackle': 5710,\n",
              " 'climate': 1221,\n",
              " 'crisis': 1536,\n",
              " 'by': 975,\n",
              " 'easier': 1963,\n",
              " 'americans': 492,\n",
              " 'afford': 387,\n",
              " 'electric': 2005,\n",
              " 'vehicles': 6237,\n",
              " 'lower': 3552,\n",
              " 'home': 2869,\n",
              " 'energy': 2063,\n",
              " 'costs': 1473,\n",
              " 'create': 1517,\n",
              " 'green': 2648,\n",
              " 'jobs': 3258,\n",
              " 'ndaa': 3915,\n",
              " 'amendment': 482,\n",
              " 'which': 6417,\n",
              " 'protects': 4595,\n",
              " 'first': 2371,\n",
              " 'rights': 5007,\n",
              " 'service': 5275,\n",
              " 'members': 3693,\n",
              " 'social': 5417,\n",
              " 'media': 3679,\n",
              " 'just': 3295,\n",
              " 'passed': 4253,\n",
              " 'cannot': 1012,\n",
              " 'let': 3447,\n",
              " 'dod': 1879,\n",
              " 'punish': 4630,\n",
              " 'uniform': 6109,\n",
              " 'conservative': 1393,\n",
              " 'views': 6263,\n",
              " 'extremist': 2231,\n",
              " 'big': 822,\n",
              " 'win': 6447,\n",
              " 'vaccine': 6217,\n",
              " 'update': 6150,\n",
              " '\\u2066': 6588,\n",
              " 'cdcgov': 1075,\n",
              " '\\u2069': 6589,\n",
              " 'pregnant': 4466,\n",
              " 'get': 2557,\n",
              " 'covid': 1506,\n",
              " '19': 77,\n",
              " 'delta': 1695,\n",
              " 'variant': 6229,\n",
              " 'getvaccinated': 2562,\n",
              " 'protect': 4587,\n",
              " 'your': 6564,\n",
              " 'co-chair': 1244,\n",
              " 'problem': 4534,\n",
              " 'caucus': 1063,\n",
              " 'glad': 2577,\n",
              " 'alexander': 445,\n",
              " 'own': 4198,\n",
              " 'bipartisan': 835,\n",
              " 'plan': 4369,\n",
              " 'inaction': 3047,\n",
              " 'costing': 1471,\n",
              " 'us': 6170,\n",
              " 'threatening': 5855,\n",
              " 'lives': 3507,\n",
              " 'livelihoods': 3506,\n",
              " 'jeopardizing': 3246,\n",
              " \"children's\": 1161,\n",
              " 'future': 2511,\n",
              " '2021': 108,\n",
              " 'turn': 6036,\n",
              " 'page': 4213,\n",
              " 'four': 2459,\n",
              " 'years': 6548,\n",
              " 'denial': 1709,\n",
              " 'actonclimate': 322,\n",
              " '🌎': 6622,\n",
              " 'chair': 1108,\n",
              " 'energycommerce': 2064,\n",
              " 'am': 477,\n",
              " 'committee': 1305,\n",
              " 'has': 2745,\n",
              " 'done': 1901,\n",
              " 'tune': 6032,\n",
              " \"i've\": 2972,\n",
              " 'said': 5099,\n",
              " 'once': 4091,\n",
              " \"i'll\": 2970,\n",
              " 'say': 5135,\n",
              " 'again': 402,\n",
              " 'unity': 6119,\n",
              " 'healing': 2773,\n",
              " 'without': 6467,\n",
              " 'accountability': 296,\n",
              " 'senate': 5232,\n",
              " 'donald': 1894,\n",
              " 'trump': 6019,\n",
              " 'inciting': 3054,\n",
              " 'violent': 6272,\n",
              " 'deadly': 1621,\n",
              " 'insurrection': 3145,\n",
              " \"it's\": 3228,\n",
              " 'defend': 1662,\n",
              " 'marine': 3621,\n",
              " 'cpl': 1510,\n",
              " 'demonstrates': 1707,\n",
              " 'training': 5962,\n",
              " 'good': 2593,\n",
              " 'standing': 5522,\n",
              " 'up': 6147,\n",
              " 'cuban': 1558,\n",
              " 'people': 4305,\n",
              " 'they': 5828,\n",
              " 'continue': 1419,\n",
              " 'against': 403,\n",
              " 'oppression': 4130,\n",
              " 'soscuba': 5448,\n",
              " 'patriayvida': 4268,\n",
              " 'merry': 3705,\n",
              " 'christmas': 1180,\n",
              " 'all': 449,\n",
              " 'who': 6424,\n",
              " 'celebrate': 1078,\n",
              " 'from': 2486,\n",
              " 'yours': 6565,\n",
              " 'wish': 6460,\n",
              " 'very': 6246,\n",
              " 'hope': 2889,\n",
              " 're': 4703,\n",
              " 'enjoy': 2078,\n",
              " 'lots': 3541,\n",
              " 'peaceful': 4291,\n",
              " 'quality': 4651,\n",
              " 'loved': 3546,\n",
              " 'ones': 4095,\n",
              " 'thank': 5803,\n",
              " 'thoughts': 5848,\n",
              " 'prayers': 4458,\n",
              " 'condolences': 1355,\n",
              " 'father': 2286,\n",
              " 'amazing': 478,\n",
              " 'number': 4014,\n",
              " 'touched': 5922,\n",
              " 'miss': 3770,\n",
              " 'him': 2842,\n",
              " 'but': 970,\n",
              " 'remember': 4836,\n",
              " 'honor': 2880,\n",
              " 'those': 5844,\n",
              " 'lost': 3539,\n",
              " 'responders': 4942,\n",
              " 'legacy': 3429,\n",
              " 'bravery': 904,\n",
              " 'resilience': 4929,\n",
              " 'sense': 5255,\n",
              " 'duty': 1947,\n",
              " 'live': 3504,\n",
              " 'through': 5863,\n",
              " 'neverforget': 3951,\n",
              " 'gas': 2532,\n",
              " 'prices': 4504,\n",
              " 'going': 2588,\n",
              " 'biden': 817,\n",
              " 'blame': 847,\n",
              " 'everyone': 2151,\n",
              " 'under': 6086,\n",
              " 'sun': 5651,\n",
              " 'except': 2167,\n",
              " \"let's\": 3448,\n",
              " 'clear': 1215,\n",
              " 'reason': 4724,\n",
              " 'why': 6430,\n",
              " 'folks': 2416,\n",
              " 'south': 5456,\n",
              " 'florida': 2402,\n",
              " 'paying': 4285,\n",
              " 'north': 3996,\n",
              " '$': 2,\n",
              " '4': 156,\n",
              " '/': 18,\n",
              " 'because': 765,\n",
              " \"administration's\": 350,\n",
              " 'war': 6326,\n",
              " 'american': 488,\n",
              " 'production': 4547,\n",
              " 'strongest': 5612,\n",
              " 'world': 6504,\n",
              " 'its': 3230,\n",
              " 'over': 4181,\n",
              " '1.4': 28,\n",
              " 'million': 3745,\n",
              " 'apparent': 545,\n",
              " 'lack': 3368,\n",
              " 'or': 4135,\n",
              " 'purpose': 4636,\n",
              " 'unnecessary': 6131,\n",
              " 'burden': 955,\n",
              " 'draft': 1919,\n",
              " 'republicans': 4905,\n",
              " 'waging': 6309,\n",
              " 'voting': 6299,\n",
              " 'accessible': 288,\n",
              " 'does': 1881,\n",
              " 'not': 4001,\n",
              " 'act': 310,\n",
              " 'heroesact': 2811,\n",
              " 'extend': 2221,\n",
              " 'these': 5827,\n",
              " 'unemployment': 6100,\n",
              " 'benefits': 800,\n",
              " '25': 121,\n",
              " 'lose': 3535,\n",
              " 'access': 286,\n",
              " 'assistance': 632,\n",
              " 'need': 3924,\n",
              " \"can't\": 1001,\n",
              " 'happen': 2717,\n",
              " 'no': 3975,\n",
              " 'system': 5704,\n",
              " 'pull': 4626,\n",
              " 'poverty': 4445,\n",
              " 'bring': 926,\n",
              " 'light': 3482,\n",
              " 'freedom': 2475,\n",
              " 'save': 5126,\n",
              " 'defeated': 1660,\n",
              " 'matter': 3653,\n",
              " 'cuba': 1557,\n",
              " 'venezuela': 6238,\n",
              " 'america': 484,\n",
              " 'defund': 1673,\n",
              " 'police': 4397,\n",
              " 'backtheblue': 707,\n",
              " '18': 75,\n",
              " 'months': 3817,\n",
              " 've': 6234,\n",
              " 'seen': 5215,\n",
              " 'massive': 3646,\n",
              " 'price': 4503,\n",
              " 'fed': 2306,\n",
              " 'cattle': 1062,\n",
              " 'beef': 771,\n",
              " 'pushing': 4641,\n",
              " 'producers': 4544,\n",
              " 'brink': 929,\n",
              " 'according': 293,\n",
              " 'usda': 6182,\n",
              " 'every': 2148,\n",
              " 'spend': 5478,\n",
              " 'food': 2421,\n",
              " 'only': 4098,\n",
              " 'cents': 1092,\n",
              " 'go': 2583,\n",
              " 'farmers': 2279,\n",
              " 'retail': 4967,\n",
              " 'congress': 1376,\n",
              " 'ought': 4159,\n",
              " 'now': 4009,\n",
              " 'wonderful': 6486,\n",
              " 'news': 3957,\n",
              " 'affordablecareact': 390,\n",
              " 'remains': 4833,\n",
              " 'law': 3399,\n",
              " 'land': 3374,\n",
              " 'expand': 2187,\n",
              " 'strengthen': 5598,\n",
              " 'veterans': 6250,\n",
              " 'congressman': 1378,\n",
              " 'kim': 3339,\n",
              " 'hear': 2778,\n",
              " 'experiences': 2201,\n",
              " 'inspire': 3134,\n",
              " 'serve': 5272,\n",
              " 'communities': 1317,\n",
              " 'ocean': 4050,\n",
              " 'burlington': 961,\n",
              " 'counties': 1485,\n",
              " 'watch': 6348,\n",
              " 'dozens': 1917,\n",
              " 'baseless': 741,\n",
              " 'conspiracy': 1401,\n",
              " 'theories': 5823,\n",
              " 'bear': 757,\n",
              " 'much': 3859,\n",
              " 'responsibility': 4947,\n",
              " 'attacks': 648,\n",
              " 'ended': 2049,\n",
              " 'yesterday': 6550,\n",
              " 'san': 5113,\n",
              " 'jordan': 3273,\n",
              " 'community': 1318,\n",
              " 'business': 966,\n",
              " 'leaders': 3411,\n",
              " 'taking': 5719,\n",
              " 'evening': 2143,\n",
              " 'attend': 653,\n",
              " 'tx11': 6050,\n",
              " 'priorities': 4516,\n",
              " 'oliver': 4084,\n",
              " 'hosting': 2908,\n",
              " 'event': 2144,\n",
              " 'week': 6383,\n",
              " 'started': 5529,\n",
              " 'off': 4055,\n",
              " 'monday': 3805,\n",
              " ';': 239,\n",
              " 'man': 3594,\n",
              " 'next': 3961,\n",
              " 'meeting': 3689,\n",
              " 'oval': 4180,\n",
              " 'infrastructure': 3104,\n",
              " 'houseforeign': 2921,\n",
              " 'markup': 3632,\n",
              " '10': 39,\n",
              " 'small': 5404,\n",
              " 'businesses': 967,\n",
              " 'backbone': 702,\n",
              " 'economy': 1974,\n",
              " 'blocking': 858,\n",
              " 'companies': 1320,\n",
              " 'democrats': 1704,\n",
              " 'want': 6322,\n",
              " 'harder': 2730,\n",
              " 'entrepreneurs': 2097,\n",
              " 'new': 3952,\n",
              " 'raise': 4676,\n",
              " 'wages': 6308,\n",
              " 'loyal': 3557,\n",
              " 'employees': 2027,\n",
              " 'texas': 5799,\n",
              " 'v': 6209,\n",
              " 'would': 6517,\n",
              " 'close': 1230,\n",
              " 'door': 1904,\n",
              " 'fscdems': 2492,\n",
              " 'breaking': 909,\n",
              " '|': 6575,\n",
              " 'majority': 3589,\n",
              " 'relief': 4826,\n",
              " 'marks': 3631,\n",
              " '2': 84,\n",
              " 'since': 5376,\n",
              " 'horrific': 2896,\n",
              " 'shooting': 5323,\n",
              " 'parkland': 4229,\n",
              " 'where': 6414,\n",
              " '17': 73,\n",
              " 'were': 6398,\n",
              " 'stolen': 5570,\n",
              " 'senseless': 5256,\n",
              " 'wait': 6310,\n",
              " 'until': 6140,\n",
              " 'tragedy': 5953,\n",
              " 'efforts': 1992,\n",
              " 'comprehensive': 1343,\n",
              " 'gun': 2686,\n",
              " 'control': 1432,\n",
              " 'boss': 889,\n",
              " 'joebiden': 3260,\n",
              " 'chose': 1173,\n",
              " 'human': 2944,\n",
              " 'abuses': 276,\n",
              " 'communist': 1316,\n",
              " '\"': 1,\n",
              " 'two': 6047,\n",
              " 'different': 1796,\n",
              " 'perspectives': 4328,\n",
              " 'one': 4093,\n",
              " 'better': 810,\n",
              " 'unbelievable': 6078,\n",
              " 'really': 4722,\n",
              " 'concerned': 1347,\n",
              " 'child': 1157,\n",
              " 'sexual': 5291,\n",
              " 'reliance': 4825,\n",
              " 'china': 1163,\n",
              " 'pharmaceutical': 4336,\n",
              " 'manufacturing': 3608,\n",
              " 'back': 701,\n",
              " 'last': 3388,\n",
              " 'month': 3815,\n",
              " 'fcc': 2296,\n",
              " 'launched': 3397,\n",
              " 'initiative': 3109,\n",
              " 'millions': 3746,\n",
              " 'students': 5622,\n",
              " 'internet': 3165,\n",
              " 'school': 5157,\n",
              " '7': 202,\n",
              " 'billion': 829,\n",
              " 'championed': 1119,\n",
              " 'equipment': 2113,\n",
              " 'allocated': 455,\n",
              " 'schools': 5159,\n",
              " 'libraries': 3465,\n",
              " \"we're\": 6363,\n",
              " 'looking': 3530,\n",
              " 'build': 946,\n",
              " 'funding': 2506,\n",
              " '1/2': 34,\n",
              " 'team': 5753,\n",
              " 'assisted': 634,\n",
              " '1,000': 24,\n",
              " 'constituents': 1405,\n",
              " 'having': 2756,\n",
              " 'trouble': 6012,\n",
              " 'federal': 2307,\n",
              " 'agencies': 406,\n",
              " 'helped': 2799,\n",
              " 'hundreds': 2951,\n",
              " 'owners': 4201,\n",
              " 'impacted': 3020,\n",
              " 'apply': 554,\n",
              " 'ppp': 4452,\n",
              " 'loans': 3513,\n",
              " 'carolinians': 1042,\n",
              " 'employed': 2025,\n",
              " 'attending': 656,\n",
              " 'meet': 3688,\n",
              " 'fantastic': 2273,\n",
              " '...': 17,\n",
              " 'farmer': 2278,\n",
              " 'biggest': 824,\n",
              " 'challenges': 1114,\n",
              " 'facing': 2244,\n",
              " 'right': 5005,\n",
              " 'record': 4757,\n",
              " 'fuel': 2495,\n",
              " 'doubling': 1910,\n",
              " 'supply': 5659,\n",
              " 'chain': 1106,\n",
              " '11': 50,\n",
              " '5': 174,\n",
              " 'min': 3748,\n",
              " 'video': 6260,\n",
              " 'discusses': 1833,\n",
              " 'california': 986,\n",
              " 'wildfires': 6439,\n",
              " 'show': 5345,\n",
              " 'weeks': 6387,\n",
              " 'imprisoned': 3039,\n",
              " 'journalist': 3276,\n",
              " 'thought': 5846,\n",
              " 'marching': 3615,\n",
              " 'july': 3289,\n",
              " 'weekend': 6385,\n",
              " 'commitment': 1302,\n",
              " 'justice': 3296,\n",
              " 'me': 3666,\n",
              " 'represents': 4897,\n",
              " 'values': 6226,\n",
              " 'historic': 2850,\n",
              " 'cares': 1037,\n",
              " 'voice': 6289,\n",
              " 'vote': 6294,\n",
              " 'applaud': 550,\n",
              " 'together': 5897,\n",
              " 'much-needed': 3860,\n",
              " 'directly': 1810,\n",
              " 'individuals': 3084,\n",
              " 'country': 1489,\n",
              " 'went': 6397,\n",
              " 'floor': 2400,\n",
              " 'earlier': 1955,\n",
              " 'continued': 1420,\n",
              " 'taxreform': 5744,\n",
              " 'robinson': 5025,\n",
              " 'township': 5938,\n",
              " 'fema': 2323,\n",
              " 'failed': 2249,\n",
              " 'change': 1124,\n",
              " 'advocates': 378,\n",
              " 'climatechange': 1224,\n",
              " 'introduced': 3174,\n",
              " 'preparedness': 4472,\n",
              " 'some': 5435,\n",
              " 'fellow': 2321,\n",
              " 'kansans': 3307,\n",
              " 'currently': 1567,\n",
              " 'deployed': 1724,\n",
              " 'germany': 2555,\n",
              " 'allies': 454,\n",
              " 'deter': 1761,\n",
              " 'russian': 5075,\n",
              " 'aggression': 412,\n",
              " 'nato': 3898,\n",
              " 'each': 1952,\n",
              " 'doing': 1886,\n",
              " 'incredible': 3069,\n",
              " 'usarmy': 6176,\n",
              " '🇺': 6619,\n",
              " '🇸': 6618,\n",
              " 'jewish': 3252,\n",
              " 'friends': 2484,\n",
              " 'celebrating': 1081,\n",
              " 'nation': 3885,\n",
              " 'around': 598,\n",
              " 'happy': 2723,\n",
              " 'wishing': 6462,\n",
              " 'prosperity': 4585,\n",
              " 'happiness': 2722,\n",
              " 'ahead': 422,\n",
              " 'epa': 2102,\n",
              " 'setting': 5283,\n",
              " 'itself': 3231,\n",
              " 'ultimate': 6068,\n",
              " 'economic': 1970,\n",
              " 'development': 1772,\n",
              " 'run': 5065,\n",
              " 'both': 891,\n",
              " 'democratic': 1703,\n",
              " 'republican': 4904,\n",
              " 'come': 1283,\n",
              " 'table': 5708,\n",
              " 'negotiate': 3931,\n",
              " 'deal': 1622,\n",
              " 'daca': 1582,\n",
              " 'article': 605,\n",
              " 'below': 793,\n",
              " 'blue': 863,\n",
              " 'improving': 3044,\n",
              " 'long': 3522,\n",
              " 'overdue': 4185,\n",
              " 'secure': 5203,\n",
              " '2100': 113,\n",
              " '9am': 236,\n",
              " 'central': 1091,\n",
              " 'natural': 3900,\n",
              " 'resources': 4936,\n",
              " 'subcommittee': 5626,\n",
              " 'oversight': 4189,\n",
              " 'investigations': 3187,\n",
              " 'hold': 2860,\n",
              " 'hearing': 2780,\n",
              " 'road': 5022,\n",
              " 'map': 3610,\n",
              " 'justification': 3300,\n",
              " 'implementation': 3029,\n",
              " 'impacts': 3022,\n",
              " 'coronavirus': 1454,\n",
              " 'pandemic': 4220,\n",
              " 'think': 5835,\n",
              " 'haven': 2754,\n",
              " 'heroes': 2810,\n",
              " 'realdonaldtrump': 4717,\n",
              " \"i'm\": 2971,\n",
              " 'play': 4377,\n",
              " 'golf': 2591,\n",
              " \"he's\": 2765,\n",
              " 'times': 5883,\n",
              " 'taxpayer': 5742,\n",
              " 'cost': 1470,\n",
              " 'recap': 4733,\n",
              " 'lied': 3470,\n",
              " 'then': 5822,\n",
              " 'charged': 1134,\n",
              " 'african': 397,\n",
              " 'contributed': 1429,\n",
              " 'technologies': 5761,\n",
              " 'did': 1787,\n",
              " 'scientist': 5164,\n",
              " 'benjamin': 801,\n",
              " 'initial': 3108,\n",
              " 'survey': 5679,\n",
              " 'd': 1580,\n",
              " 'c': 976,\n",
              " '?': 242,\n",
              " 'free': 2473,\n",
              " '“': 6583,\n",
              " 'presidents': 4488,\n",
              " 'couldn': 1476,\n",
              " 't': 5707,\n",
              " 'ignore': 2994,\n",
              " '”': 6584,\n",
              " 'blackhistorymonth': 843,\n",
              " 'northern': 3999,\n",
              " 'ohio': 4073,\n",
              " 'makes': 3591,\n",
              " 'progress': 4561,\n",
              " '700': 204,\n",
              " 'cleveland': 1218,\n",
              " 'iron': 3205,\n",
              " 'plant': 4375,\n",
              " 'welcome': 6389,\n",
              " 'domestic': 1891,\n",
              " 'steel': 5553,\n",
              " 'inviting': 3196,\n",
              " '45': 165,\n",
              " 'launch': 3396,\n",
              " 'key': 3326,\n",
              " 'part': 4231,\n",
              " 'ensuring': 2089,\n",
              " 'u': 6061,\n",
              " 'wins': 6455,\n",
              " 'race': 4667,\n",
              " 'space': 5461,\n",
              " 'important': 3034,\n",
              " 'aspect': 621,\n",
              " 'develop': 1770,\n",
              " 'operations': 4113,\n",
              " 'northdakota': 3997,\n",
              " 'game': 2523,\n",
              " 'innovation': 3120,\n",
              " 'ingenuity': 3105,\n",
              " 'determination': 1762,\n",
              " 'memorialday': 3695,\n",
              " 'gave': 2538,\n",
              " 'fallen': 2262,\n",
              " 'soldiers': 5427,\n",
              " 'sacrifice': 5084,\n",
              " 'may': 3657,\n",
              " 'there': 5825,\n",
              " 'love': 3545,\n",
              " 'lot': 3540,\n",
              " 'places': 4366,\n",
              " 'middle': 3726,\n",
              " 'east': 1965,\n",
              " '*': 9,\n",
              " 'everything': 2152,\n",
              " '(': 6,\n",
              " 'after': 399,\n",
              " 'wars': 6337,\n",
              " ')': 7,\n",
              " 'still': 5566,\n",
              " 'iranian': 3203,\n",
              " 'recent': 4738,\n",
              " 'iraq': 3204,\n",
              " 'protests': 4601,\n",
              " 'admin': 344,\n",
              " 'compassionate': 1325,\n",
              " 'bold': 870,\n",
              " 'decision': 1640,\n",
              " 'grant': 2635,\n",
              " 'temporary': 5773,\n",
              " 'protected': 4589,\n",
              " 'status': 5545,\n",
              " 'tps': 5940,\n",
              " 'provide': 4610,\n",
              " 'swift': 5693,\n",
              " 'what': 6407,\n",
              " 'achieve': 301,\n",
              " 'moral': 3822,\n",
              " 'decisions': 1641,\n",
              " 'based': 740,\n",
              " 'data': 1604,\n",
              " 'expertise': 2204,\n",
              " 'significant': 5365,\n",
              " 'shortages': 5335,\n",
              " 'tests': 5797,\n",
              " 'available': 679,\n",
              " 'states': 5539,\n",
              " 'recovery': 4764,\n",
              " 'sure': 5672,\n",
              " 'science': 5162,\n",
              " '%': 3,\n",
              " 'largest': 3385,\n",
              " 'inflation': 3097,\n",
              " 'surge': 5674,\n",
              " \"'\": 5,\n",
              " 'hurting': 2960,\n",
              " 'west': 6401,\n",
              " 'virginians': 6275,\n",
              " 'travel': 5980,\n",
              " 'eat': 1969,\n",
              " 'drive': 1930,\n",
              " 'insist': 3131,\n",
              " 'spending': 5479,\n",
              " 'trillions': 6006,\n",
              " 'reckless': 4745,\n",
              " 'tax-and-spending': 5737,\n",
              " 'spree': 5497,\n",
              " 'proudly': 4605,\n",
              " 'joined': 3265,\n",
              " 'uphold': 6157,\n",
              " 'constitution': 1406,\n",
              " 'find': 2356,\n",
              " 'happened': 2718,\n",
              " 'january': 3239,\n",
              " '6th': 201,\n",
              " 'idaho': 2983,\n",
              " 'girls': 2571,\n",
              " 'ii': 2997,\n",
              " 'hockey': 2859,\n",
              " 'headed': 2767,\n",
              " 'congratulations': 1374,\n",
              " 'luck': 3559,\n",
              " 'denver': 1714,\n",
              " 'absolutely': 271,\n",
              " 'devastating': 1768,\n",
              " 'someone': 5436,\n",
              " 'addiction': 334,\n",
              " 'got': 2602,\n",
              " 'do': 1874,\n",
              " 'questions': 4659,\n",
              " 'taxes': 5741,\n",
              " 'wondering': 6487,\n",
              " 'things': 5834,\n",
              " 'insurance': 3144,\n",
              " 'stimulus': 5567,\n",
              " 'might': 3731,\n",
              " 'affect': 382,\n",
              " 'panel': 4221,\n",
              " 'tax': 5735,\n",
              " 'experts': 2205,\n",
              " '22': 115,\n",
              " 'virtual': 6276,\n",
              " 'details': 1757,\n",
              " 'turnout': 6039,\n",
              " 'chamber': 1116,\n",
              " 'commerce': 1297,\n",
              " '20': 91,\n",
              " 'trying': 6027,\n",
              " 'amid': 494,\n",
              " 'global': 2578,\n",
              " 'worried': 6507,\n",
              " 'disgusting': 1842,\n",
              " 'impeachment': 3026,\n",
              " 'trial': 5998,\n",
              " 'national': 3887,\n",
              " 'guard': 2677,\n",
              " 'staying': 5548,\n",
              " 'getting': 2561,\n",
              " \"they've\": 5831,\n",
              " 'earned': 1958,\n",
              " 'taken': 5716,\n",
              " 'few': 2327,\n",
              " 'perfect': 4310,\n",
              " 'special': 5470,\n",
              " 'told': 5898,\n",
              " 'lies': 3471,\n",
              " 'chief': 1155,\n",
              " 'supreme': 5671,\n",
              " 'court': 1498,\n",
              " 'allowed': 458,\n",
              " 'rs': 5056,\n",
              " ...}"
            ]
          },
          "metadata": {},
          "execution_count": 16
        }
      ]
    },
    {
      "cell_type": "code",
      "source": [
        "tfidf_train = vectorizer.transform(X_train)\n",
        "tfidf_test  = vectorizer.transform(X_test)"
      ],
      "metadata": {
        "id": "yCK7LFHNnSJW"
      },
      "execution_count": 17,
      "outputs": []
    },
    {
      "cell_type": "code",
      "source": [
        "print(f\"Number of tokens created: {len(vectorizer.get_feature_names_out())}\");"
      ],
      "metadata": {
        "id": "PfWUY7NznSP1",
        "colab": {
          "base_uri": "https://localhost:8080/"
        },
        "outputId": "635164e9-1fdd-4cfa-8d0c-0236e99dd855"
      },
      "execution_count": 18,
      "outputs": [
        {
          "output_type": "stream",
          "name": "stdout",
          "text": [
            "Number of tokens created: 6668\n"
          ]
        }
      ]
    },
    {
      "cell_type": "markdown",
      "source": [
        "The next function is used to visualize the embeddings in 2 dimensions. ALthough we are losing a lot of information with a dimensionality reduction, it's very useful to see the separation between groups.\n",
        "\n",
        "\n",
        "\n"
      ],
      "metadata": {
        "id": "a9nNoqXRB3sg"
      }
    },
    {
      "cell_type": "code",
      "source": [
        "from sklearn.decomposition import TruncatedSVD\n",
        "from matplotlib.colors import ListedColormap\n",
        "import matplotlib.patches as mpatches\n",
        "\n",
        "\n",
        "def plot_LSA(test_data, test_labels, plot=True):\n",
        "        lsa = TruncatedSVD(n_components=2)\n",
        "        lsa.fit(test_data)\n",
        "        lsa_scores = lsa.transform(test_data)\n",
        "        color_mapper = {label:idx for idx,label in enumerate(set(test_labels))}\n",
        "        color_column = [color_mapper[label] for label in test_labels]\n",
        "        colors = ['orange','blue']\n",
        "        if plot:\n",
        "            plt.scatter(lsa_scores[:,0], lsa_scores[:,1], s=2, alpha=.8, c=test_labels, cmap=ListedColormap(colors))\n",
        "            red_patch = mpatches.Patch(color='orange', label='Republicans')\n",
        "            green_patch = mpatches.Patch(color='blue', label='Democrats')\n",
        "            plt.legend(handles=[red_patch, green_patch], prop={'size': 20})"
      ],
      "metadata": {
        "id": "Wf1kXGLZv87Z"
      },
      "execution_count": 19,
      "outputs": []
    },
    {
      "cell_type": "code",
      "source": [
        "fig = plt.figure(figsize=(16, 16))          \n",
        "plot_LSA(tfidf_train, y_train)\n",
        "plt.show()"
      ],
      "metadata": {
        "colab": {
          "base_uri": "https://localhost:8080/",
          "height": 840
        },
        "id": "aBOtyMQAv5Ks",
        "outputId": "df4ca9ad-58ee-44d1-9e1c-481c7773fb03"
      },
      "execution_count": 20,
      "outputs": [
        {
          "output_type": "display_data",
          "data": {
            "text/plain": [
              "<Figure size 1152x1152 with 1 Axes>"
            ],
            "image/png": "[encoded data removed]"
          },
          "metadata": {
            "needs_background": "light"
          }
        }
      ]
    },
    {
      "cell_type": "markdown",
      "source": [
        "As we could expect, they are not very separated.\n",
        "\n",
        "\n"
      ],
      "metadata": {
        "id": "zlRjeXTj0UMa"
      }
    },
    {
      "cell_type": "markdown",
      "source": [
        "## Model selection"
      ],
      "metadata": {
        "id": "sOhPQz3v9mBf"
      }
    },
    {
      "cell_type": "markdown",
      "source": [
        "### Logistic regression\n",
        "\n",
        "First model to be tested is the logistic regression.\n",
        "Let's execute one first logistic regression with some 'random' hyperparameters and then do a grid search.\n",
        "\n",
        "Hyperparameters used for this first try are:\n",
        " - C=30\n",
        " - solver='newton-cg' (good for multiclass problems, although this is a binary classification it can work well)\n",
        " - multi_class='multinomial'\n",
        " - n_jobs=-1 (use all processors)\n"
      ],
      "metadata": {
        "id": "JU6PL0as9y7n"
      }
    },
    {
      "cell_type": "code",
      "source": [
        "%%time\n",
        "\n",
        "from sklearn.linear_model import LogisticRegression\n",
        "\n",
        "log_reg = LogisticRegression(C=30.0, solver='newton-cg', \n",
        "                         multi_class='multinomial', n_jobs=-1)\n",
        "log_reg.fit(tfidf_train, y_train)\n",
        "\n",
        "y_hat = log_reg.predict(tfidf_test)"
      ],
      "metadata": {
        "id": "cEERfe9tTjhb",
        "colab": {
          "base_uri": "https://localhost:8080/"
        },
        "outputId": "ecab011c-8857-4f81-f9b3-3a2b66853eb4"
      },
      "execution_count": 21,
      "outputs": [
        {
          "output_type": "stream",
          "name": "stdout",
          "text": [
            "CPU times: user 50.9 ms, sys: 95.3 ms, total: 146 ms\n",
            "Wall time: 2.63 s\n"
          ]
        }
      ]
    },
    {
      "cell_type": "markdown",
      "source": [
        "Function to compute accuracy, precision, recall and f1 metrics"
      ],
      "metadata": {
        "id": "aBC4joDwDhLt"
      }
    },
    {
      "cell_type": "code",
      "source": [
        "from sklearn.metrics import accuracy_score, f1_score, precision_score, recall_score\n",
        "\n",
        "def get_metrics(y_test, y_hat): \n",
        "    # true positives + true negatives/ total\n",
        "    accuracy = accuracy_score(y_test, y_hat)\n",
        "\n",
        "    # true positives / (true positives+false positives)\n",
        "    precision = precision_score(y_test, y_hat, pos_label=None,\n",
        "                                    average='weighted')             \n",
        "    # true positives / (true positives + false negatives)\n",
        "    recall = recall_score(y_test, y_hat, pos_label=None,\n",
        "                              average='weighted')\n",
        "    # harmonic mean of precision and recall\n",
        "    f1 = f1_score(y_test, y_hat, pos_label=None, average='weighted')\n",
        "    \n",
        "\n",
        "    print(f'accuracy = {accuracy}, precision = {precision}, recall = {recall}, f1 = {f1}')"
      ],
      "metadata": {
        "id": "uAghuOBo3NNf"
      },
      "execution_count": 22,
      "outputs": []
    },
    {
      "cell_type": "markdown",
      "source": [
        "#### Logistic regression metrics"
      ],
      "metadata": {
        "id": "UY0nCWIQAOcZ"
      }
    },
    {
      "cell_type": "code",
      "source": [
        "get_metrics(y_test, y_hat)"
      ],
      "metadata": {
        "colab": {
          "base_uri": "https://localhost:8080/"
        },
        "id": "jLIOwprxWNMT",
        "outputId": "4776ca95-d12f-4480-fd83-c0eb619c2417"
      },
      "execution_count": 23,
      "outputs": [
        {
          "output_type": "stream",
          "name": "stdout",
          "text": [
            "accuracy = 0.728, precision = 0.7279968317140622, recall = 0.728, f1 = 0.7279976878329458\n"
          ]
        }
      ]
    },
    {
      "cell_type": "markdown",
      "source": [
        "In order to believe the value of the accuracy, per definition, it has to be bigger than the proportion of 1 in label_number in the dataset"
      ],
      "metadata": {
        "id": "grGWP88tAWih"
      }
    },
    {
      "cell_type": "code",
      "source": [
        "prop_1s = len(df[df['label_number']==1])/len(df)\n",
        "print(f'Proportion of 1\\'s in label_number in the dataset: {prop_1s}')"
      ],
      "metadata": {
        "id": "4g9idjMwswP2",
        "outputId": "da4ee2cc-9cb5-4e0a-a097-89d9061552dd",
        "colab": {
          "base_uri": "https://localhost:8080/"
        }
      },
      "execution_count": 24,
      "outputs": [
        {
          "output_type": "stream",
          "name": "stdout",
          "text": [
            "Proportion of 1's in label_number in the dataset: 0.5\n"
          ]
        }
      ]
    },
    {
      "cell_type": "markdown",
      "source": [
        "Function to calculate and plot the confusion matrix"
      ],
      "metadata": {
        "id": "kdLOi-fGDnAe"
      }
    },
    {
      "cell_type": "code",
      "source": [
        "from sklearn.metrics import confusion_matrix\n",
        "\n",
        "def create_confusion_matrix(y_test, y_hat):\n",
        "  \n",
        "  conf_matrix = confusion_matrix(y_test, y_hat)\n",
        "  plt.figure(figsize = (7,5))\n",
        "  sns.heatmap(conf_matrix, annot=True, fmt='g');\n"
      ],
      "metadata": {
        "id": "BQX3DMm1Tjlq"
      },
      "execution_count": 25,
      "outputs": []
    },
    {
      "cell_type": "markdown",
      "source": [
        "#### Logistic regression's confusion matrix"
      ],
      "metadata": {
        "id": "HP-mOlHnAdVo"
      }
    },
    {
      "cell_type": "code",
      "source": [
        "create_confusion_matrix(y_test, y_hat)"
      ],
      "metadata": {
        "id": "ay0x3lHDsHrm",
        "colab": {
          "base_uri": "https://localhost:8080/",
          "height": 320
        },
        "outputId": "aaa04e49-b542-435d-bbcd-d8ce00964958"
      },
      "execution_count": 26,
      "outputs": [
        {
          "output_type": "display_data",
          "data": {
            "text/plain": [
              "<Figure size 504x360 with 2 Axes>"
            ],
            "image/png": "[encoded data removed]"
          },
          "metadata": {
            "needs_background": "light"
          }
        }
      ]
    },
    {
      "cell_type": "markdown",
      "source": [
        "Function to calculate the ROC Curve and area under the ROC Curve"
      ],
      "metadata": {
        "id": "zsT40r2UDrWo"
      }
    },
    {
      "cell_type": "code",
      "source": [
        "from sklearn.metrics import roc_auc_score, roc_curve\n",
        "\n",
        "def create_roc_curve(model, y_test, y_train):\n",
        "\n",
        "  fig = plt.figure(figsize=(10, 10))          \n",
        "\n",
        "  fpr, tpr, thresholds = roc_curve(y_test, model.predict_proba(tfidf_test)[:, 1])\n",
        "  plt.plot(fpr, tpr, label=\"Test\");\n",
        "\n",
        "  fpr, tpr, thresholds = roc_curve(y_train, model.predict_proba(tfidf_train)[:, 1])\n",
        "  plt.plot(fpr, tpr, label=\"Train\");\n",
        "\n",
        "  plt.legend(loc=\"lower right\", prop={'size': 20});\n",
        "\n",
        "  print(f'ROC AUC SCORE: {roc_auc_score(y_test, model.predict_proba(tfidf_test)[:, 1])}')\n"
      ],
      "metadata": {
        "id": "XUcEVhtx7Ve6"
      },
      "execution_count": 27,
      "outputs": []
    },
    {
      "cell_type": "markdown",
      "source": [
        "#### Logistic regression's Roc curve"
      ],
      "metadata": {
        "id": "ZLn7RP2MAocP"
      }
    },
    {
      "cell_type": "code",
      "source": [
        "create_roc_curve(log_reg, y_test, y_train)"
      ],
      "metadata": {
        "id": "j7tKgRhosLQE",
        "colab": {
          "base_uri": "https://localhost:8080/",
          "height": 609
        },
        "outputId": "33649a8a-098e-4ef0-f87a-063704c3b1c8"
      },
      "execution_count": 28,
      "outputs": [
        {
          "output_type": "stream",
          "name": "stdout",
          "text": [
            "ROC AUC SCORE: 0.8044948778368783\n"
          ]
        },
        {
          "output_type": "display_data",
          "data": {
            "text/plain": [
              "<Figure size 720x720 with 1 Axes>"
            ],
            "image/png": "[encoded data removed]"
          },
          "metadata": {
            "needs_background": "light"
          }
        }
      ]
    },
    {
      "cell_type": "markdown",
      "source": [
        "These are really good results for a first try, but we don't know if they are the best. In order to discover that, I'm going to attemp a grid search for the logistic regression."
      ],
      "metadata": {
        "id": "ePzzBsOZ5xoX"
      }
    },
    {
      "cell_type": "markdown",
      "source": [
        "### Logistic regression's grid search\n",
        "\n",
        "In the param grid, we are adding both types of penalty, some different values for C, all solvers and a max_iter."
      ],
      "metadata": {
        "id": "ssGS4Ms6BdCg"
      }
    },
    {
      "cell_type": "code",
      "source": [
        "param_grid = [{'penalty' : ['l1', 'l2'],\n",
        "    'C' : [1e-5, 1e-4, 1e-3, 1e-2, 1e-1, 1, 10, 100],\n",
        "    'solver' : ['liblinear'],\n",
        "    'max_iter' : [1000]},\n",
        "    {'penalty' : ['l2'],\n",
        "    'C' : [1e-5, 1e-4, 1e-3, 1e-2, 1e-1, 1, 10, 100],\n",
        "    'solver' : ['newton-cg', 'lbfgs'],\n",
        "    'max_iter' : [1000]}]\n"
      ],
      "metadata": {
        "id": "DJvul8pz6Ms8"
      },
      "execution_count": 29,
      "outputs": []
    },
    {
      "cell_type": "code",
      "source": [
        "from sklearn.model_selection import GridSearchCV\n",
        "\n",
        "grid = GridSearchCV(estimator = LogisticRegression(), param_grid = param_grid, verbose=True, n_jobs=-1)"
      ],
      "metadata": {
        "id": "fpxd_F5x6MvJ"
      },
      "execution_count": 30,
      "outputs": []
    },
    {
      "cell_type": "code",
      "source": [
        "%%time\n",
        "\n",
        "best_clf = grid.fit(tfidf_train, y_train)"
      ],
      "metadata": {
        "colab": {
          "base_uri": "https://localhost:8080/"
        },
        "id": "FbBr3IfD6Mx7",
        "outputId": "6ed2f3a7-2026-4b90-e69f-e3c89928b6ed"
      },
      "execution_count": 31,
      "outputs": [
        {
          "output_type": "stream",
          "name": "stdout",
          "text": [
            "Fitting 5 folds for each of 32 candidates, totalling 160 fits\n",
            "CPU times: user 1.22 s, sys: 68.1 ms, total: 1.29 s\n",
            "Wall time: 28.1 s\n"
          ]
        }
      ]
    },
    {
      "cell_type": "code",
      "source": [
        "print('Best Score: %s' % best_clf.best_score_)\n",
        "print('Best Hyperparameters: %s' % best_clf.best_params_)"
      ],
      "metadata": {
        "colab": {
          "base_uri": "https://localhost:8080/"
        },
        "id": "jY2gqPPvLbrV",
        "outputId": "2cab44de-c928-4d49-c925-33626cecf1e0"
      },
      "execution_count": 32,
      "outputs": [
        {
          "output_type": "stream",
          "name": "stdout",
          "text": [
            "Best Score: 0.7499375\n",
            "Best Hyperparameters: {'C': 1, 'max_iter': 1000, 'penalty': 'l2', 'solver': 'lbfgs'}\n"
          ]
        }
      ]
    },
    {
      "cell_type": "code",
      "source": [
        "best_model = best_clf.best_estimator_\n",
        "y_hat = best_model.predict(tfidf_test)"
      ],
      "metadata": {
        "id": "GoTteYHZLbt3"
      },
      "execution_count": 33,
      "outputs": []
    },
    {
      "cell_type": "markdown",
      "source": [
        "#### Logistic regression's grid search metrics"
      ],
      "metadata": {
        "id": "OlUwcss5DjVU"
      }
    },
    {
      "cell_type": "code",
      "source": [
        "get_metrics(y_test, y_hat)"
      ],
      "metadata": {
        "colab": {
          "base_uri": "https://localhost:8080/"
        },
        "id": "P5e-afWNLbv6",
        "outputId": "db0a3751-f61a-4958-b923-3fa57153ddb5"
      },
      "execution_count": 34,
      "outputs": [
        {
          "output_type": "stream",
          "name": "stdout",
          "text": [
            "accuracy = 0.74525, precision = 0.7454072806922677, recall = 0.74525, f1 = 0.745166352823795\n"
          ]
        }
      ]
    },
    {
      "cell_type": "markdown",
      "source": [
        "#### Logistic regression's grid search confusion matrix"
      ],
      "metadata": {
        "id": "rsqxmr0yDmj2"
      }
    },
    {
      "cell_type": "code",
      "source": [
        "create_confusion_matrix(y_test, y_hat)"
      ],
      "metadata": {
        "colab": {
          "base_uri": "https://localhost:8080/",
          "height": 320
        },
        "id": "hbmihNhdLbyr",
        "outputId": "6d12d1f7-e5b9-4445-c3a7-74c3ae738542"
      },
      "execution_count": 35,
      "outputs": [
        {
          "output_type": "display_data",
          "data": {
            "text/plain": [
              "<Figure size 504x360 with 2 Axes>"
            ],
            "image/png": "[encoded data removed]"
          },
          "metadata": {
            "needs_background": "light"
          }
        }
      ]
    },
    {
      "cell_type": "markdown",
      "source": [
        "#### Logistic regression's grid search ROC curve"
      ],
      "metadata": {
        "id": "oaAU4bjaDpmc"
      }
    },
    {
      "cell_type": "code",
      "source": [
        "create_roc_curve(best_model, y_test, y_train)"
      ],
      "metadata": {
        "colab": {
          "base_uri": "https://localhost:8080/",
          "height": 609
        },
        "id": "Xa7UoxzdLb2Y",
        "outputId": "f2d9dd2c-eb3a-42f3-f23c-f9d76c56ebc0"
      },
      "execution_count": 36,
      "outputs": [
        {
          "output_type": "stream",
          "name": "stdout",
          "text": [
            "ROC AUC SCORE: 0.8240309767424416\n"
          ]
        },
        {
          "output_type": "display_data",
          "data": {
            "text/plain": [
              "<Figure size 720x720 with 1 Axes>"
            ],
            "image/png": "[encoded data removed]"
          },
          "metadata": {
            "needs_background": "light"
          }
        }
      ]
    },
    {
      "cell_type": "markdown",
      "source": [
        "What can we conclude from the logistic regression?\n",
        "\n",
        " - First of all, we get a slightly better result doing the grid search and obtaining the best hyperparameters for the model. \n",
        "\n",
        " - Secondly, in the confusion matrix we can see that the number of false positives and false negatives doesn't vary a lot, which is good.\n",
        "\n",
        " - However, in the Roc curve we might say that there is some overfitting with the training set."
      ],
      "metadata": {
        "id": "xPzAIonmhy-s"
      }
    },
    {
      "cell_type": "markdown",
      "source": [
        "### Random forest\n",
        "\n",
        "With the random forest, let's do a grid search directly. We are gonna use hyperparameters:\n",
        " - max_depth to control the maximum depth of the tree\n",
        " - max_features auto and sqrt to control the number of features when looking for the best split\n",
        " - n_estimators to pin the number of trees in the forest."
      ],
      "metadata": {
        "id": "2IMTS7N1EsNQ"
      }
    },
    {
      "cell_type": "code",
      "source": [
        "from sklearn.ensemble import RandomForestClassifier"
      ],
      "metadata": {
        "id": "X0ngEJj7-rwt"
      },
      "execution_count": 37,
      "outputs": []
    },
    {
      "cell_type": "code",
      "source": [
        "param_grid = {'max_depth': [None, 1,3,5,10],\n",
        " 'max_features': ['auto', 'sqrt'],\n",
        " 'n_estimators': [100]}"
      ],
      "metadata": {
        "id": "7ul1ty81v8oq"
      },
      "execution_count": 38,
      "outputs": []
    },
    {
      "cell_type": "code",
      "source": [
        "grid = GridSearchCV(estimator = RandomForestClassifier(oob_score=True), param_grid = param_grid, verbose=True, n_jobs=-1)"
      ],
      "metadata": {
        "id": "RN8gy5Znv8qv"
      },
      "execution_count": 39,
      "outputs": []
    },
    {
      "cell_type": "code",
      "source": [
        "%%time\n",
        "best_rf_clf = grid.fit(tfidf_train, y_train)"
      ],
      "metadata": {
        "colab": {
          "base_uri": "https://localhost:8080/"
        },
        "id": "1_OtcSfzv87o",
        "outputId": "2dc535ac-71e9-4281-e4d4-a72c4aaa36f5"
      },
      "execution_count": 40,
      "outputs": [
        {
          "output_type": "stream",
          "name": "stdout",
          "text": [
            "Fitting 5 folds for each of 10 candidates, totalling 50 fits\n",
            "CPU times: user 20.9 s, sys: 198 ms, total: 21.1 s\n",
            "Wall time: 2min 29s\n"
          ]
        }
      ]
    },
    {
      "cell_type": "code",
      "source": [
        "print('Best Score: %s' % best_rf_clf.best_score_)\n",
        "print('Best Hyperparameters: %s' % best_rf_clf.best_params_)"
      ],
      "metadata": {
        "colab": {
          "base_uri": "https://localhost:8080/"
        },
        "id": "CVFO6d0WxQ_e",
        "outputId": "3006cf93-bda2-46fc-a9d3-9b9be0fb9d9d"
      },
      "execution_count": 41,
      "outputs": [
        {
          "output_type": "stream",
          "name": "stdout",
          "text": [
            "Best Score: 0.6885\n",
            "Best Hyperparameters: {'max_depth': None, 'max_features': 'auto', 'n_estimators': 100}\n"
          ]
        }
      ]
    },
    {
      "cell_type": "code",
      "source": [
        "best_rf = best_rf_clf.best_estimator_\n",
        "y_hat = best_rf.predict(tfidf_test)"
      ],
      "metadata": {
        "id": "FbApfWt5xSWO"
      },
      "execution_count": 42,
      "outputs": []
    },
    {
      "cell_type": "markdown",
      "source": [
        "#### Random forest's grid search metrics"
      ],
      "metadata": {
        "id": "tvsrLrKNEmH3"
      }
    },
    {
      "cell_type": "code",
      "source": [
        "get_metrics(y_test, y_hat)"
      ],
      "metadata": {
        "colab": {
          "base_uri": "https://localhost:8080/"
        },
        "id": "cWiWtw5hvDQ6",
        "outputId": "d3fb3110-84e4-46b3-e2dd-cc2d4becd54c"
      },
      "execution_count": 43,
      "outputs": [
        {
          "output_type": "stream",
          "name": "stdout",
          "text": [
            "accuracy = 0.696, precision = 0.696108152088875, recall = 0.696, f1 = 0.6958973480324414\n"
          ]
        }
      ]
    },
    {
      "cell_type": "markdown",
      "source": [
        "#### Random forest's grid confusion matrix"
      ],
      "metadata": {
        "id": "vVe-NoEgEsqI"
      }
    },
    {
      "cell_type": "code",
      "source": [
        "create_confusion_matrix(y_test, y_hat)"
      ],
      "metadata": {
        "colab": {
          "base_uri": "https://localhost:8080/",
          "height": 320
        },
        "id": "wdKRopnMvDTX",
        "outputId": "8f9f3122-7bc0-426e-ad9a-2fb26e37b08a"
      },
      "execution_count": 44,
      "outputs": [
        {
          "output_type": "display_data",
          "data": {
            "text/plain": [
              "<Figure size 504x360 with 2 Axes>"
            ],
            "image/png": "[encoded data removed]"
          },
          "metadata": {
            "needs_background": "light"
          }
        }
      ]
    },
    {
      "cell_type": "markdown",
      "source": [
        "#### Random forest's grid search ROC curve"
      ],
      "metadata": {
        "id": "maIsOwW0Eve_"
      }
    },
    {
      "cell_type": "code",
      "source": [
        "create_roc_curve(best_rf, y_test, y_train)"
      ],
      "metadata": {
        "colab": {
          "base_uri": "https://localhost:8080/",
          "height": 609
        },
        "id": "-y8J-XPDvDVJ",
        "outputId": "9e3c3a48-eda4-4e55-a4a1-52762931ecdc"
      },
      "execution_count": 45,
      "outputs": [
        {
          "output_type": "stream",
          "name": "stdout",
          "text": [
            "ROC AUC SCORE: 0.7680037002081368\n"
          ]
        },
        {
          "output_type": "display_data",
          "data": {
            "text/plain": [
              "<Figure size 720x720 with 1 Axes>"
            ],
            "image/png": "[encoded data removed]"
          },
          "metadata": {
            "needs_background": "light"
          }
        }
      ]
    },
    {
      "cell_type": "markdown",
      "source": [
        "Although we get a slightly worst accuracy than in the logistic regression, random forest are a lot slower and show even more overfitting in the training set than the logistic regression. The logistic regression is the best model so far. But we can try some more."
      ],
      "metadata": {
        "id": "i-yxuGo-3iaK"
      }
    },
    {
      "cell_type": "markdown",
      "source": [
        "### XGBoost\n",
        "\n",
        "As I'm not that familiar with XGBoost models, let's do the same as in the logistic regression: do a first model with 'random' hyperparameters and then a grid search"
      ],
      "metadata": {
        "id": "-DyUO6B2jrGD"
      }
    },
    {
      "cell_type": "code",
      "source": [
        "import xgboost as xgb\n",
        "\n",
        "xgb_model = xgb.XGBClassifier(\n",
        "        learning_rate=0.1,\n",
        "        max_depth=7,\n",
        "        n_estimators=80,\n",
        "        use_label_encoder=False\n",
        "        )"
      ],
      "metadata": {
        "id": "FclXgyjURPOI"
      },
      "execution_count": 46,
      "outputs": []
    },
    {
      "cell_type": "code",
      "source": [
        "%%time\n",
        "\n",
        "xgb_model.fit(tfidf_train, y_train)"
      ],
      "metadata": {
        "id": "Et7wKRnGRPQS",
        "outputId": "c0c2aa26-e440-47c2-f6b4-07b92f0ba433",
        "colab": {
          "base_uri": "https://localhost:8080/"
        }
      },
      "execution_count": 47,
      "outputs": [
        {
          "output_type": "stream",
          "name": "stdout",
          "text": [
            "CPU times: user 10.8 s, sys: 35.9 ms, total: 10.8 s\n",
            "Wall time: 10.9 s\n"
          ]
        },
        {
          "output_type": "execute_result",
          "data": {
            "text/plain": [
              "XGBClassifier(max_depth=7, n_estimators=80, use_label_encoder=False)"
            ]
          },
          "metadata": {},
          "execution_count": 47
        }
      ]
    },
    {
      "cell_type": "code",
      "source": [
        "y_hat = xgb_model.predict(tfidf_test)"
      ],
      "metadata": {
        "id": "6ME1fEuZRPSS"
      },
      "execution_count": 48,
      "outputs": []
    },
    {
      "cell_type": "markdown",
      "source": [
        "#### XGBoost's metrics"
      ],
      "metadata": {
        "id": "ZtagCh4jHGQs"
      }
    },
    {
      "cell_type": "code",
      "source": [
        "get_metrics(y_test, y_hat)"
      ],
      "metadata": {
        "id": "AmavbyhzRPUm",
        "outputId": "e198c40e-8065-46a7-adf2-97273201f5a4",
        "colab": {
          "base_uri": "https://localhost:8080/"
        }
      },
      "execution_count": 49,
      "outputs": [
        {
          "output_type": "stream",
          "name": "stdout",
          "text": [
            "accuracy = 0.688, precision = 0.6893247938212633, recall = 0.688, f1 = 0.6872608627529628\n"
          ]
        }
      ]
    },
    {
      "cell_type": "markdown",
      "source": [
        "#### XGBoost's confusion matrix"
      ],
      "metadata": {
        "id": "ecEFZFFUHMMJ"
      }
    },
    {
      "cell_type": "code",
      "source": [
        "create_confusion_matrix(y_test, y_hat)"
      ],
      "metadata": {
        "id": "I-bpY0xqRPWj",
        "outputId": "e61d420d-d4da-4359-bdc0-512b79d2567d",
        "colab": {
          "base_uri": "https://localhost:8080/",
          "height": 320
        }
      },
      "execution_count": 50,
      "outputs": [
        {
          "output_type": "display_data",
          "data": {
            "text/plain": [
              "<Figure size 504x360 with 2 Axes>"
            ],
            "image/png": "[encoded data removed]"
          },
          "metadata": {
            "needs_background": "light"
          }
        }
      ]
    },
    {
      "cell_type": "markdown",
      "source": [
        "#### XGBoost's ROC curve"
      ],
      "metadata": {
        "id": "tHb7-GraHV_J"
      }
    },
    {
      "cell_type": "code",
      "source": [
        "create_roc_curve(xgb_model, y_test, y_train)"
      ],
      "metadata": {
        "id": "pFjDj254lUdE",
        "outputId": "ba31a281-5275-41c4-f21c-c7debd9f8089",
        "colab": {
          "base_uri": "https://localhost:8080/",
          "height": 609
        }
      },
      "execution_count": 51,
      "outputs": [
        {
          "output_type": "stream",
          "name": "stdout",
          "text": [
            "ROC AUC SCORE: 0.7642854910588721\n"
          ]
        },
        {
          "output_type": "display_data",
          "data": {
            "text/plain": [
              "<Figure size 720x720 with 1 Axes>"
            ],
            "image/png": "[encoded data removed]"
          },
          "metadata": {
            "needs_background": "light"
          }
        }
      ]
    },
    {
      "cell_type": "markdown",
      "source": [
        "### XGBoost's grid search\n",
        "\n",
        "Hyperparameters used in the grid are:\n",
        " - max_depth to control the depth of the trees\n",
        " - n_estimators to control the number of trees\n",
        " - learning_rate to control how fast the model learns\n",
        " - booster is pinned to gbtree\n"
      ],
      "metadata": {
        "id": "Q_gBYpUNffKJ"
      }
    },
    {
      "cell_type": "code",
      "source": [
        "param_grid = {\n",
        "    'max_depth': [1, 3, 5, 10],\n",
        "    'n_estimators': [10, 20, 40, 80],\n",
        "    'learning_rate': [0.01, 0.05, 0.1],\n",
        "    'booster' : ['gbtree']\n",
        "    }"
      ],
      "metadata": {
        "id": "aXwwxB5ATOKj"
      },
      "execution_count": 52,
      "outputs": []
    },
    {
      "cell_type": "code",
      "source": [
        "grid_search_xgb = GridSearchCV(\n",
        "    estimator=xgb.XGBClassifier(objective= 'binary:logistic',nthread=4,seed=42),\n",
        "    param_grid=param_grid,\n",
        "    n_jobs = -1,\n",
        "    verbose=True\n",
        ")"
      ],
      "metadata": {
        "id": "8UO9lVUZTOMr"
      },
      "execution_count": 53,
      "outputs": []
    },
    {
      "cell_type": "code",
      "source": [
        "%%time\n",
        "\n",
        "best_xgb_clf = grid_search_xgb.fit(tfidf_train, y_train)"
      ],
      "metadata": {
        "id": "95tNhLyDSBEq",
        "outputId": "f6dfe133-0e94-4e8f-d419-7602ff02cc98",
        "colab": {
          "base_uri": "https://localhost:8080/"
        }
      },
      "execution_count": 54,
      "outputs": [
        {
          "output_type": "stream",
          "name": "stdout",
          "text": [
            "Fitting 5 folds for each of 48 candidates, totalling 240 fits\n",
            "CPU times: user 32.7 s, sys: 678 ms, total: 33.4 s\n",
            "Wall time: 11min 29s\n"
          ]
        }
      ]
    },
    {
      "cell_type": "code",
      "source": [
        "print('Best Score: %s' % best_xgb_clf.best_score_)\n",
        "print('Best Hyperparameters: %s' % best_xgb_clf.best_params_)"
      ],
      "metadata": {
        "colab": {
          "base_uri": "https://localhost:8080/"
        },
        "id": "dWs2nJv_5fiV",
        "outputId": "9756bcb9-fbc6-46e9-d8f1-8f5c7af0fc7e"
      },
      "execution_count": 55,
      "outputs": [
        {
          "output_type": "stream",
          "name": "stdout",
          "text": [
            "Best Score: 0.69025\n",
            "Best Hyperparameters: {'booster': 'gbtree', 'learning_rate': 0.1, 'max_depth': 10, 'n_estimators': 80}\n"
          ]
        }
      ]
    },
    {
      "cell_type": "code",
      "source": [
        "best_xgb = best_xgb_clf.best_estimator_\n",
        "y_hat = best_xgb.predict(tfidf_test)"
      ],
      "metadata": {
        "id": "PVS5UpX65fkZ"
      },
      "execution_count": 56,
      "outputs": []
    },
    {
      "cell_type": "markdown",
      "source": [
        "#### XGBoost's grid search metrics"
      ],
      "metadata": {
        "id": "hHwKufmLI62P"
      }
    },
    {
      "cell_type": "code",
      "source": [
        "get_metrics(y_test, y_hat)"
      ],
      "metadata": {
        "colab": {
          "base_uri": "https://localhost:8080/"
        },
        "id": "pfWH9KEl5fmc",
        "outputId": "2eb90bab-3080-426f-af4c-3a4093933c7c"
      },
      "execution_count": 57,
      "outputs": [
        {
          "output_type": "stream",
          "name": "stdout",
          "text": [
            "accuracy = 0.6945, precision = 0.6957209530293573, recall = 0.6945, f1 = 0.693849185463659\n"
          ]
        }
      ]
    },
    {
      "cell_type": "markdown",
      "source": [
        "#### XGBoost's grid search confusion matrix"
      ],
      "metadata": {
        "id": "Co6v67OSJBYO"
      }
    },
    {
      "cell_type": "code",
      "source": [
        "create_confusion_matrix(y_test, y_hat)"
      ],
      "metadata": {
        "colab": {
          "base_uri": "https://localhost:8080/",
          "height": 320
        },
        "id": "mG7bMUgw5foU",
        "outputId": "950a3a8e-e654-4000-f125-221ad72b9e07"
      },
      "execution_count": 58,
      "outputs": [
        {
          "output_type": "display_data",
          "data": {
            "text/plain": [
              "<Figure size 504x360 with 2 Axes>"
            ],
            "image/png": "[encoded data removed]"
          },
          "metadata": {
            "needs_background": "light"
          }
        }
      ]
    },
    {
      "cell_type": "markdown",
      "source": [
        "#### XGBoost's grid ROC curve"
      ],
      "metadata": {
        "id": "UNJaktI8JETv"
      }
    },
    {
      "cell_type": "code",
      "source": [
        "create_roc_curve(best_xgb, y_test, y_train)"
      ],
      "metadata": {
        "colab": {
          "base_uri": "https://localhost:8080/",
          "height": 609
        },
        "id": "q_Q3j0UB5fqJ",
        "outputId": "05440e9f-41d2-49dc-efb5-a077f1aa072a"
      },
      "execution_count": 59,
      "outputs": [
        {
          "output_type": "stream",
          "name": "stdout",
          "text": [
            "ROC AUC SCORE: 0.7711876293041484\n"
          ]
        },
        {
          "output_type": "display_data",
          "data": {
            "text/plain": [
              "<Figure size 720x720 with 1 Axes>"
            ],
            "image/png": "[encoded data removed]"
          },
          "metadata": {
            "needs_background": "light"
          }
        }
      ]
    },
    {
      "cell_type": "markdown",
      "source": [
        "This model gets an accuracy slighltly lower than logistic regression's, and it's also slower. However, it is the model which shows less overfitting in the training set so far. My conclussion is that we stick with the logistic regression."
      ],
      "metadata": {
        "id": "C0dlWfCdAf0X"
      }
    },
    {
      "cell_type": "markdown",
      "source": [
        "### BERT \n",
        "\n",
        "BERT (Bidirectional Encoder Representations from Transformers) is a model for NLP developed in 2018 by researchers at Google AI Language and is really useful to solve binary classification problems. It has already been trained with a dataset of 3.3 Billion words, so we avoid that part, google has done it for us. \n",
        "\n",
        "First of all, let's install all the dependencies:"
      ],
      "metadata": {
        "id": "N2l2UvmQ4-4g"
      }
    },
    {
      "cell_type": "code",
      "source": [
        "!pip install -q -U tensorflow-text"
      ],
      "metadata": {
        "colab": {
          "base_uri": "https://localhost:8080/"
        },
        "id": "GBo9CZpdebZY",
        "outputId": "efef1730-c20d-474b-be51-2d0f8213c172"
      },
      "execution_count": 60,
      "outputs": [
        {
          "output_type": "stream",
          "name": "stdout",
          "text": [
            "\u001b[K     |████████████████████████████████| 4.6 MB 9.1 MB/s \n",
            "\u001b[K     |████████████████████████████████| 511.7 MB 6.2 kB/s \n",
            "\u001b[K     |████████████████████████████████| 5.8 MB 35.7 MB/s \n",
            "\u001b[K     |████████████████████████████████| 438 kB 42.6 MB/s \n",
            "\u001b[K     |████████████████████████████████| 1.6 MB 44.7 MB/s \n",
            "\u001b[?25h"
          ]
        }
      ]
    },
    {
      "cell_type": "code",
      "source": [
        "!pip install -q tf-models-official"
      ],
      "metadata": {
        "id": "dkl6z6TTOLe3",
        "colab": {
          "base_uri": "https://localhost:8080/"
        },
        "outputId": "614e351a-6a11-4dba-89a8-df73aa0cf1bc"
      },
      "execution_count": 61,
      "outputs": [
        {
          "output_type": "stream",
          "name": "stdout",
          "text": [
            "\u001b[K     |████████████████████████████████| 2.1 MB 8.2 MB/s \n",
            "\u001b[K     |████████████████████████████████| 48.3 MB 59 kB/s \n",
            "\u001b[K     |████████████████████████████████| 636 kB 33.9 MB/s \n",
            "\u001b[K     |████████████████████████████████| 237 kB 36.1 MB/s \n",
            "\u001b[K     |████████████████████████████████| 99 kB 8.1 MB/s \n",
            "\u001b[K     |████████████████████████████████| 1.1 MB 35.6 MB/s \n",
            "\u001b[K     |████████████████████████████████| 352 kB 38.0 MB/s \n",
            "\u001b[K     |████████████████████████████████| 92 kB 6.0 MB/s \n",
            "\u001b[K     |████████████████████████████████| 43 kB 1.2 MB/s \n",
            "\u001b[K     |████████████████████████████████| 1.2 MB 25.0 MB/s \n",
            "\u001b[?25h  Building wheel for py-cpuinfo (setup.py) ... \u001b[?25l\u001b[?25hdone\n",
            "  Building wheel for seqeval (setup.py) ... \u001b[?25l\u001b[?25hdone\n"
          ]
        }
      ]
    },
    {
      "cell_type": "markdown",
      "source": [
        "Now we shuffle the dataframe and split it in train and validation sets:"
      ],
      "metadata": {
        "id": "YEv5zOinoT6f"
      }
    },
    {
      "cell_type": "code",
      "source": [
        "df_shuffled = shuffle(df)"
      ],
      "metadata": {
        "id": "v7ZCD5ieDceG"
      },
      "execution_count": 62,
      "outputs": []
    },
    {
      "cell_type": "code",
      "source": [
        "len(df_shuffled)"
      ],
      "metadata": {
        "colab": {
          "base_uri": "https://localhost:8080/"
        },
        "id": "2oHB89wKBfP6",
        "outputId": "7b2ed16b-22c5-48f2-926f-b26efd4e4518"
      },
      "execution_count": 63,
      "outputs": [
        {
          "output_type": "execute_result",
          "data": {
            "text/plain": [
              "20000"
            ]
          },
          "metadata": {},
          "execution_count": 63
        }
      ]
    },
    {
      "cell_type": "code",
      "source": [
        "df_train = df_shuffled[:15999].reset_index()[['text','label_number']]\n",
        "df_val = df_shuffled[16000:].reset_index()[['text','label_number']]"
      ],
      "metadata": {
        "id": "ompl_qtAebeE"
      },
      "execution_count": 64,
      "outputs": []
    },
    {
      "cell_type": "markdown",
      "source": [
        "Let's import all the dependencies. In this case I'm trying out Tokenizer method from tensorflow."
      ],
      "metadata": {
        "id": "0bCrTI6locAn"
      }
    },
    {
      "cell_type": "code",
      "source": [
        "import os\n",
        "import shutil\n",
        "\n",
        "import tensorflow as tf\n",
        "import tensorflow_hub as hub\n",
        "import tensorflow_text as text\n",
        "from tensorflow.keras.preprocessing.text import Tokenizer\n",
        "\n",
        "#from official.nlp import optimization  # to create AdamW optimizer\n",
        "\n",
        "#tf.get_logger().setLevel('ERROR')"
      ],
      "metadata": {
        "id": "6J0hobbh7G3w"
      },
      "execution_count": 65,
      "outputs": []
    },
    {
      "cell_type": "markdown",
      "source": [
        "Now, we must create datasets to fit the model:\n",
        "\n",
        " - Create a tokenizer: \n",
        "  - fit_on_texts method creates the vocabulary index based on word frequency.\n",
        "  - texts_to_sequences Transforms each text in texts to a sequence of integers.\n",
        " - tf.keras.preprocessing.sequence.pad_sequences is used to ensure that all sequences in a list have the same length.\n",
        "\n",
        "That's enough to create the sequences, and combined with the labels using tf.data.Dataset.from_tensor_slices, we have the datasets to train and validate the model.\n"
      ],
      "metadata": {
        "id": "GpRWZw7PpZzS"
      }
    },
    {
      "cell_type": "code",
      "source": [
        "train_text = df_train['text'].to_numpy()\n",
        "\n",
        "tok = Tokenizer(oov_token='<unk>')\n",
        "tok.fit_on_texts(train_text)\n",
        "tok.word_index['<pad>'] = 0\n",
        "tok.index_word[0] = '<pad>'\n",
        "\n",
        "train_seqs = tok.texts_to_sequences(train_text)\n",
        "train_seqs = tf.keras.preprocessing.sequence.pad_sequences(train_seqs, padding='post')\n",
        "\n",
        "train_labels = df_train['label_number'].to_numpy().flatten()\n",
        "\n",
        "val_text = df_val['text'].to_numpy()\n",
        "val_seqs = tok.texts_to_sequences(val_text)\n",
        "val_seqs = tf.keras.preprocessing.sequence.pad_sequences(val_seqs, padding='post')\n",
        "\n",
        "val_labels = df_val['label_number'].to_numpy().flatten()"
      ],
      "metadata": {
        "id": "7WNlCOvhBvx4"
      },
      "execution_count": 66,
      "outputs": []
    },
    {
      "cell_type": "code",
      "source": [
        "train_ds = tf.data.Dataset.from_tensor_slices((train_seqs, train_labels))\n",
        "val_ds = tf.data.Dataset.from_tensor_slices((val_seqs, val_labels))"
      ],
      "metadata": {
        "id": "r4hrdR2-7G7O"
      },
      "execution_count": 67,
      "outputs": []
    },
    {
      "cell_type": "markdown",
      "source": [
        "The next piece of code allows us to combines consecutive elements of this dataset into batches"
      ],
      "metadata": {
        "id": "J9C64M6grnLk"
      }
    },
    {
      "cell_type": "code",
      "source": [
        "BATCH_SIZE = 32\n",
        "train_ds_batch = train_ds.batch(BATCH_SIZE)\n",
        "val_ds_batch = val_ds.batch(BATCH_SIZE)"
      ],
      "metadata": {
        "id": "ZyHqFZpz7G-L"
      },
      "execution_count": 68,
      "outputs": []
    },
    {
      "cell_type": "markdown",
      "source": [
        "tf.data.Dataset.prefetch is used to decouple the time when data is produced from the time when data is consumed. The buffer_size tf.data.AUTOTUNE prompts the tf.data runtime to tune the value dynamically at runtime."
      ],
      "metadata": {
        "id": "e9NCNLzOsJhf"
      }
    },
    {
      "cell_type": "code",
      "source": [
        "AUTOTUNE = tf.data.AUTOTUNE\n",
        "\n",
        "train_ds_batch = train_ds_batch.cache().prefetch(buffer_size=AUTOTUNE)\n",
        "val_ds_batch = val_ds_batch.cache().prefetch(buffer_size=AUTOTUNE)"
      ],
      "metadata": {
        "id": "xX7Anqel7HBB"
      },
      "execution_count": 69,
      "outputs": []
    },
    {
      "cell_type": "markdown",
      "source": [
        "Finally, let's create the model definition:\n",
        "\n",
        " - Model definition\n",
        "  - First layer: create an embedding with first argument the number of distinct words in the training set, and second argument the size of the embedding vectors.\n",
        "  - Second layer: defines global average pooling operation for temporal data.\n",
        "  - Third layer: Dense layer with activation function sigmoid.\n",
        "\n",
        " - Model compiler \n",
        "  - optimizer adam is used very often for NLP problems, so that's my choice.\n",
        "  - loss binary_crossentropy is used for bineary problems as it computes the cross-entropy loss between true labels and predicted labels.\n",
        "  - accuracy is a good metric to compare the models."
      ],
      "metadata": {
        "id": "n72PcJfBssji"
      }
    },
    {
      "cell_type": "code",
      "source": [
        "from tensorflow import keras\n",
        "from tensorflow.keras import layers\n",
        "\n",
        "vocab_size =len(tok.word_index) + 1\n",
        "embedding_dim = 256\n",
        "\n",
        "model = keras.Sequential([\n",
        "    layers.Embedding(vocab_size, embedding_dim),\n",
        "    layers.GlobalAveragePooling1D(),\n",
        "    layers.Dense(1, activation='sigmoid') # also tried activation='softmax'\n",
        "])\n",
        "\n",
        "model.compile(optimizer='adam',\n",
        "              loss='binary_crossentropy', \n",
        "              metrics=['accuracy'])\n",
        "\n",
        "history = model.fit(\n",
        "    train_ds_batch,\n",
        "    epochs=3,\n",
        "    validation_data=val_ds_batch, validation_steps=1, steps_per_epoch = tf.data.experimental.cardinality(train_ds).numpy()\n",
        ")"
      ],
      "metadata": {
        "colab": {
          "base_uri": "https://localhost:8080/"
        },
        "id": "eg68gNWS7HCx",
        "outputId": "4bb07f4b-8e93-42f9-bc75-bdc9c6a8ac85"
      },
      "execution_count": 70,
      "outputs": [
        {
          "output_type": "stream",
          "name": "stdout",
          "text": [
            "Epoch 1/3\n",
            "  500/15999 [..............................] - ETA: 41:13 - loss: 0.6389 - accuracy: 0.6374WARNING:tensorflow:Your input ran out of data; interrupting training. Make sure that your dataset or generator can generate at least `steps_per_epoch * epochs` batches (in this case, 47997 batches). You may need to use the repeat() function when building your dataset.\n",
            "15999/15999 [==============================] - 81s 5ms/step - loss: 0.6389 - accuracy: 0.6374 - val_loss: 0.5579 - val_accuracy: 0.7188\n"
          ]
        }
      ]
    },
    {
      "cell_type": "markdown",
      "source": [
        "So at first glance, BERT model is the one with worst results. \n"
      ],
      "metadata": {
        "id": "40bQoRhtFUKf"
      }
    },
    {
      "cell_type": "markdown",
      "source": [
        "## Feature importance\n",
        "\n",
        "Now, let's see the feature importance of the logistic regression. In other words, let's see which words are more useful for the model to make the classification:"
      ],
      "metadata": {
        "id": "JxA6E5JAJSwi"
      }
    },
    {
      "cell_type": "code",
      "source": [
        "important_tokens = pd.DataFrame(\n",
        "    data=best_model.coef_[0],\n",
        "    index=vectorizer.get_feature_names(),\n",
        "    columns=['Score']\n",
        ").sort_values(by='Score' ,ascending=False)"
      ],
      "metadata": {
        "colab": {
          "base_uri": "https://localhost:8080/"
        },
        "id": "2gXCzV9AaRSu",
        "outputId": "83ec7fdf-4d1b-4722-cac1-f306ad234f9e"
      },
      "execution_count": 71,
      "outputs": [
        {
          "output_type": "stream",
          "name": "stderr",
          "text": [
            "/usr/local/lib/python3.7/dist-packages/sklearn/utils/deprecation.py:87: FutureWarning: Function get_feature_names is deprecated; get_feature_names is deprecated in 1.0 and will be removed in 1.2. Please use get_feature_names_out instead.\n",
            "  warnings.warn(msg, category=FutureWarning)\n"
          ]
        }
      ]
    },
    {
      "cell_type": "code",
      "source": [
        "sns.barplot(x=important_tokens[:20]['Score'], y=important_tokens[:20].index).set_title('Feature importance');"
      ],
      "metadata": {
        "colab": {
          "base_uri": "https://localhost:8080/",
          "height": 384
        },
        "id": "yNv-9j4faRYi",
        "outputId": "faf6678c-6c66-40cf-a9f3-4d606a8f85db"
      },
      "execution_count": 72,
      "outputs": [
        {
          "output_type": "stream",
          "name": "stderr",
          "text": [
            "/usr/local/lib/python3.7/dist-packages/matplotlib/backends/backend_agg.py:214: RuntimeWarning: Glyph 127997 missing from current font.\n",
            "  font.set_text(s, 0.0, flags=flags)\n",
            "/usr/local/lib/python3.7/dist-packages/matplotlib/backends/backend_agg.py:183: RuntimeWarning: Glyph 127997 missing from current font.\n",
            "  font.set_text(s, 0, flags=flags)\n"
          ]
        },
        {
          "output_type": "display_data",
          "data": {
            "text/plain": [
              "<Figure size 432x288 with 1 Axes>"
            ],
            "image/png": "[encoded data removed]"
          },
          "metadata": {
            "needs_background": "light"
          }
        }
      ]
    },
    {
      "cell_type": "markdown",
      "source": [
        "## Using subsets of the dataframe: Why more isn't better\n",
        "\n",
        "There are many ways to work with huge quantities of data: use a huge ad expensive machine, build a batch ETL to process everything at night or have patience of a saint, for example. I don't own a huge machine (neither want to invest all my savings on one in the cloud), didn't have time to build an ETL like that and didn't, don't and will never have a lot of patience. So I decided to invest some time in studying if more data in the model leads to better results.\n",
        "\n",
        "For that purpose, I created a function with pieces of code from above to perform logistic regressions on different sets of data:"
      ],
      "metadata": {
        "id": "9l3VV02IePTU"
      }
    },
    {
      "cell_type": "code",
      "source": [
        "def steps_for_lg(df_original, vectorizer, sample_size):\n",
        "\n",
        "  print(f'Executing sample_size = {sample_size}')\n",
        "\n",
        "  df_d = shuffle(df_original[df_original['label']=='D'])[:sample_size]\n",
        "  df_r = shuffle(df_original[df_original['label']=='R'])[:sample_size]\n",
        "  df = df_d.append(df_r, ignore_index=True)\n",
        "\n",
        "  df['text_corpus'] = df['text'].apply(create_corpus_column)\n",
        "\n",
        "  df['label_number'] = df['label'].apply(lambda x: 0 if x == 'R' else 1)\n",
        "\n",
        "  datos_X = df.text\n",
        "  datos_y = df.label_number\n",
        "\n",
        "  X_train, X_test, y_train, y_test = train_test_split(\n",
        "      datos_X,\n",
        "      datos_y,\n",
        "      test_size = 0.2,\n",
        "      random_state = 123\n",
        "  )\n",
        "\n",
        "  vectorizer.fit(X_train)\n",
        "\n",
        "  tfidf_train = vectorizer.transform(X_train)\n",
        "  tfidf_test  = vectorizer.transform(X_test)\n",
        "\n",
        "  log_reg = LogisticRegression(C=10.0, solver='newton-cg', max_iter=1000)\n",
        "  log_reg.fit(tfidf_train, y_train)\n",
        "\n",
        "  y_hat = log_reg.predict(tfidf_test)\n",
        "\n",
        "  accuracy = accuracy_score(y_test, y_hat)\n",
        "\n",
        "  return accuracy"
      ],
      "metadata": {
        "id": "Pdh9yb2FhY5H"
      },
      "execution_count": 73,
      "outputs": []
    },
    {
      "cell_type": "code",
      "source": [
        "sample_size_list = [100, 1000, 2500, 5000, 7500, 10000, 20000, 50000, 75000, 100000, 125000, 150000, 175000, 200000]\n",
        "df_compute_results = pd.DataFrame(columns=['sample_size', 'accuracy', 'time'])"
      ],
      "metadata": {
        "id": "tTzZeiWchZDG"
      },
      "execution_count": 74,
      "outputs": []
    },
    {
      "cell_type": "code",
      "source": [
        "import time\n",
        "\n",
        "for sample_size in sample_size_list:\n",
        "  start_time = time.time()\n",
        "  accuracy = steps_for_lg(df_original, vectorizer, sample_size)\n",
        "  finish_time = time.time() - start_time\n",
        "\n",
        "  df_compute_results = df_compute_results.append({'sample_size': sample_size, 'accuracy': accuracy, 'time': finish_time}, ignore_index = True)"
      ],
      "metadata": {
        "colab": {
          "base_uri": "https://localhost:8080/"
        },
        "id": "r-sOokRlmOcx",
        "outputId": "464c9ffc-ae37-4a0e-a3b3-7cc6d3ad7521"
      },
      "execution_count": null,
      "outputs": [
        {
          "metadata": {
            "tags": null
          },
          "name": "stdout",
          "output_type": "stream",
          "text": [
            "Executing sample_size = 100\n"
          ]
        },
        {
          "metadata": {
            "tags": null
          },
          "name": "stderr",
          "output_type": "stream",
          "text": [
            "/usr/local/lib/python3.7/dist-packages/sklearn/feature_extraction/text.py:517: UserWarning: The parameter 'token_pattern' will not be used since 'tokenizer' is not None'\n",
            "  \"The parameter 'token_pattern' will not be used\"\n"
          ]
        },
        {
          "metadata": {
            "tags": null
          },
          "name": "stdout",
          "output_type": "stream",
          "text": [
            "Executing sample_size = 1000\n"
          ]
        },
        {
          "metadata": {
            "tags": null
          },
          "name": "stderr",
          "output_type": "stream",
          "text": [
            "/usr/local/lib/python3.7/dist-packages/sklearn/feature_extraction/text.py:517: UserWarning: The parameter 'token_pattern' will not be used since 'tokenizer' is not None'\n",
            "  \"The parameter 'token_pattern' will not be used\"\n"
          ]
        },
        {
          "metadata": {
            "tags": null
          },
          "name": "stdout",
          "output_type": "stream",
          "text": [
            "Executing sample_size = 2500\n"
          ]
        },
        {
          "metadata": {
            "tags": null
          },
          "name": "stderr",
          "output_type": "stream",
          "text": [
            "/usr/local/lib/python3.7/dist-packages/sklearn/feature_extraction/text.py:517: UserWarning: The parameter 'token_pattern' will not be used since 'tokenizer' is not None'\n",
            "  \"The parameter 'token_pattern' will not be used\"\n"
          ]
        },
        {
          "metadata": {
            "tags": null
          },
          "name": "stdout",
          "output_type": "stream",
          "text": [
            "Executing sample_size = 5000\n"
          ]
        },
        {
          "metadata": {
            "tags": null
          },
          "name": "stderr",
          "output_type": "stream",
          "text": [
            "/usr/local/lib/python3.7/dist-packages/sklearn/feature_extraction/text.py:517: UserWarning: The parameter 'token_pattern' will not be used since 'tokenizer' is not None'\n",
            "  \"The parameter 'token_pattern' will not be used\"\n"
          ]
        },
        {
          "metadata": {
            "tags": null
          },
          "name": "stdout",
          "output_type": "stream",
          "text": [
            "Executing sample_size = 7500\n"
          ]
        },
        {
          "metadata": {
            "tags": null
          },
          "name": "stderr",
          "output_type": "stream",
          "text": [
            "/usr/local/lib/python3.7/dist-packages/sklearn/feature_extraction/text.py:517: UserWarning: The parameter 'token_pattern' will not be used since 'tokenizer' is not None'\n",
            "  \"The parameter 'token_pattern' will not be used\"\n"
          ]
        },
        {
          "metadata": {
            "tags": null
          },
          "name": "stdout",
          "output_type": "stream",
          "text": [
            "Executing sample_size = 10000\n"
          ]
        },
        {
          "metadata": {
            "tags": null
          },
          "name": "stderr",
          "output_type": "stream",
          "text": [
            "/usr/local/lib/python3.7/dist-packages/sklearn/feature_extraction/text.py:517: UserWarning: The parameter 'token_pattern' will not be used since 'tokenizer' is not None'\n",
            "  \"The parameter 'token_pattern' will not be used\"\n"
          ]
        },
        {
          "metadata": {
            "tags": null
          },
          "name": "stdout",
          "output_type": "stream",
          "text": [
            "Executing sample_size = 20000\n"
          ]
        },
        {
          "metadata": {
            "tags": null
          },
          "name": "stderr",
          "output_type": "stream",
          "text": [
            "/usr/local/lib/python3.7/dist-packages/sklearn/feature_extraction/text.py:517: UserWarning: The parameter 'token_pattern' will not be used since 'tokenizer' is not None'\n",
            "  \"The parameter 'token_pattern' will not be used\"\n"
          ]
        },
        {
          "metadata": {
            "tags": null
          },
          "name": "stdout",
          "output_type": "stream",
          "text": [
            "Executing sample_size = 50000\n"
          ]
        },
        {
          "metadata": {
            "tags": null
          },
          "name": "stderr",
          "output_type": "stream",
          "text": [
            "/usr/local/lib/python3.7/dist-packages/sklearn/feature_extraction/text.py:517: UserWarning: The parameter 'token_pattern' will not be used since 'tokenizer' is not None'\n",
            "  \"The parameter 'token_pattern' will not be used\"\n"
          ]
        },
        {
          "output_type": "stream",
          "name": "stdout",
          "text": [
            "Executing sample_size = 75000\n"
          ]
        }
      ]
    },
    {
      "cell_type": "code",
      "source": [
        "fig,(ax1,ax2)=plt.subplots(1,2,figsize=(18,5))\n",
        "ax1.plot(df_compute_results['sample_size'], df_compute_results['accuracy'], color='blue', label='accuracy')\n",
        "ax1.set_title('Accuracy')\n",
        "ax2.plot(df_compute_results['sample_size'], df_compute_results['time'], color='orange', label='time')\n",
        "ax2.set_title('Time')\n",
        "plt.show()"
      ],
      "metadata": {
        "id": "1eGfQbptmOpf"
      },
      "execution_count": null,
      "outputs": []
    },
    {
      "cell_type": "markdown",
      "source": [
        "We can see that there is point where the accuracy starts to increase very slowly, so you can decide wether the investment of time or money is worth or not."
      ],
      "metadata": {
        "id": "XqOb4m2kM5nZ"
      }
    }
  ]
}