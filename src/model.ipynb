{
  "nbformat": 4,
  "nbformat_minor": 0,
  "metadata": {
    "colab": {
      "name": "model.ipynb",
      "provenance": [],
      "include_colab_link": true
    },
    "kernelspec": {
      "name": "python3",
      "display_name": "Python 3"
    },
    "language_info": {
      "name": "python"
    }
  },
  "cells": [
    {
      "cell_type": "markdown",
      "metadata": {
        "id": "view-in-github",
        "colab_type": "text"
      },
      "source": [
        "<a href=\"https://colab.research.google.com/github/alexferrero23/twitter-category-nlp/blob/develop/src/model.ipynb\" target=\"_parent\"><img src=\"https://colab.research.google.com/assets/colab-badge.svg\" alt=\"Open In Colab\"/></a>"
      ]
    },
    {
      "cell_type": "markdown",
      "source": [
        "# Best model search"
      ],
      "metadata": {
        "id": "LLIk3mSXaI1i"
      }
    },
    {
      "cell_type": "code",
      "execution_count": 1,
      "metadata": {
        "id": "RpzwykLeRpDT"
      },
      "outputs": [],
      "source": [
        "import pandas as pd\n",
        "import numpy as np\n",
        "import matplotlib.pyplot as plt\n",
        "from datetime import datetime\n",
        "import seaborn as sns\n",
        "import glob\n",
        "import re\n",
        "import io"
      ]
    },
    {
      "cell_type": "markdown",
      "source": [
        "## Import your file\n",
        "\n",
        "In order to start working, we have to import the file obtained from the notebook 'EDA.ipynb' in the same repository."
      ],
      "metadata": {
        "id": "BmAwlB2KR_bm"
      }
    },
    {
      "cell_type": "code",
      "source": [
        "from google.colab import files\n",
        "uploaded = files.upload()"
      ],
      "metadata": {
        "colab": {
          "resources": {
            "http://localhost:8080/nbextensions/google.colab/files.js": {
              "data": "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",
              "ok": true,
              "headers": [
                [
                  "content-type",
                  "application/javascript"
                ]
              ],
              "status": 200,
              "status_text": ""
            }
          },
          "base_uri": "https://localhost:8080/",
          "height": 73
        },
        "id": "WZAKjRKfbYo2",
        "outputId": "f71229eb-f05f-4c2f-f9aa-2d3a634c2bc7"
      },
      "execution_count": 2,
      "outputs": [
        {
          "output_type": "display_data",
          "data": {
            "text/plain": [
              "<IPython.core.display.HTML object>"
            ],
            "text/html": [
              "\n",
              "     <input type=\"file\" id=\"files-c28a2951-1692-46b5-bb11-3bd6f1c6fdac\" name=\"files[]\" multiple disabled\n",
              "        style=\"border:none\" />\n",
              "     <output id=\"result-c28a2951-1692-46b5-bb11-3bd6f1c6fdac\">\n",
              "      Upload widget is only available when the cell has been executed in the\n",
              "      current browser session. Please rerun this cell to enable.\n",
              "      </output>\n",
              "      <script src=\"/nbextensions/google.colab/files.js\"></script> "
            ]
          },
          "metadata": {}
        },
        {
          "output_type": "stream",
          "name": "stdout",
          "text": [
            "Saving working_df (1).orc to working_df (1).orc\n"
          ]
        }
      ]
    },
    {
      "cell_type": "code",
      "source": [
        "import pyarrow.orc \n",
        "\n",
        "df_original = pd.read_orc('working_df (1).orc')"
      ],
      "metadata": {
        "id": "_0bI_Qs-bNiJ"
      },
      "execution_count": 3,
      "outputs": []
    },
    {
      "cell_type": "code",
      "source": [
        "df_original.head(5)"
      ],
      "metadata": {
        "colab": {
          "base_uri": "https://localhost:8080/",
          "height": 206
        },
        "id": "oCMGzUw0XRgV",
        "outputId": "9d9a7b57-7eba-4027-9ba3-d4c1d255b33f"
      },
      "execution_count": 4,
      "outputs": [
        {
          "output_type": "execute_result",
          "data": {
            "text/plain": [
              "   username          created_at  \\\n",
              "0  RepAdams 2022-04-30 14:42:28   \n",
              "1  RepAdams 2022-04-29 16:40:17   \n",
              "2  RepAdams 2022-04-29 01:52:24   \n",
              "3  RepAdams 2022-04-25 15:38:45   \n",
              "4  RepAdams 2022-04-22 19:57:41   \n",
              "\n",
              "                                                text lang label  \\\n",
              "0  Today my thoughts are with the entire UNC Char...   en     D   \n",
              "1  Welcome to the next President of DavidsonColle...   en     D   \n",
              "2  This WorkersMemorialDay, we remember countless...   en     D   \n",
              "3  It’s a perfect date to celebrate the 40th Anni...   en     D   \n",
              "4  Happy National Volunteer Week!  Volunteers mak...   en     D   \n",
              "\n",
              "   retweet_count  favorite_count  length  \n",
              "0            3.0            17.0     263  \n",
              "1            1.0             0.0      62  \n",
              "2            2.0             3.0     262  \n",
              "3            3.0            29.0     163  \n",
              "4            2.0             6.0     182  "
            ],
            "text/html": [
              "\n",
              "  <div id=\"df-7df84821-72e6-467a-b9e4-1b1d87973462\">\n",
              "    <div class=\"colab-df-container\">\n",
              "      <div>\n",
              "<style scoped>\n",
              "    .dataframe tbody tr th:only-of-type {\n",
              "        vertical-align: middle;\n",
              "    }\n",
              "\n",
              "    .dataframe tbody tr th {\n",
              "        vertical-align: top;\n",
              "    }\n",
              "\n",
              "    .dataframe thead th {\n",
              "        text-align: right;\n",
              "    }\n",
              "</style>\n",
              "<table border=\"1\" class=\"dataframe\">\n",
              "  <thead>\n",
              "    <tr style=\"text-align: right;\">\n",
              "      <th></th>\n",
              "      <th>username</th>\n",
              "      <th>created_at</th>\n",
              "      <th>text</th>\n",
              "      <th>lang</th>\n",
              "      <th>label</th>\n",
              "      <th>retweet_count</th>\n",
              "      <th>favorite_count</th>\n",
              "      <th>length</th>\n",
              "    </tr>\n",
              "  </thead>\n",
              "  <tbody>\n",
              "    <tr>\n",
              "      <th>0</th>\n",
              "      <td>RepAdams</td>\n",
              "      <td>2022-04-30 14:42:28</td>\n",
              "      <td>Today my thoughts are with the entire UNC Char...</td>\n",
              "      <td>en</td>\n",
              "      <td>D</td>\n",
              "      <td>3.0</td>\n",
              "      <td>17.0</td>\n",
              "      <td>263</td>\n",
              "    </tr>\n",
              "    <tr>\n",
              "      <th>1</th>\n",
              "      <td>RepAdams</td>\n",
              "      <td>2022-04-29 16:40:17</td>\n",
              "      <td>Welcome to the next President of DavidsonColle...</td>\n",
              "      <td>en</td>\n",
              "      <td>D</td>\n",
              "      <td>1.0</td>\n",
              "      <td>0.0</td>\n",
              "      <td>62</td>\n",
              "    </tr>\n",
              "    <tr>\n",
              "      <th>2</th>\n",
              "      <td>RepAdams</td>\n",
              "      <td>2022-04-29 01:52:24</td>\n",
              "      <td>This WorkersMemorialDay, we remember countless...</td>\n",
              "      <td>en</td>\n",
              "      <td>D</td>\n",
              "      <td>2.0</td>\n",
              "      <td>3.0</td>\n",
              "      <td>262</td>\n",
              "    </tr>\n",
              "    <tr>\n",
              "      <th>3</th>\n",
              "      <td>RepAdams</td>\n",
              "      <td>2022-04-25 15:38:45</td>\n",
              "      <td>It’s a perfect date to celebrate the 40th Anni...</td>\n",
              "      <td>en</td>\n",
              "      <td>D</td>\n",
              "      <td>3.0</td>\n",
              "      <td>29.0</td>\n",
              "      <td>163</td>\n",
              "    </tr>\n",
              "    <tr>\n",
              "      <th>4</th>\n",
              "      <td>RepAdams</td>\n",
              "      <td>2022-04-22 19:57:41</td>\n",
              "      <td>Happy National Volunteer Week!  Volunteers mak...</td>\n",
              "      <td>en</td>\n",
              "      <td>D</td>\n",
              "      <td>2.0</td>\n",
              "      <td>6.0</td>\n",
              "      <td>182</td>\n",
              "    </tr>\n",
              "  </tbody>\n",
              "</table>\n",
              "</div>\n",
              "      <button class=\"colab-df-convert\" onclick=\"convertToInteractive('df-7df84821-72e6-467a-b9e4-1b1d87973462')\"\n",
              "              title=\"Convert this dataframe to an interactive table.\"\n",
              "              style=\"display:none;\">\n",
              "        \n",
              "  <svg xmlns=\"http://www.w3.org/2000/svg\" height=\"24px\"viewBox=\"0 0 24 24\"\n",
              "       width=\"24px\">\n",
              "    <path d=\"M0 0h24v24H0V0z\" fill=\"none\"/>\n",
              "    <path d=\"M18.56 5.44l.94 2.06.94-2.06 2.06-.94-2.06-.94-.94-2.06-.94 2.06-2.06.94zm-11 1L8.5 8.5l.94-2.06 2.06-.94-2.06-.94L8.5 2.5l-.94 2.06-2.06.94zm10 10l.94 2.06.94-2.06 2.06-.94-2.06-.94-.94-2.06-.94 2.06-2.06.94z\"/><path d=\"M17.41 7.96l-1.37-1.37c-.4-.4-.92-.59-1.43-.59-.52 0-1.04.2-1.43.59L10.3 9.45l-7.72 7.72c-.78.78-.78 2.05 0 2.83L4 21.41c.39.39.9.59 1.41.59.51 0 1.02-.2 1.41-.59l7.78-7.78 2.81-2.81c.8-.78.8-2.07 0-2.86zM5.41 20L4 18.59l7.72-7.72 1.47 1.35L5.41 20z\"/>\n",
              "  </svg>\n",
              "      </button>\n",
              "      \n",
              "  <style>\n",
              "    .colab-df-container {\n",
              "      display:flex;\n",
              "      flex-wrap:wrap;\n",
              "      gap: 12px;\n",
              "    }\n",
              "\n",
              "    .colab-df-convert {\n",
              "      background-color: #E8F0FE;\n",
              "      border: none;\n",
              "      border-radius: 50%;\n",
              "      cursor: pointer;\n",
              "      display: none;\n",
              "      fill: #1967D2;\n",
              "      height: 32px;\n",
              "      padding: 0 0 0 0;\n",
              "      width: 32px;\n",
              "    }\n",
              "\n",
              "    .colab-df-convert:hover {\n",
              "      background-color: #E2EBFA;\n",
              "      box-shadow: 0px 1px 2px rgba(60, 64, 67, 0.3), 0px 1px 3px 1px rgba(60, 64, 67, 0.15);\n",
              "      fill: #174EA6;\n",
              "    }\n",
              "\n",
              "    [theme=dark] .colab-df-convert {\n",
              "      background-color: #3B4455;\n",
              "      fill: #D2E3FC;\n",
              "    }\n",
              "\n",
              "    [theme=dark] .colab-df-convert:hover {\n",
              "      background-color: #434B5C;\n",
              "      box-shadow: 0px 1px 3px 1px rgba(0, 0, 0, 0.15);\n",
              "      filter: drop-shadow(0px 1px 2px rgba(0, 0, 0, 0.3));\n",
              "      fill: #FFFFFF;\n",
              "    }\n",
              "  </style>\n",
              "\n",
              "      <script>\n",
              "        const buttonEl =\n",
              "          document.querySelector('#df-7df84821-72e6-467a-b9e4-1b1d87973462 button.colab-df-convert');\n",
              "        buttonEl.style.display =\n",
              "          google.colab.kernel.accessAllowed ? 'block' : 'none';\n",
              "\n",
              "        async function convertToInteractive(key) {\n",
              "          const element = document.querySelector('#df-7df84821-72e6-467a-b9e4-1b1d87973462');\n",
              "          const dataTable =\n",
              "            await google.colab.kernel.invokeFunction('convertToInteractive',\n",
              "                                                     [key], {});\n",
              "          if (!dataTable) return;\n",
              "\n",
              "          const docLinkHtml = 'Like what you see? Visit the ' +\n",
              "            '<a target=\"_blank\" href=https://colab.research.google.com/notebooks/data_table.ipynb>data table notebook</a>'\n",
              "            + ' to learn more about interactive tables.';\n",
              "          element.innerHTML = '';\n",
              "          dataTable['output_type'] = 'display_data';\n",
              "          await google.colab.output.renderOutput(dataTable, element);\n",
              "          const docLink = document.createElement('div');\n",
              "          docLink.innerHTML = docLinkHtml;\n",
              "          element.appendChild(docLink);\n",
              "        }\n",
              "      </script>\n",
              "    </div>\n",
              "  </div>\n",
              "  "
            ]
          },
          "metadata": {},
          "execution_count": 4
        }
      ]
    },
    {
      "cell_type": "markdown",
      "source": [
        "We are going to use a subset of the dataframe for two reasons: First, models take too much time to fit (unless you are using a huge and expensive machine, which is not my case) and secondly, it seems that more data doesn't lead to better results. At the end of this notebook there will be a more accurate explanation of this.\n",
        "\n"
      ],
      "metadata": {
        "id": "aW_quoJxEREX"
      }
    },
    {
      "cell_type": "code",
      "source": [
        "from sklearn.utils import shuffle\n",
        "df_d = shuffle(df_original[df_original['label']=='D'])[:10000]\n",
        "df_r = shuffle(df_original[df_original['label']=='R'])[:10000]\n",
        "df = df_d.append(df_r, ignore_index=True)"
      ],
      "metadata": {
        "id": "gFAUeQcj-siW"
      },
      "execution_count": 5,
      "outputs": []
    },
    {
      "cell_type": "markdown",
      "source": [
        "## Model preprocesing\n",
        "\n",
        "Before we start trying out models, we need to make some transformation in the data.\n",
        "First, let's create a column with a list of words from tweets.\n",
        "Library nltk contains two methods really usefull for this step:\n",
        "\n",
        " - stopwords returns a dictionary with useless words for our model.\n",
        " - TweetTokenizer allows us to convert the stream of words into small  tokens"
      ],
      "metadata": {
        "id": "5SD8V5uOA1xs"
      }
    },
    {
      "cell_type": "code",
      "source": [
        "import nltk\n",
        "from nltk.tokenize import TweetTokenizer\n",
        "from nltk.corpus import stopwords\n",
        "nltk.download('stopwords')\n",
        "stop=list(stopwords.words('english'))\n",
        "import string\n",
        "stop.extend(('&amp;', '-', '…', '’', '“', '—', '”', 'amp'))\n",
        "\n",
        "def create_corpus_column(tweet):\n",
        "    tokenizer = TweetTokenizer(preserve_case=False, strip_handles=True,\n",
        "                               reduce_len=True)\n",
        "    cleaned_corpus = []\n",
        "    corpus = tokenizer.tokenize(tweet)\n",
        "    for word in corpus:\n",
        "        if (word not in stop) and (word not in string.punctuation):\n",
        "             cleaned_corpus.append(word)\n",
        "    return cleaned_corpus"
      ],
      "metadata": {
        "colab": {
          "base_uri": "https://localhost:8080/"
        },
        "id": "3SJ3CNBiUqYm",
        "outputId": "60b9d89a-5409-4a03-98d8-e818d6b62d00"
      },
      "execution_count": 6,
      "outputs": [
        {
          "output_type": "stream",
          "name": "stdout",
          "text": [
            "[nltk_data] Downloading package stopwords to /root/nltk_data...\n",
            "[nltk_data]   Unzipping corpora/stopwords.zip.\n"
          ]
        }
      ]
    },
    {
      "cell_type": "code",
      "source": [
        "df['text_corpus'] = df['text'].apply(create_corpus_column)"
      ],
      "metadata": {
        "id": "9nnJsvYxXZmA"
      },
      "execution_count": 7,
      "outputs": []
    },
    {
      "cell_type": "code",
      "source": [
        "df.head(5)"
      ],
      "metadata": {
        "colab": {
          "base_uri": "https://localhost:8080/",
          "height": 337
        },
        "id": "m9gLcaXoZN21",
        "outputId": "4160477d-fe85-4e5a-a50b-424463dfbc38"
      },
      "execution_count": 8,
      "outputs": [
        {
          "output_type": "execute_result",
          "data": {
            "text/plain": [
              "         username          created_at  \\\n",
              "0    RepSchneider 2019-03-19 17:54:12   \n",
              "1  MartinHeinrich 2021-08-06 13:45:00   \n",
              "2    RepAndyLevin 2020-10-19 20:44:00   \n",
              "3   RepMarkTakano 2019-04-11 17:40:50   \n",
              "4  RepAnnieKuster 2019-09-11 20:46:26   \n",
              "\n",
              "                                                text lang label  \\\n",
              "0  It was great to visit TRI Industries in Vernon...   en     D   \n",
              "1  Santa Fe's own Aliphine Tuliamuk will be repre...   en     D   \n",
              "2  We shouldn’t have to live in a country where m...   en     D   \n",
              "3  .BetsyDeVosED confirmed that she has not appro...   en     D   \n",
              "4  The brave MeToo stories that have been shared ...   en     D   \n",
              "\n",
              "   retweet_count  favorite_count  length  \\\n",
              "0            2.0             8.0     196   \n",
              "1            5.0            49.0     136   \n",
              "2            3.0            17.0     141   \n",
              "3           53.0           123.0     273   \n",
              "4            5.0            11.0     277   \n",
              "\n",
              "                                         text_corpus  \n",
              "0  [great, visit, tri, industries, vernon, hills,...  \n",
              "1  [santa, fe's, aliphine, tuliamuk, representing...  \n",
              "2  [live, country, mothers, tell, daughters, exis...  \n",
              "3  [betsydevosed, confirmed, approved, single, bo...  \n",
              "4  [brave, metoo, stories, shared, raised, awaren...  "
            ],
            "text/html": [
              "\n",
              "  <div id=\"df-1adf3303-237b-4b6e-ad6d-15de0d8f13d8\">\n",
              "    <div class=\"colab-df-container\">\n",
              "      <div>\n",
              "<style scoped>\n",
              "    .dataframe tbody tr th:only-of-type {\n",
              "        vertical-align: middle;\n",
              "    }\n",
              "\n",
              "    .dataframe tbody tr th {\n",
              "        vertical-align: top;\n",
              "    }\n",
              "\n",
              "    .dataframe thead th {\n",
              "        text-align: right;\n",
              "    }\n",
              "</style>\n",
              "<table border=\"1\" class=\"dataframe\">\n",
              "  <thead>\n",
              "    <tr style=\"text-align: right;\">\n",
              "      <th></th>\n",
              "      <th>username</th>\n",
              "      <th>created_at</th>\n",
              "      <th>text</th>\n",
              "      <th>lang</th>\n",
              "      <th>label</th>\n",
              "      <th>retweet_count</th>\n",
              "      <th>favorite_count</th>\n",
              "      <th>length</th>\n",
              "      <th>text_corpus</th>\n",
              "    </tr>\n",
              "  </thead>\n",
              "  <tbody>\n",
              "    <tr>\n",
              "      <th>0</th>\n",
              "      <td>RepSchneider</td>\n",
              "      <td>2019-03-19 17:54:12</td>\n",
              "      <td>It was great to visit TRI Industries in Vernon...</td>\n",
              "      <td>en</td>\n",
              "      <td>D</td>\n",
              "      <td>2.0</td>\n",
              "      <td>8.0</td>\n",
              "      <td>196</td>\n",
              "      <td>[great, visit, tri, industries, vernon, hills,...</td>\n",
              "    </tr>\n",
              "    <tr>\n",
              "      <th>1</th>\n",
              "      <td>MartinHeinrich</td>\n",
              "      <td>2021-08-06 13:45:00</td>\n",
              "      <td>Santa Fe's own Aliphine Tuliamuk will be repre...</td>\n",
              "      <td>en</td>\n",
              "      <td>D</td>\n",
              "      <td>5.0</td>\n",
              "      <td>49.0</td>\n",
              "      <td>136</td>\n",
              "      <td>[santa, fe's, aliphine, tuliamuk, representing...</td>\n",
              "    </tr>\n",
              "    <tr>\n",
              "      <th>2</th>\n",
              "      <td>RepAndyLevin</td>\n",
              "      <td>2020-10-19 20:44:00</td>\n",
              "      <td>We shouldn’t have to live in a country where m...</td>\n",
              "      <td>en</td>\n",
              "      <td>D</td>\n",
              "      <td>3.0</td>\n",
              "      <td>17.0</td>\n",
              "      <td>141</td>\n",
              "      <td>[live, country, mothers, tell, daughters, exis...</td>\n",
              "    </tr>\n",
              "    <tr>\n",
              "      <th>3</th>\n",
              "      <td>RepMarkTakano</td>\n",
              "      <td>2019-04-11 17:40:50</td>\n",
              "      <td>.BetsyDeVosED confirmed that she has not appro...</td>\n",
              "      <td>en</td>\n",
              "      <td>D</td>\n",
              "      <td>53.0</td>\n",
              "      <td>123.0</td>\n",
              "      <td>273</td>\n",
              "      <td>[betsydevosed, confirmed, approved, single, bo...</td>\n",
              "    </tr>\n",
              "    <tr>\n",
              "      <th>4</th>\n",
              "      <td>RepAnnieKuster</td>\n",
              "      <td>2019-09-11 20:46:26</td>\n",
              "      <td>The brave MeToo stories that have been shared ...</td>\n",
              "      <td>en</td>\n",
              "      <td>D</td>\n",
              "      <td>5.0</td>\n",
              "      <td>11.0</td>\n",
              "      <td>277</td>\n",
              "      <td>[brave, metoo, stories, shared, raised, awaren...</td>\n",
              "    </tr>\n",
              "  </tbody>\n",
              "</table>\n",
              "</div>\n",
              "      <button class=\"colab-df-convert\" onclick=\"convertToInteractive('df-1adf3303-237b-4b6e-ad6d-15de0d8f13d8')\"\n",
              "              title=\"Convert this dataframe to an interactive table.\"\n",
              "              style=\"display:none;\">\n",
              "        \n",
              "  <svg xmlns=\"http://www.w3.org/2000/svg\" height=\"24px\"viewBox=\"0 0 24 24\"\n",
              "       width=\"24px\">\n",
              "    <path d=\"M0 0h24v24H0V0z\" fill=\"none\"/>\n",
              "    <path d=\"M18.56 5.44l.94 2.06.94-2.06 2.06-.94-2.06-.94-.94-2.06-.94 2.06-2.06.94zm-11 1L8.5 8.5l.94-2.06 2.06-.94-2.06-.94L8.5 2.5l-.94 2.06-2.06.94zm10 10l.94 2.06.94-2.06 2.06-.94-2.06-.94-.94-2.06-.94 2.06-2.06.94z\"/><path d=\"M17.41 7.96l-1.37-1.37c-.4-.4-.92-.59-1.43-.59-.52 0-1.04.2-1.43.59L10.3 9.45l-7.72 7.72c-.78.78-.78 2.05 0 2.83L4 21.41c.39.39.9.59 1.41.59.51 0 1.02-.2 1.41-.59l7.78-7.78 2.81-2.81c.8-.78.8-2.07 0-2.86zM5.41 20L4 18.59l7.72-7.72 1.47 1.35L5.41 20z\"/>\n",
              "  </svg>\n",
              "      </button>\n",
              "      \n",
              "  <style>\n",
              "    .colab-df-container {\n",
              "      display:flex;\n",
              "      flex-wrap:wrap;\n",
              "      gap: 12px;\n",
              "    }\n",
              "\n",
              "    .colab-df-convert {\n",
              "      background-color: #E8F0FE;\n",
              "      border: none;\n",
              "      border-radius: 50%;\n",
              "      cursor: pointer;\n",
              "      display: none;\n",
              "      fill: #1967D2;\n",
              "      height: 32px;\n",
              "      padding: 0 0 0 0;\n",
              "      width: 32px;\n",
              "    }\n",
              "\n",
              "    .colab-df-convert:hover {\n",
              "      background-color: #E2EBFA;\n",
              "      box-shadow: 0px 1px 2px rgba(60, 64, 67, 0.3), 0px 1px 3px 1px rgba(60, 64, 67, 0.15);\n",
              "      fill: #174EA6;\n",
              "    }\n",
              "\n",
              "    [theme=dark] .colab-df-convert {\n",
              "      background-color: #3B4455;\n",
              "      fill: #D2E3FC;\n",
              "    }\n",
              "\n",
              "    [theme=dark] .colab-df-convert:hover {\n",
              "      background-color: #434B5C;\n",
              "      box-shadow: 0px 1px 3px 1px rgba(0, 0, 0, 0.15);\n",
              "      filter: drop-shadow(0px 1px 2px rgba(0, 0, 0, 0.3));\n",
              "      fill: #FFFFFF;\n",
              "    }\n",
              "  </style>\n",
              "\n",
              "      <script>\n",
              "        const buttonEl =\n",
              "          document.querySelector('#df-1adf3303-237b-4b6e-ad6d-15de0d8f13d8 button.colab-df-convert');\n",
              "        buttonEl.style.display =\n",
              "          google.colab.kernel.accessAllowed ? 'block' : 'none';\n",
              "\n",
              "        async function convertToInteractive(key) {\n",
              "          const element = document.querySelector('#df-1adf3303-237b-4b6e-ad6d-15de0d8f13d8');\n",
              "          const dataTable =\n",
              "            await google.colab.kernel.invokeFunction('convertToInteractive',\n",
              "                                                     [key], {});\n",
              "          if (!dataTable) return;\n",
              "\n",
              "          const docLinkHtml = 'Like what you see? Visit the ' +\n",
              "            '<a target=\"_blank\" href=https://colab.research.google.com/notebooks/data_table.ipynb>data table notebook</a>'\n",
              "            + ' to learn more about interactive tables.';\n",
              "          element.innerHTML = '';\n",
              "          dataTable['output_type'] = 'display_data';\n",
              "          await google.colab.output.renderOutput(dataTable, element);\n",
              "          const docLink = document.createElement('div');\n",
              "          docLink.innerHTML = docLinkHtml;\n",
              "          element.appendChild(docLink);\n",
              "        }\n",
              "      </script>\n",
              "    </div>\n",
              "  </div>\n",
              "  "
            ]
          },
          "metadata": {},
          "execution_count": 8
        }
      ]
    },
    {
      "cell_type": "markdown",
      "source": [
        "### Cosine similarity\n",
        "\n",
        "A very good exercise we can do now is check correlation between the two groups. As we are analyzing tweets from the same topic, it's evident that this correlation is going to be really big. Firstly, we unnest the column text_corpus.\n",
        "\n",
        "\n"
      ],
      "metadata": {
        "id": "n4F7p76ABFzY"
      }
    },
    {
      "cell_type": "code",
      "source": [
        "df_tidy = df.explode(column='text_corpus')\n",
        "df_tidy = df_tidy.drop(columns='text')\n",
        "df_tidy.head(3)"
      ],
      "metadata": {
        "colab": {
          "base_uri": "https://localhost:8080/",
          "height": 143
        },
        "id": "2gJomwcMRszd",
        "outputId": "67b7002a-74a8-4829-fc04-a06fd8e2d0c9"
      },
      "execution_count": 9,
      "outputs": [
        {
          "output_type": "execute_result",
          "data": {
            "text/plain": [
              "       username          created_at lang label  retweet_count  favorite_count  \\\n",
              "0  RepSchneider 2019-03-19 17:54:12   en     D            2.0             8.0   \n",
              "0  RepSchneider 2019-03-19 17:54:12   en     D            2.0             8.0   \n",
              "0  RepSchneider 2019-03-19 17:54:12   en     D            2.0             8.0   \n",
              "\n",
              "   length text_corpus  \n",
              "0     196       great  \n",
              "0     196       visit  \n",
              "0     196         tri  "
            ],
            "text/html": [
              "\n",
              "  <div id=\"df-cccca57f-cf35-4d56-a7ec-586379e29645\">\n",
              "    <div class=\"colab-df-container\">\n",
              "      <div>\n",
              "<style scoped>\n",
              "    .dataframe tbody tr th:only-of-type {\n",
              "        vertical-align: middle;\n",
              "    }\n",
              "\n",
              "    .dataframe tbody tr th {\n",
              "        vertical-align: top;\n",
              "    }\n",
              "\n",
              "    .dataframe thead th {\n",
              "        text-align: right;\n",
              "    }\n",
              "</style>\n",
              "<table border=\"1\" class=\"dataframe\">\n",
              "  <thead>\n",
              "    <tr style=\"text-align: right;\">\n",
              "      <th></th>\n",
              "      <th>username</th>\n",
              "      <th>created_at</th>\n",
              "      <th>lang</th>\n",
              "      <th>label</th>\n",
              "      <th>retweet_count</th>\n",
              "      <th>favorite_count</th>\n",
              "      <th>length</th>\n",
              "      <th>text_corpus</th>\n",
              "    </tr>\n",
              "  </thead>\n",
              "  <tbody>\n",
              "    <tr>\n",
              "      <th>0</th>\n",
              "      <td>RepSchneider</td>\n",
              "      <td>2019-03-19 17:54:12</td>\n",
              "      <td>en</td>\n",
              "      <td>D</td>\n",
              "      <td>2.0</td>\n",
              "      <td>8.0</td>\n",
              "      <td>196</td>\n",
              "      <td>great</td>\n",
              "    </tr>\n",
              "    <tr>\n",
              "      <th>0</th>\n",
              "      <td>RepSchneider</td>\n",
              "      <td>2019-03-19 17:54:12</td>\n",
              "      <td>en</td>\n",
              "      <td>D</td>\n",
              "      <td>2.0</td>\n",
              "      <td>8.0</td>\n",
              "      <td>196</td>\n",
              "      <td>visit</td>\n",
              "    </tr>\n",
              "    <tr>\n",
              "      <th>0</th>\n",
              "      <td>RepSchneider</td>\n",
              "      <td>2019-03-19 17:54:12</td>\n",
              "      <td>en</td>\n",
              "      <td>D</td>\n",
              "      <td>2.0</td>\n",
              "      <td>8.0</td>\n",
              "      <td>196</td>\n",
              "      <td>tri</td>\n",
              "    </tr>\n",
              "  </tbody>\n",
              "</table>\n",
              "</div>\n",
              "      <button class=\"colab-df-convert\" onclick=\"convertToInteractive('df-cccca57f-cf35-4d56-a7ec-586379e29645')\"\n",
              "              title=\"Convert this dataframe to an interactive table.\"\n",
              "              style=\"display:none;\">\n",
              "        \n",
              "  <svg xmlns=\"http://www.w3.org/2000/svg\" height=\"24px\"viewBox=\"0 0 24 24\"\n",
              "       width=\"24px\">\n",
              "    <path d=\"M0 0h24v24H0V0z\" fill=\"none\"/>\n",
              "    <path d=\"M18.56 5.44l.94 2.06.94-2.06 2.06-.94-2.06-.94-.94-2.06-.94 2.06-2.06.94zm-11 1L8.5 8.5l.94-2.06 2.06-.94-2.06-.94L8.5 2.5l-.94 2.06-2.06.94zm10 10l.94 2.06.94-2.06 2.06-.94-2.06-.94-.94-2.06-.94 2.06-2.06.94z\"/><path d=\"M17.41 7.96l-1.37-1.37c-.4-.4-.92-.59-1.43-.59-.52 0-1.04.2-1.43.59L10.3 9.45l-7.72 7.72c-.78.78-.78 2.05 0 2.83L4 21.41c.39.39.9.59 1.41.59.51 0 1.02-.2 1.41-.59l7.78-7.78 2.81-2.81c.8-.78.8-2.07 0-2.86zM5.41 20L4 18.59l7.72-7.72 1.47 1.35L5.41 20z\"/>\n",
              "  </svg>\n",
              "      </button>\n",
              "      \n",
              "  <style>\n",
              "    .colab-df-container {\n",
              "      display:flex;\n",
              "      flex-wrap:wrap;\n",
              "      gap: 12px;\n",
              "    }\n",
              "\n",
              "    .colab-df-convert {\n",
              "      background-color: #E8F0FE;\n",
              "      border: none;\n",
              "      border-radius: 50%;\n",
              "      cursor: pointer;\n",
              "      display: none;\n",
              "      fill: #1967D2;\n",
              "      height: 32px;\n",
              "      padding: 0 0 0 0;\n",
              "      width: 32px;\n",
              "    }\n",
              "\n",
              "    .colab-df-convert:hover {\n",
              "      background-color: #E2EBFA;\n",
              "      box-shadow: 0px 1px 2px rgba(60, 64, 67, 0.3), 0px 1px 3px 1px rgba(60, 64, 67, 0.15);\n",
              "      fill: #174EA6;\n",
              "    }\n",
              "\n",
              "    [theme=dark] .colab-df-convert {\n",
              "      background-color: #3B4455;\n",
              "      fill: #D2E3FC;\n",
              "    }\n",
              "\n",
              "    [theme=dark] .colab-df-convert:hover {\n",
              "      background-color: #434B5C;\n",
              "      box-shadow: 0px 1px 3px 1px rgba(0, 0, 0, 0.15);\n",
              "      filter: drop-shadow(0px 1px 2px rgba(0, 0, 0, 0.3));\n",
              "      fill: #FFFFFF;\n",
              "    }\n",
              "  </style>\n",
              "\n",
              "      <script>\n",
              "        const buttonEl =\n",
              "          document.querySelector('#df-cccca57f-cf35-4d56-a7ec-586379e29645 button.colab-df-convert');\n",
              "        buttonEl.style.display =\n",
              "          google.colab.kernel.accessAllowed ? 'block' : 'none';\n",
              "\n",
              "        async function convertToInteractive(key) {\n",
              "          const element = document.querySelector('#df-cccca57f-cf35-4d56-a7ec-586379e29645');\n",
              "          const dataTable =\n",
              "            await google.colab.kernel.invokeFunction('convertToInteractive',\n",
              "                                                     [key], {});\n",
              "          if (!dataTable) return;\n",
              "\n",
              "          const docLinkHtml = 'Like what you see? Visit the ' +\n",
              "            '<a target=\"_blank\" href=https://colab.research.google.com/notebooks/data_table.ipynb>data table notebook</a>'\n",
              "            + ' to learn more about interactive tables.';\n",
              "          element.innerHTML = '';\n",
              "          dataTable['output_type'] = 'display_data';\n",
              "          await google.colab.output.renderOutput(dataTable, element);\n",
              "          const docLink = document.createElement('div');\n",
              "          docLink.innerHTML = docLinkHtml;\n",
              "          element.appendChild(docLink);\n",
              "        }\n",
              "      </script>\n",
              "    </div>\n",
              "  </div>\n",
              "  "
            ]
          },
          "metadata": {},
          "execution_count": 9
        }
      ]
    },
    {
      "cell_type": "markdown",
      "source": [
        "PENDING ADD COMMENT"
      ],
      "metadata": {
        "id": "HK6xsi4iexim"
      }
    },
    {
      "cell_type": "code",
      "source": [
        "# Data pivot by label\n",
        "df_pivot = df_tidy.groupby([\"label\",\"text_corpus\"])[\"text_corpus\"] \\\n",
        "                .agg([\"count\"]).reset_index() \\\n",
        "                .pivot(index = \"text_corpus\" , columns=\"label\", values= \"count\")\n",
        "df_pivot.columns.name = None\n",
        "df_pivot.head(3)"
      ],
      "metadata": {
        "id": "r9JMMoH9Rs1f",
        "colab": {
          "base_uri": "https://localhost:8080/",
          "height": 175
        },
        "outputId": "b8a515b4-55f7-4d80-e445-3bf74030d0e0"
      },
      "execution_count": 75,
      "outputs": [
        {
          "output_type": "execute_result",
          "data": {
            "text/plain": [
              "                  D    R\n",
              "text_corpus             \n",
              "(202) 225-2645  1.0  NaN\n",
              "(202) 225-3772  NaN  1.0\n",
              "(302) 446-4262  1.0  NaN"
            ],
            "text/html": [
              "\n",
              "  <div id=\"df-2ad86e64-abea-40f6-9d10-72ca5c705774\">\n",
              "    <div class=\"colab-df-container\">\n",
              "      <div>\n",
              "<style scoped>\n",
              "    .dataframe tbody tr th:only-of-type {\n",
              "        vertical-align: middle;\n",
              "    }\n",
              "\n",
              "    .dataframe tbody tr th {\n",
              "        vertical-align: top;\n",
              "    }\n",
              "\n",
              "    .dataframe thead th {\n",
              "        text-align: right;\n",
              "    }\n",
              "</style>\n",
              "<table border=\"1\" class=\"dataframe\">\n",
              "  <thead>\n",
              "    <tr style=\"text-align: right;\">\n",
              "      <th></th>\n",
              "      <th>D</th>\n",
              "      <th>R</th>\n",
              "    </tr>\n",
              "    <tr>\n",
              "      <th>text_corpus</th>\n",
              "      <th></th>\n",
              "      <th></th>\n",
              "    </tr>\n",
              "  </thead>\n",
              "  <tbody>\n",
              "    <tr>\n",
              "      <th>(202) 225-2645</th>\n",
              "      <td>1.0</td>\n",
              "      <td>NaN</td>\n",
              "    </tr>\n",
              "    <tr>\n",
              "      <th>(202) 225-3772</th>\n",
              "      <td>NaN</td>\n",
              "      <td>1.0</td>\n",
              "    </tr>\n",
              "    <tr>\n",
              "      <th>(302) 446-4262</th>\n",
              "      <td>1.0</td>\n",
              "      <td>NaN</td>\n",
              "    </tr>\n",
              "  </tbody>\n",
              "</table>\n",
              "</div>\n",
              "      <button class=\"colab-df-convert\" onclick=\"convertToInteractive('df-2ad86e64-abea-40f6-9d10-72ca5c705774')\"\n",
              "              title=\"Convert this dataframe to an interactive table.\"\n",
              "              style=\"display:none;\">\n",
              "        \n",
              "  <svg xmlns=\"http://www.w3.org/2000/svg\" height=\"24px\"viewBox=\"0 0 24 24\"\n",
              "       width=\"24px\">\n",
              "    <path d=\"M0 0h24v24H0V0z\" fill=\"none\"/>\n",
              "    <path d=\"M18.56 5.44l.94 2.06.94-2.06 2.06-.94-2.06-.94-.94-2.06-.94 2.06-2.06.94zm-11 1L8.5 8.5l.94-2.06 2.06-.94-2.06-.94L8.5 2.5l-.94 2.06-2.06.94zm10 10l.94 2.06.94-2.06 2.06-.94-2.06-.94-.94-2.06-.94 2.06-2.06.94z\"/><path d=\"M17.41 7.96l-1.37-1.37c-.4-.4-.92-.59-1.43-.59-.52 0-1.04.2-1.43.59L10.3 9.45l-7.72 7.72c-.78.78-.78 2.05 0 2.83L4 21.41c.39.39.9.59 1.41.59.51 0 1.02-.2 1.41-.59l7.78-7.78 2.81-2.81c.8-.78.8-2.07 0-2.86zM5.41 20L4 18.59l7.72-7.72 1.47 1.35L5.41 20z\"/>\n",
              "  </svg>\n",
              "      </button>\n",
              "      \n",
              "  <style>\n",
              "    .colab-df-container {\n",
              "      display:flex;\n",
              "      flex-wrap:wrap;\n",
              "      gap: 12px;\n",
              "    }\n",
              "\n",
              "    .colab-df-convert {\n",
              "      background-color: #E8F0FE;\n",
              "      border: none;\n",
              "      border-radius: 50%;\n",
              "      cursor: pointer;\n",
              "      display: none;\n",
              "      fill: #1967D2;\n",
              "      height: 32px;\n",
              "      padding: 0 0 0 0;\n",
              "      width: 32px;\n",
              "    }\n",
              "\n",
              "    .colab-df-convert:hover {\n",
              "      background-color: #E2EBFA;\n",
              "      box-shadow: 0px 1px 2px rgba(60, 64, 67, 0.3), 0px 1px 3px 1px rgba(60, 64, 67, 0.15);\n",
              "      fill: #174EA6;\n",
              "    }\n",
              "\n",
              "    [theme=dark] .colab-df-convert {\n",
              "      background-color: #3B4455;\n",
              "      fill: #D2E3FC;\n",
              "    }\n",
              "\n",
              "    [theme=dark] .colab-df-convert:hover {\n",
              "      background-color: #434B5C;\n",
              "      box-shadow: 0px 1px 3px 1px rgba(0, 0, 0, 0.15);\n",
              "      filter: drop-shadow(0px 1px 2px rgba(0, 0, 0, 0.3));\n",
              "      fill: #FFFFFF;\n",
              "    }\n",
              "  </style>\n",
              "\n",
              "      <script>\n",
              "        const buttonEl =\n",
              "          document.querySelector('#df-2ad86e64-abea-40f6-9d10-72ca5c705774 button.colab-df-convert');\n",
              "        buttonEl.style.display =\n",
              "          google.colab.kernel.accessAllowed ? 'block' : 'none';\n",
              "\n",
              "        async function convertToInteractive(key) {\n",
              "          const element = document.querySelector('#df-2ad86e64-abea-40f6-9d10-72ca5c705774');\n",
              "          const dataTable =\n",
              "            await google.colab.kernel.invokeFunction('convertToInteractive',\n",
              "                                                     [key], {});\n",
              "          if (!dataTable) return;\n",
              "\n",
              "          const docLinkHtml = 'Like what you see? Visit the ' +\n",
              "            '<a target=\"_blank\" href=https://colab.research.google.com/notebooks/data_table.ipynb>data table notebook</a>'\n",
              "            + ' to learn more about interactive tables.';\n",
              "          element.innerHTML = '';\n",
              "          dataTable['output_type'] = 'display_data';\n",
              "          await google.colab.output.renderOutput(dataTable, element);\n",
              "          const docLink = document.createElement('div');\n",
              "          docLink.innerHTML = docLinkHtml;\n",
              "          element.appendChild(docLink);\n",
              "        }\n",
              "      </script>\n",
              "    </div>\n",
              "  </div>\n",
              "  "
            ]
          },
          "metadata": {},
          "execution_count": 75
        }
      ]
    },
    {
      "cell_type": "markdown",
      "source": [
        "Most used similarity measure when working with text is 1 - cosine distance.\n"
      ],
      "metadata": {
        "id": "oUPdEgDzdptF"
      }
    },
    {
      "cell_type": "code",
      "source": [
        "from scipy.spatial.distance import cosine\n",
        "\n",
        "def consine_similarity(a,b):\n",
        "    distancia = cosine(a,b)\n",
        "    return 1-distancia\n",
        "\n",
        "df_pivot.corr(method=consine_similarity)"
      ],
      "metadata": {
        "colab": {
          "base_uri": "https://localhost:8080/",
          "height": 112
        },
        "id": "7pnKtkM6Rs3T",
        "outputId": "679d8f86-b7ce-4175-843e-4f5d49cfb677"
      },
      "execution_count": 11,
      "outputs": [
        {
          "output_type": "execute_result",
          "data": {
            "text/plain": [
              "          D         R\n",
              "D  1.000000  0.913533\n",
              "R  0.913533  1.000000"
            ],
            "text/html": [
              "\n",
              "  <div id=\"df-8d0f3790-3ae2-42ca-81a3-904808a82df7\">\n",
              "    <div class=\"colab-df-container\">\n",
              "      <div>\n",
              "<style scoped>\n",
              "    .dataframe tbody tr th:only-of-type {\n",
              "        vertical-align: middle;\n",
              "    }\n",
              "\n",
              "    .dataframe tbody tr th {\n",
              "        vertical-align: top;\n",
              "    }\n",
              "\n",
              "    .dataframe thead th {\n",
              "        text-align: right;\n",
              "    }\n",
              "</style>\n",
              "<table border=\"1\" class=\"dataframe\">\n",
              "  <thead>\n",
              "    <tr style=\"text-align: right;\">\n",
              "      <th></th>\n",
              "      <th>D</th>\n",
              "      <th>R</th>\n",
              "    </tr>\n",
              "  </thead>\n",
              "  <tbody>\n",
              "    <tr>\n",
              "      <th>D</th>\n",
              "      <td>1.000000</td>\n",
              "      <td>0.913533</td>\n",
              "    </tr>\n",
              "    <tr>\n",
              "      <th>R</th>\n",
              "      <td>0.913533</td>\n",
              "      <td>1.000000</td>\n",
              "    </tr>\n",
              "  </tbody>\n",
              "</table>\n",
              "</div>\n",
              "      <button class=\"colab-df-convert\" onclick=\"convertToInteractive('df-8d0f3790-3ae2-42ca-81a3-904808a82df7')\"\n",
              "              title=\"Convert this dataframe to an interactive table.\"\n",
              "              style=\"display:none;\">\n",
              "        \n",
              "  <svg xmlns=\"http://www.w3.org/2000/svg\" height=\"24px\"viewBox=\"0 0 24 24\"\n",
              "       width=\"24px\">\n",
              "    <path d=\"M0 0h24v24H0V0z\" fill=\"none\"/>\n",
              "    <path d=\"M18.56 5.44l.94 2.06.94-2.06 2.06-.94-2.06-.94-.94-2.06-.94 2.06-2.06.94zm-11 1L8.5 8.5l.94-2.06 2.06-.94-2.06-.94L8.5 2.5l-.94 2.06-2.06.94zm10 10l.94 2.06.94-2.06 2.06-.94-2.06-.94-.94-2.06-.94 2.06-2.06.94z\"/><path d=\"M17.41 7.96l-1.37-1.37c-.4-.4-.92-.59-1.43-.59-.52 0-1.04.2-1.43.59L10.3 9.45l-7.72 7.72c-.78.78-.78 2.05 0 2.83L4 21.41c.39.39.9.59 1.41.59.51 0 1.02-.2 1.41-.59l7.78-7.78 2.81-2.81c.8-.78.8-2.07 0-2.86zM5.41 20L4 18.59l7.72-7.72 1.47 1.35L5.41 20z\"/>\n",
              "  </svg>\n",
              "      </button>\n",
              "      \n",
              "  <style>\n",
              "    .colab-df-container {\n",
              "      display:flex;\n",
              "      flex-wrap:wrap;\n",
              "      gap: 12px;\n",
              "    }\n",
              "\n",
              "    .colab-df-convert {\n",
              "      background-color: #E8F0FE;\n",
              "      border: none;\n",
              "      border-radius: 50%;\n",
              "      cursor: pointer;\n",
              "      display: none;\n",
              "      fill: #1967D2;\n",
              "      height: 32px;\n",
              "      padding: 0 0 0 0;\n",
              "      width: 32px;\n",
              "    }\n",
              "\n",
              "    .colab-df-convert:hover {\n",
              "      background-color: #E2EBFA;\n",
              "      box-shadow: 0px 1px 2px rgba(60, 64, 67, 0.3), 0px 1px 3px 1px rgba(60, 64, 67, 0.15);\n",
              "      fill: #174EA6;\n",
              "    }\n",
              "\n",
              "    [theme=dark] .colab-df-convert {\n",
              "      background-color: #3B4455;\n",
              "      fill: #D2E3FC;\n",
              "    }\n",
              "\n",
              "    [theme=dark] .colab-df-convert:hover {\n",
              "      background-color: #434B5C;\n",
              "      box-shadow: 0px 1px 3px 1px rgba(0, 0, 0, 0.15);\n",
              "      filter: drop-shadow(0px 1px 2px rgba(0, 0, 0, 0.3));\n",
              "      fill: #FFFFFF;\n",
              "    }\n",
              "  </style>\n",
              "\n",
              "      <script>\n",
              "        const buttonEl =\n",
              "          document.querySelector('#df-8d0f3790-3ae2-42ca-81a3-904808a82df7 button.colab-df-convert');\n",
              "        buttonEl.style.display =\n",
              "          google.colab.kernel.accessAllowed ? 'block' : 'none';\n",
              "\n",
              "        async function convertToInteractive(key) {\n",
              "          const element = document.querySelector('#df-8d0f3790-3ae2-42ca-81a3-904808a82df7');\n",
              "          const dataTable =\n",
              "            await google.colab.kernel.invokeFunction('convertToInteractive',\n",
              "                                                     [key], {});\n",
              "          if (!dataTable) return;\n",
              "\n",
              "          const docLinkHtml = 'Like what you see? Visit the ' +\n",
              "            '<a target=\"_blank\" href=https://colab.research.google.com/notebooks/data_table.ipynb>data table notebook</a>'\n",
              "            + ' to learn more about interactive tables.';\n",
              "          element.innerHTML = '';\n",
              "          dataTable['output_type'] = 'display_data';\n",
              "          await google.colab.output.renderOutput(dataTable, element);\n",
              "          const docLink = document.createElement('div');\n",
              "          docLink.innerHTML = docLinkHtml;\n",
              "          element.appendChild(docLink);\n",
              "        }\n",
              "      </script>\n",
              "    </div>\n",
              "  </div>\n",
              "  "
            ]
          },
          "metadata": {},
          "execution_count": 11
        }
      ]
    },
    {
      "cell_type": "markdown",
      "source": [
        "Results are as we expected. This is actually really bad news, if there is a big correlation between both groups, its gonna be really difficult to say whether a tweet tends to be republican or democrat\n"
      ],
      "metadata": {
        "id": "EMpdMeeOeExF"
      }
    },
    {
      "cell_type": "markdown",
      "source": [
        "### Feature extraction\n",
        "\n",
        "For the feature extraction, I'm gonna use Tf-idf (Term frequency – Inverse document frequency). The goal is weighing words by how frequent they are in our dataset, discounting words that are too frequent, as they just add to the noise.\n",
        "- Term Frequency: This summarizes how often a given word appears within a document.\n",
        "- Inverse Document Frequency: This downscales words that appear a lot across documents.\n",
        "\n",
        "For model purposes, lets change label from letters to numbers: R -> 0 and D -> 1:\n"
      ],
      "metadata": {
        "id": "b650w9FHh1nI"
      }
    },
    {
      "cell_type": "code",
      "source": [
        "df['label_number'] = df['label'].apply(lambda x: 0 if x == 'R' else 1)"
      ],
      "metadata": {
        "id": "bqwWwpJNxef3"
      },
      "execution_count": 12,
      "outputs": []
    },
    {
      "cell_type": "markdown",
      "source": [
        "Let's do a train-test split making sure that the proportion in both sets is equivalent."
      ],
      "metadata": {
        "id": "Bk9-a7s8fLxh"
      }
    },
    {
      "cell_type": "code",
      "source": [
        "from sklearn.model_selection import train_test_split\n",
        "\n",
        "datos_X = df.text\n",
        "datos_y = df.label_number\n",
        "\n",
        "X_train, X_test, y_train, y_test = train_test_split(\n",
        "    datos_X,\n",
        "    datos_y,\n",
        "    test_size = 0.2,\n",
        "    random_state = 123\n",
        "    \n",
        ")"
      ],
      "metadata": {
        "id": "QyZ94d3ERs9z"
      },
      "execution_count": 13,
      "outputs": []
    },
    {
      "cell_type": "code",
      "source": [
        "value, counts = np.unique(y_train, return_counts=True)\n",
        "print(dict(zip(value, 100 * counts / sum(counts))))\n",
        "value, counts = np.unique(y_test, return_counts=True)\n",
        "print(dict(zip(value, 100 * counts / sum(counts))))"
      ],
      "metadata": {
        "colab": {
          "base_uri": "https://localhost:8080/"
        },
        "id": "c4X0hW65RtAR",
        "outputId": "c2bbf7fc-6d57-4dd6-d7db-216b354819fe"
      },
      "execution_count": 14,
      "outputs": [
        {
          "output_type": "stream",
          "name": "stdout",
          "text": [
            "{0: 49.90625, 1: 50.09375}\n",
            "{0: 50.375, 1: 49.625}\n"
          ]
        }
      ]
    },
    {
      "cell_type": "markdown",
      "source": [
        "Now, we are going to create "
      ],
      "metadata": {
        "id": "b_arynxNfXJF"
      }
    },
    {
      "cell_type": "code",
      "source": [
        "#Tf-idf matrix\n",
        "from sklearn.feature_extraction.text import TfidfVectorizer\n",
        "\n",
        "def tokenize(tweet):\n",
        "    tokenizer = TweetTokenizer(preserve_case=False, strip_handles=True,\n",
        "                               reduce_len=True)\n",
        "    corpus = tokenizer.tokenize(tweet)\n",
        "    return corpus\n",
        "\n",
        "vectorizer  = TfidfVectorizer(\n",
        "                        tokenizer  = tokenize,\n",
        "                        min_df     = 5 #might change\n",
        "                    )\n",
        "vectorizer.fit(X_train)"
      ],
      "metadata": {
        "colab": {
          "base_uri": "https://localhost:8080/"
        },
        "id": "5hk9SpOQjgz3",
        "outputId": "7952118a-53b0-4d7f-b3f2-07e415a767ae"
      },
      "execution_count": 15,
      "outputs": [
        {
          "output_type": "stream",
          "name": "stderr",
          "text": [
            "/usr/local/lib/python3.7/dist-packages/sklearn/feature_extraction/text.py:517: UserWarning: The parameter 'token_pattern' will not be used since 'tokenizer' is not None'\n",
            "  \"The parameter 'token_pattern' will not be used\"\n"
          ]
        },
        {
          "output_type": "execute_result",
          "data": {
            "text/plain": [
              "TfidfVectorizer(min_df=5, tokenizer=<function tokenize at 0x7f8453ccba70>)"
            ]
          },
          "metadata": {},
          "execution_count": 15
        }
      ]
    },
    {
      "cell_type": "code",
      "source": [
        "vectorizer.vocabulary_"
      ],
      "metadata": {
        "id": "Nt6QH-4UgAjG",
        "outputId": "0a1ae146-5c4c-4701-bd03-c3606f7ac786",
        "colab": {
          "base_uri": "https://localhost:8080/"
        }
      },
      "execution_count": 80,
      "outputs": [
        {
          "output_type": "execute_result",
          "data": {
            "text/plain": [
              "{'no': 16421,\n",
              " 'threat': 23901,\n",
              " 'is': 12948,\n",
              " 'more': 15685,\n",
              " 'urgent': 25077,\n",
              " 'than': 23752,\n",
              " 'the': 23775,\n",
              " 'climate': 5359,\n",
              " 'crisis': 6506,\n",
              " '.': 29,\n",
              " 'every': 8904,\n",
              " 'decision': 6948,\n",
              " 'must': 15886,\n",
              " 'be': 3325,\n",
              " 'made': 14577,\n",
              " 'with': 26169,\n",
              " 'it': 12998,\n",
              " 'in': 12324,\n",
              " 'mind': 15382,\n",
              " ':': 1471,\n",
              " \"i'm\": 12066,\n",
              " 'grateful': 10834,\n",
              " 'for': 9868,\n",
              " 'potus': 18280,\n",
              " \"'\": 5,\n",
              " 'eo': 8693,\n",
              " 'today': 24040,\n",
              " 'centering': 4861,\n",
              " 'within': 26180,\n",
              " 'u': 24606,\n",
              " 's': 20832,\n",
              " 'foreign': 9893,\n",
              " 'policy': 18136,\n",
              " 'and': 2352,\n",
              " 'only': 16935,\n",
              " 'way': 25793,\n",
              " 'to': 24036,\n",
              " 'solve': 22272,\n",
              " 'by': 4366,\n",
              " 'being': 3411,\n",
              " 'bold': 3850,\n",
              " 'we': 25812,\n",
              " 'pass': 17507,\n",
              " 'greennewdeal': 10876,\n",
              " 'investing': 12865,\n",
              " 'medical': 15084,\n",
              " 'research': 20211,\n",
              " 'got': 10681,\n",
              " 'us': 25082,\n",
              " 'three': 23907,\n",
              " 'vaccines': 25254,\n",
              " 'record': 19346,\n",
              " 'time': 23986,\n",
              " 'ought': 17120,\n",
              " 'continue': 6089,\n",
              " 'this': 23873,\n",
              " 'investment': 12866,\n",
              " 'after': 1925,\n",
              " 'covid': 6381,\n",
              " 'find': 9596,\n",
              " 'cures': 6645,\n",
              " 'life-threatening': 14146,\n",
              " 'diseases': 7625,\n",
              " '’': 26648,\n",
              " 'get': 10454,\n",
              " 'some': 22283,\n",
              " 'december': 6936,\n",
              " 'packers': 17306,\n",
              " 'football': 9860,\n",
              " '!': 0,\n",
              " 'gopackgo': 10644,\n",
              " '👏': 26874,\n",
              " \"let's\": 14052,\n",
              " 'hear': 11398,\n",
              " 'minneapolis': 15410,\n",
              " 'recognized': 19321,\n",
              " 'as': 2763,\n",
              " 'a': 1491,\n",
              " 'top': 24106,\n",
              " 'place': 17998,\n",
              " 'women': 26225,\n",
              " 'work': 26277,\n",
              " 'that': 23769,\n",
              " 'awesome': 3061,\n",
              " 'but': 4342,\n",
              " 'still': 22795,\n",
              " 'need': 16199,\n",
              " 'legislation': 13997,\n",
              " 'like': 14174,\n",
              " 'paycheck': 17601,\n",
              " 'fairness': 9241,\n",
              " 'act': 1693,\n",
              " 'make': 14643,\n",
              " 'sure': 23196,\n",
              " '—': 26645,\n",
              " 'everywhere': 8914,\n",
              " 'can': 4513,\n",
              " 'participate': 17479,\n",
              " 'workforce': 26291,\n",
              " 'on': 16901,\n",
              " 'level': 14069,\n",
              " 'playing': 18045,\n",
              " 'field': 9528,\n",
              " 'marks': 14822,\n",
              " '49th': 1009,\n",
              " 'anniversary': 2399,\n",
              " 'of': 16791,\n",
              " 'roe': 20635,\n",
              " 'v': 25226,\n",
              " 'wade': 25624,\n",
              " ',': 23,\n",
              " 'which': 25993,\n",
              " 'guaranteed': 10970,\n",
              " 'right': 20490,\n",
              " 'choose': 5136,\n",
              " 'all': 2126,\n",
              " 'americans': 2295,\n",
              " '49': 1007,\n",
              " 'years': 26523,\n",
              " 'later': 13838,\n",
              " 'abortion': 1551,\n",
              " 'care': 4614,\n",
              " 'under': 24733,\n",
              " 'dire': 7525,\n",
              " 'senate': 21424,\n",
              " 'protect': 18723,\n",
              " 'choice': 5129,\n",
              " 'womenshealthprotectionact': 26234,\n",
              " '🎨': 26816,\n",
              " 'vote': 25561,\n",
              " 'your': 26575,\n",
              " 'favorite': 9387,\n",
              " 'ar3': 2615,\n",
              " '2022': 625,\n",
              " 'congressional': 5949,\n",
              " 'art': 2742,\n",
              " 'competition': 5768,\n",
              " 'piece': 17925,\n",
              " 'submission': 23009,\n",
              " 'most': 15723,\n",
              " 'votes': 25578,\n",
              " 'will': 26089,\n",
              " 'receive': 19288,\n",
              " \"people's\": 17710,\n",
              " 'award': 3048,\n",
              " 'voting': 25582,\n",
              " 'open': 16957,\n",
              " 'until': 24989,\n",
              " 'monday': 15620,\n",
              " 'may': 14948,\n",
              " '2nd': 787,\n",
              " 'check': 5025,\n",
              " 'out': 17128,\n",
              " \"year's\": 26505,\n",
              " 'support': 23168,\n",
              " 'entry': 8679,\n",
              " 'here': 11504,\n",
              " 'my': 15896,\n",
              " 'role': 20645,\n",
              " 'co-chair': 5447,\n",
              " 'baby': 3099,\n",
              " 'caucus': 4757,\n",
              " 'address': 1766,\n",
              " 'many': 14740,\n",
              " 'aspects': 2801,\n",
              " 'affecting': 1880,\n",
              " 'our': 17122,\n",
              " \"nation's\": 15987,\n",
              " 'youngest': 26571,\n",
              " 'vulnerable': 25609,\n",
              " 'recently': 19293,\n",
              " 'james': 13065,\n",
              " 'anderson': 2353,\n",
              " 'tn03': 24029,\n",
              " 'visited': 25511,\n",
              " 'dc': 6861,\n",
              " 'talk': 23417,\n",
              " 'about': 1557,\n",
              " 'impact': 12235,\n",
              " 'opioidcrisis': 16990,\n",
              " 'families': 9282,\n",
              " 'especially': 8806,\n",
              " 'young': 26569,\n",
              " 'children': 5101,\n",
              " 'was': 25737,\n",
              " 'great': 10849,\n",
              " 'meeting': 15107,\n",
              " 'ceo': 4876,\n",
              " 'president': 18447,\n",
              " 'kurt': 13679,\n",
              " 'morning': 15700,\n",
              " 'discuss': 7617,\n",
              " 'how': 11894,\n",
              " 'provide': 18771,\n",
              " 'solutions': 22270,\n",
              " 'local': 14307,\n",
              " 'tourism': 24151,\n",
              " 'industry': 12485,\n",
              " 'news': 16296,\n",
              " '➡': 26717,\n",
              " '️': 26724,\n",
              " 'statedept': 22677,\n",
              " 'approved': 2596,\n",
              " 'application': 2555,\n",
              " 'refugee': 19461,\n",
              " 'resettlement': 20226,\n",
              " 'office': 16806,\n",
              " 'bellingham': 3434,\n",
              " 'repdelbene': 19830,\n",
              " '&': 4,\n",
              " 'i': 12063,\n",
              " 'urged': 25075,\n",
              " 'secblinken': 21267,\n",
              " 'consider': 6003,\n",
              " 'aid': 1987,\n",
              " 'refugees': 19462,\n",
              " 'from': 10109,\n",
              " 'afghanistan': 1908,\n",
              " 'other': 17110,\n",
              " 'countries': 6325,\n",
              " 'stop': 22834,\n",
              " 'wayne': 25796,\n",
              " 'municipal': 15854,\n",
              " 'building': 4250,\n",
              " 'between': 3537,\n",
              " 'pm': 18083,\n",
              " 'wednesday': 25871,\n",
              " 'february': 9431,\n",
              " '5th': 1146,\n",
              " 'meet': 15106,\n",
              " 'casework': 4704,\n",
              " 'team': 23538,\n",
              " 'they': 23850,\n",
              " 'available': 3018,\n",
              " 'help': 11468,\n",
              " 'residents': 20233,\n",
              " 'navigate': 16107,\n",
              " 'federal': 9435,\n",
              " 'agencies': 1944,\n",
              " 'such': 23055,\n",
              " 'irs': 12941,\n",
              " 'medicare': 15087,\n",
              " 'social': 22216,\n",
              " 'security': 21321,\n",
              " 'va': 25229,\n",
              " 'ready': 19213,\n",
              " 'fighter': 9541,\n",
              " 'working': 26292,\n",
              " 'washington': 25740,\n",
              " 'congratulations': 5936,\n",
              " 'secretary': 21294,\n",
              " 'martyjwalsh': 14856,\n",
              " 'proud': 18761,\n",
              " 'have': 11306,\n",
              " 'fought': 9972,\n",
              " 'missoula': 15475,\n",
              " 'county': 6340,\n",
              " '$': 2,\n",
              " '13m': 281,\n",
              " 'build': 4241,\n",
              " 'grant': 10817,\n",
              " 'much-needed': 15821,\n",
              " 'project': 18656,\n",
              " 'housing': 11886,\n",
              " 'affordable': 1894,\n",
              " 'critical': 6517,\n",
              " 'infrastructure': 12556,\n",
              " 'improvements': 12314,\n",
              " 'keep': 13446,\n",
              " 'those': 23888,\n",
              " 'who': 26024,\n",
              " 'live': 14266,\n",
              " 'or': 17025,\n",
              " 'do': 7796,\n",
              " 'business': 4331,\n",
              " 'thriving': 23916,\n",
              " 'good': 10622,\n",
              " 'samaritan': 20931,\n",
              " 'food': 9845,\n",
              " 'pantry': 17405,\n",
              " 'north': 16522,\n",
              " 'vernon': 25366,\n",
              " 'wonderful': 26248,\n",
              " 'organization': 17054,\n",
              " 'so': 22204,\n",
              " 'much': 15818,\n",
              " 'less': 14044,\n",
              " 'fortunate': 9953,\n",
              " 'having': 11310,\n",
              " 'served': 21596,\n",
              " 'nearly': 16177,\n",
              " '30,000': 822,\n",
              " 'people': 17709,\n",
              " 'jennings': 13126,\n",
              " '2019': 615,\n",
              " 'including': 12381,\n",
              " '1,000': 56,\n",
              " 'veterans': 25388,\n",
              " 'donalds': 7868,\n",
              " 'swfl': 23295,\n",
              " 'congress': 5941,\n",
              " 'daily': 6738,\n",
              " 'happy': 11184,\n",
              " 'see': 21335,\n",
              " 'uyghur': 25223,\n",
              " 'forced': 9875,\n",
              " 'labor': 13713,\n",
              " 'prevention': 18490,\n",
              " 'cosponsored': 6268,\n",
              " 'its': 13012,\n",
              " 'desk': 7314,\n",
              " 'ensures': 8647,\n",
              " 'supply': 23163,\n",
              " 'chains': 4913,\n",
              " 'are': 2644,\n",
              " 'free': 10042,\n",
              " 'xinjiang': 26476,\n",
              " 'thank': 23753,\n",
              " 'senrubiopress': 21539,\n",
              " 'repmcgovern': 20024,\n",
              " 'their': 23803,\n",
              " 'leadership': 13927,\n",
              " 'issue': 12991,\n",
              " 'christmas': 5165,\n",
              " 'hope': 11778,\n",
              " 'you': 26561,\n",
              " 'blessings': 3748,\n",
              " '–': 26644,\n",
              " 'peace': 17631,\n",
              " 'love': 14439,\n",
              " 'joy': 13285,\n",
              " 'gather': 10344,\n",
              " 'family': 9291,\n",
              " 'friends': 10097,\n",
              " 'loved': 14440,\n",
              " 'ones': 16931,\n",
              " 'during': 8100,\n",
              " 'special': 22420,\n",
              " 'why': 26042,\n",
              " 'kids': 13539,\n",
              " 'wearing': 25846,\n",
              " 'masks': 14875,\n",
              " 'school': 21136,\n",
              " '?': 1482,\n",
              " 'florida': 9782,\n",
              " 'seeing': 21339,\n",
              " 'highest': 11573,\n",
              " 'rent': 19699,\n",
              " 'increases': 12407,\n",
              " 'nation': 15986,\n",
              " 'displacing': 7681,\n",
              " 'hard': 11208,\n",
              " 'floridians': 9785,\n",
              " 'nurses': 16633,\n",
              " 'frontline': 10114,\n",
              " 'govrondesantis': 10745,\n",
              " 'plan': 18012,\n",
              " 'tackle': 23366,\n",
              " 'affordability': 1893,\n",
              " 'an': 2333,\n",
              " 'means': 15049,\n",
              " 'ensuring': 8648,\n",
              " 'everyone': 8909,\n",
              " 'matter': 14925,\n",
              " 'has': 11269,\n",
              " 'access': 1613,\n",
              " 'safe': 20866,\n",
              " 'decent': 6938,\n",
              " 'thrive': 23914,\n",
              " 'learn': 13945,\n",
              " 've': 25320,\n",
              " 'been': 3379,\n",
              " 'bring': 4134,\n",
              " 'affordablehousing': 1896,\n",
              " 'philly': 17877,\n",
              " 'faces': 9188,\n",
              " 'series': 21589,\n",
              " 'interconnected': 12752,\n",
              " 'crises': 6505,\n",
              " 'house': 11845,\n",
              " 'adoption': 1821,\n",
              " 'fy22': 10234,\n",
              " 'budget': 4232,\n",
              " 'resolution': 20248,\n",
              " 'housedemocrats': 11862,\n",
              " 'path': 17544,\n",
              " 'deliver': 7114,\n",
              " 'life-changing': 14142,\n",
              " 'benefits': 3459,\n",
              " 'american': 2277,\n",
              " '✔': 26705,\n",
              " 'jobs': 13204,\n",
              " 'tax': 23482,\n",
              " 'cuts': 6679,\n",
              " 'lower': 14461,\n",
              " 'child': 5090,\n",
              " 'health': 11378,\n",
              " 'costs': 6280,\n",
              " 'november': 16581,\n",
              " '1': 55,\n",
              " 'deadline': 6876,\n",
              " 'students': 22975,\n",
              " 'register': 19493,\n",
              " '2021': 623,\n",
              " 'congressionalac': 5950,\n",
              " 'submit': 23011,\n",
              " 'app': 2519,\n",
              " 'online': 16934,\n",
              " 'quickly': 18968,\n",
              " 'approaching': 2583,\n",
              " 'spread': 22518,\n",
              " 'word': 26273,\n",
              " 'life': 14140,\n",
              " 'watch': 25759,\n",
              " 'took': 24099,\n",
              " 'another': 2412,\n",
              " 'step': 22755,\n",
              " 'toward': 24164,\n",
              " 'passage': 17508,\n",
              " 'at': 2878,\n",
              " 'land': 13765,\n",
              " 'water': 25766,\n",
              " 'conservation': 5996,\n",
              " 'fund': 10176,\n",
              " 'cornerstone': 6219,\n",
              " 'across': 1692,\n",
              " 'country': 6326,\n",
              " 'generations': 10394,\n",
              " 'come': 5624,\n",
              " 'toured': 24149,\n",
              " 'central': 4865,\n",
              " 'laboratories': 13715,\n",
              " 'celebrate': 4826,\n",
              " '75th': 1292,\n",
              " 'red': 19382,\n",
              " 'wing': 26129,\n",
              " 'important': 12287,\n",
              " 'products': 18615,\n",
              " 'manufacture': 14732,\n",
              " 'mn02': 15521,\n",
              " 'm': 14545,\n",
              " 'pleased': 18058,\n",
              " 'these': 23844,\n",
              " 'funds': 10187,\n",
              " 'push': 18903,\n",
              " 'new': 16280,\n",
              " 'hampshire': 11130,\n",
              " 'public': 18818,\n",
              " 'safety': 20880,\n",
              " 'community': 5723,\n",
              " 'resources': 20260,\n",
              " 'communities': 5716,\n",
              " 'usedgov': 25138,\n",
              " 'seccardona': 21269,\n",
              " 'standing': 22620,\n",
              " 'up': 25026,\n",
              " 'bullies': 4271,\n",
              " 'want': 25687,\n",
              " 'punish': 18861,\n",
              " '+': 22,\n",
              " 'educators': 8253,\n",
              " 'withholding': 26179,\n",
              " 'learning': 13948,\n",
              " 'hearing': 11401,\n",
              " 'directly': 7533,\n",
              " 'hoosiers': 11775,\n",
              " 'helps': 11478,\n",
              " 'me': 15037,\n",
              " 'best': 3502,\n",
              " 'serve': 21595,\n",
              " '🇺': 26744,\n",
              " '🇸': 26742,\n",
              " 'stopped': 22847,\n",
              " 'greensburg': 10879,\n",
              " 'speak': 22405,\n",
              " 'constituents': 6026,\n",
              " 'issues': 12993,\n",
              " 'contact': 6060,\n",
              " 'gun': 11004,\n",
              " 'owner': 17270,\n",
              " 'member': 15126,\n",
              " 'nra': 16593,\n",
              " 'upholding': 25047,\n",
              " 'amendment': 2259,\n",
              " 'non-negotiable': 16471,\n",
              " 'period': 17751,\n",
              " 'wrote': 26419,\n",
              " 'thejusticedept': 23807,\n",
              " 'strong': 22948,\n",
              " 'missouri': 15476,\n",
              " 'law': 13874,\n",
              " 'law-abiding': 13876,\n",
              " 'owners': 17271,\n",
              " 'administration': 1796,\n",
              " 'anti-gun': 2432,\n",
              " 'agenda': 1947,\n",
              " '☕': 26676,\n",
              " 'understand': 24773,\n",
              " 'look': 14374,\n",
              " 'iftar': 12141,\n",
              " '🤣': 27054,\n",
              " 'kroger': 13652,\n",
              " 'visit': 25509,\n",
              " 'store': 22855,\n",
              " 'pickup': 17916,\n",
              " 'voter': 25573,\n",
              " 'registration': 19497,\n",
              " 'absentee': 1567,\n",
              " 'ballot': 3182,\n",
              " 'form': 9927,\n",
              " 'yourvotematters': 26580,\n",
              " \"valentine's\": 25264,\n",
              " 'day': 6840,\n",
              " 'always': 2215,\n",
              " 'supportive': 23173,\n",
              " 'side': 21918,\n",
              " 'wishing': 26164,\n",
              " 'blessed': 3746,\n",
              " 'honored': 11758,\n",
              " 'part': 17471,\n",
              " 'peaceful': 17633,\n",
              " 'march': 14752,\n",
              " 'st': 22563,\n",
              " 'joe': 13215,\n",
              " 'benton': 3477,\n",
              " 'harbor': 11205,\n",
              " 'w': 25612,\n",
              " '/': 36,\n",
              " 'sw': 23273,\n",
              " 'mi': 15247,\n",
              " 'leaders': 13926,\n",
              " 'protest': 18751,\n",
              " 'injustice': 12604,\n",
              " 'condemn': 5857,\n",
              " 'racism': 19001,\n",
              " 't': 23353,\n",
              " 'stand': 22612,\n",
              " 'move': 15764,\n",
              " 'forward': 9962,\n",
              " 'enough': 8623,\n",
              " 'messages': 15209,\n",
              " 'action': 1707,\n",
              " 'if': 12139,\n",
              " 'not': 16551,\n",
              " 'now': 16583,\n",
              " 'when': 25984,\n",
              " 'powerful': 18298,\n",
              " 'reminder': 19655,\n",
              " 'immigrants': 12221,\n",
              " \"can't\": 4514,\n",
              " 'say': 21046,\n",
              " 'cincinnati': 5186,\n",
              " 'without': 26181,\n",
              " 'saying': 21049,\n",
              " 'last': 13826,\n",
              " 'thursday': 23938,\n",
              " 'caught': 4759,\n",
              " 'todd': 24049,\n",
              " 'franchise': 10017,\n",
              " 'chili': 5105,\n",
              " 'bernard': 3489,\n",
              " 'taking': 23408,\n",
              " 'ppp': 18316,\n",
              " 'loan': 14297,\n",
              " 'program': 18640,\n",
              " 'helped': 11470,\n",
              " 'staple': 22637,\n",
              " 'recommend': 19324,\n",
              " 'gastongazette': 10338,\n",
              " 'gastonia': 10339,\n",
              " 'native': 16079,\n",
              " 'harold': 11246,\n",
              " 'iii': 12158,\n",
              " \"he's\": 11358,\n",
              " 'played': 18040,\n",
              " 'since': 21987,\n",
              " 'tragic': 24222,\n",
              " 'death': 6895,\n",
              " 'george': 10422,\n",
              " 'floyd': 9796,\n",
              " 'someone': 22287,\n",
              " 'nc10': 16133,\n",
              " 'making': 14653,\n",
              " 'difference': 7475,\n",
              " 'national': 15991,\n",
              " 'stage': 22586,\n",
              " 'hopefully': 11781,\n",
              " 'gets': 10461,\n",
              " 'win': 26113,\n",
              " 'weekend': 25881,\n",
              " 'month': 15656,\n",
              " 'million': 15371,\n",
              " 'were': 25934,\n",
              " 'added': 1754,\n",
              " 'economy': 8211,\n",
              " 'unemployment': 24800,\n",
              " 'dropped': 8032,\n",
              " 'recover': 19359,\n",
              " 'ensure': 8645,\n",
              " 'workers': 26287,\n",
              " 'small': 22128,\n",
              " 'businesses': 4333,\n",
              " 'needed': 16201,\n",
              " 'back': 3101,\n",
              " 'even': 8886,\n",
              " 'stronger': 22949,\n",
              " 'updates': 25035,\n",
              " 'congressman': 5957,\n",
              " 'donald': 7865,\n",
              " 'payne': 17616,\n",
              " 'jr': 13294,\n",
              " 'please': 18057,\n",
              " 'follow': 9831,\n",
              " 'instagram': 12667,\n",
              " 'repdonaldpaynejr': 19843,\n",
              " 'twitter': 24554,\n",
              " 'repdonaldpayne': 19842,\n",
              " 'essexcounty': 8823,\n",
              " 'hudsoncounty': 11945,\n",
              " 'unioncounty': 24858,\n",
              " 'nj10thcongressionaldistrict': 16405,\n",
              " 'biden': 3567,\n",
              " 'atfhq': 2885,\n",
              " 'announced': 2401,\n",
              " 'regulations': 19513,\n",
              " 'pistol': 17976,\n",
              " 'braces': 3998,\n",
              " 'would': 26360,\n",
              " 'amount': 2320,\n",
              " 'disabled': 7546,\n",
              " 'combat': 5614,\n",
              " 'should': 21854,\n",
              " 'constitutionally': 6034,\n",
              " 'protected': 18729,\n",
              " '2a': 777,\n",
              " 'rights': 20500,\n",
              " 'taken': 23399,\n",
              " 'away': 3057,\n",
              " 're': 19173,\n",
              " 'veteransday': 25390,\n",
              " 'walk': 25657,\n",
              " 'grounds': 10944,\n",
              " 'arlingtonnatl': 2686,\n",
              " 'incredible': 12410,\n",
              " 'honor': 11754,\n",
              " 'heroes': 11513,\n",
              " 'sacred': 20848,\n",
              " 'truly': 24433,\n",
              " 'puts': 18914,\n",
              " 'into': 12817,\n",
              " 'perspective': 17800,\n",
              " 'what': 25969,\n",
              " 'sacrifices': 20851,\n",
              " '243rd': 709,\n",
              " 'birthday': 3670,\n",
              " 'marine': 14790,\n",
              " 'corps': 6237,\n",
              " 'one': 16917,\n",
              " 'ultimate': 24648,\n",
              " 'fighting': 9548,\n",
              " 'forces': 9878,\n",
              " 'world': 26304,\n",
              " 'ever': 8895,\n",
              " 'seen': 21350,\n",
              " 'myself': 15903,\n",
              " 'express': 9126,\n",
              " 'gratitude': 10836,\n",
              " 'marines': 14794,\n",
              " 'name': 15929,\n",
              " 'freedom': 10048,\n",
              " 'takes': 23404,\n",
              " 'fact': 9201,\n",
              " 'over': 17194,\n",
              " '150': 309,\n",
              " 'lose': 14403,\n",
              " 'employer-sponsored': 8474,\n",
              " 'coverage': 6371,\n",
              " 'democrats': 7163,\n",
              " 'medicareforall': 15092,\n",
              " 'numbers': 16627,\n",
              " 'colorado': 5595,\n",
              " '...': 35,\n",
              " 'voted': 25570,\n",
              " 'give': 10525,\n",
              " 'dreamers': 7998,\n",
              " 'ability': 1538,\n",
              " 'shadows': 21665,\n",
              " 'legal': 13982,\n",
              " 'contributors': 6120,\n",
              " 'known': 13614,\n",
              " 'entire': 8663,\n",
              " 'lives': 14274,\n",
              " 'protections': 18733,\n",
              " 'long': 14353,\n",
              " 'full': 10156,\n",
              " 'statement': 22682,\n",
              " 'joined': 13244,\n",
              " 'senangusking': 21423,\n",
              " 'chelliepingree': 5050,\n",
              " 'repgolden': 19889,\n",
              " 'sending': 21501,\n",
              " 'letter': 14060,\n",
              " 'directing': 7528,\n",
              " 'defense': 7037,\n",
              " 'navy': 16111,\n",
              " 'secretaries': 21293,\n",
              " 'flexibility': 9745,\n",
              " 'contractors': 6104,\n",
              " 'shipbuilders': 21787,\n",
              " 'while': 25995,\n",
              " 'keeping': 13451,\n",
              " 'devastating': 7385,\n",
              " 'heart': 11405,\n",
              " 'victims': 25426,\n",
              " 'oxford': 17275,\n",
              " 'too': 24098,\n",
              " 'experienced': 9069,\n",
              " 'loss': 14408,\n",
              " 'violence': 25478,\n",
              " 'passing': 17515,\n",
              " 'commonsense': 5703,\n",
              " 'reform': 19451,\n",
              " 'join': 13243,\n",
              " \"md's\": 15025,\n",
              " 'hbcus': 11344,\n",
              " 'mayorbmscott': 14959,\n",
              " 'others': 17111,\n",
              " 'baltimore': 3188,\n",
              " 'mlk': 15511,\n",
              " 'focus': 9819,\n",
              " 'attention': 2928,\n",
              " 'progress': 18644,\n",
              " 'americanrescueplan': 2294,\n",
              " 'close': 5396,\n",
              " 'digitaldivide': 7487,\n",
              " 'equity': 8747,\n",
              " 'co-sponsored': 5467,\n",
              " 'moreact': 15689,\n",
              " 'because': 3361,\n",
              " 'decriminalizing': 6979,\n",
              " 'cannabis': 4548,\n",
              " 'criminal': 6493,\n",
              " 'justice': 13359,\n",
              " 'deal': 6883,\n",
              " 'serious': 21590,\n",
              " 'racial': 18995,\n",
              " 'disparity': 7672,\n",
              " 'sentencing': 21560,\n",
              " 'update': 25033,\n",
              " 'end': 8514,\n",
              " 'discriminatory': 7616,\n",
              " 'laws': 13896,\n",
              " 'pretty': 18476,\n",
              " 'speaks': 22415,\n",
              " 'itself': 13013,\n",
              " 'realdonaldtrump': 19228,\n",
              " 'speech': 22440,\n",
              " 'just': 13357,\n",
              " 'well': 25907,\n",
              " 'received': 19289,\n",
              " 'chamber': 4927,\n",
              " 'same': 20932,\n",
              " 'poll': 18158,\n",
              " 'showed': 21877,\n",
              " '72': 1267,\n",
              " '%': 3,\n",
              " 'agree': 1962,\n",
              " 'his': 11627,\n",
              " 'immigration': 12225,\n",
              " 'colleagues': 5555,\n",
              " 'let': 14051,\n",
              " 'cruel': 6563,\n",
              " 'inhumane': 12586,\n",
              " 'treat': 24338,\n",
              " 'denial': 7187,\n",
              " 'he': 11355,\n",
              " 'needs': 16208,\n",
              " 'take': 23390,\n",
              " 'texas': 23730,\n",
              " 'suffer': 23063,\n",
              " 'bidenbordercrisis': 3573,\n",
              " 'tomorrow': 24081,\n",
              " 'spring': 22524,\n",
              " 'academy': 1594,\n",
              " 'know': 13607,\n",
              " 'interested': 12756,\n",
              " 'attending': 2926,\n",
              " 'service': 21600,\n",
              " 'counted': 6309,\n",
              " ';': 1478,\n",
              " 'unlawful': 24894,\n",
              " 'thrown': 23926,\n",
              " 'ballots': 3183,\n",
              " 'numerous': 16628,\n",
              " 'investigated': 12855,\n",
              " 'fully': 10165,\n",
              " 'resolved': 20251,\n",
              " '…': 26652,\n",
              " 'then': 23821,\n",
              " 'won': 26244,\n",
              " 'presidency': 18446,\n",
              " '(': 6,\n",
              " '1/2': 89,\n",
              " ')': 19,\n",
              " 'republicans': 20170,\n",
              " '\\U0001fa7a': 27095,\n",
              " 'preventative': 18486,\n",
              " 'requirement': 20195,\n",
              " '💊': 26890,\n",
              " 'pre-existing': 18347,\n",
              " 'condition': 5863,\n",
              " '🤒': 27047,\n",
              " 'medicaid': 15083,\n",
              " 'expansion': 9044,\n",
              " 'charged': 4977,\n",
              " 'deserve': 7297,\n",
              " 'feel': 9457,\n",
              " 'senatemajldr': 21441,\n",
              " 'senategop': 21440,\n",
              " 'universal': 24878,\n",
              " 'background': 3112,\n",
              " 'checks': 5035,\n",
              " 'endgunviolence': 8531,\n",
              " 'earlier': 8150,\n",
              " 'week': 25876,\n",
              " 'members': 15127,\n",
              " 'bipartisan': 3659,\n",
              " 'probsolvecaucus': 18584,\n",
              " 'embarked': 8409,\n",
              " 'rio': 20518,\n",
              " 'grande': 10797,\n",
              " 'boat': 3820,\n",
              " 'tour': 24148,\n",
              " 'assess': 2823,\n",
              " 'high': 11556,\n",
              " 'areas': 2647,\n",
              " 'illegal': 12184,\n",
              " 'border': 3905,\n",
              " 'crossings': 6543,\n",
              " 'operation': 16976,\n",
              " 'lone': 14350,\n",
              " 'star': 22639,\n",
              " 'delivering': 7117,\n",
              " 'results': 20324,\n",
              " 'thanks': 23762,\n",
              " 'governor': 10708,\n",
              " 'gregabbott_tx': 10890,\n",
              " '50th': 1086,\n",
              " 'wild': 26075,\n",
              " 'horses': 11807,\n",
              " 'burros': 4322,\n",
              " 'intended': 12732,\n",
              " 'preserve': 18440,\n",
              " '“': 26649,\n",
              " 'living': 14280,\n",
              " 'symbols': 23324,\n",
              " 'historic': 11634,\n",
              " 'pioneer': 17966,\n",
              " 'spirit': 22479,\n",
              " 'west': 25941,\n",
              " '”': 26650,\n",
              " 'protection': 18732,\n",
              " 'preservation': 18439,\n",
              " 'iconic': 12096,\n",
              " 'animals': 2386,\n",
              " 'call': 4466,\n",
              " 'spending': 22453,\n",
              " 'bill': 3613,\n",
              " 'coronavirus': 6228,\n",
              " 'relief': 19611,\n",
              " 'false': 9272,\n",
              " '11': 167,\n",
              " 'dollars': 7845,\n",
              " 'focused': 9820,\n",
              " 'rest': 20284,\n",
              " 'partisan': 17487,\n",
              " 'liberal': 14109,\n",
              " 'wish': 26159,\n",
              " 'list': 14237,\n",
              " 'wanted': 25688,\n",
              " 'before': 3385,\n",
              " 'anyone': 2492,\n",
              " 'had': 11071,\n",
              " 'heard': 11399,\n",
              " 'constitutional': 6031,\n",
              " 'experts': 9078,\n",
              " 'testified': 23718,\n",
              " 'housejudiciary': 11878,\n",
              " 'laid': 13741,\n",
              " 'very': 25376,\n",
              " 'clear': 5327,\n",
              " 'cases': 4703,\n",
              " 'impeaching': 12248,\n",
              " 'line': 14212,\n",
              " 'abuses': 1582,\n",
              " 'power': 18294,\n",
              " 'demand': 7133,\n",
              " 'held': 11453,\n",
              " 'exactly': 8941,\n",
              " 'going': 10598,\n",
              " 'commend': 5659,\n",
              " 'admin': 1791,\n",
              " 'eu': 8856,\n",
              " 'responsible': 20281,\n",
              " 'repression': 20081,\n",
              " 'also': 2195,\n",
              " 'uyghurs': 25224,\n",
              " 'facing': 9200,\n",
              " 'prc': 18344,\n",
              " 'human': 11961,\n",
              " 'status': 22709,\n",
              " 'asylum': 2874,\n",
              " 'calls': 4474,\n",
              " 'kansas': 13402,\n",
              " 'aviation': 3029,\n",
              " 'through': 23920,\n",
              " 'grants': 10820,\n",
              " 'totaling': 24133,\n",
              " '103': 129,\n",
              " 'manufacturers': 14735,\n",
              " 'possible': 18240,\n",
              " 'repronestes': 20098,\n",
              " 'promote': 18675,\n",
              " 'invaluable': 12842,\n",
              " '⬇': 26721,\n",
              " 'secpompeo': 21289,\n",
              " 'dangerous': 6778,\n",
              " 'tehran': 23615,\n",
              " 'waivers': 25646,\n",
              " 'replizcheney': 19994,\n",
              " 'calling': 4472,\n",
              " 'hr': 11902,\n",
              " 'hold': 11674,\n",
              " 'iran': 12906,\n",
              " 'accountable': 1645,\n",
              " 'urge': 25074,\n",
              " 'elimination': 8364,\n",
              " 'waiver': 25645,\n",
              " 'maximum': 14943,\n",
              " 'pressure': 18462,\n",
              " 'strategy': 22892,\n",
              " 'there': 23835,\n",
              " 'unwavering': 25009,\n",
              " 'brave': 4031,\n",
              " 'ukrainians': 24645,\n",
              " 'allow': 2170,\n",
              " 'putin': 18909,\n",
              " 'unprovoked': 24941,\n",
              " 'aggression': 1954,\n",
              " 'go': 10572,\n",
              " 'unpunished': 24942,\n",
              " 'introduced': 12827,\n",
              " 'prioritize': 18533,\n",
              " 'h': 11050,\n",
              " '-': 24,\n",
              " '2b': 778,\n",
              " 'visa': 25503,\n",
              " 'allocation': 2167,\n",
              " 'states': 22689,\n",
              " 'lowest': 14471,\n",
              " 'rates': 19131,\n",
              " 'turn': 24522,\n",
              " 'benefit': 3456,\n",
              " 'south': 22349,\n",
              " 'dakota': 6745,\n",
              " 'supplemental': 23158,\n",
              " 'peak': 17639,\n",
              " 'season': 21247,\n",
              " \"that's\": 23771,\n",
              " 'tx28': 24579,\n",
              " '3': 796,\n",
              " 'steps': 22764,\n",
              " 'employment': 8477,\n",
              " 'opportunities': 16999,\n",
              " 'sen': 21417,\n",
              " 'inhofe': 12583,\n",
              " 'next': 16324,\n",
              " 'asking': 2792,\n",
              " 'questions': 18964,\n",
              " 'secdef': 21271,\n",
              " 'nom': 16449,\n",
              " 'ash': 2769,\n",
              " 'carter': 4693,\n",
              " 'sascmajority': 20999,\n",
              " 'times': 23991,\n",
              " 'bad': 3136,\n",
              " 'actors': 1726,\n",
              " 'attempt': 2917,\n",
              " 'capitalize': 4576,\n",
              " 'fear': 9413,\n",
              " 'uncertainty': 24704,\n",
              " 'thankfully': 23760,\n",
              " 'rumor': 20780,\n",
              " 'control': 6121,\n",
              " 'webpage': 25862,\n",
              " 'fema': 9478,\n",
              " 'set': 21615,\n",
              " 'straight': 22872,\n",
              " 'offer': 16802,\n",
              " 'insightful': 12644,\n",
              " ...}"
            ]
          },
          "metadata": {},
          "execution_count": 80
        }
      ]
    },
    {
      "cell_type": "code",
      "source": [
        "tfidf_train = vectorizer.transform(X_train)\n",
        "tfidf_test  = vectorizer.transform(X_test)"
      ],
      "metadata": {
        "id": "yCK7LFHNnSJW"
      },
      "execution_count": 16,
      "outputs": []
    },
    {
      "cell_type": "code",
      "source": [
        "print(f\"Number of tokens created: {len(vectorizer.get_feature_names_out())}\");"
      ],
      "metadata": {
        "id": "PfWUY7NznSP1",
        "colab": {
          "base_uri": "https://localhost:8080/"
        },
        "outputId": "1db546c2-92e0-4af7-bf45-2b623c6fd84e"
      },
      "execution_count": 17,
      "outputs": [
        {
          "output_type": "stream",
          "name": "stdout",
          "text": [
            "Number of tokens created: 6713\n"
          ]
        }
      ]
    },
    {
      "cell_type": "markdown",
      "source": [
        "#### Function to visualize the embeddings in 2 dimensions:"
      ],
      "metadata": {
        "id": "a9nNoqXRB3sg"
      }
    },
    {
      "cell_type": "code",
      "source": [
        "from sklearn.decomposition import TruncatedSVD\n",
        "from matplotlib.colors import ListedColormap\n",
        "import matplotlib.patches as mpatches\n",
        "\n",
        "\n",
        "def plot_LSA(test_data, test_labels, plot=True):\n",
        "        lsa = TruncatedSVD(n_components=2)\n",
        "        lsa.fit(test_data)\n",
        "        lsa_scores = lsa.transform(test_data)\n",
        "        color_mapper = {label:idx for idx,label in enumerate(set(test_labels))}\n",
        "        color_column = [color_mapper[label] for label in test_labels]\n",
        "        colors = ['orange','blue']\n",
        "        if plot:\n",
        "            plt.scatter(lsa_scores[:,0], lsa_scores[:,1], s=2, alpha=.8, c=test_labels, cmap=ListedColormap(colors))\n",
        "            red_patch = mpatches.Patch(color='orange', label='Republicans')\n",
        "            green_patch = mpatches.Patch(color='blue', label='Democrats')\n",
        "            plt.legend(handles=[red_patch, green_patch], prop={'size': 20})"
      ],
      "metadata": {
        "id": "Wf1kXGLZv87Z"
      },
      "execution_count": 18,
      "outputs": []
    },
    {
      "cell_type": "code",
      "source": [
        "fig = plt.figure(figsize=(16, 16))          \n",
        "plot_LSA(tfidf_train, y_train)\n",
        "plt.show()"
      ],
      "metadata": {
        "colab": {
          "base_uri": "https://localhost:8080/",
          "height": 918
        },
        "id": "aBOtyMQAv5Ks",
        "outputId": "b038923e-ccd9-490c-cc02-b2b2f0953fe3"
      },
      "execution_count": 19,
      "outputs": [
        {
          "output_type": "display_data",
          "data": {
            "text/plain": [
              "<Figure size 1152x1152 with 1 Axes>"
            ],
            "image/png": "[encoded data removed]"
          },
          "metadata": {
            "needs_background": "light"
          }
        }
      ]
    },
    {
      "cell_type": "markdown",
      "source": [
        "#### Considering the quantity of data we are using, let's say that these embeddings look more or less separated. Now, we check performance with a logistic regression:\n",
        "\n",
        "\n"
      ],
      "metadata": {
        "id": "zlRjeXTj0UMa"
      }
    },
    {
      "cell_type": "code",
      "source": [
        "%%time\n",
        "\n",
        "from sklearn.linear_model import LogisticRegression\n",
        "\n",
        "log_reg = LogisticRegression(C=30.0, class_weight='balanced', solver='newton-cg', \n",
        "                         multi_class='multinomial', n_jobs=-1, random_state=40)\n",
        "log_reg.fit(tfidf_train, y_train)\n",
        "\n",
        "y_hat = log_reg.predict(tfidf_test)"
      ],
      "metadata": {
        "id": "cEERfe9tTjhb",
        "colab": {
          "base_uri": "https://localhost:8080/"
        },
        "outputId": "3d00f8f6-84b1-4a98-d989-1a1bce136673"
      },
      "execution_count": 20,
      "outputs": [
        {
          "output_type": "stream",
          "name": "stdout",
          "text": [
            "CPU times: user 31.4 ms, sys: 66.2 ms, total: 97.6 ms\n",
            "Wall time: 2.5 s\n"
          ]
        }
      ]
    },
    {
      "cell_type": "markdown",
      "source": [
        "#### Function to compute accuracy, precision, recall and f1 metrics"
      ],
      "metadata": {
        "id": "aBC4joDwDhLt"
      }
    },
    {
      "cell_type": "code",
      "source": [
        "from sklearn.metrics import accuracy_score, f1_score, precision_score, recall_score\n",
        "\n",
        "def get_metrics(y_test, y_hat): \n",
        "    # true positives + true negatives/ total\n",
        "    accuracy = accuracy_score(y_test, y_hat)\n",
        "\n",
        "    # true positives / (true positives+false positives)\n",
        "    precision = precision_score(y_test, y_hat, pos_label=None,\n",
        "                                    average='weighted')             \n",
        "    # true positives / (true positives + false negatives)\n",
        "    recall = recall_score(y_test, y_hat, pos_label=None,\n",
        "                              average='weighted')\n",
        "    # harmonic mean of precision and recall\n",
        "    f1 = f1_score(y_test, y_hat, pos_label=None, average='weighted')\n",
        "    \n",
        "\n",
        "    print(f'accuracy = {accuracy}, precision = {precision}, recall = {recall}, f1 = {f1}')"
      ],
      "metadata": {
        "id": "uAghuOBo3NNf"
      },
      "execution_count": 21,
      "outputs": []
    },
    {
      "cell_type": "code",
      "source": [
        "get_metrics(y_test, y_hat)"
      ],
      "metadata": {
        "colab": {
          "base_uri": "https://localhost:8080/"
        },
        "id": "jLIOwprxWNMT",
        "outputId": "7c8bcb0c-347f-4c43-b7de-4acdfeab1fd9"
      },
      "execution_count": 22,
      "outputs": [
        {
          "output_type": "stream",
          "name": "stdout",
          "text": [
            "accuracy = 0.73525, precision = 0.7355632113821138, recall = 0.73525, f1 = 0.7352123529770248\n"
          ]
        }
      ]
    },
    {
      "cell_type": "code",
      "source": [
        "prop_1s = len(df[df['label_number']==1])/len(df)\n",
        "print(f'Proportion of 1\\'s in label_number in the dataset: {prop_1s}')"
      ],
      "metadata": {
        "id": "4g9idjMwswP2",
        "outputId": "8fbf4575-275c-4100-80c4-33e064948dad",
        "colab": {
          "base_uri": "https://localhost:8080/"
        }
      },
      "execution_count": 23,
      "outputs": [
        {
          "output_type": "stream",
          "name": "stdout",
          "text": [
            "Proportion of 1's in label_number in the dataset: 0.5\n"
          ]
        }
      ]
    },
    {
      "cell_type": "markdown",
      "source": [
        "#### In order to believe the value of the accuracy, per definition, it has to be bigger than the proportion of 1 in label_number in the dataset, which is correct"
      ],
      "metadata": {
        "id": "6DGVTD5EtuOa"
      }
    },
    {
      "cell_type": "markdown",
      "source": [
        "#### Confusion matrix"
      ],
      "metadata": {
        "id": "kdLOi-fGDnAe"
      }
    },
    {
      "cell_type": "code",
      "source": [
        "from sklearn.metrics import confusion_matrix\n",
        "\n",
        "def create_confusion_matrix(y_test, y_hat):\n",
        "  \n",
        "  conf_matrix = confusion_matrix(y_test, y_hat)\n",
        "  plt.figure(figsize = (7,5))\n",
        "  sns.heatmap(conf_matrix, annot=True, fmt='g');\n"
      ],
      "metadata": {
        "id": "BQX3DMm1Tjlq"
      },
      "execution_count": 24,
      "outputs": []
    },
    {
      "cell_type": "code",
      "source": [
        "create_confusion_matrix(y_test, y_hat)"
      ],
      "metadata": {
        "id": "ay0x3lHDsHrm",
        "colab": {
          "base_uri": "https://localhost:8080/",
          "height": 320
        },
        "outputId": "f6d8235e-62a2-4c28-b641-94d3cfc37321"
      },
      "execution_count": 25,
      "outputs": [
        {
          "output_type": "display_data",
          "data": {
            "text/plain": [
              "<Figure size 504x360 with 2 Axes>"
            ],
            "image/png": "[encoded data removed]"
          },
          "metadata": {
            "needs_background": "light"
          }
        }
      ]
    },
    {
      "cell_type": "markdown",
      "source": [
        "#### ROC Curve and area under the ROC Curve"
      ],
      "metadata": {
        "id": "zsT40r2UDrWo"
      }
    },
    {
      "cell_type": "code",
      "source": [
        "from sklearn.metrics import roc_auc_score, roc_curve\n",
        "\n",
        "def create_roc_curve(model, y_test, y_train):\n",
        "\n",
        "  fig = plt.figure(figsize=(10, 10))          \n",
        "\n",
        "  fpr, tpr, thresholds = roc_curve(y_test, model.predict_proba(tfidf_test)[:, 1])\n",
        "  plt.plot(fpr, tpr, label=\"Test\");\n",
        "\n",
        "  fpr, tpr, thresholds = roc_curve(y_train, model.predict_proba(tfidf_train)[:, 1])\n",
        "  plt.plot(fpr, tpr, label=\"Train\");\n",
        "\n",
        "  plt.legend(loc=\"lower right\", prop={'size': 20});\n",
        "\n",
        "  print(f'ROC AUC SCORE: {roc_auc_score(y_test, model.predict_proba(tfidf_test)[:, 1])}')\n"
      ],
      "metadata": {
        "id": "XUcEVhtx7Ve6"
      },
      "execution_count": 26,
      "outputs": []
    },
    {
      "cell_type": "code",
      "source": [
        "create_roc_curve(log_reg, y_test, y_train)"
      ],
      "metadata": {
        "id": "j7tKgRhosLQE",
        "colab": {
          "base_uri": "https://localhost:8080/",
          "height": 609
        },
        "outputId": "2a122baf-421a-4e44-9650-f81e38f108ae"
      },
      "execution_count": 27,
      "outputs": [
        {
          "output_type": "stream",
          "name": "stdout",
          "text": [
            "ROC AUC SCORE: 0.8194514691451394\n"
          ]
        },
        {
          "output_type": "display_data",
          "data": {
            "text/plain": [
              "<Figure size 720x720 with 1 Axes>"
            ],
            "image/png": "[encoded data removed]"
          },
          "metadata": {
            "needs_background": "light"
          }
        }
      ]
    },
    {
      "cell_type": "markdown",
      "source": [
        "These are really good results for a first try, but we don't know if they are the best. In order to discover that, I'm going to attemp a grid search for the logistic regression."
      ],
      "metadata": {
        "id": "ePzzBsOZ5xoX"
      }
    },
    {
      "cell_type": "code",
      "source": [
        "param_grid = [{'penalty' : ['l1', 'l2'],\n",
        "    'C' : [1e-5, 1e-4, 1e-3, 1e-2, 1e-1, 1, 10, 100],\n",
        "    'solver' : ['liblinear'],\n",
        "    'max_iter' : [1000]},\n",
        "    {'penalty' : ['l2'],\n",
        "    'C' : [1e-5, 1e-4, 1e-3, 1e-2, 1e-1, 1, 10, 100],\n",
        "    'solver' : ['newton-cg', 'lbfgs'],\n",
        "    'max_iter' : [1000]}]\n"
      ],
      "metadata": {
        "id": "DJvul8pz6Ms8"
      },
      "execution_count": 28,
      "outputs": []
    },
    {
      "cell_type": "code",
      "source": [
        "from sklearn.model_selection import GridSearchCV\n",
        "\n",
        "grid = GridSearchCV(estimator = LogisticRegression(), param_grid = param_grid, verbose=True, n_jobs=-1)"
      ],
      "metadata": {
        "id": "fpxd_F5x6MvJ"
      },
      "execution_count": 29,
      "outputs": []
    },
    {
      "cell_type": "code",
      "source": [
        "%%time\n",
        "\n",
        "best_clf = grid.fit(tfidf_train, y_train)"
      ],
      "metadata": {
        "colab": {
          "base_uri": "https://localhost:8080/"
        },
        "id": "FbBr3IfD6Mx7",
        "outputId": "4342afee-99f2-4194-e117-ea7f863bd768"
      },
      "execution_count": 30,
      "outputs": [
        {
          "output_type": "stream",
          "name": "stdout",
          "text": [
            "Fitting 5 folds for each of 32 candidates, totalling 160 fits\n",
            "CPU times: user 696 ms, sys: 42.8 ms, total: 739 ms\n",
            "Wall time: 26.2 s\n"
          ]
        }
      ]
    },
    {
      "cell_type": "code",
      "source": [
        "print('Best Score: %s' % best_clf.best_score_)\n",
        "print('Best Hyperparameters: %s' % best_clf.best_params_)"
      ],
      "metadata": {
        "colab": {
          "base_uri": "https://localhost:8080/"
        },
        "id": "jY2gqPPvLbrV",
        "outputId": "473a8e24-ad85-4f11-a194-4f6b9c906054"
      },
      "execution_count": 31,
      "outputs": [
        {
          "output_type": "stream",
          "name": "stdout",
          "text": [
            "Best Score: 0.739875\n",
            "Best Hyperparameters: {'C': 1, 'max_iter': 1000, 'penalty': 'l2', 'solver': 'liblinear'}\n"
          ]
        }
      ]
    },
    {
      "cell_type": "code",
      "source": [
        "best_model = best_clf.best_estimator_\n",
        "y_hat = best_model.predict(tfidf_test)"
      ],
      "metadata": {
        "id": "GoTteYHZLbt3"
      },
      "execution_count": 32,
      "outputs": []
    },
    {
      "cell_type": "code",
      "source": [
        "get_metrics(y_test, y_hat)"
      ],
      "metadata": {
        "colab": {
          "base_uri": "https://localhost:8080/"
        },
        "id": "P5e-afWNLbv6",
        "outputId": "ce63d9c9-f50c-4007-e0c6-59db970f99f2"
      },
      "execution_count": 33,
      "outputs": [
        {
          "output_type": "stream",
          "name": "stdout",
          "text": [
            "accuracy = 0.7595, precision = 0.7595201645453703, recall = 0.7595, f1 = 0.7595032468157481\n"
          ]
        }
      ]
    },
    {
      "cell_type": "code",
      "source": [
        "create_confusion_matrix(y_test, y_hat)"
      ],
      "metadata": {
        "colab": {
          "base_uri": "https://localhost:8080/",
          "height": 320
        },
        "id": "hbmihNhdLbyr",
        "outputId": "86e7fdca-2785-4a5f-c2bd-b90dfdb65f83"
      },
      "execution_count": 34,
      "outputs": [
        {
          "output_type": "display_data",
          "data": {
            "text/plain": [
              "<Figure size 504x360 with 2 Axes>"
            ],
            "image/png": "[encoded data removed]"
          },
          "metadata": {
            "needs_background": "light"
          }
        }
      ]
    },
    {
      "cell_type": "code",
      "source": [
        "create_roc_curve(best_model, y_test, y_train)"
      ],
      "metadata": {
        "colab": {
          "base_uri": "https://localhost:8080/",
          "height": 609
        },
        "id": "Xa7UoxzdLb2Y",
        "outputId": "78a1f963-20a4-4181-a9a3-d1f3baab24ee"
      },
      "execution_count": 35,
      "outputs": [
        {
          "output_type": "stream",
          "name": "stdout",
          "text": [
            "ROC AUC SCORE: 0.8356023776337419\n"
          ]
        },
        {
          "output_type": "display_data",
          "data": {
            "text/plain": [
              "<Figure size 720x720 with 1 Axes>"
            ],
            "image/png": "[encoded data removed]"
          },
          "metadata": {
            "needs_background": "light"
          }
        }
      ]
    },
    {
      "cell_type": "markdown",
      "source": [
        "#### Slightly better performance"
      ],
      "metadata": {
        "id": "xPzAIonmhy-s"
      }
    },
    {
      "cell_type": "markdown",
      "source": [
        "#### Now let's try a random forest\n",
        "\n",
        "\n"
      ],
      "metadata": {
        "id": "2IMTS7N1EsNQ"
      }
    },
    {
      "cell_type": "code",
      "source": [
        "from sklearn.ensemble import RandomForestClassifier"
      ],
      "metadata": {
        "id": "X0ngEJj7-rwt"
      },
      "execution_count": 36,
      "outputs": []
    },
    {
      "cell_type": "code",
      "source": [
        "param_grid = {'bootstrap': [True],\n",
        " 'max_depth': [None, 1,3,5,10],\n",
        " 'max_features': ['auto', 'sqrt'],\n",
        " 'n_estimators': [100]}"
      ],
      "metadata": {
        "id": "7ul1ty81v8oq"
      },
      "execution_count": 37,
      "outputs": []
    },
    {
      "cell_type": "code",
      "source": [
        "grid = GridSearchCV(estimator = RandomForestClassifier(oob_score=True), param_grid = param_grid, verbose=True, n_jobs=-1)"
      ],
      "metadata": {
        "id": "RN8gy5Znv8qv"
      },
      "execution_count": 38,
      "outputs": []
    },
    {
      "cell_type": "code",
      "source": [
        "%%time\n",
        "best_rf_clf = grid.fit(tfidf_train, y_train)"
      ],
      "metadata": {
        "colab": {
          "base_uri": "https://localhost:8080/"
        },
        "id": "1_OtcSfzv87o",
        "outputId": "bb686a2f-7751-4a36-f827-0f76ec81fb0d"
      },
      "execution_count": 39,
      "outputs": [
        {
          "output_type": "stream",
          "name": "stdout",
          "text": [
            "Fitting 5 folds for each of 10 candidates, totalling 50 fits\n",
            "CPU times: user 24 s, sys: 129 ms, total: 24.1 s\n",
            "Wall time: 2min 32s\n"
          ]
        }
      ]
    },
    {
      "cell_type": "code",
      "source": [
        "print('Best Score: %s' % best_rf_clf.best_score_)\n",
        "print('Best Hyperparameters: %s' % best_rf_clf.best_params_)"
      ],
      "metadata": {
        "colab": {
          "base_uri": "https://localhost:8080/"
        },
        "id": "CVFO6d0WxQ_e",
        "outputId": "8bd8e14e-aa87-4af8-ea18-51c789a1286f"
      },
      "execution_count": 40,
      "outputs": [
        {
          "output_type": "stream",
          "name": "stdout",
          "text": [
            "Best Score: 0.6876875\n",
            "Best Hyperparameters: {'bootstrap': True, 'max_depth': None, 'max_features': 'auto', 'n_estimators': 100}\n"
          ]
        }
      ]
    },
    {
      "cell_type": "code",
      "source": [
        "best_rf = best_rf_clf.best_estimator_\n",
        "y_hat = best_rf.predict(tfidf_test)"
      ],
      "metadata": {
        "id": "FbApfWt5xSWO"
      },
      "execution_count": 41,
      "outputs": []
    },
    {
      "cell_type": "code",
      "source": [
        "get_metrics(y_test, y_hat)"
      ],
      "metadata": {
        "colab": {
          "base_uri": "https://localhost:8080/"
        },
        "id": "cWiWtw5hvDQ6",
        "outputId": "b9b7ae05-aee2-4efd-cb27-3b7777258d1f"
      },
      "execution_count": 42,
      "outputs": [
        {
          "output_type": "stream",
          "name": "stdout",
          "text": [
            "accuracy = 0.687, precision = 0.6870068659759003, recall = 0.687, f1 = 0.6869647795754045\n"
          ]
        }
      ]
    },
    {
      "cell_type": "code",
      "source": [
        "create_confusion_matrix(y_test, y_hat)"
      ],
      "metadata": {
        "colab": {
          "base_uri": "https://localhost:8080/",
          "height": 322
        },
        "id": "wdKRopnMvDTX",
        "outputId": "4baa8475-2396-4074-e0a5-68d34ba98e76"
      },
      "execution_count": 43,
      "outputs": [
        {
          "output_type": "display_data",
          "data": {
            "text/plain": [
              "<Figure size 504x360 with 2 Axes>"
            ],
            "image/png": "[encoded data removed]"
          },
          "metadata": {
            "needs_background": "light"
          }
        }
      ]
    },
    {
      "cell_type": "code",
      "source": [
        "create_roc_curve(best_rf, y_test, y_train)"
      ],
      "metadata": {
        "colab": {
          "base_uri": "https://localhost:8080/",
          "height": 609
        },
        "id": "-y8J-XPDvDVJ",
        "outputId": "6c23f18c-30e9-4760-89ce-daf9b5f25f8f"
      },
      "execution_count": 44,
      "outputs": [
        {
          "output_type": "stream",
          "name": "stdout",
          "text": [
            "ROC AUC SCORE: 0.7574002287628678\n"
          ]
        },
        {
          "output_type": "display_data",
          "data": {
            "text/plain": [
              "<Figure size 720x720 with 1 Axes>"
            ],
            "image/png": "[encoded data removed]"
          },
          "metadata": {
            "needs_background": "light"
          }
        }
      ]
    },
    {
      "cell_type": "markdown",
      "source": [
        "#### Although we get a slightly worst accuracy than in the logistic regression, random forest are a lot slower and show even more overfitting in the training set than the logistic regression. The logistic regression is the best model so far. But we can try some more."
      ],
      "metadata": {
        "id": "i-yxuGo-3iaK"
      }
    },
    {
      "cell_type": "markdown",
      "source": [
        "#### XGBoost"
      ],
      "metadata": {
        "id": "-DyUO6B2jrGD"
      }
    },
    {
      "cell_type": "code",
      "source": [
        "import xgboost as xgb\n",
        "\n",
        "xgb_model = xgb.XGBClassifier(\n",
        "        learning_rate=0.1,\n",
        "        max_depth=7,\n",
        "        n_estimators=80,\n",
        "        use_label_encoder=False\n",
        "        )"
      ],
      "metadata": {
        "id": "FclXgyjURPOI"
      },
      "execution_count": 45,
      "outputs": []
    },
    {
      "cell_type": "code",
      "source": [
        "%%time\n",
        "\n",
        "xgb_model.fit(tfidf_train, y_train)"
      ],
      "metadata": {
        "id": "Et7wKRnGRPQS",
        "outputId": "8a842028-ed1b-49e5-b5ce-61fa8535812b",
        "colab": {
          "base_uri": "https://localhost:8080/"
        }
      },
      "execution_count": 46,
      "outputs": [
        {
          "output_type": "stream",
          "name": "stdout",
          "text": [
            "CPU times: user 10.7 s, sys: 32.5 ms, total: 10.7 s\n",
            "Wall time: 10.8 s\n"
          ]
        },
        {
          "output_type": "execute_result",
          "data": {
            "text/plain": [
              "XGBClassifier(max_depth=7, n_estimators=80, use_label_encoder=False)"
            ]
          },
          "metadata": {},
          "execution_count": 46
        }
      ]
    },
    {
      "cell_type": "code",
      "source": [
        "y_hat = xgb_model.predict(tfidf_test)"
      ],
      "metadata": {
        "id": "6ME1fEuZRPSS"
      },
      "execution_count": 47,
      "outputs": []
    },
    {
      "cell_type": "code",
      "source": [
        "get_metrics(y_test, y_hat)"
      ],
      "metadata": {
        "id": "AmavbyhzRPUm",
        "outputId": "faf44da0-4bee-47e8-b932-233923c1fb65",
        "colab": {
          "base_uri": "https://localhost:8080/"
        }
      },
      "execution_count": 48,
      "outputs": [
        {
          "output_type": "stream",
          "name": "stdout",
          "text": [
            "accuracy = 0.6775, precision = 0.6779228952192478, recall = 0.6775, f1 = 0.6771790304981854\n"
          ]
        }
      ]
    },
    {
      "cell_type": "code",
      "source": [
        "create_confusion_matrix(y_test, y_hat)"
      ],
      "metadata": {
        "id": "I-bpY0xqRPWj",
        "outputId": "f8edb60a-e80a-4a56-f3eb-3bffa38cebb2",
        "colab": {
          "base_uri": "https://localhost:8080/",
          "height": 320
        }
      },
      "execution_count": 49,
      "outputs": [
        {
          "output_type": "display_data",
          "data": {
            "text/plain": [
              "<Figure size 504x360 with 2 Axes>"
            ],
            "image/png": "[encoded data removed]"
          },
          "metadata": {
            "needs_background": "light"
          }
        }
      ]
    },
    {
      "cell_type": "code",
      "source": [
        "create_roc_curve(xgb_model, y_test, y_train)"
      ],
      "metadata": {
        "id": "pFjDj254lUdE",
        "outputId": "31ebbb3f-fcfd-4365-d4f2-4c4510819a4a",
        "colab": {
          "base_uri": "https://localhost:8080/",
          "height": 609
        }
      },
      "execution_count": 50,
      "outputs": [
        {
          "output_type": "stream",
          "name": "stdout",
          "text": [
            "ROC AUC SCORE: 0.7563536698939315\n"
          ]
        },
        {
          "output_type": "display_data",
          "data": {
            "text/plain": [
              "<Figure size 720x720 with 1 Axes>"
            ],
            "image/png": "[encoded data removed]"
          },
          "metadata": {
            "needs_background": "light"
          }
        }
      ]
    },
    {
      "cell_type": "markdown",
      "source": [
        "#### Let's do a grid search for the XGBoost\n"
      ],
      "metadata": {
        "id": "Q_gBYpUNffKJ"
      }
    },
    {
      "cell_type": "code",
      "source": [
        "param_grid = {\n",
        "    'max_depth': [1, 3, 5, 10],\n",
        "    'n_estimators': [10, 20, 40, 80],\n",
        "    'learning_rate': [0.01, 0.05, 0.1],\n",
        "    'booster' : ['gbtree']\n",
        "    }"
      ],
      "metadata": {
        "id": "aXwwxB5ATOKj"
      },
      "execution_count": 51,
      "outputs": []
    },
    {
      "cell_type": "code",
      "source": [
        "grid_search_xgb = GridSearchCV(\n",
        "    estimator=xgb.XGBClassifier(objective= 'binary:logistic',nthread=4,seed=42),\n",
        "    param_grid=param_grid,\n",
        "    #scoring = 'roc_auc',\n",
        "    n_jobs = -1,\n",
        "    #cv = 10,\n",
        "    verbose=True\n",
        ")"
      ],
      "metadata": {
        "id": "8UO9lVUZTOMr"
      },
      "execution_count": 52,
      "outputs": []
    },
    {
      "cell_type": "code",
      "source": [
        "%%time\n",
        "\n",
        "best_xgb_clf = grid_search_xgb.fit(tfidf_train, y_train)"
      ],
      "metadata": {
        "id": "95tNhLyDSBEq",
        "outputId": "45c3771c-a9b8-4ca5-f849-37eeea9fc376",
        "colab": {
          "base_uri": "https://localhost:8080/"
        }
      },
      "execution_count": 53,
      "outputs": [
        {
          "output_type": "stream",
          "name": "stdout",
          "text": [
            "Fitting 5 folds for each of 48 candidates, totalling 240 fits\n",
            "CPU times: user 29.6 s, sys: 382 ms, total: 30 s\n",
            "Wall time: 11min 32s\n"
          ]
        }
      ]
    },
    {
      "cell_type": "code",
      "source": [
        "print('Best Score: %s' % best_xgb_clf.best_score_)\n",
        "print('Best Hyperparameters: %s' % best_xgb_clf.best_params_)"
      ],
      "metadata": {
        "colab": {
          "base_uri": "https://localhost:8080/"
        },
        "id": "dWs2nJv_5fiV",
        "outputId": "eb6e53ed-5c20-4ad0-8ead-1c3c3d4c3ba5"
      },
      "execution_count": 54,
      "outputs": [
        {
          "output_type": "stream",
          "name": "stdout",
          "text": [
            "Best Score: 0.6823125000000001\n",
            "Best Hyperparameters: {'booster': 'gbtree', 'learning_rate': 0.1, 'max_depth': 10, 'n_estimators': 80}\n"
          ]
        }
      ]
    },
    {
      "cell_type": "code",
      "source": [
        "best_xgb = best_xgb_clf.best_estimator_\n",
        "y_hat = best_xgb.predict(tfidf_test)"
      ],
      "metadata": {
        "id": "PVS5UpX65fkZ"
      },
      "execution_count": 55,
      "outputs": []
    },
    {
      "cell_type": "code",
      "source": [
        "get_metrics(y_test, y_hat)"
      ],
      "metadata": {
        "colab": {
          "base_uri": "https://localhost:8080/"
        },
        "id": "pfWH9KEl5fmc",
        "outputId": "a8effa6c-18ee-4f4b-82fa-1facb20b31b8"
      },
      "execution_count": 56,
      "outputs": [
        {
          "output_type": "stream",
          "name": "stdout",
          "text": [
            "accuracy = 0.69375, precision = 0.694240735050768, recall = 0.69375, f1 = 0.6934403108385211\n"
          ]
        }
      ]
    },
    {
      "cell_type": "code",
      "source": [
        "create_confusion_matrix(y_test, y_hat)"
      ],
      "metadata": {
        "colab": {
          "base_uri": "https://localhost:8080/",
          "height": 320
        },
        "id": "mG7bMUgw5foU",
        "outputId": "89c79674-1166-4757-909a-434ea6dd47c0"
      },
      "execution_count": 57,
      "outputs": [
        {
          "output_type": "display_data",
          "data": {
            "text/plain": [
              "<Figure size 504x360 with 2 Axes>"
            ],
            "image/png": "[encoded data removed]"
          },
          "metadata": {
            "needs_background": "light"
          }
        }
      ]
    },
    {
      "cell_type": "code",
      "source": [
        "create_roc_curve(best_xgb, y_test, y_train)"
      ],
      "metadata": {
        "colab": {
          "base_uri": "https://localhost:8080/",
          "height": 609
        },
        "id": "q_Q3j0UB5fqJ",
        "outputId": "60f0f8ff-ab3e-4033-bd03-3b66edaa915b"
      },
      "execution_count": 58,
      "outputs": [
        {
          "output_type": "stream",
          "name": "stdout",
          "text": [
            "ROC AUC SCORE: 0.7654446812633211\n"
          ]
        },
        {
          "output_type": "display_data",
          "data": {
            "text/plain": [
              "<Figure size 720x720 with 1 Axes>"
            ],
            "image/png": "[encoded data removed]"
          },
          "metadata": {
            "needs_background": "light"
          }
        }
      ]
    },
    {
      "cell_type": "markdown",
      "source": [
        "#### This model gets an accuracy slighltly lower than logistic regression's, and it's also slower. However, it is the model which shows less overfitting in the training set so far. My conclussion is that we stick with the logistic regression."
      ],
      "metadata": {
        "id": "C0dlWfCdAf0X"
      }
    },
    {
      "cell_type": "markdown",
      "source": [
        "#### BERT "
      ],
      "metadata": {
        "id": "N2l2UvmQ4-4g"
      }
    },
    {
      "cell_type": "code",
      "source": [
        "!pip install -q -U tensorflow-text"
      ],
      "metadata": {
        "colab": {
          "base_uri": "https://localhost:8080/"
        },
        "id": "GBo9CZpdebZY",
        "outputId": "4ae66637-5cd0-4f4c-911d-600101a7087a"
      },
      "execution_count": 59,
      "outputs": [
        {
          "output_type": "stream",
          "name": "stdout",
          "text": [
            "\u001b[K     |████████████████████████████████| 4.6 MB 6.9 MB/s \n",
            "\u001b[K     |████████████████████████████████| 511.7 MB 4.2 kB/s \n",
            "\u001b[K     |████████████████████████████████| 5.8 MB 38.1 MB/s \n",
            "\u001b[K     |████████████████████████████████| 438 kB 48.0 MB/s \n",
            "\u001b[K     |████████████████████████████████| 1.6 MB 41.3 MB/s \n",
            "\u001b[?25h"
          ]
        }
      ]
    },
    {
      "cell_type": "code",
      "source": [
        "!pip install -q tf-models-official"
      ],
      "metadata": {
        "id": "dkl6z6TTOLe3",
        "colab": {
          "base_uri": "https://localhost:8080/"
        },
        "outputId": "2d70972d-333f-4f1b-e724-20456d6a82e2"
      },
      "execution_count": 60,
      "outputs": [
        {
          "output_type": "stream",
          "name": "stdout",
          "text": [
            "\u001b[K     |████████████████████████████████| 2.1 MB 7.0 MB/s \n",
            "\u001b[K     |████████████████████████████████| 237 kB 46.2 MB/s \n",
            "\u001b[K     |████████████████████████████████| 92 kB 11.6 MB/s \n",
            "\u001b[K     |████████████████████████████████| 636 kB 44.5 MB/s \n",
            "\u001b[K     |████████████████████████████████| 1.1 MB 51.2 MB/s \n",
            "\u001b[K     |████████████████████████████████| 352 kB 60.4 MB/s \n",
            "\u001b[K     |████████████████████████████████| 1.2 MB 57.5 MB/s \n",
            "\u001b[K     |████████████████████████████████| 48.3 MB 110 kB/s \n",
            "\u001b[K     |████████████████████████████████| 43 kB 714 kB/s \n",
            "\u001b[K     |████████████████████████████████| 99 kB 5.8 MB/s \n",
            "\u001b[?25h  Building wheel for py-cpuinfo (setup.py) ... \u001b[?25l\u001b[?25hdone\n",
            "  Building wheel for seqeval (setup.py) ... \u001b[?25l\u001b[?25hdone\n"
          ]
        }
      ]
    },
    {
      "cell_type": "code",
      "source": [
        "df_shuffled = shuffle(df)"
      ],
      "metadata": {
        "id": "v7ZCD5ieDceG"
      },
      "execution_count": 61,
      "outputs": []
    },
    {
      "cell_type": "code",
      "source": [
        "len(df_shuffled)"
      ],
      "metadata": {
        "colab": {
          "base_uri": "https://localhost:8080/"
        },
        "id": "2oHB89wKBfP6",
        "outputId": "78f604a4-530c-4202-fa2d-b1d5ce862360"
      },
      "execution_count": 62,
      "outputs": [
        {
          "output_type": "execute_result",
          "data": {
            "text/plain": [
              "20000"
            ]
          },
          "metadata": {},
          "execution_count": 62
        }
      ]
    },
    {
      "cell_type": "code",
      "source": [
        "df_train = df_shuffled[:15999].reset_index()[['text','label_number']]\n",
        "df_val = df_shuffled[16000:].reset_index()[['text','label_number']]"
      ],
      "metadata": {
        "id": "ompl_qtAebeE"
      },
      "execution_count": 63,
      "outputs": []
    },
    {
      "cell_type": "code",
      "source": [
        "import os\n",
        "import shutil\n",
        "\n",
        "import tensorflow as tf\n",
        "import tensorflow_hub as hub\n",
        "import tensorflow_text as text\n",
        "from official.nlp import optimization  # to create AdamW optimizer\n",
        "\n",
        "import matplotlib.pyplot as plt\n",
        "\n",
        "tf.get_logger().setLevel('ERROR')"
      ],
      "metadata": {
        "id": "6J0hobbh7G3w"
      },
      "execution_count": 64,
      "outputs": []
    },
    {
      "cell_type": "code",
      "source": [
        "from tensorflow.keras.preprocessing.text import Tokenizer\n",
        "\n",
        "train_text = df_train['text'].to_numpy()\n",
        "\n",
        "tok = Tokenizer(oov_token='<unk>')\n",
        "tok.fit_on_texts(train_text)\n",
        "tok.word_index['<pad>'] = 0\n",
        "tok.index_word[0] = '<pad>'\n",
        "\n",
        "train_seqs = tok.texts_to_sequences(train_text)\n",
        "train_seqs = tf.keras.preprocessing.sequence.pad_sequences(train_seqs, padding='post')\n",
        "\n",
        "train_labels = df_train['label_number'].to_numpy().flatten()\n",
        "\n",
        "val_text = df_val['text'].to_numpy()\n",
        "val_seqs = tok.texts_to_sequences(val_text)\n",
        "val_seqs = tf.keras.preprocessing.sequence.pad_sequences(val_seqs, padding='post')\n",
        "\n",
        "val_labels = df_val['label_number'].to_numpy().flatten()"
      ],
      "metadata": {
        "id": "7WNlCOvhBvx4"
      },
      "execution_count": 65,
      "outputs": []
    },
    {
      "cell_type": "code",
      "source": [
        "train_ds = tf.data.Dataset.from_tensor_slices((train_seqs, train_labels))\n",
        "val_ds = tf.data.Dataset.from_tensor_slices((val_seqs, val_labels))"
      ],
      "metadata": {
        "id": "r4hrdR2-7G7O"
      },
      "execution_count": 66,
      "outputs": []
    },
    {
      "cell_type": "code",
      "source": [
        "BATCH_SIZE = 32\n",
        "train_ds_batch = train_ds.batch(BATCH_SIZE)\n",
        "val_ds_batch = val_ds.batch(BATCH_SIZE)"
      ],
      "metadata": {
        "id": "ZyHqFZpz7G-L"
      },
      "execution_count": 67,
      "outputs": []
    },
    {
      "cell_type": "code",
      "source": [
        "AUTOTUNE = tf.data.AUTOTUNE\n",
        "\n",
        "train_ds_batch = train_ds_batch.cache().prefetch(buffer_size=AUTOTUNE)\n",
        "val_ds_batch = val_ds_batch.cache().prefetch(buffer_size=AUTOTUNE)"
      ],
      "metadata": {
        "id": "xX7Anqel7HBB"
      },
      "execution_count": 68,
      "outputs": []
    },
    {
      "cell_type": "code",
      "source": [
        "from tensorflow import keras\n",
        "from tensorflow.keras import layers\n",
        "\n",
        "vocab_size =len(tok.word_index) + 1\n",
        "embedding_dim = 256\n",
        "\n",
        "model = keras.Sequential([\n",
        "    layers.Embedding(vocab_size, embedding_dim),\n",
        "    layers.GlobalAveragePooling1D(),\n",
        "    layers.Dense(1, activation='sigmoid') # also tried activation='softmax'\n",
        "])\n",
        "\n",
        "model.compile(optimizer='adam',\n",
        "              loss='binary_crossentropy', # binary_crossentropy\n",
        "              metrics=['accuracy'])\n",
        "\n",
        "history = model.fit(\n",
        "    train_ds_batch,\n",
        "    epochs=3,\n",
        "    validation_data=val_ds_batch, validation_steps=1, steps_per_epoch = tf.data.experimental.cardinality(train_ds).numpy()\n",
        ")"
      ],
      "metadata": {
        "colab": {
          "base_uri": "https://localhost:8080/"
        },
        "id": "eg68gNWS7HCx",
        "outputId": "5f1cf663-9c48-4262-fb57-a613288ae201"
      },
      "execution_count": 69,
      "outputs": [
        {
          "output_type": "stream",
          "name": "stdout",
          "text": [
            "Epoch 1/3\n",
            "15999/15999 [==============================] - 64s 4ms/step - loss: 0.6399 - accuracy: 0.6417 - val_loss: 0.5706 - val_accuracy: 0.7188\n"
          ]
        }
      ]
    },
    {
      "cell_type": "markdown",
      "source": [
        "#### So at first glance, BERT model is the one with worst results. \n"
      ],
      "metadata": {
        "id": "40bQoRhtFUKf"
      }
    },
    {
      "cell_type": "markdown",
      "source": [
        "# PENDING EXPERIMENT SOME TIME WITH THE BERT, IT SHOULD SHOW BETTER RESULTS. ALSO ADD THE PROOF THAT MORE DATA DOESN'T LEAD TO BETTER RESULTS. ALSO ADD FEATURE IMPORTANCE"
      ],
      "metadata": {
        "id": "f1UdjhbpFkTl"
      }
    },
    {
      "cell_type": "markdown",
      "source": [
        "#### Now, let's see the feature importance of the logistic regression"
      ],
      "metadata": {
        "id": "SiCR5XjDaTgJ"
      }
    },
    {
      "cell_type": "code",
      "source": [
        "important_tokens = pd.DataFrame(\n",
        "    data=best_model.coef_[0],\n",
        "    index=vectorizer.get_feature_names(),\n",
        "    columns=['Score']\n",
        ").sort_values(by='Score' ,ascending=False)"
      ],
      "metadata": {
        "colab": {
          "base_uri": "https://localhost:8080/"
        },
        "id": "2gXCzV9AaRSu",
        "outputId": "1291feaf-b339-42df-c48a-18472b255632"
      },
      "execution_count": 70,
      "outputs": [
        {
          "output_type": "stream",
          "name": "stderr",
          "text": [
            "/usr/local/lib/python3.7/dist-packages/sklearn/utils/deprecation.py:87: FutureWarning: Function get_feature_names is deprecated; get_feature_names is deprecated in 1.0 and will be removed in 1.2. Please use get_feature_names_out instead.\n",
            "  warnings.warn(msg, category=FutureWarning)\n"
          ]
        }
      ]
    },
    {
      "cell_type": "code",
      "source": [
        "sns.barplot(x=important_tokens[:20]['Score'], y=important_tokens[:20].index).set_title('Feature importance');"
      ],
      "metadata": {
        "colab": {
          "base_uri": "https://localhost:8080/",
          "height": 295
        },
        "id": "yNv-9j4faRYi",
        "outputId": "f6822ad8-2f2f-44b2-ed8c-3524ceb6ae88"
      },
      "execution_count": 71,
      "outputs": [
        {
          "output_type": "display_data",
          "data": {
            "text/plain": [
              "<Figure size 432x288 with 1 Axes>"
            ],
            "image/png": "[encoded data removed]"
          },
          "metadata": {
            "needs_background": "light"
          }
        }
      ]
    },
    {
      "cell_type": "markdown",
      "source": [
        "#### Why more isn't better"
      ],
      "metadata": {
        "id": "9l3VV02IePTU"
      }
    },
    {
      "cell_type": "code",
      "source": [
        "def steps_for_lg(df_original, vectorizer, sample_size):\n",
        "\n",
        "  print(f'Executing sample_size = {sample_size}')\n",
        "\n",
        "  df_d = shuffle(df_original[df_original['label']=='D'])[:sample_size]\n",
        "  df_r = shuffle(df_original[df_original['label']=='R'])[:sample_size]\n",
        "  df = df_d.append(df_r, ignore_index=True)\n",
        "\n",
        "  df['text_corpus'] = df['text'].apply(create_corpus_column)\n",
        "\n",
        "  df['label_number'] = df['label'].apply(lambda x: 0 if x == 'R' else 1)\n",
        "\n",
        "  datos_X = df.text\n",
        "  datos_y = df.label_number\n",
        "\n",
        "  X_train, X_test, y_train, y_test = train_test_split(\n",
        "      datos_X,\n",
        "      datos_y,\n",
        "      test_size = 0.2,\n",
        "      random_state = 123\n",
        "  )\n",
        "\n",
        "  vectorizer.fit(X_train)\n",
        "\n",
        "  tfidf_train = vectorizer.transform(X_train)\n",
        "  tfidf_test  = vectorizer.transform(X_test)\n",
        "\n",
        "  log_reg = LogisticRegression(C=10.0, solver='newton-cg', max_iter=1000)\n",
        "  log_reg.fit(tfidf_train, y_train)\n",
        "\n",
        "  y_hat = log_reg.predict(tfidf_test)\n",
        "\n",
        "  accuracy = accuracy_score(y_test, y_hat)\n",
        "\n",
        "  return accuracy"
      ],
      "metadata": {
        "id": "Pdh9yb2FhY5H"
      },
      "execution_count": 72,
      "outputs": []
    },
    {
      "cell_type": "code",
      "source": [
        "sample_size_list = [100, 1000, 2500, 5000, 7500, 10000, 20000, 50000, 75000, 100000, 125000, 150000, 175000, 200000]\n",
        "df_compute_results = pd.DataFrame(columns=['sample_size', 'accuracy', 'time'])"
      ],
      "metadata": {
        "id": "tTzZeiWchZDG"
      },
      "execution_count": 73,
      "outputs": []
    },
    {
      "cell_type": "code",
      "source": [
        "import time\n",
        "\n",
        "for sample_size in sample_size_list:\n",
        "  start_time = time.time()\n",
        "  accuracy = steps_for_lg(df_original, vectorizer, sample_size)\n",
        "  finish_time = time.time() - start_time\n",
        "\n",
        "  df_compute_results = df_compute_results.append({'sample_size': sample_size, 'accuracy': accuracy, 'time': finish_time}, ignore_index = True)"
      ],
      "metadata": {
        "colab": {
          "base_uri": "https://localhost:8080/",
          "height": 991
        },
        "id": "r-sOokRlmOcx",
        "outputId": "48a82272-cb32-4af7-bc3d-3e852fcfe09e"
      },
      "execution_count": 74,
      "outputs": [
        {
          "output_type": "stream",
          "name": "stdout",
          "text": [
            "Executing sample_size = 100\n"
          ]
        },
        {
          "output_type": "stream",
          "name": "stderr",
          "text": [
            "/usr/local/lib/python3.7/dist-packages/sklearn/feature_extraction/text.py:517: UserWarning: The parameter 'token_pattern' will not be used since 'tokenizer' is not None'\n",
            "  \"The parameter 'token_pattern' will not be used\"\n"
          ]
        },
        {
          "output_type": "stream",
          "name": "stdout",
          "text": [
            "Executing sample_size = 1000\n"
          ]
        },
        {
          "output_type": "stream",
          "name": "stderr",
          "text": [
            "/usr/local/lib/python3.7/dist-packages/sklearn/feature_extraction/text.py:517: UserWarning: The parameter 'token_pattern' will not be used since 'tokenizer' is not None'\n",
            "  \"The parameter 'token_pattern' will not be used\"\n"
          ]
        },
        {
          "output_type": "stream",
          "name": "stdout",
          "text": [
            "Executing sample_size = 2500\n"
          ]
        },
        {
          "output_type": "stream",
          "name": "stderr",
          "text": [
            "/usr/local/lib/python3.7/dist-packages/sklearn/feature_extraction/text.py:517: UserWarning: The parameter 'token_pattern' will not be used since 'tokenizer' is not None'\n",
            "  \"The parameter 'token_pattern' will not be used\"\n"
          ]
        },
        {
          "output_type": "stream",
          "name": "stdout",
          "text": [
            "Executing sample_size = 5000\n"
          ]
        },
        {
          "output_type": "stream",
          "name": "stderr",
          "text": [
            "/usr/local/lib/python3.7/dist-packages/sklearn/feature_extraction/text.py:517: UserWarning: The parameter 'token_pattern' will not be used since 'tokenizer' is not None'\n",
            "  \"The parameter 'token_pattern' will not be used\"\n"
          ]
        },
        {
          "output_type": "stream",
          "name": "stdout",
          "text": [
            "Executing sample_size = 7500\n"
          ]
        },
        {
          "output_type": "stream",
          "name": "stderr",
          "text": [
            "/usr/local/lib/python3.7/dist-packages/sklearn/feature_extraction/text.py:517: UserWarning: The parameter 'token_pattern' will not be used since 'tokenizer' is not None'\n",
            "  \"The parameter 'token_pattern' will not be used\"\n"
          ]
        },
        {
          "output_type": "stream",
          "name": "stdout",
          "text": [
            "Executing sample_size = 10000\n"
          ]
        },
        {
          "output_type": "stream",
          "name": "stderr",
          "text": [
            "/usr/local/lib/python3.7/dist-packages/sklearn/feature_extraction/text.py:517: UserWarning: The parameter 'token_pattern' will not be used since 'tokenizer' is not None'\n",
            "  \"The parameter 'token_pattern' will not be used\"\n"
          ]
        },
        {
          "output_type": "stream",
          "name": "stdout",
          "text": [
            "Executing sample_size = 20000\n"
          ]
        },
        {
          "output_type": "stream",
          "name": "stderr",
          "text": [
            "/usr/local/lib/python3.7/dist-packages/sklearn/feature_extraction/text.py:517: UserWarning: The parameter 'token_pattern' will not be used since 'tokenizer' is not None'\n",
            "  \"The parameter 'token_pattern' will not be used\"\n"
          ]
        },
        {
          "output_type": "stream",
          "name": "stdout",
          "text": [
            "Executing sample_size = 50000\n"
          ]
        },
        {
          "output_type": "stream",
          "name": "stderr",
          "text": [
            "/usr/local/lib/python3.7/dist-packages/sklearn/feature_extraction/text.py:517: UserWarning: The parameter 'token_pattern' will not be used since 'tokenizer' is not None'\n",
            "  \"The parameter 'token_pattern' will not be used\"\n"
          ]
        },
        {
          "output_type": "stream",
          "name": "stdout",
          "text": [
            "Executing sample_size = 75000\n"
          ]
        },
        {
          "output_type": "stream",
          "name": "stderr",
          "text": [
            "/usr/local/lib/python3.7/dist-packages/sklearn/feature_extraction/text.py:517: UserWarning: The parameter 'token_pattern' will not be used since 'tokenizer' is not None'\n",
            "  \"The parameter 'token_pattern' will not be used\"\n"
          ]
        },
        {
          "output_type": "stream",
          "name": "stdout",
          "text": [
            "Executing sample_size = 100000\n"
          ]
        },
        {
          "output_type": "stream",
          "name": "stderr",
          "text": [
            "/usr/local/lib/python3.7/dist-packages/sklearn/feature_extraction/text.py:517: UserWarning: The parameter 'token_pattern' will not be used since 'tokenizer' is not None'\n",
            "  \"The parameter 'token_pattern' will not be used\"\n"
          ]
        },
        {
          "output_type": "stream",
          "name": "stdout",
          "text": [
            "Executing sample_size = 125000\n"
          ]
        },
        {
          "output_type": "stream",
          "name": "stderr",
          "text": [
            "/usr/local/lib/python3.7/dist-packages/sklearn/feature_extraction/text.py:517: UserWarning: The parameter 'token_pattern' will not be used since 'tokenizer' is not None'\n",
            "  \"The parameter 'token_pattern' will not be used\"\n"
          ]
        },
        {
          "output_type": "stream",
          "name": "stdout",
          "text": [
            "Executing sample_size = 150000\n"
          ]
        },
        {
          "output_type": "error",
          "ename": "KeyboardInterrupt",
          "evalue": "ignored",
          "traceback": [
            "\u001b[0;31m---------------------------------------------------------------------------\u001b[0m",
            "\u001b[0;31mKeyboardInterrupt\u001b[0m                         Traceback (most recent call last)",
            "\u001b[0;32m<ipython-input-74-88298efbcbea>\u001b[0m in \u001b[0;36m<module>\u001b[0;34m()\u001b[0m\n\u001b[1;32m      3\u001b[0m \u001b[0;32mfor\u001b[0m \u001b[0msample_size\u001b[0m \u001b[0;32min\u001b[0m \u001b[0msample_size_list\u001b[0m\u001b[0;34m:\u001b[0m\u001b[0;34m\u001b[0m\u001b[0;34m\u001b[0m\u001b[0m\n\u001b[1;32m      4\u001b[0m   \u001b[0mstart_time\u001b[0m \u001b[0;34m=\u001b[0m \u001b[0mtime\u001b[0m\u001b[0;34m.\u001b[0m\u001b[0mtime\u001b[0m\u001b[0;34m(\u001b[0m\u001b[0;34m)\u001b[0m\u001b[0;34m\u001b[0m\u001b[0;34m\u001b[0m\u001b[0m\n\u001b[0;32m----> 5\u001b[0;31m   \u001b[0maccuracy\u001b[0m \u001b[0;34m=\u001b[0m \u001b[0msteps_for_lg\u001b[0m\u001b[0;34m(\u001b[0m\u001b[0mdf_original\u001b[0m\u001b[0;34m,\u001b[0m \u001b[0mvectorizer\u001b[0m\u001b[0;34m,\u001b[0m \u001b[0msample_size\u001b[0m\u001b[0;34m)\u001b[0m\u001b[0;34m\u001b[0m\u001b[0;34m\u001b[0m\u001b[0m\n\u001b[0m\u001b[1;32m      6\u001b[0m   \u001b[0mfinish_time\u001b[0m \u001b[0;34m=\u001b[0m \u001b[0mtime\u001b[0m\u001b[0;34m.\u001b[0m\u001b[0mtime\u001b[0m\u001b[0;34m(\u001b[0m\u001b[0;34m)\u001b[0m \u001b[0;34m-\u001b[0m \u001b[0mstart_time\u001b[0m\u001b[0;34m\u001b[0m\u001b[0;34m\u001b[0m\u001b[0m\n\u001b[1;32m      7\u001b[0m \u001b[0;34m\u001b[0m\u001b[0m\n",
            "\u001b[0;32m<ipython-input-72-c005f93d13cc>\u001b[0m in \u001b[0;36msteps_for_lg\u001b[0;34m(df_original, vectorizer, sample_size)\u001b[0m\n\u001b[1;32m      7\u001b[0m   \u001b[0mdf\u001b[0m \u001b[0;34m=\u001b[0m \u001b[0mdf_d\u001b[0m\u001b[0;34m.\u001b[0m\u001b[0mappend\u001b[0m\u001b[0;34m(\u001b[0m\u001b[0mdf_r\u001b[0m\u001b[0;34m,\u001b[0m \u001b[0mignore_index\u001b[0m\u001b[0;34m=\u001b[0m\u001b[0;32mTrue\u001b[0m\u001b[0;34m)\u001b[0m\u001b[0;34m\u001b[0m\u001b[0;34m\u001b[0m\u001b[0m\n\u001b[1;32m      8\u001b[0m \u001b[0;34m\u001b[0m\u001b[0m\n\u001b[0;32m----> 9\u001b[0;31m   \u001b[0mdf\u001b[0m\u001b[0;34m[\u001b[0m\u001b[0;34m'text_corpus'\u001b[0m\u001b[0;34m]\u001b[0m \u001b[0;34m=\u001b[0m \u001b[0mdf\u001b[0m\u001b[0;34m[\u001b[0m\u001b[0;34m'text'\u001b[0m\u001b[0;34m]\u001b[0m\u001b[0;34m.\u001b[0m\u001b[0mapply\u001b[0m\u001b[0;34m(\u001b[0m\u001b[0mcreate_corpus_column\u001b[0m\u001b[0;34m)\u001b[0m\u001b[0;34m\u001b[0m\u001b[0;34m\u001b[0m\u001b[0m\n\u001b[0m\u001b[1;32m     10\u001b[0m \u001b[0;34m\u001b[0m\u001b[0m\n\u001b[1;32m     11\u001b[0m   \u001b[0mdf\u001b[0m\u001b[0;34m[\u001b[0m\u001b[0;34m'label_number'\u001b[0m\u001b[0;34m]\u001b[0m \u001b[0;34m=\u001b[0m \u001b[0mdf\u001b[0m\u001b[0;34m[\u001b[0m\u001b[0;34m'label'\u001b[0m\u001b[0;34m]\u001b[0m\u001b[0;34m.\u001b[0m\u001b[0mapply\u001b[0m\u001b[0;34m(\u001b[0m\u001b[0;32mlambda\u001b[0m \u001b[0mx\u001b[0m\u001b[0;34m:\u001b[0m \u001b[0;36m0\u001b[0m \u001b[0;32mif\u001b[0m \u001b[0mx\u001b[0m \u001b[0;34m==\u001b[0m \u001b[0;34m'R'\u001b[0m \u001b[0;32melse\u001b[0m \u001b[0;36m1\u001b[0m\u001b[0;34m)\u001b[0m\u001b[0;34m\u001b[0m\u001b[0;34m\u001b[0m\u001b[0m\n",
            "\u001b[0;32m/usr/local/lib/python3.7/dist-packages/pandas/core/series.py\u001b[0m in \u001b[0;36mapply\u001b[0;34m(self, func, convert_dtype, args, **kwargs)\u001b[0m\n\u001b[1;32m   4355\u001b[0m         \u001b[0mdtype\u001b[0m\u001b[0;34m:\u001b[0m \u001b[0mfloat64\u001b[0m\u001b[0;34m\u001b[0m\u001b[0;34m\u001b[0m\u001b[0m\n\u001b[1;32m   4356\u001b[0m         \"\"\"\n\u001b[0;32m-> 4357\u001b[0;31m         \u001b[0;32mreturn\u001b[0m \u001b[0mSeriesApply\u001b[0m\u001b[0;34m(\u001b[0m\u001b[0mself\u001b[0m\u001b[0;34m,\u001b[0m \u001b[0mfunc\u001b[0m\u001b[0;34m,\u001b[0m \u001b[0mconvert_dtype\u001b[0m\u001b[0;34m,\u001b[0m \u001b[0margs\u001b[0m\u001b[0;34m,\u001b[0m \u001b[0mkwargs\u001b[0m\u001b[0;34m)\u001b[0m\u001b[0;34m.\u001b[0m\u001b[0mapply\u001b[0m\u001b[0;34m(\u001b[0m\u001b[0;34m)\u001b[0m\u001b[0;34m\u001b[0m\u001b[0;34m\u001b[0m\u001b[0m\n\u001b[0m\u001b[1;32m   4358\u001b[0m \u001b[0;34m\u001b[0m\u001b[0m\n\u001b[1;32m   4359\u001b[0m     def _reduce(\n",
            "\u001b[0;32m/usr/local/lib/python3.7/dist-packages/pandas/core/apply.py\u001b[0m in \u001b[0;36mapply\u001b[0;34m(self)\u001b[0m\n\u001b[1;32m   1041\u001b[0m             \u001b[0;32mreturn\u001b[0m \u001b[0mself\u001b[0m\u001b[0;34m.\u001b[0m\u001b[0mapply_str\u001b[0m\u001b[0;34m(\u001b[0m\u001b[0;34m)\u001b[0m\u001b[0;34m\u001b[0m\u001b[0;34m\u001b[0m\u001b[0m\n\u001b[1;32m   1042\u001b[0m \u001b[0;34m\u001b[0m\u001b[0m\n\u001b[0;32m-> 1043\u001b[0;31m         \u001b[0;32mreturn\u001b[0m \u001b[0mself\u001b[0m\u001b[0;34m.\u001b[0m\u001b[0mapply_standard\u001b[0m\u001b[0;34m(\u001b[0m\u001b[0;34m)\u001b[0m\u001b[0;34m\u001b[0m\u001b[0;34m\u001b[0m\u001b[0m\n\u001b[0m\u001b[1;32m   1044\u001b[0m \u001b[0;34m\u001b[0m\u001b[0m\n\u001b[1;32m   1045\u001b[0m     \u001b[0;32mdef\u001b[0m \u001b[0magg\u001b[0m\u001b[0;34m(\u001b[0m\u001b[0mself\u001b[0m\u001b[0;34m)\u001b[0m\u001b[0;34m:\u001b[0m\u001b[0;34m\u001b[0m\u001b[0;34m\u001b[0m\u001b[0m\n",
            "\u001b[0;32m/usr/local/lib/python3.7/dist-packages/pandas/core/apply.py\u001b[0m in \u001b[0;36mapply_standard\u001b[0;34m(self)\u001b[0m\n\u001b[1;32m   1099\u001b[0m                     \u001b[0mvalues\u001b[0m\u001b[0;34m,\u001b[0m\u001b[0;34m\u001b[0m\u001b[0;34m\u001b[0m\u001b[0m\n\u001b[1;32m   1100\u001b[0m                     \u001b[0mf\u001b[0m\u001b[0;34m,\u001b[0m  \u001b[0;31m# type: ignore[arg-type]\u001b[0m\u001b[0;34m\u001b[0m\u001b[0;34m\u001b[0m\u001b[0m\n\u001b[0;32m-> 1101\u001b[0;31m                     \u001b[0mconvert\u001b[0m\u001b[0;34m=\u001b[0m\u001b[0mself\u001b[0m\u001b[0;34m.\u001b[0m\u001b[0mconvert_dtype\u001b[0m\u001b[0;34m,\u001b[0m\u001b[0;34m\u001b[0m\u001b[0;34m\u001b[0m\u001b[0m\n\u001b[0m\u001b[1;32m   1102\u001b[0m                 )\n\u001b[1;32m   1103\u001b[0m \u001b[0;34m\u001b[0m\u001b[0m\n",
            "\u001b[0;32m/usr/local/lib/python3.7/dist-packages/pandas/_libs/lib.pyx\u001b[0m in \u001b[0;36mpandas._libs.lib.map_infer\u001b[0;34m()\u001b[0m\n",
            "\u001b[0;32m<ipython-input-6-b52cf8ab7e3d>\u001b[0m in \u001b[0;36mcreate_corpus_column\u001b[0;34m(tweet)\u001b[0m\n\u001b[1;32m     11\u001b[0m                                reduce_len=True)\n\u001b[1;32m     12\u001b[0m     \u001b[0mcleaned_corpus\u001b[0m \u001b[0;34m=\u001b[0m \u001b[0;34m[\u001b[0m\u001b[0;34m]\u001b[0m\u001b[0;34m\u001b[0m\u001b[0;34m\u001b[0m\u001b[0m\n\u001b[0;32m---> 13\u001b[0;31m     \u001b[0mcorpus\u001b[0m \u001b[0;34m=\u001b[0m \u001b[0mtokenizer\u001b[0m\u001b[0;34m.\u001b[0m\u001b[0mtokenize\u001b[0m\u001b[0;34m(\u001b[0m\u001b[0mtweet\u001b[0m\u001b[0;34m)\u001b[0m\u001b[0;34m\u001b[0m\u001b[0;34m\u001b[0m\u001b[0m\n\u001b[0m\u001b[1;32m     14\u001b[0m     \u001b[0;32mfor\u001b[0m \u001b[0mword\u001b[0m \u001b[0;32min\u001b[0m \u001b[0mcorpus\u001b[0m\u001b[0;34m:\u001b[0m\u001b[0;34m\u001b[0m\u001b[0;34m\u001b[0m\u001b[0m\n\u001b[1;32m     15\u001b[0m         \u001b[0;32mif\u001b[0m \u001b[0;34m(\u001b[0m\u001b[0mword\u001b[0m \u001b[0;32mnot\u001b[0m \u001b[0;32min\u001b[0m \u001b[0mstop\u001b[0m\u001b[0;34m)\u001b[0m \u001b[0;32mand\u001b[0m \u001b[0;34m(\u001b[0m\u001b[0mword\u001b[0m \u001b[0;32mnot\u001b[0m \u001b[0;32min\u001b[0m \u001b[0mstring\u001b[0m\u001b[0;34m.\u001b[0m\u001b[0mpunctuation\u001b[0m\u001b[0;34m)\u001b[0m\u001b[0;34m:\u001b[0m\u001b[0;34m\u001b[0m\u001b[0;34m\u001b[0m\u001b[0m\n",
            "\u001b[0;32m/usr/local/lib/python3.7/dist-packages/nltk/tokenize/casual.py\u001b[0m in \u001b[0;36mtokenize\u001b[0;34m(self, text)\u001b[0m\n\u001b[1;32m    296\u001b[0m         \u001b[0;31m# Remove username handles\u001b[0m\u001b[0;34m\u001b[0m\u001b[0;34m\u001b[0m\u001b[0;34m\u001b[0m\u001b[0m\n\u001b[1;32m    297\u001b[0m         \u001b[0;32mif\u001b[0m \u001b[0mself\u001b[0m\u001b[0;34m.\u001b[0m\u001b[0mstrip_handles\u001b[0m\u001b[0;34m:\u001b[0m\u001b[0;34m\u001b[0m\u001b[0;34m\u001b[0m\u001b[0m\n\u001b[0;32m--> 298\u001b[0;31m             \u001b[0mtext\u001b[0m \u001b[0;34m=\u001b[0m \u001b[0mremove_handles\u001b[0m\u001b[0;34m(\u001b[0m\u001b[0mtext\u001b[0m\u001b[0;34m)\u001b[0m\u001b[0;34m\u001b[0m\u001b[0;34m\u001b[0m\u001b[0m\n\u001b[0m\u001b[1;32m    299\u001b[0m         \u001b[0;31m# Normalize word lengthening\u001b[0m\u001b[0;34m\u001b[0m\u001b[0;34m\u001b[0m\u001b[0;34m\u001b[0m\u001b[0m\n\u001b[1;32m    300\u001b[0m         \u001b[0;32mif\u001b[0m \u001b[0mself\u001b[0m\u001b[0;34m.\u001b[0m\u001b[0mreduce_len\u001b[0m\u001b[0;34m:\u001b[0m\u001b[0;34m\u001b[0m\u001b[0;34m\u001b[0m\u001b[0m\n",
            "\u001b[0;32m/usr/local/lib/python3.7/dist-packages/nltk/tokenize/casual.py\u001b[0m in \u001b[0;36mremove_handles\u001b[0;34m(text)\u001b[0m\n\u001b[1;32m    326\u001b[0m     \u001b[0mRemove\u001b[0m \u001b[0mTwitter\u001b[0m \u001b[0musername\u001b[0m \u001b[0mhandles\u001b[0m \u001b[0;32mfrom\u001b[0m \u001b[0mtext\u001b[0m\u001b[0;34m.\u001b[0m\u001b[0;34m\u001b[0m\u001b[0;34m\u001b[0m\u001b[0m\n\u001b[1;32m    327\u001b[0m     \"\"\"\n\u001b[0;32m--> 328\u001b[0;31m     \u001b[0mpattern\u001b[0m \u001b[0;34m=\u001b[0m \u001b[0mre\u001b[0m\u001b[0;34m.\u001b[0m\u001b[0mcompile\u001b[0m\u001b[0;34m(\u001b[0m\u001b[0;34mr\"(?<![A-Za-z0-9_!@#\\$%&*])@(([A-Za-z0-9_]){20}(?!@))|(?<![A-Za-z0-9_!@#\\$%&*])@(([A-Za-z0-9_]){1,19})(?![A-Za-z0-9_]*@)\"\u001b[0m\u001b[0;34m)\u001b[0m\u001b[0;34m\u001b[0m\u001b[0;34m\u001b[0m\u001b[0m\n\u001b[0m\u001b[1;32m    329\u001b[0m     \u001b[0;31m# Substitute hadnles with ' ' to ensure that text on either side of removed handles are tokenized correctly\u001b[0m\u001b[0;34m\u001b[0m\u001b[0;34m\u001b[0m\u001b[0;34m\u001b[0m\u001b[0m\n\u001b[1;32m    330\u001b[0m     \u001b[0;32mreturn\u001b[0m \u001b[0mpattern\u001b[0m\u001b[0;34m.\u001b[0m\u001b[0msub\u001b[0m\u001b[0;34m(\u001b[0m\u001b[0;34m' '\u001b[0m\u001b[0;34m,\u001b[0m \u001b[0mtext\u001b[0m\u001b[0;34m)\u001b[0m\u001b[0;34m\u001b[0m\u001b[0;34m\u001b[0m\u001b[0m\n",
            "\u001b[0;32m/usr/lib/python3.7/re.py\u001b[0m in \u001b[0;36mcompile\u001b[0;34m(pattern, flags)\u001b[0m\n\u001b[1;32m    232\u001b[0m     \u001b[0;32mreturn\u001b[0m \u001b[0m_compile\u001b[0m\u001b[0;34m(\u001b[0m\u001b[0mpattern\u001b[0m\u001b[0;34m,\u001b[0m \u001b[0mflags\u001b[0m\u001b[0;34m)\u001b[0m\u001b[0;34m.\u001b[0m\u001b[0mfinditer\u001b[0m\u001b[0;34m(\u001b[0m\u001b[0mstring\u001b[0m\u001b[0;34m)\u001b[0m\u001b[0;34m\u001b[0m\u001b[0;34m\u001b[0m\u001b[0m\n\u001b[1;32m    233\u001b[0m \u001b[0;34m\u001b[0m\u001b[0m\n\u001b[0;32m--> 234\u001b[0;31m \u001b[0;32mdef\u001b[0m \u001b[0mcompile\u001b[0m\u001b[0;34m(\u001b[0m\u001b[0mpattern\u001b[0m\u001b[0;34m,\u001b[0m \u001b[0mflags\u001b[0m\u001b[0;34m=\u001b[0m\u001b[0;36m0\u001b[0m\u001b[0;34m)\u001b[0m\u001b[0;34m:\u001b[0m\u001b[0;34m\u001b[0m\u001b[0;34m\u001b[0m\u001b[0m\n\u001b[0m\u001b[1;32m    235\u001b[0m     \u001b[0;34m\"Compile a regular expression pattern, returning a Pattern object.\"\u001b[0m\u001b[0;34m\u001b[0m\u001b[0;34m\u001b[0m\u001b[0m\n\u001b[1;32m    236\u001b[0m     \u001b[0;32mreturn\u001b[0m \u001b[0m_compile\u001b[0m\u001b[0;34m(\u001b[0m\u001b[0mpattern\u001b[0m\u001b[0;34m,\u001b[0m \u001b[0mflags\u001b[0m\u001b[0;34m)\u001b[0m\u001b[0;34m\u001b[0m\u001b[0;34m\u001b[0m\u001b[0m\n",
            "\u001b[0;31mKeyboardInterrupt\u001b[0m: "
          ]
        }
      ]
    },
    {
      "cell_type": "code",
      "source": [
        "fig,(ax1,ax2)=plt.subplots(1,2,figsize=(18,5))\n",
        "ax1.plot(df_compute_results['sample_size'], df_compute_results['accuracy'], color='blue', label='accuracy')\n",
        "ax1.set_title('Accuracy')\n",
        "ax2.plot(df_compute_results['sample_size'], df_compute_results['time'], color='orange', label='time')\n",
        "ax2.set_title('Time')\n",
        "plt.show()"
      ],
      "metadata": {
        "id": "1eGfQbptmOpf"
      },
      "execution_count": null,
      "outputs": []
    }
  ]
}