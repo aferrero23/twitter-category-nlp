{
 "cells": [
  {
   "cell_type": "markdown",
   "metadata": {},
   "source": [
    "## TODO:\n",
    "    1- Add more comments to processes and functions\n",
    "    2- Modify code for more people\n",
    "    3- Add conclusions to plots"
   ]
  },
  {
   "cell_type": "markdown",
   "metadata": {},
   "source": [
    "#### Import libraries"
   ]
  },
  {
   "cell_type": "code",
   "execution_count": 26,
   "metadata": {},
   "outputs": [],
   "source": [
    "import pandas as pd\n",
    "import numpy as np\n",
    "import matplotlib.pyplot as plt\n",
    "from datetime import datetime\n",
    "import seaborn as sns\n",
    "import glob\n",
    "import re"
   ]
  },
  {
   "cell_type": "markdown",
   "metadata": {},
   "source": [
    "#### Read file"
   ]
  },
  {
   "cell_type": "code",
   "execution_count": 11,
   "metadata": {},
   "outputs": [
    {
     "data": {
      "text/plain": [
       "['../data/JohnCornyn.csv',\n",
       " '../data/BernieSanders.csv',\n",
       " '../data/KamalaHarrys.csv',\n",
       " '../data/MarshaBlackburn.csv',\n",
       " '../data/ewarren.csv',\n",
       " '../data/GOPLeader.csv',\n",
       " '../data/SpeakerPelosi.csv',\n",
       " '../data/SteveScalise.csv',\n",
       " '../data/tedcruz.csv',\n",
       " '../data/senrobportman.csv',\n",
       " '../data/CoryBooker.csv',\n",
       " '../data/RandPaul.csv',\n",
       " '../data/KamalaHarris.csv',\n",
       " '../data/MittRomney.csv',\n",
       " '../data/marcorubio.csv',\n",
       " '../data/JoeBiden.csv',\n",
       " '../data/JeffMerkley.csv',\n",
       " '../data/DickDurbin.csv',\n",
       " '../data/AOC.csv',\n",
       " '../data/JeanneShaheen.csv',\n",
       " '../data/AlexPadilla4CA.csv',\n",
       " '../data/BillHagertyTN.csv',\n",
       " '../data/DanCrenshawTX.csv']"
      ]
     },
     "execution_count": 11,
     "metadata": {},
     "output_type": "execute_result"
    }
   ],
   "source": [
    "list_data = glob.glob(\"../data/*\")\n",
    "list_data"
   ]
  },
  {
   "cell_type": "code",
   "execution_count": 29,
   "metadata": {},
   "outputs": [
    {
     "data": {
      "text/plain": [
       "'JohnCornyn'"
      ]
     },
     "execution_count": 29,
     "metadata": {},
     "output_type": "execute_result"
    }
   ],
   "source": [
    "re.search('data/(.*).csv', list_data[0]).group(1)"
   ]
  },
  {
   "cell_type": "code",
   "execution_count": 38,
   "metadata": {},
   "outputs": [],
   "source": [
    "df = pd.DataFrame(columns=[\"id\", \"user\", \"username\", \"created_at\", \"text\", \"lang\", \"label\"])\n",
    "for path in list_data:\n",
    "    df_user = pd.read_csv(path, sep=\"|\")\n",
    "    user = re.search('data/(.*).csv', path).group(1)\n",
    "    df_user['username'] = user\n",
    "    df = pd.concat([df, df_user], ignore_index=True)\n",
    "\n",
    "#df = pd.read_csv(list_data[0], sep=\"|\")\n",
    "#Only in english\n",
    "df = df[df['lang']=='en']"
   ]
  },
  {
   "cell_type": "code",
   "execution_count": 39,
   "metadata": {},
   "outputs": [
    {
     "data": {
      "text/html": [
       "<div>\n",
       "<style scoped>\n",
       "    .dataframe tbody tr th:only-of-type {\n",
       "        vertical-align: middle;\n",
       "    }\n",
       "\n",
       "    .dataframe tbody tr th {\n",
       "        vertical-align: top;\n",
       "    }\n",
       "\n",
       "    .dataframe thead th {\n",
       "        text-align: right;\n",
       "    }\n",
       "</style>\n",
       "<table border=\"1\" class=\"dataframe\">\n",
       "  <thead>\n",
       "    <tr style=\"text-align: right;\">\n",
       "      <th></th>\n",
       "      <th>id</th>\n",
       "      <th>user</th>\n",
       "      <th>username</th>\n",
       "      <th>created_at</th>\n",
       "      <th>text</th>\n",
       "      <th>lang</th>\n",
       "      <th>label</th>\n",
       "    </tr>\n",
       "  </thead>\n",
       "  <tbody>\n",
       "    <tr>\n",
       "      <th>0</th>\n",
       "      <td>1499551665296486414</td>\n",
       "      <td>13218102</td>\n",
       "      <td>JohnCornyn</td>\n",
       "      <td>Fri Mar 04 01:05:51 +0000 2022</td>\n",
       "      <td>Today the Senate passed my bill to rename the ...</td>\n",
       "      <td>en</td>\n",
       "      <td>Republican Party</td>\n",
       "    </tr>\n",
       "    <tr>\n",
       "      <th>1</th>\n",
       "      <td>1499551568873631752</td>\n",
       "      <td>13218102</td>\n",
       "      <td>JohnCornyn</td>\n",
       "      <td>Fri Mar 04 01:05:28 +0000 2022</td>\n",
       "      <td>Big thanks to @usmayors, @leagueofcities, @NAC...</td>\n",
       "      <td>en</td>\n",
       "      <td>Republican Party</td>\n",
       "    </tr>\n",
       "    <tr>\n",
       "      <th>2</th>\n",
       "      <td>1499475400396791808</td>\n",
       "      <td>13218102</td>\n",
       "      <td>JohnCornyn</td>\n",
       "      <td>Thu Mar 03 20:02:49 +0000 2022</td>\n",
       "      <td>Looking good https://t.co/gjeoRyj1R8</td>\n",
       "      <td>en</td>\n",
       "      <td>Republican Party</td>\n",
       "    </tr>\n",
       "    <tr>\n",
       "      <th>3</th>\n",
       "      <td>1499455748505583618</td>\n",
       "      <td>13218102</td>\n",
       "      <td>JohnCornyn</td>\n",
       "      <td>Thu Mar 03 18:44:43 +0000 2022</td>\n",
       "      <td>Rebranding doesn’t change bad policy. https://...</td>\n",
       "      <td>en</td>\n",
       "      <td>Republican Party</td>\n",
       "    </tr>\n",
       "    <tr>\n",
       "      <th>4</th>\n",
       "      <td>1499454474653507588</td>\n",
       "      <td>13218102</td>\n",
       "      <td>JohnCornyn</td>\n",
       "      <td>Thu Mar 03 18:39:39 +0000 2022</td>\n",
       "      <td>1 big thing: Putin's CEO crisis https://t.co/n...</td>\n",
       "      <td>en</td>\n",
       "      <td>Republican Party</td>\n",
       "    </tr>\n",
       "  </tbody>\n",
       "</table>\n",
       "</div>"
      ],
      "text/plain": [
       "                    id      user    username                      created_at  \\\n",
       "0  1499551665296486414  13218102  JohnCornyn  Fri Mar 04 01:05:51 +0000 2022   \n",
       "1  1499551568873631752  13218102  JohnCornyn  Fri Mar 04 01:05:28 +0000 2022   \n",
       "2  1499475400396791808  13218102  JohnCornyn  Thu Mar 03 20:02:49 +0000 2022   \n",
       "3  1499455748505583618  13218102  JohnCornyn  Thu Mar 03 18:44:43 +0000 2022   \n",
       "4  1499454474653507588  13218102  JohnCornyn  Thu Mar 03 18:39:39 +0000 2022   \n",
       "\n",
       "                                                text lang             label  \n",
       "0  Today the Senate passed my bill to rename the ...   en  Republican Party  \n",
       "1  Big thanks to @usmayors, @leagueofcities, @NAC...   en  Republican Party  \n",
       "2               Looking good https://t.co/gjeoRyj1R8   en  Republican Party  \n",
       "3  Rebranding doesn’t change bad policy. https://...   en  Republican Party  \n",
       "4  1 big thing: Putin's CEO crisis https://t.co/n...   en  Republican Party  "
      ]
     },
     "execution_count": 39,
     "metadata": {},
     "output_type": "execute_result"
    }
   ],
   "source": [
    "df.head()"
   ]
  },
  {
   "cell_type": "code",
   "execution_count": 40,
   "metadata": {},
   "outputs": [
    {
     "data": {
      "text/plain": [
       "array(['JohnCornyn', 'BernieSanders', 'KamalaHarrys', 'MarshaBlackburn',\n",
       "       'ewarren', 'GOPLeader', 'SpeakerPelosi', 'SteveScalise', 'tedcruz',\n",
       "       'senrobportman', 'CoryBooker', 'RandPaul', 'KamalaHarris',\n",
       "       'MittRomney', 'marcorubio', 'JoeBiden', 'JeffMerkley',\n",
       "       'DickDurbin', 'AOC', 'JeanneShaheen', 'AlexPadilla4CA',\n",
       "       'BillHagertyTN', 'DanCrenshawTX'], dtype=object)"
      ]
     },
     "execution_count": 40,
     "metadata": {},
     "output_type": "execute_result"
    }
   ],
   "source": [
    "df.username.unique()"
   ]
  },
  {
   "cell_type": "markdown",
   "metadata": {},
   "source": [
    "#### First of all, lets transform twitter date to python datetime"
   ]
  },
  {
   "cell_type": "code",
   "execution_count": 41,
   "metadata": {},
   "outputs": [],
   "source": [
    "def twitter_date_to_datetime(twitter_date):\n",
    "    return datetime.strptime(twitter_date,'%a %b %d %H:%M:%S +0000 %Y')"
   ]
  },
  {
   "cell_type": "code",
   "execution_count": 42,
   "metadata": {},
   "outputs": [],
   "source": [
    "df['created_at'] = df['created_at'].apply(twitter_date_to_datetime)"
   ]
  },
  {
   "cell_type": "code",
   "execution_count": 43,
   "metadata": {},
   "outputs": [
    {
     "data": {
      "text/html": [
       "<div>\n",
       "<style scoped>\n",
       "    .dataframe tbody tr th:only-of-type {\n",
       "        vertical-align: middle;\n",
       "    }\n",
       "\n",
       "    .dataframe tbody tr th {\n",
       "        vertical-align: top;\n",
       "    }\n",
       "\n",
       "    .dataframe thead th {\n",
       "        text-align: right;\n",
       "    }\n",
       "</style>\n",
       "<table border=\"1\" class=\"dataframe\">\n",
       "  <thead>\n",
       "    <tr style=\"text-align: right;\">\n",
       "      <th></th>\n",
       "      <th>id</th>\n",
       "      <th>user</th>\n",
       "      <th>username</th>\n",
       "      <th>created_at</th>\n",
       "      <th>text</th>\n",
       "      <th>lang</th>\n",
       "      <th>label</th>\n",
       "    </tr>\n",
       "  </thead>\n",
       "  <tbody>\n",
       "    <tr>\n",
       "      <th>0</th>\n",
       "      <td>1499551665296486414</td>\n",
       "      <td>13218102</td>\n",
       "      <td>JohnCornyn</td>\n",
       "      <td>2022-03-04 01:05:51</td>\n",
       "      <td>Today the Senate passed my bill to rename the ...</td>\n",
       "      <td>en</td>\n",
       "      <td>Republican Party</td>\n",
       "    </tr>\n",
       "    <tr>\n",
       "      <th>1</th>\n",
       "      <td>1499551568873631752</td>\n",
       "      <td>13218102</td>\n",
       "      <td>JohnCornyn</td>\n",
       "      <td>2022-03-04 01:05:28</td>\n",
       "      <td>Big thanks to @usmayors, @leagueofcities, @NAC...</td>\n",
       "      <td>en</td>\n",
       "      <td>Republican Party</td>\n",
       "    </tr>\n",
       "    <tr>\n",
       "      <th>2</th>\n",
       "      <td>1499475400396791808</td>\n",
       "      <td>13218102</td>\n",
       "      <td>JohnCornyn</td>\n",
       "      <td>2022-03-03 20:02:49</td>\n",
       "      <td>Looking good https://t.co/gjeoRyj1R8</td>\n",
       "      <td>en</td>\n",
       "      <td>Republican Party</td>\n",
       "    </tr>\n",
       "    <tr>\n",
       "      <th>3</th>\n",
       "      <td>1499455748505583618</td>\n",
       "      <td>13218102</td>\n",
       "      <td>JohnCornyn</td>\n",
       "      <td>2022-03-03 18:44:43</td>\n",
       "      <td>Rebranding doesn’t change bad policy. https://...</td>\n",
       "      <td>en</td>\n",
       "      <td>Republican Party</td>\n",
       "    </tr>\n",
       "    <tr>\n",
       "      <th>4</th>\n",
       "      <td>1499454474653507588</td>\n",
       "      <td>13218102</td>\n",
       "      <td>JohnCornyn</td>\n",
       "      <td>2022-03-03 18:39:39</td>\n",
       "      <td>1 big thing: Putin's CEO crisis https://t.co/n...</td>\n",
       "      <td>en</td>\n",
       "      <td>Republican Party</td>\n",
       "    </tr>\n",
       "  </tbody>\n",
       "</table>\n",
       "</div>"
      ],
      "text/plain": [
       "                    id      user    username          created_at  \\\n",
       "0  1499551665296486414  13218102  JohnCornyn 2022-03-04 01:05:51   \n",
       "1  1499551568873631752  13218102  JohnCornyn 2022-03-04 01:05:28   \n",
       "2  1499475400396791808  13218102  JohnCornyn 2022-03-03 20:02:49   \n",
       "3  1499455748505583618  13218102  JohnCornyn 2022-03-03 18:44:43   \n",
       "4  1499454474653507588  13218102  JohnCornyn 2022-03-03 18:39:39   \n",
       "\n",
       "                                                text lang             label  \n",
       "0  Today the Senate passed my bill to rename the ...   en  Republican Party  \n",
       "1  Big thanks to @usmayors, @leagueofcities, @NAC...   en  Republican Party  \n",
       "2               Looking good https://t.co/gjeoRyj1R8   en  Republican Party  \n",
       "3  Rebranding doesn’t change bad policy. https://...   en  Republican Party  \n",
       "4  1 big thing: Putin's CEO crisis https://t.co/n...   en  Republican Party  "
      ]
     },
     "execution_count": 43,
     "metadata": {},
     "output_type": "execute_result"
    }
   ],
   "source": [
    "df.head()"
   ]
  },
  {
   "cell_type": "markdown",
   "metadata": {},
   "source": [
    "#### Now let's check out the length of tweets"
   ]
  },
  {
   "cell_type": "code",
   "execution_count": 44,
   "metadata": {},
   "outputs": [],
   "source": [
    "df['length'] = df['text'].apply(lambda x: len(x))"
   ]
  },
  {
   "cell_type": "code",
   "execution_count": 45,
   "metadata": {},
   "outputs": [
    {
     "data": {
      "text/html": [
       "<div>\n",
       "<style scoped>\n",
       "    .dataframe tbody tr th:only-of-type {\n",
       "        vertical-align: middle;\n",
       "    }\n",
       "\n",
       "    .dataframe tbody tr th {\n",
       "        vertical-align: top;\n",
       "    }\n",
       "\n",
       "    .dataframe thead th {\n",
       "        text-align: right;\n",
       "    }\n",
       "</style>\n",
       "<table border=\"1\" class=\"dataframe\">\n",
       "  <thead>\n",
       "    <tr style=\"text-align: right;\">\n",
       "      <th></th>\n",
       "      <th>id</th>\n",
       "      <th>user</th>\n",
       "      <th>username</th>\n",
       "      <th>created_at</th>\n",
       "      <th>text</th>\n",
       "      <th>lang</th>\n",
       "      <th>label</th>\n",
       "      <th>length</th>\n",
       "    </tr>\n",
       "  </thead>\n",
       "  <tbody>\n",
       "    <tr>\n",
       "      <th>0</th>\n",
       "      <td>1499551665296486414</td>\n",
       "      <td>13218102</td>\n",
       "      <td>JohnCornyn</td>\n",
       "      <td>2022-03-04 01:05:51</td>\n",
       "      <td>Today the Senate passed my bill to rename the ...</td>\n",
       "      <td>en</td>\n",
       "      <td>Republican Party</td>\n",
       "      <td>140</td>\n",
       "    </tr>\n",
       "    <tr>\n",
       "      <th>1</th>\n",
       "      <td>1499551568873631752</td>\n",
       "      <td>13218102</td>\n",
       "      <td>JohnCornyn</td>\n",
       "      <td>2022-03-04 01:05:28</td>\n",
       "      <td>Big thanks to @usmayors, @leagueofcities, @NAC...</td>\n",
       "      <td>en</td>\n",
       "      <td>Republican Party</td>\n",
       "      <td>144</td>\n",
       "    </tr>\n",
       "    <tr>\n",
       "      <th>2</th>\n",
       "      <td>1499475400396791808</td>\n",
       "      <td>13218102</td>\n",
       "      <td>JohnCornyn</td>\n",
       "      <td>2022-03-03 20:02:49</td>\n",
       "      <td>Looking good https://t.co/gjeoRyj1R8</td>\n",
       "      <td>en</td>\n",
       "      <td>Republican Party</td>\n",
       "      <td>36</td>\n",
       "    </tr>\n",
       "    <tr>\n",
       "      <th>3</th>\n",
       "      <td>1499455748505583618</td>\n",
       "      <td>13218102</td>\n",
       "      <td>JohnCornyn</td>\n",
       "      <td>2022-03-03 18:44:43</td>\n",
       "      <td>Rebranding doesn’t change bad policy. https://...</td>\n",
       "      <td>en</td>\n",
       "      <td>Republican Party</td>\n",
       "      <td>61</td>\n",
       "    </tr>\n",
       "    <tr>\n",
       "      <th>4</th>\n",
       "      <td>1499454474653507588</td>\n",
       "      <td>13218102</td>\n",
       "      <td>JohnCornyn</td>\n",
       "      <td>2022-03-03 18:39:39</td>\n",
       "      <td>1 big thing: Putin's CEO crisis https://t.co/n...</td>\n",
       "      <td>en</td>\n",
       "      <td>Republican Party</td>\n",
       "      <td>64</td>\n",
       "    </tr>\n",
       "  </tbody>\n",
       "</table>\n",
       "</div>"
      ],
      "text/plain": [
       "                    id      user    username          created_at  \\\n",
       "0  1499551665296486414  13218102  JohnCornyn 2022-03-04 01:05:51   \n",
       "1  1499551568873631752  13218102  JohnCornyn 2022-03-04 01:05:28   \n",
       "2  1499475400396791808  13218102  JohnCornyn 2022-03-03 20:02:49   \n",
       "3  1499455748505583618  13218102  JohnCornyn 2022-03-03 18:44:43   \n",
       "4  1499454474653507588  13218102  JohnCornyn 2022-03-03 18:39:39   \n",
       "\n",
       "                                                text lang             label  \\\n",
       "0  Today the Senate passed my bill to rename the ...   en  Republican Party   \n",
       "1  Big thanks to @usmayors, @leagueofcities, @NAC...   en  Republican Party   \n",
       "2               Looking good https://t.co/gjeoRyj1R8   en  Republican Party   \n",
       "3  Rebranding doesn’t change bad policy. https://...   en  Republican Party   \n",
       "4  1 big thing: Putin's CEO crisis https://t.co/n...   en  Republican Party   \n",
       "\n",
       "   length  \n",
       "0     140  \n",
       "1     144  \n",
       "2      36  \n",
       "3      61  \n",
       "4      64  "
      ]
     },
     "execution_count": 45,
     "metadata": {},
     "output_type": "execute_result"
    }
   ],
   "source": [
    "df.head()"
   ]
  },
  {
   "cell_type": "code",
   "execution_count": 46,
   "metadata": {},
   "outputs": [
    {
     "data": {
      "image/png": "[encoded data removed]",
      "text/plain": [
       "<Figure size 1296x432 with 1 Axes>"
      ]
     },
     "metadata": {
      "needs_background": "light"
     },
     "output_type": "display_data"
    }
   ],
   "source": [
    "plt.rcParams['figure.figsize'] = (18, 6)\n",
    "bins = 150\n",
    "plt.hist(df['length'], alpha = 0.6, bins=bins, label='Nadal')\n",
    "plt.xlabel('Length')\n",
    "plt.ylabel('Count')\n",
    "plt.legend(loc='upper right')\n",
    "plt.xlim(0,150)\n",
    "plt.grid()\n",
    "plt.show()"
   ]
  },
  {
   "cell_type": "markdown",
   "metadata": {},
   "source": [
    "#### Characters in tweets"
   ]
  },
  {
   "cell_type": "code",
   "execution_count": 47,
   "metadata": {},
   "outputs": [
    {
     "data": {
      "image/png": "[encoded data removed]",
      "text/plain": [
       "<Figure size 576x216 with 2 Axes>"
      ]
     },
     "metadata": {
      "needs_background": "light"
     },
     "output_type": "display_data"
    }
   ],
   "source": [
    "fig,(ax1,ax2)=plt.subplots(1,2,figsize=(8,3))\n",
    "tweet_len=df['text'].str.len()\n",
    "ax1.hist(tweet_len)\n",
    "ax1.set_title('Characters')\n",
    "fig.suptitle('TBD')\n",
    "plt.show()"
   ]
  },
  {
   "cell_type": "markdown",
   "metadata": {},
   "source": [
    "#### Temporal distribution of tweets by month"
   ]
  },
  {
   "cell_type": "code",
   "execution_count": 48,
   "metadata": {},
   "outputs": [
    {
     "data": {
      "image/png": "[encoded data removed]",
      "text/plain": [
       "<Figure size 1296x432 with 1 Axes>"
      ]
     },
     "metadata": {
      "needs_background": "light"
     },
     "output_type": "display_data"
    }
   ],
   "source": [
    "fig, ax = plt.subplots(figsize=(18, 6))\n",
    "\n",
    "df_temp = df.copy()\n",
    "df_temp['date'] = pd.to_datetime(df_temp['created_at'].dt.strftime('%m/%Y'))\n",
    "df_temp = df_temp.groupby(df_temp['date']).size()\n",
    "df_temp.plot(label='Nadal', ax=ax)\n",
    "\n",
    "ax.set_title('Number of tweets published per month')\n",
    "ax.legend();"
   ]
  },
  {
   "cell_type": "markdown",
   "metadata": {},
   "source": [
    "#### Number of words in tweets"
   ]
  },
  {
   "cell_type": "code",
   "execution_count": 49,
   "metadata": {},
   "outputs": [
    {
     "data": {
      "image/png": "[encoded data removed]",
      "text/plain": [
       "<Figure size 720x360 with 2 Axes>"
      ]
     },
     "metadata": {
      "needs_background": "light"
     },
     "output_type": "display_data"
    }
   ],
   "source": [
    "fig,(ax1,ax2)=plt.subplots(1,2,figsize=(10,5))\n",
    "tweet_len=df['text'].str.split().map(lambda x: len(x))\n",
    "ax1.hist(tweet_len)\n",
    "ax1.set_title('Words')\n",
    "fig.suptitle('TBD')\n",
    "plt.show()"
   ]
  },
  {
   "cell_type": "markdown",
   "metadata": {},
   "source": [
    "#### Average word lenght in tweets"
   ]
  },
  {
   "cell_type": "code",
   "execution_count": 50,
   "metadata": {},
   "outputs": [
    {
     "name": "stderr",
     "output_type": "stream",
     "text": [
      "/home/dsc/anaconda3/lib/python3.8/site-packages/seaborn/distributions.py:2619: FutureWarning: `distplot` is a deprecated function and will be removed in a future version. Please adapt your code to use either `displot` (a figure-level function with similar flexibility) or `histplot` (an axes-level function for histograms).\n",
      "  warnings.warn(msg, FutureWarning)\n"
     ]
    },
    {
     "data": {
      "image/png": "[encoded data removed]",
      "text/plain": [
       "<Figure size 720x360 with 2 Axes>"
      ]
     },
     "metadata": {
      "needs_background": "light"
     },
     "output_type": "display_data"
    }
   ],
   "source": [
    "fig,(ax1,ax2)=plt.subplots(1,2,figsize=(10,5))\n",
    "word=df['text'].str.split().apply(lambda x : [len(i) for i in x])\n",
    "sns.distplot(word.map(lambda x: np.mean(x)),ax=ax1,color='blue')\n",
    "ax1.set_title('Nadal')\n",
    "fig.suptitle('TBD');"
   ]
  },
  {
   "cell_type": "code",
   "execution_count": 51,
   "metadata": {},
   "outputs": [],
   "source": [
    "#pending add as argument the ID or name of the person\n",
    "def create_list_of_words():\n",
    "    list_of_words=[]\n",
    "    \n",
    "    for x in df['text'].str.split():\n",
    "        for i in x:\n",
    "            list_of_words.append(i)\n",
    "    return list_of_words"
   ]
  },
  {
   "cell_type": "code",
   "execution_count": 52,
   "metadata": {},
   "outputs": [
    {
     "data": {
      "text/plain": [
       "['Today',\n",
       " 'the',\n",
       " 'Senate',\n",
       " 'passed',\n",
       " 'my',\n",
       " 'bill',\n",
       " 'to',\n",
       " 'rename',\n",
       " 'the',\n",
       " 'VA',\n",
       " 'Clinic',\n",
       " 'in',\n",
       " 'San',\n",
       " 'Angelo,',\n",
       " 'Texas.',\n",
       " 'The',\n",
       " 'new',\n",
       " 'name',\n",
       " 'honors',\n",
       " 'Colonel']"
      ]
     },
     "execution_count": 52,
     "metadata": {},
     "output_type": "execute_result"
    }
   ],
   "source": [
    "create_list_of_words()[:20]"
   ]
  },
  {
   "cell_type": "markdown",
   "metadata": {},
   "source": [
    "#### Punctuation and strange characters in tweets"
   ]
  },
  {
   "cell_type": "code",
   "execution_count": 53,
   "metadata": {},
   "outputs": [
    {
     "data": {
      "image/png": "[encoded data removed]",
      "text/plain": [
       "<Figure size 1296x432 with 1 Axes>"
      ]
     },
     "metadata": {
      "needs_background": "light"
     },
     "output_type": "display_data"
    }
   ],
   "source": [
    "import string\n",
    "\n",
    "plt.figure(figsize=(18,6))\n",
    "list_of_words=create_list_of_words()\n",
    "\n",
    "punctuation = string.punctuation\n",
    "special_characters = []\n",
    "\n",
    "for word in list_of_words:\n",
    "    if word in punctuation:\n",
    "        special_characters.append(word)\n",
    "        \n",
    "dict_count_characters = {i:special_characters.count(i) for i in special_characters}\n",
    "dict_count_characters_ordered = sorted(dict_count_characters.items(), key=lambda x: x[1], reverse=True)\n",
    "\n",
    "characters = [i[0] for i in dict_count_characters_ordered]\n",
    "count = [i[1] for i in dict_count_characters_ordered]\n",
    "\n",
    "sns.barplot(x=count,y=characters);"
   ]
  },
  {
   "cell_type": "markdown",
   "metadata": {},
   "source": [
    "#### Most common words in tweets"
   ]
  },
  {
   "cell_type": "code",
   "execution_count": null,
   "metadata": {},
   "outputs": [],
   "source": [
    "list_of_words=create_list_of_words()\n",
    "top_used_words = {i:list_of_words.count(i) for i in list_of_words}\n",
    "top_used_words_ordered = sorted(top_used_words.items(), key=lambda x: x[1], reverse=True)\n",
    "top_used_words_ordered[:5]"
   ]
  },
  {
   "cell_type": "code",
   "execution_count": null,
   "metadata": {},
   "outputs": [],
   "source": [
    "words = [i[0] for i in top_used_words_ordered[:20]]\n",
    "count = [i[1] for i in top_used_words_ordered[:20]]\n",
    "sns.barplot(x=count,y=words);"
   ]
  },
  {
   "cell_type": "markdown",
   "metadata": {},
   "source": [
    "#### Most common words in tweets which are not stop words"
   ]
  },
  {
   "cell_type": "code",
   "execution_count": 19,
   "metadata": {
    "scrolled": true
   },
   "outputs": [
    {
     "name": "stderr",
     "output_type": "stream",
     "text": [
      "[nltk_data] Downloading package stopwords to /home/dsc/nltk_data...\n",
      "[nltk_data]   Unzipping corpora/stopwords.zip.\n"
     ]
    },
    {
     "data": {
      "text/plain": [
       "<AxesSubplot:>"
      ]
     },
     "execution_count": 19,
     "metadata": {},
     "output_type": "execute_result"
    },
    {
     "data": {
      "image/png": "[encoded data removed]",
      "text/plain": [
       "<Figure size 1152x360 with 1 Axes>"
      ]
     },
     "metadata": {
      "needs_background": "light"
     },
     "output_type": "display_data"
    }
   ],
   "source": [
    "import nltk\n",
    "from nltk.corpus import stopwords\n",
    "nltk.download('stopwords')\n",
    "stop=set(stopwords.words('english'))\n",
    "\n",
    "words = []\n",
    "count = []\n",
    "for word, number in top_used_words_ordered:\n",
    "    if len(words) > 20:\n",
    "        break\n",
    "    elif (word not in stop):\n",
    "        words.append(word)\n",
    "        count.append(number)\n",
    "\n",
    "plt.figure(figsize=(16,5))\n",
    "sns.barplot(x=count,y=words)"
   ]
  },
  {
   "cell_type": "markdown",
   "metadata": {},
   "source": [
    "#### Most common pairs of words in tweets"
   ]
  },
  {
   "cell_type": "code",
   "execution_count": 20,
   "metadata": {},
   "outputs": [],
   "source": [
    "def create_list_of_bigrams():\n",
    "    list_of_bigrams=[]\n",
    "    \n",
    "    for x in df['text'].str.split():\n",
    "        for i in range(len(x)-1):\n",
    "            list_of_bigrams.append(tuple(x[i:i+2]))\n",
    "    return list_of_bigrams"
   ]
  },
  {
   "cell_type": "code",
   "execution_count": 21,
   "metadata": {},
   "outputs": [],
   "source": [
    "list_of_bigrams = create_list_of_bigrams()"
   ]
  },
  {
   "cell_type": "code",
   "execution_count": 22,
   "metadata": {},
   "outputs": [
    {
     "data": {
      "text/plain": [
       "[(('for', 'the'), 88),\n",
       " (('of', 'the'), 69),\n",
       " (('in', 'the'), 57),\n",
       " (('for', 'your'), 56),\n",
       " (('to', 'the'), 54)]"
      ]
     },
     "execution_count": 22,
     "metadata": {},
     "output_type": "execute_result"
    }
   ],
   "source": [
    "top_used_bigrams = {i:list_of_bigrams.count(i) for i in list_of_bigrams}\n",
    "top_used_bigrams_ordered = sorted(top_used_bigrams.items(), key=lambda x: x[1], reverse=True)\n",
    "top_used_bigrams_ordered[:5]"
   ]
  },
  {
   "cell_type": "code",
   "execution_count": 23,
   "metadata": {},
   "outputs": [],
   "source": [
    "#transform the bigrams from tuple to string\n",
    "for i in range(len(top_used_bigrams_ordered)):\n",
    "    top_used_bigrams_ordered[i] = (\" \".join(top_used_bigrams_ordered[i][0]), top_used_bigrams_ordered[i][1])"
   ]
  },
  {
   "cell_type": "code",
   "execution_count": 24,
   "metadata": {},
   "outputs": [
    {
     "data": {
      "text/plain": [
       "[('for the', 88),\n",
       " ('of the', 69),\n",
       " ('in the', 57),\n",
       " ('for your', 56),\n",
       " ('to the', 54),\n",
       " ('at the', 54),\n",
       " ('a great', 35),\n",
       " ('to be', 33),\n",
       " ('with my', 33),\n",
       " ('with the', 32),\n",
       " ('Thanks for', 29),\n",
       " ('my support', 28),\n",
       " ('Thank you', 28),\n",
       " ('Thanks to', 26),\n",
       " ('support to', 26),\n",
       " ('to my', 25),\n",
       " ('All my', 25),\n",
       " ('to all', 24),\n",
       " ('to play', 24),\n",
       " ('I have', 22)]"
      ]
     },
     "execution_count": 24,
     "metadata": {},
     "output_type": "execute_result"
    }
   ],
   "source": [
    "top_used_bigrams_ordered[:20]"
   ]
  },
  {
   "cell_type": "code",
   "execution_count": 25,
   "metadata": {},
   "outputs": [
    {
     "data": {
      "text/plain": [
       "<AxesSubplot:>"
      ]
     },
     "execution_count": 25,
     "metadata": {},
     "output_type": "execute_result"
    },
    {
     "data": {
      "image/png": "[encoded data removed]",
      "text/plain": [
       "<Figure size 1296x432 with 1 Axes>"
      ]
     },
     "metadata": {
      "needs_background": "light"
     },
     "output_type": "display_data"
    }
   ],
   "source": [
    "x,y=map(list,zip(*top_used_bigrams_ordered[:20]))\n",
    "sns.barplot(x=y,y=x)"
   ]
  },
  {
   "cell_type": "markdown",
   "metadata": {},
   "source": [
    "#### I suspect that there are gonna be URLs"
   ]
  },
  {
   "cell_type": "code",
   "execution_count": 28,
   "metadata": {},
   "outputs": [
    {
     "data": {
      "text/html": [
       "<div>\n",
       "<style scoped>\n",
       "    .dataframe tbody tr th:only-of-type {\n",
       "        vertical-align: middle;\n",
       "    }\n",
       "\n",
       "    .dataframe tbody tr th {\n",
       "        vertical-align: top;\n",
       "    }\n",
       "\n",
       "    .dataframe thead th {\n",
       "        text-align: right;\n",
       "    }\n",
       "</style>\n",
       "<table border=\"1\" class=\"dataframe\">\n",
       "  <thead>\n",
       "    <tr style=\"text-align: right;\">\n",
       "      <th></th>\n",
       "      <th>created_at</th>\n",
       "      <th>id</th>\n",
       "      <th>text</th>\n",
       "      <th>user</th>\n",
       "      <th>lang</th>\n",
       "      <th>length</th>\n",
       "    </tr>\n",
       "  </thead>\n",
       "  <tbody>\n",
       "    <tr>\n",
       "      <th>0</th>\n",
       "      <td>2022-02-08 15:06:11</td>\n",
       "      <td>1.491066e+18</td>\n",
       "      <td>Hey all @FanJoltLive is launching today w/give...</td>\n",
       "      <td>344634424.0</td>\n",
       "      <td>en</td>\n",
       "      <td>144</td>\n",
       "    </tr>\n",
       "    <tr>\n",
       "      <th>1</th>\n",
       "      <td>2022-02-03 16:16:15</td>\n",
       "      <td>1.489272e+18</td>\n",
       "      <td>Roger. You book the practice court? Or is it m...</td>\n",
       "      <td>344634424.0</td>\n",
       "      <td>en</td>\n",
       "      <td>131</td>\n",
       "    </tr>\n",
       "    <tr>\n",
       "      <th>2</th>\n",
       "      <td>2022-02-02 18:46:22</td>\n",
       "      <td>1.488947e+18</td>\n",
       "      <td>Thanks to the fans and to those that have supp...</td>\n",
       "      <td>344634424.0</td>\n",
       "      <td>en</td>\n",
       "      <td>140</td>\n",
       "    </tr>\n",
       "    <tr>\n",
       "      <th>4</th>\n",
       "      <td>2022-01-16 04:34:24</td>\n",
       "      <td>1.482572e+18</td>\n",
       "      <td>Chris, all the best to you and get well! And I...</td>\n",
       "      <td>344634424.0</td>\n",
       "      <td>en</td>\n",
       "      <td>105</td>\n",
       "    </tr>\n",
       "    <tr>\n",
       "      <th>5</th>\n",
       "      <td>2022-01-15 05:45:43</td>\n",
       "      <td>1.482227e+18</td>\n",
       "      <td>This year, @Kia_Worldwide will turn ocean wast...</td>\n",
       "      <td>344634424.0</td>\n",
       "      <td>en</td>\n",
       "      <td>139</td>\n",
       "    </tr>\n",
       "    <tr>\n",
       "      <th>...</th>\n",
       "      <td>...</td>\n",
       "      <td>...</td>\n",
       "      <td>...</td>\n",
       "      <td>...</td>\n",
       "      <td>...</td>\n",
       "      <td>...</td>\n",
       "    </tr>\n",
       "    <tr>\n",
       "      <th>2565</th>\n",
       "      <td>2011-08-06 18:24:23</td>\n",
       "      <td>9.990869e+16</td>\n",
       "      <td>Second training day at Montreal!! Today with m...</td>\n",
       "      <td>344634424.0</td>\n",
       "      <td>en</td>\n",
       "      <td>90</td>\n",
       "    </tr>\n",
       "    <tr>\n",
       "      <th>2567</th>\n",
       "      <td>2011-08-05 23:08:19</td>\n",
       "      <td>9.961776e+16</td>\n",
       "      <td>We are going to have dinner at a Japanese rest...</td>\n",
       "      <td>344634424.0</td>\n",
       "      <td>en</td>\n",
       "      <td>126</td>\n",
       "    </tr>\n",
       "    <tr>\n",
       "      <th>2569</th>\n",
       "      <td>2011-08-05 20:10:04</td>\n",
       "      <td>9.957290e+16</td>\n",
       "      <td>Great training with Alex Bogomolov Jr! Today f...</td>\n",
       "      <td>344634424.0</td>\n",
       "      <td>en</td>\n",
       "      <td>105</td>\n",
       "    </tr>\n",
       "    <tr>\n",
       "      <th>2571</th>\n",
       "      <td>2011-08-05 04:32:47</td>\n",
       "      <td>9.933703e+16</td>\n",
       "      <td>Again at court! Sunny day to play tennis at Mo...</td>\n",
       "      <td>344634424.0</td>\n",
       "      <td>en</td>\n",
       "      <td>74</td>\n",
       "    </tr>\n",
       "    <tr>\n",
       "      <th>2573</th>\n",
       "      <td>2011-08-04 21:21:56</td>\n",
       "      <td>9.922860e+16</td>\n",
       "      <td>We have arrived to Montreal! Going to the hote...</td>\n",
       "      <td>344634424.0</td>\n",
       "      <td>en</td>\n",
       "      <td>139</td>\n",
       "    </tr>\n",
       "  </tbody>\n",
       "</table>\n",
       "<p>708 rows × 6 columns</p>\n",
       "</div>"
      ],
      "text/plain": [
       "              created_at            id  \\\n",
       "0    2022-02-08 15:06:11  1.491066e+18   \n",
       "1    2022-02-03 16:16:15  1.489272e+18   \n",
       "2    2022-02-02 18:46:22  1.488947e+18   \n",
       "4    2022-01-16 04:34:24  1.482572e+18   \n",
       "5    2022-01-15 05:45:43  1.482227e+18   \n",
       "...                  ...           ...   \n",
       "2565 2011-08-06 18:24:23  9.990869e+16   \n",
       "2567 2011-08-05 23:08:19  9.961776e+16   \n",
       "2569 2011-08-05 20:10:04  9.957290e+16   \n",
       "2571 2011-08-05 04:32:47  9.933703e+16   \n",
       "2573 2011-08-04 21:21:56  9.922860e+16   \n",
       "\n",
       "                                                   text         user lang  \\\n",
       "0     Hey all @FanJoltLive is launching today w/give...  344634424.0   en   \n",
       "1     Roger. You book the practice court? Or is it m...  344634424.0   en   \n",
       "2     Thanks to the fans and to those that have supp...  344634424.0   en   \n",
       "4     Chris, all the best to you and get well! And I...  344634424.0   en   \n",
       "5     This year, @Kia_Worldwide will turn ocean wast...  344634424.0   en   \n",
       "...                                                 ...          ...  ...   \n",
       "2565  Second training day at Montreal!! Today with m...  344634424.0   en   \n",
       "2567  We are going to have dinner at a Japanese rest...  344634424.0   en   \n",
       "2569  Great training with Alex Bogomolov Jr! Today f...  344634424.0   en   \n",
       "2571  Again at court! Sunny day to play tennis at Mo...  344634424.0   en   \n",
       "2573  We have arrived to Montreal! Going to the hote...  344634424.0   en   \n",
       "\n",
       "      length  \n",
       "0        144  \n",
       "1        131  \n",
       "2        140  \n",
       "4        105  \n",
       "5        139  \n",
       "...      ...  \n",
       "2565      90  \n",
       "2567     126  \n",
       "2569     105  \n",
       "2571      74  \n",
       "2573     139  \n",
       "\n",
       "[708 rows x 6 columns]"
      ]
     },
     "execution_count": 28,
     "metadata": {},
     "output_type": "execute_result"
    }
   ],
   "source": [
    "df.query('text.str.contains(\"http\")', engine='python')"
   ]
  },
  {
   "cell_type": "markdown",
   "metadata": {},
   "source": [
    "# WE HAVE TO CLEAN EVERYTHING, THIS IS FULL OF SHIT"
   ]
  }
 ],
 "metadata": {
  "kernelspec": {
   "display_name": "Python 3 (ipykernel)",
   "language": "python",
   "name": "python3"
  },
  "language_info": {
   "codemirror_mode": {
    "name": "ipython",
    "version": 3
   },
   "file_extension": ".py",
   "mimetype": "text/x-python",
   "name": "python",
   "nbconvert_exporter": "python",
   "pygments_lexer": "ipython3",
   "version": "3.8.11"
  }
 },
 "nbformat": 4,
 "nbformat_minor": 2
}
