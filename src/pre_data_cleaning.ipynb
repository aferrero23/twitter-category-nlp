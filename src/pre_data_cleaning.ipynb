{
 "cells": [
  {
   "cell_type": "markdown",
   "metadata": {},
   "source": [
    "## TODO:\n",
    "    1- Add more comments to processes and functions\n",
    "    2- Modify code for more people\n",
    "    3- Add conclusions to plots"
   ]
  },
  {
   "cell_type": "markdown",
   "metadata": {},
   "source": [
    "#### Import libraries"
   ]
  },
  {
   "cell_type": "code",
   "execution_count": 2,
   "metadata": {},
   "outputs": [],
   "source": [
    "import pandas as pd\n",
    "import numpy as np\n",
    "import matplotlib.pyplot as plt\n",
    "from datetime import datetime\n",
    "import seaborn as sns\n",
    "import glob\n",
    "import re"
   ]
  },
  {
   "cell_type": "markdown",
   "metadata": {},
   "source": [
    "#### Read file"
   ]
  },
  {
   "cell_type": "code",
   "execution_count": 25,
   "metadata": {},
   "outputs": [
    {
     "data": {
      "text/plain": [
       "['../data/RepRalphNorman.csv',\n",
       " '../data/RepDonBeyer.csv',\n",
       " '../data/RepTomReed.csv',\n",
       " '../data/RepMMM.csv',\n",
       " '../data/Jim_Banks.csv',\n",
       " '../data/NormaJTorres.csv',\n",
       " '../data/MikeCrapo.csv',\n",
       " '../data/RepMichaelGuest.csv',\n",
       " '../data/JohnKennedyLA.csv',\n",
       " '../data/MaElviraSalazar.csv',\n",
       " '../data/RepGuthrie.csv',\n",
       " '../data/RepBlaine.csv',\n",
       " '../data/RepDonBacon.csv',\n",
       " '../data/JohnCornyn.csv',\n",
       " '../data/RepGregoryMeeks.csv',\n",
       " '../data/RepDeanPhillips.csv',\n",
       " '../data/ChuckGrassley.csv',\n",
       " '../data/SenatorRounds.csv',\n",
       " '../data/RepGrothman.csv',\n",
       " '../data/JakeLaTurner.csv',\n",
       " '../data/virginiafoxx.csv',\n",
       " '../data/MartinHeinrich.csv',\n",
       " '../data/MikeCareyOH15.csv',\n",
       " '../data/RepLoriTrahan.csv',\n",
       " '../data/congbillposey.csv',\n",
       " '../data/RepJuanVargas.csv',\n",
       " '../data/USRepKeating.csv',\n",
       " '../data/USRepLong.csv',\n",
       " '../data/RepJoeWilson.csv',\n",
       " '../data/DavidKustoff.csv',\n",
       " '../data/Yvette4congress.csv',\n",
       " '../data/chelliepingree.csv',\n",
       " '../data/SenatorBurr.csv',\n",
       " '../data/RepAOC.csv',\n",
       " '../data/BuddforCongress.csv',\n",
       " '../data/lisamurkowski.csv',\n",
       " '../data/EspaillatNY.csv',\n",
       " '../data/janschakowsky.csv',\n",
       " '../data/RepLloydDoggett.csv',\n",
       " '../data/RepJimCosta.csv',\n",
       " '../data/SenStabenow.csv',\n",
       " '../data/FischbachMN7.csv',\n",
       " '../data/SenCapito.csv',\n",
       " '../data/RepSpanberger.csv',\n",
       " '../data/JoshGottheimer.csv',\n",
       " '../data/EleanorNorton.csv',\n",
       " '../data/repjimcooper.csv',\n",
       " '../data/StricklandforWA.csv',\n",
       " '../data/MikeforWI.csv',\n",
       " '../data/RepMichaelWaltz.csv',\n",
       " '../data/RepLaMalfa.csv',\n",
       " '../data/RepEdCase.csv',\n",
       " '../data/JakeEllzey.csv',\n",
       " '../data/RepKimSchrier.csv',\n",
       " '../data/BurgessOwens.csv',\n",
       " '../data/TonyGonzales4TX.csv',\n",
       " '../data/SenatorBaldwin.csv',\n",
       " '../data/RepTimBurchett.csv',\n",
       " '../data/RepTrentKelly.csv',\n",
       " '../data/RepLouCorrea.csv',\n",
       " '../data/DarrellIssa.csv',\n",
       " '../data/RepBillJohnson.csv',\n",
       " '../data/RepBentz.csv',\n",
       " '../data/RepDavidTrone.csv',\n",
       " '../data/ SenatorLeahy.csv',\n",
       " '../data/RepJerryNadler.csv',\n",
       " '../data/MarshaBlackburn.csv',\n",
       " '../data/RepGusBilirakis.csv',\n",
       " '../data/RepDerekKilmer.csv',\n",
       " '../data/KathyManningNC.csv',\n",
       " '../data/RepCuellar.csv',\n",
       " '../data/RepGregStanton.csv',\n",
       " '../data/PramilaJayapal.csv',\n",
       " '../data/RepSarbanes.csv',\n",
       " '../data/SenDuckworth.csv',\n",
       " '../data/RepLucyMcBath.csv',\n",
       " '../data/AugustPfluger.csv',\n",
       " '../data/SessionsTX17.csv',\n",
       " '../data/RepLoisFrankel.csv',\n",
       " '../data/RepCicilline.csv',\n",
       " '../data/RepGarretGraves.csv',\n",
       " '../data/SenatorWicker.csv',\n",
       " '../data/LisaForCongress.csv',\n",
       " '../data/SenSasse.csv',\n",
       " '../data/RepDelBene.csv',\n",
       " '../data/SenBobCasey.csv',\n",
       " '../data/Victoria_Spartz.csv',\n",
       " '../data/RepKenBuck.csv',\n",
       " '../data/SenJohnThune.csv',\n",
       " '../data/RepRickAllen.csv',\n",
       " '../data/RepAnthonyBrown.csv',\n",
       " '../data/MikeGarcia2020.csv',\n",
       " '../data/kaikahele.csv',\n",
       " '../data/RepStephenLynch.csv',\n",
       " '../data/SenJackReed.csv',\n",
       " '../data/RepMikeLevin.csv',\n",
       " '../data/BrianMastFL.csv',\n",
       " '../data/RepRickLarsen.csv',\n",
       " '../data/SenatorShaheen.csv',\n",
       " '../data/RepWexton.csv',\n",
       " '../data/RepDebDingell.csv',\n",
       " '../data/NikemaWilliams.csv',\n",
       " '../data/RepTerriSewell.csv',\n",
       " '../data/RepPeteStauber.csv',\n",
       " '../data/BettyMcCollum04.csv',\n",
       " '../data/mtgreenee.csv',\n",
       " '../data/boblatta.csv',\n",
       " '../data/SMurphyCongress.csv',\n",
       " '../data/RepHartzler.csv',\n",
       " '../data/DrNealDunnFL2.csv',\n",
       " '../data/StaceyPlaskett.csv',\n",
       " '../data/TeresaForNM.csv',\n",
       " '../data/GOPLeader.csv',\n",
       " '../data/VoteMeijer.csv',\n",
       " '../data/RepMrvan.csv',\n",
       " '../data/MichelleSteelCA.csv',\n",
       " '../data/TomOHalleran.csv',\n",
       " '../data/RepSlotkin.csv',\n",
       " '../data/JamesComer.csv',\n",
       " '../data/RepCarlos.csv',\n",
       " '../data/RepAnnaEshoo.csv',\n",
       " '../data/RepFletcher.csv',\n",
       " '../data/teammoulton.csv',\n",
       " '../data/RepJoeNeguse.csv',\n",
       " '../data/SenatorSinema.csv',\n",
       " '../data/FallonForTexas.csv',\n",
       " '../data/KenCalvert.csv',\n",
       " '../data/CongMikeSimpson.csv',\n",
       " '../data/RepHuffman.csv',\n",
       " '../data/Kilili_Sablan.csv',\n",
       " '../data/RepHaleyStevens.csv',\n",
       " '../data/CongBoyle.csv',\n",
       " '../data/JimmyPanetta.csv',\n",
       " '../data/JakeAuch.csv',\n",
       " '../data/RepAdrianSmith.csv',\n",
       " '../data/gracenapolitano.csv',\n",
       " '../data/SenatorCollins.csv',\n",
       " '../data/jdanbishop.csv',\n",
       " '../data/RepRichmond.csv',\n",
       " '../data/RepJohnCurtis.csv',\n",
       " '../data/RepBalderson.csv',\n",
       " '../data/RepSwalwell.csv',\n",
       " '../data/RepMikeQuigley.csv',\n",
       " '../data/USRepKCastor.csv',\n",
       " '../data/FitzgeraldForWI.csv',\n",
       " '../data/CoriBush.csv',\n",
       " '../data/SenJohnBarrasso.csv',\n",
       " '../data/RepChrisSmith.csv',\n",
       " '../data/RepDLamborn.csv',\n",
       " '../data/SenatorRomney.csv',\n",
       " '../data/RepArmstrongND.csv',\n",
       " '../data/RepBeatty.csv',\n",
       " '../data/Liz_Cheney.csv',\n",
       " '../data/jahimes.csv',\n",
       " '../data/ScottforFlorida.csv',\n",
       " '../data/RepAGonzalez.csv',\n",
       " '../data/JacksonLeeTX18.csv',\n",
       " '../data/JayObernolte.csv',\n",
       " '../data/SenShelby.csv',\n",
       " '../data/RepChrisPappas.csv',\n",
       " '../data/RepCardenas.csv',\n",
       " '../data/RepDanKildee.csv',\n",
       " '../data/SenTedCruz.csv',\n",
       " '../data/RepMarieNewman.csv',\n",
       " '../data/ReverendWarnock.csv',\n",
       " '../data/RepTimRyan.csv',\n",
       " '../data/RepDarrenSoto.csv',\n",
       " '../data/FrankPallone.csv',\n",
       " '../data/RepFredKelle.csv',\n",
       " '../data/SenatorMenendez.csv',\n",
       " '../data/Sen_JoeManchin.csv',\n",
       " '../data/RepBlakeMoore.csv',\n",
       " '../data/RepAlexMooney.csv',\n",
       " '../data/RepJerryCarl.csv',\n",
       " '../data/Val_Demings.csv',\n",
       " '../data/RepYvetteClarke.csv',\n",
       " '../data/ChrisVanHollen.csv',\n",
       " '../data/RepMarkGreen.csv',\n",
       " '../data/BillCassidy.csv',\n",
       " '../data/RepMcClintock.csv',\n",
       " '../data/RepCloudTX.csv',\n",
       " '../data/TomTiffanyWI.csv',\n",
       " '../data/RepMoBrooks.csv',\n",
       " '../data/RepBarbaraLee.csv',\n",
       " '../data/SenWarren.csv',\n",
       " '../data/HawleyMO.csv',\n",
       " '../data/GKButterfield.csv',\n",
       " '../data/RepMoolenaar.csv',\n",
       " '../data/RepJohnRose.csv',\n",
       " '../data/RepTedLieu.csv',\n",
       " '../data/MikeKellyforPA.csv',\n",
       " '../data/RepCartwright.csv',\n",
       " '../data/DrewFergusonGA.csv',\n",
       " '../data/RepDavidValadao.csv',\n",
       " '../data/RepRaulRuizMD.csv',\n",
       " '../data/RepLarryBucshon.csv',\n",
       " '../data/RepAshleyHinson.csv',\n",
       " '../data/stephaniebice.csv',\n",
       " '../data/RepJeffries.csv',\n",
       " '../data/SpeakerPelosi.csv',\n",
       " '../data/RepDonaldPayne.csv',\n",
       " '../data/RonWyden.csv',\n",
       " '../data/RepPaulTonko.csv',\n",
       " '../data/RepMaryMiller.csv',\n",
       " '../data/RepGregPence.csv',\n",
       " '../data/GReschenthaler.csv',\n",
       " '../data/Tom_Suozzi.csv',\n",
       " '../data/SteveScalise.csv',\n",
       " '../data/RepJohnJoyce.csv',\n",
       " '../data/PatrickMcHenry.csv',\n",
       " '../data/RepMikeTurner.csv',\n",
       " '../data/repdinatitus.csv',\n",
       " '../data/DorisMatsui.csv',\n",
       " '../data/RepChipRoy.csv',\n",
       " '../data/SenBlumenthal.csv',\n",
       " '../data/RepBrianFitz.csv',\n",
       " '../data/AlLawsonJr.csv',\n",
       " '../data/RepWilson.csv',\n",
       " '../data/RepScottPerry.csv',\n",
       " '../data/TomColeOK04.csv',\n",
       " '../data/senrobportman.csv',\n",
       " '../data/RepJoshHarder.csv',\n",
       " '../data/JackBergman_MI1.csv',\n",
       " '../data/JRutherfordFL.csv',\n",
       " '../data/SenatorCardin.csv',\n",
       " '../data/RepKathleenRice.csv',\n",
       " '../data/RepMcNerney.csv',\n",
       " '../data/RepGonzalez.csv',\n",
       " '../data/SenToddYoung.csv',\n",
       " '../data/RepMeuser.csv',\n",
       " '../data/RepWalberg.csv',\n",
       " '../data/RepCarolMiller.csv',\n",
       " '../data/RepRashida.csv',\n",
       " '../data/CongressmanGT.csv',\n",
       " '../data/RepLloyd.csv',\n",
       " '../data/GoodForCongress.csv',\n",
       " '../data/RepFredUpton.csv',\n",
       " '../data/SenLummis.csv',\n",
       " '../data/WarrenDavidson.csv',\n",
       " '../data/RepTomEmmer.csv',\n",
       " '../data/MondaireJones.csv',\n",
       " '../data/RepVeasey.csv',\n",
       " '../data/SenSanders.csv',\n",
       " '../data/SenBrianSchatz.csv',\n",
       " '../data/RepJeffDuncan.csv',\n",
       " '../data/RepStefanik.csv',\n",
       " '../data/IlhanMN.csv',\n",
       " '../data/Jenniffer2012.csv',\n",
       " '../data/ChrisMurphyCT.csv',\n",
       " '../data/VernBuchanan.csv',\n",
       " '../data/RepBuddyCarter.csv',\n",
       " '../data/CarbajalSalud.csv',\n",
       " '../data/SenatorRisch.csv',\n",
       " '../data/RepBrianHiggins.csv',\n",
       " '../data/LisaBRochester.csv',\n",
       " '../data/RepMGS.csv',\n",
       " '../data/RepKClark.csv',\n",
       " '../data/RepCasten.csv',\n",
       " '../data/BradSherman.csv',\n",
       " '../data/RepZoeLofgren.csv',\n",
       " '../data/RepDavidRouzer.csv',\n",
       " '../data/RepRWilliams.csv',\n",
       " '../data/CharlieCrist.csv',\n",
       " '../data/SenMarkKelly.csv',\n",
       " '../data/RepJohnLarson.csv',\n",
       " '../data/TraceyMannKS.csv',\n",
       " '../data/RepBradWenstrup.csv',\n",
       " '../data/SenKevinCramer.csv',\n",
       " '../data/RepDaveJoyce.csv',\n",
       " '../data/RepJimBaird.csv',\n",
       " '../data/SenatorCarper.csv',\n",
       " '../data/CoryBooker.csv',\n",
       " '../data/JerryMoran.csv',\n",
       " '../data/RitchieTorres.csv',\n",
       " '../data/SenatorHick.csv',\n",
       " '../data/ossoff.csv',\n",
       " '../data/replouiegohmert.csv',\n",
       " '../data/SenSchumer.csv',\n",
       " '../data/JamaalBowmanNY.csv',\n",
       " '../data/laurenboebert.csv',\n",
       " '../data/SenRonJohnson.csv',\n",
       " '../data/BillPascrell.csv',\n",
       " '../data/RepGraceMeng.csv',\n",
       " '../data/Bethvanduyne.csv',\n",
       " '../data/MaxineWaters.csv',\n",
       " '../data/RepDonYoung.csv',\n",
       " '../data/rep_stevewomack.csv',\n",
       " '../data/RepMaloney.csv',\n",
       " '../data/RepColinAllred.csv',\n",
       " '../data/ByronDonalds.csv',\n",
       " '../data/RepTimmons.csv',\n",
       " '../data/RepMikeJohnson.csv',\n",
       " '../data/RepBryanSteil.csv',\n",
       " '../data/RepSteveChabot.csv',\n",
       " '../data/JeffFortenberry.csv',\n",
       " '../data/Call_Me_Dutch.csv',\n",
       " '../data/RepChuyGarcia.csv',\n",
       " '../data/JoaquinCastrotx.csv',\n",
       " '../data/michaelcburgess.csv',\n",
       " '../data/CawthornforNC.csv',\n",
       " '../data/RepWebster.csv',\n",
       " '../data/RandPaul.csv',\n",
       " '../data/SenMikeLee.csv',\n",
       " '../data/RepJudyChu.csv',\n",
       " '../data/CongresswomanSC.csv',\n",
       " '../data/MarkWarner.csv',\n",
       " '../data/RepFrenchHill.csv',\n",
       " '../data/NancyMace.csv',\n",
       " '../data/RepLeeZeldin.csv',\n",
       " '../data/RogerMarshallMD.csv',\n",
       " '../data/RepJoeCourtney.csv',\n",
       " '../data/RepAdamSchiff.csv',\n",
       " '../data/MattForMontana.csv',\n",
       " '../data/RepChuck.csv',\n",
       " '../data/RepAndyBarr.csv',\n",
       " '../data/repdavidscott.csv',\n",
       " '../data/SenJackyRosen.csv',\n",
       " '../data/SenCoonsOffice.csv',\n",
       " '../data/RepScottPeters.csv',\n",
       " '../data/maziehirono.csv',\n",
       " '../data/KamalaHarris.csv',\n",
       " '../data/RepAmata.csv',\n",
       " '../data/RepFilemonVela.csv',\n",
       " '../data/PeterWelch.csv',\n",
       " '../data/SenatorTimScott.csv',\n",
       " '../data/SenTinaSmith.csv',\n",
       " '../data/RepTedDeutch.csv',\n",
       " '../data/MarkAmodeiNV2.csv',\n",
       " '../data/BobbyScott.csv',\n",
       " '../data/RepDeSaulnier.csv',\n",
       " '../data/RepAndyHarrisMD.csv',\n",
       " '../data/RepHalRogers.csv',\n",
       " '../data/SenAngusKing.csv',\n",
       " '../data/RepRubenGallego.csv',\n",
       " '../data/RepHankJohnson.csv',\n",
       " '../data/RepKevinHern.csv',\n",
       " '../data/TXRandy14.csv',\n",
       " '../data/SenGaryPeters.csv',\n",
       " '../data/sharicedavids.csv',\n",
       " '../data/RepGaramendi.csv',\n",
       " '../data/RepSherrill.csv',\n",
       " '../data/Braun4Indiana.csv',\n",
       " '../data/RepRichardNeal.csv',\n",
       " '../data/Jim_Jordan.csv',\n",
       " '../data/RepThomasMassie.csv',\n",
       " '../data/RepPeterDeFazio.csv',\n",
       " '../data/cathymcmorris.csv',\n",
       " '../data/SenToomey.csv',\n",
       " '../data/RepBera.csv',\n",
       " '../data/jbletlow.csv',\n",
       " '../data/RepKinzinger.csv',\n",
       " '../data/RepGregSteube.csv',\n",
       " '../data/RepJasonCrow.csv',\n",
       " '../data/RepAdamSmith.csv',\n",
       " '../data/RepLoudermilk.csv',\n",
       " '../data/RepCohen.csv',\n",
       " '../data/RepTomRice.csv',\n",
       " '../data/RepKayGranger.csv',\n",
       " '../data/Jamie_Raskin.csv',\n",
       " '../data/RepUnderwood.csv',\n",
       " '../data/RobWittman.csv',\n",
       " '../data/JohnBoozman.csv',\n",
       " '../data/Rep_Stansbury.csv',\n",
       " '../data/RepAdams.csv',\n",
       " '../data/RepJohnYarmuth.csv',\n",
       " '../data/USRepGaryPalmer.csv',\n",
       " '../data/SenatorLankford.csv',\n",
       " '../data/marcorubio.csv',\n",
       " '../data/RepBourdeaux.csv',\n",
       " '../data/YoungKimCA.csv',\n",
       " '../data/RepSusanWild.csv',\n",
       " '../data/RepBobGibbs.csv',\n",
       " '../data/RepBost.csv',\n",
       " '../data/RepDelgado.csv',\n",
       " '../data/RepJahanaHayes.csv',\n",
       " '../data/RepMullin.csv',\n",
       " '../data/RepBenCline.csv',\n",
       " '../data/RepGregMurphy.csv',\n",
       " '../data/RepDavidEPrice.csv',\n",
       " '../data/MattGaetz.csv',\n",
       " '../data/SanfordBishop.csv',\n",
       " '../data/RepLawrence.csv',\n",
       " '../data/RepBarryMoore.csv',\n",
       " '../data/SheriffTNehls.csv',\n",
       " '../data/RepNewhouse.csv',\n",
       " '../data/GerryConnolly.csv',\n",
       " '../data/RepWesterman.csv',\n",
       " '../data/RepDLesko.csv',\n",
       " '../data/SteveDaines.csv',\n",
       " '../data/RepDean.csv',\n",
       " '../data/ElectLaHood.csv',\n",
       " '../data/RepRoybalAllard.csv',\n",
       " '../data/RepKatiePorter.csv',\n",
       " '../data/RonnyJacksonTX.csv',\n",
       " '../data/InhofePress.csv',\n",
       " '../data/SenJeffMerkley.csv',\n",
       " '../data/Maggie_Hassan.csv',\n",
       " '../data/repmarkpocan.csv',\n",
       " '../data/RepRaulGrijalva.csv',\n",
       " '../data/RepRobinKelly.csv',\n",
       " '../data/ScottFranklinFL.csv',\n",
       " '../data/RepAnnieKuster.csv',\n",
       " '../data/MichaelBennet.csv',\n",
       " '../data/RodneyDavis.csv',\n",
       " '../data/DHarshbargerTN1.csv',\n",
       " '../data/RepLindaSanchez.csv',\n",
       " '../data/RepBillFoster.csv',\n",
       " '../data/Ttuberville.csv',\n",
       " '../data/LeaderHoyer.csv',\n",
       " '../data/RepJohnKatko.csv',\n",
       " '../data/RepDavid.csv',\n",
       " '../data/USRepMikeDoyle.csv',\n",
       " '../data/RepSchneider.csv',\n",
       " '../data/RepMalinowski.csv',\n",
       " '../data/RepJasonSmith.csv',\n",
       " '../data/AustinScottGA08.csv',\n",
       " '../data/SenatorFischer.csv',\n",
       " '../data/SenGillibrand.csv',\n",
       " '../data/SenTomCotton.csv',\n",
       " '../data/RepMcGovern.csv',\n",
       " '../data/NydiaVelazquez.csv',\n",
       " '../data/MarioDB.csv',\n",
       " '../data/RepThompson.csv',\n",
       " '../data/RandyFeenstra.csv',\n",
       " '../data/RepGosar.csv',\n",
       " '../data/SenJoniErnst.csv',\n",
       " '../data/RepSchrader.csv',\n",
       " '../data/RepSamGraves.csv',\n",
       " '../data/amyklobuchar.csv',\n",
       " '../data/RepDustyJohnson.csv',\n",
       " '../data/RepHuizenga.csv',\n",
       " '../data/RepEBJ.csv',\n",
       " '../data/claudiatenney.csv',\n",
       " '../data/timkaine.csv',\n",
       " '../data/SenatorLujan.csv',\n",
       " '../data/RoKhannaUSA.csv',\n",
       " '../data/RepPeteAguilar.csv',\n",
       " '../data/JudgeCarter.csv',\n",
       " '../data/RepSeanMaloney.csv',\n",
       " '../data/LindsayGrahamSC.csv',\n",
       " '../data/RepSires.csv',\n",
       " '../data/RepMarcyKaptur.csv',\n",
       " '../data/Mfume4Congress.csv',\n",
       " '../data/RepHoulahan.csv',\n",
       " '../data/SenWhitehouse.csv',\n",
       " '../data/RepSpeier.csv',\n",
       " '../data/RepDwightEvans.csv',\n",
       " '../data/Lancegooden.csv',\n",
       " '../data/RepHorsford.csv',\n",
       " '../data/HerreraBeutler.csv',\n",
       " '../data/SaraJacobsCA.csv',\n",
       " '../data/SenSherrodBrown.csv',\n",
       " '../data/WhipClyburn.csv',\n",
       " '../data/RepLowenthal.csv',\n",
       " '../data/RepKirkPatrick.csv',\n",
       " '../data/RepBonnie.csv',\n",
       " '../data/RepFrankLucas.csv',\n",
       " '../data/repblumenauer.csv',\n",
       " '../data/RepAngieCraig.csv',\n",
       " '../data/Kat_Cammack.csv',\n",
       " '../data/DesJarlaisTN04.csv',\n",
       " '../data/PattyMurray.csv',\n",
       " '../data/RepConorLamb.csv',\n",
       " '../data/RepRickCrawford.csv',\n",
       " '../data/BennieGThompson.csv',\n",
       " '../data/Nmalliotakis.csv',\n",
       " '../data/RepRonKind.csv',\n",
       " '../data/RepEscobar.csv',\n",
       " '../data/RepDannyDavis.csv',\n",
       " '../data/SenThomTillis.csv',\n",
       " '../data/RepRonEstes.csv',\n",
       " '../data/RepElaineLuria.csv',\n",
       " '../data/ShontelMBrown.csv',\n",
       " '../data/RepKarenBass.csv',\n",
       " '../data/jacobsny27.csv',\n",
       " '../data/DonNorcross4NJ.csv',\n",
       " '../data/SenatorCantwell.csv',\n",
       " '../data/SenMarkey.csv',\n",
       " '../data/AndyBiggs4AZ.csv',\n",
       " '../data/JodeyArrington.csv',\n",
       " '../data/DeborahRossNC.csv',\n",
       " '../data/RepPerlmutter.csv',\n",
       " '../data/SenHydeSmith.csv',\n",
       " '../data/CaptClayHIggins.csv',\n",
       " '../data/SenJohnHoeven.csv',\n",
       " '../data/RepAndyLevin.csv',\n",
       " '../data/RepAndreCarson.csv',\n",
       " '../data/RepSylviaGarcia.csv',\n",
       " '../data/RepDianaDeGette.csv',\n",
       " '../data/RepCindyAxne.csv',\n",
       " '../data/RepBonamici.csv',\n",
       " '../data/RepBobbyRush.csv',\n",
       " '../data/repcleaver.csv',\n",
       " '../data/rosadelauro.csv',\n",
       " '../data/RepAlGreen.csv',\n",
       " '../data/RepChrisStewart.csv',\n",
       " '../data/GuamCongressman.csv',\n",
       " '../data/SenatorTester.csv',\n",
       " '../data/BillHagertyTN.csv',\n",
       " '../data/RepMarkTakano.csv',\n",
       " '../data/RepDanCrenshaw.csv',\n",
       " '../data/RepJimmyGomez.csv',\n",
       " '../data/RepMGriffith.csv',\n",
       " '../data/SenDanSullivan.csv',\n",
       " '../data/CatherineForNV.csv',\n",
       " '../data/RepGwenMoore.csv',\n",
       " '../data/RepGolden.csv',\n",
       " '../data/Donald_McEachin.csv',\n",
       " '../data/RepDWStweets.csv',\n",
       " '../data/RajaForCongress.csv',\n",
       " '../data/RepBrownley.csv',\n",
       " '../data/RepAnnWagner.csv',\n",
       " '../data/SenatorDurbin.csv',\n",
       " '../data/JeffVanDrew.csv',\n",
       " '../data/RepMcKinley.csv',\n",
       " '../data/CongressmanHice.csv',\n",
       " '../data/RepRussFulcher.csv',\n",
       " '../data/RepJoeMorelle.csv',\n",
       " '../data/RepHagedorn.csv',\n",
       " '../data/McConnellPress.csv',\n",
       " '../data/RepVanTaylor.csv',\n",
       " '../data/RepCheri.csv',\n",
       " '../data/RepSusieLee.csv',\n",
       " '../data/Robert_Aderholt.csv',\n",
       " '../data/jimlangevin.csv',\n",
       " '../data/RepRichHudson.csv',\n",
       " '../data/SenFeinstein.csv',\n",
       " '../data/RepMcCaul.csv',\n",
       " '../data/RoyBlunt.csv',\n",
       " '../data/RepMikeRogers.csv',\n",
       " '../data/VoteForTrey.csv',\n",
       " '../data/RepKevinBrady.csv',\n",
       " '../data/CongPalazzo.csv',\n",
       " '../data/RepWalorski.csv',\n",
       " '../data/RepAndyKimNJ.csv',\n",
       " '../data/RepPressley.csv',\n",
       " '../data/RepBrianBabin.csv',\n",
       " '../data/Nanette4CA.csv']"
      ]
     },
     "execution_count": 25,
     "metadata": {},
     "output_type": "execute_result"
    }
   ],
   "source": [
    "list_data = glob.glob(\"../data/*\")\n",
    "list_data.remove('../data/eeuu_member_of_congress.csv')\n",
    "list_data"
   ]
  },
  {
   "cell_type": "code",
   "execution_count": 4,
   "metadata": {},
   "outputs": [
    {
     "data": {
      "text/plain": [
       "'RepRalphNorman'"
      ]
     },
     "execution_count": 4,
     "metadata": {},
     "output_type": "execute_result"
    }
   ],
   "source": [
    "re.search('data/(.*).csv', list_data[0]).group(1)"
   ]
  },
  {
   "cell_type": "code",
   "execution_count": 26,
   "metadata": {},
   "outputs": [
    {
     "name": "stdout",
     "output_type": "stream",
     "text": [
      "Error tokenizing data. C error: Buffer overflow caught - possible malformed input file.\n",
      "\n",
      "Path ../data/RepRonKind.csv was not read\n",
      "Len of the dataframe: 940322\n"
     ]
    }
   ],
   "source": [
    "df = pd.DataFrame(columns=[\"id\", \"user\", \"username\", \"created_at\", \"text\", \"lang\", \"label\",\"retweet_count\", \"favorite_count\"])\n",
    "for path in list_data:\n",
    "    try:\n",
    "        df_user = pd.read_csv(path, sep=\"|\")\n",
    "        user = re.search('data/(.*).csv', path).group(1)\n",
    "        df_user['username'] = user\n",
    "        df = pd.concat([df, df_user], ignore_index=True)\n",
    "    except Exception as e:\n",
    "        print(e)\n",
    "        print(f\"Path {path} was not read\")\n",
    "\n",
    "#df = pd.read_csv(list_data[0], sep=\"|\")\n",
    "#Only in english\n",
    "df = df[df['lang']=='en']\n",
    "print(f\"Len of the dataframe: {len(df)}\")"
   ]
  },
  {
   "cell_type": "code",
   "execution_count": 6,
   "metadata": {},
   "outputs": [
    {
     "data": {
      "text/html": [
       "<div>\n",
       "<style scoped>\n",
       "    .dataframe tbody tr th:only-of-type {\n",
       "        vertical-align: middle;\n",
       "    }\n",
       "\n",
       "    .dataframe tbody tr th {\n",
       "        vertical-align: top;\n",
       "    }\n",
       "\n",
       "    .dataframe thead th {\n",
       "        text-align: right;\n",
       "    }\n",
       "</style>\n",
       "<table border=\"1\" class=\"dataframe\">\n",
       "  <thead>\n",
       "    <tr style=\"text-align: right;\">\n",
       "      <th></th>\n",
       "      <th>id</th>\n",
       "      <th>user</th>\n",
       "      <th>username</th>\n",
       "      <th>created_at</th>\n",
       "      <th>text</th>\n",
       "      <th>lang</th>\n",
       "      <th>label</th>\n",
       "      <th>retweet_count</th>\n",
       "      <th>favorite_count</th>\n",
       "    </tr>\n",
       "  </thead>\n",
       "  <tbody>\n",
       "    <tr>\n",
       "      <th>0</th>\n",
       "      <td>1507372540703952898</td>\n",
       "      <td>880480631108644864</td>\n",
       "      <td>RepRalphNorman</td>\n",
       "      <td>Fri Mar 25 15:03:13 +0000 2022</td>\n",
       "      <td>Energy independence is paramount to our nation...</td>\n",
       "      <td>en</td>\n",
       "      <td>R</td>\n",
       "      <td>9</td>\n",
       "      <td>22</td>\n",
       "    </tr>\n",
       "    <tr>\n",
       "      <th>1</th>\n",
       "      <td>1507006626665938950</td>\n",
       "      <td>880480631108644864</td>\n",
       "      <td>RepRalphNorman</td>\n",
       "      <td>Thu Mar 24 14:49:13 +0000 2022</td>\n",
       "      <td>Peace through strength keeps the United States...</td>\n",
       "      <td>en</td>\n",
       "      <td>R</td>\n",
       "      <td>106</td>\n",
       "      <td>663</td>\n",
       "    </tr>\n",
       "    <tr>\n",
       "      <th>2</th>\n",
       "      <td>1506373434896494594</td>\n",
       "      <td>880480631108644864</td>\n",
       "      <td>RepRalphNorman</td>\n",
       "      <td>Tue Mar 22 20:53:08 +0000 2022</td>\n",
       "      <td>I could not have been more proud to have prese...</td>\n",
       "      <td>en</td>\n",
       "      <td>R</td>\n",
       "      <td>2</td>\n",
       "      <td>5</td>\n",
       "    </tr>\n",
       "    <tr>\n",
       "      <th>3</th>\n",
       "      <td>1506258678214799362</td>\n",
       "      <td>880480631108644864</td>\n",
       "      <td>RepRalphNorman</td>\n",
       "      <td>Tue Mar 22 13:17:08 +0000 2022</td>\n",
       "      <td>Men should not be competing in women’s sports ...</td>\n",
       "      <td>en</td>\n",
       "      <td>R</td>\n",
       "      <td>119</td>\n",
       "      <td>645</td>\n",
       "    </tr>\n",
       "    <tr>\n",
       "      <th>4</th>\n",
       "      <td>1504467865189208067</td>\n",
       "      <td>880480631108644864</td>\n",
       "      <td>RepRalphNorman</td>\n",
       "      <td>Thu Mar 17 14:41:05 +0000 2022</td>\n",
       "      <td>Biden is so hellbent on re-entering an Iran nu...</td>\n",
       "      <td>en</td>\n",
       "      <td>R</td>\n",
       "      <td>12</td>\n",
       "      <td>20</td>\n",
       "    </tr>\n",
       "  </tbody>\n",
       "</table>\n",
       "</div>"
      ],
      "text/plain": [
       "                    id                user        username  \\\n",
       "0  1507372540703952898  880480631108644864  RepRalphNorman   \n",
       "1  1507006626665938950  880480631108644864  RepRalphNorman   \n",
       "2  1506373434896494594  880480631108644864  RepRalphNorman   \n",
       "3  1506258678214799362  880480631108644864  RepRalphNorman   \n",
       "4  1504467865189208067  880480631108644864  RepRalphNorman   \n",
       "\n",
       "                       created_at  \\\n",
       "0  Fri Mar 25 15:03:13 +0000 2022   \n",
       "1  Thu Mar 24 14:49:13 +0000 2022   \n",
       "2  Tue Mar 22 20:53:08 +0000 2022   \n",
       "3  Tue Mar 22 13:17:08 +0000 2022   \n",
       "4  Thu Mar 17 14:41:05 +0000 2022   \n",
       "\n",
       "                                                text lang label retweet_count  \\\n",
       "0  Energy independence is paramount to our nation...   en     R             9   \n",
       "1  Peace through strength keeps the United States...   en     R           106   \n",
       "2  I could not have been more proud to have prese...   en     R             2   \n",
       "3  Men should not be competing in women’s sports ...   en     R           119   \n",
       "4  Biden is so hellbent on re-entering an Iran nu...   en     R            12   \n",
       "\n",
       "  favorite_count  \n",
       "0             22  \n",
       "1            663  \n",
       "2              5  \n",
       "3            645  \n",
       "4             20  "
      ]
     },
     "execution_count": 6,
     "metadata": {},
     "output_type": "execute_result"
    }
   ],
   "source": [
    "df.head()"
   ]
  },
  {
   "cell_type": "code",
   "execution_count": 7,
   "metadata": {},
   "outputs": [
    {
     "data": {
      "text/plain": [
       "array(['R', 'D', 'I'], dtype=object)"
      ]
     },
     "execution_count": 7,
     "metadata": {},
     "output_type": "execute_result"
    }
   ],
   "source": [
    "df.label.unique()"
   ]
  },
  {
   "cell_type": "code",
   "execution_count": 8,
   "metadata": {},
   "outputs": [
    {
     "data": {
      "text/plain": [
       "array(['SenSanders', 'SenAngusKing'], dtype=object)"
      ]
     },
     "execution_count": 8,
     "metadata": {},
     "output_type": "execute_result"
    }
   ],
   "source": [
    "df[df['label']=='I'].username.unique()"
   ]
  },
  {
   "cell_type": "markdown",
   "metadata": {},
   "source": [
    "#### There are two members who are independent, but according to their political career, both will be considered as democrats as both have caucused with the Democratic Party "
   ]
  },
  {
   "cell_type": "code",
   "execution_count": 9,
   "metadata": {},
   "outputs": [],
   "source": [
    "df['label'] = df['label'].apply(lambda x: x.replace('I', 'D'))"
   ]
  },
  {
   "cell_type": "markdown",
   "metadata": {},
   "source": [
    "#### First of all, lets transform twitter date to python datetime"
   ]
  },
  {
   "cell_type": "code",
   "execution_count": 10,
   "metadata": {},
   "outputs": [],
   "source": [
    "def twitter_date_to_datetime(twitter_date):\n",
    "    return datetime.strptime(twitter_date,'%a %b %d %H:%M:%S +0000 %Y')"
   ]
  },
  {
   "cell_type": "code",
   "execution_count": 11,
   "metadata": {},
   "outputs": [],
   "source": [
    "df['created_at'] = df['created_at'].apply(twitter_date_to_datetime)"
   ]
  },
  {
   "cell_type": "code",
   "execution_count": 12,
   "metadata": {},
   "outputs": [
    {
     "data": {
      "text/html": [
       "<div>\n",
       "<style scoped>\n",
       "    .dataframe tbody tr th:only-of-type {\n",
       "        vertical-align: middle;\n",
       "    }\n",
       "\n",
       "    .dataframe tbody tr th {\n",
       "        vertical-align: top;\n",
       "    }\n",
       "\n",
       "    .dataframe thead th {\n",
       "        text-align: right;\n",
       "    }\n",
       "</style>\n",
       "<table border=\"1\" class=\"dataframe\">\n",
       "  <thead>\n",
       "    <tr style=\"text-align: right;\">\n",
       "      <th></th>\n",
       "      <th>id</th>\n",
       "      <th>user</th>\n",
       "      <th>username</th>\n",
       "      <th>created_at</th>\n",
       "      <th>text</th>\n",
       "      <th>lang</th>\n",
       "      <th>label</th>\n",
       "      <th>retweet_count</th>\n",
       "      <th>favorite_count</th>\n",
       "    </tr>\n",
       "  </thead>\n",
       "  <tbody>\n",
       "    <tr>\n",
       "      <th>0</th>\n",
       "      <td>1507372540703952898</td>\n",
       "      <td>880480631108644864</td>\n",
       "      <td>RepRalphNorman</td>\n",
       "      <td>2022-03-25 15:03:13</td>\n",
       "      <td>Energy independence is paramount to our nation...</td>\n",
       "      <td>en</td>\n",
       "      <td>R</td>\n",
       "      <td>9</td>\n",
       "      <td>22</td>\n",
       "    </tr>\n",
       "    <tr>\n",
       "      <th>1</th>\n",
       "      <td>1507006626665938950</td>\n",
       "      <td>880480631108644864</td>\n",
       "      <td>RepRalphNorman</td>\n",
       "      <td>2022-03-24 14:49:13</td>\n",
       "      <td>Peace through strength keeps the United States...</td>\n",
       "      <td>en</td>\n",
       "      <td>R</td>\n",
       "      <td>106</td>\n",
       "      <td>663</td>\n",
       "    </tr>\n",
       "    <tr>\n",
       "      <th>2</th>\n",
       "      <td>1506373434896494594</td>\n",
       "      <td>880480631108644864</td>\n",
       "      <td>RepRalphNorman</td>\n",
       "      <td>2022-03-22 20:53:08</td>\n",
       "      <td>I could not have been more proud to have prese...</td>\n",
       "      <td>en</td>\n",
       "      <td>R</td>\n",
       "      <td>2</td>\n",
       "      <td>5</td>\n",
       "    </tr>\n",
       "    <tr>\n",
       "      <th>3</th>\n",
       "      <td>1506258678214799362</td>\n",
       "      <td>880480631108644864</td>\n",
       "      <td>RepRalphNorman</td>\n",
       "      <td>2022-03-22 13:17:08</td>\n",
       "      <td>Men should not be competing in women’s sports ...</td>\n",
       "      <td>en</td>\n",
       "      <td>R</td>\n",
       "      <td>119</td>\n",
       "      <td>645</td>\n",
       "    </tr>\n",
       "    <tr>\n",
       "      <th>4</th>\n",
       "      <td>1504467865189208067</td>\n",
       "      <td>880480631108644864</td>\n",
       "      <td>RepRalphNorman</td>\n",
       "      <td>2022-03-17 14:41:05</td>\n",
       "      <td>Biden is so hellbent on re-entering an Iran nu...</td>\n",
       "      <td>en</td>\n",
       "      <td>R</td>\n",
       "      <td>12</td>\n",
       "      <td>20</td>\n",
       "    </tr>\n",
       "  </tbody>\n",
       "</table>\n",
       "</div>"
      ],
      "text/plain": [
       "                    id                user        username  \\\n",
       "0  1507372540703952898  880480631108644864  RepRalphNorman   \n",
       "1  1507006626665938950  880480631108644864  RepRalphNorman   \n",
       "2  1506373434896494594  880480631108644864  RepRalphNorman   \n",
       "3  1506258678214799362  880480631108644864  RepRalphNorman   \n",
       "4  1504467865189208067  880480631108644864  RepRalphNorman   \n",
       "\n",
       "           created_at                                               text lang  \\\n",
       "0 2022-03-25 15:03:13  Energy independence is paramount to our nation...   en   \n",
       "1 2022-03-24 14:49:13  Peace through strength keeps the United States...   en   \n",
       "2 2022-03-22 20:53:08  I could not have been more proud to have prese...   en   \n",
       "3 2022-03-22 13:17:08  Men should not be competing in women’s sports ...   en   \n",
       "4 2022-03-17 14:41:05  Biden is so hellbent on re-entering an Iran nu...   en   \n",
       "\n",
       "  label retweet_count favorite_count  \n",
       "0     R             9             22  \n",
       "1     R           106            663  \n",
       "2     R             2              5  \n",
       "3     R           119            645  \n",
       "4     R            12             20  "
      ]
     },
     "execution_count": 12,
     "metadata": {},
     "output_type": "execute_result"
    }
   ],
   "source": [
    "df.head()"
   ]
  },
  {
   "cell_type": "markdown",
   "metadata": {},
   "source": [
    "#### Now let's check out the length of tweets"
   ]
  },
  {
   "cell_type": "code",
   "execution_count": 13,
   "metadata": {},
   "outputs": [],
   "source": [
    "df['length'] = df['text'].apply(lambda x: len(x))"
   ]
  },
  {
   "cell_type": "code",
   "execution_count": 14,
   "metadata": {},
   "outputs": [
    {
     "data": {
      "text/html": [
       "<div>\n",
       "<style scoped>\n",
       "    .dataframe tbody tr th:only-of-type {\n",
       "        vertical-align: middle;\n",
       "    }\n",
       "\n",
       "    .dataframe tbody tr th {\n",
       "        vertical-align: top;\n",
       "    }\n",
       "\n",
       "    .dataframe thead th {\n",
       "        text-align: right;\n",
       "    }\n",
       "</style>\n",
       "<table border=\"1\" class=\"dataframe\">\n",
       "  <thead>\n",
       "    <tr style=\"text-align: right;\">\n",
       "      <th></th>\n",
       "      <th>id</th>\n",
       "      <th>user</th>\n",
       "      <th>username</th>\n",
       "      <th>created_at</th>\n",
       "      <th>text</th>\n",
       "      <th>lang</th>\n",
       "      <th>label</th>\n",
       "      <th>retweet_count</th>\n",
       "      <th>favorite_count</th>\n",
       "      <th>length</th>\n",
       "    </tr>\n",
       "  </thead>\n",
       "  <tbody>\n",
       "    <tr>\n",
       "      <th>0</th>\n",
       "      <td>1507372540703952898</td>\n",
       "      <td>880480631108644864</td>\n",
       "      <td>RepRalphNorman</td>\n",
       "      <td>2022-03-25 15:03:13</td>\n",
       "      <td>Energy independence is paramount to our nation...</td>\n",
       "      <td>en</td>\n",
       "      <td>R</td>\n",
       "      <td>9</td>\n",
       "      <td>22</td>\n",
       "      <td>115</td>\n",
       "    </tr>\n",
       "    <tr>\n",
       "      <th>1</th>\n",
       "      <td>1507006626665938950</td>\n",
       "      <td>880480631108644864</td>\n",
       "      <td>RepRalphNorman</td>\n",
       "      <td>2022-03-24 14:49:13</td>\n",
       "      <td>Peace through strength keeps the United States...</td>\n",
       "      <td>en</td>\n",
       "      <td>R</td>\n",
       "      <td>106</td>\n",
       "      <td>663</td>\n",
       "      <td>52</td>\n",
       "    </tr>\n",
       "    <tr>\n",
       "      <th>2</th>\n",
       "      <td>1506373434896494594</td>\n",
       "      <td>880480631108644864</td>\n",
       "      <td>RepRalphNorman</td>\n",
       "      <td>2022-03-22 20:53:08</td>\n",
       "      <td>I could not have been more proud to have prese...</td>\n",
       "      <td>en</td>\n",
       "      <td>R</td>\n",
       "      <td>2</td>\n",
       "      <td>5</td>\n",
       "      <td>140</td>\n",
       "    </tr>\n",
       "    <tr>\n",
       "      <th>3</th>\n",
       "      <td>1506258678214799362</td>\n",
       "      <td>880480631108644864</td>\n",
       "      <td>RepRalphNorman</td>\n",
       "      <td>2022-03-22 13:17:08</td>\n",
       "      <td>Men should not be competing in women’s sports ...</td>\n",
       "      <td>en</td>\n",
       "      <td>R</td>\n",
       "      <td>119</td>\n",
       "      <td>645</td>\n",
       "      <td>95</td>\n",
       "    </tr>\n",
       "    <tr>\n",
       "      <th>4</th>\n",
       "      <td>1504467865189208067</td>\n",
       "      <td>880480631108644864</td>\n",
       "      <td>RepRalphNorman</td>\n",
       "      <td>2022-03-17 14:41:05</td>\n",
       "      <td>Biden is so hellbent on re-entering an Iran nu...</td>\n",
       "      <td>en</td>\n",
       "      <td>R</td>\n",
       "      <td>12</td>\n",
       "      <td>20</td>\n",
       "      <td>140</td>\n",
       "    </tr>\n",
       "  </tbody>\n",
       "</table>\n",
       "</div>"
      ],
      "text/plain": [
       "                    id                user        username  \\\n",
       "0  1507372540703952898  880480631108644864  RepRalphNorman   \n",
       "1  1507006626665938950  880480631108644864  RepRalphNorman   \n",
       "2  1506373434896494594  880480631108644864  RepRalphNorman   \n",
       "3  1506258678214799362  880480631108644864  RepRalphNorman   \n",
       "4  1504467865189208067  880480631108644864  RepRalphNorman   \n",
       "\n",
       "           created_at                                               text lang  \\\n",
       "0 2022-03-25 15:03:13  Energy independence is paramount to our nation...   en   \n",
       "1 2022-03-24 14:49:13  Peace through strength keeps the United States...   en   \n",
       "2 2022-03-22 20:53:08  I could not have been more proud to have prese...   en   \n",
       "3 2022-03-22 13:17:08  Men should not be competing in women’s sports ...   en   \n",
       "4 2022-03-17 14:41:05  Biden is so hellbent on re-entering an Iran nu...   en   \n",
       "\n",
       "  label retweet_count favorite_count  length  \n",
       "0     R             9             22     115  \n",
       "1     R           106            663      52  \n",
       "2     R             2              5     140  \n",
       "3     R           119            645      95  \n",
       "4     R            12             20     140  "
      ]
     },
     "execution_count": 14,
     "metadata": {},
     "output_type": "execute_result"
    }
   ],
   "source": [
    "df.head()"
   ]
  },
  {
   "cell_type": "code",
   "execution_count": 15,
   "metadata": {},
   "outputs": [],
   "source": [
    "df_democrats = df[df['label']=='D']\n",
    "df_republicans = df[df['label']=='R']"
   ]
  },
  {
   "cell_type": "code",
   "execution_count": 16,
   "metadata": {},
   "outputs": [
    {
     "data": {
      "image/png": "[encoded data removed]",
      "text/plain": [
       "<Figure size 1296x432 with 1 Axes>"
      ]
     },
     "metadata": {
      "needs_background": "light"
     },
     "output_type": "display_data"
    }
   ],
   "source": [
    "plt.rcParams['figure.figsize'] = (18, 6)\n",
    "bins = 150\n",
    "plt.hist([df_republicans['length'], df_democrats['length']], alpha = 0.6, bins=bins, \n",
    "         label=['Republicans', 'Democrats'], color = ['r','b'])\n",
    "plt.xlabel('Length')\n",
    "plt.ylabel('Count')\n",
    "plt.legend(loc='upper right')\n",
    "plt.xlim(0,150)\n",
    "plt.grid()\n",
    "plt.show()"
   ]
  },
  {
   "cell_type": "markdown",
   "metadata": {},
   "source": [
    "#### Characters in tweets"
   ]
  },
  {
   "cell_type": "code",
   "execution_count": 17,
   "metadata": {},
   "outputs": [
    {
     "data": {
      "image/png": "[encoded data removed]",
      "text/plain": [
       "<Figure size 1080x360 with 2 Axes>"
      ]
     },
     "metadata": {
      "needs_background": "light"
     },
     "output_type": "display_data"
    }
   ],
   "source": [
    "fig,(ax1,ax2)=plt.subplots(1,2,figsize=(15,5))\n",
    "tweet_len_r=df_republicans['text'].str.len()\n",
    "ax1.hist(tweet_len_r, color='r')\n",
    "ax1.set_title('Republicans')\n",
    "tweet_len_d=df_democrats['text'].str.len()\n",
    "ax2.hist(tweet_len_d, color='b')\n",
    "ax2.set_title('Democrats')\n",
    "fig.suptitle('Characters in tweets')\n",
    "plt.show()"
   ]
  },
  {
   "cell_type": "markdown",
   "metadata": {},
   "source": [
    "#### Temporal distribution of tweets by month"
   ]
  },
  {
   "cell_type": "code",
   "execution_count": 18,
   "metadata": {},
   "outputs": [
    {
     "data": {
      "image/png": "[encoded data removed]",
      "text/plain": [
       "<Figure size 1296x432 with 1 Axes>"
      ]
     },
     "metadata": {
      "needs_background": "light"
     },
     "output_type": "display_data"
    }
   ],
   "source": [
    "fig, ax = plt.subplots(figsize=(18, 6))\n",
    "\n",
    "for label in df.label.unique():\n",
    "    df_temp = df[df['label'] == label].copy()\n",
    "    df_temp['date'] = pd.to_datetime(df_temp['created_at'].dt.strftime('%m/%Y'))\n",
    "    df_temp = df_temp.groupby(df_temp['date']).size()\n",
    "    color = 'r' if label == 'R' else 'b'\n",
    "    df_temp.plot(label=label, ax=ax, color=color)\n",
    "\n",
    "ax.set_title('Number of tweets published per month')\n",
    "ax.legend();"
   ]
  },
  {
   "cell_type": "markdown",
   "metadata": {},
   "source": [
    "#### Number of words in tweets"
   ]
  },
  {
   "cell_type": "code",
   "execution_count": 19,
   "metadata": {},
   "outputs": [
    {
     "data": {
      "image/png": "[encoded data removed]",
      "text/plain": [
       "<Figure size 1080x360 with 2 Axes>"
      ]
     },
     "metadata": {
      "needs_background": "light"
     },
     "output_type": "display_data"
    }
   ],
   "source": [
    "fig,(ax1,ax2)=plt.subplots(1,2,figsize=(15,5))\n",
    "tweet_len_r=df_republicans['text'].str.split().map(lambda x: len(x))\n",
    "ax1.hist(tweet_len_r, color='r')\n",
    "ax1.set_title('Republicans')\n",
    "tweet_len_d=df_democrats['text'].str.split().map(lambda x: len(x))\n",
    "ax2.hist(tweet_len_d, color='b')\n",
    "ax2.set_title('Democrats')\n",
    "fig.suptitle('Number of words in tweets')\n",
    "plt.show()"
   ]
  },
  {
   "cell_type": "markdown",
   "metadata": {},
   "source": [
    "#### Average word lenght in tweets"
   ]
  },
  {
   "cell_type": "code",
   "execution_count": 20,
   "metadata": {},
   "outputs": [
    {
     "name": "stderr",
     "output_type": "stream",
     "text": [
      "/home/dsc/anaconda3/lib/python3.8/site-packages/seaborn/distributions.py:2619: FutureWarning: `distplot` is a deprecated function and will be removed in a future version. Please adapt your code to use either `displot` (a figure-level function with similar flexibility) or `histplot` (an axes-level function for histograms).\n",
      "  warnings.warn(msg, FutureWarning)\n",
      "/home/dsc/anaconda3/lib/python3.8/site-packages/seaborn/distributions.py:2619: FutureWarning: `distplot` is a deprecated function and will be removed in a future version. Please adapt your code to use either `displot` (a figure-level function with similar flexibility) or `histplot` (an axes-level function for histograms).\n",
      "  warnings.warn(msg, FutureWarning)\n"
     ]
    },
    {
     "data": {
      "image/png": "[encoded data removed]",
      "text/plain": [
       "<Figure size 1080x360 with 2 Axes>"
      ]
     },
     "metadata": {
      "needs_background": "light"
     },
     "output_type": "display_data"
    }
   ],
   "source": [
    "fig,(ax1,ax2)=plt.subplots(1,2,figsize=(15,5))\n",
    "word=df_republicans['text'].str.split().apply(lambda x : [len(i) for i in x])\n",
    "sns.distplot(word.map(lambda x: np.mean(x)),ax=ax1,color='r')\n",
    "ax1.set_title('Republicans')\n",
    "ax1.set(xlim=(0, 20))\n",
    "word=df_democrats['text'].str.split().apply(lambda x : [len(i) for i in x])\n",
    "sns.distplot(word.map(lambda x: np.mean(x)),ax=ax2,color='b')\n",
    "ax2.set_title('Democrats')\n",
    "ax2.set(xlim=(0, 20))\n",
    "fig.suptitle('Average word lenght in tweets');"
   ]
  },
  {
   "cell_type": "code",
   "execution_count": 21,
   "metadata": {},
   "outputs": [],
   "source": [
    "#pending add as argument the ID or name of the person\n",
    "def create_list_of_words(label):\n",
    "    list_of_words=[]\n",
    "    \n",
    "    for x in df[df['label']==label]['text'].str.split():\n",
    "        for i in x:\n",
    "            list_of_words.append(i)\n",
    "    return list_of_words"
   ]
  },
  {
   "cell_type": "code",
   "execution_count": 23,
   "metadata": {},
   "outputs": [
    {
     "data": {
      "text/plain": [
       "['Energy',\n",
       " 'independence',\n",
       " 'is',\n",
       " 'paramount',\n",
       " 'to',\n",
       " 'our',\n",
       " 'national',\n",
       " 'security.',\n",
       " 'Let’s',\n",
       " 'unleash',\n",
       " 'American',\n",
       " 'energy',\n",
       " 'and',\n",
       " 'protect',\n",
       " 'our',\n",
       " 'country!',\n",
       " 'Peace',\n",
       " 'through',\n",
       " 'strength',\n",
       " 'keeps']"
      ]
     },
     "execution_count": 23,
     "metadata": {},
     "output_type": "execute_result"
    }
   ],
   "source": [
    "create_list_of_words(label='R')[:20]"
   ]
  },
  {
   "cell_type": "markdown",
   "metadata": {},
   "source": [
    "#### Punctuation and strange characters in tweets"
   ]
  },
  {
   "cell_type": "code",
   "execution_count": 24,
   "metadata": {},
   "outputs": [
    {
     "data": {
      "image/png": "[encoded data removed]",
      "text/plain": [
       "<Figure size 1296x432 with 1 Axes>"
      ]
     },
     "metadata": {
      "needs_background": "light"
     },
     "output_type": "display_data"
    }
   ],
   "source": [
    "import string\n",
    "\n",
    "plt.figure(figsize=(18,6))\n",
    "list_of_words = create_list_of_words(label='R') + create_list_of_words(label='D')\n",
    "\n",
    "punctuation = string.punctuation\n",
    "special_characters = []\n",
    "\n",
    "for word in list_of_words:\n",
    "    if word in punctuation:\n",
    "        special_characters.append(word)\n",
    "        \n",
    "dict_count_characters = {i:special_characters.count(i) for i in special_characters}\n",
    "dict_count_characters_ordered = sorted(dict_count_characters.items(), key=lambda x: x[1], reverse=True)\n",
    "\n",
    "characters = [i[0] for i in dict_count_characters_ordered]\n",
    "count = [i[1] for i in dict_count_characters_ordered]\n",
    "\n",
    "sns.barplot(x=count,y=characters);"
   ]
  },
  {
   "cell_type": "markdown",
   "metadata": {},
   "source": [
    "#### Most common words in tweets"
   ]
  },
  {
   "cell_type": "code",
   "execution_count": null,
   "metadata": {},
   "outputs": [],
   "source": [
    "list_of_words=create_list_of_words()\n",
    "top_used_words = {i:list_of_words.count(i) for i in list_of_words}\n",
    "top_used_words_ordered = sorted(top_used_words.items(), key=lambda x: x[1], reverse=True)\n",
    "top_used_words_ordered[:5]"
   ]
  },
  {
   "cell_type": "code",
   "execution_count": null,
   "metadata": {},
   "outputs": [],
   "source": [
    "words = [i[0] for i in top_used_words_ordered[:20]]\n",
    "count = [i[1] for i in top_used_words_ordered[:20]]\n",
    "sns.barplot(x=count,y=words);"
   ]
  },
  {
   "cell_type": "markdown",
   "metadata": {},
   "source": [
    "#### Most common words in tweets which are not stop words"
   ]
  },
  {
   "cell_type": "code",
   "execution_count": 19,
   "metadata": {
    "scrolled": true
   },
   "outputs": [
    {
     "name": "stderr",
     "output_type": "stream",
     "text": [
      "[nltk_data] Downloading package stopwords to /home/dsc/nltk_data...\n",
      "[nltk_data]   Unzipping corpora/stopwords.zip.\n"
     ]
    },
    {
     "data": {
      "text/plain": [
       "<AxesSubplot:>"
      ]
     },
     "execution_count": 19,
     "metadata": {},
     "output_type": "execute_result"
    },
    {
     "data": {
      "image/png": "[encoded data removed]",
      "text/plain": [
       "<Figure size 1152x360 with 1 Axes>"
      ]
     },
     "metadata": {
      "needs_background": "light"
     },
     "output_type": "display_data"
    }
   ],
   "source": [
    "import nltk\n",
    "from nltk.corpus import stopwords\n",
    "nltk.download('stopwords')\n",
    "stop=set(stopwords.words('english'))\n",
    "\n",
    "words = []\n",
    "count = []\n",
    "for word, number in top_used_words_ordered:\n",
    "    if len(words) > 20:\n",
    "        break\n",
    "    elif (word not in stop):\n",
    "        words.append(word)\n",
    "        count.append(number)\n",
    "\n",
    "plt.figure(figsize=(16,5))\n",
    "sns.barplot(x=count,y=words)"
   ]
  },
  {
   "cell_type": "markdown",
   "metadata": {},
   "source": [
    "#### Most common pairs of words in tweets"
   ]
  },
  {
   "cell_type": "code",
   "execution_count": 20,
   "metadata": {},
   "outputs": [],
   "source": [
    "def create_list_of_bigrams():\n",
    "    list_of_bigrams=[]\n",
    "    \n",
    "    for x in df['text'].str.split():\n",
    "        for i in range(len(x)-1):\n",
    "            list_of_bigrams.append(tuple(x[i:i+2]))\n",
    "    return list_of_bigrams"
   ]
  },
  {
   "cell_type": "code",
   "execution_count": 21,
   "metadata": {},
   "outputs": [],
   "source": [
    "list_of_bigrams = create_list_of_bigrams()"
   ]
  },
  {
   "cell_type": "code",
   "execution_count": 22,
   "metadata": {},
   "outputs": [
    {
     "data": {
      "text/plain": [
       "[(('for', 'the'), 88),\n",
       " (('of', 'the'), 69),\n",
       " (('in', 'the'), 57),\n",
       " (('for', 'your'), 56),\n",
       " (('to', 'the'), 54)]"
      ]
     },
     "execution_count": 22,
     "metadata": {},
     "output_type": "execute_result"
    }
   ],
   "source": [
    "top_used_bigrams = {i:list_of_bigrams.count(i) for i in list_of_bigrams}\n",
    "top_used_bigrams_ordered = sorted(top_used_bigrams.items(), key=lambda x: x[1], reverse=True)\n",
    "top_used_bigrams_ordered[:5]"
   ]
  },
  {
   "cell_type": "code",
   "execution_count": 23,
   "metadata": {},
   "outputs": [],
   "source": [
    "#transform the bigrams from tuple to string\n",
    "for i in range(len(top_used_bigrams_ordered)):\n",
    "    top_used_bigrams_ordered[i] = (\" \".join(top_used_bigrams_ordered[i][0]), top_used_bigrams_ordered[i][1])"
   ]
  },
  {
   "cell_type": "code",
   "execution_count": 24,
   "metadata": {},
   "outputs": [
    {
     "data": {
      "text/plain": [
       "[('for the', 88),\n",
       " ('of the', 69),\n",
       " ('in the', 57),\n",
       " ('for your', 56),\n",
       " ('to the', 54),\n",
       " ('at the', 54),\n",
       " ('a great', 35),\n",
       " ('to be', 33),\n",
       " ('with my', 33),\n",
       " ('with the', 32),\n",
       " ('Thanks for', 29),\n",
       " ('my support', 28),\n",
       " ('Thank you', 28),\n",
       " ('Thanks to', 26),\n",
       " ('support to', 26),\n",
       " ('to my', 25),\n",
       " ('All my', 25),\n",
       " ('to all', 24),\n",
       " ('to play', 24),\n",
       " ('I have', 22)]"
      ]
     },
     "execution_count": 24,
     "metadata": {},
     "output_type": "execute_result"
    }
   ],
   "source": [
    "top_used_bigrams_ordered[:20]"
   ]
  },
  {
   "cell_type": "code",
   "execution_count": 25,
   "metadata": {},
   "outputs": [
    {
     "data": {
      "text/plain": [
       "<AxesSubplot:>"
      ]
     },
     "execution_count": 25,
     "metadata": {},
     "output_type": "execute_result"
    },
    {
     "data": {
      "image/png": "[encoded data removed]",
      "text/plain": [
       "<Figure size 1296x432 with 1 Axes>"
      ]
     },
     "metadata": {
      "needs_background": "light"
     },
     "output_type": "display_data"
    }
   ],
   "source": [
    "x,y=map(list,zip(*top_used_bigrams_ordered[:20]))\n",
    "sns.barplot(x=y,y=x)"
   ]
  },
  {
   "cell_type": "markdown",
   "metadata": {},
   "source": [
    "#### I suspect that there are gonna be URLs"
   ]
  },
  {
   "cell_type": "code",
   "execution_count": 28,
   "metadata": {},
   "outputs": [
    {
     "data": {
      "text/html": [
       "<div>\n",
       "<style scoped>\n",
       "    .dataframe tbody tr th:only-of-type {\n",
       "        vertical-align: middle;\n",
       "    }\n",
       "\n",
       "    .dataframe tbody tr th {\n",
       "        vertical-align: top;\n",
       "    }\n",
       "\n",
       "    .dataframe thead th {\n",
       "        text-align: right;\n",
       "    }\n",
       "</style>\n",
       "<table border=\"1\" class=\"dataframe\">\n",
       "  <thead>\n",
       "    <tr style=\"text-align: right;\">\n",
       "      <th></th>\n",
       "      <th>created_at</th>\n",
       "      <th>id</th>\n",
       "      <th>text</th>\n",
       "      <th>user</th>\n",
       "      <th>lang</th>\n",
       "      <th>length</th>\n",
       "    </tr>\n",
       "  </thead>\n",
       "  <tbody>\n",
       "    <tr>\n",
       "      <th>0</th>\n",
       "      <td>2022-02-08 15:06:11</td>\n",
       "      <td>1.491066e+18</td>\n",
       "      <td>Hey all @FanJoltLive is launching today w/give...</td>\n",
       "      <td>344634424.0</td>\n",
       "      <td>en</td>\n",
       "      <td>144</td>\n",
       "    </tr>\n",
       "    <tr>\n",
       "      <th>1</th>\n",
       "      <td>2022-02-03 16:16:15</td>\n",
       "      <td>1.489272e+18</td>\n",
       "      <td>Roger. You book the practice court? Or is it m...</td>\n",
       "      <td>344634424.0</td>\n",
       "      <td>en</td>\n",
       "      <td>131</td>\n",
       "    </tr>\n",
       "    <tr>\n",
       "      <th>2</th>\n",
       "      <td>2022-02-02 18:46:22</td>\n",
       "      <td>1.488947e+18</td>\n",
       "      <td>Thanks to the fans and to those that have supp...</td>\n",
       "      <td>344634424.0</td>\n",
       "      <td>en</td>\n",
       "      <td>140</td>\n",
       "    </tr>\n",
       "    <tr>\n",
       "      <th>4</th>\n",
       "      <td>2022-01-16 04:34:24</td>\n",
       "      <td>1.482572e+18</td>\n",
       "      <td>Chris, all the best to you and get well! And I...</td>\n",
       "      <td>344634424.0</td>\n",
       "      <td>en</td>\n",
       "      <td>105</td>\n",
       "    </tr>\n",
       "    <tr>\n",
       "      <th>5</th>\n",
       "      <td>2022-01-15 05:45:43</td>\n",
       "      <td>1.482227e+18</td>\n",
       "      <td>This year, @Kia_Worldwide will turn ocean wast...</td>\n",
       "      <td>344634424.0</td>\n",
       "      <td>en</td>\n",
       "      <td>139</td>\n",
       "    </tr>\n",
       "    <tr>\n",
       "      <th>...</th>\n",
       "      <td>...</td>\n",
       "      <td>...</td>\n",
       "      <td>...</td>\n",
       "      <td>...</td>\n",
       "      <td>...</td>\n",
       "      <td>...</td>\n",
       "    </tr>\n",
       "    <tr>\n",
       "      <th>2565</th>\n",
       "      <td>2011-08-06 18:24:23</td>\n",
       "      <td>9.990869e+16</td>\n",
       "      <td>Second training day at Montreal!! Today with m...</td>\n",
       "      <td>344634424.0</td>\n",
       "      <td>en</td>\n",
       "      <td>90</td>\n",
       "    </tr>\n",
       "    <tr>\n",
       "      <th>2567</th>\n",
       "      <td>2011-08-05 23:08:19</td>\n",
       "      <td>9.961776e+16</td>\n",
       "      <td>We are going to have dinner at a Japanese rest...</td>\n",
       "      <td>344634424.0</td>\n",
       "      <td>en</td>\n",
       "      <td>126</td>\n",
       "    </tr>\n",
       "    <tr>\n",
       "      <th>2569</th>\n",
       "      <td>2011-08-05 20:10:04</td>\n",
       "      <td>9.957290e+16</td>\n",
       "      <td>Great training with Alex Bogomolov Jr! Today f...</td>\n",
       "      <td>344634424.0</td>\n",
       "      <td>en</td>\n",
       "      <td>105</td>\n",
       "    </tr>\n",
       "    <tr>\n",
       "      <th>2571</th>\n",
       "      <td>2011-08-05 04:32:47</td>\n",
       "      <td>9.933703e+16</td>\n",
       "      <td>Again at court! Sunny day to play tennis at Mo...</td>\n",
       "      <td>344634424.0</td>\n",
       "      <td>en</td>\n",
       "      <td>74</td>\n",
       "    </tr>\n",
       "    <tr>\n",
       "      <th>2573</th>\n",
       "      <td>2011-08-04 21:21:56</td>\n",
       "      <td>9.922860e+16</td>\n",
       "      <td>We have arrived to Montreal! Going to the hote...</td>\n",
       "      <td>344634424.0</td>\n",
       "      <td>en</td>\n",
       "      <td>139</td>\n",
       "    </tr>\n",
       "  </tbody>\n",
       "</table>\n",
       "<p>708 rows × 6 columns</p>\n",
       "</div>"
      ],
      "text/plain": [
       "              created_at            id  \\\n",
       "0    2022-02-08 15:06:11  1.491066e+18   \n",
       "1    2022-02-03 16:16:15  1.489272e+18   \n",
       "2    2022-02-02 18:46:22  1.488947e+18   \n",
       "4    2022-01-16 04:34:24  1.482572e+18   \n",
       "5    2022-01-15 05:45:43  1.482227e+18   \n",
       "...                  ...           ...   \n",
       "2565 2011-08-06 18:24:23  9.990869e+16   \n",
       "2567 2011-08-05 23:08:19  9.961776e+16   \n",
       "2569 2011-08-05 20:10:04  9.957290e+16   \n",
       "2571 2011-08-05 04:32:47  9.933703e+16   \n",
       "2573 2011-08-04 21:21:56  9.922860e+16   \n",
       "\n",
       "                                                   text         user lang  \\\n",
       "0     Hey all @FanJoltLive is launching today w/give...  344634424.0   en   \n",
       "1     Roger. You book the practice court? Or is it m...  344634424.0   en   \n",
       "2     Thanks to the fans and to those that have supp...  344634424.0   en   \n",
       "4     Chris, all the best to you and get well! And I...  344634424.0   en   \n",
       "5     This year, @Kia_Worldwide will turn ocean wast...  344634424.0   en   \n",
       "...                                                 ...          ...  ...   \n",
       "2565  Second training day at Montreal!! Today with m...  344634424.0   en   \n",
       "2567  We are going to have dinner at a Japanese rest...  344634424.0   en   \n",
       "2569  Great training with Alex Bogomolov Jr! Today f...  344634424.0   en   \n",
       "2571  Again at court! Sunny day to play tennis at Mo...  344634424.0   en   \n",
       "2573  We have arrived to Montreal! Going to the hote...  344634424.0   en   \n",
       "\n",
       "      length  \n",
       "0        144  \n",
       "1        131  \n",
       "2        140  \n",
       "4        105  \n",
       "5        139  \n",
       "...      ...  \n",
       "2565      90  \n",
       "2567     126  \n",
       "2569     105  \n",
       "2571      74  \n",
       "2573     139  \n",
       "\n",
       "[708 rows x 6 columns]"
      ]
     },
     "execution_count": 28,
     "metadata": {},
     "output_type": "execute_result"
    }
   ],
   "source": [
    "df.query('text.str.contains(\"http\")', engine='python')"
   ]
  },
  {
   "cell_type": "markdown",
   "metadata": {},
   "source": [
    "# WE HAVE TO CLEAN EVERYTHING, THIS IS FULL OF SHIT"
   ]
  }
 ],
 "metadata": {
  "kernelspec": {
   "display_name": "Python 3 (ipykernel)",
   "language": "python",
   "name": "python3"
  },
  "language_info": {
   "codemirror_mode": {
    "name": "ipython",
    "version": 3
   },
   "file_extension": ".py",
   "mimetype": "text/x-python",
   "name": "python",
   "nbconvert_exporter": "python",
   "pygments_lexer": "ipython3",
   "version": "3.8.11"
  }
 },
 "nbformat": 4,
 "nbformat_minor": 2
}
