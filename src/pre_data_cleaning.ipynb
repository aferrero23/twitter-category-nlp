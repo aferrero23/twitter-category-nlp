{
  "cells": [
    {
      "cell_type": "markdown",
      "metadata": {
        "id": "lJs7YPB4ZZBF"
      },
      "source": [
        "## TODO:\n",
        "    1- Add more comments to processes and functions\n",
        "    2- Modify code for more people\n",
        "    3- Add conclusions to plots"
      ]
    },
    {
      "cell_type": "markdown",
      "metadata": {
        "id": "wyEvoktEZZBP"
      },
      "source": [
        "#### Import libraries"
      ]
    },
    {
      "cell_type": "code",
      "execution_count": 1,
      "metadata": {
        "id": "94WKA01pZZBQ"
      },
      "outputs": [],
      "source": [
        "import pandas as pd\n",
        "import numpy as np\n",
        "import matplotlib.pyplot as plt\n",
        "from datetime import datetime\n",
        "import seaborn as sns\n",
        "import glob\n",
        "import re"
      ]
    },
    {
      "cell_type": "markdown",
      "metadata": {
        "id": "RIcLH9KlZZBT"
      },
      "source": [
        "#### Read file"
      ]
    },
    {
      "cell_type": "code",
      "execution_count": 10,
      "metadata": {
        "id": "1CTob_PEZZBU"
      },
      "outputs": [],
      "source": [
        "#list_data = glob.glob(\"../data/*\")\n",
        "#list_data.remove('../data/eeuu_member_of_congress.csv')\n",
        "#len(list_data)"
      ]
    },
    {
      "cell_type": "code",
      "source": [
        "df_eeuu_member_of_congress = pd.read_csv('https://raw.githubusercontent.com/alexferrero23/twitter-category-nlp/develop/data/eeuu_member_of_congress.csv', sep=';')"
      ],
      "metadata": {
        "id": "J_rDl7kKazWW"
      },
      "execution_count": 11,
      "outputs": []
    },
    {
      "cell_type": "code",
      "source": [
        "list_senators = df_eeuu_member_of_congress['Twitter'].dropna().tolist()\n",
        "list_senators = [x.replace('@', '') for x in list_senators]\n",
        "list_senators = [x.replace(' ', '') for x in list_senators]"
      ],
      "metadata": {
        "id": "O97pmwUwbF9b"
      },
      "execution_count": 36,
      "outputs": []
    },
    {
      "cell_type": "code",
      "execution_count": 30,
      "metadata": {
        "id": "ZRlF_03RZZBW"
      },
      "outputs": [],
      "source": [
        "#re.search('data/(.*).csv', list_data[0]).group(1)"
      ]
    },
    {
      "cell_type": "code",
      "source": [
        ""
      ],
      "metadata": {
        "id": "tPVpr6_Kd5eG"
      },
      "execution_count": null,
      "outputs": []
    },
    {
      "cell_type": "code",
      "execution_count": 37,
      "metadata": {
        "id": "oKKvTFFWZZBY",
        "outputId": "c4504d6f-a523-473f-92a1-f6ee1d11325a",
        "colab": {
          "base_uri": "https://localhost:8080/"
        }
      },
      "outputs": [
        {
          "output_type": "stream",
          "name": "stdout",
          "text": [
            "Error tokenizing data. C error: Buffer overflow caught - possible malformed input file.\n",
            "\n",
            "User RepRonKind was not read\n",
            "HTTP Error 404: Not Found\n",
            "User SenatorLeahy was not read\n",
            "Len of the dataframe: 938825\n"
          ]
        }
      ],
      "source": [
        "df = pd.DataFrame(columns=[\"id\", \"user\", \"username\", \"created_at\", \"text\", \"lang\", \"label\",\"retweet_count\", \"favorite_count\"])\n",
        "\n",
        "for user in list_senators:\n",
        "    try:\n",
        "        df_user = pd.read_csv(f\"https://raw.githubusercontent.com/alexferrero23/twitter-category-nlp/develop/data/{user}.csv\", sep=\"|\")\n",
        "        #user = re.search('data/(.*).csv', path).group(1)\n",
        "        df_user['username'] = user\n",
        "        df = pd.concat([df, df_user], ignore_index=True)\n",
        "    except Exception as e:\n",
        "        print(e)\n",
        "        print(f\"User {user} was not read\")\n",
        "\n",
        "#df = pd.read_csv(list_data[0], sep=\"|\")\n",
        "#Only in english\n",
        "df = df[df['lang']=='en']\n",
        "print(f\"Len of the dataframe: {len(df)}\")"
      ]
    },
    {
      "cell_type": "code",
      "execution_count": 38,
      "metadata": {
        "id": "ThRqru0yZZBZ",
        "outputId": "aebd5f68-68b3-4144-e607-038c217739b9",
        "colab": {
          "base_uri": "https://localhost:8080/",
          "height": 337
        }
      },
      "outputs": [
        {
          "output_type": "execute_result",
          "data": {
            "text/plain": [
              "                    id        user  username                      created_at  \\\n",
              "0  1506705587903598597  2916086925  RepAdams  Wed Mar 23 18:53:00 +0000 2022   \n",
              "1  1506279598140633101  2916086925  RepAdams  Tue Mar 22 14:40:16 +0000 2022   \n",
              "2  1506012530824531975  2916086925  RepAdams  Mon Mar 21 20:59:02 +0000 2022   \n",
              "3  1505996638401224708  2916086925  RepAdams  Mon Mar 21 19:55:53 +0000 2022   \n",
              "4  1505906800272490506  2916086925  RepAdams  Mon Mar 21 13:58:54 +0000 2022   \n",
              "\n",
              "                                                text lang label retweet_count  \\\n",
              "0  Madeleine Albright often said, “There is a spe...   en     D            56   \n",
              "1  Judge Ketanji Brown Jackson:\\n\\n✔️ Received a ...   en     D            13   \n",
              "2  When I Grow Up is a virtual forum designed to ...   en     D             5   \n",
              "3  Ketanji Brown Jackson's parents, Ellery &amp; ...   en     D             8   \n",
              "4  Judge Ketanji Brown Jackson is the most qualif...   en     D            19   \n",
              "\n",
              "  favorite_count  \n",
              "0            196  \n",
              "1             26  \n",
              "2              4  \n",
              "3             31  \n",
              "4            102  "
            ],
            "text/html": [
              "\n",
              "  <div id=\"df-6c88289a-9658-489d-8085-6b5907504486\">\n",
              "    <div class=\"colab-df-container\">\n",
              "      <div>\n",
              "<style scoped>\n",
              "    .dataframe tbody tr th:only-of-type {\n",
              "        vertical-align: middle;\n",
              "    }\n",
              "\n",
              "    .dataframe tbody tr th {\n",
              "        vertical-align: top;\n",
              "    }\n",
              "\n",
              "    .dataframe thead th {\n",
              "        text-align: right;\n",
              "    }\n",
              "</style>\n",
              "<table border=\"1\" class=\"dataframe\">\n",
              "  <thead>\n",
              "    <tr style=\"text-align: right;\">\n",
              "      <th></th>\n",
              "      <th>id</th>\n",
              "      <th>user</th>\n",
              "      <th>username</th>\n",
              "      <th>created_at</th>\n",
              "      <th>text</th>\n",
              "      <th>lang</th>\n",
              "      <th>label</th>\n",
              "      <th>retweet_count</th>\n",
              "      <th>favorite_count</th>\n",
              "    </tr>\n",
              "  </thead>\n",
              "  <tbody>\n",
              "    <tr>\n",
              "      <th>0</th>\n",
              "      <td>1506705587903598597</td>\n",
              "      <td>2916086925</td>\n",
              "      <td>RepAdams</td>\n",
              "      <td>Wed Mar 23 18:53:00 +0000 2022</td>\n",
              "      <td>Madeleine Albright often said, “There is a spe...</td>\n",
              "      <td>en</td>\n",
              "      <td>D</td>\n",
              "      <td>56</td>\n",
              "      <td>196</td>\n",
              "    </tr>\n",
              "    <tr>\n",
              "      <th>1</th>\n",
              "      <td>1506279598140633101</td>\n",
              "      <td>2916086925</td>\n",
              "      <td>RepAdams</td>\n",
              "      <td>Tue Mar 22 14:40:16 +0000 2022</td>\n",
              "      <td>Judge Ketanji Brown Jackson:\\n\\n✔️ Received a ...</td>\n",
              "      <td>en</td>\n",
              "      <td>D</td>\n",
              "      <td>13</td>\n",
              "      <td>26</td>\n",
              "    </tr>\n",
              "    <tr>\n",
              "      <th>2</th>\n",
              "      <td>1506012530824531975</td>\n",
              "      <td>2916086925</td>\n",
              "      <td>RepAdams</td>\n",
              "      <td>Mon Mar 21 20:59:02 +0000 2022</td>\n",
              "      <td>When I Grow Up is a virtual forum designed to ...</td>\n",
              "      <td>en</td>\n",
              "      <td>D</td>\n",
              "      <td>5</td>\n",
              "      <td>4</td>\n",
              "    </tr>\n",
              "    <tr>\n",
              "      <th>3</th>\n",
              "      <td>1505996638401224708</td>\n",
              "      <td>2916086925</td>\n",
              "      <td>RepAdams</td>\n",
              "      <td>Mon Mar 21 19:55:53 +0000 2022</td>\n",
              "      <td>Ketanji Brown Jackson's parents, Ellery &amp;amp; ...</td>\n",
              "      <td>en</td>\n",
              "      <td>D</td>\n",
              "      <td>8</td>\n",
              "      <td>31</td>\n",
              "    </tr>\n",
              "    <tr>\n",
              "      <th>4</th>\n",
              "      <td>1505906800272490506</td>\n",
              "      <td>2916086925</td>\n",
              "      <td>RepAdams</td>\n",
              "      <td>Mon Mar 21 13:58:54 +0000 2022</td>\n",
              "      <td>Judge Ketanji Brown Jackson is the most qualif...</td>\n",
              "      <td>en</td>\n",
              "      <td>D</td>\n",
              "      <td>19</td>\n",
              "      <td>102</td>\n",
              "    </tr>\n",
              "  </tbody>\n",
              "</table>\n",
              "</div>\n",
              "      <button class=\"colab-df-convert\" onclick=\"convertToInteractive('df-6c88289a-9658-489d-8085-6b5907504486')\"\n",
              "              title=\"Convert this dataframe to an interactive table.\"\n",
              "              style=\"display:none;\">\n",
              "        \n",
              "  <svg xmlns=\"http://www.w3.org/2000/svg\" height=\"24px\"viewBox=\"0 0 24 24\"\n",
              "       width=\"24px\">\n",
              "    <path d=\"M0 0h24v24H0V0z\" fill=\"none\"/>\n",
              "    <path d=\"M18.56 5.44l.94 2.06.94-2.06 2.06-.94-2.06-.94-.94-2.06-.94 2.06-2.06.94zm-11 1L8.5 8.5l.94-2.06 2.06-.94-2.06-.94L8.5 2.5l-.94 2.06-2.06.94zm10 10l.94 2.06.94-2.06 2.06-.94-2.06-.94-.94-2.06-.94 2.06-2.06.94z\"/><path d=\"M17.41 7.96l-1.37-1.37c-.4-.4-.92-.59-1.43-.59-.52 0-1.04.2-1.43.59L10.3 9.45l-7.72 7.72c-.78.78-.78 2.05 0 2.83L4 21.41c.39.39.9.59 1.41.59.51 0 1.02-.2 1.41-.59l7.78-7.78 2.81-2.81c.8-.78.8-2.07 0-2.86zM5.41 20L4 18.59l7.72-7.72 1.47 1.35L5.41 20z\"/>\n",
              "  </svg>\n",
              "      </button>\n",
              "      \n",
              "  <style>\n",
              "    .colab-df-container {\n",
              "      display:flex;\n",
              "      flex-wrap:wrap;\n",
              "      gap: 12px;\n",
              "    }\n",
              "\n",
              "    .colab-df-convert {\n",
              "      background-color: #E8F0FE;\n",
              "      border: none;\n",
              "      border-radius: 50%;\n",
              "      cursor: pointer;\n",
              "      display: none;\n",
              "      fill: #1967D2;\n",
              "      height: 32px;\n",
              "      padding: 0 0 0 0;\n",
              "      width: 32px;\n",
              "    }\n",
              "\n",
              "    .colab-df-convert:hover {\n",
              "      background-color: #E2EBFA;\n",
              "      box-shadow: 0px 1px 2px rgba(60, 64, 67, 0.3), 0px 1px 3px 1px rgba(60, 64, 67, 0.15);\n",
              "      fill: #174EA6;\n",
              "    }\n",
              "\n",
              "    [theme=dark] .colab-df-convert {\n",
              "      background-color: #3B4455;\n",
              "      fill: #D2E3FC;\n",
              "    }\n",
              "\n",
              "    [theme=dark] .colab-df-convert:hover {\n",
              "      background-color: #434B5C;\n",
              "      box-shadow: 0px 1px 3px 1px rgba(0, 0, 0, 0.15);\n",
              "      filter: drop-shadow(0px 1px 2px rgba(0, 0, 0, 0.3));\n",
              "      fill: #FFFFFF;\n",
              "    }\n",
              "  </style>\n",
              "\n",
              "      <script>\n",
              "        const buttonEl =\n",
              "          document.querySelector('#df-6c88289a-9658-489d-8085-6b5907504486 button.colab-df-convert');\n",
              "        buttonEl.style.display =\n",
              "          google.colab.kernel.accessAllowed ? 'block' : 'none';\n",
              "\n",
              "        async function convertToInteractive(key) {\n",
              "          const element = document.querySelector('#df-6c88289a-9658-489d-8085-6b5907504486');\n",
              "          const dataTable =\n",
              "            await google.colab.kernel.invokeFunction('convertToInteractive',\n",
              "                                                     [key], {});\n",
              "          if (!dataTable) return;\n",
              "\n",
              "          const docLinkHtml = 'Like what you see? Visit the ' +\n",
              "            '<a target=\"_blank\" href=https://colab.research.google.com/notebooks/data_table.ipynb>data table notebook</a>'\n",
              "            + ' to learn more about interactive tables.';\n",
              "          element.innerHTML = '';\n",
              "          dataTable['output_type'] = 'display_data';\n",
              "          await google.colab.output.renderOutput(dataTable, element);\n",
              "          const docLink = document.createElement('div');\n",
              "          docLink.innerHTML = docLinkHtml;\n",
              "          element.appendChild(docLink);\n",
              "        }\n",
              "      </script>\n",
              "    </div>\n",
              "  </div>\n",
              "  "
            ]
          },
          "metadata": {},
          "execution_count": 38
        }
      ],
      "source": [
        "df.head()"
      ]
    },
    {
      "cell_type": "code",
      "execution_count": 39,
      "metadata": {
        "id": "GfwE4ASNZZBb",
        "outputId": "a364a2a6-482a-4fcd-9d1c-ea408be1dfc6",
        "colab": {
          "base_uri": "https://localhost:8080/"
        }
      },
      "outputs": [
        {
          "output_type": "execute_result",
          "data": {
            "text/plain": [
              "array(['D', 'R', 'I'], dtype=object)"
            ]
          },
          "metadata": {},
          "execution_count": 39
        }
      ],
      "source": [
        "df.label.unique()"
      ]
    },
    {
      "cell_type": "code",
      "execution_count": 40,
      "metadata": {
        "id": "2gXxMYk2ZZBd",
        "outputId": "014fc621-49d4-4763-f1d9-aa5ad0804bb6",
        "colab": {
          "base_uri": "https://localhost:8080/"
        }
      },
      "outputs": [
        {
          "output_type": "execute_result",
          "data": {
            "text/plain": [
              "array(['SenAngusKing', 'SenSanders'], dtype=object)"
            ]
          },
          "metadata": {},
          "execution_count": 40
        }
      ],
      "source": [
        "df[df['label']=='I'].username.unique()"
      ]
    },
    {
      "cell_type": "markdown",
      "metadata": {
        "id": "0sAnkd7hZZBe"
      },
      "source": [
        "#### There are two members who are independent, but according to their political career, both will be considered as democrats as both have caucused with the Democratic Party "
      ]
    },
    {
      "cell_type": "code",
      "execution_count": 41,
      "metadata": {
        "id": "QBh2pHhNZZBf"
      },
      "outputs": [],
      "source": [
        "df['label'] = df['label'].apply(lambda x: x.replace('I', 'D'))"
      ]
    },
    {
      "cell_type": "markdown",
      "metadata": {
        "id": "GGzdwXWZZZBg"
      },
      "source": [
        "#### First of all, lets transform twitter date to python datetime"
      ]
    },
    {
      "cell_type": "code",
      "execution_count": 42,
      "metadata": {
        "id": "pt6glixFZZBh"
      },
      "outputs": [],
      "source": [
        "def twitter_date_to_datetime(twitter_date):\n",
        "    return datetime.strptime(twitter_date,'%a %b %d %H:%M:%S +0000 %Y')"
      ]
    },
    {
      "cell_type": "code",
      "execution_count": 43,
      "metadata": {
        "id": "Z446EVsVZZBi"
      },
      "outputs": [],
      "source": [
        "df['created_at'] = df['created_at'].apply(twitter_date_to_datetime)"
      ]
    },
    {
      "cell_type": "code",
      "execution_count": 44,
      "metadata": {
        "id": "yzAsA07hZZBi",
        "outputId": "de74bc96-88a8-47d0-e965-b0c2a7757d51",
        "colab": {
          "base_uri": "https://localhost:8080/",
          "height": 337
        }
      },
      "outputs": [
        {
          "output_type": "execute_result",
          "data": {
            "text/plain": [
              "                    id        user  username          created_at  \\\n",
              "0  1506705587903598597  2916086925  RepAdams 2022-03-23 18:53:00   \n",
              "1  1506279598140633101  2916086925  RepAdams 2022-03-22 14:40:16   \n",
              "2  1506012530824531975  2916086925  RepAdams 2022-03-21 20:59:02   \n",
              "3  1505996638401224708  2916086925  RepAdams 2022-03-21 19:55:53   \n",
              "4  1505906800272490506  2916086925  RepAdams 2022-03-21 13:58:54   \n",
              "\n",
              "                                                text lang label retweet_count  \\\n",
              "0  Madeleine Albright often said, “There is a spe...   en     D            56   \n",
              "1  Judge Ketanji Brown Jackson:\\n\\n✔️ Received a ...   en     D            13   \n",
              "2  When I Grow Up is a virtual forum designed to ...   en     D             5   \n",
              "3  Ketanji Brown Jackson's parents, Ellery &amp; ...   en     D             8   \n",
              "4  Judge Ketanji Brown Jackson is the most qualif...   en     D            19   \n",
              "\n",
              "  favorite_count  \n",
              "0            196  \n",
              "1             26  \n",
              "2              4  \n",
              "3             31  \n",
              "4            102  "
            ],
            "text/html": [
              "\n",
              "  <div id=\"df-71d20f49-e2ea-4f62-b061-8c266a8241a0\">\n",
              "    <div class=\"colab-df-container\">\n",
              "      <div>\n",
              "<style scoped>\n",
              "    .dataframe tbody tr th:only-of-type {\n",
              "        vertical-align: middle;\n",
              "    }\n",
              "\n",
              "    .dataframe tbody tr th {\n",
              "        vertical-align: top;\n",
              "    }\n",
              "\n",
              "    .dataframe thead th {\n",
              "        text-align: right;\n",
              "    }\n",
              "</style>\n",
              "<table border=\"1\" class=\"dataframe\">\n",
              "  <thead>\n",
              "    <tr style=\"text-align: right;\">\n",
              "      <th></th>\n",
              "      <th>id</th>\n",
              "      <th>user</th>\n",
              "      <th>username</th>\n",
              "      <th>created_at</th>\n",
              "      <th>text</th>\n",
              "      <th>lang</th>\n",
              "      <th>label</th>\n",
              "      <th>retweet_count</th>\n",
              "      <th>favorite_count</th>\n",
              "    </tr>\n",
              "  </thead>\n",
              "  <tbody>\n",
              "    <tr>\n",
              "      <th>0</th>\n",
              "      <td>1506705587903598597</td>\n",
              "      <td>2916086925</td>\n",
              "      <td>RepAdams</td>\n",
              "      <td>2022-03-23 18:53:00</td>\n",
              "      <td>Madeleine Albright often said, “There is a spe...</td>\n",
              "      <td>en</td>\n",
              "      <td>D</td>\n",
              "      <td>56</td>\n",
              "      <td>196</td>\n",
              "    </tr>\n",
              "    <tr>\n",
              "      <th>1</th>\n",
              "      <td>1506279598140633101</td>\n",
              "      <td>2916086925</td>\n",
              "      <td>RepAdams</td>\n",
              "      <td>2022-03-22 14:40:16</td>\n",
              "      <td>Judge Ketanji Brown Jackson:\\n\\n✔️ Received a ...</td>\n",
              "      <td>en</td>\n",
              "      <td>D</td>\n",
              "      <td>13</td>\n",
              "      <td>26</td>\n",
              "    </tr>\n",
              "    <tr>\n",
              "      <th>2</th>\n",
              "      <td>1506012530824531975</td>\n",
              "      <td>2916086925</td>\n",
              "      <td>RepAdams</td>\n",
              "      <td>2022-03-21 20:59:02</td>\n",
              "      <td>When I Grow Up is a virtual forum designed to ...</td>\n",
              "      <td>en</td>\n",
              "      <td>D</td>\n",
              "      <td>5</td>\n",
              "      <td>4</td>\n",
              "    </tr>\n",
              "    <tr>\n",
              "      <th>3</th>\n",
              "      <td>1505996638401224708</td>\n",
              "      <td>2916086925</td>\n",
              "      <td>RepAdams</td>\n",
              "      <td>2022-03-21 19:55:53</td>\n",
              "      <td>Ketanji Brown Jackson's parents, Ellery &amp;amp; ...</td>\n",
              "      <td>en</td>\n",
              "      <td>D</td>\n",
              "      <td>8</td>\n",
              "      <td>31</td>\n",
              "    </tr>\n",
              "    <tr>\n",
              "      <th>4</th>\n",
              "      <td>1505906800272490506</td>\n",
              "      <td>2916086925</td>\n",
              "      <td>RepAdams</td>\n",
              "      <td>2022-03-21 13:58:54</td>\n",
              "      <td>Judge Ketanji Brown Jackson is the most qualif...</td>\n",
              "      <td>en</td>\n",
              "      <td>D</td>\n",
              "      <td>19</td>\n",
              "      <td>102</td>\n",
              "    </tr>\n",
              "  </tbody>\n",
              "</table>\n",
              "</div>\n",
              "      <button class=\"colab-df-convert\" onclick=\"convertToInteractive('df-71d20f49-e2ea-4f62-b061-8c266a8241a0')\"\n",
              "              title=\"Convert this dataframe to an interactive table.\"\n",
              "              style=\"display:none;\">\n",
              "        \n",
              "  <svg xmlns=\"http://www.w3.org/2000/svg\" height=\"24px\"viewBox=\"0 0 24 24\"\n",
              "       width=\"24px\">\n",
              "    <path d=\"M0 0h24v24H0V0z\" fill=\"none\"/>\n",
              "    <path d=\"M18.56 5.44l.94 2.06.94-2.06 2.06-.94-2.06-.94-.94-2.06-.94 2.06-2.06.94zm-11 1L8.5 8.5l.94-2.06 2.06-.94-2.06-.94L8.5 2.5l-.94 2.06-2.06.94zm10 10l.94 2.06.94-2.06 2.06-.94-2.06-.94-.94-2.06-.94 2.06-2.06.94z\"/><path d=\"M17.41 7.96l-1.37-1.37c-.4-.4-.92-.59-1.43-.59-.52 0-1.04.2-1.43.59L10.3 9.45l-7.72 7.72c-.78.78-.78 2.05 0 2.83L4 21.41c.39.39.9.59 1.41.59.51 0 1.02-.2 1.41-.59l7.78-7.78 2.81-2.81c.8-.78.8-2.07 0-2.86zM5.41 20L4 18.59l7.72-7.72 1.47 1.35L5.41 20z\"/>\n",
              "  </svg>\n",
              "      </button>\n",
              "      \n",
              "  <style>\n",
              "    .colab-df-container {\n",
              "      display:flex;\n",
              "      flex-wrap:wrap;\n",
              "      gap: 12px;\n",
              "    }\n",
              "\n",
              "    .colab-df-convert {\n",
              "      background-color: #E8F0FE;\n",
              "      border: none;\n",
              "      border-radius: 50%;\n",
              "      cursor: pointer;\n",
              "      display: none;\n",
              "      fill: #1967D2;\n",
              "      height: 32px;\n",
              "      padding: 0 0 0 0;\n",
              "      width: 32px;\n",
              "    }\n",
              "\n",
              "    .colab-df-convert:hover {\n",
              "      background-color: #E2EBFA;\n",
              "      box-shadow: 0px 1px 2px rgba(60, 64, 67, 0.3), 0px 1px 3px 1px rgba(60, 64, 67, 0.15);\n",
              "      fill: #174EA6;\n",
              "    }\n",
              "\n",
              "    [theme=dark] .colab-df-convert {\n",
              "      background-color: #3B4455;\n",
              "      fill: #D2E3FC;\n",
              "    }\n",
              "\n",
              "    [theme=dark] .colab-df-convert:hover {\n",
              "      background-color: #434B5C;\n",
              "      box-shadow: 0px 1px 3px 1px rgba(0, 0, 0, 0.15);\n",
              "      filter: drop-shadow(0px 1px 2px rgba(0, 0, 0, 0.3));\n",
              "      fill: #FFFFFF;\n",
              "    }\n",
              "  </style>\n",
              "\n",
              "      <script>\n",
              "        const buttonEl =\n",
              "          document.querySelector('#df-71d20f49-e2ea-4f62-b061-8c266a8241a0 button.colab-df-convert');\n",
              "        buttonEl.style.display =\n",
              "          google.colab.kernel.accessAllowed ? 'block' : 'none';\n",
              "\n",
              "        async function convertToInteractive(key) {\n",
              "          const element = document.querySelector('#df-71d20f49-e2ea-4f62-b061-8c266a8241a0');\n",
              "          const dataTable =\n",
              "            await google.colab.kernel.invokeFunction('convertToInteractive',\n",
              "                                                     [key], {});\n",
              "          if (!dataTable) return;\n",
              "\n",
              "          const docLinkHtml = 'Like what you see? Visit the ' +\n",
              "            '<a target=\"_blank\" href=https://colab.research.google.com/notebooks/data_table.ipynb>data table notebook</a>'\n",
              "            + ' to learn more about interactive tables.';\n",
              "          element.innerHTML = '';\n",
              "          dataTable['output_type'] = 'display_data';\n",
              "          await google.colab.output.renderOutput(dataTable, element);\n",
              "          const docLink = document.createElement('div');\n",
              "          docLink.innerHTML = docLinkHtml;\n",
              "          element.appendChild(docLink);\n",
              "        }\n",
              "      </script>\n",
              "    </div>\n",
              "  </div>\n",
              "  "
            ]
          },
          "metadata": {},
          "execution_count": 44
        }
      ],
      "source": [
        "df.head()"
      ]
    },
    {
      "cell_type": "markdown",
      "metadata": {
        "id": "1Tr1uC3tZZBj"
      },
      "source": [
        "#### Now let's check out the length of tweets"
      ]
    },
    {
      "cell_type": "code",
      "execution_count": 45,
      "metadata": {
        "id": "5bKQ-tPVZZBm"
      },
      "outputs": [],
      "source": [
        "df['length'] = df['text'].apply(lambda x: len(x))"
      ]
    },
    {
      "cell_type": "code",
      "execution_count": 46,
      "metadata": {
        "id": "odmr2bBeZZBn",
        "outputId": "bd3c68ae-5200-4e69-99d8-0a27ebae9581",
        "colab": {
          "base_uri": "https://localhost:8080/",
          "height": 337
        }
      },
      "outputs": [
        {
          "output_type": "execute_result",
          "data": {
            "text/plain": [
              "                    id        user  username          created_at  \\\n",
              "0  1506705587903598597  2916086925  RepAdams 2022-03-23 18:53:00   \n",
              "1  1506279598140633101  2916086925  RepAdams 2022-03-22 14:40:16   \n",
              "2  1506012530824531975  2916086925  RepAdams 2022-03-21 20:59:02   \n",
              "3  1505996638401224708  2916086925  RepAdams 2022-03-21 19:55:53   \n",
              "4  1505906800272490506  2916086925  RepAdams 2022-03-21 13:58:54   \n",
              "\n",
              "                                                text lang label retweet_count  \\\n",
              "0  Madeleine Albright often said, “There is a spe...   en     D            56   \n",
              "1  Judge Ketanji Brown Jackson:\\n\\n✔️ Received a ...   en     D            13   \n",
              "2  When I Grow Up is a virtual forum designed to ...   en     D             5   \n",
              "3  Ketanji Brown Jackson's parents, Ellery &amp; ...   en     D             8   \n",
              "4  Judge Ketanji Brown Jackson is the most qualif...   en     D            19   \n",
              "\n",
              "  favorite_count  length  \n",
              "0            196     140  \n",
              "1             26     140  \n",
              "2              4     140  \n",
              "3             31     144  \n",
              "4            102     140  "
            ],
            "text/html": [
              "\n",
              "  <div id=\"df-81ead27b-eadc-487a-a0e1-93b81d855c4a\">\n",
              "    <div class=\"colab-df-container\">\n",
              "      <div>\n",
              "<style scoped>\n",
              "    .dataframe tbody tr th:only-of-type {\n",
              "        vertical-align: middle;\n",
              "    }\n",
              "\n",
              "    .dataframe tbody tr th {\n",
              "        vertical-align: top;\n",
              "    }\n",
              "\n",
              "    .dataframe thead th {\n",
              "        text-align: right;\n",
              "    }\n",
              "</style>\n",
              "<table border=\"1\" class=\"dataframe\">\n",
              "  <thead>\n",
              "    <tr style=\"text-align: right;\">\n",
              "      <th></th>\n",
              "      <th>id</th>\n",
              "      <th>user</th>\n",
              "      <th>username</th>\n",
              "      <th>created_at</th>\n",
              "      <th>text</th>\n",
              "      <th>lang</th>\n",
              "      <th>label</th>\n",
              "      <th>retweet_count</th>\n",
              "      <th>favorite_count</th>\n",
              "      <th>length</th>\n",
              "    </tr>\n",
              "  </thead>\n",
              "  <tbody>\n",
              "    <tr>\n",
              "      <th>0</th>\n",
              "      <td>1506705587903598597</td>\n",
              "      <td>2916086925</td>\n",
              "      <td>RepAdams</td>\n",
              "      <td>2022-03-23 18:53:00</td>\n",
              "      <td>Madeleine Albright often said, “There is a spe...</td>\n",
              "      <td>en</td>\n",
              "      <td>D</td>\n",
              "      <td>56</td>\n",
              "      <td>196</td>\n",
              "      <td>140</td>\n",
              "    </tr>\n",
              "    <tr>\n",
              "      <th>1</th>\n",
              "      <td>1506279598140633101</td>\n",
              "      <td>2916086925</td>\n",
              "      <td>RepAdams</td>\n",
              "      <td>2022-03-22 14:40:16</td>\n",
              "      <td>Judge Ketanji Brown Jackson:\\n\\n✔️ Received a ...</td>\n",
              "      <td>en</td>\n",
              "      <td>D</td>\n",
              "      <td>13</td>\n",
              "      <td>26</td>\n",
              "      <td>140</td>\n",
              "    </tr>\n",
              "    <tr>\n",
              "      <th>2</th>\n",
              "      <td>1506012530824531975</td>\n",
              "      <td>2916086925</td>\n",
              "      <td>RepAdams</td>\n",
              "      <td>2022-03-21 20:59:02</td>\n",
              "      <td>When I Grow Up is a virtual forum designed to ...</td>\n",
              "      <td>en</td>\n",
              "      <td>D</td>\n",
              "      <td>5</td>\n",
              "      <td>4</td>\n",
              "      <td>140</td>\n",
              "    </tr>\n",
              "    <tr>\n",
              "      <th>3</th>\n",
              "      <td>1505996638401224708</td>\n",
              "      <td>2916086925</td>\n",
              "      <td>RepAdams</td>\n",
              "      <td>2022-03-21 19:55:53</td>\n",
              "      <td>Ketanji Brown Jackson's parents, Ellery &amp;amp; ...</td>\n",
              "      <td>en</td>\n",
              "      <td>D</td>\n",
              "      <td>8</td>\n",
              "      <td>31</td>\n",
              "      <td>144</td>\n",
              "    </tr>\n",
              "    <tr>\n",
              "      <th>4</th>\n",
              "      <td>1505906800272490506</td>\n",
              "      <td>2916086925</td>\n",
              "      <td>RepAdams</td>\n",
              "      <td>2022-03-21 13:58:54</td>\n",
              "      <td>Judge Ketanji Brown Jackson is the most qualif...</td>\n",
              "      <td>en</td>\n",
              "      <td>D</td>\n",
              "      <td>19</td>\n",
              "      <td>102</td>\n",
              "      <td>140</td>\n",
              "    </tr>\n",
              "  </tbody>\n",
              "</table>\n",
              "</div>\n",
              "      <button class=\"colab-df-convert\" onclick=\"convertToInteractive('df-81ead27b-eadc-487a-a0e1-93b81d855c4a')\"\n",
              "              title=\"Convert this dataframe to an interactive table.\"\n",
              "              style=\"display:none;\">\n",
              "        \n",
              "  <svg xmlns=\"http://www.w3.org/2000/svg\" height=\"24px\"viewBox=\"0 0 24 24\"\n",
              "       width=\"24px\">\n",
              "    <path d=\"M0 0h24v24H0V0z\" fill=\"none\"/>\n",
              "    <path d=\"M18.56 5.44l.94 2.06.94-2.06 2.06-.94-2.06-.94-.94-2.06-.94 2.06-2.06.94zm-11 1L8.5 8.5l.94-2.06 2.06-.94-2.06-.94L8.5 2.5l-.94 2.06-2.06.94zm10 10l.94 2.06.94-2.06 2.06-.94-2.06-.94-.94-2.06-.94 2.06-2.06.94z\"/><path d=\"M17.41 7.96l-1.37-1.37c-.4-.4-.92-.59-1.43-.59-.52 0-1.04.2-1.43.59L10.3 9.45l-7.72 7.72c-.78.78-.78 2.05 0 2.83L4 21.41c.39.39.9.59 1.41.59.51 0 1.02-.2 1.41-.59l7.78-7.78 2.81-2.81c.8-.78.8-2.07 0-2.86zM5.41 20L4 18.59l7.72-7.72 1.47 1.35L5.41 20z\"/>\n",
              "  </svg>\n",
              "      </button>\n",
              "      \n",
              "  <style>\n",
              "    .colab-df-container {\n",
              "      display:flex;\n",
              "      flex-wrap:wrap;\n",
              "      gap: 12px;\n",
              "    }\n",
              "\n",
              "    .colab-df-convert {\n",
              "      background-color: #E8F0FE;\n",
              "      border: none;\n",
              "      border-radius: 50%;\n",
              "      cursor: pointer;\n",
              "      display: none;\n",
              "      fill: #1967D2;\n",
              "      height: 32px;\n",
              "      padding: 0 0 0 0;\n",
              "      width: 32px;\n",
              "    }\n",
              "\n",
              "    .colab-df-convert:hover {\n",
              "      background-color: #E2EBFA;\n",
              "      box-shadow: 0px 1px 2px rgba(60, 64, 67, 0.3), 0px 1px 3px 1px rgba(60, 64, 67, 0.15);\n",
              "      fill: #174EA6;\n",
              "    }\n",
              "\n",
              "    [theme=dark] .colab-df-convert {\n",
              "      background-color: #3B4455;\n",
              "      fill: #D2E3FC;\n",
              "    }\n",
              "\n",
              "    [theme=dark] .colab-df-convert:hover {\n",
              "      background-color: #434B5C;\n",
              "      box-shadow: 0px 1px 3px 1px rgba(0, 0, 0, 0.15);\n",
              "      filter: drop-shadow(0px 1px 2px rgba(0, 0, 0, 0.3));\n",
              "      fill: #FFFFFF;\n",
              "    }\n",
              "  </style>\n",
              "\n",
              "      <script>\n",
              "        const buttonEl =\n",
              "          document.querySelector('#df-81ead27b-eadc-487a-a0e1-93b81d855c4a button.colab-df-convert');\n",
              "        buttonEl.style.display =\n",
              "          google.colab.kernel.accessAllowed ? 'block' : 'none';\n",
              "\n",
              "        async function convertToInteractive(key) {\n",
              "          const element = document.querySelector('#df-81ead27b-eadc-487a-a0e1-93b81d855c4a');\n",
              "          const dataTable =\n",
              "            await google.colab.kernel.invokeFunction('convertToInteractive',\n",
              "                                                     [key], {});\n",
              "          if (!dataTable) return;\n",
              "\n",
              "          const docLinkHtml = 'Like what you see? Visit the ' +\n",
              "            '<a target=\"_blank\" href=https://colab.research.google.com/notebooks/data_table.ipynb>data table notebook</a>'\n",
              "            + ' to learn more about interactive tables.';\n",
              "          element.innerHTML = '';\n",
              "          dataTable['output_type'] = 'display_data';\n",
              "          await google.colab.output.renderOutput(dataTable, element);\n",
              "          const docLink = document.createElement('div');\n",
              "          docLink.innerHTML = docLinkHtml;\n",
              "          element.appendChild(docLink);\n",
              "        }\n",
              "      </script>\n",
              "    </div>\n",
              "  </div>\n",
              "  "
            ]
          },
          "metadata": {},
          "execution_count": 46
        }
      ],
      "source": [
        "df.head()"
      ]
    },
    {
      "cell_type": "code",
      "execution_count": 47,
      "metadata": {
        "id": "EIHQj0TLZZBo"
      },
      "outputs": [],
      "source": [
        "df_democrats = df[df['label']=='D']\n",
        "df_republicans = df[df['label']=='R']"
      ]
    },
    {
      "cell_type": "code",
      "execution_count": 48,
      "metadata": {
        "id": "K7pi_S7HZZBp",
        "outputId": "323fe4fb-e9ef-4e7a-f778-ca1da67e52fd",
        "colab": {
          "base_uri": "https://localhost:8080/",
          "height": 477
        }
      },
      "outputs": [
        {
          "output_type": "stream",
          "name": "stderr",
          "text": [
            "/usr/local/lib/python3.7/dist-packages/numpy/core/fromnumeric.py:3208: VisibleDeprecationWarning: Creating an ndarray from ragged nested sequences (which is a list-or-tuple of lists-or-tuples-or ndarrays with different lengths or shapes) is deprecated. If you meant to do this, you must specify 'dtype=object' when creating the ndarray.\n",
            "  return asarray(a).size\n",
            "/usr/local/lib/python3.7/dist-packages/matplotlib/cbook/__init__.py:1376: VisibleDeprecationWarning: Creating an ndarray from ragged nested sequences (which is a list-or-tuple of lists-or-tuples-or ndarrays with different lengths or shapes) is deprecated. If you meant to do this, you must specify 'dtype=object' when creating the ndarray.\n",
            "  X = np.atleast_1d(X.T if isinstance(X, np.ndarray) else np.asarray(X))\n"
          ]
        },
        {
          "output_type": "display_data",
          "data": {
            "text/plain": [
              "<Figure size 1296x432 with 1 Axes>"
            ],
            "image/png": "[encoded data removed]"
          },
          "metadata": {
            "needs_background": "light"
          }
        }
      ],
      "source": [
        "plt.rcParams['figure.figsize'] = (18, 6)\n",
        "bins = 150\n",
        "plt.hist([df_republicans['length'], df_democrats['length']], alpha = 0.6, bins=bins, \n",
        "         label=['Republicans', 'Democrats'], color = ['r','b'])\n",
        "plt.xlabel('Length')\n",
        "plt.ylabel('Count')\n",
        "plt.legend(loc='upper right')\n",
        "plt.xlim(0,150)\n",
        "plt.grid()\n",
        "plt.show()"
      ]
    },
    {
      "cell_type": "markdown",
      "metadata": {
        "id": "LdE-yS0bZZBr"
      },
      "source": [
        "#### Characters in tweets"
      ]
    },
    {
      "cell_type": "code",
      "execution_count": 49,
      "metadata": {
        "id": "Cfquv1sJZZBt",
        "outputId": "d6ca192f-b819-4744-cd30-2ec8c5025dbf",
        "colab": {
          "base_uri": "https://localhost:8080/",
          "height": 356
        }
      },
      "outputs": [
        {
          "output_type": "display_data",
          "data": {
            "text/plain": [
              "<Figure size 1080x360 with 2 Axes>"
            ],
            "image/png": "[encoded data removed]"
          },
          "metadata": {
            "needs_background": "light"
          }
        }
      ],
      "source": [
        "fig,(ax1,ax2)=plt.subplots(1,2,figsize=(15,5))\n",
        "tweet_len_r=df_republicans['text'].str.len()\n",
        "ax1.hist(tweet_len_r, color='r')\n",
        "ax1.set_title('Republicans')\n",
        "tweet_len_d=df_democrats['text'].str.len()\n",
        "ax2.hist(tweet_len_d, color='b')\n",
        "ax2.set_title('Democrats')\n",
        "fig.suptitle('Characters in tweets')\n",
        "plt.show()"
      ]
    },
    {
      "cell_type": "markdown",
      "metadata": {
        "id": "RZVv9MEsZZBw"
      },
      "source": [
        "#### Temporal distribution of tweets by month"
      ]
    },
    {
      "cell_type": "code",
      "execution_count": 50,
      "metadata": {
        "id": "rhUrnuDpZZBw",
        "outputId": "57ab3104-db42-4061-b952-0316178973a8",
        "colab": {
          "base_uri": "https://localhost:8080/",
          "height": 404
        }
      },
      "outputs": [
        {
          "output_type": "display_data",
          "data": {
            "text/plain": [
              "<Figure size 1296x432 with 1 Axes>"
            ],
            "image/png": "[encoded data removed]"
          },
          "metadata": {
            "needs_background": "light"
          }
        }
      ],
      "source": [
        "fig, ax = plt.subplots(figsize=(18, 6))\n",
        "\n",
        "for label in df.label.unique():\n",
        "    df_temp = df[df['label'] == label].copy()\n",
        "    df_temp['date'] = pd.to_datetime(df_temp['created_at'].dt.strftime('%m/%Y'))\n",
        "    df_temp = df_temp.groupby(df_temp['date']).size()\n",
        "    color = 'r' if label == 'R' else 'b'\n",
        "    df_temp.plot(label=label, ax=ax, color=color)\n",
        "\n",
        "ax.set_title('Number of tweets published per month')\n",
        "ax.legend();"
      ]
    },
    {
      "cell_type": "markdown",
      "metadata": {
        "id": "yUK88x31ZZBy"
      },
      "source": [
        "#### Number of words in tweets"
      ]
    },
    {
      "cell_type": "code",
      "execution_count": 51,
      "metadata": {
        "id": "OVZ-BBcaZZBy",
        "outputId": "d0a33389-b17f-4168-be78-4df9da262e93",
        "colab": {
          "base_uri": "https://localhost:8080/",
          "height": 356
        }
      },
      "outputs": [
        {
          "output_type": "display_data",
          "data": {
            "text/plain": [
              "<Figure size 1080x360 with 2 Axes>"
            ],
            "image/png": "[encoded data removed]"
          },
          "metadata": {
            "needs_background": "light"
          }
        }
      ],
      "source": [
        "fig,(ax1,ax2)=plt.subplots(1,2,figsize=(15,5))\n",
        "tweet_len_r=df_republicans['text'].str.split().map(lambda x: len(x))\n",
        "ax1.hist(tweet_len_r, color='r')\n",
        "ax1.set_title('Republicans')\n",
        "tweet_len_d=df_democrats['text'].str.split().map(lambda x: len(x))\n",
        "ax2.hist(tweet_len_d, color='b')\n",
        "ax2.set_title('Democrats')\n",
        "fig.suptitle('Number of words in tweets')\n",
        "plt.show()"
      ]
    },
    {
      "cell_type": "markdown",
      "metadata": {
        "id": "Ntq99JZmZZBz"
      },
      "source": [
        "#### Average word lenght in tweets"
      ]
    },
    {
      "cell_type": "code",
      "execution_count": 52,
      "metadata": {
        "id": "7MorvwdeZZB0",
        "outputId": "2c76d295-d784-4cc8-c445-2a809eae7b01",
        "colab": {
          "base_uri": "https://localhost:8080/",
          "height": 459
        }
      },
      "outputs": [
        {
          "output_type": "stream",
          "name": "stderr",
          "text": [
            "/usr/local/lib/python3.7/dist-packages/seaborn/distributions.py:2619: FutureWarning: `distplot` is a deprecated function and will be removed in a future version. Please adapt your code to use either `displot` (a figure-level function with similar flexibility) or `histplot` (an axes-level function for histograms).\n",
            "  warnings.warn(msg, FutureWarning)\n",
            "/usr/local/lib/python3.7/dist-packages/seaborn/distributions.py:2619: FutureWarning: `distplot` is a deprecated function and will be removed in a future version. Please adapt your code to use either `displot` (a figure-level function with similar flexibility) or `histplot` (an axes-level function for histograms).\n",
            "  warnings.warn(msg, FutureWarning)\n"
          ]
        },
        {
          "output_type": "display_data",
          "data": {
            "text/plain": [
              "<Figure size 1080x360 with 2 Axes>"
            ],
            "image/png": "[encoded data removed]"
          },
          "metadata": {
            "needs_background": "light"
          }
        }
      ],
      "source": [
        "fig,(ax1,ax2)=plt.subplots(1,2,figsize=(15,5))\n",
        "word=df_republicans['text'].str.split().apply(lambda x : [len(i) for i in x])\n",
        "sns.distplot(word.map(lambda x: np.mean(x)),ax=ax1,color='r')\n",
        "ax1.set_title('Republicans')\n",
        "ax1.set(xlim=(0, 20))\n",
        "word=df_democrats['text'].str.split().apply(lambda x : [len(i) for i in x])\n",
        "sns.distplot(word.map(lambda x: np.mean(x)),ax=ax2,color='b')\n",
        "ax2.set_title('Democrats')\n",
        "ax2.set(xlim=(0, 20))\n",
        "fig.suptitle('Average word lenght in tweets');"
      ]
    },
    {
      "cell_type": "code",
      "execution_count": 54,
      "metadata": {
        "id": "_PUwtUlcZZB1"
      },
      "outputs": [],
      "source": [
        "def create_list_of_words(label):\n",
        "    list_of_words=[]\n",
        "    \n",
        "    for x in df[df['label']==label]['text'].str.split():\n",
        "        for i in x:\n",
        "            list_of_words.append(i)\n",
        "    return list_of_words"
      ]
    },
    {
      "cell_type": "code",
      "execution_count": 55,
      "metadata": {
        "id": "X_qT5jO0ZZB2",
        "outputId": "1bb68653-a4da-4615-8cac-4cc2f2e41cce",
        "colab": {
          "base_uri": "https://localhost:8080/"
        }
      },
      "outputs": [
        {
          "output_type": "execute_result",
          "data": {
            "text/plain": [
              "['I',\n",
              " 'have',\n",
              " 'joined',\n",
              " 'my',\n",
              " 'fellow',\n",
              " 'co-chairs',\n",
              " 'of',\n",
              " 'the',\n",
              " 'Congressional',\n",
              " 'Coalition',\n",
              " 'on',\n",
              " 'Adoption',\n",
              " 'in',\n",
              " 'penning',\n",
              " 'a',\n",
              " 'letter',\n",
              " 'to',\n",
              " 'U.S.',\n",
              " 'Secretary…',\n",
              " 'https://t.co/5tsuISYbOL']"
            ]
          },
          "metadata": {},
          "execution_count": 55
        }
      ],
      "source": [
        "create_list_of_words(label='R')[:20]"
      ]
    },
    {
      "cell_type": "markdown",
      "metadata": {
        "id": "S3nDHUY0ZZB2"
      },
      "source": [
        "#### Punctuation and strange characters in tweets"
      ]
    },
    {
      "cell_type": "code",
      "execution_count": 56,
      "metadata": {
        "id": "dhuhhKjgZZB3",
        "outputId": "f7ac8b9b-00d9-4061-f13f-8a1bf7981422",
        "colab": {
          "base_uri": "https://localhost:8080/",
          "height": 374
        }
      },
      "outputs": [
        {
          "output_type": "display_data",
          "data": {
            "text/plain": [
              "<Figure size 1296x432 with 1 Axes>"
            ],
            "image/png": "[encoded data removed]"
          },
          "metadata": {
            "needs_background": "light"
          }
        }
      ],
      "source": [
        "import string\n",
        "\n",
        "plt.figure(figsize=(18,6))\n",
        "list_of_words = create_list_of_words(label='R') + create_list_of_words(label='D')\n",
        "\n",
        "punctuation = string.punctuation\n",
        "special_characters = []\n",
        "\n",
        "for word in list_of_words:\n",
        "    if word in punctuation:\n",
        "        special_characters.append(word)\n",
        "        \n",
        "dict_count_characters = {i:special_characters.count(i) for i in special_characters}\n",
        "dict_count_characters_ordered = sorted(dict_count_characters.items(), key=lambda x: x[1], reverse=True)\n",
        "\n",
        "characters = [i[0] for i in dict_count_characters_ordered]\n",
        "count = [i[1] for i in dict_count_characters_ordered]\n",
        "\n",
        "sns.barplot(x=count,y=characters);"
      ]
    },
    {
      "cell_type": "markdown",
      "metadata": {
        "id": "jQcmT2AOZZB4"
      },
      "source": [
        "#### Most common words in tweets"
      ]
    },
    {
      "cell_type": "code",
      "execution_count": 61,
      "metadata": {
        "id": "6kUYVGFNZZB4",
        "outputId": "227e4bde-b2aa-4cd0-ba2b-7be9eea5d159",
        "colab": {
          "base_uri": "https://localhost:8080/"
        }
      },
      "outputs": [
        {
          "output_type": "execute_result",
          "data": {
            "text/plain": [
              "[('the', 310206),\n",
              " ('to', 278773),\n",
              " ('of', 145827),\n",
              " ('and', 136995),\n",
              " ('in', 118824)]"
            ]
          },
          "metadata": {},
          "execution_count": 61
        }
      ],
      "source": [
        "from collections import Counter\n",
        "\n",
        "list_of_words_republicans = create_list_of_words(label='R')\n",
        "list_of_words_democrats = create_list_of_words(label='D')\n",
        "top_used_words_republicans = dict(Counter(list_of_words_republicans))\n",
        "top_used_words_democrats = dict(Counter(list_of_words_democrats))\n",
        "top_used_words_ordered_republicans = sorted(top_used_words_republicans.items(), key=lambda x: x[1], reverse=True)\n",
        "top_used_words_ordered_democrats = sorted(top_used_words_democrats.items(), key=lambda x: x[1], reverse=True)\n",
        "top_used_words_ordered_republicans[:5]"
      ]
    },
    {
      "cell_type": "code",
      "execution_count": 62,
      "metadata": {
        "id": "xyjcf43JZZB4",
        "outputId": "9fc15c6e-652a-4104-cc28-5c94dd77f566",
        "colab": {
          "base_uri": "https://localhost:8080/",
          "height": 390
        }
      },
      "outputs": [
        {
          "output_type": "display_data",
          "data": {
            "text/plain": [
              "<Figure size 1296x432 with 1 Axes>"
            ],
            "image/png": "[encoded data removed]"
          },
          "metadata": {
            "needs_background": "light"
          }
        }
      ],
      "source": [
        "words = [i[0] for i in top_used_words_ordered_republicans[:20]]\n",
        "count = [i[1] for i in top_used_words_ordered_republicans[:20]]\n",
        "sns.barplot(x=count,y=words).set_title('Most common words in Republicans tweets');"
      ]
    },
    {
      "cell_type": "code",
      "source": [
        "words = [i[0] for i in top_used_words_ordered_democrats[:20]]\n",
        "count = [i[1] for i in top_used_words_ordered_democrats[:20]]\n",
        "sns.barplot(x=count,y=words).set_title('Most common words in Democrats tweets');"
      ],
      "metadata": {
        "id": "jUZv-HxLo3qX",
        "outputId": "81aac46e-9839-4f25-922b-e41e586b816d",
        "colab": {
          "base_uri": "https://localhost:8080/",
          "height": 390
        }
      },
      "execution_count": 63,
      "outputs": [
        {
          "output_type": "display_data",
          "data": {
            "text/plain": [
              "<Figure size 1296x432 with 1 Axes>"
            ],
            "image/png": "[encoded data removed]"
          },
          "metadata": {
            "needs_background": "light"
          }
        }
      ]
    },
    {
      "cell_type": "markdown",
      "metadata": {
        "id": "9S9VrwJWZZB5"
      },
      "source": [
        "#### Most common words in tweets which are not stop words"
      ]
    },
    {
      "cell_type": "code",
      "execution_count": 64,
      "metadata": {
        "scrolled": true,
        "id": "R0bqPmnvZZB5",
        "outputId": "ea483138-3666-45c2-dabe-8635ef1bfd17",
        "colab": {
          "base_uri": "https://localhost:8080/",
          "height": 371
        }
      },
      "outputs": [
        {
          "output_type": "stream",
          "name": "stdout",
          "text": [
            "[nltk_data] Downloading package stopwords to /root/nltk_data...\n",
            "[nltk_data]   Unzipping corpora/stopwords.zip.\n"
          ]
        },
        {
          "output_type": "display_data",
          "data": {
            "text/plain": [
              "<Figure size 1152x360 with 1 Axes>"
            ],
            "image/png": "[encoded data removed]"
          },
          "metadata": {
            "needs_background": "light"
          }
        }
      ],
      "source": [
        "import nltk\n",
        "from nltk.corpus import stopwords\n",
        "nltk.download('stopwords')\n",
        "stop=set(stopwords.words('english'))\n",
        "\n",
        "words = []\n",
        "count = []\n",
        "for word, number in top_used_words_ordered_republicans:\n",
        "    if len(words) > 20:\n",
        "        break\n",
        "    elif (word not in stop):\n",
        "        words.append(word)\n",
        "        count.append(number)\n",
        "\n",
        "plt.figure(figsize=(16,5))\n",
        "sns.barplot(x=count,y=words).set_title('Most common words in Republicans tweets');"
      ]
    },
    {
      "cell_type": "code",
      "source": [
        "words = []\n",
        "count = []\n",
        "for word, number in top_used_words_ordered_democrats:\n",
        "    if len(words) > 20:\n",
        "        break\n",
        "    elif (word not in stop):\n",
        "        words.append(word)\n",
        "        count.append(number)\n",
        "\n",
        "plt.figure(figsize=(16,5))\n",
        "sns.barplot(x=count,y=words).set_title('Most common words in Democrats tweets');"
      ],
      "metadata": {
        "id": "0E704Pp2pWov",
        "outputId": "53d9a4c3-8176-48fb-b477-a2bfa4d3a49a",
        "colab": {
          "base_uri": "https://localhost:8080/",
          "height": 336
        }
      },
      "execution_count": 65,
      "outputs": [
        {
          "output_type": "display_data",
          "data": {
            "text/plain": [
              "<Figure size 1152x360 with 1 Axes>"
            ],
            "image/png": "[encoded data removed]"
          },
          "metadata": {
            "needs_background": "light"
          }
        }
      ]
    },
    {
      "cell_type": "markdown",
      "metadata": {
        "id": "RtruJuMzZZB6"
      },
      "source": [
        "#### Most common pairs of words in tweets"
      ]
    },
    {
      "cell_type": "code",
      "execution_count": 66,
      "metadata": {
        "id": "1Fyi9n5jZZB6"
      },
      "outputs": [],
      "source": [
        "def create_list_of_bigrams(label):\n",
        "    list_of_bigrams=[]\n",
        "    \n",
        "    for x in df[df['label']==label]['text'].str.split():\n",
        "        for i in range(len(x)-1):\n",
        "            list_of_bigrams.append(tuple(x[i:i+2]))\n",
        "    return list_of_bigrams"
      ]
    },
    {
      "cell_type": "code",
      "execution_count": 73,
      "metadata": {
        "id": "SVXkqYUTZZB7"
      },
      "outputs": [],
      "source": [
        "list_of_bigrams_republicans = create_list_of_bigrams(label='R')\n",
        "list_of_bigrams_democrats = create_list_of_bigrams(label='D')"
      ]
    },
    {
      "cell_type": "code",
      "execution_count": 74,
      "metadata": {
        "colab": {
          "base_uri": "https://localhost:8080/"
        },
        "id": "pwnwmJc3ZZB7",
        "outputId": "70a9716a-be01-4bb5-d6a3-1e0baa2cd9f8"
      },
      "outputs": [
        {
          "output_type": "execute_result",
          "data": {
            "text/plain": [
              "[(('of', 'the'), 31525),\n",
              " (('to', 'the'), 19869),\n",
              " (('in', 'the'), 19288),\n",
              " (('on', 'the'), 16871),\n",
              " (('for', 'the'), 15270)]"
            ]
          },
          "metadata": {},
          "execution_count": 74
        }
      ],
      "source": [
        "top_used_bigrams_republicans = dict(Counter(list_of_bigrams_republicans))\n",
        "top_used_bigrams_democrats = dict(Counter(list_of_bigrams_democrats))\n",
        "top_used_bigrams_ordered_republicans = sorted(top_used_bigrams_republicans.items(), key=lambda x: x[1], reverse=True)\n",
        "top_used_bigrams_ordered_democrats = sorted(top_used_bigrams_democrats.items(), key=lambda x: x[1], reverse=True)\n",
        "top_used_bigrams_ordered_republicans[:5]"
      ]
    },
    {
      "cell_type": "code",
      "execution_count": 75,
      "metadata": {
        "id": "9xHlfE-QZZB8"
      },
      "outputs": [],
      "source": [
        "#transform the bigrams from tuple to string\n",
        "for i in range(len(top_used_bigrams_ordered_republicans)):\n",
        "    top_used_bigrams_ordered_republicans[i] = (\" \".join(top_used_bigrams_ordered_republicans[i][0]), top_used_bigrams_ordered_republicans[i][1])\n",
        "for i in range(len(top_used_bigrams_ordered_democrats)):\n",
        "    top_used_bigrams_ordered_democrats[i] = (\" \".join(top_used_bigrams_ordered_democrats[i][0]), top_used_bigrams_ordered_democrats[i][1])"
      ]
    },
    {
      "cell_type": "code",
      "execution_count": 76,
      "metadata": {
        "id": "ZpyORA1PZZB8",
        "outputId": "f6796d40-2df3-430f-f7b8-39a1da923344",
        "colab": {
          "base_uri": "https://localhost:8080/"
        }
      },
      "outputs": [
        {
          "output_type": "execute_result",
          "data": {
            "text/plain": [
              "[('of the', 31525),\n",
              " ('to the', 19869),\n",
              " ('in the', 19288),\n",
              " ('on the', 16871),\n",
              " ('for the', 15270),\n",
              " ('at the', 11193),\n",
              " ('Thank you', 10717),\n",
              " ('is a', 10644),\n",
              " ('to be', 9172),\n",
              " ('I am', 8437),\n",
              " ('and the', 7487),\n",
              " ('with the', 6970),\n",
              " ('of our', 6890),\n",
              " ('to see', 6850),\n",
              " ('to discuss', 6766),\n",
              " ('This is', 6416),\n",
              " ('you to', 6283),\n",
              " ('will be', 5975),\n",
              " ('and I', 5824),\n",
              " ('a great', 5659)]"
            ]
          },
          "metadata": {},
          "execution_count": 76
        }
      ],
      "source": [
        "top_used_bigrams_ordered_republicans[:20]"
      ]
    },
    {
      "cell_type": "code",
      "execution_count": null,
      "metadata": {
        "id": "HPn5MFs6ZZB8",
        "outputId": "3c962162-69c0-4e3c-a049-8338e9556006"
      },
      "outputs": [
        {
          "data": {
            "text/plain": [
              "<AxesSubplot:>"
            ]
          },
          "execution_count": 25,
          "metadata": {},
          "output_type": "execute_result"
        },
        {
          "data": {
            "image/png": "[encoded data removed]",
            "text/plain": [
              "<Figure size 1296x432 with 1 Axes>"
            ]
          },
          "metadata": {
            "needs_background": "light"
          },
          "output_type": "display_data"
        }
      ],
      "source": [
        "x,y=map(list,zip(*top_used_bigrams_ordered_republicans[:20]))\n",
        "sns.barplot(x=y,y=x).set_title('Most common pairs of words in Republicans tweets')"
      ]
    },
    {
      "cell_type": "code",
      "source": [
        "x,y=map(list,zip(*top_used_bigrams_ordered_democrats[:20]))\n",
        "sns.barplot(x=y,y=x).set_title('Most common pairs of words in Republicans tweets')"
      ],
      "metadata": {
        "id": "3u-r4qGprGl1",
        "outputId": "9a9567c7-8fe2-44af-ede8-b0cf0f42ba34",
        "colab": {
          "base_uri": "https://localhost:8080/",
          "height": 407
        }
      },
      "execution_count": 77,
      "outputs": [
        {
          "output_type": "execute_result",
          "data": {
            "text/plain": [
              "Text(0.5, 1.0, 'Most common pairs of words in Republicans tweets')"
            ]
          },
          "metadata": {},
          "execution_count": 77
        },
        {
          "output_type": "display_data",
          "data": {
            "text/plain": [
              "<Figure size 1296x432 with 1 Axes>"
            ],
            "image/png": "[encoded data removed]"
          },
          "metadata": {
            "needs_background": "light"
          }
        }
      ]
    },
    {
      "cell_type": "markdown",
      "metadata": {
        "id": "3a9ImaIgZZB9"
      },
      "source": [
        "#### I suspect that there are gonna be URLs"
      ]
    },
    {
      "cell_type": "code",
      "execution_count": 78,
      "metadata": {
        "id": "PnltahrSZZB9",
        "outputId": "5bbcd327-4c0b-4173-ade0-ed146c9fe482",
        "colab": {
          "base_uri": "https://localhost:8080/",
          "height": 641
        }
      },
      "outputs": [
        {
          "output_type": "execute_result",
          "data": {
            "text/plain": [
              "                         id        user      username          created_at  \\\n",
              "0       1506705587903598597  2916086925      RepAdams 2022-03-23 18:53:00   \n",
              "1       1506279598140633101  2916086925      RepAdams 2022-03-22 14:40:16   \n",
              "2       1506012530824531975  2916086925      RepAdams 2022-03-21 20:59:02   \n",
              "3       1505996638401224708  2916086925      RepAdams 2022-03-21 19:55:53   \n",
              "4       1505906800272490506  2916086925      RepAdams 2022-03-21 13:58:54   \n",
              "...                     ...         ...           ...                 ...   \n",
              "953911  1100533350127861765  2750127259  RepLeeZeldin 2019-02-26 23:09:32   \n",
              "953912  1100436653812973568  2750127259  RepLeeZeldin 2019-02-26 16:45:18   \n",
              "953913  1100365549614309376  2750127259  RepLeeZeldin 2019-02-26 12:02:45   \n",
              "953915  1099288604642340865  2750127259  RepLeeZeldin 2019-02-23 12:43:21   \n",
              "953916  1098979664519929856  2750127259  RepLeeZeldin 2019-02-22 16:15:44   \n",
              "\n",
              "                                                     text lang label  \\\n",
              "0       Madeleine Albright often said, “There is a spe...   en     D   \n",
              "1       Judge Ketanji Brown Jackson:\\n\\n✔️ Received a ...   en     D   \n",
              "2       When I Grow Up is a virtual forum designed to ...   en     D   \n",
              "3       Ketanji Brown Jackson's parents, Ellery &amp; ...   en     D   \n",
              "4       Judge Ketanji Brown Jackson is the most qualif...   en     D   \n",
              "...                                                   ...  ...   ...   \n",
              "953911  Wishing POTUS &amp; his team the very best thi...   en     R   \n",
              "953912  Infanticide couldn't be more wrong. \\n\\nSuppor...   en     R   \n",
              "953913  #CancerPreventionMonth raises awareness of ste...   en     R   \n",
              "953915  #AmericanHeartMonth raises awareness of heart ...   en     R   \n",
              "953916  Riverhead is a great, diverse small town in NY...   en     R   \n",
              "\n",
              "       retweet_count favorite_count  length  \n",
              "0                 56            196     140  \n",
              "1                 13             26     140  \n",
              "2                  5              4     140  \n",
              "3                  8             31     144  \n",
              "4                 19            102     140  \n",
              "...              ...            ...     ...  \n",
              "953911            54            325     144  \n",
              "953912           181            575     140  \n",
              "953913             2             18     143  \n",
              "953915            11             28     144  \n",
              "953916            23            120     140  \n",
              "\n",
              "[881910 rows x 10 columns]"
            ],
            "text/html": [
              "\n",
              "  <div id=\"df-8301dcdc-08ad-48ae-a050-7d0c403d5155\">\n",
              "    <div class=\"colab-df-container\">\n",
              "      <div>\n",
              "<style scoped>\n",
              "    .dataframe tbody tr th:only-of-type {\n",
              "        vertical-align: middle;\n",
              "    }\n",
              "\n",
              "    .dataframe tbody tr th {\n",
              "        vertical-align: top;\n",
              "    }\n",
              "\n",
              "    .dataframe thead th {\n",
              "        text-align: right;\n",
              "    }\n",
              "</style>\n",
              "<table border=\"1\" class=\"dataframe\">\n",
              "  <thead>\n",
              "    <tr style=\"text-align: right;\">\n",
              "      <th></th>\n",
              "      <th>id</th>\n",
              "      <th>user</th>\n",
              "      <th>username</th>\n",
              "      <th>created_at</th>\n",
              "      <th>text</th>\n",
              "      <th>lang</th>\n",
              "      <th>label</th>\n",
              "      <th>retweet_count</th>\n",
              "      <th>favorite_count</th>\n",
              "      <th>length</th>\n",
              "    </tr>\n",
              "  </thead>\n",
              "  <tbody>\n",
              "    <tr>\n",
              "      <th>0</th>\n",
              "      <td>1506705587903598597</td>\n",
              "      <td>2916086925</td>\n",
              "      <td>RepAdams</td>\n",
              "      <td>2022-03-23 18:53:00</td>\n",
              "      <td>Madeleine Albright often said, “There is a spe...</td>\n",
              "      <td>en</td>\n",
              "      <td>D</td>\n",
              "      <td>56</td>\n",
              "      <td>196</td>\n",
              "      <td>140</td>\n",
              "    </tr>\n",
              "    <tr>\n",
              "      <th>1</th>\n",
              "      <td>1506279598140633101</td>\n",
              "      <td>2916086925</td>\n",
              "      <td>RepAdams</td>\n",
              "      <td>2022-03-22 14:40:16</td>\n",
              "      <td>Judge Ketanji Brown Jackson:\\n\\n✔️ Received a ...</td>\n",
              "      <td>en</td>\n",
              "      <td>D</td>\n",
              "      <td>13</td>\n",
              "      <td>26</td>\n",
              "      <td>140</td>\n",
              "    </tr>\n",
              "    <tr>\n",
              "      <th>2</th>\n",
              "      <td>1506012530824531975</td>\n",
              "      <td>2916086925</td>\n",
              "      <td>RepAdams</td>\n",
              "      <td>2022-03-21 20:59:02</td>\n",
              "      <td>When I Grow Up is a virtual forum designed to ...</td>\n",
              "      <td>en</td>\n",
              "      <td>D</td>\n",
              "      <td>5</td>\n",
              "      <td>4</td>\n",
              "      <td>140</td>\n",
              "    </tr>\n",
              "    <tr>\n",
              "      <th>3</th>\n",
              "      <td>1505996638401224708</td>\n",
              "      <td>2916086925</td>\n",
              "      <td>RepAdams</td>\n",
              "      <td>2022-03-21 19:55:53</td>\n",
              "      <td>Ketanji Brown Jackson's parents, Ellery &amp;amp; ...</td>\n",
              "      <td>en</td>\n",
              "      <td>D</td>\n",
              "      <td>8</td>\n",
              "      <td>31</td>\n",
              "      <td>144</td>\n",
              "    </tr>\n",
              "    <tr>\n",
              "      <th>4</th>\n",
              "      <td>1505906800272490506</td>\n",
              "      <td>2916086925</td>\n",
              "      <td>RepAdams</td>\n",
              "      <td>2022-03-21 13:58:54</td>\n",
              "      <td>Judge Ketanji Brown Jackson is the most qualif...</td>\n",
              "      <td>en</td>\n",
              "      <td>D</td>\n",
              "      <td>19</td>\n",
              "      <td>102</td>\n",
              "      <td>140</td>\n",
              "    </tr>\n",
              "    <tr>\n",
              "      <th>...</th>\n",
              "      <td>...</td>\n",
              "      <td>...</td>\n",
              "      <td>...</td>\n",
              "      <td>...</td>\n",
              "      <td>...</td>\n",
              "      <td>...</td>\n",
              "      <td>...</td>\n",
              "      <td>...</td>\n",
              "      <td>...</td>\n",
              "      <td>...</td>\n",
              "    </tr>\n",
              "    <tr>\n",
              "      <th>953911</th>\n",
              "      <td>1100533350127861765</td>\n",
              "      <td>2750127259</td>\n",
              "      <td>RepLeeZeldin</td>\n",
              "      <td>2019-02-26 23:09:32</td>\n",
              "      <td>Wishing POTUS &amp;amp; his team the very best thi...</td>\n",
              "      <td>en</td>\n",
              "      <td>R</td>\n",
              "      <td>54</td>\n",
              "      <td>325</td>\n",
              "      <td>144</td>\n",
              "    </tr>\n",
              "    <tr>\n",
              "      <th>953912</th>\n",
              "      <td>1100436653812973568</td>\n",
              "      <td>2750127259</td>\n",
              "      <td>RepLeeZeldin</td>\n",
              "      <td>2019-02-26 16:45:18</td>\n",
              "      <td>Infanticide couldn't be more wrong. \\n\\nSuppor...</td>\n",
              "      <td>en</td>\n",
              "      <td>R</td>\n",
              "      <td>181</td>\n",
              "      <td>575</td>\n",
              "      <td>140</td>\n",
              "    </tr>\n",
              "    <tr>\n",
              "      <th>953913</th>\n",
              "      <td>1100365549614309376</td>\n",
              "      <td>2750127259</td>\n",
              "      <td>RepLeeZeldin</td>\n",
              "      <td>2019-02-26 12:02:45</td>\n",
              "      <td>#CancerPreventionMonth raises awareness of ste...</td>\n",
              "      <td>en</td>\n",
              "      <td>R</td>\n",
              "      <td>2</td>\n",
              "      <td>18</td>\n",
              "      <td>143</td>\n",
              "    </tr>\n",
              "    <tr>\n",
              "      <th>953915</th>\n",
              "      <td>1099288604642340865</td>\n",
              "      <td>2750127259</td>\n",
              "      <td>RepLeeZeldin</td>\n",
              "      <td>2019-02-23 12:43:21</td>\n",
              "      <td>#AmericanHeartMonth raises awareness of heart ...</td>\n",
              "      <td>en</td>\n",
              "      <td>R</td>\n",
              "      <td>11</td>\n",
              "      <td>28</td>\n",
              "      <td>144</td>\n",
              "    </tr>\n",
              "    <tr>\n",
              "      <th>953916</th>\n",
              "      <td>1098979664519929856</td>\n",
              "      <td>2750127259</td>\n",
              "      <td>RepLeeZeldin</td>\n",
              "      <td>2019-02-22 16:15:44</td>\n",
              "      <td>Riverhead is a great, diverse small town in NY...</td>\n",
              "      <td>en</td>\n",
              "      <td>R</td>\n",
              "      <td>23</td>\n",
              "      <td>120</td>\n",
              "      <td>140</td>\n",
              "    </tr>\n",
              "  </tbody>\n",
              "</table>\n",
              "<p>881910 rows × 10 columns</p>\n",
              "</div>\n",
              "      <button class=\"colab-df-convert\" onclick=\"convertToInteractive('df-8301dcdc-08ad-48ae-a050-7d0c403d5155')\"\n",
              "              title=\"Convert this dataframe to an interactive table.\"\n",
              "              style=\"display:none;\">\n",
              "        \n",
              "  <svg xmlns=\"http://www.w3.org/2000/svg\" height=\"24px\"viewBox=\"0 0 24 24\"\n",
              "       width=\"24px\">\n",
              "    <path d=\"M0 0h24v24H0V0z\" fill=\"none\"/>\n",
              "    <path d=\"M18.56 5.44l.94 2.06.94-2.06 2.06-.94-2.06-.94-.94-2.06-.94 2.06-2.06.94zm-11 1L8.5 8.5l.94-2.06 2.06-.94-2.06-.94L8.5 2.5l-.94 2.06-2.06.94zm10 10l.94 2.06.94-2.06 2.06-.94-2.06-.94-.94-2.06-.94 2.06-2.06.94z\"/><path d=\"M17.41 7.96l-1.37-1.37c-.4-.4-.92-.59-1.43-.59-.52 0-1.04.2-1.43.59L10.3 9.45l-7.72 7.72c-.78.78-.78 2.05 0 2.83L4 21.41c.39.39.9.59 1.41.59.51 0 1.02-.2 1.41-.59l7.78-7.78 2.81-2.81c.8-.78.8-2.07 0-2.86zM5.41 20L4 18.59l7.72-7.72 1.47 1.35L5.41 20z\"/>\n",
              "  </svg>\n",
              "      </button>\n",
              "      \n",
              "  <style>\n",
              "    .colab-df-container {\n",
              "      display:flex;\n",
              "      flex-wrap:wrap;\n",
              "      gap: 12px;\n",
              "    }\n",
              "\n",
              "    .colab-df-convert {\n",
              "      background-color: #E8F0FE;\n",
              "      border: none;\n",
              "      border-radius: 50%;\n",
              "      cursor: pointer;\n",
              "      display: none;\n",
              "      fill: #1967D2;\n",
              "      height: 32px;\n",
              "      padding: 0 0 0 0;\n",
              "      width: 32px;\n",
              "    }\n",
              "\n",
              "    .colab-df-convert:hover {\n",
              "      background-color: #E2EBFA;\n",
              "      box-shadow: 0px 1px 2px rgba(60, 64, 67, 0.3), 0px 1px 3px 1px rgba(60, 64, 67, 0.15);\n",
              "      fill: #174EA6;\n",
              "    }\n",
              "\n",
              "    [theme=dark] .colab-df-convert {\n",
              "      background-color: #3B4455;\n",
              "      fill: #D2E3FC;\n",
              "    }\n",
              "\n",
              "    [theme=dark] .colab-df-convert:hover {\n",
              "      background-color: #434B5C;\n",
              "      box-shadow: 0px 1px 3px 1px rgba(0, 0, 0, 0.15);\n",
              "      filter: drop-shadow(0px 1px 2px rgba(0, 0, 0, 0.3));\n",
              "      fill: #FFFFFF;\n",
              "    }\n",
              "  </style>\n",
              "\n",
              "      <script>\n",
              "        const buttonEl =\n",
              "          document.querySelector('#df-8301dcdc-08ad-48ae-a050-7d0c403d5155 button.colab-df-convert');\n",
              "        buttonEl.style.display =\n",
              "          google.colab.kernel.accessAllowed ? 'block' : 'none';\n",
              "\n",
              "        async function convertToInteractive(key) {\n",
              "          const element = document.querySelector('#df-8301dcdc-08ad-48ae-a050-7d0c403d5155');\n",
              "          const dataTable =\n",
              "            await google.colab.kernel.invokeFunction('convertToInteractive',\n",
              "                                                     [key], {});\n",
              "          if (!dataTable) return;\n",
              "\n",
              "          const docLinkHtml = 'Like what you see? Visit the ' +\n",
              "            '<a target=\"_blank\" href=https://colab.research.google.com/notebooks/data_table.ipynb>data table notebook</a>'\n",
              "            + ' to learn more about interactive tables.';\n",
              "          element.innerHTML = '';\n",
              "          dataTable['output_type'] = 'display_data';\n",
              "          await google.colab.output.renderOutput(dataTable, element);\n",
              "          const docLink = document.createElement('div');\n",
              "          docLink.innerHTML = docLinkHtml;\n",
              "          element.appendChild(docLink);\n",
              "        }\n",
              "      </script>\n",
              "    </div>\n",
              "  </div>\n",
              "  "
            ]
          },
          "metadata": {},
          "execution_count": 78
        }
      ],
      "source": [
        "df.query('text.str.contains(\"http\")', engine='python')"
      ]
    },
    {
      "cell_type": "markdown",
      "metadata": {
        "id": "FPcwmn0hZZB-"
      },
      "source": [
        "# WE HAVE TO CLEAN EVERYTHING, THIS IS FULL OF SHIT"
      ]
    }
  ],
  "metadata": {
    "kernelspec": {
      "display_name": "Python 3 (ipykernel)",
      "language": "python",
      "name": "python3"
    },
    "language_info": {
      "codemirror_mode": {
        "name": "ipython",
        "version": 3
      },
      "file_extension": ".py",
      "mimetype": "text/x-python",
      "name": "python",
      "nbconvert_exporter": "python",
      "pygments_lexer": "ipython3",
      "version": "3.8.11"
    },
    "colab": {
      "name": "pre_data_cleaning.ipynb",
      "provenance": []
    },
    "accelerator": "GPU"
  },
  "nbformat": 4,
  "nbformat_minor": 0
}