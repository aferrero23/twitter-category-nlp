{
  "cells": [
    {
      "cell_type": "markdown",
      "metadata": {
        "id": "lJs7YPB4ZZBF"
      },
      "source": [
        "## TODO:\n",
        "    1- Add more comments to processes and functions\n",
        "    2- Modify code for more people\n",
        "    3- Add conclusions to plots"
      ]
    },
    {
      "cell_type": "markdown",
      "metadata": {
        "id": "wyEvoktEZZBP"
      },
      "source": [
        "#### Import libraries"
      ]
    },
    {
      "cell_type": "code",
      "execution_count": 2,
      "metadata": {
        "id": "94WKA01pZZBQ"
      },
      "outputs": [],
      "source": [
        "import pandas as pd\n",
        "import numpy as np\n",
        "import matplotlib.pyplot as plt\n",
        "from datetime import datetime\n",
        "import seaborn as sns\n",
        "import glob\n",
        "import re"
      ]
    },
    {
      "cell_type": "markdown",
      "metadata": {
        "id": "RIcLH9KlZZBT"
      },
      "source": [
        "#### Read file"
      ]
    },
    {
      "cell_type": "code",
      "source": [
        "df_eeuu_member_of_congress = pd.read_csv('https://raw.githubusercontent.com/alexferrero23/twitter-category-nlp/develop/data/eeuu_member_of_congress.csv', sep=';')"
      ],
      "metadata": {
        "id": "J_rDl7kKazWW"
      },
      "execution_count": 3,
      "outputs": []
    },
    {
      "cell_type": "code",
      "source": [
        "list_senators = df_eeuu_member_of_congress['Twitter'].dropna().tolist()\n",
        "list_senators = [x.replace('@', '') for x in list_senators]\n",
        "list_senators = [x.replace(' ', '') for x in list_senators]"
      ],
      "metadata": {
        "id": "O97pmwUwbF9b"
      },
      "execution_count": 4,
      "outputs": []
    },
    {
      "cell_type": "code",
      "execution_count": 5,
      "metadata": {
        "colab": {
          "base_uri": "https://localhost:8080/"
        },
        "id": "oKKvTFFWZZBY",
        "outputId": "80230286-11c4-4fbf-f6fc-83f26945a353"
      },
      "outputs": [
        {
          "output_type": "stream",
          "name": "stdout",
          "text": [
            "Error tokenizing data. C error: Buffer overflow caught - possible malformed input file.\n",
            "\n",
            "User RepRonKind was not read\n",
            "HTTP Error 404: Not Found\n",
            "User SenatorLeahy was not read\n",
            "Len of the dataframe: 938825\n"
          ]
        }
      ],
      "source": [
        "df = pd.DataFrame(columns=[\"id\", \"user\", \"username\", \"created_at\", \"text\", \"lang\", \"label\",\"retweet_count\", \"favorite_count\"])\n",
        "\n",
        "for user in list_senators:\n",
        "    try:\n",
        "        df_user = pd.read_csv(f\"https://raw.githubusercontent.com/alexferrero23/twitter-category-nlp/develop/data/{user}.csv\", sep=\"|\")\n",
        "        #user = re.search('data/(.*).csv', path).group(1)\n",
        "        df_user['username'] = user\n",
        "        df = pd.concat([df, df_user], ignore_index=True)\n",
        "    except Exception as e:\n",
        "        print(e)\n",
        "        print(f\"User {user} was not read\")\n",
        "\n",
        "#df = pd.read_csv(list_data[0], sep=\"|\")\n",
        "#Only in english\n",
        "df = df[df['lang']=='en']\n",
        "print(f\"Len of the dataframe: {len(df)}\")"
      ]
    },
    {
      "cell_type": "code",
      "execution_count": 6,
      "metadata": {
        "colab": {
          "base_uri": "https://localhost:8080/",
          "height": 206
        },
        "id": "ThRqru0yZZBZ",
        "outputId": "31d85702-30b3-4598-a64c-c44fbee62b90"
      },
      "outputs": [
        {
          "output_type": "execute_result",
          "data": {
            "text/plain": [
              "                    id        user  username                      created_at  \\\n",
              "0  1506705587903598597  2916086925  RepAdams  Wed Mar 23 18:53:00 +0000 2022   \n",
              "1  1506279598140633101  2916086925  RepAdams  Tue Mar 22 14:40:16 +0000 2022   \n",
              "2  1506012530824531975  2916086925  RepAdams  Mon Mar 21 20:59:02 +0000 2022   \n",
              "3  1505996638401224708  2916086925  RepAdams  Mon Mar 21 19:55:53 +0000 2022   \n",
              "4  1505906800272490506  2916086925  RepAdams  Mon Mar 21 13:58:54 +0000 2022   \n",
              "\n",
              "                                                text lang label retweet_count  \\\n",
              "0  Madeleine Albright often said, “There is a spe...   en     D            56   \n",
              "1  Judge Ketanji Brown Jackson:\\n\\n✔️ Received a ...   en     D            13   \n",
              "2  When I Grow Up is a virtual forum designed to ...   en     D             5   \n",
              "3  Ketanji Brown Jackson's parents, Ellery &amp; ...   en     D             8   \n",
              "4  Judge Ketanji Brown Jackson is the most qualif...   en     D            19   \n",
              "\n",
              "  favorite_count  \n",
              "0            196  \n",
              "1             26  \n",
              "2              4  \n",
              "3             31  \n",
              "4            102  "
            ],
            "text/html": [
              "\n",
              "  <div id=\"df-392ee4e5-e8c1-462c-a9ce-1c7ac8bc3c57\">\n",
              "    <div class=\"colab-df-container\">\n",
              "      <div>\n",
              "<style scoped>\n",
              "    .dataframe tbody tr th:only-of-type {\n",
              "        vertical-align: middle;\n",
              "    }\n",
              "\n",
              "    .dataframe tbody tr th {\n",
              "        vertical-align: top;\n",
              "    }\n",
              "\n",
              "    .dataframe thead th {\n",
              "        text-align: right;\n",
              "    }\n",
              "</style>\n",
              "<table border=\"1\" class=\"dataframe\">\n",
              "  <thead>\n",
              "    <tr style=\"text-align: right;\">\n",
              "      <th></th>\n",
              "      <th>id</th>\n",
              "      <th>user</th>\n",
              "      <th>username</th>\n",
              "      <th>created_at</th>\n",
              "      <th>text</th>\n",
              "      <th>lang</th>\n",
              "      <th>label</th>\n",
              "      <th>retweet_count</th>\n",
              "      <th>favorite_count</th>\n",
              "    </tr>\n",
              "  </thead>\n",
              "  <tbody>\n",
              "    <tr>\n",
              "      <th>0</th>\n",
              "      <td>1506705587903598597</td>\n",
              "      <td>2916086925</td>\n",
              "      <td>RepAdams</td>\n",
              "      <td>Wed Mar 23 18:53:00 +0000 2022</td>\n",
              "      <td>Madeleine Albright often said, “There is a spe...</td>\n",
              "      <td>en</td>\n",
              "      <td>D</td>\n",
              "      <td>56</td>\n",
              "      <td>196</td>\n",
              "    </tr>\n",
              "    <tr>\n",
              "      <th>1</th>\n",
              "      <td>1506279598140633101</td>\n",
              "      <td>2916086925</td>\n",
              "      <td>RepAdams</td>\n",
              "      <td>Tue Mar 22 14:40:16 +0000 2022</td>\n",
              "      <td>Judge Ketanji Brown Jackson:\\n\\n✔️ Received a ...</td>\n",
              "      <td>en</td>\n",
              "      <td>D</td>\n",
              "      <td>13</td>\n",
              "      <td>26</td>\n",
              "    </tr>\n",
              "    <tr>\n",
              "      <th>2</th>\n",
              "      <td>1506012530824531975</td>\n",
              "      <td>2916086925</td>\n",
              "      <td>RepAdams</td>\n",
              "      <td>Mon Mar 21 20:59:02 +0000 2022</td>\n",
              "      <td>When I Grow Up is a virtual forum designed to ...</td>\n",
              "      <td>en</td>\n",
              "      <td>D</td>\n",
              "      <td>5</td>\n",
              "      <td>4</td>\n",
              "    </tr>\n",
              "    <tr>\n",
              "      <th>3</th>\n",
              "      <td>1505996638401224708</td>\n",
              "      <td>2916086925</td>\n",
              "      <td>RepAdams</td>\n",
              "      <td>Mon Mar 21 19:55:53 +0000 2022</td>\n",
              "      <td>Ketanji Brown Jackson's parents, Ellery &amp;amp; ...</td>\n",
              "      <td>en</td>\n",
              "      <td>D</td>\n",
              "      <td>8</td>\n",
              "      <td>31</td>\n",
              "    </tr>\n",
              "    <tr>\n",
              "      <th>4</th>\n",
              "      <td>1505906800272490506</td>\n",
              "      <td>2916086925</td>\n",
              "      <td>RepAdams</td>\n",
              "      <td>Mon Mar 21 13:58:54 +0000 2022</td>\n",
              "      <td>Judge Ketanji Brown Jackson is the most qualif...</td>\n",
              "      <td>en</td>\n",
              "      <td>D</td>\n",
              "      <td>19</td>\n",
              "      <td>102</td>\n",
              "    </tr>\n",
              "  </tbody>\n",
              "</table>\n",
              "</div>\n",
              "      <button class=\"colab-df-convert\" onclick=\"convertToInteractive('df-392ee4e5-e8c1-462c-a9ce-1c7ac8bc3c57')\"\n",
              "              title=\"Convert this dataframe to an interactive table.\"\n",
              "              style=\"display:none;\">\n",
              "        \n",
              "  <svg xmlns=\"http://www.w3.org/2000/svg\" height=\"24px\"viewBox=\"0 0 24 24\"\n",
              "       width=\"24px\">\n",
              "    <path d=\"M0 0h24v24H0V0z\" fill=\"none\"/>\n",
              "    <path d=\"M18.56 5.44l.94 2.06.94-2.06 2.06-.94-2.06-.94-.94-2.06-.94 2.06-2.06.94zm-11 1L8.5 8.5l.94-2.06 2.06-.94-2.06-.94L8.5 2.5l-.94 2.06-2.06.94zm10 10l.94 2.06.94-2.06 2.06-.94-2.06-.94-.94-2.06-.94 2.06-2.06.94z\"/><path d=\"M17.41 7.96l-1.37-1.37c-.4-.4-.92-.59-1.43-.59-.52 0-1.04.2-1.43.59L10.3 9.45l-7.72 7.72c-.78.78-.78 2.05 0 2.83L4 21.41c.39.39.9.59 1.41.59.51 0 1.02-.2 1.41-.59l7.78-7.78 2.81-2.81c.8-.78.8-2.07 0-2.86zM5.41 20L4 18.59l7.72-7.72 1.47 1.35L5.41 20z\"/>\n",
              "  </svg>\n",
              "      </button>\n",
              "      \n",
              "  <style>\n",
              "    .colab-df-container {\n",
              "      display:flex;\n",
              "      flex-wrap:wrap;\n",
              "      gap: 12px;\n",
              "    }\n",
              "\n",
              "    .colab-df-convert {\n",
              "      background-color: #E8F0FE;\n",
              "      border: none;\n",
              "      border-radius: 50%;\n",
              "      cursor: pointer;\n",
              "      display: none;\n",
              "      fill: #1967D2;\n",
              "      height: 32px;\n",
              "      padding: 0 0 0 0;\n",
              "      width: 32px;\n",
              "    }\n",
              "\n",
              "    .colab-df-convert:hover {\n",
              "      background-color: #E2EBFA;\n",
              "      box-shadow: 0px 1px 2px rgba(60, 64, 67, 0.3), 0px 1px 3px 1px rgba(60, 64, 67, 0.15);\n",
              "      fill: #174EA6;\n",
              "    }\n",
              "\n",
              "    [theme=dark] .colab-df-convert {\n",
              "      background-color: #3B4455;\n",
              "      fill: #D2E3FC;\n",
              "    }\n",
              "\n",
              "    [theme=dark] .colab-df-convert:hover {\n",
              "      background-color: #434B5C;\n",
              "      box-shadow: 0px 1px 3px 1px rgba(0, 0, 0, 0.15);\n",
              "      filter: drop-shadow(0px 1px 2px rgba(0, 0, 0, 0.3));\n",
              "      fill: #FFFFFF;\n",
              "    }\n",
              "  </style>\n",
              "\n",
              "      <script>\n",
              "        const buttonEl =\n",
              "          document.querySelector('#df-392ee4e5-e8c1-462c-a9ce-1c7ac8bc3c57 button.colab-df-convert');\n",
              "        buttonEl.style.display =\n",
              "          google.colab.kernel.accessAllowed ? 'block' : 'none';\n",
              "\n",
              "        async function convertToInteractive(key) {\n",
              "          const element = document.querySelector('#df-392ee4e5-e8c1-462c-a9ce-1c7ac8bc3c57');\n",
              "          const dataTable =\n",
              "            await google.colab.kernel.invokeFunction('convertToInteractive',\n",
              "                                                     [key], {});\n",
              "          if (!dataTable) return;\n",
              "\n",
              "          const docLinkHtml = 'Like what you see? Visit the ' +\n",
              "            '<a target=\"_blank\" href=https://colab.research.google.com/notebooks/data_table.ipynb>data table notebook</a>'\n",
              "            + ' to learn more about interactive tables.';\n",
              "          element.innerHTML = '';\n",
              "          dataTable['output_type'] = 'display_data';\n",
              "          await google.colab.output.renderOutput(dataTable, element);\n",
              "          const docLink = document.createElement('div');\n",
              "          docLink.innerHTML = docLinkHtml;\n",
              "          element.appendChild(docLink);\n",
              "        }\n",
              "      </script>\n",
              "    </div>\n",
              "  </div>\n",
              "  "
            ]
          },
          "metadata": {},
          "execution_count": 6
        }
      ],
      "source": [
        "df.head()"
      ]
    },
    {
      "cell_type": "code",
      "execution_count": 6,
      "metadata": {
        "colab": {
          "base_uri": "https://localhost:8080/"
        },
        "id": "GfwE4ASNZZBb",
        "outputId": "907ab1a1-4430-4608-94be-aba9c1f35f97"
      },
      "outputs": [
        {
          "output_type": "execute_result",
          "data": {
            "text/plain": [
              "array(['D', 'R', 'I'], dtype=object)"
            ]
          },
          "metadata": {},
          "execution_count": 6
        }
      ],
      "source": [
        "df.label.unique()"
      ]
    },
    {
      "cell_type": "code",
      "execution_count": 7,
      "metadata": {
        "colab": {
          "base_uri": "https://localhost:8080/"
        },
        "id": "2gXxMYk2ZZBd",
        "outputId": "e7cbd9e6-1f05-4f0a-c52d-9d93c4e50363"
      },
      "outputs": [
        {
          "output_type": "execute_result",
          "data": {
            "text/plain": [
              "array(['SenAngusKing', 'SenSanders'], dtype=object)"
            ]
          },
          "metadata": {},
          "execution_count": 7
        }
      ],
      "source": [
        "df[df['label']=='I'].username.unique()"
      ]
    },
    {
      "cell_type": "markdown",
      "metadata": {
        "id": "0sAnkd7hZZBe"
      },
      "source": [
        "#### There are two members who are independent, but according to their political career, both will be considered as democrats as both have caucused with the Democratic Party "
      ]
    },
    {
      "cell_type": "code",
      "execution_count": 8,
      "metadata": {
        "id": "QBh2pHhNZZBf"
      },
      "outputs": [],
      "source": [
        "df['label'] = df['label'].apply(lambda x: x.replace('I', 'D'))"
      ]
    },
    {
      "cell_type": "markdown",
      "metadata": {
        "id": "GGzdwXWZZZBg"
      },
      "source": [
        "#### First of all, lets transform twitter date to python datetime"
      ]
    },
    {
      "cell_type": "code",
      "execution_count": 9,
      "metadata": {
        "id": "pt6glixFZZBh"
      },
      "outputs": [],
      "source": [
        "def twitter_date_to_datetime(twitter_date):\n",
        "    return datetime.strptime(twitter_date,'%a %b %d %H:%M:%S +0000 %Y')"
      ]
    },
    {
      "cell_type": "code",
      "execution_count": 10,
      "metadata": {
        "id": "Z446EVsVZZBi"
      },
      "outputs": [],
      "source": [
        "df['created_at'] = df['created_at'].apply(twitter_date_to_datetime)"
      ]
    },
    {
      "cell_type": "code",
      "execution_count": 11,
      "metadata": {
        "colab": {
          "base_uri": "https://localhost:8080/",
          "height": 206
        },
        "id": "yzAsA07hZZBi",
        "outputId": "17afdaf6-130e-41cf-c914-1c010f482945"
      },
      "outputs": [
        {
          "output_type": "execute_result",
          "data": {
            "text/plain": [
              "                    id        user  username          created_at  \\\n",
              "0  1506705587903598597  2916086925  RepAdams 2022-03-23 18:53:00   \n",
              "1  1506279598140633101  2916086925  RepAdams 2022-03-22 14:40:16   \n",
              "2  1506012530824531975  2916086925  RepAdams 2022-03-21 20:59:02   \n",
              "3  1505996638401224708  2916086925  RepAdams 2022-03-21 19:55:53   \n",
              "4  1505906800272490506  2916086925  RepAdams 2022-03-21 13:58:54   \n",
              "\n",
              "                                                text lang label retweet_count  \\\n",
              "0  Madeleine Albright often said, “There is a spe...   en     D            56   \n",
              "1  Judge Ketanji Brown Jackson:\\n\\n✔️ Received a ...   en     D            13   \n",
              "2  When I Grow Up is a virtual forum designed to ...   en     D             5   \n",
              "3  Ketanji Brown Jackson's parents, Ellery &amp; ...   en     D             8   \n",
              "4  Judge Ketanji Brown Jackson is the most qualif...   en     D            19   \n",
              "\n",
              "  favorite_count  \n",
              "0            196  \n",
              "1             26  \n",
              "2              4  \n",
              "3             31  \n",
              "4            102  "
            ],
            "text/html": [
              "\n",
              "  <div id=\"df-562344be-d52d-4ad4-92f5-a28879d6664f\">\n",
              "    <div class=\"colab-df-container\">\n",
              "      <div>\n",
              "<style scoped>\n",
              "    .dataframe tbody tr th:only-of-type {\n",
              "        vertical-align: middle;\n",
              "    }\n",
              "\n",
              "    .dataframe tbody tr th {\n",
              "        vertical-align: top;\n",
              "    }\n",
              "\n",
              "    .dataframe thead th {\n",
              "        text-align: right;\n",
              "    }\n",
              "</style>\n",
              "<table border=\"1\" class=\"dataframe\">\n",
              "  <thead>\n",
              "    <tr style=\"text-align: right;\">\n",
              "      <th></th>\n",
              "      <th>id</th>\n",
              "      <th>user</th>\n",
              "      <th>username</th>\n",
              "      <th>created_at</th>\n",
              "      <th>text</th>\n",
              "      <th>lang</th>\n",
              "      <th>label</th>\n",
              "      <th>retweet_count</th>\n",
              "      <th>favorite_count</th>\n",
              "    </tr>\n",
              "  </thead>\n",
              "  <tbody>\n",
              "    <tr>\n",
              "      <th>0</th>\n",
              "      <td>1506705587903598597</td>\n",
              "      <td>2916086925</td>\n",
              "      <td>RepAdams</td>\n",
              "      <td>2022-03-23 18:53:00</td>\n",
              "      <td>Madeleine Albright often said, “There is a spe...</td>\n",
              "      <td>en</td>\n",
              "      <td>D</td>\n",
              "      <td>56</td>\n",
              "      <td>196</td>\n",
              "    </tr>\n",
              "    <tr>\n",
              "      <th>1</th>\n",
              "      <td>1506279598140633101</td>\n",
              "      <td>2916086925</td>\n",
              "      <td>RepAdams</td>\n",
              "      <td>2022-03-22 14:40:16</td>\n",
              "      <td>Judge Ketanji Brown Jackson:\\n\\n✔️ Received a ...</td>\n",
              "      <td>en</td>\n",
              "      <td>D</td>\n",
              "      <td>13</td>\n",
              "      <td>26</td>\n",
              "    </tr>\n",
              "    <tr>\n",
              "      <th>2</th>\n",
              "      <td>1506012530824531975</td>\n",
              "      <td>2916086925</td>\n",
              "      <td>RepAdams</td>\n",
              "      <td>2022-03-21 20:59:02</td>\n",
              "      <td>When I Grow Up is a virtual forum designed to ...</td>\n",
              "      <td>en</td>\n",
              "      <td>D</td>\n",
              "      <td>5</td>\n",
              "      <td>4</td>\n",
              "    </tr>\n",
              "    <tr>\n",
              "      <th>3</th>\n",
              "      <td>1505996638401224708</td>\n",
              "      <td>2916086925</td>\n",
              "      <td>RepAdams</td>\n",
              "      <td>2022-03-21 19:55:53</td>\n",
              "      <td>Ketanji Brown Jackson's parents, Ellery &amp;amp; ...</td>\n",
              "      <td>en</td>\n",
              "      <td>D</td>\n",
              "      <td>8</td>\n",
              "      <td>31</td>\n",
              "    </tr>\n",
              "    <tr>\n",
              "      <th>4</th>\n",
              "      <td>1505906800272490506</td>\n",
              "      <td>2916086925</td>\n",
              "      <td>RepAdams</td>\n",
              "      <td>2022-03-21 13:58:54</td>\n",
              "      <td>Judge Ketanji Brown Jackson is the most qualif...</td>\n",
              "      <td>en</td>\n",
              "      <td>D</td>\n",
              "      <td>19</td>\n",
              "      <td>102</td>\n",
              "    </tr>\n",
              "  </tbody>\n",
              "</table>\n",
              "</div>\n",
              "      <button class=\"colab-df-convert\" onclick=\"convertToInteractive('df-562344be-d52d-4ad4-92f5-a28879d6664f')\"\n",
              "              title=\"Convert this dataframe to an interactive table.\"\n",
              "              style=\"display:none;\">\n",
              "        \n",
              "  <svg xmlns=\"http://www.w3.org/2000/svg\" height=\"24px\"viewBox=\"0 0 24 24\"\n",
              "       width=\"24px\">\n",
              "    <path d=\"M0 0h24v24H0V0z\" fill=\"none\"/>\n",
              "    <path d=\"M18.56 5.44l.94 2.06.94-2.06 2.06-.94-2.06-.94-.94-2.06-.94 2.06-2.06.94zm-11 1L8.5 8.5l.94-2.06 2.06-.94-2.06-.94L8.5 2.5l-.94 2.06-2.06.94zm10 10l.94 2.06.94-2.06 2.06-.94-2.06-.94-.94-2.06-.94 2.06-2.06.94z\"/><path d=\"M17.41 7.96l-1.37-1.37c-.4-.4-.92-.59-1.43-.59-.52 0-1.04.2-1.43.59L10.3 9.45l-7.72 7.72c-.78.78-.78 2.05 0 2.83L4 21.41c.39.39.9.59 1.41.59.51 0 1.02-.2 1.41-.59l7.78-7.78 2.81-2.81c.8-.78.8-2.07 0-2.86zM5.41 20L4 18.59l7.72-7.72 1.47 1.35L5.41 20z\"/>\n",
              "  </svg>\n",
              "      </button>\n",
              "      \n",
              "  <style>\n",
              "    .colab-df-container {\n",
              "      display:flex;\n",
              "      flex-wrap:wrap;\n",
              "      gap: 12px;\n",
              "    }\n",
              "\n",
              "    .colab-df-convert {\n",
              "      background-color: #E8F0FE;\n",
              "      border: none;\n",
              "      border-radius: 50%;\n",
              "      cursor: pointer;\n",
              "      display: none;\n",
              "      fill: #1967D2;\n",
              "      height: 32px;\n",
              "      padding: 0 0 0 0;\n",
              "      width: 32px;\n",
              "    }\n",
              "\n",
              "    .colab-df-convert:hover {\n",
              "      background-color: #E2EBFA;\n",
              "      box-shadow: 0px 1px 2px rgba(60, 64, 67, 0.3), 0px 1px 3px 1px rgba(60, 64, 67, 0.15);\n",
              "      fill: #174EA6;\n",
              "    }\n",
              "\n",
              "    [theme=dark] .colab-df-convert {\n",
              "      background-color: #3B4455;\n",
              "      fill: #D2E3FC;\n",
              "    }\n",
              "\n",
              "    [theme=dark] .colab-df-convert:hover {\n",
              "      background-color: #434B5C;\n",
              "      box-shadow: 0px 1px 3px 1px rgba(0, 0, 0, 0.15);\n",
              "      filter: drop-shadow(0px 1px 2px rgba(0, 0, 0, 0.3));\n",
              "      fill: #FFFFFF;\n",
              "    }\n",
              "  </style>\n",
              "\n",
              "      <script>\n",
              "        const buttonEl =\n",
              "          document.querySelector('#df-562344be-d52d-4ad4-92f5-a28879d6664f button.colab-df-convert');\n",
              "        buttonEl.style.display =\n",
              "          google.colab.kernel.accessAllowed ? 'block' : 'none';\n",
              "\n",
              "        async function convertToInteractive(key) {\n",
              "          const element = document.querySelector('#df-562344be-d52d-4ad4-92f5-a28879d6664f');\n",
              "          const dataTable =\n",
              "            await google.colab.kernel.invokeFunction('convertToInteractive',\n",
              "                                                     [key], {});\n",
              "          if (!dataTable) return;\n",
              "\n",
              "          const docLinkHtml = 'Like what you see? Visit the ' +\n",
              "            '<a target=\"_blank\" href=https://colab.research.google.com/notebooks/data_table.ipynb>data table notebook</a>'\n",
              "            + ' to learn more about interactive tables.';\n",
              "          element.innerHTML = '';\n",
              "          dataTable['output_type'] = 'display_data';\n",
              "          await google.colab.output.renderOutput(dataTable, element);\n",
              "          const docLink = document.createElement('div');\n",
              "          docLink.innerHTML = docLinkHtml;\n",
              "          element.appendChild(docLink);\n",
              "        }\n",
              "      </script>\n",
              "    </div>\n",
              "  </div>\n",
              "  "
            ]
          },
          "metadata": {},
          "execution_count": 11
        }
      ],
      "source": [
        "df.head()"
      ]
    },
    {
      "cell_type": "markdown",
      "source": [
        "#### Before anything else, let's remove some useless stuff "
      ],
      "metadata": {
        "id": "vfMkZkf5xZ-s"
      }
    },
    {
      "cell_type": "code",
      "source": [
        "# remove old style retweet text \"RT\"\n",
        "def remove_old_style_rt(tweet):\n",
        "  return(re.sub(r'^RT[\\s]+', '', tweet))\n",
        "# remove hyperlinks\n",
        "def remove_hyperlinks(tweet):\n",
        "  return(re.sub(r'https?:\\/\\/.*[\\r\\n]*', '', tweet))\n",
        "# remove hashtag sign\n",
        "def remove_hashtag_sign(tweet):\n",
        "  return(re.sub(r'#', '', tweet))\n",
        "# remove skip line\n",
        "def remove_skip_line(tweet):\n",
        "  return(re.sub(r'\\n', '', tweet))"
      ],
      "metadata": {
        "id": "latOZ-DfxZEh"
      },
      "execution_count": 12,
      "outputs": []
    },
    {
      "cell_type": "code",
      "source": [
        "df['text'] = df['text'].apply(remove_old_style_rt)\n",
        "df['text'] = df['text'].apply(remove_hyperlinks)\n",
        "df['text'] = df['text'].apply(remove_hashtag_sign)\n",
        "df['text'] = df['text'].apply(remove_skip_line)"
      ],
      "metadata": {
        "id": "D_fxk2MiyQ6p"
      },
      "execution_count": 13,
      "outputs": []
    },
    {
      "cell_type": "markdown",
      "metadata": {
        "id": "1Tr1uC3tZZBj"
      },
      "source": [
        "#### Now let's check out the length of tweets"
      ]
    },
    {
      "cell_type": "code",
      "execution_count": 15,
      "metadata": {
        "id": "5bKQ-tPVZZBm"
      },
      "outputs": [],
      "source": [
        "df['length'] = df['text'].apply(lambda x: len(x))"
      ]
    },
    {
      "cell_type": "code",
      "execution_count": 15,
      "metadata": {
        "colab": {
          "base_uri": "https://localhost:8080/",
          "height": 206
        },
        "id": "odmr2bBeZZBn",
        "outputId": "d49457b5-b30f-4dd7-ea9f-5671c850f867"
      },
      "outputs": [
        {
          "output_type": "execute_result",
          "data": {
            "text/plain": [
              "                    id        user  username          created_at  \\\n",
              "0  1506705587903598597  2916086925  RepAdams 2022-03-23 18:53:00   \n",
              "1  1506279598140633101  2916086925  RepAdams 2022-03-22 14:40:16   \n",
              "2  1506012530824531975  2916086925  RepAdams 2022-03-21 20:59:02   \n",
              "3  1505996638401224708  2916086925  RepAdams 2022-03-21 19:55:53   \n",
              "4  1505906800272490506  2916086925  RepAdams 2022-03-21 13:58:54   \n",
              "\n",
              "                                                text lang label retweet_count  \\\n",
              "0  Madeleine Albright often said, “There is a spe...   en     D            56   \n",
              "1  Judge Ketanji Brown Jackson:✔️ Received a unan...   en     D            13   \n",
              "2  When I Grow Up is a virtual forum designed to ...   en     D             5   \n",
              "3  Ketanji Brown Jackson's parents, Ellery &amp; ...   en     D             8   \n",
              "4  Judge Ketanji Brown Jackson is the most qualif...   en     D            19   \n",
              "\n",
              "  favorite_count  length  \n",
              "0            196     117  \n",
              "1             26     115  \n",
              "2              4     117  \n",
              "3             31     120  \n",
              "4            102     117  "
            ],
            "text/html": [
              "\n",
              "  <div id=\"df-2fdee0af-75aa-47c0-a45d-d6e226454453\">\n",
              "    <div class=\"colab-df-container\">\n",
              "      <div>\n",
              "<style scoped>\n",
              "    .dataframe tbody tr th:only-of-type {\n",
              "        vertical-align: middle;\n",
              "    }\n",
              "\n",
              "    .dataframe tbody tr th {\n",
              "        vertical-align: top;\n",
              "    }\n",
              "\n",
              "    .dataframe thead th {\n",
              "        text-align: right;\n",
              "    }\n",
              "</style>\n",
              "<table border=\"1\" class=\"dataframe\">\n",
              "  <thead>\n",
              "    <tr style=\"text-align: right;\">\n",
              "      <th></th>\n",
              "      <th>id</th>\n",
              "      <th>user</th>\n",
              "      <th>username</th>\n",
              "      <th>created_at</th>\n",
              "      <th>text</th>\n",
              "      <th>lang</th>\n",
              "      <th>label</th>\n",
              "      <th>retweet_count</th>\n",
              "      <th>favorite_count</th>\n",
              "      <th>length</th>\n",
              "    </tr>\n",
              "  </thead>\n",
              "  <tbody>\n",
              "    <tr>\n",
              "      <th>0</th>\n",
              "      <td>1506705587903598597</td>\n",
              "      <td>2916086925</td>\n",
              "      <td>RepAdams</td>\n",
              "      <td>2022-03-23 18:53:00</td>\n",
              "      <td>Madeleine Albright often said, “There is a spe...</td>\n",
              "      <td>en</td>\n",
              "      <td>D</td>\n",
              "      <td>56</td>\n",
              "      <td>196</td>\n",
              "      <td>117</td>\n",
              "    </tr>\n",
              "    <tr>\n",
              "      <th>1</th>\n",
              "      <td>1506279598140633101</td>\n",
              "      <td>2916086925</td>\n",
              "      <td>RepAdams</td>\n",
              "      <td>2022-03-22 14:40:16</td>\n",
              "      <td>Judge Ketanji Brown Jackson:✔️ Received a unan...</td>\n",
              "      <td>en</td>\n",
              "      <td>D</td>\n",
              "      <td>13</td>\n",
              "      <td>26</td>\n",
              "      <td>115</td>\n",
              "    </tr>\n",
              "    <tr>\n",
              "      <th>2</th>\n",
              "      <td>1506012530824531975</td>\n",
              "      <td>2916086925</td>\n",
              "      <td>RepAdams</td>\n",
              "      <td>2022-03-21 20:59:02</td>\n",
              "      <td>When I Grow Up is a virtual forum designed to ...</td>\n",
              "      <td>en</td>\n",
              "      <td>D</td>\n",
              "      <td>5</td>\n",
              "      <td>4</td>\n",
              "      <td>117</td>\n",
              "    </tr>\n",
              "    <tr>\n",
              "      <th>3</th>\n",
              "      <td>1505996638401224708</td>\n",
              "      <td>2916086925</td>\n",
              "      <td>RepAdams</td>\n",
              "      <td>2022-03-21 19:55:53</td>\n",
              "      <td>Ketanji Brown Jackson's parents, Ellery &amp;amp; ...</td>\n",
              "      <td>en</td>\n",
              "      <td>D</td>\n",
              "      <td>8</td>\n",
              "      <td>31</td>\n",
              "      <td>120</td>\n",
              "    </tr>\n",
              "    <tr>\n",
              "      <th>4</th>\n",
              "      <td>1505906800272490506</td>\n",
              "      <td>2916086925</td>\n",
              "      <td>RepAdams</td>\n",
              "      <td>2022-03-21 13:58:54</td>\n",
              "      <td>Judge Ketanji Brown Jackson is the most qualif...</td>\n",
              "      <td>en</td>\n",
              "      <td>D</td>\n",
              "      <td>19</td>\n",
              "      <td>102</td>\n",
              "      <td>117</td>\n",
              "    </tr>\n",
              "  </tbody>\n",
              "</table>\n",
              "</div>\n",
              "      <button class=\"colab-df-convert\" onclick=\"convertToInteractive('df-2fdee0af-75aa-47c0-a45d-d6e226454453')\"\n",
              "              title=\"Convert this dataframe to an interactive table.\"\n",
              "              style=\"display:none;\">\n",
              "        \n",
              "  <svg xmlns=\"http://www.w3.org/2000/svg\" height=\"24px\"viewBox=\"0 0 24 24\"\n",
              "       width=\"24px\">\n",
              "    <path d=\"M0 0h24v24H0V0z\" fill=\"none\"/>\n",
              "    <path d=\"M18.56 5.44l.94 2.06.94-2.06 2.06-.94-2.06-.94-.94-2.06-.94 2.06-2.06.94zm-11 1L8.5 8.5l.94-2.06 2.06-.94-2.06-.94L8.5 2.5l-.94 2.06-2.06.94zm10 10l.94 2.06.94-2.06 2.06-.94-2.06-.94-.94-2.06-.94 2.06-2.06.94z\"/><path d=\"M17.41 7.96l-1.37-1.37c-.4-.4-.92-.59-1.43-.59-.52 0-1.04.2-1.43.59L10.3 9.45l-7.72 7.72c-.78.78-.78 2.05 0 2.83L4 21.41c.39.39.9.59 1.41.59.51 0 1.02-.2 1.41-.59l7.78-7.78 2.81-2.81c.8-.78.8-2.07 0-2.86zM5.41 20L4 18.59l7.72-7.72 1.47 1.35L5.41 20z\"/>\n",
              "  </svg>\n",
              "      </button>\n",
              "      \n",
              "  <style>\n",
              "    .colab-df-container {\n",
              "      display:flex;\n",
              "      flex-wrap:wrap;\n",
              "      gap: 12px;\n",
              "    }\n",
              "\n",
              "    .colab-df-convert {\n",
              "      background-color: #E8F0FE;\n",
              "      border: none;\n",
              "      border-radius: 50%;\n",
              "      cursor: pointer;\n",
              "      display: none;\n",
              "      fill: #1967D2;\n",
              "      height: 32px;\n",
              "      padding: 0 0 0 0;\n",
              "      width: 32px;\n",
              "    }\n",
              "\n",
              "    .colab-df-convert:hover {\n",
              "      background-color: #E2EBFA;\n",
              "      box-shadow: 0px 1px 2px rgba(60, 64, 67, 0.3), 0px 1px 3px 1px rgba(60, 64, 67, 0.15);\n",
              "      fill: #174EA6;\n",
              "    }\n",
              "\n",
              "    [theme=dark] .colab-df-convert {\n",
              "      background-color: #3B4455;\n",
              "      fill: #D2E3FC;\n",
              "    }\n",
              "\n",
              "    [theme=dark] .colab-df-convert:hover {\n",
              "      background-color: #434B5C;\n",
              "      box-shadow: 0px 1px 3px 1px rgba(0, 0, 0, 0.15);\n",
              "      filter: drop-shadow(0px 1px 2px rgba(0, 0, 0, 0.3));\n",
              "      fill: #FFFFFF;\n",
              "    }\n",
              "  </style>\n",
              "\n",
              "      <script>\n",
              "        const buttonEl =\n",
              "          document.querySelector('#df-2fdee0af-75aa-47c0-a45d-d6e226454453 button.colab-df-convert');\n",
              "        buttonEl.style.display =\n",
              "          google.colab.kernel.accessAllowed ? 'block' : 'none';\n",
              "\n",
              "        async function convertToInteractive(key) {\n",
              "          const element = document.querySelector('#df-2fdee0af-75aa-47c0-a45d-d6e226454453');\n",
              "          const dataTable =\n",
              "            await google.colab.kernel.invokeFunction('convertToInteractive',\n",
              "                                                     [key], {});\n",
              "          if (!dataTable) return;\n",
              "\n",
              "          const docLinkHtml = 'Like what you see? Visit the ' +\n",
              "            '<a target=\"_blank\" href=https://colab.research.google.com/notebooks/data_table.ipynb>data table notebook</a>'\n",
              "            + ' to learn more about interactive tables.';\n",
              "          element.innerHTML = '';\n",
              "          dataTable['output_type'] = 'display_data';\n",
              "          await google.colab.output.renderOutput(dataTable, element);\n",
              "          const docLink = document.createElement('div');\n",
              "          docLink.innerHTML = docLinkHtml;\n",
              "          element.appendChild(docLink);\n",
              "        }\n",
              "      </script>\n",
              "    </div>\n",
              "  </div>\n",
              "  "
            ]
          },
          "metadata": {},
          "execution_count": 15
        }
      ],
      "source": [
        "df.head()"
      ]
    },
    {
      "cell_type": "code",
      "execution_count": 14,
      "metadata": {
        "colab": {
          "base_uri": "https://localhost:8080/"
        },
        "id": "EIHQj0TLZZBo",
        "outputId": "1ddd71c0-dd83-4be3-ec55-2beb60e9231d"
      },
      "outputs": [
        {
          "output_type": "stream",
          "name": "stdout",
          "text": [
            "There are 417865 tweets of 250 republican users and 520960 tweets of 270 democrat users\n"
          ]
        }
      ],
      "source": [
        "df_democrats = df[df['label']=='D']\n",
        "df_republicans = df[df['label']=='R']\n",
        "print(f\"There are {len(df_republicans)} tweets of {df_republicans.username.nunique()} republican users\\\n",
        " and {len(df_democrats)} tweets of {df_democrats.username.nunique()} democrat users\")"
      ]
    },
    {
      "cell_type": "code",
      "execution_count": 16,
      "metadata": {
        "colab": {
          "base_uri": "https://localhost:8080/",
          "height": 874
        },
        "id": "K7pi_S7HZZBp",
        "outputId": "58b61c79-ba45-4743-8be8-a987f55b9167"
      },
      "outputs": [
        {
          "output_type": "error",
          "ename": "KeyError",
          "evalue": "ignored",
          "traceback": [
            "\u001b[0;31m---------------------------------------------------------------------------\u001b[0m",
            "\u001b[0;31mKeyError\u001b[0m                                  Traceback (most recent call last)",
            "\u001b[0;32m/usr/local/lib/python3.7/dist-packages/pandas/core/indexes/base.py\u001b[0m in \u001b[0;36mget_loc\u001b[0;34m(self, key, method, tolerance)\u001b[0m\n\u001b[1;32m   3360\u001b[0m             \u001b[0;32mtry\u001b[0m\u001b[0;34m:\u001b[0m\u001b[0;34m\u001b[0m\u001b[0;34m\u001b[0m\u001b[0m\n\u001b[0;32m-> 3361\u001b[0;31m                 \u001b[0;32mreturn\u001b[0m \u001b[0mself\u001b[0m\u001b[0;34m.\u001b[0m\u001b[0m_engine\u001b[0m\u001b[0;34m.\u001b[0m\u001b[0mget_loc\u001b[0m\u001b[0;34m(\u001b[0m\u001b[0mcasted_key\u001b[0m\u001b[0;34m)\u001b[0m\u001b[0;34m\u001b[0m\u001b[0;34m\u001b[0m\u001b[0m\n\u001b[0m\u001b[1;32m   3362\u001b[0m             \u001b[0;32mexcept\u001b[0m \u001b[0mKeyError\u001b[0m \u001b[0;32mas\u001b[0m \u001b[0merr\u001b[0m\u001b[0;34m:\u001b[0m\u001b[0;34m\u001b[0m\u001b[0;34m\u001b[0m\u001b[0m\n",
            "\u001b[0;32m/usr/local/lib/python3.7/dist-packages/pandas/_libs/index.pyx\u001b[0m in \u001b[0;36mpandas._libs.index.IndexEngine.get_loc\u001b[0;34m()\u001b[0m\n",
            "\u001b[0;32m/usr/local/lib/python3.7/dist-packages/pandas/_libs/index.pyx\u001b[0m in \u001b[0;36mpandas._libs.index.IndexEngine.get_loc\u001b[0;34m()\u001b[0m\n",
            "\u001b[0;32mpandas/_libs/hashtable_class_helper.pxi\u001b[0m in \u001b[0;36mpandas._libs.hashtable.PyObjectHashTable.get_item\u001b[0;34m()\u001b[0m\n",
            "\u001b[0;32mpandas/_libs/hashtable_class_helper.pxi\u001b[0m in \u001b[0;36mpandas._libs.hashtable.PyObjectHashTable.get_item\u001b[0;34m()\u001b[0m\n",
            "\u001b[0;31mKeyError\u001b[0m: 'length'",
            "\nThe above exception was the direct cause of the following exception:\n",
            "\u001b[0;31mKeyError\u001b[0m                                  Traceback (most recent call last)",
            "\u001b[0;32m<ipython-input-16-bdc8897e92fe>\u001b[0m in \u001b[0;36m<module>\u001b[0;34m()\u001b[0m\n\u001b[1;32m      2\u001b[0m \u001b[0mbins\u001b[0m \u001b[0;34m=\u001b[0m \u001b[0;36m150\u001b[0m\u001b[0;34m\u001b[0m\u001b[0;34m\u001b[0m\u001b[0m\n\u001b[1;32m      3\u001b[0m \u001b[0mplt\u001b[0m\u001b[0;34m.\u001b[0m\u001b[0mtitle\u001b[0m\u001b[0;34m(\u001b[0m\u001b[0;34m'Lenght of tweets'\u001b[0m\u001b[0;34m)\u001b[0m\u001b[0;34m\u001b[0m\u001b[0;34m\u001b[0m\u001b[0m\n\u001b[0;32m----> 4\u001b[0;31m plt.hist([df_republicans['length'], df_democrats['length']], alpha = 0.6, bins=bins, \n\u001b[0m\u001b[1;32m      5\u001b[0m          label=['Republicans', 'Democrats'], color = ['r','b'])\n\u001b[1;32m      6\u001b[0m \u001b[0mplt\u001b[0m\u001b[0;34m.\u001b[0m\u001b[0mxlabel\u001b[0m\u001b[0;34m(\u001b[0m\u001b[0;34m'Length'\u001b[0m\u001b[0;34m)\u001b[0m\u001b[0;34m;\u001b[0m\u001b[0;34m\u001b[0m\u001b[0;34m\u001b[0m\u001b[0m\n",
            "\u001b[0;32m/usr/local/lib/python3.7/dist-packages/pandas/core/frame.py\u001b[0m in \u001b[0;36m__getitem__\u001b[0;34m(self, key)\u001b[0m\n\u001b[1;32m   3456\u001b[0m             \u001b[0;32mif\u001b[0m \u001b[0mself\u001b[0m\u001b[0;34m.\u001b[0m\u001b[0mcolumns\u001b[0m\u001b[0;34m.\u001b[0m\u001b[0mnlevels\u001b[0m \u001b[0;34m>\u001b[0m \u001b[0;36m1\u001b[0m\u001b[0;34m:\u001b[0m\u001b[0;34m\u001b[0m\u001b[0;34m\u001b[0m\u001b[0m\n\u001b[1;32m   3457\u001b[0m                 \u001b[0;32mreturn\u001b[0m \u001b[0mself\u001b[0m\u001b[0;34m.\u001b[0m\u001b[0m_getitem_multilevel\u001b[0m\u001b[0;34m(\u001b[0m\u001b[0mkey\u001b[0m\u001b[0;34m)\u001b[0m\u001b[0;34m\u001b[0m\u001b[0;34m\u001b[0m\u001b[0m\n\u001b[0;32m-> 3458\u001b[0;31m             \u001b[0mindexer\u001b[0m \u001b[0;34m=\u001b[0m \u001b[0mself\u001b[0m\u001b[0;34m.\u001b[0m\u001b[0mcolumns\u001b[0m\u001b[0;34m.\u001b[0m\u001b[0mget_loc\u001b[0m\u001b[0;34m(\u001b[0m\u001b[0mkey\u001b[0m\u001b[0;34m)\u001b[0m\u001b[0;34m\u001b[0m\u001b[0;34m\u001b[0m\u001b[0m\n\u001b[0m\u001b[1;32m   3459\u001b[0m             \u001b[0;32mif\u001b[0m \u001b[0mis_integer\u001b[0m\u001b[0;34m(\u001b[0m\u001b[0mindexer\u001b[0m\u001b[0;34m)\u001b[0m\u001b[0;34m:\u001b[0m\u001b[0;34m\u001b[0m\u001b[0;34m\u001b[0m\u001b[0m\n\u001b[1;32m   3460\u001b[0m                 \u001b[0mindexer\u001b[0m \u001b[0;34m=\u001b[0m \u001b[0;34m[\u001b[0m\u001b[0mindexer\u001b[0m\u001b[0;34m]\u001b[0m\u001b[0;34m\u001b[0m\u001b[0;34m\u001b[0m\u001b[0m\n",
            "\u001b[0;32m/usr/local/lib/python3.7/dist-packages/pandas/core/indexes/base.py\u001b[0m in \u001b[0;36mget_loc\u001b[0;34m(self, key, method, tolerance)\u001b[0m\n\u001b[1;32m   3361\u001b[0m                 \u001b[0;32mreturn\u001b[0m \u001b[0mself\u001b[0m\u001b[0;34m.\u001b[0m\u001b[0m_engine\u001b[0m\u001b[0;34m.\u001b[0m\u001b[0mget_loc\u001b[0m\u001b[0;34m(\u001b[0m\u001b[0mcasted_key\u001b[0m\u001b[0;34m)\u001b[0m\u001b[0;34m\u001b[0m\u001b[0;34m\u001b[0m\u001b[0m\n\u001b[1;32m   3362\u001b[0m             \u001b[0;32mexcept\u001b[0m \u001b[0mKeyError\u001b[0m \u001b[0;32mas\u001b[0m \u001b[0merr\u001b[0m\u001b[0;34m:\u001b[0m\u001b[0;34m\u001b[0m\u001b[0;34m\u001b[0m\u001b[0m\n\u001b[0;32m-> 3363\u001b[0;31m                 \u001b[0;32mraise\u001b[0m \u001b[0mKeyError\u001b[0m\u001b[0;34m(\u001b[0m\u001b[0mkey\u001b[0m\u001b[0;34m)\u001b[0m \u001b[0;32mfrom\u001b[0m \u001b[0merr\u001b[0m\u001b[0;34m\u001b[0m\u001b[0;34m\u001b[0m\u001b[0m\n\u001b[0m\u001b[1;32m   3364\u001b[0m \u001b[0;34m\u001b[0m\u001b[0m\n\u001b[1;32m   3365\u001b[0m         \u001b[0;32mif\u001b[0m \u001b[0mis_scalar\u001b[0m\u001b[0;34m(\u001b[0m\u001b[0mkey\u001b[0m\u001b[0;34m)\u001b[0m \u001b[0;32mand\u001b[0m \u001b[0misna\u001b[0m\u001b[0;34m(\u001b[0m\u001b[0mkey\u001b[0m\u001b[0;34m)\u001b[0m \u001b[0;32mand\u001b[0m \u001b[0;32mnot\u001b[0m \u001b[0mself\u001b[0m\u001b[0;34m.\u001b[0m\u001b[0mhasnans\u001b[0m\u001b[0;34m:\u001b[0m\u001b[0;34m\u001b[0m\u001b[0;34m\u001b[0m\u001b[0m\n",
            "\u001b[0;31mKeyError\u001b[0m: 'length'"
          ]
        },
        {
          "output_type": "display_data",
          "data": {
            "text/plain": [
              "<Figure size 1296x432 with 1 Axes>"
            ],
            "image/png": "[encoded data removed]"
          },
          "metadata": {
            "needs_background": "light"
          }
        }
      ],
      "source": [
        "plt.rcParams['figure.figsize'] = (18, 6)\n",
        "bins = 150\n",
        "plt.title('Lenght of tweets')\n",
        "plt.hist([df_republicans['length'], df_democrats['length']], alpha = 0.6, bins=bins, \n",
        "         label=['Republicans', 'Democrats'], color = ['r','b'])\n",
        "plt.xlabel('Length');\n",
        "plt.ylabel('Count');\n",
        "plt.legend(loc='upper right');\n",
        "plt.xlim(0,150);\n",
        "plt.grid();\n",
        "plt.show();"
      ]
    },
    {
      "cell_type": "markdown",
      "metadata": {
        "id": "LdE-yS0bZZBr"
      },
      "source": [
        "#### Characters in tweets"
      ]
    },
    {
      "cell_type": "code",
      "execution_count": null,
      "metadata": {
        "id": "Cfquv1sJZZBt"
      },
      "outputs": [],
      "source": [
        "fig,(ax1,ax2)=plt.subplots(1,2,figsize=(15,5))\n",
        "tweet_len_r=df_republicans['text'].str.len()\n",
        "ax1.hist(tweet_len_r, color='r')\n",
        "ax1.set_title('Republicans')\n",
        "tweet_len_d=df_democrats['text'].str.len()\n",
        "ax2.hist(tweet_len_d, color='b')\n",
        "ax2.set_title('Democrats')\n",
        "fig.suptitle('Characters in tweets')\n",
        "plt.show()"
      ]
    },
    {
      "cell_type": "markdown",
      "metadata": {
        "id": "RZVv9MEsZZBw"
      },
      "source": [
        "#### Temporal distribution of tweets by month"
      ]
    },
    {
      "cell_type": "code",
      "execution_count": null,
      "metadata": {
        "id": "rhUrnuDpZZBw"
      },
      "outputs": [],
      "source": [
        "fig, ax = plt.subplots(figsize=(18, 6))\n",
        "\n",
        "for label in df.label.unique():\n",
        "    df_temp = df[df['label'] == label].copy()\n",
        "    df_temp['date'] = pd.to_datetime(df_temp['created_at'].dt.strftime('%m/%Y'))\n",
        "    number_users = df_temp.username.nunique()\n",
        "    df_temp = df_temp.groupby(df_temp['date']).size()\n",
        "    #Standarize by number of users\n",
        "    df_temp = df_temp.divide(other = number_users)\n",
        "    color = 'r' if label == 'R' else 'b'\n",
        "    df_temp.plot(label=label, ax=ax, color=color)\n",
        "\n",
        "ax.set_title('Mean of tweets published per month')\n",
        "ax.legend();"
      ]
    },
    {
      "cell_type": "markdown",
      "metadata": {
        "id": "yUK88x31ZZBy"
      },
      "source": [
        "#### Number of words in tweets"
      ]
    },
    {
      "cell_type": "code",
      "execution_count": 20,
      "metadata": {
        "colab": {
          "base_uri": "https://localhost:8080/",
          "height": 356
        },
        "id": "OVZ-BBcaZZBy",
        "outputId": "ecdca57b-a26d-4065-bd99-e4468e0e4440"
      },
      "outputs": [
        {
          "output_type": "display_data",
          "data": {
            "text/plain": [
              "<Figure size 1080x360 with 2 Axes>"
            ],
            "image/png": "[encoded data removed]"
          },
          "metadata": {
            "needs_background": "light"
          }
        }
      ],
      "source": [
        "fig,(ax1,ax2)=plt.subplots(1,2,figsize=(15,5))\n",
        "tweet_len_r=df_republicans['text'].str.split().map(lambda x: len(x))\n",
        "ax1.hist(tweet_len_r, color='r')\n",
        "ax1.set_title('Republicans')\n",
        "tweet_len_d=df_democrats['text'].str.split().map(lambda x: len(x))\n",
        "ax2.hist(tweet_len_d, color='b')\n",
        "ax2.set_title('Democrats')\n",
        "fig.suptitle('Number of words in tweets')\n",
        "plt.show()"
      ]
    },
    {
      "cell_type": "markdown",
      "metadata": {
        "id": "Ntq99JZmZZBz"
      },
      "source": [
        "#### Average word lenght in tweets"
      ]
    },
    {
      "cell_type": "code",
      "execution_count": 22,
      "metadata": {
        "colab": {
          "base_uri": "https://localhost:8080/",
          "height": 598
        },
        "id": "7MorvwdeZZB0",
        "outputId": "eddcbda3-c2eb-4d15-efd8-58df259d9bd2"
      },
      "outputs": [
        {
          "output_type": "stream",
          "name": "stderr",
          "text": [
            "/usr/local/lib/python3.7/dist-packages/numpy/core/fromnumeric.py:3441: RuntimeWarning: Mean of empty slice.\n",
            "  out=out, **kwargs)\n",
            "/usr/local/lib/python3.7/dist-packages/numpy/core/_methods.py:189: RuntimeWarning: invalid value encountered in double_scalars\n",
            "  ret = ret.dtype.type(ret / rcount)\n",
            "/usr/local/lib/python3.7/dist-packages/seaborn/distributions.py:2619: FutureWarning: `distplot` is a deprecated function and will be removed in a future version. Please adapt your code to use either `displot` (a figure-level function with similar flexibility) or `histplot` (an axes-level function for histograms).\n",
            "  warnings.warn(msg, FutureWarning)\n",
            "/usr/local/lib/python3.7/dist-packages/numpy/core/fromnumeric.py:3441: RuntimeWarning: Mean of empty slice.\n",
            "  out=out, **kwargs)\n",
            "/usr/local/lib/python3.7/dist-packages/numpy/core/_methods.py:189: RuntimeWarning: invalid value encountered in double_scalars\n",
            "  ret = ret.dtype.type(ret / rcount)\n",
            "/usr/local/lib/python3.7/dist-packages/seaborn/distributions.py:2619: FutureWarning: `distplot` is a deprecated function and will be removed in a future version. Please adapt your code to use either `displot` (a figure-level function with similar flexibility) or `histplot` (an axes-level function for histograms).\n",
            "  warnings.warn(msg, FutureWarning)\n"
          ]
        },
        {
          "output_type": "display_data",
          "data": {
            "text/plain": [
              "<Figure size 1080x360 with 2 Axes>"
            ],
            "image/png": "[encoded data removed]"
          },
          "metadata": {
            "needs_background": "light"
          }
        }
      ],
      "source": [
        "fig,(ax1,ax2)=plt.subplots(1,2,figsize=(15,5))\n",
        "word=df_republicans['text'].str.split().apply(lambda x : [len(i) for i in x])\n",
        "sns.distplot(word.map(lambda x: np.mean(x)),ax=ax1,color='r')\n",
        "ax1.set_title('Republicans')\n",
        "ax1.set(xlim=(0, 20))\n",
        "word=df_democrats['text'].str.split().apply(lambda x : [len(i) for i in x])\n",
        "sns.distplot(word.map(lambda x: np.mean(x)),ax=ax2,color='b')\n",
        "ax2.set_title('Democrats')\n",
        "ax2.set(xlim=(0, 20))\n",
        "fig.suptitle('Average word lenght in tweets');"
      ]
    },
    {
      "cell_type": "code",
      "execution_count": 23,
      "metadata": {
        "id": "_PUwtUlcZZB1"
      },
      "outputs": [],
      "source": [
        "def create_list_of_words(label):\n",
        "    list_of_words=[]\n",
        "    \n",
        "    for x in df[df['label']==label]['text'].str.split():\n",
        "        for i in x:\n",
        "            list_of_words.append(i)\n",
        "    return list_of_words"
      ]
    },
    {
      "cell_type": "code",
      "source": [
        "from nltk.tokenize import TweetTokenizer\n",
        "\n",
        "def create_corpus(label):\n",
        "    tokenizer = TweetTokenizer(preserve_case=False, strip_handles=True,\n",
        "                               reduce_len=True)\n",
        "    corpus = []\n",
        "    for x in df[df['label']==label]['text']:\n",
        "        corpus += tokenizer.tokenize(x)\n",
        "    return corpus"
      ],
      "metadata": {
        "id": "GMq4fMXb0569"
      },
      "execution_count": 18,
      "outputs": []
    },
    {
      "cell_type": "code",
      "source": [
        "create_corpus(label='R')[:20]"
      ],
      "metadata": {
        "colab": {
          "base_uri": "https://localhost:8080/"
        },
        "id": "kqwJ44R36Klt",
        "outputId": "4c8b196f-4aa0-42b3-f94a-b52a38797b8d"
      },
      "execution_count": 27,
      "outputs": [
        {
          "output_type": "execute_result",
          "data": {
            "text/plain": [
              "['i',\n",
              " 'have',\n",
              " 'joined',\n",
              " 'my',\n",
              " 'fellow',\n",
              " 'co-chairs',\n",
              " 'of',\n",
              " 'the',\n",
              " 'congressional',\n",
              " 'coalition',\n",
              " 'on',\n",
              " 'adoption',\n",
              " 'in',\n",
              " 'penning',\n",
              " 'a',\n",
              " 'letter',\n",
              " 'to',\n",
              " 'u',\n",
              " '.',\n",
              " 's']"
            ]
          },
          "metadata": {},
          "execution_count": 27
        }
      ]
    },
    {
      "cell_type": "code",
      "execution_count": null,
      "metadata": {
        "colab": {
          "base_uri": "https://localhost:8080/"
        },
        "id": "X_qT5jO0ZZB2",
        "outputId": "5d45af17-acfb-4e24-ef04-e99b2f56394a"
      },
      "outputs": [
        {
          "output_type": "execute_result",
          "data": {
            "text/plain": [
              "['I',\n",
              " 'have',\n",
              " 'joined',\n",
              " 'my',\n",
              " 'fellow',\n",
              " 'co-chairs',\n",
              " 'of',\n",
              " 'the',\n",
              " 'Congressional',\n",
              " 'Coalition',\n",
              " 'on',\n",
              " 'Adoption',\n",
              " 'in',\n",
              " 'penning',\n",
              " 'a',\n",
              " 'letter',\n",
              " 'to',\n",
              " 'U.S.',\n",
              " 'Secretary…',\n",
              " 'Today']"
            ]
          },
          "metadata": {},
          "execution_count": 40
        }
      ],
      "source": [
        "create_list_of_words(label='R')[:20]"
      ]
    },
    {
      "cell_type": "markdown",
      "metadata": {
        "id": "S3nDHUY0ZZB2"
      },
      "source": [
        "#### Punctuation and strange characters in tweets"
      ]
    },
    {
      "cell_type": "code",
      "execution_count": 21,
      "metadata": {
        "colab": {
          "base_uri": "https://localhost:8080/",
          "height": 388
        },
        "id": "dhuhhKjgZZB3",
        "outputId": "9d94b5ba-44ba-4bb3-8dcb-00a57a6f3be6"
      },
      "outputs": [
        {
          "output_type": "display_data",
          "data": {
            "text/plain": [
              "<Figure size 1296x432 with 1 Axes>"
            ],
            "image/png": "[encoded data removed]"
          },
          "metadata": {
            "needs_background": "light"
          }
        }
      ],
      "source": [
        "import string\n",
        "\n",
        "plt.figure(figsize=(18,6))\n",
        "list_of_words = create_corpus(label='R') + create_corpus(label='D')\n",
        "\n",
        "punctuation = string.punctuation\n",
        "special_characters = []\n",
        "\n",
        "for word in list_of_words:\n",
        "    if word in punctuation:\n",
        "        special_characters.append(word)\n",
        "        \n",
        "special_characters_df = pd.DataFrame(special_characters, columns=['char'])\n",
        "special_characters_df = special_characters_df.groupby('char').size().reset_index(name='count').sort_values(by='count', ascending=False)\n",
        "\n",
        "#dict_count_characters = {i:special_characters.count(i) for i in special_characters}\n",
        "#dict_count_characters_ordered = sorted(dict_count_characters.items(), key=lambda x: x[1], reverse=True)\n",
        "\n",
        "#characters = [i[0] for i in dict_count_characters_ordered]\n",
        "#count = [i[1] for i in dict_count_characters_ordered]\n",
        "\n",
        "sns.barplot(x=special_characters_df['count'], y=special_characters_df['char']);"
      ]
    },
    {
      "cell_type": "markdown",
      "metadata": {
        "id": "jQcmT2AOZZB4"
      },
      "source": [
        "#### Most common words in tweets"
      ]
    },
    {
      "cell_type": "code",
      "execution_count": null,
      "metadata": {
        "colab": {
          "base_uri": "https://localhost:8080/"
        },
        "id": "6kUYVGFNZZB4",
        "outputId": "d636d906-2a82-4605-d686-fe560c868558"
      },
      "outputs": [
        {
          "output_type": "execute_result",
          "data": {
            "text/plain": [
              "[('the', 309931),\n",
              " ('to', 278060),\n",
              " ('of', 145699),\n",
              " ('and', 136834),\n",
              " ('in', 118708)]"
            ]
          },
          "metadata": {},
          "execution_count": 42
        }
      ],
      "source": [
        "from collections import Counter\n",
        "\n",
        "list_of_words_republicans = create_list_of_words(label='R')\n",
        "list_of_words_democrats = create_list_of_words(label='D')\n",
        "top_used_words_republicans = dict(Counter(list_of_words_republicans))\n",
        "top_used_words_democrats = dict(Counter(list_of_words_democrats))\n",
        "top_used_words_ordered_republicans = sorted(top_used_words_republicans.items(), key=lambda x: x[1], reverse=True)\n",
        "top_used_words_ordered_democrats = sorted(top_used_words_democrats.items(), key=lambda x: x[1], reverse=True)\n",
        "top_used_words_ordered_republicans[:5]"
      ]
    },
    {
      "cell_type": "code",
      "execution_count": null,
      "metadata": {
        "colab": {
          "base_uri": "https://localhost:8080/",
          "height": 390
        },
        "id": "xyjcf43JZZB4",
        "outputId": "15a3053c-05f6-48d2-f5d7-b7160a0c9e1c"
      },
      "outputs": [
        {
          "output_type": "display_data",
          "data": {
            "text/plain": [
              "<Figure size 1296x432 with 1 Axes>"
            ],
            "image/png": "[encoded data removed]"
          },
          "metadata": {
            "needs_background": "light"
          }
        }
      ],
      "source": [
        "words = [i[0] for i in top_used_words_ordered_republicans[:20]]\n",
        "count = [i[1] for i in top_used_words_ordered_republicans[:20]]\n",
        "sns.barplot(x=count,y=words).set_title('Most common words in Republicans tweets');"
      ]
    },
    {
      "cell_type": "code",
      "source": [
        "words = [i[0] for i in top_used_words_ordered_democrats[:20]]\n",
        "count = [i[1] for i in top_used_words_ordered_democrats[:20]]\n",
        "sns.barplot(x=count,y=words).set_title('Most common words in Democrats tweets');"
      ],
      "metadata": {
        "colab": {
          "base_uri": "https://localhost:8080/",
          "height": 390
        },
        "id": "jUZv-HxLo3qX",
        "outputId": "f01f1cd1-0cd8-4f6d-da76-90d3640a2d50"
      },
      "execution_count": null,
      "outputs": [
        {
          "output_type": "display_data",
          "data": {
            "text/plain": [
              "<Figure size 1296x432 with 1 Axes>"
            ],
            "image/png": "[encoded data removed]"
          },
          "metadata": {
            "needs_background": "light"
          }
        }
      ]
    },
    {
      "cell_type": "markdown",
      "source": [
        "# work in progress\n"
      ],
      "metadata": {
        "id": "d0219EOF47eq"
      }
    },
    {
      "cell_type": "code",
      "source": [
        ""
      ],
      "metadata": {
        "id": "r9613bkn45nM"
      },
      "execution_count": null,
      "outputs": []
    },
    {
      "cell_type": "code",
      "source": [
        "#tokenizacion\n",
        "import nltk\n",
        "nltk.download('punkt')\n",
        "from nltk.tokenize import TweetTokenizer\n",
        "tokenizer = TweetTokenizer(preserve_case=False, strip_handles=True,\n",
        "                               reduce_len=True)\n",
        "\n",
        "# tokenize tweets\n",
        "print(df['text'][0])\n",
        "tweet_tokens = tokenizer.tokenize(df['text'][0])\n",
        "print(tweet_tokens)\n"
      ],
      "metadata": {
        "id": "O_tUq2q5454M",
        "outputId": "97fff94e-71ca-4ae5-9064-3d754ae74357",
        "colab": {
          "base_uri": "https://localhost:8080/"
        }
      },
      "execution_count": null,
      "outputs": [
        {
          "output_type": "stream",
          "name": "stdout",
          "text": [
            "[nltk_data] Downloading package punkt to /root/nltk_data...\n",
            "[nltk_data]   Package punkt is already up-to-date!\n",
            "Madeleine Albright often said, “There is a special place in hell for women who don't help each other.” As a feminis… \n",
            "['madeleine', 'albright', 'often', 'said', ',', '“', 'there', 'is', 'a', 'special', 'place', 'in', 'hell', 'for', 'women', 'who', \"don't\", 'help', 'each', 'other', '.', '”', 'as', 'a', 'feminis', '…']\n"
          ]
        }
      ]
    },
    {
      "cell_type": "code",
      "source": [
        "tweets_clean = []\n",
        "for word in tokenizer.tokenize(df['text'][1]): # Go through every word in your tokens list\n",
        "    if (word not in stop and  # remove stopwords\n",
        "        word not in string.punctuation):  # remove punctuation\n",
        "        tweets_clean.append(word)\n",
        "print(tweets_clean)"
      ],
      "metadata": {
        "id": "rnrNYirL456Q",
        "outputId": "cbcb7522-2642-4ea5-d5d6-a22fbc833d35",
        "colab": {
          "base_uri": "https://localhost:8080/"
        }
      },
      "execution_count": null,
      "outputs": [
        {
          "output_type": "stream",
          "name": "stdout",
          "text": [
            "['Judge', 'Ketanji', 'Brown', 'Jackson', '✔️', 'Received', 'unanimous', '``', 'Well', 'Qualified', \"''\", 'rating', 'nonpartisan', 'American', 'Bar', 'Ass…']\n"
          ]
        }
      ]
    },
    {
      "cell_type": "code",
      "source": [
        "#nomalizacion\n",
        "\n",
        "text = \" \".join(tweets_clean)\n",
        "tokenizer = nltk.tokenize.TreebankWordTokenizer()\n",
        "tokens = tokenizer.tokenize(text)\n",
        "stemmer = nltk.stem.PorterStemmer()\n",
        "\" \".join(stemmer.stem(token) for token in tokens)"
      ],
      "metadata": {
        "id": "Si4hP6UE458D",
        "outputId": "3f50c6fb-3cbd-491f-be23-65c4832496dc",
        "colab": {
          "base_uri": "https://localhost:8080/",
          "height": 35
        }
      },
      "execution_count": null,
      "outputs": [
        {
          "output_type": "execute_result",
          "data": {
            "text/plain": [
              "\"judg ketanji brown jackson ✔️ receiv unanim `` well qualifi '' rate nonpartisan american bar ass…\""
            ],
            "application/vnd.google.colaboratory.intrinsic+json": {
              "type": "string"
            }
          },
          "metadata": {},
          "execution_count": 88
        }
      ]
    },
    {
      "cell_type": "code",
      "source": [
        ""
      ],
      "metadata": {
        "id": "XR0hDWVP45-B"
      },
      "execution_count": null,
      "outputs": []
    },
    {
      "cell_type": "markdown",
      "metadata": {
        "id": "9S9VrwJWZZB5"
      },
      "source": [
        "#### Most common words in tweets which are not stop words"
      ]
    },
    {
      "cell_type": "code",
      "execution_count": null,
      "metadata": {
        "scrolled": true,
        "colab": {
          "base_uri": "https://localhost:8080/",
          "height": 371
        },
        "id": "R0bqPmnvZZB5",
        "outputId": "6bfee244-5bbd-4edb-88a3-831061cc9176"
      },
      "outputs": [
        {
          "output_type": "stream",
          "name": "stdout",
          "text": [
            "[nltk_data] Downloading package stopwords to /root/nltk_data...\n",
            "[nltk_data]   Package stopwords is already up-to-date!\n"
          ]
        },
        {
          "output_type": "display_data",
          "data": {
            "text/plain": [
              "<Figure size 1152x360 with 1 Axes>"
            ],
            "image/png": "[encoded data removed]"
          },
          "metadata": {
            "needs_background": "light"
          }
        }
      ],
      "source": [
        "import nltk\n",
        "from nltk.corpus import stopwords\n",
        "nltk.download('stopwords')\n",
        "stop=set(stopwords.words('english'))\n",
        "import string\n",
        "\n",
        "\n",
        "words = []\n",
        "count = []\n",
        "list_of_rubish = ['&amp;', '-']\n",
        "for word, number in top_used_words_ordered_republicans:\n",
        "    if len(words) > 20:\n",
        "        break\n",
        "    elif (word not in stop) and (word not in list_of_rubish) and (word not in string.punctuation):\n",
        "        words.append(word)\n",
        "        count.append(number)\n",
        "\n",
        "plt.figure(figsize=(16,5))\n",
        "sns.barplot(x=count,y=words).set_title('Most common words in Republicans tweets');"
      ]
    },
    {
      "cell_type": "code",
      "source": [
        "words = []\n",
        "count = []\n",
        "for word, number in top_used_words_ordered_democrats:\n",
        "    if len(words) > 20:\n",
        "        break\n",
        "    elif (word not in stop) and (word not in list_of_rubish) and (word not in string.punctuation):\n",
        "        words.append(word)\n",
        "        count.append(number)\n",
        "\n",
        "plt.figure(figsize=(16,5))\n",
        "sns.barplot(x=count,y=words).set_title('Most common words in Democrats tweets');"
      ],
      "metadata": {
        "colab": {
          "base_uri": "https://localhost:8080/",
          "height": 336
        },
        "id": "0E704Pp2pWov",
        "outputId": "dd8a07ad-f06a-492b-8ece-5af7d725e632"
      },
      "execution_count": null,
      "outputs": [
        {
          "output_type": "display_data",
          "data": {
            "text/plain": [
              "<Figure size 1152x360 with 1 Axes>"
            ],
            "image/png": "[encoded data removed]"
          },
          "metadata": {
            "needs_background": "light"
          }
        }
      ]
    },
    {
      "cell_type": "markdown",
      "metadata": {
        "id": "RtruJuMzZZB6"
      },
      "source": [
        "#### Most common pairs of words in tweets"
      ]
    },
    {
      "cell_type": "code",
      "execution_count": null,
      "metadata": {
        "id": "1Fyi9n5jZZB6"
      },
      "outputs": [],
      "source": [
        "def create_list_of_bigrams(label):\n",
        "    list_of_bigrams=[]\n",
        "    \n",
        "    for x in df[df['label']==label]['text'].str.split():\n",
        "        for i in range(len(x)-1):\n",
        "            list_of_bigrams.append(tuple(x[i:i+2]))\n",
        "    return list_of_bigrams"
      ]
    },
    {
      "cell_type": "code",
      "execution_count": null,
      "metadata": {
        "id": "SVXkqYUTZZB7"
      },
      "outputs": [],
      "source": [
        "list_of_bigrams_republicans = create_list_of_bigrams(label='R')\n",
        "list_of_bigrams_democrats = create_list_of_bigrams(label='D')"
      ]
    },
    {
      "cell_type": "code",
      "execution_count": null,
      "metadata": {
        "colab": {
          "base_uri": "https://localhost:8080/"
        },
        "id": "pwnwmJc3ZZB7",
        "outputId": "18db39ed-42ef-41d3-cac5-d16338529aac"
      },
      "outputs": [
        {
          "output_type": "execute_result",
          "data": {
            "text/plain": [
              "[(('of', 'the'), 31504),\n",
              " (('to', 'the'), 19856),\n",
              " (('in', 'the'), 19267),\n",
              " (('on', 'the'), 16828),\n",
              " (('for', 'the'), 15255)]"
            ]
          },
          "metadata": {},
          "execution_count": 55
        }
      ],
      "source": [
        "top_used_bigrams_republicans = dict(Counter(list_of_bigrams_republicans))\n",
        "top_used_bigrams_democrats = dict(Counter(list_of_bigrams_democrats))\n",
        "top_used_bigrams_ordered_republicans = sorted(top_used_bigrams_republicans.items(), key=lambda x: x[1], reverse=True)\n",
        "top_used_bigrams_ordered_democrats = sorted(top_used_bigrams_democrats.items(), key=lambda x: x[1], reverse=True)\n",
        "top_used_bigrams_ordered_republicans[:5]"
      ]
    },
    {
      "cell_type": "code",
      "execution_count": null,
      "metadata": {
        "id": "9xHlfE-QZZB8"
      },
      "outputs": [],
      "source": [
        "#transform the bigrams from tuple to string\n",
        "for i in range(len(top_used_bigrams_ordered_republicans)):\n",
        "    top_used_bigrams_ordered_republicans[i] = (\" \".join(top_used_bigrams_ordered_republicans[i][0]), top_used_bigrams_ordered_republicans[i][1])\n",
        "for i in range(len(top_used_bigrams_ordered_democrats)):\n",
        "    top_used_bigrams_ordered_democrats[i] = (\" \".join(top_used_bigrams_ordered_democrats[i][0]), top_used_bigrams_ordered_democrats[i][1])"
      ]
    },
    {
      "cell_type": "code",
      "execution_count": null,
      "metadata": {
        "colab": {
          "base_uri": "https://localhost:8080/"
        },
        "id": "ZpyORA1PZZB8",
        "outputId": "4921d645-2dfd-457d-ecce-80e6babb94bb"
      },
      "outputs": [
        {
          "output_type": "execute_result",
          "data": {
            "text/plain": [
              "[('of the', 31504),\n",
              " ('to the', 19856),\n",
              " ('in the', 19267),\n",
              " ('on the', 16828),\n",
              " ('for the', 15255),\n",
              " ('at the', 11189),\n",
              " ('Thank you', 10712),\n",
              " ('is a', 10636),\n",
              " ('to be', 9164),\n",
              " ('I am', 8434),\n",
              " ('and the', 7483),\n",
              " ('with the', 6962),\n",
              " ('of our', 6887),\n",
              " ('to see', 6826),\n",
              " ('to discuss', 6766),\n",
              " ('This is', 6410),\n",
              " ('you to', 6281),\n",
              " ('will be', 5960),\n",
              " ('and I', 5822),\n",
              " ('the House', 5670)]"
            ]
          },
          "metadata": {},
          "execution_count": 57
        }
      ],
      "source": [
        "top_used_bigrams_ordered_republicans[:20]"
      ]
    },
    {
      "cell_type": "code",
      "execution_count": null,
      "metadata": {
        "colab": {
          "base_uri": "https://localhost:8080/",
          "height": 407
        },
        "id": "HPn5MFs6ZZB8",
        "outputId": "3fcbb02d-ecc0-4343-91d7-68a6742fff59"
      },
      "outputs": [
        {
          "output_type": "execute_result",
          "data": {
            "text/plain": [
              "Text(0.5, 1.0, 'Most common pairs of words in Republicans tweets')"
            ]
          },
          "metadata": {},
          "execution_count": 58
        },
        {
          "output_type": "display_data",
          "data": {
            "text/plain": [
              "<Figure size 1296x432 with 1 Axes>"
            ],
            "image/png": "[encoded data removed]"
          },
          "metadata": {
            "needs_background": "light"
          }
        }
      ],
      "source": [
        "x,y=map(list,zip(*top_used_bigrams_ordered_republicans[:20]))\n",
        "sns.barplot(x=y,y=x).set_title('Most common pairs of words in Republicans tweets')"
      ]
    },
    {
      "cell_type": "code",
      "source": [
        "x,y=map(list,zip(*top_used_bigrams_ordered_democrats[:20]))\n",
        "sns.barplot(x=y,y=x).set_title('Most common pairs of words in Democrats tweets')"
      ],
      "metadata": {
        "colab": {
          "base_uri": "https://localhost:8080/",
          "height": 407
        },
        "id": "3u-r4qGprGl1",
        "outputId": "bd7ed8b2-bb0e-4364-a44e-086de92f3511"
      },
      "execution_count": null,
      "outputs": [
        {
          "output_type": "execute_result",
          "data": {
            "text/plain": [
              "Text(0.5, 1.0, 'Most common pairs of words in Democrats tweets')"
            ]
          },
          "metadata": {},
          "execution_count": 60
        },
        {
          "output_type": "display_data",
          "data": {
            "text/plain": [
              "<Figure size 1296x432 with 1 Axes>"
            ],
            "image/png": "[encoded data removed]"
          },
          "metadata": {
            "needs_background": "light"
          }
        }
      ]
    },
    {
      "cell_type": "markdown",
      "metadata": {
        "id": "3a9ImaIgZZB9"
      },
      "source": [
        "#### I suspect that there are gonna be URLs"
      ]
    },
    {
      "cell_type": "code",
      "execution_count": null,
      "metadata": {
        "colab": {
          "base_uri": "https://localhost:8080/"
        },
        "id": "PnltahrSZZB9",
        "outputId": "c9e77801-8c83-487b-b3ac-50932de1c668"
      },
      "outputs": [
        {
          "output_type": "execute_result",
          "data": {
            "text/plain": [
              "4"
            ]
          },
          "metadata": {},
          "execution_count": 61
        }
      ],
      "source": [
        "len(df.query('text.str.contains(\"http\")', engine='python'))"
      ]
    },
    {
      "cell_type": "markdown",
      "metadata": {
        "id": "FPcwmn0hZZB-"
      },
      "source": [
        "# WE HAVE TO CLEAN EVERYTHING, THIS IS FULL OF SHIT"
      ]
    }
  ],
  "metadata": {
    "kernelspec": {
      "display_name": "Python 3 (ipykernel)",
      "language": "python",
      "name": "python3"
    },
    "language_info": {
      "codemirror_mode": {
        "name": "ipython",
        "version": 3
      },
      "file_extension": ".py",
      "mimetype": "text/x-python",
      "name": "python",
      "nbconvert_exporter": "python",
      "pygments_lexer": "ipython3",
      "version": "3.8.11"
    },
    "colab": {
      "name": "pre_data_cleaning.ipynb",
      "provenance": []
    },
    "accelerator": "GPU"
  },
  "nbformat": 4,
  "nbformat_minor": 0
}