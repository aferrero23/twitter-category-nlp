{
  "cells": [
    {
      "cell_type": "markdown",
      "metadata": {
        "id": "lJs7YPB4ZZBF"
      },
      "source": [
        "## TODO:\n",
        "    1- Review tweets: why the are not complete?\n",
        "    2- Should I standarize by number of senators?\n",
        "    3- Should I remove emojis?\n",
        "    4- Check strange charecters in tweets\n",
        "    "
      ]
    },
    {
      "cell_type": "code",
      "source": [
        "#import time\n",
        "#for i in range(0,100000):\n",
        "#  time.sleep(100)\n",
        "#  print(i)"
      ],
      "metadata": {
        "id": "N4uKZpU4O9-x"
      },
      "execution_count": 1,
      "outputs": []
    },
    {
      "cell_type": "markdown",
      "metadata": {
        "id": "wyEvoktEZZBP"
      },
      "source": [
        "#### Import libraries"
      ]
    },
    {
      "cell_type": "markdown",
      "source": [
        ""
      ],
      "metadata": {
        "id": "tfmZA0iMDSK0"
      }
    },
    {
      "cell_type": "code",
      "execution_count": 2,
      "metadata": {
        "id": "94WKA01pZZBQ"
      },
      "outputs": [],
      "source": [
        "import pandas as pd\n",
        "import numpy as np\n",
        "import matplotlib.pyplot as plt\n",
        "from datetime import datetime\n",
        "import seaborn as sns\n",
        "import glob\n",
        "import re"
      ]
    },
    {
      "cell_type": "markdown",
      "metadata": {
        "id": "RIcLH9KlZZBT"
      },
      "source": [
        "#### Read file"
      ]
    },
    {
      "cell_type": "code",
      "source": [
        "df_eeuu_member_of_congress = pd.read_csv('https://raw.githubusercontent.com/alexferrero23/twitter-category-nlp/develop/data/eeuu_member_of_congress.csv', sep=';')"
      ],
      "metadata": {
        "id": "J_rDl7kKazWW"
      },
      "execution_count": 3,
      "outputs": []
    },
    {
      "cell_type": "code",
      "source": [
        "list_senators = df_eeuu_member_of_congress['Twitter'].dropna().tolist()\n",
        "list_senators = [x.replace('@', '') for x in list_senators]\n",
        "list_senators = [x.replace(' ', '') for x in list_senators]"
      ],
      "metadata": {
        "id": "O97pmwUwbF9b"
      },
      "execution_count": 4,
      "outputs": []
    },
    {
      "cell_type": "code",
      "execution_count": 5,
      "metadata": {
        "colab": {
          "base_uri": "https://localhost:8080/"
        },
        "id": "oKKvTFFWZZBY",
        "outputId": "b06e3843-41b5-4174-8b75-2c3c7662085b"
      },
      "outputs": [
        {
          "output_type": "stream",
          "name": "stdout",
          "text": [
            "Error tokenizing data. C error: Buffer overflow caught - possible malformed input file.\n",
            "\n",
            "User RepRonKind was not read\n",
            "HTTP Error 404: Not Found\n",
            "User SenatorLeahy was not read\n",
            "Len of the dataframe: 945248\n"
          ]
        }
      ],
      "source": [
        "df = pd.DataFrame(columns=[\"id\", \"user\", \"username\", \"created_at\", \"text\", \"lang\", \"label\",\"retweet_count\", \"favorite_count\"])\n",
        "\n",
        "for user in list_senators:\n",
        "    try:\n",
        "        df_user = pd.read_csv(f\"https://raw.githubusercontent.com/alexferrero23/twitter-category-nlp/develop/data/{user}.csv\", sep=\"|\")\n",
        "        #user = re.search('data/(.*).csv', path).group(1)\n",
        "        df_user['username'] = user\n",
        "        df = pd.concat([df, df_user], ignore_index=True)\n",
        "    except Exception as e:\n",
        "        print(e)\n",
        "        print(f\"User {user} was not read\")\n",
        "\n",
        "#df = pd.read_csv(list_data[0], sep=\"|\")\n",
        "#Only in english\n",
        "df = df[df['lang']=='en']\n",
        "print(f\"Len of the dataframe: {len(df)}\")"
      ]
    },
    {
      "cell_type": "code",
      "execution_count": 6,
      "metadata": {
        "colab": {
          "base_uri": "https://localhost:8080/",
          "height": 206
        },
        "id": "ThRqru0yZZBZ",
        "outputId": "0a7d912d-e21f-4109-b75c-caa668fd020f"
      },
      "outputs": [
        {
          "output_type": "execute_result",
          "data": {
            "text/plain": [
              "                    id        user  username                      created_at  \\\n",
              "0  1520413281546121217  2916086925  RepAdams  Sat Apr 30 14:42:28 +0000 2022   \n",
              "1  1520080542770868225  2916086925  RepAdams  Fri Apr 29 16:40:17 +0000 2022   \n",
              "2  1519857097902632961  2916086925  RepAdams  Fri Apr 29 01:52:24 +0000 2022   \n",
              "3  1518615506324004867  2916086925  RepAdams  Mon Apr 25 15:38:45 +0000 2022   \n",
              "4  1517593503416651777  2916086925  RepAdams  Fri Apr 22 19:57:41 +0000 2022   \n",
              "\n",
              "                                                text lang label retweet_count  \\\n",
              "0  Today my thoughts are with the entire UNC Char...   en     D             3   \n",
              "1  Welcome to the next President of @DavidsonColl...   en     D             1   \n",
              "2  This #WorkersMemorialDay, we remember countles...   en     D             2   \n",
              "3  It’s a perfect date to celebrate the 40th Anni...   en     D             3   \n",
              "4  Happy National Volunteer Week!  Volunteers mak...   en     D             2   \n",
              "\n",
              "  favorite_count  \n",
              "0             17  \n",
              "1              0  \n",
              "2              3  \n",
              "3             29  \n",
              "4              6  "
            ],
            "text/html": [
              "\n",
              "  <div id=\"df-8e248713-855c-477e-a8ea-032b11d4a311\">\n",
              "    <div class=\"colab-df-container\">\n",
              "      <div>\n",
              "<style scoped>\n",
              "    .dataframe tbody tr th:only-of-type {\n",
              "        vertical-align: middle;\n",
              "    }\n",
              "\n",
              "    .dataframe tbody tr th {\n",
              "        vertical-align: top;\n",
              "    }\n",
              "\n",
              "    .dataframe thead th {\n",
              "        text-align: right;\n",
              "    }\n",
              "</style>\n",
              "<table border=\"1\" class=\"dataframe\">\n",
              "  <thead>\n",
              "    <tr style=\"text-align: right;\">\n",
              "      <th></th>\n",
              "      <th>id</th>\n",
              "      <th>user</th>\n",
              "      <th>username</th>\n",
              "      <th>created_at</th>\n",
              "      <th>text</th>\n",
              "      <th>lang</th>\n",
              "      <th>label</th>\n",
              "      <th>retweet_count</th>\n",
              "      <th>favorite_count</th>\n",
              "    </tr>\n",
              "  </thead>\n",
              "  <tbody>\n",
              "    <tr>\n",
              "      <th>0</th>\n",
              "      <td>1520413281546121217</td>\n",
              "      <td>2916086925</td>\n",
              "      <td>RepAdams</td>\n",
              "      <td>Sat Apr 30 14:42:28 +0000 2022</td>\n",
              "      <td>Today my thoughts are with the entire UNC Char...</td>\n",
              "      <td>en</td>\n",
              "      <td>D</td>\n",
              "      <td>3</td>\n",
              "      <td>17</td>\n",
              "    </tr>\n",
              "    <tr>\n",
              "      <th>1</th>\n",
              "      <td>1520080542770868225</td>\n",
              "      <td>2916086925</td>\n",
              "      <td>RepAdams</td>\n",
              "      <td>Fri Apr 29 16:40:17 +0000 2022</td>\n",
              "      <td>Welcome to the next President of @DavidsonColl...</td>\n",
              "      <td>en</td>\n",
              "      <td>D</td>\n",
              "      <td>1</td>\n",
              "      <td>0</td>\n",
              "    </tr>\n",
              "    <tr>\n",
              "      <th>2</th>\n",
              "      <td>1519857097902632961</td>\n",
              "      <td>2916086925</td>\n",
              "      <td>RepAdams</td>\n",
              "      <td>Fri Apr 29 01:52:24 +0000 2022</td>\n",
              "      <td>This #WorkersMemorialDay, we remember countles...</td>\n",
              "      <td>en</td>\n",
              "      <td>D</td>\n",
              "      <td>2</td>\n",
              "      <td>3</td>\n",
              "    </tr>\n",
              "    <tr>\n",
              "      <th>3</th>\n",
              "      <td>1518615506324004867</td>\n",
              "      <td>2916086925</td>\n",
              "      <td>RepAdams</td>\n",
              "      <td>Mon Apr 25 15:38:45 +0000 2022</td>\n",
              "      <td>It’s a perfect date to celebrate the 40th Anni...</td>\n",
              "      <td>en</td>\n",
              "      <td>D</td>\n",
              "      <td>3</td>\n",
              "      <td>29</td>\n",
              "    </tr>\n",
              "    <tr>\n",
              "      <th>4</th>\n",
              "      <td>1517593503416651777</td>\n",
              "      <td>2916086925</td>\n",
              "      <td>RepAdams</td>\n",
              "      <td>Fri Apr 22 19:57:41 +0000 2022</td>\n",
              "      <td>Happy National Volunteer Week!  Volunteers mak...</td>\n",
              "      <td>en</td>\n",
              "      <td>D</td>\n",
              "      <td>2</td>\n",
              "      <td>6</td>\n",
              "    </tr>\n",
              "  </tbody>\n",
              "</table>\n",
              "</div>\n",
              "      <button class=\"colab-df-convert\" onclick=\"convertToInteractive('df-8e248713-855c-477e-a8ea-032b11d4a311')\"\n",
              "              title=\"Convert this dataframe to an interactive table.\"\n",
              "              style=\"display:none;\">\n",
              "        \n",
              "  <svg xmlns=\"http://www.w3.org/2000/svg\" height=\"24px\"viewBox=\"0 0 24 24\"\n",
              "       width=\"24px\">\n",
              "    <path d=\"M0 0h24v24H0V0z\" fill=\"none\"/>\n",
              "    <path d=\"M18.56 5.44l.94 2.06.94-2.06 2.06-.94-2.06-.94-.94-2.06-.94 2.06-2.06.94zm-11 1L8.5 8.5l.94-2.06 2.06-.94-2.06-.94L8.5 2.5l-.94 2.06-2.06.94zm10 10l.94 2.06.94-2.06 2.06-.94-2.06-.94-.94-2.06-.94 2.06-2.06.94z\"/><path d=\"M17.41 7.96l-1.37-1.37c-.4-.4-.92-.59-1.43-.59-.52 0-1.04.2-1.43.59L10.3 9.45l-7.72 7.72c-.78.78-.78 2.05 0 2.83L4 21.41c.39.39.9.59 1.41.59.51 0 1.02-.2 1.41-.59l7.78-7.78 2.81-2.81c.8-.78.8-2.07 0-2.86zM5.41 20L4 18.59l7.72-7.72 1.47 1.35L5.41 20z\"/>\n",
              "  </svg>\n",
              "      </button>\n",
              "      \n",
              "  <style>\n",
              "    .colab-df-container {\n",
              "      display:flex;\n",
              "      flex-wrap:wrap;\n",
              "      gap: 12px;\n",
              "    }\n",
              "\n",
              "    .colab-df-convert {\n",
              "      background-color: #E8F0FE;\n",
              "      border: none;\n",
              "      border-radius: 50%;\n",
              "      cursor: pointer;\n",
              "      display: none;\n",
              "      fill: #1967D2;\n",
              "      height: 32px;\n",
              "      padding: 0 0 0 0;\n",
              "      width: 32px;\n",
              "    }\n",
              "\n",
              "    .colab-df-convert:hover {\n",
              "      background-color: #E2EBFA;\n",
              "      box-shadow: 0px 1px 2px rgba(60, 64, 67, 0.3), 0px 1px 3px 1px rgba(60, 64, 67, 0.15);\n",
              "      fill: #174EA6;\n",
              "    }\n",
              "\n",
              "    [theme=dark] .colab-df-convert {\n",
              "      background-color: #3B4455;\n",
              "      fill: #D2E3FC;\n",
              "    }\n",
              "\n",
              "    [theme=dark] .colab-df-convert:hover {\n",
              "      background-color: #434B5C;\n",
              "      box-shadow: 0px 1px 3px 1px rgba(0, 0, 0, 0.15);\n",
              "      filter: drop-shadow(0px 1px 2px rgba(0, 0, 0, 0.3));\n",
              "      fill: #FFFFFF;\n",
              "    }\n",
              "  </style>\n",
              "\n",
              "      <script>\n",
              "        const buttonEl =\n",
              "          document.querySelector('#df-8e248713-855c-477e-a8ea-032b11d4a311 button.colab-df-convert');\n",
              "        buttonEl.style.display =\n",
              "          google.colab.kernel.accessAllowed ? 'block' : 'none';\n",
              "\n",
              "        async function convertToInteractive(key) {\n",
              "          const element = document.querySelector('#df-8e248713-855c-477e-a8ea-032b11d4a311');\n",
              "          const dataTable =\n",
              "            await google.colab.kernel.invokeFunction('convertToInteractive',\n",
              "                                                     [key], {});\n",
              "          if (!dataTable) return;\n",
              "\n",
              "          const docLinkHtml = 'Like what you see? Visit the ' +\n",
              "            '<a target=\"_blank\" href=https://colab.research.google.com/notebooks/data_table.ipynb>data table notebook</a>'\n",
              "            + ' to learn more about interactive tables.';\n",
              "          element.innerHTML = '';\n",
              "          dataTable['output_type'] = 'display_data';\n",
              "          await google.colab.output.renderOutput(dataTable, element);\n",
              "          const docLink = document.createElement('div');\n",
              "          docLink.innerHTML = docLinkHtml;\n",
              "          element.appendChild(docLink);\n",
              "        }\n",
              "      </script>\n",
              "    </div>\n",
              "  </div>\n",
              "  "
            ]
          },
          "metadata": {},
          "execution_count": 6
        }
      ],
      "source": [
        "df.head()"
      ]
    },
    {
      "cell_type": "code",
      "source": [
        "#delete useless columns\n",
        "df = df.drop('id', 1)\n",
        "df = df.drop('user', 1)"
      ],
      "metadata": {
        "id": "fVpNjWHaskxr",
        "outputId": "2b70bd0a-25c1-442a-a036-3d72c16add82",
        "colab": {
          "base_uri": "https://localhost:8080/"
        }
      },
      "execution_count": 7,
      "outputs": [
        {
          "output_type": "stream",
          "name": "stderr",
          "text": [
            "/usr/local/lib/python3.7/dist-packages/ipykernel_launcher.py:2: FutureWarning: In a future version of pandas all arguments of DataFrame.drop except for the argument 'labels' will be keyword-only\n",
            "  \n",
            "/usr/local/lib/python3.7/dist-packages/ipykernel_launcher.py:3: FutureWarning: In a future version of pandas all arguments of DataFrame.drop except for the argument 'labels' will be keyword-only\n",
            "  This is separate from the ipykernel package so we can avoid doing imports until\n"
          ]
        }
      ]
    },
    {
      "cell_type": "code",
      "execution_count": 8,
      "metadata": {
        "colab": {
          "base_uri": "https://localhost:8080/"
        },
        "id": "GfwE4ASNZZBb",
        "outputId": "f391893a-5550-4bf3-b4fc-c5bfa96f1760"
      },
      "outputs": [
        {
          "output_type": "execute_result",
          "data": {
            "text/plain": [
              "array(['D', 'R', 'I'], dtype=object)"
            ]
          },
          "metadata": {},
          "execution_count": 8
        }
      ],
      "source": [
        "df.label.unique()"
      ]
    },
    {
      "cell_type": "code",
      "execution_count": 9,
      "metadata": {
        "colab": {
          "base_uri": "https://localhost:8080/"
        },
        "id": "2gXxMYk2ZZBd",
        "outputId": "bb94e4f2-87fb-44f8-88ea-9a1a16076fee"
      },
      "outputs": [
        {
          "output_type": "execute_result",
          "data": {
            "text/plain": [
              "array(['SenAngusKing', 'SenSanders'], dtype=object)"
            ]
          },
          "metadata": {},
          "execution_count": 9
        }
      ],
      "source": [
        "df[df['label']=='I'].username.unique()"
      ]
    },
    {
      "cell_type": "markdown",
      "metadata": {
        "id": "0sAnkd7hZZBe"
      },
      "source": [
        "#### There are two members who are independent, but according to their political career, both will be considered as democrats as both have caucused with the Democratic Party "
      ]
    },
    {
      "cell_type": "code",
      "execution_count": 10,
      "metadata": {
        "id": "QBh2pHhNZZBf"
      },
      "outputs": [],
      "source": [
        "df['label'] = df['label'].apply(lambda x: x.replace('I', 'D'))"
      ]
    },
    {
      "cell_type": "markdown",
      "metadata": {
        "id": "GGzdwXWZZZBg"
      },
      "source": [
        "#### First of all, lets transform twitter date to python datetime"
      ]
    },
    {
      "cell_type": "code",
      "execution_count": 11,
      "metadata": {
        "id": "pt6glixFZZBh"
      },
      "outputs": [],
      "source": [
        "def twitter_date_to_datetime(twitter_date):\n",
        "    return datetime.strptime(twitter_date,'%a %b %d %H:%M:%S +0000 %Y')"
      ]
    },
    {
      "cell_type": "code",
      "execution_count": 12,
      "metadata": {
        "id": "Z446EVsVZZBi"
      },
      "outputs": [],
      "source": [
        "df['created_at'] = df['created_at'].apply(twitter_date_to_datetime)"
      ]
    },
    {
      "cell_type": "code",
      "execution_count": 13,
      "metadata": {
        "colab": {
          "base_uri": "https://localhost:8080/",
          "height": 206
        },
        "id": "yzAsA07hZZBi",
        "outputId": "14c0db7a-b089-4cc5-c65a-08776256aa46"
      },
      "outputs": [
        {
          "output_type": "execute_result",
          "data": {
            "text/plain": [
              "   username          created_at  \\\n",
              "0  RepAdams 2022-04-30 14:42:28   \n",
              "1  RepAdams 2022-04-29 16:40:17   \n",
              "2  RepAdams 2022-04-29 01:52:24   \n",
              "3  RepAdams 2022-04-25 15:38:45   \n",
              "4  RepAdams 2022-04-22 19:57:41   \n",
              "\n",
              "                                                text lang label retweet_count  \\\n",
              "0  Today my thoughts are with the entire UNC Char...   en     D             3   \n",
              "1  Welcome to the next President of @DavidsonColl...   en     D             1   \n",
              "2  This #WorkersMemorialDay, we remember countles...   en     D             2   \n",
              "3  It’s a perfect date to celebrate the 40th Anni...   en     D             3   \n",
              "4  Happy National Volunteer Week!  Volunteers mak...   en     D             2   \n",
              "\n",
              "  favorite_count  \n",
              "0             17  \n",
              "1              0  \n",
              "2              3  \n",
              "3             29  \n",
              "4              6  "
            ],
            "text/html": [
              "\n",
              "  <div id=\"df-2aef2912-da6e-40e2-b3b3-68001759fe77\">\n",
              "    <div class=\"colab-df-container\">\n",
              "      <div>\n",
              "<style scoped>\n",
              "    .dataframe tbody tr th:only-of-type {\n",
              "        vertical-align: middle;\n",
              "    }\n",
              "\n",
              "    .dataframe tbody tr th {\n",
              "        vertical-align: top;\n",
              "    }\n",
              "\n",
              "    .dataframe thead th {\n",
              "        text-align: right;\n",
              "    }\n",
              "</style>\n",
              "<table border=\"1\" class=\"dataframe\">\n",
              "  <thead>\n",
              "    <tr style=\"text-align: right;\">\n",
              "      <th></th>\n",
              "      <th>username</th>\n",
              "      <th>created_at</th>\n",
              "      <th>text</th>\n",
              "      <th>lang</th>\n",
              "      <th>label</th>\n",
              "      <th>retweet_count</th>\n",
              "      <th>favorite_count</th>\n",
              "    </tr>\n",
              "  </thead>\n",
              "  <tbody>\n",
              "    <tr>\n",
              "      <th>0</th>\n",
              "      <td>RepAdams</td>\n",
              "      <td>2022-04-30 14:42:28</td>\n",
              "      <td>Today my thoughts are with the entire UNC Char...</td>\n",
              "      <td>en</td>\n",
              "      <td>D</td>\n",
              "      <td>3</td>\n",
              "      <td>17</td>\n",
              "    </tr>\n",
              "    <tr>\n",
              "      <th>1</th>\n",
              "      <td>RepAdams</td>\n",
              "      <td>2022-04-29 16:40:17</td>\n",
              "      <td>Welcome to the next President of @DavidsonColl...</td>\n",
              "      <td>en</td>\n",
              "      <td>D</td>\n",
              "      <td>1</td>\n",
              "      <td>0</td>\n",
              "    </tr>\n",
              "    <tr>\n",
              "      <th>2</th>\n",
              "      <td>RepAdams</td>\n",
              "      <td>2022-04-29 01:52:24</td>\n",
              "      <td>This #WorkersMemorialDay, we remember countles...</td>\n",
              "      <td>en</td>\n",
              "      <td>D</td>\n",
              "      <td>2</td>\n",
              "      <td>3</td>\n",
              "    </tr>\n",
              "    <tr>\n",
              "      <th>3</th>\n",
              "      <td>RepAdams</td>\n",
              "      <td>2022-04-25 15:38:45</td>\n",
              "      <td>It’s a perfect date to celebrate the 40th Anni...</td>\n",
              "      <td>en</td>\n",
              "      <td>D</td>\n",
              "      <td>3</td>\n",
              "      <td>29</td>\n",
              "    </tr>\n",
              "    <tr>\n",
              "      <th>4</th>\n",
              "      <td>RepAdams</td>\n",
              "      <td>2022-04-22 19:57:41</td>\n",
              "      <td>Happy National Volunteer Week!  Volunteers mak...</td>\n",
              "      <td>en</td>\n",
              "      <td>D</td>\n",
              "      <td>2</td>\n",
              "      <td>6</td>\n",
              "    </tr>\n",
              "  </tbody>\n",
              "</table>\n",
              "</div>\n",
              "      <button class=\"colab-df-convert\" onclick=\"convertToInteractive('df-2aef2912-da6e-40e2-b3b3-68001759fe77')\"\n",
              "              title=\"Convert this dataframe to an interactive table.\"\n",
              "              style=\"display:none;\">\n",
              "        \n",
              "  <svg xmlns=\"http://www.w3.org/2000/svg\" height=\"24px\"viewBox=\"0 0 24 24\"\n",
              "       width=\"24px\">\n",
              "    <path d=\"M0 0h24v24H0V0z\" fill=\"none\"/>\n",
              "    <path d=\"M18.56 5.44l.94 2.06.94-2.06 2.06-.94-2.06-.94-.94-2.06-.94 2.06-2.06.94zm-11 1L8.5 8.5l.94-2.06 2.06-.94-2.06-.94L8.5 2.5l-.94 2.06-2.06.94zm10 10l.94 2.06.94-2.06 2.06-.94-2.06-.94-.94-2.06-.94 2.06-2.06.94z\"/><path d=\"M17.41 7.96l-1.37-1.37c-.4-.4-.92-.59-1.43-.59-.52 0-1.04.2-1.43.59L10.3 9.45l-7.72 7.72c-.78.78-.78 2.05 0 2.83L4 21.41c.39.39.9.59 1.41.59.51 0 1.02-.2 1.41-.59l7.78-7.78 2.81-2.81c.8-.78.8-2.07 0-2.86zM5.41 20L4 18.59l7.72-7.72 1.47 1.35L5.41 20z\"/>\n",
              "  </svg>\n",
              "      </button>\n",
              "      \n",
              "  <style>\n",
              "    .colab-df-container {\n",
              "      display:flex;\n",
              "      flex-wrap:wrap;\n",
              "      gap: 12px;\n",
              "    }\n",
              "\n",
              "    .colab-df-convert {\n",
              "      background-color: #E8F0FE;\n",
              "      border: none;\n",
              "      border-radius: 50%;\n",
              "      cursor: pointer;\n",
              "      display: none;\n",
              "      fill: #1967D2;\n",
              "      height: 32px;\n",
              "      padding: 0 0 0 0;\n",
              "      width: 32px;\n",
              "    }\n",
              "\n",
              "    .colab-df-convert:hover {\n",
              "      background-color: #E2EBFA;\n",
              "      box-shadow: 0px 1px 2px rgba(60, 64, 67, 0.3), 0px 1px 3px 1px rgba(60, 64, 67, 0.15);\n",
              "      fill: #174EA6;\n",
              "    }\n",
              "\n",
              "    [theme=dark] .colab-df-convert {\n",
              "      background-color: #3B4455;\n",
              "      fill: #D2E3FC;\n",
              "    }\n",
              "\n",
              "    [theme=dark] .colab-df-convert:hover {\n",
              "      background-color: #434B5C;\n",
              "      box-shadow: 0px 1px 3px 1px rgba(0, 0, 0, 0.15);\n",
              "      filter: drop-shadow(0px 1px 2px rgba(0, 0, 0, 0.3));\n",
              "      fill: #FFFFFF;\n",
              "    }\n",
              "  </style>\n",
              "\n",
              "      <script>\n",
              "        const buttonEl =\n",
              "          document.querySelector('#df-2aef2912-da6e-40e2-b3b3-68001759fe77 button.colab-df-convert');\n",
              "        buttonEl.style.display =\n",
              "          google.colab.kernel.accessAllowed ? 'block' : 'none';\n",
              "\n",
              "        async function convertToInteractive(key) {\n",
              "          const element = document.querySelector('#df-2aef2912-da6e-40e2-b3b3-68001759fe77');\n",
              "          const dataTable =\n",
              "            await google.colab.kernel.invokeFunction('convertToInteractive',\n",
              "                                                     [key], {});\n",
              "          if (!dataTable) return;\n",
              "\n",
              "          const docLinkHtml = 'Like what you see? Visit the ' +\n",
              "            '<a target=\"_blank\" href=https://colab.research.google.com/notebooks/data_table.ipynb>data table notebook</a>'\n",
              "            + ' to learn more about interactive tables.';\n",
              "          element.innerHTML = '';\n",
              "          dataTable['output_type'] = 'display_data';\n",
              "          await google.colab.output.renderOutput(dataTable, element);\n",
              "          const docLink = document.createElement('div');\n",
              "          docLink.innerHTML = docLinkHtml;\n",
              "          element.appendChild(docLink);\n",
              "        }\n",
              "      </script>\n",
              "    </div>\n",
              "  </div>\n",
              "  "
            ]
          },
          "metadata": {},
          "execution_count": 13
        }
      ],
      "source": [
        "df.head()"
      ]
    },
    {
      "cell_type": "markdown",
      "source": [
        "#### Before anything else, let's remove some useless stuff "
      ],
      "metadata": {
        "id": "vfMkZkf5xZ-s"
      }
    },
    {
      "cell_type": "code",
      "source": [
        "# remove old style retweet text \"RT\"\n",
        "def remove_old_style_rt(tweet):\n",
        "  return(re.sub(r'^RT[\\s]+', '', tweet))\n",
        "# remove hyperlinks\n",
        "def remove_hyperlinks(tweet):\n",
        "  return(re.sub(r'https?:\\/\\/.*[\\r\\n]*', '', tweet))\n",
        "# remove hashtag sign\n",
        "def remove_hashtag_sign(tweet):\n",
        "  return(re.sub(r'#', '', tweet))\n",
        "# remove mentions to users\n",
        "def remove_mentions(tweet):\n",
        "  return(re.sub(r'@', '', tweet))\n",
        "# remove skip line\n",
        "def remove_skip_line(tweet):\n",
        "  return(re.sub(r'\\n', '', tweet))\n",
        "  "
      ],
      "metadata": {
        "id": "latOZ-DfxZEh"
      },
      "execution_count": 14,
      "outputs": []
    },
    {
      "cell_type": "code",
      "source": [
        "df['text'] = df['text'].apply(remove_old_style_rt)\n",
        "df['text'] = df['text'].apply(remove_hyperlinks)\n",
        "df['text'] = df['text'].apply(remove_hashtag_sign)\n",
        "df['text'] = df['text'].apply(remove_mentions)\n",
        "df['text'] = df['text'].apply(remove_skip_line)"
      ],
      "metadata": {
        "id": "D_fxk2MiyQ6p"
      },
      "execution_count": 15,
      "outputs": []
    },
    {
      "cell_type": "markdown",
      "metadata": {
        "id": "1Tr1uC3tZZBj"
      },
      "source": [
        "#### Now let's check out the length of tweets"
      ]
    },
    {
      "cell_type": "code",
      "execution_count": 16,
      "metadata": {
        "id": "5bKQ-tPVZZBm"
      },
      "outputs": [],
      "source": [
        "df['length'] = df['text'].apply(lambda x: len(x))"
      ]
    },
    {
      "cell_type": "code",
      "execution_count": 17,
      "metadata": {
        "colab": {
          "base_uri": "https://localhost:8080/",
          "height": 206
        },
        "id": "odmr2bBeZZBn",
        "outputId": "7f681e51-ff66-4483-94c5-47b0e8940a95"
      },
      "outputs": [
        {
          "output_type": "execute_result",
          "data": {
            "text/plain": [
              "   username          created_at  \\\n",
              "0  RepAdams 2022-04-30 14:42:28   \n",
              "1  RepAdams 2022-04-29 16:40:17   \n",
              "2  RepAdams 2022-04-29 01:52:24   \n",
              "3  RepAdams 2022-04-25 15:38:45   \n",
              "4  RepAdams 2022-04-22 19:57:41   \n",
              "\n",
              "                                                text lang label retweet_count  \\\n",
              "0  Today my thoughts are with the entire UNC Char...   en     D             3   \n",
              "1  Welcome to the next President of DavidsonColle...   en     D             1   \n",
              "2  This WorkersMemorialDay, we remember countless...   en     D             2   \n",
              "3  It’s a perfect date to celebrate the 40th Anni...   en     D             3   \n",
              "4  Happy National Volunteer Week!  Volunteers mak...   en     D             2   \n",
              "\n",
              "  favorite_count  length  \n",
              "0             17     263  \n",
              "1              0      62  \n",
              "2              3     262  \n",
              "3             29     163  \n",
              "4              6     182  "
            ],
            "text/html": [
              "\n",
              "  <div id=\"df-a87b6a0b-a73d-4aa7-b7a2-6bc668337005\">\n",
              "    <div class=\"colab-df-container\">\n",
              "      <div>\n",
              "<style scoped>\n",
              "    .dataframe tbody tr th:only-of-type {\n",
              "        vertical-align: middle;\n",
              "    }\n",
              "\n",
              "    .dataframe tbody tr th {\n",
              "        vertical-align: top;\n",
              "    }\n",
              "\n",
              "    .dataframe thead th {\n",
              "        text-align: right;\n",
              "    }\n",
              "</style>\n",
              "<table border=\"1\" class=\"dataframe\">\n",
              "  <thead>\n",
              "    <tr style=\"text-align: right;\">\n",
              "      <th></th>\n",
              "      <th>username</th>\n",
              "      <th>created_at</th>\n",
              "      <th>text</th>\n",
              "      <th>lang</th>\n",
              "      <th>label</th>\n",
              "      <th>retweet_count</th>\n",
              "      <th>favorite_count</th>\n",
              "      <th>length</th>\n",
              "    </tr>\n",
              "  </thead>\n",
              "  <tbody>\n",
              "    <tr>\n",
              "      <th>0</th>\n",
              "      <td>RepAdams</td>\n",
              "      <td>2022-04-30 14:42:28</td>\n",
              "      <td>Today my thoughts are with the entire UNC Char...</td>\n",
              "      <td>en</td>\n",
              "      <td>D</td>\n",
              "      <td>3</td>\n",
              "      <td>17</td>\n",
              "      <td>263</td>\n",
              "    </tr>\n",
              "    <tr>\n",
              "      <th>1</th>\n",
              "      <td>RepAdams</td>\n",
              "      <td>2022-04-29 16:40:17</td>\n",
              "      <td>Welcome to the next President of DavidsonColle...</td>\n",
              "      <td>en</td>\n",
              "      <td>D</td>\n",
              "      <td>1</td>\n",
              "      <td>0</td>\n",
              "      <td>62</td>\n",
              "    </tr>\n",
              "    <tr>\n",
              "      <th>2</th>\n",
              "      <td>RepAdams</td>\n",
              "      <td>2022-04-29 01:52:24</td>\n",
              "      <td>This WorkersMemorialDay, we remember countless...</td>\n",
              "      <td>en</td>\n",
              "      <td>D</td>\n",
              "      <td>2</td>\n",
              "      <td>3</td>\n",
              "      <td>262</td>\n",
              "    </tr>\n",
              "    <tr>\n",
              "      <th>3</th>\n",
              "      <td>RepAdams</td>\n",
              "      <td>2022-04-25 15:38:45</td>\n",
              "      <td>It’s a perfect date to celebrate the 40th Anni...</td>\n",
              "      <td>en</td>\n",
              "      <td>D</td>\n",
              "      <td>3</td>\n",
              "      <td>29</td>\n",
              "      <td>163</td>\n",
              "    </tr>\n",
              "    <tr>\n",
              "      <th>4</th>\n",
              "      <td>RepAdams</td>\n",
              "      <td>2022-04-22 19:57:41</td>\n",
              "      <td>Happy National Volunteer Week!  Volunteers mak...</td>\n",
              "      <td>en</td>\n",
              "      <td>D</td>\n",
              "      <td>2</td>\n",
              "      <td>6</td>\n",
              "      <td>182</td>\n",
              "    </tr>\n",
              "  </tbody>\n",
              "</table>\n",
              "</div>\n",
              "      <button class=\"colab-df-convert\" onclick=\"convertToInteractive('df-a87b6a0b-a73d-4aa7-b7a2-6bc668337005')\"\n",
              "              title=\"Convert this dataframe to an interactive table.\"\n",
              "              style=\"display:none;\">\n",
              "        \n",
              "  <svg xmlns=\"http://www.w3.org/2000/svg\" height=\"24px\"viewBox=\"0 0 24 24\"\n",
              "       width=\"24px\">\n",
              "    <path d=\"M0 0h24v24H0V0z\" fill=\"none\"/>\n",
              "    <path d=\"M18.56 5.44l.94 2.06.94-2.06 2.06-.94-2.06-.94-.94-2.06-.94 2.06-2.06.94zm-11 1L8.5 8.5l.94-2.06 2.06-.94-2.06-.94L8.5 2.5l-.94 2.06-2.06.94zm10 10l.94 2.06.94-2.06 2.06-.94-2.06-.94-.94-2.06-.94 2.06-2.06.94z\"/><path d=\"M17.41 7.96l-1.37-1.37c-.4-.4-.92-.59-1.43-.59-.52 0-1.04.2-1.43.59L10.3 9.45l-7.72 7.72c-.78.78-.78 2.05 0 2.83L4 21.41c.39.39.9.59 1.41.59.51 0 1.02-.2 1.41-.59l7.78-7.78 2.81-2.81c.8-.78.8-2.07 0-2.86zM5.41 20L4 18.59l7.72-7.72 1.47 1.35L5.41 20z\"/>\n",
              "  </svg>\n",
              "      </button>\n",
              "      \n",
              "  <style>\n",
              "    .colab-df-container {\n",
              "      display:flex;\n",
              "      flex-wrap:wrap;\n",
              "      gap: 12px;\n",
              "    }\n",
              "\n",
              "    .colab-df-convert {\n",
              "      background-color: #E8F0FE;\n",
              "      border: none;\n",
              "      border-radius: 50%;\n",
              "      cursor: pointer;\n",
              "      display: none;\n",
              "      fill: #1967D2;\n",
              "      height: 32px;\n",
              "      padding: 0 0 0 0;\n",
              "      width: 32px;\n",
              "    }\n",
              "\n",
              "    .colab-df-convert:hover {\n",
              "      background-color: #E2EBFA;\n",
              "      box-shadow: 0px 1px 2px rgba(60, 64, 67, 0.3), 0px 1px 3px 1px rgba(60, 64, 67, 0.15);\n",
              "      fill: #174EA6;\n",
              "    }\n",
              "\n",
              "    [theme=dark] .colab-df-convert {\n",
              "      background-color: #3B4455;\n",
              "      fill: #D2E3FC;\n",
              "    }\n",
              "\n",
              "    [theme=dark] .colab-df-convert:hover {\n",
              "      background-color: #434B5C;\n",
              "      box-shadow: 0px 1px 3px 1px rgba(0, 0, 0, 0.15);\n",
              "      filter: drop-shadow(0px 1px 2px rgba(0, 0, 0, 0.3));\n",
              "      fill: #FFFFFF;\n",
              "    }\n",
              "  </style>\n",
              "\n",
              "      <script>\n",
              "        const buttonEl =\n",
              "          document.querySelector('#df-a87b6a0b-a73d-4aa7-b7a2-6bc668337005 button.colab-df-convert');\n",
              "        buttonEl.style.display =\n",
              "          google.colab.kernel.accessAllowed ? 'block' : 'none';\n",
              "\n",
              "        async function convertToInteractive(key) {\n",
              "          const element = document.querySelector('#df-a87b6a0b-a73d-4aa7-b7a2-6bc668337005');\n",
              "          const dataTable =\n",
              "            await google.colab.kernel.invokeFunction('convertToInteractive',\n",
              "                                                     [key], {});\n",
              "          if (!dataTable) return;\n",
              "\n",
              "          const docLinkHtml = 'Like what you see? Visit the ' +\n",
              "            '<a target=\"_blank\" href=https://colab.research.google.com/notebooks/data_table.ipynb>data table notebook</a>'\n",
              "            + ' to learn more about interactive tables.';\n",
              "          element.innerHTML = '';\n",
              "          dataTable['output_type'] = 'display_data';\n",
              "          await google.colab.output.renderOutput(dataTable, element);\n",
              "          const docLink = document.createElement('div');\n",
              "          docLink.innerHTML = docLinkHtml;\n",
              "          element.appendChild(docLink);\n",
              "        }\n",
              "      </script>\n",
              "    </div>\n",
              "  </div>\n",
              "  "
            ]
          },
          "metadata": {},
          "execution_count": 17
        }
      ],
      "source": [
        "df.head()"
      ]
    },
    {
      "cell_type": "code",
      "execution_count": 18,
      "metadata": {
        "colab": {
          "base_uri": "https://localhost:8080/"
        },
        "id": "EIHQj0TLZZBo",
        "outputId": "a0144a8e-6cd3-4306-d65d-91786a13fb1d"
      },
      "outputs": [
        {
          "output_type": "stream",
          "name": "stdout",
          "text": [
            "There are 421232 tweets of 250 republican users and 524016 tweets of 270 democrat users\n"
          ]
        }
      ],
      "source": [
        "df_democrats = df[df['label']=='D']\n",
        "df_republicans = df[df['label']=='R']\n",
        "print(f\"There are {len(df_republicans)} tweets of {df_republicans.username.nunique()} republican users\\\n",
        " and {len(df_democrats)} tweets of {df_democrats.username.nunique()} democrat users\")"
      ]
    },
    {
      "cell_type": "code",
      "execution_count": 19,
      "metadata": {
        "colab": {
          "base_uri": "https://localhost:8080/",
          "height": 494
        },
        "id": "K7pi_S7HZZBp",
        "outputId": "b213191b-dee8-4f5d-aeaf-3c35251b6305"
      },
      "outputs": [
        {
          "output_type": "stream",
          "name": "stderr",
          "text": [
            "/usr/local/lib/python3.7/dist-packages/numpy/core/fromnumeric.py:3208: VisibleDeprecationWarning: Creating an ndarray from ragged nested sequences (which is a list-or-tuple of lists-or-tuples-or ndarrays with different lengths or shapes) is deprecated. If you meant to do this, you must specify 'dtype=object' when creating the ndarray.\n",
            "  return asarray(a).size\n",
            "/usr/local/lib/python3.7/dist-packages/matplotlib/cbook/__init__.py:1376: VisibleDeprecationWarning: Creating an ndarray from ragged nested sequences (which is a list-or-tuple of lists-or-tuples-or ndarrays with different lengths or shapes) is deprecated. If you meant to do this, you must specify 'dtype=object' when creating the ndarray.\n",
            "  X = np.atleast_1d(X.T if isinstance(X, np.ndarray) else np.asarray(X))\n"
          ]
        },
        {
          "output_type": "display_data",
          "data": {
            "text/plain": [
              "<Figure size 1296x432 with 1 Axes>"
            ],
            "image/png": "[encoded data removed]"
          },
          "metadata": {
            "needs_background": "light"
          }
        }
      ],
      "source": [
        "plt.rcParams['figure.figsize'] = (18, 6)\n",
        "bins = 150\n",
        "plt.title('Lenght of tweets')\n",
        "plt.hist([df_republicans['length'], df_democrats['length']], alpha = 0.6, bins=bins, \n",
        "         label=['Republicans', 'Democrats'], color = ['r','b'])\n",
        "plt.xlabel('Length');\n",
        "plt.ylabel('Count');\n",
        "plt.legend(loc='upper right');\n",
        "plt.xlim(0,150);\n",
        "plt.grid();\n",
        "plt.show();"
      ]
    },
    {
      "cell_type": "markdown",
      "metadata": {
        "id": "LdE-yS0bZZBr"
      },
      "source": [
        "#### Characters in tweets"
      ]
    },
    {
      "cell_type": "code",
      "execution_count": 20,
      "metadata": {
        "colab": {
          "base_uri": "https://localhost:8080/",
          "height": 356
        },
        "id": "Cfquv1sJZZBt",
        "outputId": "a111edb5-7545-4b50-b264-5fb9007c00a8"
      },
      "outputs": [
        {
          "output_type": "display_data",
          "data": {
            "text/plain": [
              "<Figure size 1080x360 with 2 Axes>"
            ],
            "image/png": "[encoded data removed]"
          },
          "metadata": {
            "needs_background": "light"
          }
        }
      ],
      "source": [
        "fig,(ax1,ax2)=plt.subplots(1,2,figsize=(15,5))\n",
        "tweet_len_r=df_republicans['text'].str.len()\n",
        "ax1.hist(tweet_len_r, color='r')\n",
        "ax1.set_title('Republicans')\n",
        "tweet_len_d=df_democrats['text'].str.len()\n",
        "ax2.hist(tweet_len_d, color='b')\n",
        "ax2.set_title('Democrats')\n",
        "fig.suptitle('Characters in tweets')\n",
        "plt.show()"
      ]
    },
    {
      "cell_type": "markdown",
      "metadata": {
        "id": "RZVv9MEsZZBw"
      },
      "source": [
        "#### Temporal distribution of tweets by month"
      ]
    },
    {
      "cell_type": "code",
      "execution_count": 21,
      "metadata": {
        "colab": {
          "base_uri": "https://localhost:8080/",
          "height": 404
        },
        "id": "rhUrnuDpZZBw",
        "outputId": "949b3c06-3958-4746-8d1c-ae0dbc0217b8"
      },
      "outputs": [
        {
          "output_type": "display_data",
          "data": {
            "text/plain": [
              "<Figure size 1296x432 with 1 Axes>"
            ],
            "image/png": "[encoded data removed]"
          },
          "metadata": {
            "needs_background": "light"
          }
        }
      ],
      "source": [
        "fig, ax = plt.subplots(figsize=(18, 6))\n",
        "\n",
        "for label in df.label.unique():\n",
        "    df_temp = df[df['label'] == label].copy()\n",
        "    df_temp['date'] = pd.to_datetime(df_temp['created_at'].dt.strftime('%m/%Y'))\n",
        "    number_users = df_temp.username.nunique()\n",
        "    df_temp = df_temp.groupby(df_temp['date']).size()\n",
        "    #Standarize by number of users\n",
        "    df_temp = df_temp.divide(other = number_users)\n",
        "    color = 'r' if label == 'R' else 'b'\n",
        "    df_temp.plot(label=label, ax=ax, color=color)\n",
        "\n",
        "ax.set_title('Mean of tweets published per month')\n",
        "ax.legend();"
      ]
    },
    {
      "cell_type": "markdown",
      "metadata": {
        "id": "yUK88x31ZZBy"
      },
      "source": [
        "#### Number of words in tweets"
      ]
    },
    {
      "cell_type": "code",
      "execution_count": 22,
      "metadata": {
        "colab": {
          "base_uri": "https://localhost:8080/",
          "height": 356
        },
        "id": "OVZ-BBcaZZBy",
        "outputId": "9f5acc88-b768-4e8a-f620-eb3d9081ef13"
      },
      "outputs": [
        {
          "output_type": "display_data",
          "data": {
            "text/plain": [
              "<Figure size 1080x360 with 2 Axes>"
            ],
            "image/png": "[encoded data removed]"
          },
          "metadata": {
            "needs_background": "light"
          }
        }
      ],
      "source": [
        "fig,(ax1,ax2)=plt.subplots(1,2,figsize=(15,5))\n",
        "tweet_len_r=df_republicans['text'].str.split().map(lambda x: len(x))\n",
        "ax1.hist(tweet_len_r, color='r')\n",
        "ax1.set_title('Republicans')\n",
        "tweet_len_d=df_democrats['text'].str.split().map(lambda x: len(x))\n",
        "ax2.hist(tweet_len_d, color='b')\n",
        "ax2.set_title('Democrats')\n",
        "fig.suptitle('Number of words in tweets')\n",
        "plt.show()"
      ]
    },
    {
      "cell_type": "markdown",
      "metadata": {
        "id": "Ntq99JZmZZBz"
      },
      "source": [
        "#### Average word lenght in tweets"
      ]
    },
    {
      "cell_type": "code",
      "execution_count": 23,
      "metadata": {
        "colab": {
          "base_uri": "https://localhost:8080/",
          "height": 598
        },
        "id": "7MorvwdeZZB0",
        "outputId": "cbacf885-ffef-471b-c954-2eb10178a684"
      },
      "outputs": [
        {
          "output_type": "stream",
          "name": "stderr",
          "text": [
            "/usr/local/lib/python3.7/dist-packages/numpy/core/fromnumeric.py:3441: RuntimeWarning: Mean of empty slice.\n",
            "  out=out, **kwargs)\n",
            "/usr/local/lib/python3.7/dist-packages/numpy/core/_methods.py:189: RuntimeWarning: invalid value encountered in double_scalars\n",
            "  ret = ret.dtype.type(ret / rcount)\n",
            "/usr/local/lib/python3.7/dist-packages/seaborn/distributions.py:2619: FutureWarning: `distplot` is a deprecated function and will be removed in a future version. Please adapt your code to use either `displot` (a figure-level function with similar flexibility) or `histplot` (an axes-level function for histograms).\n",
            "  warnings.warn(msg, FutureWarning)\n",
            "/usr/local/lib/python3.7/dist-packages/numpy/core/fromnumeric.py:3441: RuntimeWarning: Mean of empty slice.\n",
            "  out=out, **kwargs)\n",
            "/usr/local/lib/python3.7/dist-packages/numpy/core/_methods.py:189: RuntimeWarning: invalid value encountered in double_scalars\n",
            "  ret = ret.dtype.type(ret / rcount)\n",
            "/usr/local/lib/python3.7/dist-packages/seaborn/distributions.py:2619: FutureWarning: `distplot` is a deprecated function and will be removed in a future version. Please adapt your code to use either `displot` (a figure-level function with similar flexibility) or `histplot` (an axes-level function for histograms).\n",
            "  warnings.warn(msg, FutureWarning)\n"
          ]
        },
        {
          "output_type": "display_data",
          "data": {
            "text/plain": [
              "<Figure size 1080x360 with 2 Axes>"
            ],
            "image/png": "[encoded data removed]"
          },
          "metadata": {
            "needs_background": "light"
          }
        }
      ],
      "source": [
        "fig,(ax1,ax2)=plt.subplots(1,2,figsize=(15,5))\n",
        "word=df_republicans['text'].str.split().apply(lambda x : [len(i) for i in x])\n",
        "sns.distplot(word.map(lambda x: np.mean(x)),ax=ax1,color='r')\n",
        "ax1.set_title('Republicans')\n",
        "ax1.set(xlim=(0, 20))\n",
        "word=df_democrats['text'].str.split().apply(lambda x : [len(i) for i in x])\n",
        "sns.distplot(word.map(lambda x: np.mean(x)),ax=ax2,color='b')\n",
        "ax2.set_title('Democrats')\n",
        "ax2.set(xlim=(0, 20))\n",
        "fig.suptitle('Average word lenght in tweets');"
      ]
    },
    {
      "cell_type": "code",
      "source": [
        "from nltk.tokenize import TweetTokenizer\n",
        "\n",
        "def create_corpus(label):\n",
        "    tokenizer = TweetTokenizer(preserve_case=False, strip_handles=True,\n",
        "                               reduce_len=True)\n",
        "    corpus = []\n",
        "    for x in df[df['label']==label]['text']:\n",
        "        corpus += tokenizer.tokenize(x)\n",
        "    return corpus"
      ],
      "metadata": {
        "id": "GMq4fMXb0569"
      },
      "execution_count": 24,
      "outputs": []
    },
    {
      "cell_type": "code",
      "source": [
        "create_corpus(label='R')[:20]"
      ],
      "metadata": {
        "colab": {
          "base_uri": "https://localhost:8080/"
        },
        "id": "kqwJ44R36Klt",
        "outputId": "ca07c127-16c0-40ae-b7e2-8b42d6038e78"
      },
      "execution_count": 25,
      "outputs": [
        {
          "output_type": "execute_result",
          "data": {
            "text/plain": [
              "['the',\n",
              " 'failed',\n",
              " 'economic',\n",
              " 'policies',\n",
              " 'of',\n",
              " 'the',\n",
              " 'biden',\n",
              " 'administration',\n",
              " 'are',\n",
              " 'coming',\n",
              " 'home',\n",
              " 'to',\n",
              " 'roost',\n",
              " '.',\n",
              " 'this',\n",
              " 'is',\n",
              " 'a',\n",
              " 'ridiculous',\n",
              " 'statement',\n",
              " '.']"
            ]
          },
          "metadata": {},
          "execution_count": 25
        }
      ]
    },
    {
      "cell_type": "markdown",
      "metadata": {
        "id": "S3nDHUY0ZZB2"
      },
      "source": [
        "#### Punctuation and strange characters in tweets"
      ]
    },
    {
      "cell_type": "code",
      "execution_count": 26,
      "metadata": {
        "colab": {
          "base_uri": "https://localhost:8080/",
          "height": 606
        },
        "id": "dhuhhKjgZZB3",
        "outputId": "90117986-b267-43db-b324-f1d80a3545b4"
      },
      "outputs": [
        {
          "output_type": "display_data",
          "data": {
            "text/plain": [
              "<Figure size 1296x720 with 1 Axes>"
            ],
            "image/png": "[encoded data removed]"
          },
          "metadata": {
            "needs_background": "light"
          }
        }
      ],
      "source": [
        "import string\n",
        "\n",
        "plt.figure(figsize=(18,10))\n",
        "list_of_words = create_corpus(label='R') + create_corpus(label='D')\n",
        "\n",
        "punctuation = string.punctuation\n",
        "special_characters = []\n",
        "\n",
        "for word in list_of_words:\n",
        "    if word in punctuation:\n",
        "        special_characters.append(word)\n",
        "        \n",
        "special_characters_df = pd.DataFrame(special_characters, columns=['Characters'])\n",
        "special_characters_df = special_characters_df.groupby('Characters').size().reset_index(name='Count').sort_values(by='Count', ascending=False)\n",
        "\n",
        "sns.barplot(x=special_characters_df['Count'], y=special_characters_df['Characters']);"
      ]
    },
    {
      "cell_type": "markdown",
      "metadata": {
        "id": "jQcmT2AOZZB4"
      },
      "source": [
        "#### Most common words in tweets"
      ]
    },
    {
      "cell_type": "code",
      "execution_count": 27,
      "metadata": {
        "colab": {
          "base_uri": "https://localhost:8080/"
        },
        "id": "6kUYVGFNZZB4",
        "outputId": "27780864-50a1-41c2-e424-b9adbfbc1403"
      },
      "outputs": [
        {
          "output_type": "execute_result",
          "data": {
            "text/plain": [
              "[('.', 633890),\n",
              " ('the', 562902),\n",
              " ('to', 473631),\n",
              " (',', 342400),\n",
              " ('and', 277238)]"
            ]
          },
          "metadata": {},
          "execution_count": 27
        }
      ],
      "source": [
        "from collections import Counter\n",
        "\n",
        "list_of_words_republicans = create_corpus(label='R')\n",
        "list_of_words_democrats = create_corpus(label='D')\n",
        "top_used_words_republicans = dict(Counter(list_of_words_republicans))\n",
        "top_used_words_democrats = dict(Counter(list_of_words_democrats))\n",
        "top_used_words_ordered_republicans = sorted(top_used_words_republicans.items(), key=lambda x: x[1], reverse=True)\n",
        "top_used_words_ordered_democrats = sorted(top_used_words_democrats.items(), key=lambda x: x[1], reverse=True)\n",
        "top_used_words_ordered_republicans[:5]"
      ]
    },
    {
      "cell_type": "code",
      "execution_count": 28,
      "metadata": {
        "colab": {
          "base_uri": "https://localhost:8080/",
          "height": 390
        },
        "id": "xyjcf43JZZB4",
        "outputId": "6b6665ec-a137-44d4-f092-4c1d45f45676"
      },
      "outputs": [
        {
          "output_type": "display_data",
          "data": {
            "text/plain": [
              "<Figure size 1296x432 with 1 Axes>"
            ],
            "image/png": "[encoded data removed]"
          },
          "metadata": {
            "needs_background": "light"
          }
        }
      ],
      "source": [
        "words = [i[0] for i in top_used_words_ordered_republicans[:20]]\n",
        "count = [i[1] for i in top_used_words_ordered_republicans[:20]]\n",
        "sns.barplot(x=count,y=words).set_title('Most common words in Republicans tweets');"
      ]
    },
    {
      "cell_type": "code",
      "source": [
        "words = [i[0] for i in top_used_words_ordered_democrats[:20]]\n",
        "count = [i[1] for i in top_used_words_ordered_democrats[:20]]\n",
        "sns.barplot(x=count,y=words).set_title('Most common words in Democrats tweets');"
      ],
      "metadata": {
        "colab": {
          "base_uri": "https://localhost:8080/",
          "height": 390
        },
        "id": "jUZv-HxLo3qX",
        "outputId": "4dce827e-46c2-4f15-ed01-1e2305a9958e"
      },
      "execution_count": 29,
      "outputs": [
        {
          "output_type": "display_data",
          "data": {
            "text/plain": [
              "<Figure size 1296x432 with 1 Axes>"
            ],
            "image/png": "[encoded data removed]"
          },
          "metadata": {
            "needs_background": "light"
          }
        }
      ]
    },
    {
      "cell_type": "markdown",
      "metadata": {
        "id": "9S9VrwJWZZB5"
      },
      "source": [
        "#### Most common words in tweets which are not stop words"
      ]
    },
    {
      "cell_type": "code",
      "execution_count": 30,
      "metadata": {
        "scrolled": true,
        "colab": {
          "base_uri": "https://localhost:8080/",
          "height": 370
        },
        "id": "R0bqPmnvZZB5",
        "outputId": "273d9897-1345-443a-d550-7ed531d51fa0"
      },
      "outputs": [
        {
          "output_type": "stream",
          "name": "stdout",
          "text": [
            "[nltk_data] Downloading package stopwords to /root/nltk_data...\n",
            "[nltk_data]   Unzipping corpora/stopwords.zip.\n"
          ]
        },
        {
          "output_type": "display_data",
          "data": {
            "text/plain": [
              "<Figure size 1152x360 with 1 Axes>"
            ],
            "image/png": "[encoded data removed]"
          },
          "metadata": {
            "needs_background": "light"
          }
        }
      ],
      "source": [
        "import nltk\n",
        "from nltk.corpus import stopwords\n",
        "nltk.download('stopwords')\n",
        "stop=set(stopwords.words('english'))\n",
        "import string\n",
        "\n",
        "\n",
        "words = []\n",
        "count = []\n",
        "list_of_rubish = ['&amp;', '-', '…', '’', '“', '—', '”', '✔', 'amp']\n",
        "for word, number in top_used_words_ordered_republicans:\n",
        "    if len(words) > 20:\n",
        "        break\n",
        "    elif (word not in stop) and (word not in list_of_rubish) and (word not in string.punctuation):\n",
        "        words.append(word)\n",
        "        count.append(number)\n",
        "plt.figure(figsize=(16,5))\n",
        "sns.barplot(x=count,y=words).set_title('Most common words in Republicans tweets');"
      ]
    },
    {
      "cell_type": "code",
      "source": [
        ""
      ],
      "metadata": {
        "id": "sMEsf3BCSRKy"
      },
      "execution_count": 30,
      "outputs": []
    },
    {
      "cell_type": "code",
      "source": [
        "words = []\n",
        "count = []\n",
        "for word, number in top_used_words_ordered_democrats:\n",
        "    if len(words) > 20:\n",
        "        break\n",
        "    elif (word not in stop) and (word not in list_of_rubish) and (word not in string.punctuation):\n",
        "        words.append(word)\n",
        "        count.append(number)\n",
        "plt.figure(figsize=(16,5))\n",
        "sns.barplot(x=count,y=words).set_title('Most common words in Democrats tweets');"
      ],
      "metadata": {
        "colab": {
          "base_uri": "https://localhost:8080/",
          "height": 336
        },
        "id": "0E704Pp2pWov",
        "outputId": "50d81100-583c-4cb6-ba9e-c9228bd7e29d"
      },
      "execution_count": 31,
      "outputs": [
        {
          "output_type": "display_data",
          "data": {
            "text/plain": [
              "<Figure size 1152x360 with 1 Axes>"
            ],
            "image/png": "[encoded data removed]"
          },
          "metadata": {
            "needs_background": "light"
          }
        }
      ]
    },
    {
      "cell_type": "markdown",
      "metadata": {
        "id": "RtruJuMzZZB6"
      },
      "source": [
        "#### Most common pairs of words in tweets"
      ]
    },
    {
      "cell_type": "code",
      "source": [
        "def create_list_of_bigrams_new(label):\n",
        "    tokenizer = TweetTokenizer(preserve_case=False, strip_handles=True,\n",
        "                               reduce_len=True)\n",
        "    list_of_bigrams=[]\n",
        "    \n",
        "    for x in df[df['label']==label]['text']:\n",
        "        corpus = tokenizer.tokenize(x)\n",
        "        corpus_cleaned = []\n",
        "        for word in corpus:\n",
        "            if (word not in stop) and (word not in list_of_rubish) and (word not in string.punctuation):\n",
        "                corpus_cleaned.append(word)\n",
        "        for i in range(len(corpus_cleaned)-1):\n",
        "            list_of_bigrams.append(tuple(corpus_cleaned[i:i+2]))\n",
        "    return list_of_bigrams"
      ],
      "metadata": {
        "id": "B7lVYg9zkpKp"
      },
      "execution_count": 32,
      "outputs": []
    },
    {
      "cell_type": "code",
      "execution_count": 33,
      "metadata": {
        "id": "SVXkqYUTZZB7"
      },
      "outputs": [],
      "source": [
        "list_of_bigrams_republicans = create_list_of_bigrams_new(label='R')\n",
        "list_of_bigrams_democrats = create_list_of_bigrams_new(label='D')"
      ]
    },
    {
      "cell_type": "code",
      "execution_count": 34,
      "metadata": {
        "colab": {
          "base_uri": "https://localhost:8080/"
        },
        "id": "pwnwmJc3ZZB7",
        "outputId": "16e0ef15-e8b1-46a3-9c39-f35402126b5f"
      },
      "outputs": [
        {
          "output_type": "execute_result",
          "data": {
            "text/plain": [
              "[(('covid', '19'), 13682),\n",
              " (('president', 'biden'), 6644),\n",
              " (('🇺', '🇸'), 6487),\n",
              " (('⬇', '️'), 6121),\n",
              " (('small', 'businesses'), 6028)]"
            ]
          },
          "metadata": {},
          "execution_count": 34
        }
      ],
      "source": [
        "top_used_bigrams_republicans = dict(Counter(list_of_bigrams_republicans))\n",
        "top_used_bigrams_democrats = dict(Counter(list_of_bigrams_democrats))\n",
        "top_used_bigrams_ordered_republicans = sorted(top_used_bigrams_republicans.items(), key=lambda x: x[1], reverse=True)\n",
        "top_used_bigrams_ordered_democrats = sorted(top_used_bigrams_democrats.items(), key=lambda x: x[1], reverse=True)\n",
        "top_used_bigrams_ordered_republicans[:5]"
      ]
    },
    {
      "cell_type": "code",
      "execution_count": 35,
      "metadata": {
        "id": "9xHlfE-QZZB8"
      },
      "outputs": [],
      "source": [
        "#transform the bigrams from tuple to string\n",
        "for i in range(len(top_used_bigrams_ordered_republicans)):\n",
        "    top_used_bigrams_ordered_republicans[i] = (\" \".join(top_used_bigrams_ordered_republicans[i][0]), top_used_bigrams_ordered_republicans[i][1])\n",
        "for i in range(len(top_used_bigrams_ordered_democrats)):\n",
        "    top_used_bigrams_ordered_democrats[i] = (\" \".join(top_used_bigrams_ordered_democrats[i][0]), top_used_bigrams_ordered_democrats[i][1])"
      ]
    },
    {
      "cell_type": "code",
      "execution_count": 36,
      "metadata": {
        "colab": {
          "base_uri": "https://localhost:8080/"
        },
        "id": "ZpyORA1PZZB8",
        "outputId": "aed2fb86-bf2f-44ab-af6e-84be05710d60"
      },
      "outputs": [
        {
          "output_type": "execute_result",
          "data": {
            "text/plain": [
              "[('covid 19', 13682),\n",
              " ('president biden', 6644),\n",
              " ('🇺 🇸', 6487),\n",
              " ('⬇ ️', 6121),\n",
              " ('small businesses', 6028),\n",
              " ('american people', 6026),\n",
              " ('men women', 5600),\n",
              " ('biden administration', 4976),\n",
              " ('joe biden', 4898),\n",
              " ('united states', 4563),\n",
              " ('law enforcement', 4233),\n",
              " ('health care', 4151),\n",
              " ('southern border', 4128),\n",
              " ('look forward', 4119),\n",
              " ('president trump', 3624),\n",
              " ('national security', 3573),\n",
              " ('last week', 3401),\n",
              " ('last night', 3380),\n",
              " ('➡ ️', 3296),\n",
              " ('every day', 3104)]"
            ]
          },
          "metadata": {},
          "execution_count": 36
        }
      ],
      "source": [
        "top_used_bigrams_ordered_republicans[:20]"
      ]
    },
    {
      "cell_type": "code",
      "execution_count": 37,
      "metadata": {
        "colab": {
          "base_uri": "https://localhost:8080/",
          "height": 549
        },
        "id": "HPn5MFs6ZZB8",
        "outputId": "fc4f9155-105d-43c2-f268-5af710822d2f"
      },
      "outputs": [
        {
          "output_type": "execute_result",
          "data": {
            "text/plain": [
              "Text(0.5, 1.0, 'Most common pairs of words in Republicans tweets')"
            ]
          },
          "metadata": {},
          "execution_count": 37
        },
        {
          "output_type": "stream",
          "name": "stderr",
          "text": [
            "/usr/local/lib/python3.7/dist-packages/matplotlib/backends/backend_agg.py:214: RuntimeWarning: Glyph 127482 missing from current font.\n",
            "  font.set_text(s, 0.0, flags=flags)\n",
            "/usr/local/lib/python3.7/dist-packages/matplotlib/backends/backend_agg.py:214: RuntimeWarning: Glyph 127480 missing from current font.\n",
            "  font.set_text(s, 0.0, flags=flags)\n",
            "/usr/local/lib/python3.7/dist-packages/matplotlib/backends/backend_agg.py:183: RuntimeWarning: Glyph 127482 missing from current font.\n",
            "  font.set_text(s, 0, flags=flags)\n",
            "/usr/local/lib/python3.7/dist-packages/matplotlib/backends/backend_agg.py:183: RuntimeWarning: Glyph 127480 missing from current font.\n",
            "  font.set_text(s, 0, flags=flags)\n"
          ]
        },
        {
          "output_type": "display_data",
          "data": {
            "text/plain": [
              "<Figure size 1296x432 with 1 Axes>"
            ],
            "image/png": "[encoded data removed]"
          },
          "metadata": {
            "needs_background": "light"
          }
        }
      ],
      "source": [
        "x,y=map(list,zip(*top_used_bigrams_ordered_republicans[:20]))\n",
        "sns.barplot(x=y,y=x).set_title('Most common pairs of words in Republicans tweets')"
      ]
    },
    {
      "cell_type": "code",
      "source": [
        "x,y=map(list,zip(*top_used_bigrams_ordered_democrats[:20]))\n",
        "sns.barplot(x=y,y=x).set_title('Most common pairs of words in Democrats tweets')"
      ],
      "metadata": {
        "colab": {
          "base_uri": "https://localhost:8080/",
          "height": 407
        },
        "id": "3u-r4qGprGl1",
        "outputId": "f7442de5-c484-45f4-9859-8a7d85873b57"
      },
      "execution_count": 38,
      "outputs": [
        {
          "output_type": "execute_result",
          "data": {
            "text/plain": [
              "Text(0.5, 1.0, 'Most common pairs of words in Democrats tweets')"
            ]
          },
          "metadata": {},
          "execution_count": 38
        },
        {
          "output_type": "display_data",
          "data": {
            "text/plain": [
              "<Figure size 1296x432 with 1 Axes>"
            ],
            "image/png": "[encoded data removed]"
          },
          "metadata": {
            "needs_background": "light"
          }
        }
      ]
    },
    {
      "cell_type": "markdown",
      "metadata": {
        "id": "3a9ImaIgZZB9"
      },
      "source": [
        "#### I suspect that there are gonna be URLs"
      ]
    },
    {
      "cell_type": "code",
      "execution_count": 39,
      "metadata": {
        "colab": {
          "base_uri": "https://localhost:8080/"
        },
        "id": "PnltahrSZZB9",
        "outputId": "ccbd3c42-bbdf-4bed-ba40-c89c420cdd70"
      },
      "outputs": [
        {
          "output_type": "stream",
          "name": "stdout",
          "text": [
            "Thousands of people across our country suffer from PTSD. If you or anyone you know is in need of aid, please visit https:/ \n",
            "Iraqi Minister of Defense asks why US revealed allies' military plans excellentquestion  aidingtheenemy http:/tinyurl.com/ocov9c6\n",
            "We must continue to work toward digital equity, and end digital redlining for marginalized communities. Proud I joined http_policy for this year's Digital Inclusion Summit. Broadband is transformative! And it is a right, not a privilege. DIS22\n",
            ". YosemiteNPS's 15th Annual \"Facelift\" begins tomorrow and runs through Sunday.For more info and to sign up via NatlParkService -&gt; https//www.nps.gov/yose/learn/news/15th-annual-facelift-to-be-held-in-yosemite-national-park.htm FindYourPark\n",
            "I hope to \"see\" you tomorrow! We'll be discussing ways to cope with the added stress and disruption of our routines, caused by COVID19. Sign up to participate: https\"//bit.ly/2KgqVFv \n",
            "House &amp; Senate Approve Coronavirus Relief:  Legislation Includes Posey’s Provision to Protect NASA &amp; Defense Contractor Jobs and Pay http...\n",
            "It is a badge of honor to be attacked by latimes for fighting for coastal restoration dollars. http ://lat.ms/Q376wO\n",
            "ICYMI: check out the webinar hosted by GDHCC where I discussed the CARESAct and how the legislation will help North Texas small businesses. Please see here for our full COVID19 talk ---&gt; https: \n",
            "READ: The Imperial Presidency http:\n"
          ]
        }
      ],
      "source": [
        "for element in df.query('text.str.contains(\"http\")', engine='python')['text']:\n",
        "  print(element)"
      ]
    },
    {
      "cell_type": "markdown",
      "source": [
        "# DOWNLOAD DF"
      ],
      "metadata": {
        "id": "jaZkoNnjg-sh"
      }
    },
    {
      "cell_type": "code",
      "source": [
        "!ls"
      ],
      "metadata": {
        "id": "kDeJ-Y5Jgp2y",
        "outputId": "cf9565d5-cd8c-4a52-919b-da100d52f0f4",
        "colab": {
          "base_uri": "https://localhost:8080/"
        }
      },
      "execution_count": 40,
      "outputs": [
        {
          "output_type": "stream",
          "name": "stdout",
          "text": [
            "sample_data\n"
          ]
        }
      ]
    },
    {
      "cell_type": "code",
      "source": [
        "import pyarrow as pa\n",
        "import pyarrow.orc as orc\n",
        "from google.colab import files\n",
        "\n",
        "table = pa.Table.from_pandas(df, preserve_index=False)\n",
        "orc.write_table(table, 'working_df.orc')\n",
        "files.download('working_df.orc')"
      ],
      "metadata": {
        "id": "SYJ6esdGpiKh",
        "outputId": "b13baeec-acda-41aa-a62a-d4f76189d538",
        "colab": {
          "base_uri": "https://localhost:8080/",
          "height": 17
        }
      },
      "execution_count": 41,
      "outputs": [
        {
          "output_type": "display_data",
          "data": {
            "text/plain": [
              "<IPython.core.display.Javascript object>"
            ],
            "application/javascript": [
              "\n",
              "    async function download(id, filename, size) {\n",
              "      if (!google.colab.kernel.accessAllowed) {\n",
              "        return;\n",
              "      }\n",
              "      const div = document.createElement('div');\n",
              "      const label = document.createElement('label');\n",
              "      label.textContent = `Downloading \"${filename}\": `;\n",
              "      div.appendChild(label);\n",
              "      const progress = document.createElement('progress');\n",
              "      progress.max = size;\n",
              "      div.appendChild(progress);\n",
              "      document.body.appendChild(div);\n",
              "\n",
              "      const buffers = [];\n",
              "      let downloaded = 0;\n",
              "\n",
              "      const channel = await google.colab.kernel.comms.open(id);\n",
              "      // Send a message to notify the kernel that we're ready.\n",
              "      channel.send({})\n",
              "\n",
              "      for await (const message of channel.messages) {\n",
              "        // Send a message to notify the kernel that we're ready.\n",
              "        channel.send({})\n",
              "        if (message.buffers) {\n",
              "          for (const buffer of message.buffers) {\n",
              "            buffers.push(buffer);\n",
              "            downloaded += buffer.byteLength;\n",
              "            progress.value = downloaded;\n",
              "          }\n",
              "        }\n",
              "      }\n",
              "      const blob = new Blob(buffers, {type: 'application/binary'});\n",
              "      const a = document.createElement('a');\n",
              "      a.href = window.URL.createObjectURL(blob);\n",
              "      a.download = filename;\n",
              "      div.appendChild(a);\n",
              "      a.click();\n",
              "      div.remove();\n",
              "    }\n",
              "  "
            ]
          },
          "metadata": {}
        },
        {
          "output_type": "display_data",
          "data": {
            "text/plain": [
              "<IPython.core.display.Javascript object>"
            ],
            "application/javascript": [
              "download(\"download_4e92ef85-a871-4b1a-ae02-273867f99888\", \"working_df.orc\", 83229556)"
            ]
          },
          "metadata": {}
        }
      ]
    }
  ],
  "metadata": {
    "kernelspec": {
      "display_name": "Python 3 (ipykernel)",
      "language": "python",
      "name": "python3"
    },
    "language_info": {
      "codemirror_mode": {
        "name": "ipython",
        "version": 3
      },
      "file_extension": ".py",
      "mimetype": "text/x-python",
      "name": "python",
      "nbconvert_exporter": "python",
      "pygments_lexer": "ipython3",
      "version": "3.8.11"
    },
    "colab": {
      "name": "pre_data_cleaning.ipynb",
      "provenance": []
    },
    "accelerator": "GPU"
  },
  "nbformat": 4,
  "nbformat_minor": 0
}