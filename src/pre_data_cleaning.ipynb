{
 "cells": [
  {
   "cell_type": "markdown",
   "metadata": {},
   "source": [
    "## TODO:\n",
    "    1- Add more comments to processes and functions\n",
    "    2- Modify code for more people\n",
    "    3- Add conclusions to plots"
   ]
  },
  {
   "cell_type": "markdown",
   "metadata": {},
   "source": [
    "#### Import libraries"
   ]
  },
  {
   "cell_type": "code",
   "execution_count": 1,
   "metadata": {},
   "outputs": [],
   "source": [
    "import pandas as pd\n",
    "import numpy as np\n",
    "import matplotlib.pyplot as plt\n",
    "from datetime import datetime\n",
    "import seaborn as sns"
   ]
  },
  {
   "cell_type": "markdown",
   "metadata": {},
   "source": [
    "#### Read file"
   ]
  },
  {
   "cell_type": "code",
   "execution_count": 2,
   "metadata": {},
   "outputs": [],
   "source": [
    "df = pd.read_csv('~/Documents/alejandro.ferrero/TFM/data/nadal.csv')\n",
    "#Only in english\n",
    "df = df[df['lang']=='en']"
   ]
  },
  {
   "cell_type": "code",
   "execution_count": 3,
   "metadata": {},
   "outputs": [
    {
     "data": {
      "text/html": [
       "<div>\n",
       "<style scoped>\n",
       "    .dataframe tbody tr th:only-of-type {\n",
       "        vertical-align: middle;\n",
       "    }\n",
       "\n",
       "    .dataframe tbody tr th {\n",
       "        vertical-align: top;\n",
       "    }\n",
       "\n",
       "    .dataframe thead th {\n",
       "        text-align: right;\n",
       "    }\n",
       "</style>\n",
       "<table border=\"1\" class=\"dataframe\">\n",
       "  <thead>\n",
       "    <tr style=\"text-align: right;\">\n",
       "      <th></th>\n",
       "      <th>created_at</th>\n",
       "      <th>id</th>\n",
       "      <th>text</th>\n",
       "      <th>user</th>\n",
       "      <th>lang</th>\n",
       "    </tr>\n",
       "  </thead>\n",
       "  <tbody>\n",
       "    <tr>\n",
       "      <th>0</th>\n",
       "      <td>Tue Feb 08 15:06:11 +0000 2022</td>\n",
       "      <td>1.491066e+18</td>\n",
       "      <td>Hey all @FanJoltLive is launching today w/give...</td>\n",
       "      <td>344634424.0</td>\n",
       "      <td>en</td>\n",
       "    </tr>\n",
       "    <tr>\n",
       "      <th>1</th>\n",
       "      <td>Thu Feb 03 16:16:15 +0000 2022</td>\n",
       "      <td>1.489272e+18</td>\n",
       "      <td>Roger. You book the practice court? Or is it m...</td>\n",
       "      <td>344634424.0</td>\n",
       "      <td>en</td>\n",
       "    </tr>\n",
       "    <tr>\n",
       "      <th>2</th>\n",
       "      <td>Wed Feb 02 18:46:22 +0000 2022</td>\n",
       "      <td>1.488947e+18</td>\n",
       "      <td>Thanks to the fans and to those that have supp...</td>\n",
       "      <td>344634424.0</td>\n",
       "      <td>en</td>\n",
       "    </tr>\n",
       "    <tr>\n",
       "      <th>4</th>\n",
       "      <td>Sun Jan 16 04:34:24 +0000 2022</td>\n",
       "      <td>1.482572e+18</td>\n",
       "      <td>Chris, all the best to you and get well! And I...</td>\n",
       "      <td>344634424.0</td>\n",
       "      <td>en</td>\n",
       "    </tr>\n",
       "    <tr>\n",
       "      <th>5</th>\n",
       "      <td>Sat Jan 15 05:45:43 +0000 2022</td>\n",
       "      <td>1.482227e+18</td>\n",
       "      <td>This year, @Kia_Worldwide will turn ocean wast...</td>\n",
       "      <td>344634424.0</td>\n",
       "      <td>en</td>\n",
       "    </tr>\n",
       "  </tbody>\n",
       "</table>\n",
       "</div>"
      ],
      "text/plain": [
       "                       created_at            id  \\\n",
       "0  Tue Feb 08 15:06:11 +0000 2022  1.491066e+18   \n",
       "1  Thu Feb 03 16:16:15 +0000 2022  1.489272e+18   \n",
       "2  Wed Feb 02 18:46:22 +0000 2022  1.488947e+18   \n",
       "4  Sun Jan 16 04:34:24 +0000 2022  1.482572e+18   \n",
       "5  Sat Jan 15 05:45:43 +0000 2022  1.482227e+18   \n",
       "\n",
       "                                                text         user lang  \n",
       "0  Hey all @FanJoltLive is launching today w/give...  344634424.0   en  \n",
       "1  Roger. You book the practice court? Or is it m...  344634424.0   en  \n",
       "2  Thanks to the fans and to those that have supp...  344634424.0   en  \n",
       "4  Chris, all the best to you and get well! And I...  344634424.0   en  \n",
       "5  This year, @Kia_Worldwide will turn ocean wast...  344634424.0   en  "
      ]
     },
     "execution_count": 3,
     "metadata": {},
     "output_type": "execute_result"
    }
   ],
   "source": [
    "df.head()"
   ]
  },
  {
   "cell_type": "markdown",
   "metadata": {},
   "source": [
    "#### First of all, lets transform twitter date to python datetime"
   ]
  },
  {
   "cell_type": "code",
   "execution_count": 4,
   "metadata": {},
   "outputs": [],
   "source": [
    "def twitter_date_to_datetime(twitter_date):\n",
    "    return datetime.strptime(twitter_date,'%a %b %d %H:%M:%S +0000 %Y')"
   ]
  },
  {
   "cell_type": "code",
   "execution_count": 5,
   "metadata": {},
   "outputs": [],
   "source": [
    "df['created_at'] = df['created_at'].apply(twitter_date_to_datetime)"
   ]
  },
  {
   "cell_type": "code",
   "execution_count": 6,
   "metadata": {},
   "outputs": [
    {
     "data": {
      "text/html": [
       "<div>\n",
       "<style scoped>\n",
       "    .dataframe tbody tr th:only-of-type {\n",
       "        vertical-align: middle;\n",
       "    }\n",
       "\n",
       "    .dataframe tbody tr th {\n",
       "        vertical-align: top;\n",
       "    }\n",
       "\n",
       "    .dataframe thead th {\n",
       "        text-align: right;\n",
       "    }\n",
       "</style>\n",
       "<table border=\"1\" class=\"dataframe\">\n",
       "  <thead>\n",
       "    <tr style=\"text-align: right;\">\n",
       "      <th></th>\n",
       "      <th>created_at</th>\n",
       "      <th>id</th>\n",
       "      <th>text</th>\n",
       "      <th>user</th>\n",
       "      <th>lang</th>\n",
       "    </tr>\n",
       "  </thead>\n",
       "  <tbody>\n",
       "    <tr>\n",
       "      <th>0</th>\n",
       "      <td>2022-02-08 15:06:11</td>\n",
       "      <td>1.491066e+18</td>\n",
       "      <td>Hey all @FanJoltLive is launching today w/give...</td>\n",
       "      <td>344634424.0</td>\n",
       "      <td>en</td>\n",
       "    </tr>\n",
       "    <tr>\n",
       "      <th>1</th>\n",
       "      <td>2022-02-03 16:16:15</td>\n",
       "      <td>1.489272e+18</td>\n",
       "      <td>Roger. You book the practice court? Or is it m...</td>\n",
       "      <td>344634424.0</td>\n",
       "      <td>en</td>\n",
       "    </tr>\n",
       "    <tr>\n",
       "      <th>2</th>\n",
       "      <td>2022-02-02 18:46:22</td>\n",
       "      <td>1.488947e+18</td>\n",
       "      <td>Thanks to the fans and to those that have supp...</td>\n",
       "      <td>344634424.0</td>\n",
       "      <td>en</td>\n",
       "    </tr>\n",
       "    <tr>\n",
       "      <th>4</th>\n",
       "      <td>2022-01-16 04:34:24</td>\n",
       "      <td>1.482572e+18</td>\n",
       "      <td>Chris, all the best to you and get well! And I...</td>\n",
       "      <td>344634424.0</td>\n",
       "      <td>en</td>\n",
       "    </tr>\n",
       "    <tr>\n",
       "      <th>5</th>\n",
       "      <td>2022-01-15 05:45:43</td>\n",
       "      <td>1.482227e+18</td>\n",
       "      <td>This year, @Kia_Worldwide will turn ocean wast...</td>\n",
       "      <td>344634424.0</td>\n",
       "      <td>en</td>\n",
       "    </tr>\n",
       "  </tbody>\n",
       "</table>\n",
       "</div>"
      ],
      "text/plain": [
       "           created_at            id  \\\n",
       "0 2022-02-08 15:06:11  1.491066e+18   \n",
       "1 2022-02-03 16:16:15  1.489272e+18   \n",
       "2 2022-02-02 18:46:22  1.488947e+18   \n",
       "4 2022-01-16 04:34:24  1.482572e+18   \n",
       "5 2022-01-15 05:45:43  1.482227e+18   \n",
       "\n",
       "                                                text         user lang  \n",
       "0  Hey all @FanJoltLive is launching today w/give...  344634424.0   en  \n",
       "1  Roger. You book the practice court? Or is it m...  344634424.0   en  \n",
       "2  Thanks to the fans and to those that have supp...  344634424.0   en  \n",
       "4  Chris, all the best to you and get well! And I...  344634424.0   en  \n",
       "5  This year, @Kia_Worldwide will turn ocean wast...  344634424.0   en  "
      ]
     },
     "execution_count": 6,
     "metadata": {},
     "output_type": "execute_result"
    }
   ],
   "source": [
    "df.head()"
   ]
  },
  {
   "cell_type": "markdown",
   "metadata": {},
   "source": [
    "#### Now let's check out the length of tweets"
   ]
  },
  {
   "cell_type": "code",
   "execution_count": 7,
   "metadata": {},
   "outputs": [],
   "source": [
    "df['length'] = df['text'].apply(lambda x: len(x))"
   ]
  },
  {
   "cell_type": "code",
   "execution_count": 8,
   "metadata": {},
   "outputs": [
    {
     "data": {
      "text/html": [
       "<div>\n",
       "<style scoped>\n",
       "    .dataframe tbody tr th:only-of-type {\n",
       "        vertical-align: middle;\n",
       "    }\n",
       "\n",
       "    .dataframe tbody tr th {\n",
       "        vertical-align: top;\n",
       "    }\n",
       "\n",
       "    .dataframe thead th {\n",
       "        text-align: right;\n",
       "    }\n",
       "</style>\n",
       "<table border=\"1\" class=\"dataframe\">\n",
       "  <thead>\n",
       "    <tr style=\"text-align: right;\">\n",
       "      <th></th>\n",
       "      <th>created_at</th>\n",
       "      <th>id</th>\n",
       "      <th>text</th>\n",
       "      <th>user</th>\n",
       "      <th>lang</th>\n",
       "      <th>length</th>\n",
       "    </tr>\n",
       "  </thead>\n",
       "  <tbody>\n",
       "    <tr>\n",
       "      <th>0</th>\n",
       "      <td>2022-02-08 15:06:11</td>\n",
       "      <td>1.491066e+18</td>\n",
       "      <td>Hey all @FanJoltLive is launching today w/give...</td>\n",
       "      <td>344634424.0</td>\n",
       "      <td>en</td>\n",
       "      <td>144</td>\n",
       "    </tr>\n",
       "    <tr>\n",
       "      <th>1</th>\n",
       "      <td>2022-02-03 16:16:15</td>\n",
       "      <td>1.489272e+18</td>\n",
       "      <td>Roger. You book the practice court? Or is it m...</td>\n",
       "      <td>344634424.0</td>\n",
       "      <td>en</td>\n",
       "      <td>131</td>\n",
       "    </tr>\n",
       "    <tr>\n",
       "      <th>2</th>\n",
       "      <td>2022-02-02 18:46:22</td>\n",
       "      <td>1.488947e+18</td>\n",
       "      <td>Thanks to the fans and to those that have supp...</td>\n",
       "      <td>344634424.0</td>\n",
       "      <td>en</td>\n",
       "      <td>140</td>\n",
       "    </tr>\n",
       "    <tr>\n",
       "      <th>4</th>\n",
       "      <td>2022-01-16 04:34:24</td>\n",
       "      <td>1.482572e+18</td>\n",
       "      <td>Chris, all the best to you and get well! And I...</td>\n",
       "      <td>344634424.0</td>\n",
       "      <td>en</td>\n",
       "      <td>105</td>\n",
       "    </tr>\n",
       "    <tr>\n",
       "      <th>5</th>\n",
       "      <td>2022-01-15 05:45:43</td>\n",
       "      <td>1.482227e+18</td>\n",
       "      <td>This year, @Kia_Worldwide will turn ocean wast...</td>\n",
       "      <td>344634424.0</td>\n",
       "      <td>en</td>\n",
       "      <td>139</td>\n",
       "    </tr>\n",
       "  </tbody>\n",
       "</table>\n",
       "</div>"
      ],
      "text/plain": [
       "           created_at            id  \\\n",
       "0 2022-02-08 15:06:11  1.491066e+18   \n",
       "1 2022-02-03 16:16:15  1.489272e+18   \n",
       "2 2022-02-02 18:46:22  1.488947e+18   \n",
       "4 2022-01-16 04:34:24  1.482572e+18   \n",
       "5 2022-01-15 05:45:43  1.482227e+18   \n",
       "\n",
       "                                                text         user lang  length  \n",
       "0  Hey all @FanJoltLive is launching today w/give...  344634424.0   en     144  \n",
       "1  Roger. You book the practice court? Or is it m...  344634424.0   en     131  \n",
       "2  Thanks to the fans and to those that have supp...  344634424.0   en     140  \n",
       "4  Chris, all the best to you and get well! And I...  344634424.0   en     105  \n",
       "5  This year, @Kia_Worldwide will turn ocean wast...  344634424.0   en     139  "
      ]
     },
     "execution_count": 8,
     "metadata": {},
     "output_type": "execute_result"
    }
   ],
   "source": [
    "df.head()"
   ]
  },
  {
   "cell_type": "code",
   "execution_count": 9,
   "metadata": {},
   "outputs": [
    {
     "data": {
      "image/png": "[encoded data removed]",
      "text/plain": [
       "<Figure size 1296x432 with 1 Axes>"
      ]
     },
     "metadata": {
      "needs_background": "light"
     },
     "output_type": "display_data"
    }
   ],
   "source": [
    "plt.rcParams['figure.figsize'] = (18, 6)\n",
    "bins = 150\n",
    "plt.hist(df['length'], alpha = 0.6, bins=bins, label='Nadal')\n",
    "plt.xlabel('Length')\n",
    "plt.ylabel('Count')\n",
    "plt.legend(loc='upper right')\n",
    "plt.xlim(0,150)\n",
    "plt.grid()\n",
    "plt.show()"
   ]
  },
  {
   "cell_type": "markdown",
   "metadata": {},
   "source": [
    "#### Characters in tweets"
   ]
  },
  {
   "cell_type": "code",
   "execution_count": 10,
   "metadata": {},
   "outputs": [
    {
     "data": {
      "image/png": "[encoded data removed]",
      "text/plain": [
       "<Figure size 576x216 with 2 Axes>"
      ]
     },
     "metadata": {
      "needs_background": "light"
     },
     "output_type": "display_data"
    }
   ],
   "source": [
    "fig,(ax1,ax2)=plt.subplots(1,2,figsize=(8,3))\n",
    "tweet_len=df['text'].str.len()\n",
    "ax1.hist(tweet_len)\n",
    "ax1.set_title('Characters')\n",
    "fig.suptitle('TBD')\n",
    "plt.show()"
   ]
  },
  {
   "cell_type": "markdown",
   "metadata": {},
   "source": [
    "#### Temporal distribution of tweets by month"
   ]
  },
  {
   "cell_type": "code",
   "execution_count": 11,
   "metadata": {},
   "outputs": [
    {
     "data": {
      "image/png": "[encoded data removed]",
      "text/plain": [
       "<Figure size 1296x432 with 1 Axes>"
      ]
     },
     "metadata": {
      "needs_background": "light"
     },
     "output_type": "display_data"
    }
   ],
   "source": [
    "fig, ax = plt.subplots(figsize=(18, 6))\n",
    "\n",
    "df_temp = df.copy()\n",
    "df_temp['date'] = pd.to_datetime(df_temp['created_at'].dt.strftime('%m/%Y'))\n",
    "df_temp = df_temp.groupby(df_temp['date']).size()\n",
    "df_temp.plot(label='Nadal', ax=ax)\n",
    "\n",
    "ax.set_title('Number of tweets published per month')\n",
    "ax.legend();"
   ]
  },
  {
   "cell_type": "markdown",
   "metadata": {},
   "source": [
    "#### Number of words in tweets"
   ]
  },
  {
   "cell_type": "code",
   "execution_count": 12,
   "metadata": {},
   "outputs": [
    {
     "data": {
      "image/png": "[encoded data removed]",
      "text/plain": [
       "<Figure size 720x360 with 2 Axes>"
      ]
     },
     "metadata": {
      "needs_background": "light"
     },
     "output_type": "display_data"
    }
   ],
   "source": [
    "fig,(ax1,ax2)=plt.subplots(1,2,figsize=(10,5))\n",
    "tweet_len=df['text'].str.split().map(lambda x: len(x))\n",
    "ax1.hist(tweet_len)\n",
    "ax1.set_title('Words')\n",
    "fig.suptitle('TBD')\n",
    "plt.show()"
   ]
  },
  {
   "cell_type": "markdown",
   "metadata": {},
   "source": [
    "#### Average word lenght in tweets"
   ]
  },
  {
   "cell_type": "code",
   "execution_count": 13,
   "metadata": {},
   "outputs": [
    {
     "name": "stderr",
     "output_type": "stream",
     "text": [
      "/home/dsc/anaconda3/lib/python3.8/site-packages/seaborn/distributions.py:2619: FutureWarning: `distplot` is a deprecated function and will be removed in a future version. Please adapt your code to use either `displot` (a figure-level function with similar flexibility) or `histplot` (an axes-level function for histograms).\n",
      "  warnings.warn(msg, FutureWarning)\n"
     ]
    },
    {
     "data": {
      "image/png": "[encoded data removed]",
      "text/plain": [
       "<Figure size 720x360 with 2 Axes>"
      ]
     },
     "metadata": {
      "needs_background": "light"
     },
     "output_type": "display_data"
    }
   ],
   "source": [
    "fig,(ax1,ax2)=plt.subplots(1,2,figsize=(10,5))\n",
    "word=df['text'].str.split().apply(lambda x : [len(i) for i in x])\n",
    "sns.distplot(word.map(lambda x: np.mean(x)),ax=ax1,color='blue')\n",
    "ax1.set_title('Nadal')\n",
    "fig.suptitle('TBD');"
   ]
  },
  {
   "cell_type": "code",
   "execution_count": 14,
   "metadata": {},
   "outputs": [],
   "source": [
    "#pending add as argument the ID or name of the person\n",
    "def create_list_of_words():\n",
    "    list_of_words=[]\n",
    "    \n",
    "    for x in df['text'].str.split():\n",
    "        for i in x:\n",
    "            list_of_words.append(i)\n",
    "    return list_of_words"
   ]
  },
  {
   "cell_type": "code",
   "execution_count": 15,
   "metadata": {},
   "outputs": [
    {
     "data": {
      "text/plain": [
       "['Hey',\n",
       " 'all',\n",
       " '@FanJoltLive',\n",
       " 'is',\n",
       " 'launching',\n",
       " 'today',\n",
       " 'w/giveaways',\n",
       " '&amp;',\n",
       " 'JOLTS',\n",
       " 'all',\n",
       " 'while',\n",
       " 'raising',\n",
       " 'money',\n",
       " 'for',\n",
       " 'charity!',\n",
       " 'Want',\n",
       " 'to',\n",
       " 'win',\n",
       " 'a',\n",
       " 'FREE…']"
      ]
     },
     "execution_count": 15,
     "metadata": {},
     "output_type": "execute_result"
    }
   ],
   "source": [
    "create_list_of_words()[:20]"
   ]
  },
  {
   "cell_type": "markdown",
   "metadata": {},
   "source": [
    "#### Punctuation and strange characters in tweets"
   ]
  },
  {
   "cell_type": "code",
   "execution_count": 16,
   "metadata": {},
   "outputs": [
    {
     "data": {
      "image/png": "[encoded data removed]",
      "text/plain": [
       "<Figure size 1296x432 with 1 Axes>"
      ]
     },
     "metadata": {
      "needs_background": "light"
     },
     "output_type": "display_data"
    }
   ],
   "source": [
    "import string\n",
    "\n",
    "plt.figure(figsize=(18,6))\n",
    "list_of_words=create_list_of_words()\n",
    "\n",
    "punctuation = string.punctuation\n",
    "special_characters = []\n",
    "\n",
    "for word in list_of_words:\n",
    "    if word in punctuation:\n",
    "        special_characters.append(word)\n",
    "        \n",
    "dict_count_characters = {i:special_characters.count(i) for i in special_characters}\n",
    "dict_count_characters_ordered = sorted(dict_count_characters.items(), key=lambda x: x[1], reverse=True)\n",
    "\n",
    "characters = [i[0] for i in dict_count_characters_ordered]\n",
    "count = [i[1] for i in dict_count_characters_ordered]\n",
    "\n",
    "sns.barplot(x=count,y=characters);"
   ]
  },
  {
   "cell_type": "markdown",
   "metadata": {},
   "source": [
    "#### Most common words in tweets"
   ]
  },
  {
   "cell_type": "code",
   "execution_count": 17,
   "metadata": {},
   "outputs": [
    {
     "data": {
      "text/plain": [
       "[('the', 644), ('to', 538), ('for', 318), ('in', 287), ('a', 249)]"
      ]
     },
     "execution_count": 17,
     "metadata": {},
     "output_type": "execute_result"
    }
   ],
   "source": [
    "list_of_words=create_list_of_words()\n",
    "top_used_words = {i:list_of_words.count(i) for i in list_of_words}\n",
    "top_used_words_ordered = sorted(top_used_words.items(), key=lambda x: x[1], reverse=True)\n",
    "top_used_words_ordered[:5]"
   ]
  },
  {
   "cell_type": "code",
   "execution_count": 18,
   "metadata": {},
   "outputs": [
    {
     "data": {
      "image/png": "[encoded data removed]",
      "text/plain": [
       "<Figure size 1296x432 with 1 Axes>"
      ]
     },
     "metadata": {
      "needs_background": "light"
     },
     "output_type": "display_data"
    }
   ],
   "source": [
    "words = [i[0] for i in top_used_words_ordered[:20]]\n",
    "count = [i[1] for i in top_used_words_ordered[:20]]\n",
    "sns.barplot(x=count,y=words);"
   ]
  },
  {
   "cell_type": "markdown",
   "metadata": {},
   "source": [
    "#### Most common words in tweets which are not stop words"
   ]
  },
  {
   "cell_type": "code",
   "execution_count": 19,
   "metadata": {
    "scrolled": true
   },
   "outputs": [
    {
     "name": "stderr",
     "output_type": "stream",
     "text": [
      "[nltk_data] Downloading package stopwords to /home/dsc/nltk_data...\n",
      "[nltk_data]   Unzipping corpora/stopwords.zip.\n"
     ]
    },
    {
     "data": {
      "text/plain": [
       "<AxesSubplot:>"
      ]
     },
     "execution_count": 19,
     "metadata": {},
     "output_type": "execute_result"
    },
    {
     "data": {
      "image/png": "[encoded data removed]",
      "text/plain": [
       "<Figure size 1152x360 with 1 Axes>"
      ]
     },
     "metadata": {
      "needs_background": "light"
     },
     "output_type": "display_data"
    }
   ],
   "source": [
    "import nltk\n",
    "from nltk.corpus import stopwords\n",
    "nltk.download('stopwords')\n",
    "stop=set(stopwords.words('english'))\n",
    "\n",
    "words = []\n",
    "count = []\n",
    "for word, number in top_used_words_ordered:\n",
    "    if len(words) > 20:\n",
    "        break\n",
    "    elif (word not in stop):\n",
    "        words.append(word)\n",
    "        count.append(number)\n",
    "\n",
    "plt.figure(figsize=(16,5))\n",
    "sns.barplot(x=count,y=words)"
   ]
  },
  {
   "cell_type": "markdown",
   "metadata": {},
   "source": [
    "#### Most common pairs of words in tweets"
   ]
  },
  {
   "cell_type": "code",
   "execution_count": 20,
   "metadata": {},
   "outputs": [],
   "source": [
    "def create_list_of_bigrams():\n",
    "    list_of_bigrams=[]\n",
    "    \n",
    "    for x in df['text'].str.split():\n",
    "        for i in range(len(x)-1):\n",
    "            list_of_bigrams.append(tuple(x[i:i+2]))\n",
    "    return list_of_bigrams"
   ]
  },
  {
   "cell_type": "code",
   "execution_count": 21,
   "metadata": {},
   "outputs": [],
   "source": [
    "list_of_bigrams = create_list_of_bigrams()"
   ]
  },
  {
   "cell_type": "code",
   "execution_count": 22,
   "metadata": {},
   "outputs": [
    {
     "data": {
      "text/plain": [
       "[(('for', 'the'), 88),\n",
       " (('of', 'the'), 69),\n",
       " (('in', 'the'), 57),\n",
       " (('for', 'your'), 56),\n",
       " (('to', 'the'), 54)]"
      ]
     },
     "execution_count": 22,
     "metadata": {},
     "output_type": "execute_result"
    }
   ],
   "source": [
    "top_used_bigrams = {i:list_of_bigrams.count(i) for i in list_of_bigrams}\n",
    "top_used_bigrams_ordered = sorted(top_used_bigrams.items(), key=lambda x: x[1], reverse=True)\n",
    "top_used_bigrams_ordered[:5]"
   ]
  },
  {
   "cell_type": "code",
   "execution_count": 23,
   "metadata": {},
   "outputs": [],
   "source": [
    "#transform the bigrams from tuple to string\n",
    "for i in range(len(top_used_bigrams_ordered)):\n",
    "    top_used_bigrams_ordered[i] = (\" \".join(top_used_bigrams_ordered[i][0]), top_used_bigrams_ordered[i][1])"
   ]
  },
  {
   "cell_type": "code",
   "execution_count": 24,
   "metadata": {},
   "outputs": [
    {
     "data": {
      "text/plain": [
       "[('for the', 88),\n",
       " ('of the', 69),\n",
       " ('in the', 57),\n",
       " ('for your', 56),\n",
       " ('to the', 54),\n",
       " ('at the', 54),\n",
       " ('a great', 35),\n",
       " ('to be', 33),\n",
       " ('with my', 33),\n",
       " ('with the', 32),\n",
       " ('Thanks for', 29),\n",
       " ('my support', 28),\n",
       " ('Thank you', 28),\n",
       " ('Thanks to', 26),\n",
       " ('support to', 26),\n",
       " ('to my', 25),\n",
       " ('All my', 25),\n",
       " ('to all', 24),\n",
       " ('to play', 24),\n",
       " ('I have', 22)]"
      ]
     },
     "execution_count": 24,
     "metadata": {},
     "output_type": "execute_result"
    }
   ],
   "source": [
    "top_used_bigrams_ordered[:20]"
   ]
  },
  {
   "cell_type": "code",
   "execution_count": 25,
   "metadata": {},
   "outputs": [
    {
     "data": {
      "text/plain": [
       "<AxesSubplot:>"
      ]
     },
     "execution_count": 25,
     "metadata": {},
     "output_type": "execute_result"
    },
    {
     "data": {
      "image/png": "[encoded data removed]",
      "text/plain": [
       "<Figure size 1296x432 with 1 Axes>"
      ]
     },
     "metadata": {
      "needs_background": "light"
     },
     "output_type": "display_data"
    }
   ],
   "source": [
    "x,y=map(list,zip(*top_used_bigrams_ordered[:20]))\n",
    "sns.barplot(x=y,y=x)"
   ]
  },
  {
   "cell_type": "markdown",
   "metadata": {},
   "source": [
    "#### I suspect that there are gonna be URLs"
   ]
  },
  {
   "cell_type": "code",
   "execution_count": 28,
   "metadata": {},
   "outputs": [
    {
     "data": {
      "text/html": [
       "<div>\n",
       "<style scoped>\n",
       "    .dataframe tbody tr th:only-of-type {\n",
       "        vertical-align: middle;\n",
       "    }\n",
       "\n",
       "    .dataframe tbody tr th {\n",
       "        vertical-align: top;\n",
       "    }\n",
       "\n",
       "    .dataframe thead th {\n",
       "        text-align: right;\n",
       "    }\n",
       "</style>\n",
       "<table border=\"1\" class=\"dataframe\">\n",
       "  <thead>\n",
       "    <tr style=\"text-align: right;\">\n",
       "      <th></th>\n",
       "      <th>created_at</th>\n",
       "      <th>id</th>\n",
       "      <th>text</th>\n",
       "      <th>user</th>\n",
       "      <th>lang</th>\n",
       "      <th>length</th>\n",
       "    </tr>\n",
       "  </thead>\n",
       "  <tbody>\n",
       "    <tr>\n",
       "      <th>0</th>\n",
       "      <td>2022-02-08 15:06:11</td>\n",
       "      <td>1.491066e+18</td>\n",
       "      <td>Hey all @FanJoltLive is launching today w/give...</td>\n",
       "      <td>344634424.0</td>\n",
       "      <td>en</td>\n",
       "      <td>144</td>\n",
       "    </tr>\n",
       "    <tr>\n",
       "      <th>1</th>\n",
       "      <td>2022-02-03 16:16:15</td>\n",
       "      <td>1.489272e+18</td>\n",
       "      <td>Roger. You book the practice court? Or is it m...</td>\n",
       "      <td>344634424.0</td>\n",
       "      <td>en</td>\n",
       "      <td>131</td>\n",
       "    </tr>\n",
       "    <tr>\n",
       "      <th>2</th>\n",
       "      <td>2022-02-02 18:46:22</td>\n",
       "      <td>1.488947e+18</td>\n",
       "      <td>Thanks to the fans and to those that have supp...</td>\n",
       "      <td>344634424.0</td>\n",
       "      <td>en</td>\n",
       "      <td>140</td>\n",
       "    </tr>\n",
       "    <tr>\n",
       "      <th>4</th>\n",
       "      <td>2022-01-16 04:34:24</td>\n",
       "      <td>1.482572e+18</td>\n",
       "      <td>Chris, all the best to you and get well! And I...</td>\n",
       "      <td>344634424.0</td>\n",
       "      <td>en</td>\n",
       "      <td>105</td>\n",
       "    </tr>\n",
       "    <tr>\n",
       "      <th>5</th>\n",
       "      <td>2022-01-15 05:45:43</td>\n",
       "      <td>1.482227e+18</td>\n",
       "      <td>This year, @Kia_Worldwide will turn ocean wast...</td>\n",
       "      <td>344634424.0</td>\n",
       "      <td>en</td>\n",
       "      <td>139</td>\n",
       "    </tr>\n",
       "    <tr>\n",
       "      <th>...</th>\n",
       "      <td>...</td>\n",
       "      <td>...</td>\n",
       "      <td>...</td>\n",
       "      <td>...</td>\n",
       "      <td>...</td>\n",
       "      <td>...</td>\n",
       "    </tr>\n",
       "    <tr>\n",
       "      <th>2565</th>\n",
       "      <td>2011-08-06 18:24:23</td>\n",
       "      <td>9.990869e+16</td>\n",
       "      <td>Second training day at Montreal!! Today with m...</td>\n",
       "      <td>344634424.0</td>\n",
       "      <td>en</td>\n",
       "      <td>90</td>\n",
       "    </tr>\n",
       "    <tr>\n",
       "      <th>2567</th>\n",
       "      <td>2011-08-05 23:08:19</td>\n",
       "      <td>9.961776e+16</td>\n",
       "      <td>We are going to have dinner at a Japanese rest...</td>\n",
       "      <td>344634424.0</td>\n",
       "      <td>en</td>\n",
       "      <td>126</td>\n",
       "    </tr>\n",
       "    <tr>\n",
       "      <th>2569</th>\n",
       "      <td>2011-08-05 20:10:04</td>\n",
       "      <td>9.957290e+16</td>\n",
       "      <td>Great training with Alex Bogomolov Jr! Today f...</td>\n",
       "      <td>344634424.0</td>\n",
       "      <td>en</td>\n",
       "      <td>105</td>\n",
       "    </tr>\n",
       "    <tr>\n",
       "      <th>2571</th>\n",
       "      <td>2011-08-05 04:32:47</td>\n",
       "      <td>9.933703e+16</td>\n",
       "      <td>Again at court! Sunny day to play tennis at Mo...</td>\n",
       "      <td>344634424.0</td>\n",
       "      <td>en</td>\n",
       "      <td>74</td>\n",
       "    </tr>\n",
       "    <tr>\n",
       "      <th>2573</th>\n",
       "      <td>2011-08-04 21:21:56</td>\n",
       "      <td>9.922860e+16</td>\n",
       "      <td>We have arrived to Montreal! Going to the hote...</td>\n",
       "      <td>344634424.0</td>\n",
       "      <td>en</td>\n",
       "      <td>139</td>\n",
       "    </tr>\n",
       "  </tbody>\n",
       "</table>\n",
       "<p>708 rows × 6 columns</p>\n",
       "</div>"
      ],
      "text/plain": [
       "              created_at            id  \\\n",
       "0    2022-02-08 15:06:11  1.491066e+18   \n",
       "1    2022-02-03 16:16:15  1.489272e+18   \n",
       "2    2022-02-02 18:46:22  1.488947e+18   \n",
       "4    2022-01-16 04:34:24  1.482572e+18   \n",
       "5    2022-01-15 05:45:43  1.482227e+18   \n",
       "...                  ...           ...   \n",
       "2565 2011-08-06 18:24:23  9.990869e+16   \n",
       "2567 2011-08-05 23:08:19  9.961776e+16   \n",
       "2569 2011-08-05 20:10:04  9.957290e+16   \n",
       "2571 2011-08-05 04:32:47  9.933703e+16   \n",
       "2573 2011-08-04 21:21:56  9.922860e+16   \n",
       "\n",
       "                                                   text         user lang  \\\n",
       "0     Hey all @FanJoltLive is launching today w/give...  344634424.0   en   \n",
       "1     Roger. You book the practice court? Or is it m...  344634424.0   en   \n",
       "2     Thanks to the fans and to those that have supp...  344634424.0   en   \n",
       "4     Chris, all the best to you and get well! And I...  344634424.0   en   \n",
       "5     This year, @Kia_Worldwide will turn ocean wast...  344634424.0   en   \n",
       "...                                                 ...          ...  ...   \n",
       "2565  Second training day at Montreal!! Today with m...  344634424.0   en   \n",
       "2567  We are going to have dinner at a Japanese rest...  344634424.0   en   \n",
       "2569  Great training with Alex Bogomolov Jr! Today f...  344634424.0   en   \n",
       "2571  Again at court! Sunny day to play tennis at Mo...  344634424.0   en   \n",
       "2573  We have arrived to Montreal! Going to the hote...  344634424.0   en   \n",
       "\n",
       "      length  \n",
       "0        144  \n",
       "1        131  \n",
       "2        140  \n",
       "4        105  \n",
       "5        139  \n",
       "...      ...  \n",
       "2565      90  \n",
       "2567     126  \n",
       "2569     105  \n",
       "2571      74  \n",
       "2573     139  \n",
       "\n",
       "[708 rows x 6 columns]"
      ]
     },
     "execution_count": 28,
     "metadata": {},
     "output_type": "execute_result"
    }
   ],
   "source": [
    "df.query('text.str.contains(\"http\")', engine='python')"
   ]
  },
  {
   "cell_type": "markdown",
   "metadata": {},
   "source": [
    "# WE HAVE TO CLEAN EVERYTHING, THIS IS FULL OF SHIT"
   ]
  }
 ],
 "metadata": {
  "kernelspec": {
   "display_name": "Python 3 (ipykernel)",
   "language": "python",
   "name": "python3"
  },
  "language_info": {
   "codemirror_mode": {
    "name": "ipython",
    "version": 3
   },
   "file_extension": ".py",
   "mimetype": "text/x-python",
   "name": "python",
   "nbconvert_exporter": "python",
   "pygments_lexer": "ipython3",
   "version": "3.8.11"
  }
 },
 "nbformat": 4,
 "nbformat_minor": 2
}
