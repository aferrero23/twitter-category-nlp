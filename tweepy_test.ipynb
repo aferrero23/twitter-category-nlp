{
 "cells": [
  {
   "cell_type": "markdown",
   "metadata": {},
   "source": [
    "!pip install tweepy==3.10.0 \n",
    "\n",
    "!pip install requests \n",
    "\n",
    "!pip install requests-oauthlib "
   ]
  },
  {
   "cell_type": "code",
   "execution_count": null,
   "metadata": {},
   "outputs": [],
   "source": []
  },
  {
   "cell_type": "code",
   "execution_count": 54,
   "metadata": {},
   "outputs": [],
   "source": [
    "with open(\"bearer_token.txt\") as token:\n",
    "    os.environ['BEARER_TOKEN'] = token.read()[:-1]"
   ]
  },
  {
   "cell_type": "code",
   "execution_count": 55,
   "metadata": {},
   "outputs": [
    {
     "data": {
      "text/plain": [
       "'AAAAAAAAAAAAAAAAAAAAAGHhYwEAAAAAeuCzxpVfCredP72JH%2BU7wMQ87Pg%3Dv4Bsit9kZZyIioxv4YE4nQKoFzX8g7OR2KAmHNjwkh1GcxGqUa'"
      ]
     },
     "execution_count": 55,
     "metadata": {},
     "output_type": "execute_result"
    }
   ],
   "source": [
    "os.environ.get(\"BEARER_TOKEN\")"
   ]
  },
  {
   "cell_type": "markdown",
   "metadata": {},
   "source": [
    "#### https://github.com/twitterdev/Twitter-API-v2-sample-code"
   ]
  },
  {
   "cell_type": "code",
   "execution_count": 56,
   "metadata": {},
   "outputs": [],
   "source": [
    "import requests\n",
    "import os\n",
    "import json\n",
    "\n",
    "# To set your environment variables in your terminal run the following line:\n",
    "# export 'BEARER_TOKEN'='<your_bearer_token>'\n",
    "bearer_token = os.environ.get(\"BEARER_TOKEN\")\n",
    "\n",
    "def create_url():\n",
    "    # Replace with user ID below\n",
    "    user_id = 344634424\n",
    "    return \"https://api.twitter.com/2/users/{}/tweets\".format(user_id)\n",
    "\n",
    "\n",
    "def get_params():\n",
    "    # Tweet fields are adjustable.\n",
    "    # Options include:\n",
    "    # attachments, author_id, context_annotations,\n",
    "    # conversation_id, created_at, entities, geo, id,\n",
    "    # in_reply_to_user_id, lang, non_public_metrics, organic_metrics,\n",
    "    # possibly_sensitive, promoted_metrics, public_metrics, referenced_tweets,\n",
    "    # source, text, and withheld\n",
    "    return {\"tweet.fields\": \"created_at\"}\n",
    "\n",
    "\n",
    "def bearer_oauth(r):\n",
    "    \"\"\"\n",
    "    Method required by bearer token authentication.\n",
    "    \"\"\"\n",
    "\n",
    "    r.headers[\"Authorization\"] = f\"Bearer {bearer_token}\"\n",
    "    r.headers[\"User-Agent\"] = \"v2UserTweetsPython\"\n",
    "    return r\n",
    "\n",
    "\n",
    "def connect_to_endpoint(url, params):\n",
    "    response = requests.request(\"GET\", url, auth=bearer_oauth, params=params)\n",
    "    print(response.status_code)\n",
    "    if response.status_code != 200:\n",
    "        raise Exception(\n",
    "            \"Request returned an error: {} {}\".format(\n",
    "                response.status_code, response.text\n",
    "            )\n",
    "        )\n",
    "    return response.json()\n",
    "\n",
    "\n",
    "def main():\n",
    "    url = create_url()\n",
    "    params = get_params()\n",
    "    json_response = connect_to_endpoint(url, params)\n",
    "    print(json.dumps(json_response, indent=4, sort_keys=True))"
   ]
  },
  {
   "cell_type": "code",
   "execution_count": 57,
   "metadata": {},
   "outputs": [
    {
     "name": "stdout",
     "output_type": "stream",
     "text": [
      "200\n",
      "{\n",
      "    \"data\": [\n",
      "        {\n",
      "            \"created_at\": \"2022-02-03T16:16:15.000Z\",\n",
      "            \"id\": \"1489271524871843844\",\n",
      "            \"text\": \"Roger. You book the practice court? Or is it me? \\ud83d\\ude09looking forward to playing again with you my friend! \\ud83d\\udcaa\\ud83c\\udffb\\ud83d\\udc4f\\ud83c\\udffb https://t.co/3chNeGu2hT\"\n",
      "        },\n",
      "        {\n",
      "            \"created_at\": \"2022-02-03T16:15:45.000Z\",\n",
      "            \"id\": \"1489271400623796225\",\n",
      "            \"text\": \"@rogerfederer Roger, who books the practice court? You or me? \\ud83d\\ude09looking forward to playing again with you my friend! \\ud83d\\udcaa\\ud83c\\udffb\\ud83d\\udc4f\\ud83c\\udffb\"\n",
      "        },\n",
      "        {\n",
      "            \"created_at\": \"2022-02-02T18:52:04.000Z\",\n",
      "            \"id\": \"1488948349516632065\",\n",
      "            \"text\": \"RT @Autograph: Welcome to the Autograph family, Rafa. \\n\\nSign up to be the first to know about @RafaelNadal's upcoming collection. https://t\\u2026\"\n",
      "        },\n",
      "        {\n",
      "            \"created_at\": \"2022-02-02T18:46:22.000Z\",\n",
      "            \"id\": \"1488946914611580932\",\n",
      "            \"text\": \"Thanks to the fans and to those that have supported me. \\nNow I want to bring you all closer to my game and my world, in a way I've never done before\\u2026\\nThere's more things to make with @Autograph \\ud83d\\ude09 https://t.co/YCjUc6TxcJ\"\n",
      "        },\n",
      "        {\n",
      "            \"created_at\": \"2022-01-18T04:44:59.000Z\",\n",
      "            \"id\": \"1483299357902663683\",\n",
      "            \"text\": \"Feliz de volver a Acapulco, M\\u00e9xico \\ud83c\\uddf2\\ud83c\\uddfd\\ud83d\\ude09\\ud83d\\ude4f https://t.co/byJ9W92zYM\"\n",
      "        },\n",
      "        {\n",
      "            \"created_at\": \"2022-01-16T04:34:24.000Z\",\n",
      "            \"id\": \"1482571916661919748\",\n",
      "            \"text\": \"Chris, all the best to you and get well! And I am sure I\\u2019ll see you very soon! \\ud83d\\udcaa\\ud83c\\udffb https://t.co/n29jKG9rxi\"\n",
      "        },\n",
      "        {\n",
      "            \"created_at\": \"2022-01-15T05:45:43.000Z\",\n",
      "            \"id\": \"1482227477829525506\",\n",
      "            \"text\": \"This year, @Kia_Worldwide will turn ocean waste into new sustainable sports equipment with every ace that hits the court at the Australian Open.\\nYou can serve your own ace and join the movement today.\\nhttps://t.co/GGy0s8NTS2 &amp; @frnadal\\n\\n#Kia #MovementThatInspires #AcesforOceans https://t.co/95MiMvObUE\"\n",
      "        },\n",
      "        {\n",
      "            \"created_at\": \"2022-01-13T08:34:21.000Z\",\n",
      "            \"id\": \"1481545137281208321\",\n",
      "            \"text\": \"I have made some big moves in my career together with @Kia_Worldwide \\u2028Great things start with a move, so if we all take small steps\\u2028just think how far we can go together.\\u2028\\u2028#Kia #MovementThatInspires #MakeYourMove https://t.co/ByKdK8WfRx\"\n",
      "        },\n",
      "        {\n",
      "            \"created_at\": \"2022-01-09T13:02:54.000Z\",\n",
      "            \"id\": \"1480163168601391107\",\n",
      "            \"text\": \"Very happy to be back playing after all this months\\u2026 and winning \\ud83d\\ude0a\\n\\ud83d\\udcf8@AustralianOpen #AustralianOpen #Melbourne https://t.co/EEul5FfJhE\"\n",
      "        },\n",
      "        {\n",
      "            \"created_at\": \"2021-12-31T08:06:58.000Z\",\n",
      "            \"id\": \"1476827204226990081\",\n",
      "            \"text\": \"\\ud83e\\udd2b Don\\u2019t tell anyone\\u2026 \\n\\u2026 here I am \\ud83d\\ude09 https://t.co/x1F2BJnH3y\"\n",
      "        }\n",
      "    ],\n",
      "    \"meta\": {\n",
      "        \"newest_id\": \"1489271524871843844\",\n",
      "        \"next_token\": \"7140dibdnow9c7btw3z3q3j75rdec1luplfa6z1gcq52p\",\n",
      "        \"oldest_id\": \"1476827204226990081\",\n",
      "        \"result_count\": 10\n",
      "    }\n",
      "}\n"
     ]
    }
   ],
   "source": [
    "main()\n",
    "\n"
   ]
  },
  {
   "cell_type": "code",
   "execution_count": null,
   "metadata": {},
   "outputs": [],
   "source": [
    "# To set your environment variables in your terminal run the following line:\n",
    "# export 'BEARER_TOKEN'='<your_bearer_token>'\n",
    "#bearer_token = os.environ.get(\"BEARER_TOKEN\")\n",
    "bearer_token = bearer_token\n",
    "\n",
    "search_url = \"https://api.twitter.com/2/tweets/search/all\"\n",
    "\n",
    "# Optional params: start_time,end_time,since_id,until_id,max_results,next_token,\n",
    "# expansions,tweet.fields,media.fields,poll.fields,place.fields,user.fields\n",
    "query_params = {'query': 'from:344634424 -is:retweet','tweet.fields': 'author_id'}\n",
    "\n",
    "\n",
    "def bearer_oauth(r):\n",
    "    \"\"\"\n",
    "    Method required by bearer token authentication.\n",
    "    \"\"\"\n",
    "\n",
    "    r.headers[\"Authorization\"] = f\"Bearer {bearer_token}\"\n",
    "    r.headers[\"User-Agent\"] = \"v2FullArchiveSearchPython\"\n",
    "    return r\n",
    "\n",
    "\n",
    "def connect_to_endpoint(url, params):\n",
    "    response = requests.request(\"GET\", search_url, auth=bearer_oauth, params=params)\n",
    "    print(response.status_code)\n",
    "    if response.status_code != 200:\n",
    "        raise Exception(response.status_code, response.text)\n",
    "    return response.json()\n",
    "\n",
    "\n",
    "def main():\n",
    "    json_response = connect_to_endpoint(search_url, query_params)\n",
    "    print(json.dumps(json_response, indent=4, sort_keys=True))\n",
    "\n",
    "\n",
    "if __name__ == \"__main__\":\n",
    "    main()"
   ]
  },
  {
   "cell_type": "code",
   "execution_count": 23,
   "metadata": {},
   "outputs": [
    {
     "name": "stdout",
     "output_type": "stream",
     "text": [
      "Collecting twython\n",
      "  Downloading twython-3.9.1-py3-none-any.whl (33 kB)\n",
      "Requirement already satisfied: requests-oauthlib>=0.4.0 in /home/dsc/anaconda3/lib/python3.8/site-packages (from twython) (1.3.1)\n",
      "Requirement already satisfied: requests>=2.1.0 in /home/dsc/anaconda3/lib/python3.8/site-packages (from twython) (2.26.0)\n",
      "Requirement already satisfied: idna<4,>=2.5 in /home/dsc/anaconda3/lib/python3.8/site-packages (from requests>=2.1.0->twython) (3.2)\n",
      "Requirement already satisfied: certifi>=2017.4.17 in /home/dsc/anaconda3/lib/python3.8/site-packages (from requests>=2.1.0->twython) (2021.5.30)\n",
      "Requirement already satisfied: urllib3<1.27,>=1.21.1 in /home/dsc/anaconda3/lib/python3.8/site-packages (from requests>=2.1.0->twython) (1.26.7)\n",
      "Requirement already satisfied: charset-normalizer~=2.0.0 in /home/dsc/anaconda3/lib/python3.8/site-packages (from requests>=2.1.0->twython) (2.0.4)\n",
      "Requirement already satisfied: oauthlib>=3.0.0 in /home/dsc/anaconda3/lib/python3.8/site-packages (from requests-oauthlib>=0.4.0->twython) (3.2.0)\n",
      "Installing collected packages: twython\n",
      "Successfully installed twython-3.9.1\n"
     ]
    }
   ],
   "source": [
    "!pip install twython"
   ]
  },
  {
   "cell_type": "code",
   "execution_count": 25,
   "metadata": {},
   "outputs": [
    {
     "ename": "TwythonError",
     "evalue": "Twitter API returned a 403 (Forbidden), You currently have Essential access which includes access to Twitter API v2 endpoints only. If you need access to this endpoint, you’ll need to apply for Elevated access via the Developer Portal. You can learn more here: https://developer.twitter.com/en/docs/twitter-api/getting-started/about-twitter-api#v2-access-leve",
     "output_type": "error",
     "traceback": [
      "\u001b[0;31m---------------------------------------------------------------------------\u001b[0m",
      "\u001b[0;31mTwythonError\u001b[0m                              Traceback (most recent call last)",
      "\u001b[0;32m/tmp/ipykernel_33343/3804735448.py\u001b[0m in \u001b[0;36m<module>\u001b[0;34m\u001b[0m\n\u001b[1;32m      4\u001b[0m \u001b[0;34m\u001b[0m\u001b[0m\n\u001b[1;32m      5\u001b[0m \u001b[0mquery\u001b[0m \u001b[0;34m=\u001b[0m \u001b[0;34m'wine OR beer -filter:retweets AND -filter:replies'\u001b[0m\u001b[0;34m\u001b[0m\u001b[0;34m\u001b[0m\u001b[0m\n\u001b[0;32m----> 6\u001b[0;31m \u001b[0mresponse\u001b[0m \u001b[0;34m=\u001b[0m \u001b[0mtwitter\u001b[0m\u001b[0;34m.\u001b[0m\u001b[0msearch\u001b[0m\u001b[0;34m(\u001b[0m\u001b[0mq\u001b[0m\u001b[0;34m=\u001b[0m\u001b[0mquery\u001b[0m\u001b[0;34m,\u001b[0m \u001b[0mcount\u001b[0m\u001b[0;34m=\u001b[0m\u001b[0;36m1\u001b[0m\u001b[0;34m)\u001b[0m\u001b[0;34m\u001b[0m\u001b[0;34m\u001b[0m\u001b[0m\n\u001b[0m",
      "\u001b[0;32m~/anaconda3/lib/python3.8/site-packages/twython/endpoints.py\u001b[0m in \u001b[0;36msearch\u001b[0;34m(self, **params)\u001b[0m\n\u001b[1;32m    291\u001b[0m \u001b[0;34m\u001b[0m\u001b[0m\n\u001b[1;32m    292\u001b[0m         \"\"\"\n\u001b[0;32m--> 293\u001b[0;31m         \u001b[0;32mreturn\u001b[0m \u001b[0mself\u001b[0m\u001b[0;34m.\u001b[0m\u001b[0mget\u001b[0m\u001b[0;34m(\u001b[0m\u001b[0;34m'search/tweets'\u001b[0m\u001b[0;34m,\u001b[0m \u001b[0mparams\u001b[0m\u001b[0;34m=\u001b[0m\u001b[0mparams\u001b[0m\u001b[0;34m)\u001b[0m\u001b[0;34m\u001b[0m\u001b[0;34m\u001b[0m\u001b[0m\n\u001b[0m\u001b[1;32m    294\u001b[0m     \u001b[0msearch\u001b[0m\u001b[0;34m.\u001b[0m\u001b[0miter_mode\u001b[0m \u001b[0;34m=\u001b[0m \u001b[0;34m'id'\u001b[0m\u001b[0;34m\u001b[0m\u001b[0;34m\u001b[0m\u001b[0m\n\u001b[1;32m    295\u001b[0m     \u001b[0msearch\u001b[0m\u001b[0;34m.\u001b[0m\u001b[0miter_key\u001b[0m \u001b[0;34m=\u001b[0m \u001b[0;34m'statuses'\u001b[0m\u001b[0;34m\u001b[0m\u001b[0;34m\u001b[0m\u001b[0m\n",
      "\u001b[0;32m~/anaconda3/lib/python3.8/site-packages/twython/api.py\u001b[0m in \u001b[0;36mget\u001b[0;34m(self, endpoint, params, version)\u001b[0m\n\u001b[1;32m    277\u001b[0m     \u001b[0;32mdef\u001b[0m \u001b[0mget\u001b[0m\u001b[0;34m(\u001b[0m\u001b[0mself\u001b[0m\u001b[0;34m,\u001b[0m \u001b[0mendpoint\u001b[0m\u001b[0;34m,\u001b[0m \u001b[0mparams\u001b[0m\u001b[0;34m=\u001b[0m\u001b[0;32mNone\u001b[0m\u001b[0;34m,\u001b[0m \u001b[0mversion\u001b[0m\u001b[0;34m=\u001b[0m\u001b[0;34m'1.1'\u001b[0m\u001b[0;34m)\u001b[0m\u001b[0;34m:\u001b[0m\u001b[0;34m\u001b[0m\u001b[0;34m\u001b[0m\u001b[0m\n\u001b[1;32m    278\u001b[0m         \u001b[0;34m\"\"\"Shortcut for GET requests via :class:`request`\"\"\"\u001b[0m\u001b[0;34m\u001b[0m\u001b[0;34m\u001b[0m\u001b[0m\n\u001b[0;32m--> 279\u001b[0;31m         \u001b[0;32mreturn\u001b[0m \u001b[0mself\u001b[0m\u001b[0;34m.\u001b[0m\u001b[0mrequest\u001b[0m\u001b[0;34m(\u001b[0m\u001b[0mendpoint\u001b[0m\u001b[0;34m,\u001b[0m \u001b[0mparams\u001b[0m\u001b[0;34m=\u001b[0m\u001b[0mparams\u001b[0m\u001b[0;34m,\u001b[0m \u001b[0mversion\u001b[0m\u001b[0;34m=\u001b[0m\u001b[0mversion\u001b[0m\u001b[0;34m)\u001b[0m\u001b[0;34m\u001b[0m\u001b[0;34m\u001b[0m\u001b[0m\n\u001b[0m\u001b[1;32m    280\u001b[0m \u001b[0;34m\u001b[0m\u001b[0m\n\u001b[1;32m    281\u001b[0m     \u001b[0;32mdef\u001b[0m \u001b[0mpost\u001b[0m\u001b[0;34m(\u001b[0m\u001b[0mself\u001b[0m\u001b[0;34m,\u001b[0m \u001b[0mendpoint\u001b[0m\u001b[0;34m,\u001b[0m \u001b[0mparams\u001b[0m\u001b[0;34m=\u001b[0m\u001b[0;32mNone\u001b[0m\u001b[0;34m,\u001b[0m \u001b[0mversion\u001b[0m\u001b[0;34m=\u001b[0m\u001b[0;34m'1.1'\u001b[0m\u001b[0;34m,\u001b[0m \u001b[0mjson_encoded\u001b[0m\u001b[0;34m=\u001b[0m\u001b[0;32mFalse\u001b[0m\u001b[0;34m)\u001b[0m\u001b[0;34m:\u001b[0m\u001b[0;34m\u001b[0m\u001b[0;34m\u001b[0m\u001b[0m\n",
      "\u001b[0;32m~/anaconda3/lib/python3.8/site-packages/twython/api.py\u001b[0m in \u001b[0;36mrequest\u001b[0;34m(self, endpoint, method, params, version, json_encoded)\u001b[0m\n\u001b[1;32m    270\u001b[0m             \u001b[0murl\u001b[0m \u001b[0;34m=\u001b[0m \u001b[0;34m'%s/%s.json'\u001b[0m \u001b[0;34m%\u001b[0m \u001b[0;34m(\u001b[0m\u001b[0mself\u001b[0m\u001b[0;34m.\u001b[0m\u001b[0mapi_url\u001b[0m \u001b[0;34m%\u001b[0m \u001b[0mversion\u001b[0m\u001b[0;34m,\u001b[0m \u001b[0mendpoint\u001b[0m\u001b[0;34m)\u001b[0m\u001b[0;34m\u001b[0m\u001b[0;34m\u001b[0m\u001b[0m\n\u001b[1;32m    271\u001b[0m \u001b[0;34m\u001b[0m\u001b[0m\n\u001b[0;32m--> 272\u001b[0;31m         content = self._request(url, method=method, params=params,\n\u001b[0m\u001b[1;32m    273\u001b[0m                                 api_call=url, json_encoded=json_encoded)\n\u001b[1;32m    274\u001b[0m \u001b[0;34m\u001b[0m\u001b[0m\n",
      "\u001b[0;32m~/anaconda3/lib/python3.8/site-packages/twython/api.py\u001b[0m in \u001b[0;36m_request\u001b[0;34m(self, url, method, params, api_call, json_encoded)\u001b[0m\n\u001b[1;32m    200\u001b[0m                 \u001b[0mExceptionType\u001b[0m \u001b[0;34m=\u001b[0m \u001b[0mTwythonAuthError\u001b[0m\u001b[0;34m\u001b[0m\u001b[0;34m\u001b[0m\u001b[0m\n\u001b[1;32m    201\u001b[0m \u001b[0;34m\u001b[0m\u001b[0m\n\u001b[0;32m--> 202\u001b[0;31m             raise ExceptionType(\n\u001b[0m\u001b[1;32m    203\u001b[0m                 \u001b[0merror_message\u001b[0m\u001b[0;34m,\u001b[0m\u001b[0;34m\u001b[0m\u001b[0;34m\u001b[0m\u001b[0m\n\u001b[1;32m    204\u001b[0m                 \u001b[0merror_code\u001b[0m\u001b[0;34m=\u001b[0m\u001b[0mresponse\u001b[0m\u001b[0;34m.\u001b[0m\u001b[0mstatus_code\u001b[0m\u001b[0;34m,\u001b[0m\u001b[0;34m\u001b[0m\u001b[0;34m\u001b[0m\u001b[0m\n",
      "\u001b[0;31mTwythonError\u001b[0m: Twitter API returned a 403 (Forbidden), You currently have Essential access which includes access to Twitter API v2 endpoints only. If you need access to this endpoint, you’ll need to apply for Elevated access via the Developer Portal. You can learn more here: https://developer.twitter.com/en/docs/twitter-api/getting-started/about-twitter-api#v2-access-leve"
     ]
    }
   ],
   "source": [
    "import twython\n",
    "\n",
    "twitter = twython.Twython(consumer_key, consumer_secret, access_token, access_token_secret) \n",
    "\n",
    "query = 'wine OR beer -filter:retweets AND -filter:replies' \n",
    "response = twitter.search(q=query, count=1)"
   ]
  },
  {
   "cell_type": "code",
   "execution_count": null,
   "metadata": {},
   "outputs": [],
   "source": []
  },
  {
   "cell_type": "code",
   "execution_count": null,
   "metadata": {},
   "outputs": [],
   "source": []
  },
  {
   "cell_type": "code",
   "execution_count": null,
   "metadata": {},
   "outputs": [],
   "source": []
  },
  {
   "cell_type": "code",
   "execution_count": null,
   "metadata": {},
   "outputs": [],
   "source": []
  }
 ],
 "metadata": {
  "kernelspec": {
   "display_name": "Python 3 (ipykernel)",
   "language": "python",
   "name": "python3"
  },
  "language_info": {
   "codemirror_mode": {
    "name": "ipython",
    "version": 3
   },
   "file_extension": ".py",
   "mimetype": "text/x-python",
   "name": "python",
   "nbconvert_exporter": "python",
   "pygments_lexer": "ipython3",
   "version": "3.8.11"
  }
 },
 "nbformat": 4,
 "nbformat_minor": 2
}
