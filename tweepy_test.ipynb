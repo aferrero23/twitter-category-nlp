{
 "cells": [
  {
   "cell_type": "markdown",
   "metadata": {},
   "source": [
    "### TODO: add to the requirements.txt\n",
    "\n",
    "!pip install tweepy==3.10.0 \n",
    "\n",
    "!pip install requests \n",
    "\n",
    "!pip install twython==3.9.1"
   ]
  },
  {
   "cell_type": "code",
   "execution_count": null,
   "metadata": {},
   "outputs": [],
   "source": []
  },
  {
   "cell_type": "code",
   "execution_count": 104,
   "metadata": {},
   "outputs": [],
   "source": [
    "import json\n",
    "import twython\n",
    "import os"
   ]
  },
  {
   "cell_type": "code",
   "execution_count": 94,
   "metadata": {},
   "outputs": [],
   "source": [
    "with open(\"bearer_token.txt\") as tokens:\n",
    "    tokens_json = json.loads(tokens.read())\n",
    "    #os.environ['BEARER_TOKEN'] = token.read()[:-1]\n",
    "    os.environ['CONSUMER_KEY'] = tokens_json['consumer_key']\n",
    "    os.environ['CONSUMER_SECRET'] = tokens_json['consumer_secret']\n",
    "    os.environ['ACESS_TOKEN'] = tokens_json['access_token']\n",
    "    os.environ['ACESS_TOKEN_SECRET'] = tokens_json['access_token_secret']"
   ]
  },
  {
   "cell_type": "markdown",
   "metadata": {},
   "source": [
    "#### https://github.com/twitterdev/Twitter-API-v2-sample-code (no funciona)"
   ]
  },
  {
   "cell_type": "code",
   "execution_count": 96,
   "metadata": {},
   "outputs": [],
   "source": [
    "consumer_key = os.environ.get(\"CONSUMER_KEY\")\n",
    "consumer_secret = os.environ.get(\"CONSUMER_SECRET\")\n",
    "access_token = os.environ.get(\"ACCESS_TOKEN\")\n",
    "access_token_secret = os.environ.get(\"ACCESS_TOKEN_SECRET\")"
   ]
  },
  {
   "cell_type": "code",
   "execution_count": 102,
   "metadata": {},
   "outputs": [],
   "source": [
    "twitter = twython.Twython(consumer_key, consumer_secret, access_token, access_token_secret) "
   ]
  },
  {
   "cell_type": "code",
   "execution_count": 103,
   "metadata": {},
   "outputs": [],
   "source": [
    "query = 'from:RafaelNadal lang:en -is:retweet -is:reply -is:quote'"
   ]
  },
  {
   "cell_type": "code",
   "execution_count": null,
   "metadata": {},
   "outputs": [],
   "source": [
    "response = twitter.search(q=query, count=1)"
   ]
  },
  {
   "cell_type": "code",
   "execution_count": null,
   "metadata": {},
   "outputs": [],
   "source": [
    "response"
   ]
  },
  {
   "cell_type": "code",
   "execution_count": null,
   "metadata": {},
   "outputs": [],
   "source": []
  }
 ],
 "metadata": {
  "kernelspec": {
   "display_name": "Python 3 (ipykernel)",
   "language": "python",
   "name": "python3"
  },
  "language_info": {
   "codemirror_mode": {
    "name": "ipython",
    "version": 3
   },
   "file_extension": ".py",
   "mimetype": "text/x-python",
   "name": "python",
   "nbconvert_exporter": "python",
   "pygments_lexer": "ipython3",
   "version": "3.8.11"
  }
 },
 "nbformat": 4,
 "nbformat_minor": 2
}
