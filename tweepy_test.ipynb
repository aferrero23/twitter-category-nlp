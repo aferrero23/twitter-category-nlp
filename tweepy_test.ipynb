{
 "cells": [
  {
   "cell_type": "markdown",
   "metadata": {},
   "source": [
    "### TODO: add to the requirements.txt\n",
    "\n",
    "!pip install tweepy==3.10.0 \n",
    "\n",
    "!pip install requests \n",
    "\n",
    "!pip install twython==3.9.1"
   ]
  },
  {
   "cell_type": "markdown",
   "metadata": {},
   "source": [
    "### TODO: include this functionality in an independent module"
   ]
  },
  {
   "cell_type": "code",
   "execution_count": 173,
   "metadata": {},
   "outputs": [],
   "source": [
    "import json\n",
    "from twython import Twython, TwythonError, TwythonRateLimitError\n",
    "import os\n",
    "import pandas as pd"
   ]
  },
  {
   "cell_type": "code",
   "execution_count": 94,
   "metadata": {},
   "outputs": [],
   "source": [
    "with open(\"bearer_token.txt\") as tokens:\n",
    "    tokens_json = json.loads(tokens.read())\n",
    "    #os.environ['BEARER_TOKEN'] = token.read()[:-1]\n",
    "    os.environ['CONSUMER_KEY'] = tokens_json['consumer_key']\n",
    "    os.environ['CONSUMER_SECRET'] = tokens_json['consumer_secret']\n",
    "    os.environ['ACESS_TOKEN'] = tokens_json['access_token']\n",
    "    os.environ['ACESS_TOKEN_SECRET'] = tokens_json['access_token_secret']"
   ]
  },
  {
   "cell_type": "markdown",
   "metadata": {},
   "source": [
    "#### https://github.com/twitterdev/Twitter-API-v2-sample-code (no funciona)"
   ]
  },
  {
   "cell_type": "code",
   "execution_count": 96,
   "metadata": {},
   "outputs": [],
   "source": [
    "consumer_key = os.environ.get(\"CONSUMER_KEY\")\n",
    "consumer_secret = os.environ.get(\"CONSUMER_SECRET\")\n",
    "access_token = os.environ.get(\"ACCESS_TOKEN\")\n",
    "access_token_secret = os.environ.get(\"ACCESS_TOKEN_SECRET\")"
   ]
  },
  {
   "cell_type": "code",
   "execution_count": 102,
   "metadata": {},
   "outputs": [],
   "source": [
    "twitter = Twython(consumer_key, consumer_secret, access_token, access_token_secret) "
   ]
  },
  {
   "cell_type": "code",
   "execution_count": 198,
   "metadata": {},
   "outputs": [],
   "source": [
    "def timeline(user_id, max_id=None):\n",
    "#       \"\"\" \n",
    "#   Loop over a user's timeline, starting at max_id. \n",
    "#   Generator.\n",
    "#  \n",
    "#   We can get up to 15 pages. \n",
    "#   This function loops up to 16 times to make the base case \n",
    "#   `len(tweets) == 0` trigger.\n",
    "#   \"\"\"\n",
    "    for i in range(16):\n",
    "        tweets = twitter.get_user_timeline(screen_name=user_id,\n",
    "                                      max_id=max_id,\n",
    "                                      count=200,\n",
    "                                      trim_user=True,\n",
    "                                      exclude_replies=True,\n",
    "                                      include_rts=False)\n",
    "        if len(tweets) > 0:  # last page should have zero results\n",
    "            for tweet in tweets:\n",
    "                max_id = tweet['id'] - 1\n",
    "                yield tweet\n",
    "        else:\n",
    "            break"
   ]
  },
  {
   "cell_type": "code",
   "execution_count": 199,
   "metadata": {},
   "outputs": [],
   "source": [
    "from datetime import datetime\n",
    "import time\n",
    "\n",
    "def sleep_until(ts):\n",
    " # \"\"\" Sleep until the given UTC UNIX TIMESTAMP. \"\"\"\n",
    "    next_time = datetime.utcfromtimestamp(int(ts))\n",
    "    now = datetime.utcnow()\n",
    "    offset = (next_time - now).seconds\n",
    "    print(\"Enhancing calm. Next try: {} (Currently {})\".format(next_time, now))\n",
    "    print(\"Sleeping for {}...\".format(offset))\n",
    "    time.sleep(offset)\n",
    "    print(\"Continuing...\")"
   ]
  },
  {
   "cell_type": "code",
   "execution_count": 202,
   "metadata": {},
   "outputs": [],
   "source": [
    "fields = ['id', 'user', 'created_at', 'text', 'lang']\n",
    "df_test = pd.DataFrame()\n",
    "max_id = None\n",
    "while True:\n",
    "    try:\n",
    "        for tweet in timeline('RafaelNadal', max_id):\n",
    "            sub = {k: v for k, v in tweet.items() if k in fields}\n",
    "            sub['user'] = sub['user']['id']\n",
    "            df_test = df_test.append(sub, ignore_index=True)\n",
    "            max_id = sub['id']\n",
    "        max_id = None\n",
    "        break\n",
    "    except TwythonRateLimitError as e:\n",
    "        sleep_until(e.retry_after) # sleep until the given date\n",
    "    except TwythonError as e:\n",
    "        # I *think* this is caused by protected profiles. \n",
    "        # I can read some user profile info, but not the timeline\n",
    "        print(e)\n",
    "        print(\"Skipping...\")\n",
    "        break"
   ]
  },
  {
   "cell_type": "code",
   "execution_count": 207,
   "metadata": {},
   "outputs": [
    {
     "data": {
      "text/html": [
       "<div>\n",
       "<style scoped>\n",
       "    .dataframe tbody tr th:only-of-type {\n",
       "        vertical-align: middle;\n",
       "    }\n",
       "\n",
       "    .dataframe tbody tr th {\n",
       "        vertical-align: top;\n",
       "    }\n",
       "\n",
       "    .dataframe thead th {\n",
       "        text-align: right;\n",
       "    }\n",
       "</style>\n",
       "<table border=\"1\" class=\"dataframe\">\n",
       "  <thead>\n",
       "    <tr style=\"text-align: right;\">\n",
       "      <th></th>\n",
       "      <th>created_at</th>\n",
       "      <th>id</th>\n",
       "      <th>text</th>\n",
       "      <th>user</th>\n",
       "      <th>lang</th>\n",
       "    </tr>\n",
       "  </thead>\n",
       "  <tbody>\n",
       "    <tr>\n",
       "      <th>0</th>\n",
       "      <td>Tue Feb 08 15:06:11 +0000 2022</td>\n",
       "      <td>1.491066e+18</td>\n",
       "      <td>Hey all @FanJoltLive is launching today w/give...</td>\n",
       "      <td>344634424.0</td>\n",
       "      <td>en</td>\n",
       "    </tr>\n",
       "    <tr>\n",
       "      <th>1</th>\n",
       "      <td>Thu Feb 03 16:16:15 +0000 2022</td>\n",
       "      <td>1.489272e+18</td>\n",
       "      <td>Roger. You book the practice court? Or is it m...</td>\n",
       "      <td>344634424.0</td>\n",
       "      <td>en</td>\n",
       "    </tr>\n",
       "    <tr>\n",
       "      <th>2</th>\n",
       "      <td>Wed Feb 02 18:46:22 +0000 2022</td>\n",
       "      <td>1.488947e+18</td>\n",
       "      <td>Thanks to the fans and to those that have supp...</td>\n",
       "      <td>344634424.0</td>\n",
       "      <td>en</td>\n",
       "    </tr>\n",
       "    <tr>\n",
       "      <th>3</th>\n",
       "      <td>Tue Jan 18 04:44:59 +0000 2022</td>\n",
       "      <td>1.483299e+18</td>\n",
       "      <td>Feliz de volver a Acapulco, México 🇲🇽😉🙏 https:...</td>\n",
       "      <td>344634424.0</td>\n",
       "      <td>es</td>\n",
       "    </tr>\n",
       "    <tr>\n",
       "      <th>4</th>\n",
       "      <td>Sun Jan 16 04:34:24 +0000 2022</td>\n",
       "      <td>1.482572e+18</td>\n",
       "      <td>Chris, all the best to you and get well! And I...</td>\n",
       "      <td>344634424.0</td>\n",
       "      <td>en</td>\n",
       "    </tr>\n",
       "    <tr>\n",
       "      <th>...</th>\n",
       "      <td>...</td>\n",
       "      <td>...</td>\n",
       "      <td>...</td>\n",
       "      <td>...</td>\n",
       "      <td>...</td>\n",
       "    </tr>\n",
       "    <tr>\n",
       "      <th>2576</th>\n",
       "      <td>Wed Aug 03 09:50:21 +0000 2011</td>\n",
       "      <td>9.869217e+16</td>\n",
       "      <td>Entrenando duro para la gira americana, antes ...</td>\n",
       "      <td>344634424.0</td>\n",
       "      <td>es</td>\n",
       "    </tr>\n",
       "    <tr>\n",
       "      <th>2577</th>\n",
       "      <td>Tue Aug 02 21:26:37 +0000 2011</td>\n",
       "      <td>9.850500e+16</td>\n",
       "      <td>No me esperaba un primer día así!! Gracias a t...</td>\n",
       "      <td>344634424.0</td>\n",
       "      <td>es</td>\n",
       "    </tr>\n",
       "    <tr>\n",
       "      <th>2578</th>\n",
       "      <td>Tue Aug 02 18:30:03 +0000 2011</td>\n",
       "      <td>9.846057e+16</td>\n",
       "      <td>3 de mis primos pequeños en el entrenamiento! ...</td>\n",
       "      <td>344634424.0</td>\n",
       "      <td>es</td>\n",
       "    </tr>\n",
       "    <tr>\n",
       "      <th>2579</th>\n",
       "      <td>Tue Aug 02 12:52:49 +0000 2011</td>\n",
       "      <td>9.837570e+16</td>\n",
       "      <td>Hi all! I have Twitter profile! I am thrilled ...</td>\n",
       "      <td>344634424.0</td>\n",
       "      <td>en</td>\n",
       "    </tr>\n",
       "    <tr>\n",
       "      <th>2580</th>\n",
       "      <td>Tue Aug 02 12:52:26 +0000 2011</td>\n",
       "      <td>9.837560e+16</td>\n",
       "      <td>Buenos días!! Ya soy twittero!! Me hace mucha ...</td>\n",
       "      <td>344634424.0</td>\n",
       "      <td>es</td>\n",
       "    </tr>\n",
       "  </tbody>\n",
       "</table>\n",
       "<p>2581 rows × 5 columns</p>\n",
       "</div>"
      ],
      "text/plain": [
       "                          created_at            id  \\\n",
       "0     Tue Feb 08 15:06:11 +0000 2022  1.491066e+18   \n",
       "1     Thu Feb 03 16:16:15 +0000 2022  1.489272e+18   \n",
       "2     Wed Feb 02 18:46:22 +0000 2022  1.488947e+18   \n",
       "3     Tue Jan 18 04:44:59 +0000 2022  1.483299e+18   \n",
       "4     Sun Jan 16 04:34:24 +0000 2022  1.482572e+18   \n",
       "...                              ...           ...   \n",
       "2576  Wed Aug 03 09:50:21 +0000 2011  9.869217e+16   \n",
       "2577  Tue Aug 02 21:26:37 +0000 2011  9.850500e+16   \n",
       "2578  Tue Aug 02 18:30:03 +0000 2011  9.846057e+16   \n",
       "2579  Tue Aug 02 12:52:49 +0000 2011  9.837570e+16   \n",
       "2580  Tue Aug 02 12:52:26 +0000 2011  9.837560e+16   \n",
       "\n",
       "                                                   text         user lang  \n",
       "0     Hey all @FanJoltLive is launching today w/give...  344634424.0   en  \n",
       "1     Roger. You book the practice court? Or is it m...  344634424.0   en  \n",
       "2     Thanks to the fans and to those that have supp...  344634424.0   en  \n",
       "3     Feliz de volver a Acapulco, México 🇲🇽😉🙏 https:...  344634424.0   es  \n",
       "4     Chris, all the best to you and get well! And I...  344634424.0   en  \n",
       "...                                                 ...          ...  ...  \n",
       "2576  Entrenando duro para la gira americana, antes ...  344634424.0   es  \n",
       "2577  No me esperaba un primer día así!! Gracias a t...  344634424.0   es  \n",
       "2578  3 de mis primos pequeños en el entrenamiento! ...  344634424.0   es  \n",
       "2579  Hi all! I have Twitter profile! I am thrilled ...  344634424.0   en  \n",
       "2580  Buenos días!! Ya soy twittero!! Me hace mucha ...  344634424.0   es  \n",
       "\n",
       "[2581 rows x 5 columns]"
      ]
     },
     "execution_count": 207,
     "metadata": {},
     "output_type": "execute_result"
    }
   ],
   "source": [
    "df_test"
   ]
  },
  {
   "cell_type": "code",
   "execution_count": 206,
   "metadata": {},
   "outputs": [
    {
     "data": {
      "text/plain": [
       "930"
      ]
     },
     "execution_count": 206,
     "metadata": {},
     "output_type": "execute_result"
    }
   ],
   "source": [
    "len(df_test[df_test['lang']=='en'])"
   ]
  },
  {
   "cell_type": "code",
   "execution_count": null,
   "metadata": {},
   "outputs": [],
   "source": []
  },
  {
   "cell_type": "code",
   "execution_count": null,
   "metadata": {},
   "outputs": [],
   "source": []
  }
 ],
 "metadata": {
  "kernelspec": {
   "display_name": "Python 3 (ipykernel)",
   "language": "python",
   "name": "python3"
  },
  "language_info": {
   "codemirror_mode": {
    "name": "ipython",
    "version": 3
   },
   "file_extension": ".py",
   "mimetype": "text/x-python",
   "name": "python",
   "nbconvert_exporter": "python",
   "pygments_lexer": "ipython3",
   "version": "3.8.11"
  }
 },
 "nbformat": 4,
 "nbformat_minor": 2
}
